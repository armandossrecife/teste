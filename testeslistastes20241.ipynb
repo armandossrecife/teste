{
  "nbformat": 4,
  "nbformat_minor": 0,
  "metadata": {
    "colab": {
      "provenance": [],
      "authorship_tag": "ABX9TyMR9Somjbp6+AtewIL7nl0h",
      "include_colab_link": true
    },
    "kernelspec": {
      "name": "python3",
      "display_name": "Python 3"
    },
    "language_info": {
      "name": "python"
    }
  },
  "cells": [
    {
      "cell_type": "markdown",
      "metadata": {
        "id": "view-in-github",
        "colab_type": "text"
      },
      "source": [
        "<a href=\"https://colab.research.google.com/github/armandossrecife/teste/blob/main/testeslistastes20241.ipynb\" target=\"_parent\"><img src=\"https://colab.research.google.com/assets/colab-badge.svg\" alt=\"Open In Colab\"/></a>"
      ]
    },
    {
      "cell_type": "code",
      "execution_count": 1,
      "metadata": {
        "id": "vYcXmxO5Wds5"
      },
      "outputs": [],
      "source": [
        "import pandas"
      ]
    },
    {
      "cell_type": "code",
      "source": [
        "!wget https://raw.githubusercontent.com/armandossrecife/teste/main/alunostes20241.csv"
      ],
      "metadata": {
        "colab": {
          "base_uri": "https://localhost:8080/"
        },
        "id": "_P-mvErLXkBD",
        "outputId": "bcd2bb19-b0a4-4eff-85c3-8586aeb4682b"
      },
      "execution_count": 2,
      "outputs": [
        {
          "output_type": "stream",
          "name": "stdout",
          "text": [
            "--2024-06-25 12:28:40--  https://raw.githubusercontent.com/armandossrecife/teste/main/alunostes20241.csv\n",
            "Resolving raw.githubusercontent.com (raw.githubusercontent.com)... 185.199.108.133, 185.199.109.133, 185.199.110.133, ...\n",
            "Connecting to raw.githubusercontent.com (raw.githubusercontent.com)|185.199.108.133|:443... connected.\n",
            "HTTP request sent, awaiting response... 200 OK\n",
            "Length: 1627 (1.6K) [text/plain]\n",
            "Saving to: ‘alunostes20241.csv’\n",
            "\n",
            "\ralunostes20241.csv    0%[                    ]       0  --.-KB/s               \ralunostes20241.csv  100%[===================>]   1.59K  --.-KB/s    in 0s      \n",
            "\n",
            "2024-06-25 12:28:40 (16.8 MB/s) - ‘alunostes20241.csv’ saved [1627/1627]\n",
            "\n"
          ]
        }
      ]
    },
    {
      "cell_type": "code",
      "source": [
        "!wget https://raw.githubusercontent.com/armandossrecife/teste/main/rlista1.csv\n",
        "!wget https://raw.githubusercontent.com/armandossrecife/teste/main/rlista2.csv\n",
        "!wget https://raw.githubusercontent.com/armandossrecife/teste/main/rlista3.csv\n",
        "!wget https://raw.githubusercontent.com/armandossrecife/teste/main/rlista4.csv"
      ],
      "metadata": {
        "colab": {
          "base_uri": "https://localhost:8080/"
        },
        "id": "CYG9dgzygPoy",
        "outputId": "c9d17cc0-8973-42ff-da82-03f224660f97"
      },
      "execution_count": 16,
      "outputs": [
        {
          "output_type": "stream",
          "name": "stdout",
          "text": [
            "--2024-06-25 13:06:27--  https://raw.githubusercontent.com/armandossrecife/teste/main/rlista1.csv\n",
            "Resolving raw.githubusercontent.com (raw.githubusercontent.com)... 185.199.111.133, 185.199.109.133, 185.199.110.133, ...\n",
            "Connecting to raw.githubusercontent.com (raw.githubusercontent.com)|185.199.111.133|:443... connected.\n",
            "HTTP request sent, awaiting response... 200 OK\n",
            "Length: 1758 (1.7K) [text/plain]\n",
            "Saving to: ‘rlista1.csv’\n",
            "\n",
            "\rrlista1.csv           0%[                    ]       0  --.-KB/s               \rrlista1.csv         100%[===================>]   1.72K  --.-KB/s    in 0s      \n",
            "\n",
            "2024-06-25 13:06:27 (19.3 MB/s) - ‘rlista1.csv’ saved [1758/1758]\n",
            "\n",
            "--2024-06-25 13:06:27--  https://raw.githubusercontent.com/armandossrecife/teste/main/rlista2.csv\n",
            "Resolving raw.githubusercontent.com (raw.githubusercontent.com)... 185.199.108.133, 185.199.109.133, 185.199.110.133, ...\n",
            "Connecting to raw.githubusercontent.com (raw.githubusercontent.com)|185.199.108.133|:443... connected.\n",
            "HTTP request sent, awaiting response... 200 OK\n",
            "Length: 1646 (1.6K) [text/plain]\n",
            "Saving to: ‘rlista2.csv’\n",
            "\n",
            "rlista2.csv         100%[===================>]   1.61K  --.-KB/s    in 0s      \n",
            "\n",
            "2024-06-25 13:06:27 (17.4 MB/s) - ‘rlista2.csv’ saved [1646/1646]\n",
            "\n",
            "--2024-06-25 13:06:27--  https://raw.githubusercontent.com/armandossrecife/teste/main/rlista3.csv\n",
            "Resolving raw.githubusercontent.com (raw.githubusercontent.com)... 185.199.111.133, 185.199.110.133, 185.199.109.133, ...\n",
            "Connecting to raw.githubusercontent.com (raw.githubusercontent.com)|185.199.111.133|:443... connected.\n",
            "HTTP request sent, awaiting response... 200 OK\n",
            "Length: 1579 (1.5K) [text/plain]\n",
            "Saving to: ‘rlista3.csv’\n",
            "\n",
            "rlista3.csv         100%[===================>]   1.54K  --.-KB/s    in 0s      \n",
            "\n",
            "2024-06-25 13:06:28 (19.1 MB/s) - ‘rlista3.csv’ saved [1579/1579]\n",
            "\n",
            "--2024-06-25 13:06:28--  https://raw.githubusercontent.com/armandossrecife/teste/main/rlista4.csv\n",
            "Resolving raw.githubusercontent.com (raw.githubusercontent.com)... 185.199.108.133, 185.199.109.133, 185.199.110.133, ...\n",
            "Connecting to raw.githubusercontent.com (raw.githubusercontent.com)|185.199.108.133|:443... connected.\n",
            "HTTP request sent, awaiting response... 200 OK\n",
            "Length: 1531 (1.5K) [text/plain]\n",
            "Saving to: ‘rlista4.csv’\n",
            "\n",
            "rlista4.csv         100%[===================>]   1.50K  --.-KB/s    in 0s      \n",
            "\n",
            "2024-06-25 13:06:28 (23.9 MB/s) - ‘rlista4.csv’ saved [1531/1531]\n",
            "\n"
          ]
        }
      ]
    },
    {
      "cell_type": "code",
      "source": [
        "df_alunos = pandas.read_csv('alunostes20241.csv')"
      ],
      "metadata": {
        "id": "_wK16fN7Xp0y"
      },
      "execution_count": 17,
      "outputs": []
    },
    {
      "cell_type": "code",
      "source": [
        "df_lista1 = pandas.read_csv('rlista1.csv', sep=';')\n",
        "df_lista2 = pandas.read_csv('rlista2.csv', sep=';')\n",
        "df_lista3 = pandas.read_csv('rlista3.csv', sep=';')\n",
        "df_lista4 = pandas.read_csv('rlista4.csv', sep=';')"
      ],
      "metadata": {
        "id": "c5qF-oHsgYVb"
      },
      "execution_count": 24,
      "outputs": []
    },
    {
      "cell_type": "code",
      "source": [
        "lista1 = df_lista1.Aluno.to_list()\n",
        "lista2 = df_lista2.Aluno.to_list()\n",
        "lista3 = df_lista3.Aluno.to_list()\n",
        "lista4 = df_lista4.Aluno.to_list()"
      ],
      "metadata": {
        "id": "3acM0b-2c851"
      },
      "execution_count": 26,
      "outputs": []
    },
    {
      "cell_type": "code",
      "source": [
        "qtd_lista1, qtd_lista2, qtd_lista3, qtd_lista4 = (34, 32, 31, 30)"
      ],
      "metadata": {
        "id": "TWyav7hYcR3_"
      },
      "execution_count": 31,
      "outputs": []
    },
    {
      "cell_type": "code",
      "source": [
        "print(qtd_lista1, qtd_lista2, qtd_lista3, qtd_lista4)\n",
        "print(len(lista1), len(lista2), len(lista3), len(lista4))"
      ],
      "metadata": {
        "colab": {
          "base_uri": "https://localhost:8080/"
        },
        "id": "tU-xTwDSkYj9",
        "outputId": "804b53f9-97f8-432b-b384-948348ae9b6a"
      },
      "execution_count": 39,
      "outputs": [
        {
          "output_type": "stream",
          "name": "stdout",
          "text": [
            "34 32 31 30\n",
            "34 32 31 30\n"
          ]
        }
      ]
    },
    {
      "cell_type": "code",
      "source": [
        "# Import library\n",
        "import pytest\n",
        "\n",
        "# Test function to compare list lengths\n",
        "@pytest.mark.parametrize(\"lista, expected_qtd\", [\n",
        "    (lista1, qtd_lista1), (lista2, qtd_lista2), (lista3, qtd_lista3), (lista4, qtd_lista4)\n",
        "])\n",
        "def test_lista_lengths(lista, expected_qtd):\n",
        "    \"\"\"This test verifies the length of each list against the expected value.\"\"\"\n",
        "    assert len(lista) == expected_qtd\n",
        "\n",
        "# Run tests\n",
        "#pytest.main()"
      ],
      "metadata": {
        "id": "U-tfBrKegjI8"
      },
      "execution_count": 33,
      "outputs": []
    },
    {
      "cell_type": "code",
      "source": [
        "%run -m pytest"
      ],
      "metadata": {
        "colab": {
          "base_uri": "https://localhost:8080/",
          "height": 478
        },
        "id": "X1MBYxwXiiA5",
        "outputId": "0b720beb-60ab-4bcf-ffd1-745e8b95d86f"
      },
      "execution_count": 34,
      "outputs": [
        {
          "output_type": "stream",
          "name": "stdout",
          "text": [
            "======================================= test session starts ========================================\n",
            "platform linux -- Python 3.10.12, pytest-7.4.4, pluggy-1.5.0\n",
            "rootdir: /content\n",
            "plugins: anyio-3.7.1\n",
            "collected 0 items\n",
            "\n",
            "====================================== no tests ran in 0.04s =======================================\n"
          ]
        },
        {
          "output_type": "error",
          "ename": "SystemExit",
          "evalue": "ExitCode.NO_TESTS_COLLECTED",
          "traceback": [
            "\u001b[0;31m---------------------------------------------------------------------------\u001b[0m",
            "\u001b[0;31mSystemExit\u001b[0m                                Traceback (most recent call last)",
            "\u001b[0;32m/usr/lib/python3.10/runpy.py\u001b[0m in \u001b[0;36mrun_module\u001b[0;34m(mod_name, init_globals, run_name, alter_sys)\u001b[0m\n\u001b[1;32m    222\u001b[0m         \u001b[0mrun_name\u001b[0m \u001b[0;34m=\u001b[0m \u001b[0mmod_name\u001b[0m\u001b[0;34m\u001b[0m\u001b[0;34m\u001b[0m\u001b[0m\n\u001b[1;32m    223\u001b[0m     \u001b[0;32mif\u001b[0m \u001b[0malter_sys\u001b[0m\u001b[0;34m:\u001b[0m\u001b[0;34m\u001b[0m\u001b[0;34m\u001b[0m\u001b[0m\n\u001b[0;32m--> 224\u001b[0;31m         \u001b[0;32mreturn\u001b[0m \u001b[0m_run_module_code\u001b[0m\u001b[0;34m(\u001b[0m\u001b[0mcode\u001b[0m\u001b[0;34m,\u001b[0m \u001b[0minit_globals\u001b[0m\u001b[0;34m,\u001b[0m \u001b[0mrun_name\u001b[0m\u001b[0;34m,\u001b[0m \u001b[0mmod_spec\u001b[0m\u001b[0;34m)\u001b[0m\u001b[0;34m\u001b[0m\u001b[0;34m\u001b[0m\u001b[0m\n\u001b[0m\u001b[1;32m    225\u001b[0m     \u001b[0;32melse\u001b[0m\u001b[0;34m:\u001b[0m\u001b[0;34m\u001b[0m\u001b[0;34m\u001b[0m\u001b[0m\n\u001b[1;32m    226\u001b[0m         \u001b[0;31m# Leave the sys module alone\u001b[0m\u001b[0;34m\u001b[0m\u001b[0;34m\u001b[0m\u001b[0m\n",
            "\u001b[0;32m/usr/lib/python3.10/runpy.py\u001b[0m in \u001b[0;36m_run_module_code\u001b[0;34m(code, init_globals, mod_name, mod_spec, pkg_name, script_name)\u001b[0m\n\u001b[1;32m     94\u001b[0m     \u001b[0;32mwith\u001b[0m \u001b[0m_TempModule\u001b[0m\u001b[0;34m(\u001b[0m\u001b[0mmod_name\u001b[0m\u001b[0;34m)\u001b[0m \u001b[0;32mas\u001b[0m \u001b[0mtemp_module\u001b[0m\u001b[0;34m,\u001b[0m \u001b[0m_ModifiedArgv0\u001b[0m\u001b[0;34m(\u001b[0m\u001b[0mfname\u001b[0m\u001b[0;34m)\u001b[0m\u001b[0;34m:\u001b[0m\u001b[0;34m\u001b[0m\u001b[0;34m\u001b[0m\u001b[0m\n\u001b[1;32m     95\u001b[0m         \u001b[0mmod_globals\u001b[0m \u001b[0;34m=\u001b[0m \u001b[0mtemp_module\u001b[0m\u001b[0;34m.\u001b[0m\u001b[0mmodule\u001b[0m\u001b[0;34m.\u001b[0m\u001b[0m__dict__\u001b[0m\u001b[0;34m\u001b[0m\u001b[0;34m\u001b[0m\u001b[0m\n\u001b[0;32m---> 96\u001b[0;31m         _run_code(code, mod_globals, init_globals,\n\u001b[0m\u001b[1;32m     97\u001b[0m                   mod_name, mod_spec, pkg_name, script_name)\n\u001b[1;32m     98\u001b[0m     \u001b[0;31m# Copy the globals of the temporary module, as they\u001b[0m\u001b[0;34m\u001b[0m\u001b[0;34m\u001b[0m\u001b[0m\n",
            "\u001b[0;32m/usr/lib/python3.10/runpy.py\u001b[0m in \u001b[0;36m_run_code\u001b[0;34m(code, run_globals, init_globals, mod_name, mod_spec, pkg_name, script_name)\u001b[0m\n\u001b[1;32m     84\u001b[0m                        \u001b[0m__package__\u001b[0m \u001b[0;34m=\u001b[0m \u001b[0mpkg_name\u001b[0m\u001b[0;34m,\u001b[0m\u001b[0;34m\u001b[0m\u001b[0;34m\u001b[0m\u001b[0m\n\u001b[1;32m     85\u001b[0m                        __spec__ = mod_spec)\n\u001b[0;32m---> 86\u001b[0;31m     \u001b[0mexec\u001b[0m\u001b[0;34m(\u001b[0m\u001b[0mcode\u001b[0m\u001b[0;34m,\u001b[0m \u001b[0mrun_globals\u001b[0m\u001b[0;34m)\u001b[0m\u001b[0;34m\u001b[0m\u001b[0;34m\u001b[0m\u001b[0m\n\u001b[0m\u001b[1;32m     87\u001b[0m     \u001b[0;32mreturn\u001b[0m \u001b[0mrun_globals\u001b[0m\u001b[0;34m\u001b[0m\u001b[0;34m\u001b[0m\u001b[0m\n\u001b[1;32m     88\u001b[0m \u001b[0;34m\u001b[0m\u001b[0m\n",
            "\u001b[0;32m/usr/local/lib/python3.10/dist-packages/pytest/__main__.py\u001b[0m in \u001b[0;36m<module>\u001b[0;34m\u001b[0m\n\u001b[1;32m      3\u001b[0m \u001b[0;34m\u001b[0m\u001b[0m\n\u001b[1;32m      4\u001b[0m \u001b[0;32mif\u001b[0m \u001b[0m__name__\u001b[0m \u001b[0;34m==\u001b[0m \u001b[0;34m\"__main__\"\u001b[0m\u001b[0;34m:\u001b[0m\u001b[0;34m\u001b[0m\u001b[0;34m\u001b[0m\u001b[0m\n\u001b[0;32m----> 5\u001b[0;31m     \u001b[0;32mraise\u001b[0m \u001b[0mSystemExit\u001b[0m\u001b[0;34m(\u001b[0m\u001b[0mpytest\u001b[0m\u001b[0;34m.\u001b[0m\u001b[0mconsole_main\u001b[0m\u001b[0;34m(\u001b[0m\u001b[0;34m)\u001b[0m\u001b[0;34m)\u001b[0m\u001b[0;34m\u001b[0m\u001b[0;34m\u001b[0m\u001b[0m\n\u001b[0m",
            "\u001b[0;31mSystemExit\u001b[0m: ExitCode.NO_TESTS_COLLECTED"
          ]
        },
        {
          "output_type": "stream",
          "name": "stderr",
          "text": [
            "/usr/local/lib/python3.10/dist-packages/IPython/core/interactiveshell.py:2940: UserWarning: Unknown failure executing module: <pytest>\n",
            "  warn('Unknown failure executing module: <%s>' % mod_name)\n"
          ]
        }
      ]
    },
    {
      "cell_type": "code",
      "source": [
        "# test_list_lengths.py  # Name your file with a standard extension\n",
        "\n",
        "class TestListLengths:\n",
        "    \"\"\"A class containing test cases for list lengths.\"\"\"\n",
        "\n",
        "    # Define expected list lengths\n",
        "    qtd_lista1 = 34\n",
        "    qtd_lista2 = 32\n",
        "    qtd_lista3 = 31\n",
        "    qtd_lista4 = 30\n",
        "\n",
        "    # Create your actual lists here (replace with your data)\n",
        "    lista1 = df_lista1.Aluno.to_list()\n",
        "    lista2 = df_lista2.Aluno.to_list()\n",
        "    lista3 = df_lista3.Aluno.to_list()\n",
        "    lista4 = df_lista4.Aluno.to_list()\n",
        "\n",
        "    @pytest.mark.parametrize(\"lista, expected_qtd\", [\n",
        "        (lista1, qtd_lista1), (lista2, qtd_lista2), (lista3, qtd_lista3), (lista4, qtd_lista4)\n",
        "    ])\n",
        "    def test_list_length(self, lista, expected_qtd):\n",
        "        \"\"\"This test verifies the length of each list against the expected value.\"\"\"\n",
        "        assert len(lista) == expected_qtd\n",
        "\n",
        "# You can uncomment this line if you prefer to run tests automatically in Colab (Method 1)\n",
        "# pytest.main()\n"
      ],
      "metadata": {
        "id": "ThDM6-3tiiZI"
      },
      "execution_count": 35,
      "outputs": []
    },
    {
      "cell_type": "code",
      "source": [
        "%run -m pytest"
      ],
      "metadata": {
        "colab": {
          "base_uri": "https://localhost:8080/",
          "height": 478
        },
        "id": "uYq4_P7KjXC0",
        "outputId": "3c49b7da-4299-495d-c882-a9c6ddae3bc1"
      },
      "execution_count": 36,
      "outputs": [
        {
          "output_type": "stream",
          "name": "stdout",
          "text": [
            "======================================= test session starts ========================================\n",
            "platform linux -- Python 3.10.12, pytest-7.4.4, pluggy-1.5.0\n",
            "rootdir: /content\n",
            "plugins: anyio-3.7.1\n",
            "collected 0 items\n",
            "\n",
            "====================================== no tests ran in 0.03s =======================================\n"
          ]
        },
        {
          "output_type": "error",
          "ename": "SystemExit",
          "evalue": "ExitCode.NO_TESTS_COLLECTED",
          "traceback": [
            "\u001b[0;31m---------------------------------------------------------------------------\u001b[0m",
            "\u001b[0;31mSystemExit\u001b[0m                                Traceback (most recent call last)",
            "\u001b[0;32m/usr/lib/python3.10/runpy.py\u001b[0m in \u001b[0;36mrun_module\u001b[0;34m(mod_name, init_globals, run_name, alter_sys)\u001b[0m\n\u001b[1;32m    222\u001b[0m         \u001b[0mrun_name\u001b[0m \u001b[0;34m=\u001b[0m \u001b[0mmod_name\u001b[0m\u001b[0;34m\u001b[0m\u001b[0;34m\u001b[0m\u001b[0m\n\u001b[1;32m    223\u001b[0m     \u001b[0;32mif\u001b[0m \u001b[0malter_sys\u001b[0m\u001b[0;34m:\u001b[0m\u001b[0;34m\u001b[0m\u001b[0;34m\u001b[0m\u001b[0m\n\u001b[0;32m--> 224\u001b[0;31m         \u001b[0;32mreturn\u001b[0m \u001b[0m_run_module_code\u001b[0m\u001b[0;34m(\u001b[0m\u001b[0mcode\u001b[0m\u001b[0;34m,\u001b[0m \u001b[0minit_globals\u001b[0m\u001b[0;34m,\u001b[0m \u001b[0mrun_name\u001b[0m\u001b[0;34m,\u001b[0m \u001b[0mmod_spec\u001b[0m\u001b[0;34m)\u001b[0m\u001b[0;34m\u001b[0m\u001b[0;34m\u001b[0m\u001b[0m\n\u001b[0m\u001b[1;32m    225\u001b[0m     \u001b[0;32melse\u001b[0m\u001b[0;34m:\u001b[0m\u001b[0;34m\u001b[0m\u001b[0;34m\u001b[0m\u001b[0m\n\u001b[1;32m    226\u001b[0m         \u001b[0;31m# Leave the sys module alone\u001b[0m\u001b[0;34m\u001b[0m\u001b[0;34m\u001b[0m\u001b[0m\n",
            "\u001b[0;32m/usr/lib/python3.10/runpy.py\u001b[0m in \u001b[0;36m_run_module_code\u001b[0;34m(code, init_globals, mod_name, mod_spec, pkg_name, script_name)\u001b[0m\n\u001b[1;32m     94\u001b[0m     \u001b[0;32mwith\u001b[0m \u001b[0m_TempModule\u001b[0m\u001b[0;34m(\u001b[0m\u001b[0mmod_name\u001b[0m\u001b[0;34m)\u001b[0m \u001b[0;32mas\u001b[0m \u001b[0mtemp_module\u001b[0m\u001b[0;34m,\u001b[0m \u001b[0m_ModifiedArgv0\u001b[0m\u001b[0;34m(\u001b[0m\u001b[0mfname\u001b[0m\u001b[0;34m)\u001b[0m\u001b[0;34m:\u001b[0m\u001b[0;34m\u001b[0m\u001b[0;34m\u001b[0m\u001b[0m\n\u001b[1;32m     95\u001b[0m         \u001b[0mmod_globals\u001b[0m \u001b[0;34m=\u001b[0m \u001b[0mtemp_module\u001b[0m\u001b[0;34m.\u001b[0m\u001b[0mmodule\u001b[0m\u001b[0;34m.\u001b[0m\u001b[0m__dict__\u001b[0m\u001b[0;34m\u001b[0m\u001b[0;34m\u001b[0m\u001b[0m\n\u001b[0;32m---> 96\u001b[0;31m         _run_code(code, mod_globals, init_globals,\n\u001b[0m\u001b[1;32m     97\u001b[0m                   mod_name, mod_spec, pkg_name, script_name)\n\u001b[1;32m     98\u001b[0m     \u001b[0;31m# Copy the globals of the temporary module, as they\u001b[0m\u001b[0;34m\u001b[0m\u001b[0;34m\u001b[0m\u001b[0m\n",
            "\u001b[0;32m/usr/lib/python3.10/runpy.py\u001b[0m in \u001b[0;36m_run_code\u001b[0;34m(code, run_globals, init_globals, mod_name, mod_spec, pkg_name, script_name)\u001b[0m\n\u001b[1;32m     84\u001b[0m                        \u001b[0m__package__\u001b[0m \u001b[0;34m=\u001b[0m \u001b[0mpkg_name\u001b[0m\u001b[0;34m,\u001b[0m\u001b[0;34m\u001b[0m\u001b[0;34m\u001b[0m\u001b[0m\n\u001b[1;32m     85\u001b[0m                        __spec__ = mod_spec)\n\u001b[0;32m---> 86\u001b[0;31m     \u001b[0mexec\u001b[0m\u001b[0;34m(\u001b[0m\u001b[0mcode\u001b[0m\u001b[0;34m,\u001b[0m \u001b[0mrun_globals\u001b[0m\u001b[0;34m)\u001b[0m\u001b[0;34m\u001b[0m\u001b[0;34m\u001b[0m\u001b[0m\n\u001b[0m\u001b[1;32m     87\u001b[0m     \u001b[0;32mreturn\u001b[0m \u001b[0mrun_globals\u001b[0m\u001b[0;34m\u001b[0m\u001b[0;34m\u001b[0m\u001b[0m\n\u001b[1;32m     88\u001b[0m \u001b[0;34m\u001b[0m\u001b[0m\n",
            "\u001b[0;32m/usr/local/lib/python3.10/dist-packages/pytest/__main__.py\u001b[0m in \u001b[0;36m<module>\u001b[0;34m\u001b[0m\n\u001b[1;32m      3\u001b[0m \u001b[0;34m\u001b[0m\u001b[0m\n\u001b[1;32m      4\u001b[0m \u001b[0;32mif\u001b[0m \u001b[0m__name__\u001b[0m \u001b[0;34m==\u001b[0m \u001b[0;34m\"__main__\"\u001b[0m\u001b[0;34m:\u001b[0m\u001b[0;34m\u001b[0m\u001b[0;34m\u001b[0m\u001b[0m\n\u001b[0;32m----> 5\u001b[0;31m     \u001b[0;32mraise\u001b[0m \u001b[0mSystemExit\u001b[0m\u001b[0;34m(\u001b[0m\u001b[0mpytest\u001b[0m\u001b[0;34m.\u001b[0m\u001b[0mconsole_main\u001b[0m\u001b[0;34m(\u001b[0m\u001b[0;34m)\u001b[0m\u001b[0;34m)\u001b[0m\u001b[0;34m\u001b[0m\u001b[0;34m\u001b[0m\u001b[0m\n\u001b[0m",
            "\u001b[0;31mSystemExit\u001b[0m: ExitCode.NO_TESTS_COLLECTED"
          ]
        },
        {
          "output_type": "stream",
          "name": "stderr",
          "text": [
            "/usr/local/lib/python3.10/dist-packages/IPython/core/interactiveshell.py:2940: UserWarning: Unknown failure executing module: <pytest>\n",
            "  warn('Unknown failure executing module: <%s>' % mod_name)\n"
          ]
        }
      ]
    },
    {
      "cell_type": "code",
      "source": [
        "%run -m pytest"
      ],
      "metadata": {
        "colab": {
          "base_uri": "https://localhost:8080/",
          "height": 1000
        },
        "id": "NF7yOCbFjXRZ",
        "outputId": "4c0815f6-ee51-478c-b7e8-c158cf836147"
      },
      "execution_count": 37,
      "outputs": [
        {
          "output_type": "stream",
          "name": "stdout",
          "text": [
            "======================================= test session starts ========================================\n",
            "platform linux -- Python 3.10.12, pytest-7.4.4, pluggy-1.5.0\n",
            "rootdir: /content\n",
            "plugins: anyio-3.7.1\n",
            "collected 4 items\n",
            "\n",
            "test_list_lengths.py FFFF                                                                    [100%]\n",
            "\n",
            "============================================= FAILURES =============================================\n",
            "___________________________ TestListLengths.test_list_length[lista0-34] ____________________________\n",
            "\n",
            "self = <test_list_lengths.TestListLengths object at 0x7af51ebb0100>, lista = [Ellipsis]\n",
            "expected_qtd = 34\n",
            "\n",
            "    @pytest.mark.parametrize(\"lista, expected_qtd\", [\n",
            "        (lista1, qtd_lista1), (lista2, qtd_lista2), (lista3, qtd_lista3), (lista4, qtd_lista4)\n",
            "    ])\n",
            "    def test_list_length(self, lista, expected_qtd):\n",
            "        \"\"\"This test verifies the length of each list against the expected value.\"\"\"\n",
            ">       assert len(lista) == expected_qtd\n",
            "E       assert 1 == 34\n",
            "E        +  where 1 = len([Ellipsis])\n",
            "\n",
            "test_list_lengths.py:26: AssertionError\n",
            "___________________________ TestListLengths.test_list_length[lista1-32] ____________________________\n",
            "\n",
            "self = <test_list_lengths.TestListLengths object at 0x7af51ebb1f00>, lista = [Ellipsis]\n",
            "expected_qtd = 32\n",
            "\n",
            "    @pytest.mark.parametrize(\"lista, expected_qtd\", [\n",
            "        (lista1, qtd_lista1), (lista2, qtd_lista2), (lista3, qtd_lista3), (lista4, qtd_lista4)\n",
            "    ])\n",
            "    def test_list_length(self, lista, expected_qtd):\n",
            "        \"\"\"This test verifies the length of each list against the expected value.\"\"\"\n",
            ">       assert len(lista) == expected_qtd\n",
            "E       assert 1 == 32\n",
            "E        +  where 1 = len([Ellipsis])\n",
            "\n",
            "test_list_lengths.py:26: AssertionError\n",
            "___________________________ TestListLengths.test_list_length[lista2-31] ____________________________\n",
            "\n",
            "self = <test_list_lengths.TestListLengths object at 0x7af51ebb0be0>, lista = [Ellipsis]\n",
            "expected_qtd = 31\n",
            "\n",
            "    @pytest.mark.parametrize(\"lista, expected_qtd\", [\n",
            "        (lista1, qtd_lista1), (lista2, qtd_lista2), (lista3, qtd_lista3), (lista4, qtd_lista4)\n",
            "    ])\n",
            "    def test_list_length(self, lista, expected_qtd):\n",
            "        \"\"\"This test verifies the length of each list against the expected value.\"\"\"\n",
            ">       assert len(lista) == expected_qtd\n",
            "E       assert 1 == 31\n",
            "E        +  where 1 = len([Ellipsis])\n",
            "\n",
            "test_list_lengths.py:26: AssertionError\n",
            "___________________________ TestListLengths.test_list_length[lista3-30] ____________________________\n",
            "\n",
            "self = <test_list_lengths.TestListLengths object at 0x7af51ebb0bb0>, lista = [Ellipsis]\n",
            "expected_qtd = 30\n",
            "\n",
            "    @pytest.mark.parametrize(\"lista, expected_qtd\", [\n",
            "        (lista1, qtd_lista1), (lista2, qtd_lista2), (lista3, qtd_lista3), (lista4, qtd_lista4)\n",
            "    ])\n",
            "    def test_list_length(self, lista, expected_qtd):\n",
            "        \"\"\"This test verifies the length of each list against the expected value.\"\"\"\n",
            ">       assert len(lista) == expected_qtd\n",
            "E       assert 1 == 30\n",
            "E        +  where 1 = len([Ellipsis])\n",
            "\n",
            "test_list_lengths.py:26: AssertionError\n",
            "===================================== short test summary info ======================================\n",
            "FAILED test_list_lengths.py::TestListLengths::test_list_length[lista0-34] - assert 1 == 34\n",
            "FAILED test_list_lengths.py::TestListLengths::test_list_length[lista1-32] - assert 1 == 32\n",
            "FAILED test_list_lengths.py::TestListLengths::test_list_length[lista2-31] - assert 1 == 31\n",
            "FAILED test_list_lengths.py::TestListLengths::test_list_length[lista3-30] - assert 1 == 30\n",
            "======================================== 4 failed in 0.16s =========================================\n"
          ]
        },
        {
          "output_type": "error",
          "ename": "SystemExit",
          "evalue": "ExitCode.TESTS_FAILED",
          "traceback": [
            "\u001b[0;31m---------------------------------------------------------------------------\u001b[0m",
            "\u001b[0;31mSystemExit\u001b[0m                                Traceback (most recent call last)",
            "\u001b[0;32m/usr/lib/python3.10/runpy.py\u001b[0m in \u001b[0;36mrun_module\u001b[0;34m(mod_name, init_globals, run_name, alter_sys)\u001b[0m\n\u001b[1;32m    222\u001b[0m         \u001b[0mrun_name\u001b[0m \u001b[0;34m=\u001b[0m \u001b[0mmod_name\u001b[0m\u001b[0;34m\u001b[0m\u001b[0;34m\u001b[0m\u001b[0m\n\u001b[1;32m    223\u001b[0m     \u001b[0;32mif\u001b[0m \u001b[0malter_sys\u001b[0m\u001b[0;34m:\u001b[0m\u001b[0;34m\u001b[0m\u001b[0;34m\u001b[0m\u001b[0m\n\u001b[0;32m--> 224\u001b[0;31m         \u001b[0;32mreturn\u001b[0m \u001b[0m_run_module_code\u001b[0m\u001b[0;34m(\u001b[0m\u001b[0mcode\u001b[0m\u001b[0;34m,\u001b[0m \u001b[0minit_globals\u001b[0m\u001b[0;34m,\u001b[0m \u001b[0mrun_name\u001b[0m\u001b[0;34m,\u001b[0m \u001b[0mmod_spec\u001b[0m\u001b[0;34m)\u001b[0m\u001b[0;34m\u001b[0m\u001b[0;34m\u001b[0m\u001b[0m\n\u001b[0m\u001b[1;32m    225\u001b[0m     \u001b[0;32melse\u001b[0m\u001b[0;34m:\u001b[0m\u001b[0;34m\u001b[0m\u001b[0;34m\u001b[0m\u001b[0m\n\u001b[1;32m    226\u001b[0m         \u001b[0;31m# Leave the sys module alone\u001b[0m\u001b[0;34m\u001b[0m\u001b[0;34m\u001b[0m\u001b[0m\n",
            "\u001b[0;32m/usr/lib/python3.10/runpy.py\u001b[0m in \u001b[0;36m_run_module_code\u001b[0;34m(code, init_globals, mod_name, mod_spec, pkg_name, script_name)\u001b[0m\n\u001b[1;32m     94\u001b[0m     \u001b[0;32mwith\u001b[0m \u001b[0m_TempModule\u001b[0m\u001b[0;34m(\u001b[0m\u001b[0mmod_name\u001b[0m\u001b[0;34m)\u001b[0m \u001b[0;32mas\u001b[0m \u001b[0mtemp_module\u001b[0m\u001b[0;34m,\u001b[0m \u001b[0m_ModifiedArgv0\u001b[0m\u001b[0;34m(\u001b[0m\u001b[0mfname\u001b[0m\u001b[0;34m)\u001b[0m\u001b[0;34m:\u001b[0m\u001b[0;34m\u001b[0m\u001b[0;34m\u001b[0m\u001b[0m\n\u001b[1;32m     95\u001b[0m         \u001b[0mmod_globals\u001b[0m \u001b[0;34m=\u001b[0m \u001b[0mtemp_module\u001b[0m\u001b[0;34m.\u001b[0m\u001b[0mmodule\u001b[0m\u001b[0;34m.\u001b[0m\u001b[0m__dict__\u001b[0m\u001b[0;34m\u001b[0m\u001b[0;34m\u001b[0m\u001b[0m\n\u001b[0;32m---> 96\u001b[0;31m         _run_code(code, mod_globals, init_globals,\n\u001b[0m\u001b[1;32m     97\u001b[0m                   mod_name, mod_spec, pkg_name, script_name)\n\u001b[1;32m     98\u001b[0m     \u001b[0;31m# Copy the globals of the temporary module, as they\u001b[0m\u001b[0;34m\u001b[0m\u001b[0;34m\u001b[0m\u001b[0m\n",
            "\u001b[0;32m/usr/lib/python3.10/runpy.py\u001b[0m in \u001b[0;36m_run_code\u001b[0;34m(code, run_globals, init_globals, mod_name, mod_spec, pkg_name, script_name)\u001b[0m\n\u001b[1;32m     84\u001b[0m                        \u001b[0m__package__\u001b[0m \u001b[0;34m=\u001b[0m \u001b[0mpkg_name\u001b[0m\u001b[0;34m,\u001b[0m\u001b[0;34m\u001b[0m\u001b[0;34m\u001b[0m\u001b[0m\n\u001b[1;32m     85\u001b[0m                        __spec__ = mod_spec)\n\u001b[0;32m---> 86\u001b[0;31m     \u001b[0mexec\u001b[0m\u001b[0;34m(\u001b[0m\u001b[0mcode\u001b[0m\u001b[0;34m,\u001b[0m \u001b[0mrun_globals\u001b[0m\u001b[0;34m)\u001b[0m\u001b[0;34m\u001b[0m\u001b[0;34m\u001b[0m\u001b[0m\n\u001b[0m\u001b[1;32m     87\u001b[0m     \u001b[0;32mreturn\u001b[0m \u001b[0mrun_globals\u001b[0m\u001b[0;34m\u001b[0m\u001b[0;34m\u001b[0m\u001b[0m\n\u001b[1;32m     88\u001b[0m \u001b[0;34m\u001b[0m\u001b[0m\n",
            "\u001b[0;32m/usr/local/lib/python3.10/dist-packages/pytest/__main__.py\u001b[0m in \u001b[0;36m<module>\u001b[0;34m\u001b[0m\n\u001b[1;32m      3\u001b[0m \u001b[0;34m\u001b[0m\u001b[0m\n\u001b[1;32m      4\u001b[0m \u001b[0;32mif\u001b[0m \u001b[0m__name__\u001b[0m \u001b[0;34m==\u001b[0m \u001b[0;34m\"__main__\"\u001b[0m\u001b[0;34m:\u001b[0m\u001b[0;34m\u001b[0m\u001b[0;34m\u001b[0m\u001b[0m\n\u001b[0;32m----> 5\u001b[0;31m     \u001b[0;32mraise\u001b[0m \u001b[0mSystemExit\u001b[0m\u001b[0;34m(\u001b[0m\u001b[0mpytest\u001b[0m\u001b[0;34m.\u001b[0m\u001b[0mconsole_main\u001b[0m\u001b[0;34m(\u001b[0m\u001b[0;34m)\u001b[0m\u001b[0;34m)\u001b[0m\u001b[0;34m\u001b[0m\u001b[0;34m\u001b[0m\u001b[0m\n\u001b[0m",
            "\u001b[0;31mSystemExit\u001b[0m: ExitCode.TESTS_FAILED"
          ]
        },
        {
          "output_type": "stream",
          "name": "stderr",
          "text": [
            "/usr/local/lib/python3.10/dist-packages/IPython/core/interactiveshell.py:2940: UserWarning: Unknown failure executing module: <pytest>\n",
            "  warn('Unknown failure executing module: <%s>' % mod_name)\n"
          ]
        }
      ]
    },
    {
      "cell_type": "code",
      "source": [
        "%run -m pytest"
      ],
      "metadata": {
        "colab": {
          "base_uri": "https://localhost:8080/",
          "height": 1000
        },
        "id": "o6_7In6-jpHQ",
        "outputId": "95f86f8e-7fac-43fe-a535-432746c73e4c"
      },
      "execution_count": 38,
      "outputs": [
        {
          "output_type": "stream",
          "name": "stdout",
          "text": [
            "======================================= test session starts ========================================\n",
            "platform linux -- Python 3.10.12, pytest-7.4.4, pluggy-1.5.0\n",
            "rootdir: /content\n",
            "plugins: anyio-3.7.1\n",
            "collected 4 items\n",
            "\n",
            "test_list_lengths.py FFFF                                                                    [100%]\n",
            "\n",
            "============================================= FAILURES =============================================\n",
            "___________________________ TestListLengths.test_list_length[lista0-34] ____________________________\n",
            "\n",
            "self = <test_list_lengths.TestListLengths object at 0x7af51ea87970>, lista = [Ellipsis]\n",
            "expected_qtd = 34\n",
            "\n",
            "    lista1 = df_lista1.Aluno.to_list()\n",
            "    lista2 = df_lista2.Aluno.to_list()\n",
            "    lista3 = df_lista3.Aluno.to_list()\n",
            "    lista4 = df_lista4.Aluno.to_list()\n",
            "    \n",
            ">   @pytest.mark.parametrize(\"lista, expected_qtd\", [\n",
            "        (lista1, qtd_lista1), (lista2, qtd_lista2), (lista3, qtd_lista3), (lista4, qtd_lista4)\n",
            "    ])\n",
            "E   assert 1 == 34\n",
            "E    +  where 1 = len([Ellipsis])\n",
            "\n",
            "test_list_lengths.py:26: AssertionError\n",
            "___________________________ TestListLengths.test_list_length[lista1-32] ____________________________\n",
            "\n",
            "self = <test_list_lengths.TestListLengths object at 0x7af51ea87ac0>, lista = [Ellipsis]\n",
            "expected_qtd = 32\n",
            "\n",
            "    lista1 = df_lista1.Aluno.to_list()\n",
            "    lista2 = df_lista2.Aluno.to_list()\n",
            "    lista3 = df_lista3.Aluno.to_list()\n",
            "    lista4 = df_lista4.Aluno.to_list()\n",
            "    \n",
            ">   @pytest.mark.parametrize(\"lista, expected_qtd\", [\n",
            "        (lista1, qtd_lista1), (lista2, qtd_lista2), (lista3, qtd_lista3), (lista4, qtd_lista4)\n",
            "    ])\n",
            "E   assert 1 == 32\n",
            "E    +  where 1 = len([Ellipsis])\n",
            "\n",
            "test_list_lengths.py:26: AssertionError\n",
            "___________________________ TestListLengths.test_list_length[lista2-31] ____________________________\n",
            "\n",
            "self = <test_list_lengths.TestListLengths object at 0x7af51ea87b50>, lista = [Ellipsis]\n",
            "expected_qtd = 31\n",
            "\n",
            "    lista1 = df_lista1.Aluno.to_list()\n",
            "    lista2 = df_lista2.Aluno.to_list()\n",
            "    lista3 = df_lista3.Aluno.to_list()\n",
            "    lista4 = df_lista4.Aluno.to_list()\n",
            "    \n",
            ">   @pytest.mark.parametrize(\"lista, expected_qtd\", [\n",
            "        (lista1, qtd_lista1), (lista2, qtd_lista2), (lista3, qtd_lista3), (lista4, qtd_lista4)\n",
            "    ])\n",
            "E   assert 1 == 31\n",
            "E    +  where 1 = len([Ellipsis])\n",
            "\n",
            "test_list_lengths.py:26: AssertionError\n",
            "___________________________ TestListLengths.test_list_length[lista3-30] ____________________________\n",
            "\n",
            "self = <test_list_lengths.TestListLengths object at 0x7af51ea87be0>, lista = [Ellipsis]\n",
            "expected_qtd = 30\n",
            "\n",
            "    lista1 = df_lista1.Aluno.to_list()\n",
            "    lista2 = df_lista2.Aluno.to_list()\n",
            "    lista3 = df_lista3.Aluno.to_list()\n",
            "    lista4 = df_lista4.Aluno.to_list()\n",
            "    \n",
            ">   @pytest.mark.parametrize(\"lista, expected_qtd\", [\n",
            "        (lista1, qtd_lista1), (lista2, qtd_lista2), (lista3, qtd_lista3), (lista4, qtd_lista4)\n",
            "    ])\n",
            "E   assert 1 == 30\n",
            "E    +  where 1 = len([Ellipsis])\n",
            "\n",
            "test_list_lengths.py:26: AssertionError\n",
            "===================================== short test summary info ======================================\n",
            "FAILED test_list_lengths.py::TestListLengths::test_list_length[lista0-34] - assert 1 == 34\n",
            "FAILED test_list_lengths.py::TestListLengths::test_list_length[lista1-32] - assert 1 == 32\n",
            "FAILED test_list_lengths.py::TestListLengths::test_list_length[lista2-31] - assert 1 == 31\n",
            "FAILED test_list_lengths.py::TestListLengths::test_list_length[lista3-30] - assert 1 == 30\n",
            "======================================== 4 failed in 0.23s =========================================\n"
          ]
        },
        {
          "output_type": "error",
          "ename": "SystemExit",
          "evalue": "ExitCode.TESTS_FAILED",
          "traceback": [
            "\u001b[0;31m---------------------------------------------------------------------------\u001b[0m",
            "\u001b[0;31mSystemExit\u001b[0m                                Traceback (most recent call last)",
            "\u001b[0;32m/usr/lib/python3.10/runpy.py\u001b[0m in \u001b[0;36mrun_module\u001b[0;34m(mod_name, init_globals, run_name, alter_sys)\u001b[0m\n\u001b[1;32m    222\u001b[0m         \u001b[0mrun_name\u001b[0m \u001b[0;34m=\u001b[0m \u001b[0mmod_name\u001b[0m\u001b[0;34m\u001b[0m\u001b[0;34m\u001b[0m\u001b[0m\n\u001b[1;32m    223\u001b[0m     \u001b[0;32mif\u001b[0m \u001b[0malter_sys\u001b[0m\u001b[0;34m:\u001b[0m\u001b[0;34m\u001b[0m\u001b[0;34m\u001b[0m\u001b[0m\n\u001b[0;32m--> 224\u001b[0;31m         \u001b[0;32mreturn\u001b[0m \u001b[0m_run_module_code\u001b[0m\u001b[0;34m(\u001b[0m\u001b[0mcode\u001b[0m\u001b[0;34m,\u001b[0m \u001b[0minit_globals\u001b[0m\u001b[0;34m,\u001b[0m \u001b[0mrun_name\u001b[0m\u001b[0;34m,\u001b[0m \u001b[0mmod_spec\u001b[0m\u001b[0;34m)\u001b[0m\u001b[0;34m\u001b[0m\u001b[0;34m\u001b[0m\u001b[0m\n\u001b[0m\u001b[1;32m    225\u001b[0m     \u001b[0;32melse\u001b[0m\u001b[0;34m:\u001b[0m\u001b[0;34m\u001b[0m\u001b[0;34m\u001b[0m\u001b[0m\n\u001b[1;32m    226\u001b[0m         \u001b[0;31m# Leave the sys module alone\u001b[0m\u001b[0;34m\u001b[0m\u001b[0;34m\u001b[0m\u001b[0m\n",
            "\u001b[0;32m/usr/lib/python3.10/runpy.py\u001b[0m in \u001b[0;36m_run_module_code\u001b[0;34m(code, init_globals, mod_name, mod_spec, pkg_name, script_name)\u001b[0m\n\u001b[1;32m     94\u001b[0m     \u001b[0;32mwith\u001b[0m \u001b[0m_TempModule\u001b[0m\u001b[0;34m(\u001b[0m\u001b[0mmod_name\u001b[0m\u001b[0;34m)\u001b[0m \u001b[0;32mas\u001b[0m \u001b[0mtemp_module\u001b[0m\u001b[0;34m,\u001b[0m \u001b[0m_ModifiedArgv0\u001b[0m\u001b[0;34m(\u001b[0m\u001b[0mfname\u001b[0m\u001b[0;34m)\u001b[0m\u001b[0;34m:\u001b[0m\u001b[0;34m\u001b[0m\u001b[0;34m\u001b[0m\u001b[0m\n\u001b[1;32m     95\u001b[0m         \u001b[0mmod_globals\u001b[0m \u001b[0;34m=\u001b[0m \u001b[0mtemp_module\u001b[0m\u001b[0;34m.\u001b[0m\u001b[0mmodule\u001b[0m\u001b[0;34m.\u001b[0m\u001b[0m__dict__\u001b[0m\u001b[0;34m\u001b[0m\u001b[0;34m\u001b[0m\u001b[0m\n\u001b[0;32m---> 96\u001b[0;31m         _run_code(code, mod_globals, init_globals,\n\u001b[0m\u001b[1;32m     97\u001b[0m                   mod_name, mod_spec, pkg_name, script_name)\n\u001b[1;32m     98\u001b[0m     \u001b[0;31m# Copy the globals of the temporary module, as they\u001b[0m\u001b[0;34m\u001b[0m\u001b[0;34m\u001b[0m\u001b[0m\n",
            "\u001b[0;32m/usr/lib/python3.10/runpy.py\u001b[0m in \u001b[0;36m_run_code\u001b[0;34m(code, run_globals, init_globals, mod_name, mod_spec, pkg_name, script_name)\u001b[0m\n\u001b[1;32m     84\u001b[0m                        \u001b[0m__package__\u001b[0m \u001b[0;34m=\u001b[0m \u001b[0mpkg_name\u001b[0m\u001b[0;34m,\u001b[0m\u001b[0;34m\u001b[0m\u001b[0;34m\u001b[0m\u001b[0m\n\u001b[1;32m     85\u001b[0m                        __spec__ = mod_spec)\n\u001b[0;32m---> 86\u001b[0;31m     \u001b[0mexec\u001b[0m\u001b[0;34m(\u001b[0m\u001b[0mcode\u001b[0m\u001b[0;34m,\u001b[0m \u001b[0mrun_globals\u001b[0m\u001b[0;34m)\u001b[0m\u001b[0;34m\u001b[0m\u001b[0;34m\u001b[0m\u001b[0m\n\u001b[0m\u001b[1;32m     87\u001b[0m     \u001b[0;32mreturn\u001b[0m \u001b[0mrun_globals\u001b[0m\u001b[0;34m\u001b[0m\u001b[0;34m\u001b[0m\u001b[0m\n\u001b[1;32m     88\u001b[0m \u001b[0;34m\u001b[0m\u001b[0m\n",
            "\u001b[0;32m/usr/local/lib/python3.10/dist-packages/pytest/__main__.py\u001b[0m in \u001b[0;36m<module>\u001b[0;34m\u001b[0m\n\u001b[1;32m      3\u001b[0m \u001b[0;34m\u001b[0m\u001b[0m\n\u001b[1;32m      4\u001b[0m \u001b[0;32mif\u001b[0m \u001b[0m__name__\u001b[0m \u001b[0;34m==\u001b[0m \u001b[0;34m\"__main__\"\u001b[0m\u001b[0;34m:\u001b[0m\u001b[0;34m\u001b[0m\u001b[0;34m\u001b[0m\u001b[0m\n\u001b[0;32m----> 5\u001b[0;31m     \u001b[0;32mraise\u001b[0m \u001b[0mSystemExit\u001b[0m\u001b[0;34m(\u001b[0m\u001b[0mpytest\u001b[0m\u001b[0;34m.\u001b[0m\u001b[0mconsole_main\u001b[0m\u001b[0;34m(\u001b[0m\u001b[0;34m)\u001b[0m\u001b[0;34m)\u001b[0m\u001b[0;34m\u001b[0m\u001b[0;34m\u001b[0m\u001b[0m\n\u001b[0m",
            "\u001b[0;31mSystemExit\u001b[0m: ExitCode.TESTS_FAILED"
          ]
        },
        {
          "output_type": "stream",
          "name": "stderr",
          "text": [
            "/usr/local/lib/python3.10/dist-packages/IPython/core/interactiveshell.py:2940: UserWarning: Unknown failure executing module: <pytest>\n",
            "  warn('Unknown failure executing module: <%s>' % mod_name)\n"
          ]
        }
      ]
    },
    {
      "cell_type": "code",
      "source": [],
      "metadata": {
        "id": "gedeKHhgkNCG"
      },
      "execution_count": null,
      "outputs": []
    }
  ]
}
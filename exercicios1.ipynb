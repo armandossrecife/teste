{
  "nbformat": 4,
  "nbformat_minor": 0,
  "metadata": {
    "colab": {
      "provenance": [],
      "authorship_tag": "ABX9TyMRwQ88x5ukG+r0jUyEaOUX",
      "include_colab_link": true
    },
    "kernelspec": {
      "name": "python3",
      "display_name": "Python 3"
    },
    "language_info": {
      "name": "python"
    }
  },
  "cells": [
    {
      "cell_type": "markdown",
      "metadata": {
        "id": "view-in-github",
        "colab_type": "text"
      },
      "source": [
        "<a href=\"https://colab.research.google.com/github/armandossrecife/teste/blob/main/exercicios1.ipynb\" target=\"_parent\"><img src=\"https://colab.research.google.com/assets/colab-badge.svg\" alt=\"Open In Colab\"/></a>"
      ]
    },
    {
      "cell_type": "markdown",
      "source": [
        "# Exercícios Ifs e Loops (For e while)"
      ],
      "metadata": {
        "id": "z5JGJicNu1Kw"
      }
    },
    {
      "cell_type": "markdown",
      "source": [
        "\n",
        "## 1. Crie um programa em python, que o usuário informa o nome, o ano de nascimento e o seu CPF. Logo após o programa deve exibir o nome (com todos os caracteres em maiúsculo) do usuário, sua idade atual (em 2023) e o CPF informado (formatação XXX.XXX.XXX-XX)."
      ],
      "metadata": {
        "id": "kV_0_CO8xjeF"
      }
    },
    {
      "cell_type": "code",
      "execution_count": 2,
      "metadata": {
        "id": "D5hSgluQu0s5",
        "outputId": "7ddb251c-df75-428a-e473-3593b31744ff",
        "colab": {
          "base_uri": "https://localhost:8080/"
        }
      },
      "outputs": [
        {
          "output_type": "stream",
          "name": "stdout",
          "text": [
            "Informe o nome: Armando\n",
            "Informe o ano de nascimento: 1979\n",
            "Informe o CPF: 77788899988\n",
            "Nome: ARMANDO\n",
            "Idade: 44\n",
            "CPF: 777.888.999-88\n"
          ]
        }
      ],
      "source": [
        "## Coloque seu código aqui...\n",
        "\n",
        "# Entrada de dados\n",
        "nome = input(\"Informe o nome: \")\n",
        "ano_nascimento = int(input(\"Informe o ano de nascimento: \"))\n",
        "cpf = input(\"Informe o CPF: \")\n",
        "\n",
        "# Processamento\n",
        "idade = 2023 - ano_nascimento\n",
        "\n",
        "# Formatação do CPF\n",
        "cpf_formatado = f\"{cpf[:3]}.{cpf[3:6]}.{cpf[6:9]}-{cpf[9:]}\"\n",
        "\n",
        "# Saída de dados\n",
        "print(\"Nome:\", nome.upper())\n",
        "print(\"Idade:\", idade)\n",
        "print(\"CPF:\", cpf_formatado)"
      ]
    },
    {
      "cell_type": "markdown",
      "source": [
        "## 2. Dada a seguinte lista de nomes: ['Maria', 'João', 'Antônio', 'Francisca', 'Carla'] e seguinte lista de sexo: ['F', 'M', 'M', 'F', 'F'].\n",
        "\n",
        "- a) Calcule quantos homens ('M') e quantas mulheres ('F') tem na lista de nomes.\n",
        "\n",
        "- b) Crie uma listagem que mostre apenas os homens\n",
        "\n",
        "- c) Crie uma listagem que mostre apenas as mulheres."
      ],
      "metadata": {
        "id": "Jd6AM7Oay5u9"
      }
    },
    {
      "cell_type": "code",
      "source": [
        "## Coloque seu código aqui...\n",
        "\n",
        "# Entrada de dados\n",
        "lista_nomes = ['Maria', 'João', 'Antônio', 'Francisca', 'Carla']\n",
        "lista_sexo = ['F', 'M', 'M', 'F', 'F']\n",
        "\n",
        "# Processamento\n",
        "\n",
        "homens = 0\n",
        "mulheres = 0\n",
        "\n",
        "for sexo in lista_sexo:\n",
        "    if sexo == 'M':\n",
        "        homens += 1\n",
        "    elif sexo == 'F':\n",
        "        mulheres += 1\n",
        "\n",
        "# Mostre apenas os homens\n",
        "homens_listagem = []\n",
        "for i in range(len(lista_nomes)):\n",
        "    if lista_sexo[i] == 'M':\n",
        "        homens_listagem.append(lista_nomes[i])\n",
        "\n",
        "# Mostre apenas as mulheres\n",
        "mulheres_listagem = []\n",
        "for i in range(len(lista_nomes)):\n",
        "    if lista_sexo[i] == 'F':\n",
        "        mulheres_listagem.append(lista_nomes[i])\n",
        "\n",
        "# Saída de dados\n",
        "print(\"Quantidade de homens:\", homens)\n",
        "print(\"Quantidade de mulheres:\", mulheres)\n",
        "\n",
        "# Lista de homens\n",
        "print(\"Lista de homens:\")\n",
        "for homem in homens_listagem:\n",
        "    print(homem)\n",
        "\n",
        "# Lista de mulheres\n",
        "print(\"Lista de mulheres\")\n",
        "for mulher in mulheres_listagem:\n",
        "    print(mulher)"
      ],
      "metadata": {
        "id": "kp0xGAd_0SPE",
        "outputId": "085e1587-e11b-4950-a1a2-20c880fe7202",
        "colab": {
          "base_uri": "https://localhost:8080/"
        }
      },
      "execution_count": 3,
      "outputs": [
        {
          "output_type": "stream",
          "name": "stdout",
          "text": [
            "Quantidade de homens: 2\n",
            "Quantidade de mulheres: 3\n",
            "Lista de homens:\n",
            "João\n",
            "Antônio\n",
            "Lista de mulheres\n",
            "Maria\n",
            "Francisca\n",
            "Carla\n"
          ]
        }
      ]
    },
    {
      "cell_type": "markdown",
      "source": [
        "## 3. Crie um programa em Python que simule a escolha de opções de um menu:\n",
        "\n",
        "Menu de opções:\n",
        "\n",
        "1. Opção 1\n",
        "2. Opção 2\n",
        "3. Opção 3\n",
        "4. SAIR\n",
        "\n",
        "Digite sua opção:\n",
        "\n",
        "Se o usuário informar uma opção válida, o programa deve mostrar:\n",
        "- Você escolheu a opção 1, o programa continua\n",
        "- Você escolheu a opção 2, o programa continua\n",
        "- Você escolheu a opção 3, o programa continua\n",
        "- Você escolheu a opção SAIR, encerra o programa\n",
        "\n",
        "Se o usuário informar uma opção diferente de 1, 2, 3 ou 4, o programa deve mostrar a mensagem: \"Opção inválida! Tente novamente\" enquanto o usuário não escolher uma opção válida."
      ],
      "metadata": {
        "id": "BqNQGZuQ-Jx_"
      }
    },
    {
      "cell_type": "code",
      "source": [
        "## Coloque seu código aqui...\n",
        "\n",
        "# imprime o menu de opções\n",
        "print(\"Menu de opções:\")\n",
        "print(\"1. Opção 1\")\n",
        "print(\"2. Opção 2\")\n",
        "print(\"3. Opção 3\")\n",
        "print(\"4. SAIR\")\n",
        "\n",
        "# Entrada de dados / processamento\n",
        "while True:\n",
        "  opcao = input(\"Digite sua opção: \")\n",
        "  if opcao == '1':\n",
        "      print(\"Você escolheu a opção 1, o programa continua\")\n",
        "  elif opcao == '2':\n",
        "      print(\"Você escolheu a opção 2, o programa continua\")\n",
        "  elif opcao == '3':\n",
        "      print(\"Você escolheu a opção 3, o programa continua\")\n",
        "  elif opcao == '4':\n",
        "      print(\"Você escolheu a opção SAIR, encerra o programa\")\n",
        "      break\n",
        "  else:\n",
        "      print(\"Opção inválida! Tente novamente\")"
      ],
      "metadata": {
        "id": "NugXSXkA-h8g",
        "outputId": "b122f986-4fdf-4ffe-fc18-7ca9e48681ff",
        "colab": {
          "base_uri": "https://localhost:8080/"
        }
      },
      "execution_count": 4,
      "outputs": [
        {
          "output_type": "stream",
          "name": "stdout",
          "text": [
            "Menu de opções:\n",
            "1. Opção 1\n",
            "2. Opção 2\n",
            "3. Opção 3\n",
            "4. SAIR\n",
            "Digite sua opção: 5\n",
            "Opção inválida! Tente novamente\n",
            "Digite sua opção: 6\n",
            "Opção inválida! Tente novamente\n",
            "Digite sua opção: 1\n",
            "Você escolheu a opção 1, o programa continua\n",
            "Digite sua opção: 2\n",
            "Você escolheu a opção 2, o programa continua\n",
            "Digite sua opção: 3\n",
            "Você escolheu a opção 3, o programa continua\n",
            "Digite sua opção: 4\n",
            "Você escolheu a opção SAIR, encerra o programa\n"
          ]
        }
      ]
    },
    {
      "cell_type": "markdown",
      "source": [
        "## 4. Crie um programa que simula o jogo de adivinhação de um número inteiro.\n",
        "\n",
        "- O programa deve gerar um número inteiro \"mágico\" entre 0 e 100\n",
        "- O usuário deve informar seu nome\n",
        "- O programa deve mostrar uma mensagem de boas vindas e mostrar a regra principal do jogo: \"Olá {nome_usuario}, tente adivinhar um número inteiro entre 0 e 100.\"\n",
        "- O programa deve pedir para o usuário informar seu palpite\n",
        "- O programa deve checar se o usuário acertou o número \"mágico\"\n",
        "- Caso o usuário acerte o número mágico. O programa deve encerrar o jogo e mostrar a mensagem \"{nome_usuario}, você acertou o número mágico: {numero_magico}\".\n",
        "- Enquanto o palpite do usuário não for igual ao número \"mágico\" o programa deve continuar perguntando outro palpite\n",
        "- Se o palpite for menor que numero_magico, o programa deve mostrar: \"Tente um número maior\", se não deve mostrar: \"Tente um número menor\""
      ],
      "metadata": {
        "id": "mYwOrWzg4rx1"
      }
    },
    {
      "cell_type": "markdown",
      "source": [
        "Você pode usar o módulo random do Python para gerar um número inteiro aleatório.\n",
        "```python\n",
        "import random\n",
        "numero_aleatorio = random.randint(1, 10)  # Gera um número entre 1 e 10 (inclusive).\n",
        "```"
      ],
      "metadata": {
        "id": "_6GKXvXC6k-J"
      }
    },
    {
      "cell_type": "code",
      "source": [
        "## Coloque seu código aqui...\n",
        "\n",
        "import random\n",
        "\n",
        "# Entrada de dados\n",
        "nome_usuario = input(\"Informe seu nome: \")\n",
        "numero_magico = random.randint(0, 100)\n",
        "\n",
        "# Processamento\n",
        "\n",
        "print(f\"Olá {nome_usuario}, tente adivinhar um número inteiro entre 0 e 100.\")\n",
        "\n",
        "\n",
        "while True:\n",
        "  palpite_usuario = int(input(\"Informe seu palpite: \"))\n",
        "\n",
        "  if palpite_usuario == numero_magico:\n",
        "    print(f\"{nome_usuario}, você acertou o número mágico: {numero_magico}\")\n",
        "    break\n",
        "  else:\n",
        "    print(\"Tente novamente!\")\n",
        "    # Teste se o palpite é maior que o numero magico\n",
        "    if palpite_usuario > numero_magico:\n",
        "      print(\"Tente um número menor\")\n",
        "    else:\n",
        "      print(\"Tente um número maior\")"
      ],
      "metadata": {
        "id": "I1R2ncS1039D",
        "outputId": "ee9217f8-73af-4acf-b1ba-997ca2f00614",
        "colab": {
          "base_uri": "https://localhost:8080/"
        }
      },
      "execution_count": 3,
      "outputs": [
        {
          "output_type": "stream",
          "name": "stdout",
          "text": [
            "Informe seu nome: Armando\n",
            "Olá Armando, tente adivinhar um número inteiro entre 0 e 100.\n",
            "Informe seu palpite: 50\n",
            "Tente novamente!\n",
            "Tente um número menor\n",
            "Informe seu palpite: 20\n",
            "Tente novamente!\n",
            "Tente um número maior\n",
            "Informe seu palpite: 30\n",
            "Tente novamente!\n",
            "Tente um número maior\n",
            "Informe seu palpite: 40\n",
            "Tente novamente!\n",
            "Tente um número menor\n",
            "Informe seu palpite: 35\n",
            "Tente novamente!\n",
            "Tente um número maior\n",
            "Informe seu palpite: 37\n",
            "Tente novamente!\n",
            "Tente um número maior\n",
            "Informe seu palpite: 39\n",
            "Armando, você acertou o número mágico: 39\n"
          ]
        }
      ]
    },
    {
      "cell_type": "code",
      "source": [
        "print(numero_magico)"
      ],
      "metadata": {
        "id": "6zi6TvzRg5yy",
        "outputId": "53503e98-0612-4c16-debf-d7820bcd3d4d",
        "colab": {
          "base_uri": "https://localhost:8080/"
        }
      },
      "execution_count": 4,
      "outputs": [
        {
          "output_type": "stream",
          "name": "stdout",
          "text": [
            "39\n"
          ]
        }
      ]
    },
    {
      "cell_type": "code",
      "source": [],
      "metadata": {
        "id": "9TZqX-3ag9mZ"
      },
      "execution_count": null,
      "outputs": []
    }
  ]
}
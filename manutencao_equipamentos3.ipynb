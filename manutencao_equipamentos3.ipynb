{
  "nbformat": 4,
  "nbformat_minor": 0,
  "metadata": {
    "colab": {
      "provenance": [],
      "authorship_tag": "ABX9TyMWEaDm1JO4RJDWVyOVo5TW",
      "include_colab_link": true
    },
    "kernelspec": {
      "name": "python3",
      "display_name": "Python 3"
    },
    "language_info": {
      "name": "python"
    }
  },
  "cells": [
    {
      "cell_type": "markdown",
      "metadata": {
        "id": "view-in-github",
        "colab_type": "text"
      },
      "source": [
        "<a href=\"https://colab.research.google.com/github/armandossrecife/teste/blob/main/manutencao_equipamentos3.ipynb\" target=\"_parent\"><img src=\"https://colab.research.google.com/assets/colab-badge.svg\" alt=\"Open In Colab\"/></a>"
      ]
    },
    {
      "cell_type": "code",
      "execution_count": 1,
      "metadata": {
        "id": "ju6IwaaHZAiZ"
      },
      "outputs": [],
      "source": [
        "import csv\n",
        "from datetime import datetime, timedelta\n",
        "\n",
        "# Classe Equipamento\n",
        "class Equipamento:\n",
        "    def __init__(self, id, nome, ultima_manutencao, intervalo_manutencao):\n",
        "        self.id = id\n",
        "        self.nome = nome\n",
        "        self.ultima_manutencao = datetime.strptime(ultima_manutencao, '%Y-%m-%d')\n",
        "        self.intervalo_manutencao = int(intervalo_manutencao)\n",
        "        self.proxima_manutencao = self.ultima_manutencao + timedelta(days=self.intervalo_manutencao)\n",
        "\n",
        "    def registrar_manutencao(self, data_manutencao):\n",
        "        self.ultima_manutencao = datetime.strptime(data_manutencao, '%Y-%m-%d')\n",
        "        self.proxima_manutencao = self.ultima_manutencao + timedelta(days=self.intervalo_manutencao)\n",
        "\n",
        "    def to_csv_row(self):\n",
        "        return [self.id, self.nome, self.ultima_manutencao.strftime('%Y-%m-%d'), self.intervalo_manutencao, self.proxima_manutencao.strftime('%Y-%m-%d')]\n",
        "\n",
        "    @classmethod\n",
        "    def from_csv_row(cls, row):\n",
        "        return cls(row[0], row[1], row[2], row[3])\n",
        "\n",
        "# Classe GerenciadorManutencao\n",
        "class GerenciadorManutencao:\n",
        "    FILE_PATH = 'manutencao_equipamentos.csv'\n",
        "\n",
        "    def __init__(self):\n",
        "        self.equipamentos = []\n",
        "        self._load_from_csv()\n",
        "\n",
        "    def _load_from_csv(self):\n",
        "        try:\n",
        "            with open(self.FILE_PATH, 'r') as file:\n",
        "                reader = csv.reader(file)\n",
        "                next(reader)  # Pular cabeçalho\n",
        "                self.equipamentos = [Equipamento.from_csv_row(row) for row in reader]\n",
        "        except FileNotFoundError:\n",
        "            self._initialize_csv()\n",
        "\n",
        "    def _initialize_csv(self):\n",
        "        with open(self.FILE_PATH, 'w', newline='') as file:\n",
        "            writer = csv.writer(file)\n",
        "            writer.writerow(['ID', 'Nome', 'Ultima_Manutencao', 'Intervalo_Manutencao', 'Proxima_Manutencao'])\n",
        "\n",
        "    def _save_to_csv(self):\n",
        "        with open(self.FILE_PATH, 'w', newline='') as file:\n",
        "            writer = csv.writer(file)\n",
        "            writer.writerow(['ID', 'Nome', 'Ultima_Manutencao', 'Intervalo_Manutencao', 'Proxima_Manutencao'])\n",
        "            for equipamento in self.equipamentos:\n",
        "                writer.writerow(equipamento.to_csv_row())\n",
        "\n",
        "    def adicionar_equipamento(self, id, nome, ultima_manutencao, intervalo_manutencao):\n",
        "        novo_equipamento = Equipamento(id, nome, ultima_manutencao, intervalo_manutencao)\n",
        "        self.equipamentos.append(novo_equipamento)\n",
        "        self._save_to_csv()\n",
        "\n",
        "    def registrar_manutencao(self, id, data_manutencao):\n",
        "        for equipamento in self.equipamentos:\n",
        "            if equipamento.id == id:\n",
        "                equipamento.registrar_manutencao(data_manutencao)\n",
        "                break\n",
        "        self._save_to_csv()\n",
        "\n",
        "    def listar_equipamentos(self):\n",
        "        for equipamento in self.equipamentos:\n",
        "            print(f'ID: {equipamento.id}, Nome: {equipamento.nome}, Última Manutenção: {equipamento.ultima_manutencao.strftime(\"%Y-%m-%d\")}, Intervalo de Manutenção (dias): {equipamento.intervalo_manutencao}, Próxima Manutenção: {equipamento.proxima_manutencao.strftime(\"%Y-%m-%d\")}')\n",
        "\n",
        "    def alertar_manutencao_pendente(self):\n",
        "        hoje = datetime.today()\n",
        "        for equipamento in self.equipamentos:\n",
        "            if equipamento.proxima_manutencao <= hoje:\n",
        "                print(f'ALERTA: Equipamento {equipamento.nome} (ID: {equipamento.id}) precisa de manutenção. Próxima manutenção era em {equipamento.proxima_manutencao.strftime(\"%Y-%m-%d\")}')\n"
      ]
    },
    {
      "cell_type": "code",
      "source": [
        "# Exemplo de uso\n",
        "gerenciador = GerenciadorManutencao()\n",
        "\n",
        "# Adicionar equipamentos (exemplo)\n",
        "gerenciador.adicionar_equipamento('1', 'Máquina de Corte CNC', '2024-01-01', 120)\n",
        "gerenciador.adicionar_equipamento('2', 'Prensa Hidráulica', '2024-01-01', 60)\n",
        "\n",
        "# Listar equipamentos\n",
        "print(\"Equipamentos antes da manutenção:\")\n",
        "gerenciador.listar_equipamentos()\n",
        "\n",
        "# Registrar manutenção (exemplo)\n",
        "gerenciador.registrar_manutencao('1', '2024-02-01')\n",
        "\n",
        "# Listar equipamentos após manutenção\n",
        "print(\"\\nEquipamentos após a manutenção:\")\n",
        "gerenciador.listar_equipamentos()\n",
        "\n",
        "# Alertar sobre manutenção pendente\n",
        "print(\"\\nAlertas de manutenção pendente:\")\n",
        "gerenciador.alertar_manutencao_pendente()\n"
      ],
      "metadata": {
        "colab": {
          "base_uri": "https://localhost:8080/"
        },
        "id": "oUwWD3kcZEJ1",
        "outputId": "72275540-5999-4d50-8341-10977cda2493"
      },
      "execution_count": 2,
      "outputs": [
        {
          "output_type": "stream",
          "name": "stdout",
          "text": [
            "Equipamentos antes da manutenção:\n",
            "ID: 1, Nome: Máquina de Corte CNC, Última Manutenção: 2024-01-01, Intervalo de Manutenção (dias): 120, Próxima Manutenção: 2024-04-30\n",
            "ID: 2, Nome: Prensa Hidráulica, Última Manutenção: 2024-01-01, Intervalo de Manutenção (dias): 60, Próxima Manutenção: 2024-03-01\n",
            "\n",
            "Equipamentos após a manutenção:\n",
            "ID: 1, Nome: Máquina de Corte CNC, Última Manutenção: 2024-02-01, Intervalo de Manutenção (dias): 120, Próxima Manutenção: 2024-05-31\n",
            "ID: 2, Nome: Prensa Hidráulica, Última Manutenção: 2024-01-01, Intervalo de Manutenção (dias): 60, Próxima Manutenção: 2024-03-01\n",
            "\n",
            "Alertas de manutenção pendente:\n",
            "ALERTA: Equipamento Máquina de Corte CNC (ID: 1) precisa de manutenção. Próxima manutenção era em 2024-05-31\n",
            "ALERTA: Equipamento Prensa Hidráulica (ID: 2) precisa de manutenção. Próxima manutenção era em 2024-03-01\n"
          ]
        }
      ]
    }
  ]
}
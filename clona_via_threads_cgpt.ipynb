{
  "nbformat": 4,
  "nbformat_minor": 0,
  "metadata": {
    "colab": {
      "provenance": [],
      "authorship_tag": "ABX9TyOONQ+VW4t7jGxdzU9PqNgk",
      "include_colab_link": true
    },
    "kernelspec": {
      "name": "python3",
      "display_name": "Python 3"
    },
    "language_info": {
      "name": "python"
    }
  },
  "cells": [
    {
      "cell_type": "markdown",
      "metadata": {
        "id": "view-in-github",
        "colab_type": "text"
      },
      "source": [
        "<a href=\"https://colab.research.google.com/github/armandossrecife/teste/blob/main/clona_via_threads_cgpt.ipynb\" target=\"_parent\"><img src=\"https://colab.research.google.com/assets/colab-badge.svg\" alt=\"Open In Colab\"/></a>"
      ]
    },
    {
      "cell_type": "markdown",
      "source": [
        "crie um programa em python que tenha uma função que clone um repositório do github, esta função tem como parâmetro a url do repositório e nome do diretório que o repositório será clonado. Logo após, crie uma função que permita clonar simultaneamente vários repositórios do github usando threads. Por exemplo, faça o clone de três repositórios, onde cada clone será feito por uma thread. Ao final deverá ser calculado o tempo que durou cada clonagem de cada thread.\n",
        "\n",
        "Gerado by CGPT (FDP!!!)"
      ],
      "metadata": {
        "id": "rQ0xVxYObWTd"
      }
    },
    {
      "cell_type": "code",
      "source": [
        "# By Armando Soares Sousa\n",
        "import os\n",
        "import threading\n",
        "import datetime\n",
        "\n",
        "def executa_comando_so(comando):\n",
        "  try:\n",
        "    os.system(comando)\n",
        "    print(f'Comando: {comando} executado com sucesso!')\n",
        "  except:\n",
        "    print(f'Erro ao executar o comando {comando}')\n",
        "\n",
        "instala_git_python = 'python3 -m pip install gitpython' \n",
        "executa_comando_so(instala_git_python)"
      ],
      "metadata": {
        "colab": {
          "base_uri": "https://localhost:8080/"
        },
        "id": "cL66gPWQaZPm",
        "outputId": "6a98f20f-835d-4990-b519-5624653f994b"
      },
      "execution_count": 2,
      "outputs": [
        {
          "output_type": "stream",
          "name": "stdout",
          "text": [
            "Comando: python3 -m pip install gitpython executado com sucesso!\n"
          ]
        }
      ]
    },
    {
      "cell_type": "code",
      "source": [
        "# By CGPT, and updated by Armando\n",
        "import git\n",
        "import time\n",
        "\n",
        "def clone_repository(repo_url, directory_name):\n",
        "    start_time = time.time()\n",
        "    git.Repo.clone_from(repo_url, directory_name)\n",
        "    print(f\"Clone de {directory_name} concluído em {time.time() - start_time:.2f} segundos\")\n",
        "\n",
        "def clone_multiple_repositories(repositories):\n",
        "    threads = []\n",
        "    for repo_url, directory_name in repositories:\n",
        "        t = threading.Thread(target=clone_repository, args=(repo_url, directory_name))\n",
        "        t.name = 'T_' + directory_name\n",
        "        print(f'Thread: {t.name} - Incia a clonagem do {directory_name}')\n",
        "        threads.append(t)\n",
        "        t.start()\n",
        "    for t in threads:\n",
        "        print(f'{t.name} joined!')\n",
        "        t.join()\n",
        "    print(\"Todos os clones concluídos!\")"
      ],
      "metadata": {
        "id": "cW4dWeY8aM8M"
      },
      "execution_count": 11,
      "outputs": []
    },
    {
      "cell_type": "code",
      "source": [
        "repositorios = [('https://github.com/apache/cassandra.git', 'cassandra'), ('https://github.com/armandossrecife/teste', 'teste'), ('https://github.com/Technical-Debt-Large-Scale/sysrepoanalysis.git', 'sysrepoanalysis')]\n",
        "for each in repositorios:\n",
        "  print(each)"
      ],
      "metadata": {
        "colab": {
          "base_uri": "https://localhost:8080/"
        },
        "id": "gxBIfl26chJg",
        "outputId": "a7118da4-5887-4fda-8a1e-a0d74da77b90"
      },
      "execution_count": 12,
      "outputs": [
        {
          "output_type": "stream",
          "name": "stdout",
          "text": [
            "('https://github.com/apache/cassandra.git', 'cassandra')\n",
            "('https://github.com/armandossrecife/teste', 'teste')\n",
            "('https://github.com/Technical-Debt-Large-Scale/sysrepoanalysis.git', 'sysrepoanalysis')\n"
          ]
        }
      ]
    },
    {
      "cell_type": "code",
      "source": [
        "clone_multiple_repositories(repositorios)"
      ],
      "metadata": {
        "colab": {
          "base_uri": "https://localhost:8080/"
        },
        "id": "npk2qp5MdAZb",
        "outputId": "95974833-9996-416f-af0e-e57ddc892bfe"
      },
      "execution_count": 15,
      "outputs": [
        {
          "output_type": "stream",
          "name": "stdout",
          "text": [
            "Thread: T_cassandra - Incia a clonagem do cassandra\n",
            "Thread: T_teste - Incia a clonagem do teste\n",
            "Thread: T_sysrepoanalysis - Incia a clonagem do sysrepoanalysis\n",
            "T_cassandra joined!\n",
            "Clone de sysrepoanalysis concluído em 0.81 segundos\n",
            "Clone de teste concluído em 0.91 segundos\n",
            "Clone de cassandra concluído em 41.29 segundos\n",
            "T_teste joined!\n",
            "T_sysrepoanalysis joined!\n",
            "Todos os clones concluídos!\n"
          ]
        }
      ]
    },
    {
      "cell_type": "code",
      "source": [
        "!rm -rf cassandra && rm -rf teste && rm -rf sysrepoanalysis"
      ],
      "metadata": {
        "id": "YQiusgJec3Ix"
      },
      "execution_count": 14,
      "outputs": []
    }
  ]
}
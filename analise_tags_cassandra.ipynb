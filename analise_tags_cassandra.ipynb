{
  "nbformat": 4,
  "nbformat_minor": 0,
  "metadata": {
    "colab": {
      "provenance": [],
      "authorship_tag": "ABX9TyOkjvN91+tzjlwnm5gMc09c",
      "include_colab_link": true
    },
    "kernelspec": {
      "name": "python3",
      "display_name": "Python 3"
    },
    "language_info": {
      "name": "python"
    }
  },
  "cells": [
    {
      "cell_type": "markdown",
      "metadata": {
        "id": "view-in-github",
        "colab_type": "text"
      },
      "source": [
        "<a href=\"https://colab.research.google.com/github/armandossrecife/teste/blob/main/analise_tags_cassandra.ipynb\" target=\"_parent\"><img src=\"https://colab.research.google.com/assets/colab-badge.svg\" alt=\"Open In Colab\"/></a>"
      ]
    },
    {
      "cell_type": "markdown",
      "source": [
        "#Dados da máquina virtual"
      ],
      "metadata": {
        "id": "kRwUMI5pbMGp"
      }
    },
    {
      "cell_type": "code",
      "execution_count": 21,
      "metadata": {
        "id": "WprfFmx8BBrO",
        "colab": {
          "base_uri": "https://localhost:8080/"
        },
        "outputId": "4da775e2-22c2-4da0-9169-137ef820bc03"
      },
      "outputs": [
        {
          "output_type": "stream",
          "name": "stdout",
          "text": [
            "No LSB modules are available.\n",
            "Distributor ID:\tUbuntu\n",
            "Description:\tUbuntu 20.04.5 LTS\n",
            "Release:\t20.04\n",
            "Codename:\tfocal\n"
          ]
        }
      ],
      "source": [
        "!lsb_release -a"
      ]
    },
    {
      "cell_type": "code",
      "source": [
        "!free -h"
      ],
      "metadata": {
        "colab": {
          "base_uri": "https://localhost:8080/"
        },
        "id": "30UqTbhHZN5d",
        "outputId": "a2c0af03-4b22-4be9-b87a-152a22e10c46"
      },
      "execution_count": 22,
      "outputs": [
        {
          "output_type": "stream",
          "name": "stdout",
          "text": [
            "              total        used        free      shared  buff/cache   available\n",
            "Mem:           12Gi       645Mi       8.8Gi       2.0Mi       3.3Gi        11Gi\n",
            "Swap:            0B          0B          0B\n"
          ]
        }
      ]
    },
    {
      "cell_type": "code",
      "source": [
        "!mkdir tag_300\n",
        "!mkdir tag_31111"
      ],
      "metadata": {
        "id": "99zq_mI3ZQf5"
      },
      "execution_count": 23,
      "outputs": []
    },
    {
      "cell_type": "code",
      "source": [
        "import os\n",
        "\n",
        "directory = \"cassandra\"\n",
        "\n",
        "if os.path.isdir(directory):\n",
        "    print(\"The directory exists.\")\n",
        "    print(\"Deleting cassandra...\")\n",
        "    comando = !rm -rf cassandra\n",
        "    print(\"Finished!\")\n",
        "else:\n",
        "    print(\"The directory cassandra does not exist.\")"
      ],
      "metadata": {
        "colab": {
          "base_uri": "https://localhost:8080/"
        },
        "id": "hr3enG-bOxUm",
        "outputId": "fee7e43e-30e4-4e86-ca06-1333209a9c7a"
      },
      "execution_count": 24,
      "outputs": [
        {
          "output_type": "stream",
          "name": "stdout",
          "text": [
            "The directory exists.\n",
            "Deleting cassandra...\n",
            "Finished!\n"
          ]
        }
      ]
    },
    {
      "cell_type": "markdown",
      "source": [
        "# Análise dos arquivos e tipos de linguagem"
      ],
      "metadata": {
        "id": "3QYwJ4tQ8TLo"
      }
    },
    {
      "cell_type": "code",
      "source": [
        "!git clone https://github.com/apache/cassandra.git"
      ],
      "metadata": {
        "colab": {
          "base_uri": "https://localhost:8080/"
        },
        "id": "6t5EGBLc9B4T",
        "outputId": "86e8c68a-d948-436d-9e3b-397900bf6884"
      },
      "execution_count": 25,
      "outputs": [
        {
          "output_type": "stream",
          "name": "stdout",
          "text": [
            "Cloning into 'cassandra'...\n",
            "remote: Enumerating objects: 384342, done.\u001b[K\n",
            "remote: Counting objects: 100% (52/52), done.\u001b[K\n",
            "remote: Compressing objects: 100% (35/35), done.\u001b[K\n",
            "remote: Total 384342 (delta 9), reused 40 (delta 7), pack-reused 384290\u001b[K\n",
            "Receiving objects: 100% (384342/384342), 385.26 MiB | 25.70 MiB/s, done.\n",
            "Resolving deltas: 100% (223881/223881), done.\n"
          ]
        }
      ]
    },
    {
      "cell_type": "code",
      "source": [
        "!sudo apt-get install cloc"
      ],
      "metadata": {
        "colab": {
          "base_uri": "https://localhost:8080/"
        },
        "id": "QoRygyz5_jQk",
        "outputId": "6daeb65f-1c77-41c9-dea4-f8c65eefdba9"
      },
      "execution_count": 26,
      "outputs": [
        {
          "output_type": "stream",
          "name": "stdout",
          "text": [
            "Reading package lists... Done\n",
            "Building dependency tree       \n",
            "Reading state information... Done\n",
            "cloc is already the newest version (1.82-1).\n",
            "0 upgraded, 0 newly installed, 0 to remove and 24 not upgraded.\n"
          ]
        }
      ]
    },
    {
      "cell_type": "code",
      "source": [
        "!echo \"Total de arquivos: \" && find cassandra -type f | wc -l"
      ],
      "metadata": {
        "colab": {
          "base_uri": "https://localhost:8080/"
        },
        "id": "BeGGXnUACijb",
        "outputId": "2925a708-b433-4fa6-8136-f7274adab7eb"
      },
      "execution_count": 27,
      "outputs": [
        {
          "output_type": "stream",
          "name": "stdout",
          "text": [
            "Total de arquivos: \n",
            "5228\n"
          ]
        }
      ]
    },
    {
      "cell_type": "markdown",
      "source": [
        "## Análise da tag 3.0.0"
      ],
      "metadata": {
        "id": "HmIRURZ_NOwK"
      }
    },
    {
      "cell_type": "code",
      "source": [
        "!cd cassandra && git checkout cassandra-3.0.0 && echo \"Total de arquivos: \" && find . -type f | wc -l"
      ],
      "metadata": {
        "colab": {
          "base_uri": "https://localhost:8080/"
        },
        "id": "nxSVFZkvGMKO",
        "outputId": "a257b8ef-000c-48c1-a349-ffeb7c436435"
      },
      "execution_count": 28,
      "outputs": [
        {
          "output_type": "stream",
          "name": "stdout",
          "text": [
            "Note: switching to 'cassandra-3.0.0'.\n",
            "\n",
            "You are in 'detached HEAD' state. You can look around, make experimental\n",
            "changes and commit them, and you can discard any commits you make in this\n",
            "state without impacting any branches by switching back to a branch.\n",
            "\n",
            "If you want to create a new branch to retain commits you create, you may\n",
            "do so (now or later) by using -c with the switch command. Example:\n",
            "\n",
            "  git switch -c <new-branch-name>\n",
            "\n",
            "Or undo this operation with:\n",
            "\n",
            "  git switch -\n",
            "\n",
            "Turn off this advice by setting config variable advice.detachedHead to false\n",
            "\n",
            "HEAD is now at 96f407bce5 3.0 release versions\n",
            "Total de arquivos: \n",
            "2406\n"
          ]
        }
      ]
    },
    {
      "cell_type": "code",
      "source": [
        "!cd cassandra && cloc ."
      ],
      "metadata": {
        "colab": {
          "base_uri": "https://localhost:8080/"
        },
        "id": "BbVgWhjADPwD",
        "outputId": "a1523143-d177-437b-887a-7ebfcc254bab"
      },
      "execution_count": 29,
      "outputs": [
        {
          "output_type": "stream",
          "name": "stdout",
          "text": [
            "     100 files\r     200 files\r     300 files\r     400 files\r     500 files\r     600 files\r     700 files\r     800 files\r     900 files\r    1000 files\r    1100 files\r    1200 files\r    1300 files\r    1400 files\r    1500 files\r    1600 files\r    1700 files\r    1800 files\r    1900 files\r    2000 files\r    2048 text files.\n",
            "    2005 unique files.                              \n",
            "     174 files ignored.\n",
            "\n",
            "github.com/AlDanial/cloc v 1.82  T=4.19 s (447.8 files/s, 110739.2 lines/s)\n",
            "-------------------------------------------------------------------------------\n",
            "Language                     files          blank        comment           code\n",
            "-------------------------------------------------------------------------------\n",
            "Java                          1763          58813          67779         316059\n",
            "Python                          25           1811           3007           5713\n",
            "Ant                              3            174            204           1915\n",
            "ANTLR Grammar                    1            198            221           1473\n",
            "Bourne Shell                    34            293            775           1295\n",
            "PowerShell                       4            127            203            808\n",
            "DOS Batch                       19            178             70            683\n",
            "XML                             11             40            100            585\n",
            "Markdown                         2             65              0            328\n",
            "YAML                             7            135            894            243\n",
            "CSS                              1             14             20             69\n",
            "make                             1             16              7             57\n",
            "JSON                             7              0              0             53\n",
            "-------------------------------------------------------------------------------\n",
            "SUM:                          1878          61864          73280         329281\n",
            "-------------------------------------------------------------------------------\n"
          ]
        }
      ]
    },
    {
      "cell_type": "markdown",
      "source": [
        "## Análise da tag 3.11.11"
      ],
      "metadata": {
        "id": "Sttjtg_6N7dS"
      }
    },
    {
      "cell_type": "code",
      "source": [
        "!cd cassandra && git checkout cassandra-3.11.11 && echo \"Total de arquivos: \" && find . -type f | wc -l"
      ],
      "metadata": {
        "colab": {
          "base_uri": "https://localhost:8080/"
        },
        "id": "h7rFcDZdN_uq",
        "outputId": "1bb58377-3411-4913-e7d5-6346522bdc91"
      },
      "execution_count": 30,
      "outputs": [
        {
          "output_type": "stream",
          "name": "stdout",
          "text": [
            "Previous HEAD position was 96f407bce5 3.0 release versions\n",
            "HEAD is now at 4cafe2288e Prepare for release 3.11.11\n",
            "Total de arquivos: \n",
            "3605\n"
          ]
        }
      ]
    },
    {
      "cell_type": "code",
      "source": [
        "!cd cassandra && cloc ."
      ],
      "metadata": {
        "colab": {
          "base_uri": "https://localhost:8080/"
        },
        "id": "bcufnOp6OIzZ",
        "outputId": "8fd8cc0e-ee6b-4756-a103-8f099ad76d74"
      },
      "execution_count": 31,
      "outputs": [
        {
          "output_type": "stream",
          "name": "stdout",
          "text": [
            "    2877 text files.\n",
            "    2808 unique files.                              \n",
            "     311 files ignored.\n",
            "\n",
            "github.com/AlDanial/cloc v 1.82  T=7.25 s (354.5 files/s, 89653.1 lines/s)\n",
            "--------------------------------------------------------------------------------\n",
            "Language                      files          blank        comment           code\n",
            "--------------------------------------------------------------------------------\n",
            "Java                           2353          82082          93702         432977\n",
            "Python                           33           2420           3436           8198\n",
            "reStructuredText                 56           2199           1528           5087\n",
            "YAML                             16            337           1472           2769\n",
            "Ant                               3            162            196           1706\n",
            "ANTLR Grammar                     3            231            284           1667\n",
            "Bourne Shell                     39            360            941           1567\n",
            "XML                              18             91            180           1308\n",
            "DOS Batch                        23            226             90           1019\n",
            "Markdown                          5            166              0            838\n",
            "PowerShell                        4            121            210            782\n",
            "HTML                              5            119            520            338\n",
            "make                              2             50             12            287\n",
            "CSS                               2             23             38            119\n",
            "Bourne Again Shell                1              9             34             78\n",
            "JSON                              7              0              0             53\n",
            "--------------------------------------------------------------------------------\n",
            "SUM:                           2570          88596         102643         458793\n",
            "--------------------------------------------------------------------------------\n"
          ]
        }
      ]
    },
    {
      "cell_type": "markdown",
      "source": [
        "## Transforma saída de texto do cloc para dataframe"
      ],
      "metadata": {
        "id": "99urynY1SD8X"
      }
    },
    {
      "cell_type": "code",
      "source": [
        "!cd cassandra && cloc . --out=cassandra_cloc.txt"
      ],
      "metadata": {
        "colab": {
          "base_uri": "https://localhost:8080/"
        },
        "id": "WeL7UGalQdGh",
        "outputId": "be83816b-ae8e-4246-9014-0059cb0e21ba"
      },
      "execution_count": 42,
      "outputs": [
        {
          "output_type": "stream",
          "name": "stdout",
          "text": [
            "     100 files\r     200 files\r     300 files\r     400 files\r     500 files\r     600 files\r     700 files\r     800 files\r     900 files\r    1000 files\r    1100 files\r    1200 files\r    1300 files\r    1400 files\r    1500 files\r    1600 files\r    1700 files\r    1800 files\r    1900 files\r    2000 files\r    2100 files\r    2200 files\r    2300 files\r    2400 files\r    2500 files\r    2600 files\r    2700 files\r    2800 files\r    2878 text files.\n",
            "    2809 unique files.                              \n",
            "     312 files ignored.\n",
            "Wrote cassandra_cloc.txt\n"
          ]
        }
      ]
    },
    {
      "cell_type": "code",
      "source": [
        "with open('cassandra/cassandra_cloc.txt', 'r') as f:\n",
        "    lines = f.readlines()[1:]\n",
        "\n",
        "with open('cassandra/cassandra_cloc.txt', 'w') as f:\n",
        "    f.writelines(lines)"
      ],
      "metadata": {
        "id": "4zzku-faQox8"
      },
      "execution_count": 43,
      "outputs": []
    },
    {
      "cell_type": "code",
      "source": [
        "import pandas as pd\n",
        "\n",
        "# read the text file into a dataframe\n",
        "df = pd.read_table('cassandra/cassandra_cloc.txt', sep='\\s{2,}', engine='python', skiprows=[0, 15, 16], header=None, names=['Language', 'files', 'blank', 'comment', 'code'], index_col='Language')\n",
        "\n",
        "# display the dataframe\n",
        "df\n"
      ],
      "metadata": {
        "colab": {
          "base_uri": "https://localhost:8080/",
          "height": 676
        },
        "id": "rXDkTNRyRVoq",
        "outputId": "2fcebfab-ab9a-4fb2-c899-c886d078b73e"
      },
      "execution_count": 44,
      "outputs": [
        {
          "output_type": "execute_result",
          "data": {
            "text/plain": [
              "                                                    files  blank  comment  \\\n",
              "Language                                                                    \n",
              "Language                                            files  blank  comment   \n",
              "-----------------------------------------------...   None   None     None   \n",
              "Java                                                 2353  82082    93702   \n",
              "Python                                                 33   2420     3436   \n",
              "reStructuredText                                       56   2199     1528   \n",
              "YAML                                                   16    337     1472   \n",
              "Ant                                                     3    162      196   \n",
              "ANTLR Grammar                                           3    231      284   \n",
              "Bourne Shell                                           39    360      941   \n",
              "XML                                                    18     91      180   \n",
              "DOS Batch                                              23    226       90   \n",
              "Markdown                                                5    166        0   \n",
              "PowerShell                                              4    121      210   \n",
              "HTML                                                    5    119      520   \n",
              "Bourne Again Shell                                      1      9       34   \n",
              "JSON                                                    7      0        0   \n",
              "-----------------------------------------------...   None   None     None   \n",
              "SUM:                                                 2570  88596   102643   \n",
              "-----------------------------------------------...   None   None     None   \n",
              "\n",
              "                                                      code  \n",
              "Language                                                    \n",
              "Language                                              code  \n",
              "-----------------------------------------------...    None  \n",
              "Java                                                432977  \n",
              "Python                                                8198  \n",
              "reStructuredText                                      5087  \n",
              "YAML                                                  2769  \n",
              "Ant                                                   1706  \n",
              "ANTLR Grammar                                         1667  \n",
              "Bourne Shell                                          1567  \n",
              "XML                                                   1308  \n",
              "DOS Batch                                             1019  \n",
              "Markdown                                               838  \n",
              "PowerShell                                             782  \n",
              "HTML                                                   338  \n",
              "Bourne Again Shell                                      78  \n",
              "JSON                                                    53  \n",
              "-----------------------------------------------...    None  \n",
              "SUM:                                                458793  \n",
              "-----------------------------------------------...    None  "
            ],
            "text/html": [
              "\n",
              "  <div id=\"df-e6b44256-a4cb-4cf9-995e-d2bf45cc78a4\">\n",
              "    <div class=\"colab-df-container\">\n",
              "      <div>\n",
              "<style scoped>\n",
              "    .dataframe tbody tr th:only-of-type {\n",
              "        vertical-align: middle;\n",
              "    }\n",
              "\n",
              "    .dataframe tbody tr th {\n",
              "        vertical-align: top;\n",
              "    }\n",
              "\n",
              "    .dataframe thead th {\n",
              "        text-align: right;\n",
              "    }\n",
              "</style>\n",
              "<table border=\"1\" class=\"dataframe\">\n",
              "  <thead>\n",
              "    <tr style=\"text-align: right;\">\n",
              "      <th></th>\n",
              "      <th>files</th>\n",
              "      <th>blank</th>\n",
              "      <th>comment</th>\n",
              "      <th>code</th>\n",
              "    </tr>\n",
              "    <tr>\n",
              "      <th>Language</th>\n",
              "      <th></th>\n",
              "      <th></th>\n",
              "      <th></th>\n",
              "      <th></th>\n",
              "    </tr>\n",
              "  </thead>\n",
              "  <tbody>\n",
              "    <tr>\n",
              "      <th>Language</th>\n",
              "      <td>files</td>\n",
              "      <td>blank</td>\n",
              "      <td>comment</td>\n",
              "      <td>code</td>\n",
              "    </tr>\n",
              "    <tr>\n",
              "      <th>--------------------------------------------------------------------------------</th>\n",
              "      <td>None</td>\n",
              "      <td>None</td>\n",
              "      <td>None</td>\n",
              "      <td>None</td>\n",
              "    </tr>\n",
              "    <tr>\n",
              "      <th>Java</th>\n",
              "      <td>2353</td>\n",
              "      <td>82082</td>\n",
              "      <td>93702</td>\n",
              "      <td>432977</td>\n",
              "    </tr>\n",
              "    <tr>\n",
              "      <th>Python</th>\n",
              "      <td>33</td>\n",
              "      <td>2420</td>\n",
              "      <td>3436</td>\n",
              "      <td>8198</td>\n",
              "    </tr>\n",
              "    <tr>\n",
              "      <th>reStructuredText</th>\n",
              "      <td>56</td>\n",
              "      <td>2199</td>\n",
              "      <td>1528</td>\n",
              "      <td>5087</td>\n",
              "    </tr>\n",
              "    <tr>\n",
              "      <th>YAML</th>\n",
              "      <td>16</td>\n",
              "      <td>337</td>\n",
              "      <td>1472</td>\n",
              "      <td>2769</td>\n",
              "    </tr>\n",
              "    <tr>\n",
              "      <th>Ant</th>\n",
              "      <td>3</td>\n",
              "      <td>162</td>\n",
              "      <td>196</td>\n",
              "      <td>1706</td>\n",
              "    </tr>\n",
              "    <tr>\n",
              "      <th>ANTLR Grammar</th>\n",
              "      <td>3</td>\n",
              "      <td>231</td>\n",
              "      <td>284</td>\n",
              "      <td>1667</td>\n",
              "    </tr>\n",
              "    <tr>\n",
              "      <th>Bourne Shell</th>\n",
              "      <td>39</td>\n",
              "      <td>360</td>\n",
              "      <td>941</td>\n",
              "      <td>1567</td>\n",
              "    </tr>\n",
              "    <tr>\n",
              "      <th>XML</th>\n",
              "      <td>18</td>\n",
              "      <td>91</td>\n",
              "      <td>180</td>\n",
              "      <td>1308</td>\n",
              "    </tr>\n",
              "    <tr>\n",
              "      <th>DOS Batch</th>\n",
              "      <td>23</td>\n",
              "      <td>226</td>\n",
              "      <td>90</td>\n",
              "      <td>1019</td>\n",
              "    </tr>\n",
              "    <tr>\n",
              "      <th>Markdown</th>\n",
              "      <td>5</td>\n",
              "      <td>166</td>\n",
              "      <td>0</td>\n",
              "      <td>838</td>\n",
              "    </tr>\n",
              "    <tr>\n",
              "      <th>PowerShell</th>\n",
              "      <td>4</td>\n",
              "      <td>121</td>\n",
              "      <td>210</td>\n",
              "      <td>782</td>\n",
              "    </tr>\n",
              "    <tr>\n",
              "      <th>HTML</th>\n",
              "      <td>5</td>\n",
              "      <td>119</td>\n",
              "      <td>520</td>\n",
              "      <td>338</td>\n",
              "    </tr>\n",
              "    <tr>\n",
              "      <th>Bourne Again Shell</th>\n",
              "      <td>1</td>\n",
              "      <td>9</td>\n",
              "      <td>34</td>\n",
              "      <td>78</td>\n",
              "    </tr>\n",
              "    <tr>\n",
              "      <th>JSON</th>\n",
              "      <td>7</td>\n",
              "      <td>0</td>\n",
              "      <td>0</td>\n",
              "      <td>53</td>\n",
              "    </tr>\n",
              "    <tr>\n",
              "      <th>--------------------------------------------------------------------------------</th>\n",
              "      <td>None</td>\n",
              "      <td>None</td>\n",
              "      <td>None</td>\n",
              "      <td>None</td>\n",
              "    </tr>\n",
              "    <tr>\n",
              "      <th>SUM:</th>\n",
              "      <td>2570</td>\n",
              "      <td>88596</td>\n",
              "      <td>102643</td>\n",
              "      <td>458793</td>\n",
              "    </tr>\n",
              "    <tr>\n",
              "      <th>--------------------------------------------------------------------------------</th>\n",
              "      <td>None</td>\n",
              "      <td>None</td>\n",
              "      <td>None</td>\n",
              "      <td>None</td>\n",
              "    </tr>\n",
              "  </tbody>\n",
              "</table>\n",
              "</div>\n",
              "      <button class=\"colab-df-convert\" onclick=\"convertToInteractive('df-e6b44256-a4cb-4cf9-995e-d2bf45cc78a4')\"\n",
              "              title=\"Convert this dataframe to an interactive table.\"\n",
              "              style=\"display:none;\">\n",
              "        \n",
              "  <svg xmlns=\"http://www.w3.org/2000/svg\" height=\"24px\"viewBox=\"0 0 24 24\"\n",
              "       width=\"24px\">\n",
              "    <path d=\"M0 0h24v24H0V0z\" fill=\"none\"/>\n",
              "    <path d=\"M18.56 5.44l.94 2.06.94-2.06 2.06-.94-2.06-.94-.94-2.06-.94 2.06-2.06.94zm-11 1L8.5 8.5l.94-2.06 2.06-.94-2.06-.94L8.5 2.5l-.94 2.06-2.06.94zm10 10l.94 2.06.94-2.06 2.06-.94-2.06-.94-.94-2.06-.94 2.06-2.06.94z\"/><path d=\"M17.41 7.96l-1.37-1.37c-.4-.4-.92-.59-1.43-.59-.52 0-1.04.2-1.43.59L10.3 9.45l-7.72 7.72c-.78.78-.78 2.05 0 2.83L4 21.41c.39.39.9.59 1.41.59.51 0 1.02-.2 1.41-.59l7.78-7.78 2.81-2.81c.8-.78.8-2.07 0-2.86zM5.41 20L4 18.59l7.72-7.72 1.47 1.35L5.41 20z\"/>\n",
              "  </svg>\n",
              "      </button>\n",
              "      \n",
              "  <style>\n",
              "    .colab-df-container {\n",
              "      display:flex;\n",
              "      flex-wrap:wrap;\n",
              "      gap: 12px;\n",
              "    }\n",
              "\n",
              "    .colab-df-convert {\n",
              "      background-color: #E8F0FE;\n",
              "      border: none;\n",
              "      border-radius: 50%;\n",
              "      cursor: pointer;\n",
              "      display: none;\n",
              "      fill: #1967D2;\n",
              "      height: 32px;\n",
              "      padding: 0 0 0 0;\n",
              "      width: 32px;\n",
              "    }\n",
              "\n",
              "    .colab-df-convert:hover {\n",
              "      background-color: #E2EBFA;\n",
              "      box-shadow: 0px 1px 2px rgba(60, 64, 67, 0.3), 0px 1px 3px 1px rgba(60, 64, 67, 0.15);\n",
              "      fill: #174EA6;\n",
              "    }\n",
              "\n",
              "    [theme=dark] .colab-df-convert {\n",
              "      background-color: #3B4455;\n",
              "      fill: #D2E3FC;\n",
              "    }\n",
              "\n",
              "    [theme=dark] .colab-df-convert:hover {\n",
              "      background-color: #434B5C;\n",
              "      box-shadow: 0px 1px 3px 1px rgba(0, 0, 0, 0.15);\n",
              "      filter: drop-shadow(0px 1px 2px rgba(0, 0, 0, 0.3));\n",
              "      fill: #FFFFFF;\n",
              "    }\n",
              "  </style>\n",
              "\n",
              "      <script>\n",
              "        const buttonEl =\n",
              "          document.querySelector('#df-e6b44256-a4cb-4cf9-995e-d2bf45cc78a4 button.colab-df-convert');\n",
              "        buttonEl.style.display =\n",
              "          google.colab.kernel.accessAllowed ? 'block' : 'none';\n",
              "\n",
              "        async function convertToInteractive(key) {\n",
              "          const element = document.querySelector('#df-e6b44256-a4cb-4cf9-995e-d2bf45cc78a4');\n",
              "          const dataTable =\n",
              "            await google.colab.kernel.invokeFunction('convertToInteractive',\n",
              "                                                     [key], {});\n",
              "          if (!dataTable) return;\n",
              "\n",
              "          const docLinkHtml = 'Like what you see? Visit the ' +\n",
              "            '<a target=\"_blank\" href=https://colab.research.google.com/notebooks/data_table.ipynb>data table notebook</a>'\n",
              "            + ' to learn more about interactive tables.';\n",
              "          element.innerHTML = '';\n",
              "          dataTable['output_type'] = 'display_data';\n",
              "          await google.colab.output.renderOutput(dataTable, element);\n",
              "          const docLink = document.createElement('div');\n",
              "          docLink.innerHTML = docLinkHtml;\n",
              "          element.appendChild(docLink);\n",
              "        }\n",
              "      </script>\n",
              "    </div>\n",
              "  </div>\n",
              "  "
            ]
          },
          "metadata": {},
          "execution_count": 44
        }
      ]
    },
    {
      "cell_type": "code",
      "source": [
        "java_files = df.loc['Java', 'files']\n",
        "print(java_files)"
      ],
      "metadata": {
        "colab": {
          "base_uri": "https://localhost:8080/"
        },
        "id": "M_1IONQCRjQp",
        "outputId": "d7767483-16fd-4441-a796-22e8ac01013a"
      },
      "execution_count": 45,
      "outputs": [
        {
          "output_type": "stream",
          "name": "stdout",
          "text": [
            "2353\n"
          ]
        }
      ]
    },
    {
      "cell_type": "code",
      "source": [
        "java_code = df.loc['Java', 'code']\n",
        "print(java_code)"
      ],
      "metadata": {
        "colab": {
          "base_uri": "https://localhost:8080/"
        },
        "id": "NYwViH9ETGQU",
        "outputId": "ab53fd14-d811-494e-d612-fc84080891c0"
      },
      "execution_count": 46,
      "outputs": [
        {
          "output_type": "stream",
          "name": "stdout",
          "text": [
            "432977\n"
          ]
        }
      ]
    },
    {
      "cell_type": "code",
      "source": [],
      "metadata": {
        "id": "TNM4pFyeTKuL"
      },
      "execution_count": null,
      "outputs": []
    }
  ]
}
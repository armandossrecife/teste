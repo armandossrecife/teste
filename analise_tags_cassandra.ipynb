{
  "nbformat": 4,
  "nbformat_minor": 0,
  "metadata": {
    "colab": {
      "provenance": [],
      "collapsed_sections": [
        "kRwUMI5pbMGp"
      ],
      "authorship_tag": "ABX9TyNA9IOrvXuPVPsg9gjqKr1t",
      "include_colab_link": true
    },
    "kernelspec": {
      "name": "python3",
      "display_name": "Python 3"
    },
    "language_info": {
      "name": "python"
    }
  },
  "cells": [
    {
      "cell_type": "markdown",
      "metadata": {
        "id": "view-in-github",
        "colab_type": "text"
      },
      "source": [
        "<a href=\"https://colab.research.google.com/github/armandossrecife/teste/blob/main/analise_tags_cassandra.ipynb\" target=\"_parent\"><img src=\"https://colab.research.google.com/assets/colab-badge.svg\" alt=\"Open In Colab\"/></a>"
      ]
    },
    {
      "cell_type": "markdown",
      "source": [
        "#Dados da máquina virtual"
      ],
      "metadata": {
        "id": "kRwUMI5pbMGp"
      }
    },
    {
      "cell_type": "code",
      "execution_count": 1,
      "metadata": {
        "id": "WprfFmx8BBrO",
        "colab": {
          "base_uri": "https://localhost:8080/"
        },
        "outputId": "0220d0a0-5159-43e4-ef8b-6c507ec82e2a"
      },
      "outputs": [
        {
          "output_type": "stream",
          "name": "stdout",
          "text": [
            "['No LSB modules are available.', 'Distributor ID:\\tUbuntu', 'Description:\\tUbuntu 20.04.5 LTS', 'Release:\\t20.04', 'Codename:\\tfocal']\n",
            "['              total        used        free      shared  buff/cache   available', 'Mem:           12Gi       547Mi       9.0Gi       1.0Mi       3.1Gi        11Gi', 'Swap:            0B          0B          0B']\n"
          ]
        }
      ],
      "source": [
        "distro_linux = !lsb_release -a\n",
        "memoria_ram = !free -h\n",
        "print(distro_linux)\n",
        "print(memoria_ram)"
      ]
    },
    {
      "cell_type": "markdown",
      "source": [
        "# Funções de apoio"
      ],
      "metadata": {
        "id": "8d42fRVYj-I0"
      }
    },
    {
      "cell_type": "code",
      "source": [
        "import os\n",
        "import pandas as pd\n",
        "\n",
        "# dado um diretorio, remove o diretorio\n",
        "def remove_diretorio_existente(directory):\n",
        "  if os.path.isdir(directory):\n",
        "      os.environ['DIRECTORY'] = directory\n",
        "      print(f\"The directory {directory} exists.\")\n",
        "      print(f\"Deleting {directory}...\")\n",
        "      comando = !rm -rf $DIRECTORY\n",
        "      print(\"Finished!\")\n",
        "  else:\n",
        "      print(f\"The directory {directory} does not exist.\")\n",
        "\n",
        "# dado um diretorio, calcula a quantidade total de arquivos do diretorio\n",
        "def get_total_arquivos(directory):\n",
        "  os.environ['DIRECTORY'] = directory\n",
        "  total_arquivos = !echo \"Total de arquivos: \" && find $DIRECTORY -type f | wc -l\n",
        "  total_arquivos = int(total_arquivos[1])\n",
        "  return total_arquivos\n",
        "\n",
        "# pega a lista de tags de um diretorio sob gerencia de configuracao do git\n",
        "def get_lista_tags(directory):\n",
        "  os.environ['DIRECTORY'] = directory\n",
        "  lista_tags = !cd $DIRECTORY && git tag\n",
        "  return lista_tags\n",
        "\n",
        "# dado um diretorio sob gerencia de configuracao e uma tag, retorna \n",
        "# a quantidade de arquivos do diretorio setado para o branch da tag passada\n",
        "def get_total_arquivos_branch(directory, my_tag):\n",
        "  os.environ['DIRECTORY'] = directory\n",
        "  os.environ['MY_TAG'] = my_tag\n",
        "  comando = !cd $DIRECTORY && git checkout $MY_TAG && echo \"Total de arquivos: \" && find . -type f | wc -l\n",
        "  total_arquivos = int(comando[-1])\n",
        "  return total_arquivos\n",
        "\n",
        "# dado um diretorio sob gerencia de configuracao e uma tag, retorna uma lista contendo \n",
        "# os tipos de arquivos do diretorio\n",
        "def get_types_of_files_branch(directory, my_tag):\n",
        "  os.environ['DIRECTORY'] = directory\n",
        "  os.environ['MY_TAG'] = my_tag\n",
        "  comando1 = !cd $DIRECTORY && git checkout $MY_TAG\n",
        "  comando2 = !cd $DIRECTORY && cloc .\n",
        "  return comando2\n",
        "\n",
        "# dado um diretorio sob gerencia de configuracao e uma tag, retorna um dataframe contendo \n",
        "# os tipos de arquivos do diretorio\n",
        "def get_texto_cloc_para_df(directory, my_tag):\n",
        "  os.environ['DIRECTORY'] = directory\n",
        "  os.environ['EXTENSION'] = '_cloc.txt'\n",
        "  os.environ['MY_TAG'] = my_tag\n",
        "  comando1 = !cd $DIRECTORY && git checkout $MY_TAG\n",
        "  comando2 = !cd $DIRECTORY && cloc . --out=$DIRECTORY$EXTENSION\n",
        "  my_cloc = directory + '_cloc.txt'\n",
        "  my_file = directory + '/' + my_cloc\n",
        "  with open(my_file, 'r') as f:\n",
        "      lines = f.readlines()[1:]\n",
        "  with open(my_file, 'w') as f:\n",
        "      f.writelines(lines)\n",
        "  # read the text file into a dataframe\n",
        "  df = pd.read_table(my_file, sep='\\s{2,}', engine='python', skiprows=[0, 15, 16], header=None, names=['Language', 'files', 'blank', 'comment', 'code'], index_col='Language')\n",
        "  # display the dataframe\n",
        "  df\n",
        "  return df"
      ],
      "metadata": {
        "id": "hr3enG-bOxUm"
      },
      "execution_count": 3,
      "outputs": []
    },
    {
      "cell_type": "markdown",
      "source": [
        "# Prepara ambiente"
      ],
      "metadata": {
        "id": "PQQ-zEvglBLy"
      }
    },
    {
      "cell_type": "code",
      "source": [
        "remove_diretorio_existente(directory='cassandra')"
      ],
      "metadata": {
        "id": "VcgzfdR8kChg",
        "outputId": "03d3c580-059f-4300-ac72-017635d0615c",
        "colab": {
          "base_uri": "https://localhost:8080/"
        }
      },
      "execution_count": 4,
      "outputs": [
        {
          "output_type": "stream",
          "name": "stdout",
          "text": [
            "The directory cassandra does not exist.\n"
          ]
        }
      ]
    },
    {
      "cell_type": "markdown",
      "source": [
        "# Análise dos arquivos e tipos de linguagem"
      ],
      "metadata": {
        "id": "3QYwJ4tQ8TLo"
      }
    },
    {
      "cell_type": "code",
      "source": [
        "!git clone https://github.com/apache/cassandra.git"
      ],
      "metadata": {
        "id": "6t5EGBLc9B4T",
        "colab": {
          "base_uri": "https://localhost:8080/"
        },
        "outputId": "bcc18f96-e6ed-4e90-f117-71a957e72b59"
      },
      "execution_count": 5,
      "outputs": [
        {
          "output_type": "stream",
          "name": "stdout",
          "text": [
            "Cloning into 'cassandra'...\n",
            "remote: Enumerating objects: 384453, done.\u001b[K\n",
            "remote: Counting objects: 100% (154/154), done.\u001b[K\n",
            "remote: Compressing objects: 100% (74/74), done.\u001b[K\n",
            "remote: Total 384453 (delta 49), reused 135 (delta 47), pack-reused 384299\u001b[K\n",
            "Receiving objects: 100% (384453/384453), 385.48 MiB | 24.32 MiB/s, done.\n",
            "Resolving deltas: 100% (223930/223930), done.\n"
          ]
        }
      ]
    },
    {
      "cell_type": "code",
      "source": [
        "!sudo apt-get install cloc"
      ],
      "metadata": {
        "id": "QoRygyz5_jQk"
      },
      "execution_count": null,
      "outputs": []
    },
    {
      "cell_type": "code",
      "source": [
        "comando = !cd cassandra && git tag\n",
        "print(comando[-1])"
      ],
      "metadata": {
        "colab": {
          "base_uri": "https://localhost:8080/"
        },
        "id": "-3y_4jAwvw_N",
        "outputId": "c934ed89-1009-4248-97a9-0c3227e6ceb1"
      },
      "execution_count": 11,
      "outputs": [
        {
          "output_type": "stream",
          "name": "stdout",
          "text": [
            "cassandra-4.1.1\n"
          ]
        }
      ]
    },
    {
      "cell_type": "code",
      "source": [
        "print(f\"Total de arquivos: {get_total_arquivos(directory='cassandra')}\")"
      ],
      "metadata": {
        "colab": {
          "base_uri": "https://localhost:8080/"
        },
        "id": "BeGGXnUACijb",
        "outputId": "18cf1e4e-209a-4de3-ab6b-b7ac44255330"
      },
      "execution_count": 7,
      "outputs": [
        {
          "output_type": "stream",
          "name": "stdout",
          "text": [
            "Total de arquivos: 5228\n"
          ]
        }
      ]
    },
    {
      "cell_type": "markdown",
      "source": [
        "# Lista de tags para análise\n",
        "\n",
        "lista_tags_cassandra = ['cassandra-3.0.0', 'cassandra-3.1', 'cassandra-3.2', 'cassandra-3.3', 'cassandra-3.4', 'cassandra-3.5', 'cassandra-3.6', 'cassandra-3.7','cassandra-3.8','cassandra-3.9','cassandra-3.10','cassandra-3.11.11']"
      ],
      "metadata": {
        "id": "jE90-kdPogVx"
      }
    },
    {
      "cell_type": "code",
      "source": [
        "lista_tags_cassandra = ['cassandra-3.0.0', 'cassandra-3.1', 'cassandra-3.2', 'cassandra-3.3', 'cassandra-3.4', 'cassandra-3.5', 'cassandra-3.6', 'cassandra-3.7','cassandra-3.8','cassandra-3.9','cassandra-3.10','cassandra-3.11.11']\n",
        "\n",
        "print(f\"Qtd de tags: {len(lista_tags_cassandra)}, {lista_tags_cassandra}\")"
      ],
      "metadata": {
        "id": "OwVIKlBZpDCn",
        "outputId": "59093684-3387-4219-d102-1f723e2811e6",
        "colab": {
          "base_uri": "https://localhost:8080/"
        }
      },
      "execution_count": 12,
      "outputs": [
        {
          "output_type": "stream",
          "name": "stdout",
          "text": [
            "Qtd de tags: 12, ['cassandra-3.0.0', 'cassandra-3.1', 'cassandra-3.2', 'cassandra-3.3', 'cassandra-3.4', 'cassandra-3.5', 'cassandra-3.6', 'cassandra-3.7', 'cassandra-3.8', 'cassandra-3.9', 'cassandra-3.10', 'cassandra-3.11.11']\n"
          ]
        }
      ]
    },
    {
      "cell_type": "markdown",
      "source": [
        "## Analisa a quantidade total arquivos de cada tag e os tipos de arquivos de cada tag"
      ],
      "metadata": {
        "id": "xYiVuydYwyhg"
      }
    },
    {
      "cell_type": "code",
      "source": [
        "dict_total_arquivos = {}\n",
        "dict_dfs = {}\n",
        "for each_tag in lista_tags_cassandra:\n",
        "  print(f'Analisando a tag {each_tag}')\n",
        "  dict_total_arquivos[each_tag] = get_total_arquivos_branch(directory='cassandra', my_tag=each_tag)\n",
        "  df = get_texto_cloc_para_df(directory='cassandra', my_tag=each_tag)\n",
        "  dict_dfs[each_tag] = df\n",
        "  print('Análise concluída!')"
      ],
      "metadata": {
        "colab": {
          "base_uri": "https://localhost:8080/"
        },
        "id": "hs7sf9D-y-kl",
        "outputId": "c5144641-8b56-40e7-d487-131078d0bb74"
      },
      "execution_count": 13,
      "outputs": [
        {
          "output_type": "stream",
          "name": "stdout",
          "text": [
            "Analisando a tag cassandra-3.0.0\n",
            "Análise concluída!\n",
            "Analisando a tag cassandra-3.1\n",
            "Análise concluída!\n",
            "Analisando a tag cassandra-3.2\n",
            "Análise concluída!\n",
            "Analisando a tag cassandra-3.3\n",
            "Análise concluída!\n",
            "Analisando a tag cassandra-3.4\n",
            "Análise concluída!\n",
            "Analisando a tag cassandra-3.5\n",
            "Análise concluída!\n",
            "Analisando a tag cassandra-3.6\n",
            "Análise concluída!\n",
            "Analisando a tag cassandra-3.7\n",
            "Análise concluída!\n",
            "Analisando a tag cassandra-3.8\n",
            "Análise concluída!\n",
            "Analisando a tag cassandra-3.9\n",
            "Análise concluída!\n",
            "Analisando a tag cassandra-3.10\n",
            "Análise concluída!\n",
            "Analisando a tag cassandra-3.11.11\n",
            "Análise concluída!\n"
          ]
        }
      ]
    },
    {
      "cell_type": "code",
      "source": [
        "print(dict_total_arquivos['cassandra-3.0.0'])\n",
        "dict_dfs['cassandra-3.0.0']"
      ],
      "metadata": {
        "colab": {
          "base_uri": "https://localhost:8080/",
          "height": 599
        },
        "id": "9vkaT3yU3wPK",
        "outputId": "1104cbd3-fd12-4132-821e-a5006c5a2457"
      },
      "execution_count": 19,
      "outputs": [
        {
          "output_type": "stream",
          "name": "stdout",
          "text": [
            "2406\n"
          ]
        },
        {
          "output_type": "execute_result",
          "data": {
            "text/plain": [
              "                                                    files  blank  comment  \\\n",
              "Language                                                                    \n",
              "Language                                            files  blank  comment   \n",
              "-----------------------------------------------...   None   None     None   \n",
              "Java                                                 1763  58813    67779   \n",
              "Python                                                 25   1811     3007   \n",
              "Ant                                                     3    174      204   \n",
              "ANTLR Grammar                                           1    198      221   \n",
              "Bourne Shell                                           34    293      775   \n",
              "PowerShell                                              4    127      203   \n",
              "DOS Batch                                              19    178       70   \n",
              "XML                                                    11     40      100   \n",
              "Markdown                                                2     65        0   \n",
              "YAML                                                    7    135      894   \n",
              "CSS                                                     1     14       20   \n",
              "make                                                    1     16        7   \n",
              "SUM:                                                 1878  61864    73280   \n",
              "-----------------------------------------------...   None   None     None   \n",
              "\n",
              "                                                      code  \n",
              "Language                                                    \n",
              "Language                                              code  \n",
              "-----------------------------------------------...    None  \n",
              "Java                                                316059  \n",
              "Python                                                5713  \n",
              "Ant                                                   1915  \n",
              "ANTLR Grammar                                         1473  \n",
              "Bourne Shell                                          1295  \n",
              "PowerShell                                             808  \n",
              "DOS Batch                                              683  \n",
              "XML                                                    585  \n",
              "Markdown                                               328  \n",
              "YAML                                                   243  \n",
              "CSS                                                     69  \n",
              "make                                                    57  \n",
              "SUM:                                                329281  \n",
              "-----------------------------------------------...    None  "
            ],
            "text/html": [
              "\n",
              "  <div id=\"df-e629c12f-8348-4812-b88c-07779092cee9\">\n",
              "    <div class=\"colab-df-container\">\n",
              "      <div>\n",
              "<style scoped>\n",
              "    .dataframe tbody tr th:only-of-type {\n",
              "        vertical-align: middle;\n",
              "    }\n",
              "\n",
              "    .dataframe tbody tr th {\n",
              "        vertical-align: top;\n",
              "    }\n",
              "\n",
              "    .dataframe thead th {\n",
              "        text-align: right;\n",
              "    }\n",
              "</style>\n",
              "<table border=\"1\" class=\"dataframe\">\n",
              "  <thead>\n",
              "    <tr style=\"text-align: right;\">\n",
              "      <th></th>\n",
              "      <th>files</th>\n",
              "      <th>blank</th>\n",
              "      <th>comment</th>\n",
              "      <th>code</th>\n",
              "    </tr>\n",
              "    <tr>\n",
              "      <th>Language</th>\n",
              "      <th></th>\n",
              "      <th></th>\n",
              "      <th></th>\n",
              "      <th></th>\n",
              "    </tr>\n",
              "  </thead>\n",
              "  <tbody>\n",
              "    <tr>\n",
              "      <th>Language</th>\n",
              "      <td>files</td>\n",
              "      <td>blank</td>\n",
              "      <td>comment</td>\n",
              "      <td>code</td>\n",
              "    </tr>\n",
              "    <tr>\n",
              "      <th>-------------------------------------------------------------------------------</th>\n",
              "      <td>None</td>\n",
              "      <td>None</td>\n",
              "      <td>None</td>\n",
              "      <td>None</td>\n",
              "    </tr>\n",
              "    <tr>\n",
              "      <th>Java</th>\n",
              "      <td>1763</td>\n",
              "      <td>58813</td>\n",
              "      <td>67779</td>\n",
              "      <td>316059</td>\n",
              "    </tr>\n",
              "    <tr>\n",
              "      <th>Python</th>\n",
              "      <td>25</td>\n",
              "      <td>1811</td>\n",
              "      <td>3007</td>\n",
              "      <td>5713</td>\n",
              "    </tr>\n",
              "    <tr>\n",
              "      <th>Ant</th>\n",
              "      <td>3</td>\n",
              "      <td>174</td>\n",
              "      <td>204</td>\n",
              "      <td>1915</td>\n",
              "    </tr>\n",
              "    <tr>\n",
              "      <th>ANTLR Grammar</th>\n",
              "      <td>1</td>\n",
              "      <td>198</td>\n",
              "      <td>221</td>\n",
              "      <td>1473</td>\n",
              "    </tr>\n",
              "    <tr>\n",
              "      <th>Bourne Shell</th>\n",
              "      <td>34</td>\n",
              "      <td>293</td>\n",
              "      <td>775</td>\n",
              "      <td>1295</td>\n",
              "    </tr>\n",
              "    <tr>\n",
              "      <th>PowerShell</th>\n",
              "      <td>4</td>\n",
              "      <td>127</td>\n",
              "      <td>203</td>\n",
              "      <td>808</td>\n",
              "    </tr>\n",
              "    <tr>\n",
              "      <th>DOS Batch</th>\n",
              "      <td>19</td>\n",
              "      <td>178</td>\n",
              "      <td>70</td>\n",
              "      <td>683</td>\n",
              "    </tr>\n",
              "    <tr>\n",
              "      <th>XML</th>\n",
              "      <td>11</td>\n",
              "      <td>40</td>\n",
              "      <td>100</td>\n",
              "      <td>585</td>\n",
              "    </tr>\n",
              "    <tr>\n",
              "      <th>Markdown</th>\n",
              "      <td>2</td>\n",
              "      <td>65</td>\n",
              "      <td>0</td>\n",
              "      <td>328</td>\n",
              "    </tr>\n",
              "    <tr>\n",
              "      <th>YAML</th>\n",
              "      <td>7</td>\n",
              "      <td>135</td>\n",
              "      <td>894</td>\n",
              "      <td>243</td>\n",
              "    </tr>\n",
              "    <tr>\n",
              "      <th>CSS</th>\n",
              "      <td>1</td>\n",
              "      <td>14</td>\n",
              "      <td>20</td>\n",
              "      <td>69</td>\n",
              "    </tr>\n",
              "    <tr>\n",
              "      <th>make</th>\n",
              "      <td>1</td>\n",
              "      <td>16</td>\n",
              "      <td>7</td>\n",
              "      <td>57</td>\n",
              "    </tr>\n",
              "    <tr>\n",
              "      <th>SUM:</th>\n",
              "      <td>1878</td>\n",
              "      <td>61864</td>\n",
              "      <td>73280</td>\n",
              "      <td>329281</td>\n",
              "    </tr>\n",
              "    <tr>\n",
              "      <th>-------------------------------------------------------------------------------</th>\n",
              "      <td>None</td>\n",
              "      <td>None</td>\n",
              "      <td>None</td>\n",
              "      <td>None</td>\n",
              "    </tr>\n",
              "  </tbody>\n",
              "</table>\n",
              "</div>\n",
              "      <button class=\"colab-df-convert\" onclick=\"convertToInteractive('df-e629c12f-8348-4812-b88c-07779092cee9')\"\n",
              "              title=\"Convert this dataframe to an interactive table.\"\n",
              "              style=\"display:none;\">\n",
              "        \n",
              "  <svg xmlns=\"http://www.w3.org/2000/svg\" height=\"24px\"viewBox=\"0 0 24 24\"\n",
              "       width=\"24px\">\n",
              "    <path d=\"M0 0h24v24H0V0z\" fill=\"none\"/>\n",
              "    <path d=\"M18.56 5.44l.94 2.06.94-2.06 2.06-.94-2.06-.94-.94-2.06-.94 2.06-2.06.94zm-11 1L8.5 8.5l.94-2.06 2.06-.94-2.06-.94L8.5 2.5l-.94 2.06-2.06.94zm10 10l.94 2.06.94-2.06 2.06-.94-2.06-.94-.94-2.06-.94 2.06-2.06.94z\"/><path d=\"M17.41 7.96l-1.37-1.37c-.4-.4-.92-.59-1.43-.59-.52 0-1.04.2-1.43.59L10.3 9.45l-7.72 7.72c-.78.78-.78 2.05 0 2.83L4 21.41c.39.39.9.59 1.41.59.51 0 1.02-.2 1.41-.59l7.78-7.78 2.81-2.81c.8-.78.8-2.07 0-2.86zM5.41 20L4 18.59l7.72-7.72 1.47 1.35L5.41 20z\"/>\n",
              "  </svg>\n",
              "      </button>\n",
              "      \n",
              "  <style>\n",
              "    .colab-df-container {\n",
              "      display:flex;\n",
              "      flex-wrap:wrap;\n",
              "      gap: 12px;\n",
              "    }\n",
              "\n",
              "    .colab-df-convert {\n",
              "      background-color: #E8F0FE;\n",
              "      border: none;\n",
              "      border-radius: 50%;\n",
              "      cursor: pointer;\n",
              "      display: none;\n",
              "      fill: #1967D2;\n",
              "      height: 32px;\n",
              "      padding: 0 0 0 0;\n",
              "      width: 32px;\n",
              "    }\n",
              "\n",
              "    .colab-df-convert:hover {\n",
              "      background-color: #E2EBFA;\n",
              "      box-shadow: 0px 1px 2px rgba(60, 64, 67, 0.3), 0px 1px 3px 1px rgba(60, 64, 67, 0.15);\n",
              "      fill: #174EA6;\n",
              "    }\n",
              "\n",
              "    [theme=dark] .colab-df-convert {\n",
              "      background-color: #3B4455;\n",
              "      fill: #D2E3FC;\n",
              "    }\n",
              "\n",
              "    [theme=dark] .colab-df-convert:hover {\n",
              "      background-color: #434B5C;\n",
              "      box-shadow: 0px 1px 3px 1px rgba(0, 0, 0, 0.15);\n",
              "      filter: drop-shadow(0px 1px 2px rgba(0, 0, 0, 0.3));\n",
              "      fill: #FFFFFF;\n",
              "    }\n",
              "  </style>\n",
              "\n",
              "      <script>\n",
              "        const buttonEl =\n",
              "          document.querySelector('#df-e629c12f-8348-4812-b88c-07779092cee9 button.colab-df-convert');\n",
              "        buttonEl.style.display =\n",
              "          google.colab.kernel.accessAllowed ? 'block' : 'none';\n",
              "\n",
              "        async function convertToInteractive(key) {\n",
              "          const element = document.querySelector('#df-e629c12f-8348-4812-b88c-07779092cee9');\n",
              "          const dataTable =\n",
              "            await google.colab.kernel.invokeFunction('convertToInteractive',\n",
              "                                                     [key], {});\n",
              "          if (!dataTable) return;\n",
              "\n",
              "          const docLinkHtml = 'Like what you see? Visit the ' +\n",
              "            '<a target=\"_blank\" href=https://colab.research.google.com/notebooks/data_table.ipynb>data table notebook</a>'\n",
              "            + ' to learn more about interactive tables.';\n",
              "          element.innerHTML = '';\n",
              "          dataTable['output_type'] = 'display_data';\n",
              "          await google.colab.output.renderOutput(dataTable, element);\n",
              "          const docLink = document.createElement('div');\n",
              "          docLink.innerHTML = docLinkHtml;\n",
              "          element.appendChild(docLink);\n",
              "        }\n",
              "      </script>\n",
              "    </div>\n",
              "  </div>\n",
              "  "
            ]
          },
          "metadata": {},
          "execution_count": 19
        }
      ]
    },
    {
      "cell_type": "code",
      "source": [
        "print(dict_dfs['cassandra-3.0.0']['files']['Java'])\n",
        "print(dict_dfs['cassandra-3.0.0']['blank']['Java'])\n",
        "print(dict_dfs['cassandra-3.0.0']['comment']['Java'])\n",
        "print(dict_dfs['cassandra-3.0.0']['code']['Java'])"
      ],
      "metadata": {
        "colab": {
          "base_uri": "https://localhost:8080/"
        },
        "id": "jxtRM1wt1zer",
        "outputId": "ca91ac6f-673a-4d38-d0b4-d2f3a3c7cd03"
      },
      "execution_count": 34,
      "outputs": [
        {
          "output_type": "stream",
          "name": "stdout",
          "text": [
            "1763\n",
            "58813\n",
            "67779\n",
            "316059\n"
          ]
        }
      ]
    },
    {
      "cell_type": "code",
      "source": [
        "l_tags = []\n",
        "l_qtd_files = []\n",
        "l_qtd_java_files = []\n",
        "l_qtd_java_blank = []\n",
        "l_qtd_java_comment = []\n",
        "l_qtd_java_loc = []\n",
        "dict_tags_qtd_files = {}\n",
        "for k, v in dict_total_arquivos.items():\n",
        "  l_tags.append(k)\n",
        "  l_qtd_files.append(v)\n",
        "  l_qtd_java_files.append(dict_dfs[k]['files']['Java'])\n",
        "  l_qtd_java_blank.append(dict_dfs[k]['blank']['Java'])\n",
        "  l_qtd_java_comment.append(dict_dfs[k]['comment']['Java'])\n",
        "  l_qtd_java_loc.append(dict_dfs[k]['code']['Java'])\n",
        "\n",
        "dict_tags_qtd_files = {'tag':l_tags, 'qtd_files':l_qtd_files, 'qtd_files_java': l_qtd_java_files, 'qtd_java_blank':l_qtd_java_blank, 'qtd_java_comment': l_qtd_java_comment, 'qtd_java_loc':l_qtd_java_loc}\n",
        "\n",
        "df_tags_qtd_files = pd.DataFrame(dict_tags_qtd_files)\n",
        "df_tags_qtd_files"
      ],
      "metadata": {
        "colab": {
          "base_uri": "https://localhost:8080/",
          "height": 425
        },
        "id": "NDlcfjWe35wO",
        "outputId": "6db0c559-dc75-4f8c-e3b8-6a56c8323b9f"
      },
      "execution_count": 33,
      "outputs": [
        {
          "output_type": "execute_result",
          "data": {
            "text/plain": [
              "                  tag  qtd_files qtd_files_java qtd_java_blank  \\\n",
              "0     cassandra-3.0.0       2406           1763          58813   \n",
              "1       cassandra-3.1       2420           1771          59265   \n",
              "2       cassandra-3.2       2468           1817          60348   \n",
              "3       cassandra-3.3       2477           1826          60759   \n",
              "4       cassandra-3.4       2645           1951          65622   \n",
              "5       cassandra-3.5       2783           1965          66305   \n",
              "6       cassandra-3.6       2829           2006          68023   \n",
              "7       cassandra-3.7       2897           2010          68190   \n",
              "8       cassandra-3.8       3064           2037          69763   \n",
              "9       cassandra-3.9       3064           2037          69763   \n",
              "10     cassandra-3.10       3198           2143          73615   \n",
              "11  cassandra-3.11.11       3606           2353          82082   \n",
              "\n",
              "   qtd_java_comment qtd_java_loc  \n",
              "0             67779       316059  \n",
              "1             68230       318674  \n",
              "2             69407       325126  \n",
              "3             69751       327066  \n",
              "4             73970       348433  \n",
              "5             74501       351590  \n",
              "6             76400       360937  \n",
              "7             76839       361994  \n",
              "8             80385       369153  \n",
              "9             80385       369153  \n",
              "10            85296       388942  \n",
              "11            93702       432977  "
            ],
            "text/html": [
              "\n",
              "  <div id=\"df-55eef7fd-3601-40af-8aee-bc4181c9e86b\">\n",
              "    <div class=\"colab-df-container\">\n",
              "      <div>\n",
              "<style scoped>\n",
              "    .dataframe tbody tr th:only-of-type {\n",
              "        vertical-align: middle;\n",
              "    }\n",
              "\n",
              "    .dataframe tbody tr th {\n",
              "        vertical-align: top;\n",
              "    }\n",
              "\n",
              "    .dataframe thead th {\n",
              "        text-align: right;\n",
              "    }\n",
              "</style>\n",
              "<table border=\"1\" class=\"dataframe\">\n",
              "  <thead>\n",
              "    <tr style=\"text-align: right;\">\n",
              "      <th></th>\n",
              "      <th>tag</th>\n",
              "      <th>qtd_files</th>\n",
              "      <th>qtd_files_java</th>\n",
              "      <th>qtd_java_blank</th>\n",
              "      <th>qtd_java_comment</th>\n",
              "      <th>qtd_java_loc</th>\n",
              "    </tr>\n",
              "  </thead>\n",
              "  <tbody>\n",
              "    <tr>\n",
              "      <th>0</th>\n",
              "      <td>cassandra-3.0.0</td>\n",
              "      <td>2406</td>\n",
              "      <td>1763</td>\n",
              "      <td>58813</td>\n",
              "      <td>67779</td>\n",
              "      <td>316059</td>\n",
              "    </tr>\n",
              "    <tr>\n",
              "      <th>1</th>\n",
              "      <td>cassandra-3.1</td>\n",
              "      <td>2420</td>\n",
              "      <td>1771</td>\n",
              "      <td>59265</td>\n",
              "      <td>68230</td>\n",
              "      <td>318674</td>\n",
              "    </tr>\n",
              "    <tr>\n",
              "      <th>2</th>\n",
              "      <td>cassandra-3.2</td>\n",
              "      <td>2468</td>\n",
              "      <td>1817</td>\n",
              "      <td>60348</td>\n",
              "      <td>69407</td>\n",
              "      <td>325126</td>\n",
              "    </tr>\n",
              "    <tr>\n",
              "      <th>3</th>\n",
              "      <td>cassandra-3.3</td>\n",
              "      <td>2477</td>\n",
              "      <td>1826</td>\n",
              "      <td>60759</td>\n",
              "      <td>69751</td>\n",
              "      <td>327066</td>\n",
              "    </tr>\n",
              "    <tr>\n",
              "      <th>4</th>\n",
              "      <td>cassandra-3.4</td>\n",
              "      <td>2645</td>\n",
              "      <td>1951</td>\n",
              "      <td>65622</td>\n",
              "      <td>73970</td>\n",
              "      <td>348433</td>\n",
              "    </tr>\n",
              "    <tr>\n",
              "      <th>5</th>\n",
              "      <td>cassandra-3.5</td>\n",
              "      <td>2783</td>\n",
              "      <td>1965</td>\n",
              "      <td>66305</td>\n",
              "      <td>74501</td>\n",
              "      <td>351590</td>\n",
              "    </tr>\n",
              "    <tr>\n",
              "      <th>6</th>\n",
              "      <td>cassandra-3.6</td>\n",
              "      <td>2829</td>\n",
              "      <td>2006</td>\n",
              "      <td>68023</td>\n",
              "      <td>76400</td>\n",
              "      <td>360937</td>\n",
              "    </tr>\n",
              "    <tr>\n",
              "      <th>7</th>\n",
              "      <td>cassandra-3.7</td>\n",
              "      <td>2897</td>\n",
              "      <td>2010</td>\n",
              "      <td>68190</td>\n",
              "      <td>76839</td>\n",
              "      <td>361994</td>\n",
              "    </tr>\n",
              "    <tr>\n",
              "      <th>8</th>\n",
              "      <td>cassandra-3.8</td>\n",
              "      <td>3064</td>\n",
              "      <td>2037</td>\n",
              "      <td>69763</td>\n",
              "      <td>80385</td>\n",
              "      <td>369153</td>\n",
              "    </tr>\n",
              "    <tr>\n",
              "      <th>9</th>\n",
              "      <td>cassandra-3.9</td>\n",
              "      <td>3064</td>\n",
              "      <td>2037</td>\n",
              "      <td>69763</td>\n",
              "      <td>80385</td>\n",
              "      <td>369153</td>\n",
              "    </tr>\n",
              "    <tr>\n",
              "      <th>10</th>\n",
              "      <td>cassandra-3.10</td>\n",
              "      <td>3198</td>\n",
              "      <td>2143</td>\n",
              "      <td>73615</td>\n",
              "      <td>85296</td>\n",
              "      <td>388942</td>\n",
              "    </tr>\n",
              "    <tr>\n",
              "      <th>11</th>\n",
              "      <td>cassandra-3.11.11</td>\n",
              "      <td>3606</td>\n",
              "      <td>2353</td>\n",
              "      <td>82082</td>\n",
              "      <td>93702</td>\n",
              "      <td>432977</td>\n",
              "    </tr>\n",
              "  </tbody>\n",
              "</table>\n",
              "</div>\n",
              "      <button class=\"colab-df-convert\" onclick=\"convertToInteractive('df-55eef7fd-3601-40af-8aee-bc4181c9e86b')\"\n",
              "              title=\"Convert this dataframe to an interactive table.\"\n",
              "              style=\"display:none;\">\n",
              "        \n",
              "  <svg xmlns=\"http://www.w3.org/2000/svg\" height=\"24px\"viewBox=\"0 0 24 24\"\n",
              "       width=\"24px\">\n",
              "    <path d=\"M0 0h24v24H0V0z\" fill=\"none\"/>\n",
              "    <path d=\"M18.56 5.44l.94 2.06.94-2.06 2.06-.94-2.06-.94-.94-2.06-.94 2.06-2.06.94zm-11 1L8.5 8.5l.94-2.06 2.06-.94-2.06-.94L8.5 2.5l-.94 2.06-2.06.94zm10 10l.94 2.06.94-2.06 2.06-.94-2.06-.94-.94-2.06-.94 2.06-2.06.94z\"/><path d=\"M17.41 7.96l-1.37-1.37c-.4-.4-.92-.59-1.43-.59-.52 0-1.04.2-1.43.59L10.3 9.45l-7.72 7.72c-.78.78-.78 2.05 0 2.83L4 21.41c.39.39.9.59 1.41.59.51 0 1.02-.2 1.41-.59l7.78-7.78 2.81-2.81c.8-.78.8-2.07 0-2.86zM5.41 20L4 18.59l7.72-7.72 1.47 1.35L5.41 20z\"/>\n",
              "  </svg>\n",
              "      </button>\n",
              "      \n",
              "  <style>\n",
              "    .colab-df-container {\n",
              "      display:flex;\n",
              "      flex-wrap:wrap;\n",
              "      gap: 12px;\n",
              "    }\n",
              "\n",
              "    .colab-df-convert {\n",
              "      background-color: #E8F0FE;\n",
              "      border: none;\n",
              "      border-radius: 50%;\n",
              "      cursor: pointer;\n",
              "      display: none;\n",
              "      fill: #1967D2;\n",
              "      height: 32px;\n",
              "      padding: 0 0 0 0;\n",
              "      width: 32px;\n",
              "    }\n",
              "\n",
              "    .colab-df-convert:hover {\n",
              "      background-color: #E2EBFA;\n",
              "      box-shadow: 0px 1px 2px rgba(60, 64, 67, 0.3), 0px 1px 3px 1px rgba(60, 64, 67, 0.15);\n",
              "      fill: #174EA6;\n",
              "    }\n",
              "\n",
              "    [theme=dark] .colab-df-convert {\n",
              "      background-color: #3B4455;\n",
              "      fill: #D2E3FC;\n",
              "    }\n",
              "\n",
              "    [theme=dark] .colab-df-convert:hover {\n",
              "      background-color: #434B5C;\n",
              "      box-shadow: 0px 1px 3px 1px rgba(0, 0, 0, 0.15);\n",
              "      filter: drop-shadow(0px 1px 2px rgba(0, 0, 0, 0.3));\n",
              "      fill: #FFFFFF;\n",
              "    }\n",
              "  </style>\n",
              "\n",
              "      <script>\n",
              "        const buttonEl =\n",
              "          document.querySelector('#df-55eef7fd-3601-40af-8aee-bc4181c9e86b button.colab-df-convert');\n",
              "        buttonEl.style.display =\n",
              "          google.colab.kernel.accessAllowed ? 'block' : 'none';\n",
              "\n",
              "        async function convertToInteractive(key) {\n",
              "          const element = document.querySelector('#df-55eef7fd-3601-40af-8aee-bc4181c9e86b');\n",
              "          const dataTable =\n",
              "            await google.colab.kernel.invokeFunction('convertToInteractive',\n",
              "                                                     [key], {});\n",
              "          if (!dataTable) return;\n",
              "\n",
              "          const docLinkHtml = 'Like what you see? Visit the ' +\n",
              "            '<a target=\"_blank\" href=https://colab.research.google.com/notebooks/data_table.ipynb>data table notebook</a>'\n",
              "            + ' to learn more about interactive tables.';\n",
              "          element.innerHTML = '';\n",
              "          dataTable['output_type'] = 'display_data';\n",
              "          await google.colab.output.renderOutput(dataTable, element);\n",
              "          const docLink = document.createElement('div');\n",
              "          docLink.innerHTML = docLinkHtml;\n",
              "          element.appendChild(docLink);\n",
              "        }\n",
              "      </script>\n",
              "    </div>\n",
              "  </div>\n",
              "  "
            ]
          },
          "metadata": {},
          "execution_count": 33
        }
      ]
    },
    {
      "cell_type": "code",
      "source": [],
      "metadata": {
        "id": "vsozyGW6zUtN"
      },
      "execution_count": null,
      "outputs": []
    }
  ]
}
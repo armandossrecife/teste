{
  "nbformat": 4,
  "nbformat_minor": 0,
  "metadata": {
    "colab": {
      "provenance": [],
      "collapsed_sections": [
        "kRwUMI5pbMGp"
      ],
      "authorship_tag": "ABX9TyOE7yKlkGtTIM1v9SgEqlcf",
      "include_colab_link": true
    },
    "kernelspec": {
      "name": "python3",
      "display_name": "Python 3"
    },
    "language_info": {
      "name": "python"
    }
  },
  "cells": [
    {
      "cell_type": "markdown",
      "metadata": {
        "id": "view-in-github",
        "colab_type": "text"
      },
      "source": [
        "<a href=\"https://colab.research.google.com/github/armandossrecife/teste/blob/main/analise_tags_cassandra.ipynb\" target=\"_parent\"><img src=\"https://colab.research.google.com/assets/colab-badge.svg\" alt=\"Open In Colab\"/></a>"
      ]
    },
    {
      "cell_type": "markdown",
      "source": [
        "#Dados da máquina virtual"
      ],
      "metadata": {
        "id": "kRwUMI5pbMGp"
      }
    },
    {
      "cell_type": "code",
      "execution_count": 1,
      "metadata": {
        "id": "WprfFmx8BBrO",
        "colab": {
          "base_uri": "https://localhost:8080/"
        },
        "outputId": "51f8349d-c5f1-4d45-97c4-48cd1621e88b"
      },
      "outputs": [
        {
          "output_type": "stream",
          "name": "stdout",
          "text": [
            "['No LSB modules are available.', 'Distributor ID:\\tUbuntu', 'Description:\\tUbuntu 20.04.5 LTS', 'Release:\\t20.04', 'Codename:\\tfocal']\n",
            "['              total        used        free      shared  buff/cache   available', 'Mem:           12Gi       558Mi       8.2Gi       1.0Mi       3.9Gi        11Gi', 'Swap:            0B          0B          0B']\n"
          ]
        }
      ],
      "source": [
        "distro_linux = !lsb_release -a\n",
        "memoria_ram = !free -h\n",
        "print(distro_linux)\n",
        "print(memoria_ram)"
      ]
    },
    {
      "cell_type": "markdown",
      "source": [
        "# Funções de apoio"
      ],
      "metadata": {
        "id": "8d42fRVYj-I0"
      }
    },
    {
      "cell_type": "code",
      "source": [
        "import os\n",
        "import pandas as pd\n",
        "\n",
        "def remove_diretorio_existente(directory):\n",
        "  if os.path.isdir(directory):\n",
        "      os.environ['DIRECTORY'] = directory\n",
        "      print(f\"The directory {directory} exists.\")\n",
        "      print(f\"Deleting {directory}...\")\n",
        "      comando = !rm -rf $DIRECTORY\n",
        "      print(\"Finished!\")\n",
        "  else:\n",
        "      print(f\"The directory {directory} does not exist.\")\n",
        "\n",
        "def get_total_arquivos(directory):\n",
        "  os.environ['DIRECTORY'] = directory\n",
        "  total_arquivos = !echo \"Total de arquivos: \" && find $DIRECTORY -type f | wc -l\n",
        "  total_arquivos = int(total_arquivos[1])\n",
        "  return total_arquivos\n",
        "\n",
        "def get_lista_tags(directory):\n",
        "  os.environ['DIRECTORY'] = directory\n",
        "  lista_tags = !cd $DIRECTORY && git tag\n",
        "  return lista_tags\n",
        "\n",
        "def get_total_arquivos_branch(directory, my_tag):\n",
        "  os.environ['DIRECTORY'] = directory\n",
        "  os.environ['MY_TAG'] = my_tag\n",
        "  comando = !cd $DIRECTORY && git checkout $MY_TAG && echo \"Total de arquivos: \" && find . -type f | wc -l\n",
        "  total_arquivos = int(comando[-1])\n",
        "  return total_arquivos\n",
        "\n",
        "def get_types_of_files_branch(directory, my_tag):\n",
        "  os.environ['DIRECTORY'] = directory\n",
        "  os.environ['MY_TAG'] = my_tag\n",
        "  comando1 = !cd $DIRECTORY && git checkout $MY_TAG\n",
        "  comando2 = !cd $DIRECTORY && cloc .\n",
        "  return comando2\n",
        "\n",
        "def get_texto_cloc_para_df(directory, my_tag):\n",
        "  os.environ['DIRECTORY'] = directory\n",
        "  os.environ['EXTENSION'] = '_cloc.txt'\n",
        "  os.environ['MY_TAG'] = my_tag\n",
        "  comando1 = !cd $DIRECTORY && git checkout $MY_TAG\n",
        "  comando2 = !cd $DIRECTORY && cloc . --out=$DIRECTORY$EXTENSION\n",
        "  my_cloc = directory + '_cloc.txt'\n",
        "  my_file = directory + '/' + my_cloc\n",
        "  with open(my_file, 'r') as f:\n",
        "      lines = f.readlines()[1:]\n",
        "  with open(my_file, 'w') as f:\n",
        "      f.writelines(lines)\n",
        "  # read the text file into a dataframe\n",
        "  df = pd.read_table(my_file, sep='\\s{2,}', engine='python', skiprows=[0, 15, 16], header=None, names=['Language', 'files', 'blank', 'comment', 'code'], index_col='Language')\n",
        "  # display the dataframe\n",
        "  df\n",
        "  return df"
      ],
      "metadata": {
        "id": "hr3enG-bOxUm"
      },
      "execution_count": 38,
      "outputs": []
    },
    {
      "cell_type": "markdown",
      "source": [
        "# Prepara ambiente"
      ],
      "metadata": {
        "id": "PQQ-zEvglBLy"
      }
    },
    {
      "cell_type": "code",
      "source": [
        "remove_diretorio_existente(directory='cassandra')\n",
        "remove_diretorio_existente(directory='tag_300')\n",
        "!mkdir tag_300\n",
        "remove_diretorio_existente(directory='tag_31111')\n",
        "!mkdir tag_31111"
      ],
      "metadata": {
        "id": "VcgzfdR8kChg",
        "outputId": "ca5622d6-51ac-4de8-d764-23412922a881",
        "colab": {
          "base_uri": "https://localhost:8080/"
        }
      },
      "execution_count": 4,
      "outputs": [
        {
          "output_type": "stream",
          "name": "stdout",
          "text": [
            "The directory cassandra does not exist.\n",
            "The directory tag_300 does not exist.\n",
            "The directory tag_31111 does not exist.\n"
          ]
        }
      ]
    },
    {
      "cell_type": "markdown",
      "source": [
        "# Análise dos arquivos e tipos de linguagem"
      ],
      "metadata": {
        "id": "3QYwJ4tQ8TLo"
      }
    },
    {
      "cell_type": "code",
      "source": [
        "!git clone https://github.com/apache/cassandra.git"
      ],
      "metadata": {
        "id": "6t5EGBLc9B4T",
        "colab": {
          "base_uri": "https://localhost:8080/"
        },
        "outputId": "80829e80-72e6-4f5a-8dda-3153e7d6af24"
      },
      "execution_count": 5,
      "outputs": [
        {
          "output_type": "stream",
          "name": "stdout",
          "text": [
            "Cloning into 'cassandra'...\n",
            "remote: Enumerating objects: 384453, done.\u001b[K\n",
            "remote: Counting objects: 100% (154/154), done.\u001b[K\n",
            "remote: Compressing objects: 100% (74/74), done.\u001b[K\n",
            "remote: Total 384453 (delta 49), reused 136 (delta 47), pack-reused 384299\u001b[K\n",
            "Receiving objects: 100% (384453/384453), 385.21 MiB | 15.73 MiB/s, done.\n",
            "Resolving deltas: 100% (223956/223956), done.\n"
          ]
        }
      ]
    },
    {
      "cell_type": "code",
      "source": [
        "!sudo apt-get install cloc"
      ],
      "metadata": {
        "id": "QoRygyz5_jQk",
        "colab": {
          "base_uri": "https://localhost:8080/"
        },
        "outputId": "ca4e62d8-532c-4758-f5f7-f6e3bee7fc4e"
      },
      "execution_count": 6,
      "outputs": [
        {
          "output_type": "stream",
          "name": "stdout",
          "text": [
            "Reading package lists... Done\n",
            "Building dependency tree       \n",
            "Reading state information... Done\n",
            "The following additional packages will be installed:\n",
            "  libalgorithm-diff-perl libalgorithm-diff-xs-perl libb-hooks-op-check-perl\n",
            "  libclass-method-modifiers-perl libclass-xsaccessor-perl\n",
            "  libdevel-callchecker-perl libdynaloader-functions-perl libimport-into-perl\n",
            "  libmodule-runtime-perl libmoo-perl libparallel-forkmanager-perl\n",
            "  libparams-classify-perl libregexp-common-perl librole-tiny-perl\n",
            "  libstrictures-perl libsub-name-perl libsub-quote-perl\n",
            "Suggested packages:\n",
            "  libscalar-number-perl libbareword-filehandles-perl libindirect-perl\n",
            "  libmultidimensional-perl\n",
            "The following NEW packages will be installed:\n",
            "  cloc libalgorithm-diff-perl libalgorithm-diff-xs-perl\n",
            "  libb-hooks-op-check-perl libclass-method-modifiers-perl\n",
            "  libclass-xsaccessor-perl libdevel-callchecker-perl\n",
            "  libdynaloader-functions-perl libimport-into-perl libmodule-runtime-perl\n",
            "  libmoo-perl libparallel-forkmanager-perl libparams-classify-perl\n",
            "  libregexp-common-perl librole-tiny-perl libstrictures-perl libsub-name-perl\n",
            "  libsub-quote-perl\n",
            "0 upgraded, 18 newly installed, 0 to remove and 24 not upgraded.\n",
            "Need to get 591 kB of archives.\n",
            "After this operation, 2,070 kB of additional disk space will be used.\n",
            "Get:1 http://archive.ubuntu.com/ubuntu focal/main amd64 libalgorithm-diff-perl all 1.19.03-2 [46.6 kB]\n",
            "Get:2 http://archive.ubuntu.com/ubuntu focal/main amd64 libclass-method-modifiers-perl all 2.13-1 [16.2 kB]\n",
            "Get:3 http://archive.ubuntu.com/ubuntu focal/main amd64 libb-hooks-op-check-perl amd64 0.22-1build2 [10.2 kB]\n",
            "Get:4 http://archive.ubuntu.com/ubuntu focal/main amd64 libdynaloader-functions-perl all 0.003-1 [11.9 kB]\n",
            "Get:5 http://archive.ubuntu.com/ubuntu focal/main amd64 libdevel-callchecker-perl amd64 0.008-1ubuntu1 [14.5 kB]\n",
            "Get:6 http://archive.ubuntu.com/ubuntu focal/main amd64 libparams-classify-perl amd64 0.015-1build2 [21.1 kB]\n",
            "Get:7 http://archive.ubuntu.com/ubuntu focal/main amd64 libmodule-runtime-perl all 0.016-1 [16.2 kB]\n",
            "Get:8 http://archive.ubuntu.com/ubuntu focal/main amd64 libimport-into-perl all 1.002005-1 [11.0 kB]\n",
            "Get:9 http://archive.ubuntu.com/ubuntu focal/main amd64 librole-tiny-perl all 2.001004-1 [16.5 kB]\n",
            "Get:10 http://archive.ubuntu.com/ubuntu focal/main amd64 libstrictures-perl all 2.000006-1 [16.3 kB]\n",
            "Get:11 http://archive.ubuntu.com/ubuntu focal/main amd64 libsub-quote-perl all 2.006006-1 [19.5 kB]\n",
            "Get:12 http://archive.ubuntu.com/ubuntu focal/main amd64 libmoo-perl all 2.003006-1 [46.3 kB]\n",
            "Get:13 http://archive.ubuntu.com/ubuntu focal/universe amd64 libparallel-forkmanager-perl all 2.02-1 [27.7 kB]\n",
            "Get:14 http://archive.ubuntu.com/ubuntu focal/universe amd64 libregexp-common-perl all 2017060201-1 [168 kB]\n",
            "Get:15 http://archive.ubuntu.com/ubuntu focal/universe amd64 cloc all 1.82-1 [92.2 kB]\n",
            "Get:16 http://archive.ubuntu.com/ubuntu focal/main amd64 libalgorithm-diff-xs-perl amd64 0.04-6 [11.3 kB]\n",
            "Get:17 http://archive.ubuntu.com/ubuntu focal/main amd64 libclass-xsaccessor-perl amd64 1.19-3build3 [33.6 kB]\n",
            "Get:18 http://archive.ubuntu.com/ubuntu focal/main amd64 libsub-name-perl amd64 0.26-1 [11.5 kB]\n",
            "Fetched 591 kB in 1s (1,177 kB/s)\n",
            "debconf: unable to initialize frontend: Dialog\n",
            "debconf: (No usable dialog-like program is installed, so the dialog based frontend cannot be used. at /usr/share/perl5/Debconf/FrontEnd/Dialog.pm line 76, <> line 18.)\n",
            "debconf: falling back to frontend: Readline\n",
            "debconf: unable to initialize frontend: Readline\n",
            "debconf: (This frontend requires a controlling tty.)\n",
            "debconf: falling back to frontend: Teletype\n",
            "dpkg-preconfigure: unable to re-open stdin: \n",
            "Selecting previously unselected package libalgorithm-diff-perl.\n",
            "(Reading database ... 122352 files and directories currently installed.)\n",
            "Preparing to unpack .../00-libalgorithm-diff-perl_1.19.03-2_all.deb ...\n",
            "Unpacking libalgorithm-diff-perl (1.19.03-2) ...\n",
            "Selecting previously unselected package libclass-method-modifiers-perl.\n",
            "Preparing to unpack .../01-libclass-method-modifiers-perl_2.13-1_all.deb ...\n",
            "Unpacking libclass-method-modifiers-perl (2.13-1) ...\n",
            "Selecting previously unselected package libb-hooks-op-check-perl.\n",
            "Preparing to unpack .../02-libb-hooks-op-check-perl_0.22-1build2_amd64.deb ...\n",
            "Unpacking libb-hooks-op-check-perl (0.22-1build2) ...\n",
            "Selecting previously unselected package libdynaloader-functions-perl.\n",
            "Preparing to unpack .../03-libdynaloader-functions-perl_0.003-1_all.deb ...\n",
            "Unpacking libdynaloader-functions-perl (0.003-1) ...\n",
            "Selecting previously unselected package libdevel-callchecker-perl.\n",
            "Preparing to unpack .../04-libdevel-callchecker-perl_0.008-1ubuntu1_amd64.deb ...\n",
            "Unpacking libdevel-callchecker-perl (0.008-1ubuntu1) ...\n",
            "Selecting previously unselected package libparams-classify-perl.\n",
            "Preparing to unpack .../05-libparams-classify-perl_0.015-1build2_amd64.deb ...\n",
            "Unpacking libparams-classify-perl (0.015-1build2) ...\n",
            "Selecting previously unselected package libmodule-runtime-perl.\n",
            "Preparing to unpack .../06-libmodule-runtime-perl_0.016-1_all.deb ...\n",
            "Unpacking libmodule-runtime-perl (0.016-1) ...\n",
            "Selecting previously unselected package libimport-into-perl.\n",
            "Preparing to unpack .../07-libimport-into-perl_1.002005-1_all.deb ...\n",
            "Unpacking libimport-into-perl (1.002005-1) ...\n",
            "Selecting previously unselected package librole-tiny-perl.\n",
            "Preparing to unpack .../08-librole-tiny-perl_2.001004-1_all.deb ...\n",
            "Unpacking librole-tiny-perl (2.001004-1) ...\n",
            "Selecting previously unselected package libstrictures-perl.\n",
            "Preparing to unpack .../09-libstrictures-perl_2.000006-1_all.deb ...\n",
            "Unpacking libstrictures-perl (2.000006-1) ...\n",
            "Selecting previously unselected package libsub-quote-perl.\n",
            "Preparing to unpack .../10-libsub-quote-perl_2.006006-1_all.deb ...\n",
            "Unpacking libsub-quote-perl (2.006006-1) ...\n",
            "Selecting previously unselected package libmoo-perl.\n",
            "Preparing to unpack .../11-libmoo-perl_2.003006-1_all.deb ...\n",
            "Unpacking libmoo-perl (2.003006-1) ...\n",
            "Selecting previously unselected package libparallel-forkmanager-perl.\n",
            "Preparing to unpack .../12-libparallel-forkmanager-perl_2.02-1_all.deb ...\n",
            "Unpacking libparallel-forkmanager-perl (2.02-1) ...\n",
            "Selecting previously unselected package libregexp-common-perl.\n",
            "Preparing to unpack .../13-libregexp-common-perl_2017060201-1_all.deb ...\n",
            "Unpacking libregexp-common-perl (2017060201-1) ...\n",
            "Selecting previously unselected package cloc.\n",
            "Preparing to unpack .../14-cloc_1.82-1_all.deb ...\n",
            "Unpacking cloc (1.82-1) ...\n",
            "Selecting previously unselected package libalgorithm-diff-xs-perl.\n",
            "Preparing to unpack .../15-libalgorithm-diff-xs-perl_0.04-6_amd64.deb ...\n",
            "Unpacking libalgorithm-diff-xs-perl (0.04-6) ...\n",
            "Selecting previously unselected package libclass-xsaccessor-perl.\n",
            "Preparing to unpack .../16-libclass-xsaccessor-perl_1.19-3build3_amd64.deb ...\n",
            "Unpacking libclass-xsaccessor-perl (1.19-3build3) ...\n",
            "Selecting previously unselected package libsub-name-perl.\n",
            "Preparing to unpack .../17-libsub-name-perl_0.26-1_amd64.deb ...\n",
            "Unpacking libsub-name-perl (0.26-1) ...\n",
            "Setting up libdynaloader-functions-perl (0.003-1) ...\n",
            "Setting up libclass-method-modifiers-perl (2.13-1) ...\n",
            "Setting up libalgorithm-diff-perl (1.19.03-2) ...\n",
            "Setting up libregexp-common-perl (2017060201-1) ...\n",
            "Setting up libb-hooks-op-check-perl (0.22-1build2) ...\n",
            "Setting up libsub-name-perl (0.26-1) ...\n",
            "Setting up librole-tiny-perl (2.001004-1) ...\n",
            "Setting up libstrictures-perl (2.000006-1) ...\n",
            "Setting up libsub-quote-perl (2.006006-1) ...\n",
            "Setting up libclass-xsaccessor-perl (1.19-3build3) ...\n",
            "Setting up libalgorithm-diff-xs-perl (0.04-6) ...\n",
            "Setting up libdevel-callchecker-perl (0.008-1ubuntu1) ...\n",
            "Setting up libparams-classify-perl (0.015-1build2) ...\n",
            "Setting up libmodule-runtime-perl (0.016-1) ...\n",
            "Setting up libimport-into-perl (1.002005-1) ...\n",
            "Setting up libmoo-perl (2.003006-1) ...\n",
            "Setting up libparallel-forkmanager-perl (2.02-1) ...\n",
            "Setting up cloc (1.82-1) ...\n",
            "Processing triggers for man-db (2.9.1-1) ...\n"
          ]
        }
      ]
    },
    {
      "cell_type": "code",
      "source": [
        "print(f\"Total de arquivos: {get_total_arquivos(directory='cassandra')}\")"
      ],
      "metadata": {
        "colab": {
          "base_uri": "https://localhost:8080/"
        },
        "id": "BeGGXnUACijb",
        "outputId": "512eca41-2e8e-4a5d-b8e1-827f5616833e"
      },
      "execution_count": 7,
      "outputs": [
        {
          "output_type": "stream",
          "name": "stdout",
          "text": [
            "Total de arquivos: 5228\n"
          ]
        }
      ]
    },
    {
      "cell_type": "markdown",
      "source": [
        "# Lista de tags para análise\n",
        "\n",
        "lista_tags_cassandra = ['cassandra-3.0.0', 'cassandra-3.1', 'cassandra-3.2', 'cassandra-3.3', 'cassandra-3.4', 'cassandra-3.5', 'cassandra-3.6', 'cassandra-3.7','cassandra-3.8','cassandra-3.9','cassandra-3.10','cassandra-3.11.11']"
      ],
      "metadata": {
        "id": "jE90-kdPogVx"
      }
    },
    {
      "cell_type": "code",
      "source": [
        "lista_tags_cassandra = ['cassandra-3.0.0', 'cassandra-3.1', 'cassandra-3.2', 'cassandra-3.3', 'cassandra-3.4', 'cassandra-3.5', 'cassandra-3.6', 'cassandra-3.7','cassandra-3.8','cassandra-3.9','cassandra-3.10','cassandra-3.11.11']\n",
        "\n",
        "print(f\"Qtd de tags: {len(lista_tags_cassandra)}, {lista_tags_cassandra}\")"
      ],
      "metadata": {
        "id": "OwVIKlBZpDCn",
        "outputId": "5d151379-3a20-45ea-c5a0-956c12b746fa",
        "colab": {
          "base_uri": "https://localhost:8080/"
        }
      },
      "execution_count": 60,
      "outputs": [
        {
          "output_type": "stream",
          "name": "stdout",
          "text": [
            "Qtd de tags: 12, ['cassandra-3.0.0', 'cassandra-3.1', 'cassandra-3.2', 'cassandra-3.3', 'cassandra-3.4', 'cassandra-3.5', 'cassandra-3.6', 'cassandra-3.7', 'cassandra-3.8', 'cassandra-3.9', 'cassandra-3.10', 'cassandra-3.11.11']\n"
          ]
        }
      ]
    },
    {
      "cell_type": "code",
      "source": [
        "dict_total_arquivos = {}\n",
        "dict_dfs = {}\n",
        "for each_tag in lista_tags_cassandra:\n",
        "  print(f'Analisando a tag {each_tag}')\n",
        "  dict_total_arquivos[each_tag] = get_total_arquivos_branch(directory='cassandra', my_tag=each_tag)\n",
        "  df = get_texto_cloc_para_df(directory='cassandra', my_tag=each_tag)\n",
        "  dict_dfs[each_tag] = df\n",
        "  print('Análise concluída!')"
      ],
      "metadata": {
        "colab": {
          "base_uri": "https://localhost:8080/"
        },
        "id": "hs7sf9D-y-kl",
        "outputId": "56c2a717-f95b-4810-e4ed-5cd24fcaabc6"
      },
      "execution_count": 61,
      "outputs": [
        {
          "output_type": "stream",
          "name": "stdout",
          "text": [
            "Analisando a tag cassandra-3.0.0\n",
            "Análise concluída!\n",
            "Analisando a tag cassandra-3.1\n",
            "Análise concluída!\n",
            "Analisando a tag cassandra-3.2\n",
            "Análise concluída!\n",
            "Analisando a tag cassandra-3.3\n",
            "Análise concluída!\n",
            "Analisando a tag cassandra-3.4\n",
            "Análise concluída!\n",
            "Analisando a tag cassandra-3.5\n",
            "Análise concluída!\n",
            "Analisando a tag cassandra-3.6\n",
            "Análise concluída!\n",
            "Analisando a tag cassandra-3.7\n",
            "Análise concluída!\n",
            "Analisando a tag cassandra-3.8\n",
            "Análise concluída!\n",
            "Analisando a tag cassandra-3.9\n",
            "Análise concluída!\n",
            "Analisando a tag cassandra-3.10\n",
            "Análise concluída!\n",
            "Analisando a tag cassandra-3.11.11\n",
            "Análise concluída!\n"
          ]
        }
      ]
    },
    {
      "cell_type": "code",
      "source": [
        "print(dict_total_arquivos['cassandra-3.0.0'])\n",
        "dict_dfs['cassandra-3.0.0']"
      ],
      "metadata": {
        "colab": {
          "base_uri": "https://localhost:8080/",
          "height": 599
        },
        "id": "9vkaT3yU3wPK",
        "outputId": "68c0fabb-0aaa-487d-e41b-6ed821bc94f6"
      },
      "execution_count": 63,
      "outputs": [
        {
          "output_type": "stream",
          "name": "stdout",
          "text": [
            "2409\n"
          ]
        },
        {
          "output_type": "execute_result",
          "data": {
            "text/plain": [
              "                                                    files  blank  comment  \\\n",
              "Language                                                                    \n",
              "Language                                            files  blank  comment   \n",
              "-----------------------------------------------...   None   None     None   \n",
              "Java                                                 1763  58813    67779   \n",
              "Python                                                 25   1811     3007   \n",
              "Ant                                                     3    174      204   \n",
              "ANTLR Grammar                                           1    198      221   \n",
              "Bourne Shell                                           34    293      775   \n",
              "PowerShell                                              4    127      203   \n",
              "DOS Batch                                              19    178       70   \n",
              "XML                                                    11     40      100   \n",
              "Markdown                                                2     65        0   \n",
              "YAML                                                    7    135      894   \n",
              "CSS                                                     1     14       20   \n",
              "make                                                    1     16        7   \n",
              "SUM:                                                 1878  61864    73280   \n",
              "-----------------------------------------------...   None   None     None   \n",
              "\n",
              "                                                      code  \n",
              "Language                                                    \n",
              "Language                                              code  \n",
              "-----------------------------------------------...    None  \n",
              "Java                                                316059  \n",
              "Python                                                5713  \n",
              "Ant                                                   1915  \n",
              "ANTLR Grammar                                         1473  \n",
              "Bourne Shell                                          1295  \n",
              "PowerShell                                             808  \n",
              "DOS Batch                                              683  \n",
              "XML                                                    585  \n",
              "Markdown                                               328  \n",
              "YAML                                                   243  \n",
              "CSS                                                     69  \n",
              "make                                                    57  \n",
              "SUM:                                                329281  \n",
              "-----------------------------------------------...    None  "
            ],
            "text/html": [
              "\n",
              "  <div id=\"df-39422c3f-90f9-4e99-b84e-8513b01098b6\">\n",
              "    <div class=\"colab-df-container\">\n",
              "      <div>\n",
              "<style scoped>\n",
              "    .dataframe tbody tr th:only-of-type {\n",
              "        vertical-align: middle;\n",
              "    }\n",
              "\n",
              "    .dataframe tbody tr th {\n",
              "        vertical-align: top;\n",
              "    }\n",
              "\n",
              "    .dataframe thead th {\n",
              "        text-align: right;\n",
              "    }\n",
              "</style>\n",
              "<table border=\"1\" class=\"dataframe\">\n",
              "  <thead>\n",
              "    <tr style=\"text-align: right;\">\n",
              "      <th></th>\n",
              "      <th>files</th>\n",
              "      <th>blank</th>\n",
              "      <th>comment</th>\n",
              "      <th>code</th>\n",
              "    </tr>\n",
              "    <tr>\n",
              "      <th>Language</th>\n",
              "      <th></th>\n",
              "      <th></th>\n",
              "      <th></th>\n",
              "      <th></th>\n",
              "    </tr>\n",
              "  </thead>\n",
              "  <tbody>\n",
              "    <tr>\n",
              "      <th>Language</th>\n",
              "      <td>files</td>\n",
              "      <td>blank</td>\n",
              "      <td>comment</td>\n",
              "      <td>code</td>\n",
              "    </tr>\n",
              "    <tr>\n",
              "      <th>-------------------------------------------------------------------------------</th>\n",
              "      <td>None</td>\n",
              "      <td>None</td>\n",
              "      <td>None</td>\n",
              "      <td>None</td>\n",
              "    </tr>\n",
              "    <tr>\n",
              "      <th>Java</th>\n",
              "      <td>1763</td>\n",
              "      <td>58813</td>\n",
              "      <td>67779</td>\n",
              "      <td>316059</td>\n",
              "    </tr>\n",
              "    <tr>\n",
              "      <th>Python</th>\n",
              "      <td>25</td>\n",
              "      <td>1811</td>\n",
              "      <td>3007</td>\n",
              "      <td>5713</td>\n",
              "    </tr>\n",
              "    <tr>\n",
              "      <th>Ant</th>\n",
              "      <td>3</td>\n",
              "      <td>174</td>\n",
              "      <td>204</td>\n",
              "      <td>1915</td>\n",
              "    </tr>\n",
              "    <tr>\n",
              "      <th>ANTLR Grammar</th>\n",
              "      <td>1</td>\n",
              "      <td>198</td>\n",
              "      <td>221</td>\n",
              "      <td>1473</td>\n",
              "    </tr>\n",
              "    <tr>\n",
              "      <th>Bourne Shell</th>\n",
              "      <td>34</td>\n",
              "      <td>293</td>\n",
              "      <td>775</td>\n",
              "      <td>1295</td>\n",
              "    </tr>\n",
              "    <tr>\n",
              "      <th>PowerShell</th>\n",
              "      <td>4</td>\n",
              "      <td>127</td>\n",
              "      <td>203</td>\n",
              "      <td>808</td>\n",
              "    </tr>\n",
              "    <tr>\n",
              "      <th>DOS Batch</th>\n",
              "      <td>19</td>\n",
              "      <td>178</td>\n",
              "      <td>70</td>\n",
              "      <td>683</td>\n",
              "    </tr>\n",
              "    <tr>\n",
              "      <th>XML</th>\n",
              "      <td>11</td>\n",
              "      <td>40</td>\n",
              "      <td>100</td>\n",
              "      <td>585</td>\n",
              "    </tr>\n",
              "    <tr>\n",
              "      <th>Markdown</th>\n",
              "      <td>2</td>\n",
              "      <td>65</td>\n",
              "      <td>0</td>\n",
              "      <td>328</td>\n",
              "    </tr>\n",
              "    <tr>\n",
              "      <th>YAML</th>\n",
              "      <td>7</td>\n",
              "      <td>135</td>\n",
              "      <td>894</td>\n",
              "      <td>243</td>\n",
              "    </tr>\n",
              "    <tr>\n",
              "      <th>CSS</th>\n",
              "      <td>1</td>\n",
              "      <td>14</td>\n",
              "      <td>20</td>\n",
              "      <td>69</td>\n",
              "    </tr>\n",
              "    <tr>\n",
              "      <th>make</th>\n",
              "      <td>1</td>\n",
              "      <td>16</td>\n",
              "      <td>7</td>\n",
              "      <td>57</td>\n",
              "    </tr>\n",
              "    <tr>\n",
              "      <th>SUM:</th>\n",
              "      <td>1878</td>\n",
              "      <td>61864</td>\n",
              "      <td>73280</td>\n",
              "      <td>329281</td>\n",
              "    </tr>\n",
              "    <tr>\n",
              "      <th>-------------------------------------------------------------------------------</th>\n",
              "      <td>None</td>\n",
              "      <td>None</td>\n",
              "      <td>None</td>\n",
              "      <td>None</td>\n",
              "    </tr>\n",
              "  </tbody>\n",
              "</table>\n",
              "</div>\n",
              "      <button class=\"colab-df-convert\" onclick=\"convertToInteractive('df-39422c3f-90f9-4e99-b84e-8513b01098b6')\"\n",
              "              title=\"Convert this dataframe to an interactive table.\"\n",
              "              style=\"display:none;\">\n",
              "        \n",
              "  <svg xmlns=\"http://www.w3.org/2000/svg\" height=\"24px\"viewBox=\"0 0 24 24\"\n",
              "       width=\"24px\">\n",
              "    <path d=\"M0 0h24v24H0V0z\" fill=\"none\"/>\n",
              "    <path d=\"M18.56 5.44l.94 2.06.94-2.06 2.06-.94-2.06-.94-.94-2.06-.94 2.06-2.06.94zm-11 1L8.5 8.5l.94-2.06 2.06-.94-2.06-.94L8.5 2.5l-.94 2.06-2.06.94zm10 10l.94 2.06.94-2.06 2.06-.94-2.06-.94-.94-2.06-.94 2.06-2.06.94z\"/><path d=\"M17.41 7.96l-1.37-1.37c-.4-.4-.92-.59-1.43-.59-.52 0-1.04.2-1.43.59L10.3 9.45l-7.72 7.72c-.78.78-.78 2.05 0 2.83L4 21.41c.39.39.9.59 1.41.59.51 0 1.02-.2 1.41-.59l7.78-7.78 2.81-2.81c.8-.78.8-2.07 0-2.86zM5.41 20L4 18.59l7.72-7.72 1.47 1.35L5.41 20z\"/>\n",
              "  </svg>\n",
              "      </button>\n",
              "      \n",
              "  <style>\n",
              "    .colab-df-container {\n",
              "      display:flex;\n",
              "      flex-wrap:wrap;\n",
              "      gap: 12px;\n",
              "    }\n",
              "\n",
              "    .colab-df-convert {\n",
              "      background-color: #E8F0FE;\n",
              "      border: none;\n",
              "      border-radius: 50%;\n",
              "      cursor: pointer;\n",
              "      display: none;\n",
              "      fill: #1967D2;\n",
              "      height: 32px;\n",
              "      padding: 0 0 0 0;\n",
              "      width: 32px;\n",
              "    }\n",
              "\n",
              "    .colab-df-convert:hover {\n",
              "      background-color: #E2EBFA;\n",
              "      box-shadow: 0px 1px 2px rgba(60, 64, 67, 0.3), 0px 1px 3px 1px rgba(60, 64, 67, 0.15);\n",
              "      fill: #174EA6;\n",
              "    }\n",
              "\n",
              "    [theme=dark] .colab-df-convert {\n",
              "      background-color: #3B4455;\n",
              "      fill: #D2E3FC;\n",
              "    }\n",
              "\n",
              "    [theme=dark] .colab-df-convert:hover {\n",
              "      background-color: #434B5C;\n",
              "      box-shadow: 0px 1px 3px 1px rgba(0, 0, 0, 0.15);\n",
              "      filter: drop-shadow(0px 1px 2px rgba(0, 0, 0, 0.3));\n",
              "      fill: #FFFFFF;\n",
              "    }\n",
              "  </style>\n",
              "\n",
              "      <script>\n",
              "        const buttonEl =\n",
              "          document.querySelector('#df-39422c3f-90f9-4e99-b84e-8513b01098b6 button.colab-df-convert');\n",
              "        buttonEl.style.display =\n",
              "          google.colab.kernel.accessAllowed ? 'block' : 'none';\n",
              "\n",
              "        async function convertToInteractive(key) {\n",
              "          const element = document.querySelector('#df-39422c3f-90f9-4e99-b84e-8513b01098b6');\n",
              "          const dataTable =\n",
              "            await google.colab.kernel.invokeFunction('convertToInteractive',\n",
              "                                                     [key], {});\n",
              "          if (!dataTable) return;\n",
              "\n",
              "          const docLinkHtml = 'Like what you see? Visit the ' +\n",
              "            '<a target=\"_blank\" href=https://colab.research.google.com/notebooks/data_table.ipynb>data table notebook</a>'\n",
              "            + ' to learn more about interactive tables.';\n",
              "          element.innerHTML = '';\n",
              "          dataTable['output_type'] = 'display_data';\n",
              "          await google.colab.output.renderOutput(dataTable, element);\n",
              "          const docLink = document.createElement('div');\n",
              "          docLink.innerHTML = docLinkHtml;\n",
              "          element.appendChild(docLink);\n",
              "        }\n",
              "      </script>\n",
              "    </div>\n",
              "  </div>\n",
              "  "
            ]
          },
          "metadata": {},
          "execution_count": 63
        }
      ]
    },
    {
      "cell_type": "code",
      "source": [],
      "metadata": {
        "id": "NDlcfjWe35wO"
      },
      "execution_count": null,
      "outputs": []
    }
  ]
}
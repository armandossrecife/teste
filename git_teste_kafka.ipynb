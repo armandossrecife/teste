{
  "nbformat": 4,
  "nbformat_minor": 0,
  "metadata": {
    "colab": {
      "provenance": [],
      "authorship_tag": "ABX9TyMZM7XFYbNuTwRGpQ9P7gN+",
      "include_colab_link": true
    },
    "kernelspec": {
      "name": "python3",
      "display_name": "Python 3"
    },
    "language_info": {
      "name": "python"
    }
  },
  "cells": [
    {
      "cell_type": "markdown",
      "metadata": {
        "id": "view-in-github",
        "colab_type": "text"
      },
      "source": [
        "<a href=\"https://colab.research.google.com/github/armandossrecife/teste/blob/main/git_teste_kafka.ipynb\" target=\"_parent\"><img src=\"https://colab.research.google.com/assets/colab-badge.svg\" alt=\"Open In Colab\"/></a>"
      ]
    },
    {
      "cell_type": "code",
      "source": [
        "import pandas as pd"
      ],
      "metadata": {
        "id": "iE-QNLFJM2e4"
      },
      "execution_count": 6,
      "outputs": []
    },
    {
      "cell_type": "code",
      "source": [
        "#!rm -rf kafka\n",
        "repositorio = 'kafka'"
      ],
      "metadata": {
        "id": "mRyuBHo_Oc3_"
      },
      "execution_count": 1,
      "outputs": []
    },
    {
      "cell_type": "code",
      "source": [
        "import os\n",
        "os.environ['REPOSITORIO'] = 'kafka'"
      ],
      "metadata": {
        "id": "0V-TWqgARsGH"
      },
      "execution_count": 28,
      "outputs": []
    },
    {
      "cell_type": "code",
      "source": [
        "!echo \"$REPOSITORIO\""
      ],
      "metadata": {
        "colab": {
          "base_uri": "https://localhost:8080/"
        },
        "id": "AhgbqR12Rwwo",
        "outputId": "9f6c87ba-27c4-483c-f02f-bfb745154da7"
      },
      "execution_count": 29,
      "outputs": [
        {
          "output_type": "stream",
          "name": "stdout",
          "text": [
            "kafka\n"
          ]
        }
      ]
    },
    {
      "cell_type": "code",
      "execution_count": 2,
      "metadata": {
        "colab": {
          "base_uri": "https://localhost:8080/"
        },
        "id": "wGFXdCFJmSUC",
        "outputId": "f0aa88b2-f7f0-41e5-801e-a30e5e5c4890"
      },
      "outputs": [
        {
          "output_type": "stream",
          "name": "stdout",
          "text": [
            "Cloning into 'kafka'...\n",
            "remote: Enumerating objects: 324195, done.\u001b[K\n",
            "remote: Total 324195 (delta 0), reused 0 (delta 0), pack-reused 324195\u001b[K\n",
            "Receiving objects: 100% (324195/324195), 151.67 MiB | 28.38 MiB/s, done.\n",
            "Resolving deltas: 100% (156759/156759), done.\n"
          ]
        }
      ],
      "source": [
        "# clona o repositorio\n",
        "!git clone https://github.com/apache/kafka.git"
      ]
    },
    {
      "cell_type": "code",
      "source": [
        "def checa_indice_language(relacao_linguagens):\n",
        "  indice=-1\n",
        "  for i, each in enumerate(relacao_linguagens):\n",
        "    if \"Language\" in each:\n",
        "      indice = i\n",
        "      break\n",
        "  return indice"
      ],
      "metadata": {
        "id": "tjiUyu61-CHQ"
      },
      "execution_count": 3,
      "outputs": []
    },
    {
      "cell_type": "code",
      "source": [
        "# Quantidade de arquivos na pasta cassandra\n",
        "qtd_arquivos = !find $REPOSITORIO -type f | wc -l\n",
        "\n",
        "# Quantidade de commits do repositorio cassandra\n",
        "qtd_commits = !cd $REPOSITORIO && git log --oneline | grep -c .\n",
        "\n",
        "# Tamanho (MB) da pasta cassandra\n",
        "tamanho_pasta_mb = !du -hs --block-size=1M $REPOSITORIO | cut -f1\n",
        "\n",
        "# Quantidade de colaboradores (devs que commitaram pelo menos uma vez no projeto cassandra)\n",
        "qtd_colaboradores_commits = !cd $REPOSITORIO && git log --pretty=format:\"%ae\" | sort -u | grep -v \"noreply.github.com\" | wc -l\n",
        "\n",
        "# Data do primeiro commit do projeto cassandra\n",
        "data_primeiro_commit =!cd $REPOSITORIO && git log --reverse --pretty=format:%ad --date=short | head -1\n",
        "\n",
        "# Data do ultimo commit do projeto cassandra\n",
        "data_ultimo_commit = !cd $REPOSITORIO && git log -1 --pretty=format:%ad --date=short"
      ],
      "metadata": {
        "id": "w32CAAbJnFiP"
      },
      "execution_count": 30,
      "outputs": []
    },
    {
      "cell_type": "code",
      "source": [
        "print(qtd_arquivos)"
      ],
      "metadata": {
        "colab": {
          "base_uri": "https://localhost:8080/"
        },
        "id": "P6CcLvbnRU9A",
        "outputId": "789b85d8-c5ae-4228-f430-4cd82ed60248"
      },
      "execution_count": 31,
      "outputs": [
        {
          "output_type": "stream",
          "name": "stdout",
          "text": [
            "['5233']\n"
          ]
        }
      ]
    },
    {
      "cell_type": "code",
      "source": [
        "dict_info_repo = {\n",
        "  'nome':repositorio,\n",
        "\t'qtd_arquivos':qtd_arquivos,\n",
        "\t'qtd_commits':qtd_commits,\n",
        "\t'tamanho_pasta_mb':tamanho_pasta_mb,\n",
        "\t'qtd_colaboradores_commits':qtd_colaboradores_commits,\n",
        "\t'data_primeiro_commit':data_primeiro_commit,\n",
        "\t'data_ultimo_commit':data_ultimo_commit,\n",
        "}\n",
        "\n",
        "df_info_repo = pd.DataFrame(dict_info_repo)\n",
        "df_info_repo"
      ],
      "metadata": {
        "colab": {
          "base_uri": "https://localhost:8080/",
          "height": 81
        },
        "id": "vVtr33n4M5Fw",
        "outputId": "56cffe8c-9436-424c-8f3e-820d29b7f3fb"
      },
      "execution_count": 33,
      "outputs": [
        {
          "output_type": "execute_result",
          "data": {
            "text/plain": [
              "    nome qtd_arquivos qtd_commits tamanho_pasta_mb qtd_colaboradores_commits  \\\n",
              "0  kafka         5233       10921              228                      1031   \n",
              "\n",
              "  data_primeiro_commit data_ultimo_commit  \n",
              "0           2011-08-01         2023-03-09  "
            ],
            "text/html": [
              "\n",
              "  <div id=\"df-044e8352-a4b6-456b-8d3f-ba65d9b459a5\">\n",
              "    <div class=\"colab-df-container\">\n",
              "      <div>\n",
              "<style scoped>\n",
              "    .dataframe tbody tr th:only-of-type {\n",
              "        vertical-align: middle;\n",
              "    }\n",
              "\n",
              "    .dataframe tbody tr th {\n",
              "        vertical-align: top;\n",
              "    }\n",
              "\n",
              "    .dataframe thead th {\n",
              "        text-align: right;\n",
              "    }\n",
              "</style>\n",
              "<table border=\"1\" class=\"dataframe\">\n",
              "  <thead>\n",
              "    <tr style=\"text-align: right;\">\n",
              "      <th></th>\n",
              "      <th>nome</th>\n",
              "      <th>qtd_arquivos</th>\n",
              "      <th>qtd_commits</th>\n",
              "      <th>tamanho_pasta_mb</th>\n",
              "      <th>qtd_colaboradores_commits</th>\n",
              "      <th>data_primeiro_commit</th>\n",
              "      <th>data_ultimo_commit</th>\n",
              "    </tr>\n",
              "  </thead>\n",
              "  <tbody>\n",
              "    <tr>\n",
              "      <th>0</th>\n",
              "      <td>kafka</td>\n",
              "      <td>5233</td>\n",
              "      <td>10921</td>\n",
              "      <td>228</td>\n",
              "      <td>1031</td>\n",
              "      <td>2011-08-01</td>\n",
              "      <td>2023-03-09</td>\n",
              "    </tr>\n",
              "  </tbody>\n",
              "</table>\n",
              "</div>\n",
              "      <button class=\"colab-df-convert\" onclick=\"convertToInteractive('df-044e8352-a4b6-456b-8d3f-ba65d9b459a5')\"\n",
              "              title=\"Convert this dataframe to an interactive table.\"\n",
              "              style=\"display:none;\">\n",
              "        \n",
              "  <svg xmlns=\"http://www.w3.org/2000/svg\" height=\"24px\"viewBox=\"0 0 24 24\"\n",
              "       width=\"24px\">\n",
              "    <path d=\"M0 0h24v24H0V0z\" fill=\"none\"/>\n",
              "    <path d=\"M18.56 5.44l.94 2.06.94-2.06 2.06-.94-2.06-.94-.94-2.06-.94 2.06-2.06.94zm-11 1L8.5 8.5l.94-2.06 2.06-.94-2.06-.94L8.5 2.5l-.94 2.06-2.06.94zm10 10l.94 2.06.94-2.06 2.06-.94-2.06-.94-.94-2.06-.94 2.06-2.06.94z\"/><path d=\"M17.41 7.96l-1.37-1.37c-.4-.4-.92-.59-1.43-.59-.52 0-1.04.2-1.43.59L10.3 9.45l-7.72 7.72c-.78.78-.78 2.05 0 2.83L4 21.41c.39.39.9.59 1.41.59.51 0 1.02-.2 1.41-.59l7.78-7.78 2.81-2.81c.8-.78.8-2.07 0-2.86zM5.41 20L4 18.59l7.72-7.72 1.47 1.35L5.41 20z\"/>\n",
              "  </svg>\n",
              "      </button>\n",
              "      \n",
              "  <style>\n",
              "    .colab-df-container {\n",
              "      display:flex;\n",
              "      flex-wrap:wrap;\n",
              "      gap: 12px;\n",
              "    }\n",
              "\n",
              "    .colab-df-convert {\n",
              "      background-color: #E8F0FE;\n",
              "      border: none;\n",
              "      border-radius: 50%;\n",
              "      cursor: pointer;\n",
              "      display: none;\n",
              "      fill: #1967D2;\n",
              "      height: 32px;\n",
              "      padding: 0 0 0 0;\n",
              "      width: 32px;\n",
              "    }\n",
              "\n",
              "    .colab-df-convert:hover {\n",
              "      background-color: #E2EBFA;\n",
              "      box-shadow: 0px 1px 2px rgba(60, 64, 67, 0.3), 0px 1px 3px 1px rgba(60, 64, 67, 0.15);\n",
              "      fill: #174EA6;\n",
              "    }\n",
              "\n",
              "    [theme=dark] .colab-df-convert {\n",
              "      background-color: #3B4455;\n",
              "      fill: #D2E3FC;\n",
              "    }\n",
              "\n",
              "    [theme=dark] .colab-df-convert:hover {\n",
              "      background-color: #434B5C;\n",
              "      box-shadow: 0px 1px 3px 1px rgba(0, 0, 0, 0.15);\n",
              "      filter: drop-shadow(0px 1px 2px rgba(0, 0, 0, 0.3));\n",
              "      fill: #FFFFFF;\n",
              "    }\n",
              "  </style>\n",
              "\n",
              "      <script>\n",
              "        const buttonEl =\n",
              "          document.querySelector('#df-044e8352-a4b6-456b-8d3f-ba65d9b459a5 button.colab-df-convert');\n",
              "        buttonEl.style.display =\n",
              "          google.colab.kernel.accessAllowed ? 'block' : 'none';\n",
              "\n",
              "        async function convertToInteractive(key) {\n",
              "          const element = document.querySelector('#df-044e8352-a4b6-456b-8d3f-ba65d9b459a5');\n",
              "          const dataTable =\n",
              "            await google.colab.kernel.invokeFunction('convertToInteractive',\n",
              "                                                     [key], {});\n",
              "          if (!dataTable) return;\n",
              "\n",
              "          const docLinkHtml = 'Like what you see? Visit the ' +\n",
              "            '<a target=\"_blank\" href=https://colab.research.google.com/notebooks/data_table.ipynb>data table notebook</a>'\n",
              "            + ' to learn more about interactive tables.';\n",
              "          element.innerHTML = '';\n",
              "          dataTable['output_type'] = 'display_data';\n",
              "          await google.colab.output.renderOutput(dataTable, element);\n",
              "          const docLink = document.createElement('div');\n",
              "          docLink.innerHTML = docLinkHtml;\n",
              "          element.appendChild(docLink);\n",
              "        }\n",
              "      </script>\n",
              "    </div>\n",
              "  </div>\n",
              "  "
            ]
          },
          "metadata": {},
          "execution_count": 33
        }
      ]
    },
    {
      "cell_type": "code",
      "source": [
        "!sudo apt-get install cloc"
      ],
      "metadata": {
        "id": "RCeAdvxApFaz",
        "colab": {
          "base_uri": "https://localhost:8080/"
        },
        "outputId": "c72546f0-388e-416f-bc5c-25cdbc443fb2"
      },
      "execution_count": 34,
      "outputs": [
        {
          "output_type": "stream",
          "name": "stdout",
          "text": [
            "Reading package lists... Done\n",
            "Building dependency tree       \n",
            "Reading state information... Done\n",
            "The following additional packages will be installed:\n",
            "  libalgorithm-diff-perl libalgorithm-diff-xs-perl libb-hooks-op-check-perl\n",
            "  libclass-method-modifiers-perl libclass-xsaccessor-perl\n",
            "  libdevel-callchecker-perl libdynaloader-functions-perl libimport-into-perl\n",
            "  libmodule-runtime-perl libmoo-perl libparallel-forkmanager-perl\n",
            "  libparams-classify-perl libregexp-common-perl librole-tiny-perl\n",
            "  libstrictures-perl libsub-name-perl libsub-quote-perl\n",
            "Suggested packages:\n",
            "  libscalar-number-perl libbareword-filehandles-perl libindirect-perl\n",
            "  libmultidimensional-perl\n",
            "The following NEW packages will be installed:\n",
            "  cloc libalgorithm-diff-perl libalgorithm-diff-xs-perl\n",
            "  libb-hooks-op-check-perl libclass-method-modifiers-perl\n",
            "  libclass-xsaccessor-perl libdevel-callchecker-perl\n",
            "  libdynaloader-functions-perl libimport-into-perl libmodule-runtime-perl\n",
            "  libmoo-perl libparallel-forkmanager-perl libparams-classify-perl\n",
            "  libregexp-common-perl librole-tiny-perl libstrictures-perl libsub-name-perl\n",
            "  libsub-quote-perl\n",
            "0 upgraded, 18 newly installed, 0 to remove and 22 not upgraded.\n",
            "Need to get 591 kB of archives.\n",
            "After this operation, 2,070 kB of additional disk space will be used.\n",
            "Get:1 http://archive.ubuntu.com/ubuntu focal/main amd64 libalgorithm-diff-perl all 1.19.03-2 [46.6 kB]\n",
            "Get:2 http://archive.ubuntu.com/ubuntu focal/main amd64 libclass-method-modifiers-perl all 2.13-1 [16.2 kB]\n",
            "Get:3 http://archive.ubuntu.com/ubuntu focal/main amd64 libb-hooks-op-check-perl amd64 0.22-1build2 [10.2 kB]\n",
            "Get:4 http://archive.ubuntu.com/ubuntu focal/main amd64 libdynaloader-functions-perl all 0.003-1 [11.9 kB]\n",
            "Get:5 http://archive.ubuntu.com/ubuntu focal/main amd64 libdevel-callchecker-perl amd64 0.008-1ubuntu1 [14.5 kB]\n",
            "Get:6 http://archive.ubuntu.com/ubuntu focal/main amd64 libparams-classify-perl amd64 0.015-1build2 [21.1 kB]\n",
            "Get:7 http://archive.ubuntu.com/ubuntu focal/main amd64 libmodule-runtime-perl all 0.016-1 [16.2 kB]\n",
            "Get:8 http://archive.ubuntu.com/ubuntu focal/main amd64 libimport-into-perl all 1.002005-1 [11.0 kB]\n",
            "Get:9 http://archive.ubuntu.com/ubuntu focal/main amd64 librole-tiny-perl all 2.001004-1 [16.5 kB]\n",
            "Get:10 http://archive.ubuntu.com/ubuntu focal/main amd64 libstrictures-perl all 2.000006-1 [16.3 kB]\n",
            "Get:11 http://archive.ubuntu.com/ubuntu focal/main amd64 libsub-quote-perl all 2.006006-1 [19.5 kB]\n",
            "Get:12 http://archive.ubuntu.com/ubuntu focal/main amd64 libmoo-perl all 2.003006-1 [46.3 kB]\n",
            "Get:13 http://archive.ubuntu.com/ubuntu focal/universe amd64 libparallel-forkmanager-perl all 2.02-1 [27.7 kB]\n",
            "Get:14 http://archive.ubuntu.com/ubuntu focal/universe amd64 libregexp-common-perl all 2017060201-1 [168 kB]\n",
            "Get:15 http://archive.ubuntu.com/ubuntu focal/universe amd64 cloc all 1.82-1 [92.2 kB]\n",
            "Get:16 http://archive.ubuntu.com/ubuntu focal/main amd64 libalgorithm-diff-xs-perl amd64 0.04-6 [11.3 kB]\n",
            "Get:17 http://archive.ubuntu.com/ubuntu focal/main amd64 libclass-xsaccessor-perl amd64 1.19-3build3 [33.6 kB]\n",
            "Get:18 http://archive.ubuntu.com/ubuntu focal/main amd64 libsub-name-perl amd64 0.26-1 [11.5 kB]\n",
            "Fetched 591 kB in 1s (474 kB/s)\n",
            "debconf: unable to initialize frontend: Dialog\n",
            "debconf: (No usable dialog-like program is installed, so the dialog based frontend cannot be used. at /usr/share/perl5/Debconf/FrontEnd/Dialog.pm line 76, <> line 18.)\n",
            "debconf: falling back to frontend: Readline\n",
            "debconf: unable to initialize frontend: Readline\n",
            "debconf: (This frontend requires a controlling tty.)\n",
            "debconf: falling back to frontend: Teletype\n",
            "dpkg-preconfigure: unable to re-open stdin: \n",
            "Selecting previously unselected package libalgorithm-diff-perl.\n",
            "(Reading database ... 128275 files and directories currently installed.)\n",
            "Preparing to unpack .../00-libalgorithm-diff-perl_1.19.03-2_all.deb ...\n",
            "Unpacking libalgorithm-diff-perl (1.19.03-2) ...\n",
            "Selecting previously unselected package libclass-method-modifiers-perl.\n",
            "Preparing to unpack .../01-libclass-method-modifiers-perl_2.13-1_all.deb ...\n",
            "Unpacking libclass-method-modifiers-perl (2.13-1) ...\n",
            "Selecting previously unselected package libb-hooks-op-check-perl.\n",
            "Preparing to unpack .../02-libb-hooks-op-check-perl_0.22-1build2_amd64.deb ...\n",
            "Unpacking libb-hooks-op-check-perl (0.22-1build2) ...\n",
            "Selecting previously unselected package libdynaloader-functions-perl.\n",
            "Preparing to unpack .../03-libdynaloader-functions-perl_0.003-1_all.deb ...\n",
            "Unpacking libdynaloader-functions-perl (0.003-1) ...\n",
            "Selecting previously unselected package libdevel-callchecker-perl.\n",
            "Preparing to unpack .../04-libdevel-callchecker-perl_0.008-1ubuntu1_amd64.deb ...\n",
            "Unpacking libdevel-callchecker-perl (0.008-1ubuntu1) ...\n",
            "Selecting previously unselected package libparams-classify-perl.\n",
            "Preparing to unpack .../05-libparams-classify-perl_0.015-1build2_amd64.deb ...\n",
            "Unpacking libparams-classify-perl (0.015-1build2) ...\n",
            "Selecting previously unselected package libmodule-runtime-perl.\n",
            "Preparing to unpack .../06-libmodule-runtime-perl_0.016-1_all.deb ...\n",
            "Unpacking libmodule-runtime-perl (0.016-1) ...\n",
            "Selecting previously unselected package libimport-into-perl.\n",
            "Preparing to unpack .../07-libimport-into-perl_1.002005-1_all.deb ...\n",
            "Unpacking libimport-into-perl (1.002005-1) ...\n",
            "Selecting previously unselected package librole-tiny-perl.\n",
            "Preparing to unpack .../08-librole-tiny-perl_2.001004-1_all.deb ...\n",
            "Unpacking librole-tiny-perl (2.001004-1) ...\n",
            "Selecting previously unselected package libstrictures-perl.\n",
            "Preparing to unpack .../09-libstrictures-perl_2.000006-1_all.deb ...\n",
            "Unpacking libstrictures-perl (2.000006-1) ...\n",
            "Selecting previously unselected package libsub-quote-perl.\n",
            "Preparing to unpack .../10-libsub-quote-perl_2.006006-1_all.deb ...\n",
            "Unpacking libsub-quote-perl (2.006006-1) ...\n",
            "Selecting previously unselected package libmoo-perl.\n",
            "Preparing to unpack .../11-libmoo-perl_2.003006-1_all.deb ...\n",
            "Unpacking libmoo-perl (2.003006-1) ...\n",
            "Selecting previously unselected package libparallel-forkmanager-perl.\n",
            "Preparing to unpack .../12-libparallel-forkmanager-perl_2.02-1_all.deb ...\n",
            "Unpacking libparallel-forkmanager-perl (2.02-1) ...\n",
            "Selecting previously unselected package libregexp-common-perl.\n",
            "Preparing to unpack .../13-libregexp-common-perl_2017060201-1_all.deb ...\n",
            "Unpacking libregexp-common-perl (2017060201-1) ...\n",
            "Selecting previously unselected package cloc.\n",
            "Preparing to unpack .../14-cloc_1.82-1_all.deb ...\n",
            "Unpacking cloc (1.82-1) ...\n",
            "Selecting previously unselected package libalgorithm-diff-xs-perl.\n",
            "Preparing to unpack .../15-libalgorithm-diff-xs-perl_0.04-6_amd64.deb ...\n",
            "Unpacking libalgorithm-diff-xs-perl (0.04-6) ...\n",
            "Selecting previously unselected package libclass-xsaccessor-perl.\n",
            "Preparing to unpack .../16-libclass-xsaccessor-perl_1.19-3build3_amd64.deb ...\n",
            "Unpacking libclass-xsaccessor-perl (1.19-3build3) ...\n",
            "Selecting previously unselected package libsub-name-perl.\n",
            "Preparing to unpack .../17-libsub-name-perl_0.26-1_amd64.deb ...\n",
            "Unpacking libsub-name-perl (0.26-1) ...\n",
            "Setting up libdynaloader-functions-perl (0.003-1) ...\n",
            "Setting up libclass-method-modifiers-perl (2.13-1) ...\n",
            "Setting up libalgorithm-diff-perl (1.19.03-2) ...\n",
            "Setting up libregexp-common-perl (2017060201-1) ...\n",
            "Setting up libb-hooks-op-check-perl (0.22-1build2) ...\n",
            "Setting up libsub-name-perl (0.26-1) ...\n",
            "Setting up librole-tiny-perl (2.001004-1) ...\n",
            "Setting up libstrictures-perl (2.000006-1) ...\n",
            "Setting up libsub-quote-perl (2.006006-1) ...\n",
            "Setting up libclass-xsaccessor-perl (1.19-3build3) ...\n",
            "Setting up libalgorithm-diff-xs-perl (0.04-6) ...\n",
            "Setting up libdevel-callchecker-perl (0.008-1ubuntu1) ...\n",
            "Setting up libparams-classify-perl (0.015-1build2) ...\n",
            "Setting up libmodule-runtime-perl (0.016-1) ...\n",
            "Setting up libimport-into-perl (1.002005-1) ...\n",
            "Setting up libmoo-perl (2.003006-1) ...\n",
            "Setting up libparallel-forkmanager-perl (2.02-1) ...\n",
            "Setting up cloc (1.82-1) ...\n",
            "Processing triggers for man-db (2.9.1-1) ...\n"
          ]
        }
      ]
    },
    {
      "cell_type": "code",
      "source": [
        "# Detalha os tipos de arquivos que aparecem no repositório do cassandra\n",
        "relacao_linguagens = !cd $REPOSITORIO && cloc .\n",
        "\n",
        "relacao_linguagens[checa_indice_language(relacao_linguagens):]"
      ],
      "metadata": {
        "id": "vdgBMXQv9T9s",
        "colab": {
          "base_uri": "https://localhost:8080/"
        },
        "outputId": "f28b1dc6-4034-418f-a7c0-af45d0c7d5db"
      },
      "execution_count": 35,
      "outputs": [
        {
          "output_type": "execute_result",
          "data": {
            "text/plain": [
              "['Language                      files          blank        comment           code',\n",
              " '--------------------------------------------------------------------------------',\n",
              " 'Java                           3849         102530         147870         552045',\n",
              " 'Scala                           633          30186          31931         167171',\n",
              " 'HTML                             60           2352           1152          20254',\n",
              " 'Python                          132           3733           5212          14619',\n",
              " 'JSON                            201            208              0           8719',\n",
              " 'Gradle                            4            481            294           2585',\n",
              " 'XML                               7            251            269           1405',\n",
              " 'Markdown                         11            487              0           1328',\n",
              " 'Bourne Shell                     53            288            964           1261',\n",
              " 'Bourne Again Shell                2             66            112            497',\n",
              " 'DOS Batch                        30             73            450            253',\n",
              " 'Maven                             3             27             50            221',\n",
              " 'XSLT                              1             26             27            153',\n",
              " 'Dockerfile                        1             15             32             68',\n",
              " 'YAML                              1              2             16             10',\n",
              " 'JavaScript                        1              3             15              6',\n",
              " '--------------------------------------------------------------------------------',\n",
              " 'SUM:                           4989         140728         188394         770595',\n",
              " '--------------------------------------------------------------------------------']"
            ]
          },
          "metadata": {},
          "execution_count": 35
        }
      ]
    },
    {
      "cell_type": "code",
      "source": [
        "linguagens_encontradas = relacao_linguagens[(checa_indice_language(relacao_linguagens)+2):]\n",
        "linguagens_encontradas"
      ],
      "metadata": {
        "colab": {
          "base_uri": "https://localhost:8080/"
        },
        "id": "yEwKmTfv_efi",
        "outputId": "7d2db78d-5c37-47a1-d6a4-389cf38e79d1"
      },
      "execution_count": 36,
      "outputs": [
        {
          "output_type": "execute_result",
          "data": {
            "text/plain": [
              "['Java                           3849         102530         147870         552045',\n",
              " 'Scala                           633          30186          31931         167171',\n",
              " 'HTML                             60           2352           1152          20254',\n",
              " 'Python                          132           3733           5212          14619',\n",
              " 'JSON                            201            208              0           8719',\n",
              " 'Gradle                            4            481            294           2585',\n",
              " 'XML                               7            251            269           1405',\n",
              " 'Markdown                         11            487              0           1328',\n",
              " 'Bourne Shell                     53            288            964           1261',\n",
              " 'Bourne Again Shell                2             66            112            497',\n",
              " 'DOS Batch                        30             73            450            253',\n",
              " 'Maven                             3             27             50            221',\n",
              " 'XSLT                              1             26             27            153',\n",
              " 'Dockerfile                        1             15             32             68',\n",
              " 'YAML                              1              2             16             10',\n",
              " 'JavaScript                        1              3             15              6',\n",
              " '--------------------------------------------------------------------------------',\n",
              " 'SUM:                           4989         140728         188394         770595',\n",
              " '--------------------------------------------------------------------------------']"
            ]
          },
          "metadata": {},
          "execution_count": 36
        }
      ]
    },
    {
      "cell_type": "code",
      "source": [
        "lista_linguagens, lista_files, lista_blank, lista_comment, lista_code = list(), list(), list(), list(), list()\n",
        "\n",
        "l_temp = []\n",
        "vl_temp = []\n",
        "for linha in linguagens_encontradas:\n",
        "  elementos = linha.split(' ')\n",
        "  novos_elementos = []\n",
        "  linguagem_encontrada = []\n",
        "  valores_da_linguagem = []\n",
        "  for item in elementos:\n",
        "    if item != '':\n",
        "      novos_elementos.append(item)\n",
        "  linguagem_encontrada.append(novos_elementos[:-4])\n",
        "  valores_da_linguagem.append(novos_elementos[-4:])\n",
        "  print(linguagem_encontrada, valores_da_linguagem)\n",
        "  l_temp = l_temp + linguagem_encontrada\n",
        "  vl_temp = vl_temp + valores_da_linguagem"
      ],
      "metadata": {
        "colab": {
          "base_uri": "https://localhost:8080/"
        },
        "id": "yf_uXZaW_ohc",
        "outputId": "f4fe5324-99d1-4d5c-eeb5-6b0733ffef53"
      },
      "execution_count": 37,
      "outputs": [
        {
          "output_type": "stream",
          "name": "stdout",
          "text": [
            "[['Java']] [['3849', '102530', '147870', '552045']]\n",
            "[['Scala']] [['633', '30186', '31931', '167171']]\n",
            "[['HTML']] [['60', '2352', '1152', '20254']]\n",
            "[['Python']] [['132', '3733', '5212', '14619']]\n",
            "[['JSON']] [['201', '208', '0', '8719']]\n",
            "[['Gradle']] [['4', '481', '294', '2585']]\n",
            "[['XML']] [['7', '251', '269', '1405']]\n",
            "[['Markdown']] [['11', '487', '0', '1328']]\n",
            "[['Bourne', 'Shell']] [['53', '288', '964', '1261']]\n",
            "[['Bourne', 'Again', 'Shell']] [['2', '66', '112', '497']]\n",
            "[['DOS', 'Batch']] [['30', '73', '450', '253']]\n",
            "[['Maven']] [['3', '27', '50', '221']]\n",
            "[['XSLT']] [['1', '26', '27', '153']]\n",
            "[['Dockerfile']] [['1', '15', '32', '68']]\n",
            "[['YAML']] [['1', '2', '16', '10']]\n",
            "[['JavaScript']] [['1', '3', '15', '6']]\n",
            "[[]] [['--------------------------------------------------------------------------------']]\n",
            "[['SUM:']] [['4989', '140728', '188394', '770595']]\n",
            "[[]] [['--------------------------------------------------------------------------------']]\n"
          ]
        }
      ]
    },
    {
      "cell_type": "code",
      "source": [
        "l_temp = l_temp[:-3]\n",
        "for i, each in enumerate(l_temp):\n",
        "  print(i,each)\n",
        "\n",
        "vl_temp = vl_temp[:-3]\n",
        "for i,each in enumerate(vl_temp):\n",
        "  print(i,each)\n",
        "  lista_files.append(each[0])\n",
        "  lista_blank.append(each[1]) \n",
        "  lista_comment.append(each[2]) \n",
        "  lista_code.append(each[3])"
      ],
      "metadata": {
        "colab": {
          "base_uri": "https://localhost:8080/"
        },
        "id": "4vtdH-D7IVlu",
        "outputId": "1617086e-18e0-4eb5-a4aa-b6661abf292c"
      },
      "execution_count": 38,
      "outputs": [
        {
          "output_type": "stream",
          "name": "stdout",
          "text": [
            "0 ['Java']\n",
            "1 ['Scala']\n",
            "2 ['HTML']\n",
            "3 ['Python']\n",
            "4 ['JSON']\n",
            "5 ['Gradle']\n",
            "6 ['XML']\n",
            "7 ['Markdown']\n",
            "8 ['Bourne', 'Shell']\n",
            "9 ['Bourne', 'Again', 'Shell']\n",
            "10 ['DOS', 'Batch']\n",
            "11 ['Maven']\n",
            "12 ['XSLT']\n",
            "13 ['Dockerfile']\n",
            "14 ['YAML']\n",
            "15 ['JavaScript']\n",
            "0 ['3849', '102530', '147870', '552045']\n",
            "1 ['633', '30186', '31931', '167171']\n",
            "2 ['60', '2352', '1152', '20254']\n",
            "3 ['132', '3733', '5212', '14619']\n",
            "4 ['201', '208', '0', '8719']\n",
            "5 ['4', '481', '294', '2585']\n",
            "6 ['7', '251', '269', '1405']\n",
            "7 ['11', '487', '0', '1328']\n",
            "8 ['53', '288', '964', '1261']\n",
            "9 ['2', '66', '112', '497']\n",
            "10 ['30', '73', '450', '253']\n",
            "11 ['3', '27', '50', '221']\n",
            "12 ['1', '26', '27', '153']\n",
            "13 ['1', '15', '32', '68']\n",
            "14 ['1', '2', '16', '10']\n",
            "15 ['1', '3', '15', '6']\n"
          ]
        }
      ]
    },
    {
      "cell_type": "code",
      "source": [
        "dict_dados_linguagens = {\n",
        "    'linguagens':l_temp, \n",
        "    'files':lista_files, \n",
        "    'blank':lista_blank,\n",
        "    'comment':lista_comment,\n",
        "    'code':lista_code\n",
        "}\n",
        "\n",
        "df_dados_linguagens = pd.DataFrame(dict_dados_linguagens)\n",
        "df_dados_linguagens"
      ],
      "metadata": {
        "colab": {
          "base_uri": "https://localhost:8080/",
          "height": 551
        },
        "id": "IszmyjRAIbFo",
        "outputId": "6c024aa1-3fcb-4c37-ba55-b22bf8bdd8dd"
      },
      "execution_count": 39,
      "outputs": [
        {
          "output_type": "execute_result",
          "data": {
            "text/plain": [
              "                linguagens files   blank comment    code\n",
              "0                   [Java]  3849  102530  147870  552045\n",
              "1                  [Scala]   633   30186   31931  167171\n",
              "2                   [HTML]    60    2352    1152   20254\n",
              "3                 [Python]   132    3733    5212   14619\n",
              "4                   [JSON]   201     208       0    8719\n",
              "5                 [Gradle]     4     481     294    2585\n",
              "6                    [XML]     7     251     269    1405\n",
              "7               [Markdown]    11     487       0    1328\n",
              "8          [Bourne, Shell]    53     288     964    1261\n",
              "9   [Bourne, Again, Shell]     2      66     112     497\n",
              "10            [DOS, Batch]    30      73     450     253\n",
              "11                 [Maven]     3      27      50     221\n",
              "12                  [XSLT]     1      26      27     153\n",
              "13            [Dockerfile]     1      15      32      68\n",
              "14                  [YAML]     1       2      16      10\n",
              "15            [JavaScript]     1       3      15       6"
            ],
            "text/html": [
              "\n",
              "  <div id=\"df-42293a08-ff6d-4e82-a7d5-0add41f20d18\">\n",
              "    <div class=\"colab-df-container\">\n",
              "      <div>\n",
              "<style scoped>\n",
              "    .dataframe tbody tr th:only-of-type {\n",
              "        vertical-align: middle;\n",
              "    }\n",
              "\n",
              "    .dataframe tbody tr th {\n",
              "        vertical-align: top;\n",
              "    }\n",
              "\n",
              "    .dataframe thead th {\n",
              "        text-align: right;\n",
              "    }\n",
              "</style>\n",
              "<table border=\"1\" class=\"dataframe\">\n",
              "  <thead>\n",
              "    <tr style=\"text-align: right;\">\n",
              "      <th></th>\n",
              "      <th>linguagens</th>\n",
              "      <th>files</th>\n",
              "      <th>blank</th>\n",
              "      <th>comment</th>\n",
              "      <th>code</th>\n",
              "    </tr>\n",
              "  </thead>\n",
              "  <tbody>\n",
              "    <tr>\n",
              "      <th>0</th>\n",
              "      <td>[Java]</td>\n",
              "      <td>3849</td>\n",
              "      <td>102530</td>\n",
              "      <td>147870</td>\n",
              "      <td>552045</td>\n",
              "    </tr>\n",
              "    <tr>\n",
              "      <th>1</th>\n",
              "      <td>[Scala]</td>\n",
              "      <td>633</td>\n",
              "      <td>30186</td>\n",
              "      <td>31931</td>\n",
              "      <td>167171</td>\n",
              "    </tr>\n",
              "    <tr>\n",
              "      <th>2</th>\n",
              "      <td>[HTML]</td>\n",
              "      <td>60</td>\n",
              "      <td>2352</td>\n",
              "      <td>1152</td>\n",
              "      <td>20254</td>\n",
              "    </tr>\n",
              "    <tr>\n",
              "      <th>3</th>\n",
              "      <td>[Python]</td>\n",
              "      <td>132</td>\n",
              "      <td>3733</td>\n",
              "      <td>5212</td>\n",
              "      <td>14619</td>\n",
              "    </tr>\n",
              "    <tr>\n",
              "      <th>4</th>\n",
              "      <td>[JSON]</td>\n",
              "      <td>201</td>\n",
              "      <td>208</td>\n",
              "      <td>0</td>\n",
              "      <td>8719</td>\n",
              "    </tr>\n",
              "    <tr>\n",
              "      <th>5</th>\n",
              "      <td>[Gradle]</td>\n",
              "      <td>4</td>\n",
              "      <td>481</td>\n",
              "      <td>294</td>\n",
              "      <td>2585</td>\n",
              "    </tr>\n",
              "    <tr>\n",
              "      <th>6</th>\n",
              "      <td>[XML]</td>\n",
              "      <td>7</td>\n",
              "      <td>251</td>\n",
              "      <td>269</td>\n",
              "      <td>1405</td>\n",
              "    </tr>\n",
              "    <tr>\n",
              "      <th>7</th>\n",
              "      <td>[Markdown]</td>\n",
              "      <td>11</td>\n",
              "      <td>487</td>\n",
              "      <td>0</td>\n",
              "      <td>1328</td>\n",
              "    </tr>\n",
              "    <tr>\n",
              "      <th>8</th>\n",
              "      <td>[Bourne, Shell]</td>\n",
              "      <td>53</td>\n",
              "      <td>288</td>\n",
              "      <td>964</td>\n",
              "      <td>1261</td>\n",
              "    </tr>\n",
              "    <tr>\n",
              "      <th>9</th>\n",
              "      <td>[Bourne, Again, Shell]</td>\n",
              "      <td>2</td>\n",
              "      <td>66</td>\n",
              "      <td>112</td>\n",
              "      <td>497</td>\n",
              "    </tr>\n",
              "    <tr>\n",
              "      <th>10</th>\n",
              "      <td>[DOS, Batch]</td>\n",
              "      <td>30</td>\n",
              "      <td>73</td>\n",
              "      <td>450</td>\n",
              "      <td>253</td>\n",
              "    </tr>\n",
              "    <tr>\n",
              "      <th>11</th>\n",
              "      <td>[Maven]</td>\n",
              "      <td>3</td>\n",
              "      <td>27</td>\n",
              "      <td>50</td>\n",
              "      <td>221</td>\n",
              "    </tr>\n",
              "    <tr>\n",
              "      <th>12</th>\n",
              "      <td>[XSLT]</td>\n",
              "      <td>1</td>\n",
              "      <td>26</td>\n",
              "      <td>27</td>\n",
              "      <td>153</td>\n",
              "    </tr>\n",
              "    <tr>\n",
              "      <th>13</th>\n",
              "      <td>[Dockerfile]</td>\n",
              "      <td>1</td>\n",
              "      <td>15</td>\n",
              "      <td>32</td>\n",
              "      <td>68</td>\n",
              "    </tr>\n",
              "    <tr>\n",
              "      <th>14</th>\n",
              "      <td>[YAML]</td>\n",
              "      <td>1</td>\n",
              "      <td>2</td>\n",
              "      <td>16</td>\n",
              "      <td>10</td>\n",
              "    </tr>\n",
              "    <tr>\n",
              "      <th>15</th>\n",
              "      <td>[JavaScript]</td>\n",
              "      <td>1</td>\n",
              "      <td>3</td>\n",
              "      <td>15</td>\n",
              "      <td>6</td>\n",
              "    </tr>\n",
              "  </tbody>\n",
              "</table>\n",
              "</div>\n",
              "      <button class=\"colab-df-convert\" onclick=\"convertToInteractive('df-42293a08-ff6d-4e82-a7d5-0add41f20d18')\"\n",
              "              title=\"Convert this dataframe to an interactive table.\"\n",
              "              style=\"display:none;\">\n",
              "        \n",
              "  <svg xmlns=\"http://www.w3.org/2000/svg\" height=\"24px\"viewBox=\"0 0 24 24\"\n",
              "       width=\"24px\">\n",
              "    <path d=\"M0 0h24v24H0V0z\" fill=\"none\"/>\n",
              "    <path d=\"M18.56 5.44l.94 2.06.94-2.06 2.06-.94-2.06-.94-.94-2.06-.94 2.06-2.06.94zm-11 1L8.5 8.5l.94-2.06 2.06-.94-2.06-.94L8.5 2.5l-.94 2.06-2.06.94zm10 10l.94 2.06.94-2.06 2.06-.94-2.06-.94-.94-2.06-.94 2.06-2.06.94z\"/><path d=\"M17.41 7.96l-1.37-1.37c-.4-.4-.92-.59-1.43-.59-.52 0-1.04.2-1.43.59L10.3 9.45l-7.72 7.72c-.78.78-.78 2.05 0 2.83L4 21.41c.39.39.9.59 1.41.59.51 0 1.02-.2 1.41-.59l7.78-7.78 2.81-2.81c.8-.78.8-2.07 0-2.86zM5.41 20L4 18.59l7.72-7.72 1.47 1.35L5.41 20z\"/>\n",
              "  </svg>\n",
              "      </button>\n",
              "      \n",
              "  <style>\n",
              "    .colab-df-container {\n",
              "      display:flex;\n",
              "      flex-wrap:wrap;\n",
              "      gap: 12px;\n",
              "    }\n",
              "\n",
              "    .colab-df-convert {\n",
              "      background-color: #E8F0FE;\n",
              "      border: none;\n",
              "      border-radius: 50%;\n",
              "      cursor: pointer;\n",
              "      display: none;\n",
              "      fill: #1967D2;\n",
              "      height: 32px;\n",
              "      padding: 0 0 0 0;\n",
              "      width: 32px;\n",
              "    }\n",
              "\n",
              "    .colab-df-convert:hover {\n",
              "      background-color: #E2EBFA;\n",
              "      box-shadow: 0px 1px 2px rgba(60, 64, 67, 0.3), 0px 1px 3px 1px rgba(60, 64, 67, 0.15);\n",
              "      fill: #174EA6;\n",
              "    }\n",
              "\n",
              "    [theme=dark] .colab-df-convert {\n",
              "      background-color: #3B4455;\n",
              "      fill: #D2E3FC;\n",
              "    }\n",
              "\n",
              "    [theme=dark] .colab-df-convert:hover {\n",
              "      background-color: #434B5C;\n",
              "      box-shadow: 0px 1px 3px 1px rgba(0, 0, 0, 0.15);\n",
              "      filter: drop-shadow(0px 1px 2px rgba(0, 0, 0, 0.3));\n",
              "      fill: #FFFFFF;\n",
              "    }\n",
              "  </style>\n",
              "\n",
              "      <script>\n",
              "        const buttonEl =\n",
              "          document.querySelector('#df-42293a08-ff6d-4e82-a7d5-0add41f20d18 button.colab-df-convert');\n",
              "        buttonEl.style.display =\n",
              "          google.colab.kernel.accessAllowed ? 'block' : 'none';\n",
              "\n",
              "        async function convertToInteractive(key) {\n",
              "          const element = document.querySelector('#df-42293a08-ff6d-4e82-a7d5-0add41f20d18');\n",
              "          const dataTable =\n",
              "            await google.colab.kernel.invokeFunction('convertToInteractive',\n",
              "                                                     [key], {});\n",
              "          if (!dataTable) return;\n",
              "\n",
              "          const docLinkHtml = 'Like what you see? Visit the ' +\n",
              "            '<a target=\"_blank\" href=https://colab.research.google.com/notebooks/data_table.ipynb>data table notebook</a>'\n",
              "            + ' to learn more about interactive tables.';\n",
              "          element.innerHTML = '';\n",
              "          dataTable['output_type'] = 'display_data';\n",
              "          await google.colab.output.renderOutput(dataTable, element);\n",
              "          const docLink = document.createElement('div');\n",
              "          docLink.innerHTML = docLinkHtml;\n",
              "          element.appendChild(docLink);\n",
              "        }\n",
              "      </script>\n",
              "    </div>\n",
              "  </div>\n",
              "  "
            ]
          },
          "metadata": {},
          "execution_count": 39
        }
      ]
    },
    {
      "cell_type": "code",
      "source": [
        "df_dados_linguagens['files'] = df_dados_linguagens['files'].apply(lambda x: int(x))\n",
        "df_dados_linguagens['blank'] = df_dados_linguagens['blank'].apply(lambda x: int(x))\t\n",
        "df_dados_linguagens['comment'] = df_dados_linguagens['comment'].apply(lambda x: int(x))\t\n",
        "df_dados_linguagens['code'] = df_dados_linguagens['code'].apply(lambda x: int(x))\n",
        "\n",
        "df_dados_linguagens.info()"
      ],
      "metadata": {
        "id": "iPTVksApKQBE",
        "colab": {
          "base_uri": "https://localhost:8080/"
        },
        "outputId": "8877a320-779c-45d3-91b8-ec0a8864a89b"
      },
      "execution_count": 40,
      "outputs": [
        {
          "output_type": "stream",
          "name": "stdout",
          "text": [
            "<class 'pandas.core.frame.DataFrame'>\n",
            "RangeIndex: 16 entries, 0 to 15\n",
            "Data columns (total 5 columns):\n",
            " #   Column      Non-Null Count  Dtype \n",
            "---  ------      --------------  ----- \n",
            " 0   linguagens  16 non-null     object\n",
            " 1   files       16 non-null     int64 \n",
            " 2   blank       16 non-null     int64 \n",
            " 3   comment     16 non-null     int64 \n",
            " 4   code        16 non-null     int64 \n",
            "dtypes: int64(4), object(1)\n",
            "memory usage: 768.0+ bytes\n"
          ]
        }
      ]
    }
  ]
}
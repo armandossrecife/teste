{
  "nbformat": 4,
  "nbformat_minor": 0,
  "metadata": {
    "colab": {
      "provenance": [],
      "authorship_tag": "ABX9TyOrCNti2xIRb+189O8FLUYg",
      "include_colab_link": true
    },
    "kernelspec": {
      "name": "python3",
      "display_name": "Python 3"
    },
    "language_info": {
      "name": "python"
    }
  },
  "cells": [
    {
      "cell_type": "markdown",
      "metadata": {
        "id": "view-in-github",
        "colab_type": "text"
      },
      "source": [
        "<a href=\"https://colab.research.google.com/github/armandossrecife/teste/blob/main/extrai_emails.ipynb\" target=\"_parent\"><img src=\"https://colab.research.google.com/assets/colab-badge.svg\" alt=\"Open In Colab\"/></a>"
      ]
    },
    {
      "cell_type": "code",
      "execution_count": 5,
      "metadata": {
        "id": "PHg8mQmiemjV"
      },
      "outputs": [],
      "source": [
        "import re\n",
        "\n",
        "def ler_conteudo_arquivo(nome_arquivo):\n",
        "  conteudo = None\n",
        "  try:\n",
        "    with open(nome_arquivo, mode='r') as f_temp:\n",
        "      conteudo = f_temp.read()\n",
        "  except Exception as ex:\n",
        "    print(f'Erro ao ler o arquivo {nome_arquivo}: erro: {str(ex)}')\n",
        "  return conteudo\n",
        "\n",
        "# Salva a lista de e-mails em um arquivo texto\n",
        "def salva_conteudo_arquivo(lista, nome_arquivo):\n",
        "  try:\n",
        "    with open(nome_arquivo, mode='a') as f_temp:\n",
        "      for each in lista:\n",
        "        each = each + '\\n'\n",
        "        f_temp.write(each)\n",
        "  except Exception as ex:\n",
        "    print(f'Erro ao salvar dados no arquivo {nome_arquivo}: {str(ex)}')\n",
        "\n",
        "def extract_emails(text):\n",
        "    pattern = r'\\b[A-Za-z0-9._%+-]+@[A-Za-z0-9.-]+\\.[A-Za-z]{2,}\\b'\n",
        "    emails = re.findall(pattern, text)\n",
        "    return emails"
      ]
    },
    {
      "cell_type": "code",
      "source": [
        "!wget https://raw.githubusercontent.com/armandossrecife/teste/main/alunoses2.txt"
      ],
      "metadata": {
        "colab": {
          "base_uri": "https://localhost:8080/"
        },
        "id": "SI_OvaTGjrJ9",
        "outputId": "f082358e-42e5-4181-fe6b-2a6498d71443"
      },
      "execution_count": 8,
      "outputs": [
        {
          "output_type": "stream",
          "name": "stdout",
          "text": [
            "--2023-06-15 14:56:35--  https://raw.githubusercontent.com/armandossrecife/teste/main/alunoses2.txt\n",
            "Resolving raw.githubusercontent.com (raw.githubusercontent.com)... 185.199.109.133, 185.199.111.133, 185.199.108.133, ...\n",
            "Connecting to raw.githubusercontent.com (raw.githubusercontent.com)|185.199.109.133|:443... connected.\n",
            "HTTP request sent, awaiting response... 200 OK\n",
            "Length: 9175 (9.0K) [text/plain]\n",
            "Saving to: ‘alunoses2.txt’\n",
            "\n",
            "alunoses2.txt       100%[===================>]   8.96K  --.-KB/s    in 0s      \n",
            "\n",
            "2023-06-15 14:56:36 (36.0 MB/s) - ‘alunoses2.txt’ saved [9175/9175]\n",
            "\n"
          ]
        }
      ]
    },
    {
      "cell_type": "code",
      "source": [
        "conteudo = ler_conteudo_arquivo(nome_arquivo='alunoses2.txt')\n",
        "lista_emails = extract_emails(conteudo)\n",
        "\n",
        "print(lista_emails)\n",
        "\n",
        "salva_conteudo_arquivo(lista=lista_emails, nome_arquivo='emalunoses2.txt')"
      ],
      "metadata": {
        "colab": {
          "base_uri": "https://localhost:8080/"
        },
        "id": "8djPpNrOfjZ9",
        "outputId": "d44bda21-3683-4b5b-f0c5-5c4ae36109a0"
      },
      "execution_count": 9,
      "outputs": [
        {
          "output_type": "stream",
          "name": "stdout",
          "text": [
            "['ajunior283@ufpi.edu.br', 'acorreiacruz@ufpi.edu.br', 'brunogamer2002@gmail.com', 'carloseduardo01@ufpi.edu.br', 'carlos.savio@ufpi.edu.br', 'ciroolmelo@ufpi.edu.br', 'daniellimas2000@ufpi.edu.br', 'bezerra35eduardo@gmail.com', 'emanuelmendes2001@gmail.com', 'enzoeduardo_aluno@ufpi.edu.br', 'fernando_rosa@ufpi.edu.br', 'assismac200@gmail.com', 'gabrielalves@ufpi.edu.br', 'username.gran@gmail.com', 'gleidesonvieira015@ufpi.edu.br', 'miranda.ingrid011@ufpi.edu.br', 'jacobalexandre123@gmail.com', 'joao.76@ufpi.edu.br', 'jose10augusto10@ufpi.edu.br', 'cassianojuniorww@gmail.com', 'josegayosoneto@ufpi.edu.br', 'kathelleenv@gmail.com', 'Lucas97md@gmail.com', 'lucianogfortes@gmail.com', 'eduardoadf.luis@gmail.com', 'fmarcelo3duardo@gmail.com', 'marcusv.barradas@ufpi.edu.br', 'markesley10@hotmail.com', 'mateusjssilva@ufpi.edu.br', 'lpaulovale@gmail.com', 'pumbadeveloper@gmail.com', 'eduardorib.br@ufpi.edu.br', 'tabitaribeiro11@gmail.com', 'vicentecleyton@gmail.com', 'victoremmanuel@ufpi.edu.br']\n"
          ]
        }
      ]
    }
  ]
}
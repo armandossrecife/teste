{
  "nbformat": 4,
  "nbformat_minor": 0,
  "metadata": {
    "colab": {
      "provenance": [],
      "authorship_tag": "ABX9TyMIQB4XX5jkZBuojidhMU0Y",
      "include_colab_link": true
    },
    "kernelspec": {
      "name": "python3",
      "display_name": "Python 3"
    },
    "language_info": {
      "name": "python"
    }
  },
  "cells": [
    {
      "cell_type": "markdown",
      "metadata": {
        "id": "view-in-github",
        "colab_type": "text"
      },
      "source": [
        "<a href=\"https://colab.research.google.com/github/armandossrecife/teste/blob/main/converte_texto_audio.ipynb\" target=\"_parent\"><img src=\"https://colab.research.google.com/assets/colab-badge.svg\" alt=\"Open In Colab\"/></a>"
      ]
    },
    {
      "cell_type": "code",
      "source": [
        "!pip install gTTS"
      ],
      "metadata": {
        "colab": {
          "base_uri": "https://localhost:8080/"
        },
        "id": "lmGUUyJFpTLZ",
        "outputId": "41022cb4-2d66-4ddc-ca81-5ed5a47354e2"
      },
      "execution_count": 49,
      "outputs": [
        {
          "output_type": "stream",
          "name": "stdout",
          "text": [
            "Looking in indexes: https://pypi.org/simple, https://us-python.pkg.dev/colab-wheels/public/simple/\n",
            "Requirement already satisfied: gTTS in /usr/local/lib/python3.9/dist-packages (2.3.1)\n",
            "Requirement already satisfied: requests<3,>=2.27 in /usr/local/lib/python3.9/dist-packages (from gTTS) (2.28.2)\n",
            "Requirement already satisfied: click<8.2,>=7.1 in /usr/local/lib/python3.9/dist-packages (from gTTS) (8.1.3)\n",
            "Requirement already satisfied: urllib3<1.27,>=1.21.1 in /usr/local/lib/python3.9/dist-packages (from requests<3,>=2.27->gTTS) (1.26.14)\n",
            "Requirement already satisfied: charset-normalizer<4,>=2 in /usr/local/lib/python3.9/dist-packages (from requests<3,>=2.27->gTTS) (3.1.0)\n",
            "Requirement already satisfied: idna<4,>=2.5 in /usr/local/lib/python3.9/dist-packages (from requests<3,>=2.27->gTTS) (2.10)\n",
            "Requirement already satisfied: certifi>=2017.4.17 in /usr/local/lib/python3.9/dist-packages (from requests<3,>=2.27->gTTS) (2022.12.7)\n"
          ]
        }
      ]
    },
    {
      "cell_type": "code",
      "source": [
        "!pip install pydub"
      ],
      "metadata": {
        "colab": {
          "base_uri": "https://localhost:8080/"
        },
        "id": "Z0Fh2nXw1AFB",
        "outputId": "da7261e9-3329-4e93-c163-5873d8ff2219"
      },
      "execution_count": 50,
      "outputs": [
        {
          "output_type": "stream",
          "name": "stdout",
          "text": [
            "Looking in indexes: https://pypi.org/simple, https://us-python.pkg.dev/colab-wheels/public/simple/\n",
            "Requirement already satisfied: pydub in /usr/local/lib/python3.9/dist-packages (0.25.1)\n"
          ]
        }
      ]
    },
    {
      "cell_type": "code",
      "source": [
        "import io\n",
        "from gtts import gTTS\n",
        "from pydub import AudioSegment"
      ],
      "metadata": {
        "id": "Y3uHRgcE56WS"
      },
      "execution_count": 51,
      "outputs": []
    },
    {
      "cell_type": "code",
      "source": [
        "def texto_para_audio(my_text, my_file):\n",
        "  audio_data = None\n",
        "  try:\n",
        "    # Create a BytesIO object to hold the audio data\n",
        "    audio_data = io.BytesIO()\n",
        "    # Create a gTTS object and save the audio data to the BytesIO object\n",
        "    tts = gTTS(text=my_text, lang='pt')\n",
        "    tts.write_to_fp(audio_data)\n",
        "  except Exception as ex:\n",
        "    print(f'Erro ao criar áudio: {str(ex)}')\n",
        "\n",
        "  try:\n",
        "    # Convert the BytesIO object to bytes and write it to a file\n",
        "    with open(my_file, 'wb') as f:\n",
        "        f.write(audio_data.getbuffer())\n",
        "  except Exception as ex:\n",
        "    print('Erro ao salvar arquivo de áudio')\n",
        "\n",
        "def acelera_arquivo_audio(arquivo_audio, velocidade, formato='mp3'):\n",
        "  sound = AudioSegment.from_mp3(arquivo_audio)\n",
        "\n",
        "  # Increase the speed by velocidade x\n",
        "  faster_sound = sound.speedup(playback_speed=velocidade)\n",
        "  # Export the faster MP3 file\n",
        "  faster_sound.export(arquivo_audio, format=formato)\n",
        "\n",
        "def converte_lista_texto(lista_texto):\n",
        "  print('Convertendo a lista de textos')\n",
        "  try: \n",
        "    for i, each in enumerate(lista_texto):\n",
        "      nome = 'f' + '_'+ str(i+1) + '.' + 'mp3'\n",
        "      texto_para_audio(my_text=each, my_file=nome)\n",
        "      acelera_arquivo_audio(arquivo_audio=nome, velocidade=1.4, formato='mp3')\n",
        "      print('Conversão concluída!')\n",
        "  except Exception as ex:\n",
        "    print(f'Erro ao converter lista de textos - {str(ex)}')"
      ],
      "metadata": {
        "id": "n4ty9CLM6Bb5"
      },
      "execution_count": 52,
      "outputs": []
    },
    {
      "cell_type": "code",
      "source": [
        "f1 = 'Este programa poderá servir de exemplo para ajudar na implementação do projeto final'\n",
        "\n",
        "f2 = 'Basicamente o programa faz a manipulação de alunos em uma lista em tempo de memória e salva a lista em um arquivo que é recuperado sempre que o programa inicia'\n",
        "\n",
        "f3 = 'Uma feature importante é a recuperação da hora do sistema e registro da operação sempre que um aluno é inserido em uma lista'\n",
        "\n",
        "f4 = 'Para este exemplo, vamos salvar e recuperar dados de um arquiovo texto'\n",
        "\n",
        "f5 = 'O programa é dividido em quatro módulos, ou seja, existe um módulo que faz as operações de CRUD de alunos, um módulo que faz a manipulação de arquivos, o módulo de manipulação de data/hora do sistema e o módulo principal faz a integração dos módulos e controle do menu de opções do programa'\n",
        "\n",
        "f6 = 'Conforme vimos anteriormente, o uso de módulos em programas e sistemas de software permite desacoplar a dependência entre as funções, facilitando assim a manutenção do software e evolução do mesmo com um menor impacto de mudanças cada vez que novas features são acrescentadas ou correções são realizadas'\n",
        "\n",
        "f7 = 'Além disso, quando um projeto é modular, fica mais fácil de distribuir as tarefas, além de permitir que os módulos sejam testados separadamente antes de serem integrados'\n",
        "\n",
        "f8 = 'O módulo principal importa os módulos de alunos e arquivos'\n",
        "\n",
        "f9 = 'Foi criada uma função para montar o menu principal'\n",
        "\n",
        "f10 = 'Podemos observar que foi criada uma lista de alunos vazia para manipular dados de alunos'\n",
        "\n",
        "f11 = 'Também percebemos que sempre que o programa é iniciado ele chama a função recupera alunos para popular os dados em tempo de memória caso existam dados no arquivo de alunos'\n",
        "\n",
        "f12 = 'Loop do menu de opções e switch case com as respectivas chamadas do munu'\n",
        "\n",
        "f13 = 'No Módulo de alunos podemos observar a chamada ao módulo de horas'\n",
        "\n",
        "f14 = 'Também observamos a criação dos tipos Aluno e Node para representar um nó da lista'\n",
        "\n",
        "f15 = 'As demais operações são as operações padrões de manipulação de lista e entrada de dados de aluno'\n",
        "\n",
        "f16 = 'O módulo de arquivos precisa importar a função insere nó, pois sempre que o programa é iniciado, é preciso checar se já existe um arquivo com o conteúdo dos alunos salvos.'\n",
        "\n",
        "f17 = 'Finalmente segue o módulo de horas, responsável por pegar a hora atual do sistema e convertê-la para string'\n",
        "\n",
        "f18 = 'Vale lembrar que caso você esteja executando seu programa em um IDE na núvem, a data/hora será do servidor de hospedagem da IDE.'"
      ],
      "metadata": {
        "id": "dNPC5Y_5tR-j"
      },
      "execution_count": 53,
      "outputs": []
    },
    {
      "cell_type": "code",
      "source": [
        "my_list = [f1, f2, f3, f4, f5, f6, f7, f8, f9, f10, f11, f12, f13, f14, f15, f16, f17, f18]\n",
        "converte_lista_texto(lista_texto=my_list)"
      ],
      "metadata": {
        "colab": {
          "base_uri": "https://localhost:8080/"
        },
        "id": "kqmdBuIN0-LC",
        "outputId": "f8e29607-5468-4115-b3c8-8a2555a1821f"
      },
      "execution_count": 54,
      "outputs": [
        {
          "output_type": "stream",
          "name": "stdout",
          "text": [
            "Convertendo a lista de textos\n",
            "Conversão concluída!\n",
            "Conversão concluída!\n",
            "Conversão concluída!\n",
            "Conversão concluída!\n",
            "Conversão concluída!\n",
            "Conversão concluída!\n",
            "Conversão concluída!\n",
            "Conversão concluída!\n",
            "Conversão concluída!\n",
            "Conversão concluída!\n",
            "Conversão concluída!\n",
            "Conversão concluída!\n",
            "Conversão concluída!\n",
            "Conversão concluída!\n",
            "Conversão concluída!\n",
            "Conversão concluída!\n",
            "Conversão concluída!\n",
            "Conversão concluída!\n"
          ]
        }
      ]
    },
    {
      "cell_type": "code",
      "source": [
        "#!rm *.mp3"
      ],
      "metadata": {
        "id": "pptludZyZXrJ"
      },
      "execution_count": 55,
      "outputs": []
    }
  ]
}
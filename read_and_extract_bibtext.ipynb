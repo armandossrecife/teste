{
  "nbformat": 4,
  "nbformat_minor": 0,
  "metadata": {
    "colab": {
      "provenance": [],
      "authorship_tag": "ABX9TyPLYRbYOi2HEry/+qah0OUM",
      "include_colab_link": true
    },
    "kernelspec": {
      "name": "python3",
      "display_name": "Python 3"
    },
    "language_info": {
      "name": "python"
    }
  },
  "cells": [
    {
      "cell_type": "markdown",
      "metadata": {
        "id": "view-in-github",
        "colab_type": "text"
      },
      "source": [
        "<a href=\"https://colab.research.google.com/github/armandossrecife/teste/blob/main/read_and_extract_bibtext.ipynb\" target=\"_parent\"><img src=\"https://colab.research.google.com/assets/colab-badge.svg\" alt=\"Open In Colab\"/></a>"
      ]
    },
    {
      "cell_type": "code",
      "source": [
        "!pip install pybtex"
      ],
      "metadata": {
        "colab": {
          "base_uri": "https://localhost:8080/"
        },
        "id": "zY0CTxLJ8xy_",
        "outputId": "ec76a27c-6d90-4d46-adcd-3088fcc4aaed"
      },
      "execution_count": 1,
      "outputs": [
        {
          "output_type": "stream",
          "name": "stdout",
          "text": [
            "Collecting pybtex\n",
            "  Downloading pybtex-0.24.0-py2.py3-none-any.whl (561 kB)\n",
            "\u001b[2K     \u001b[90m━━━━━━━━━━━━━━━━━━━━━━━━━━━━━━━━━━━━━━━━\u001b[0m \u001b[32m561.4/561.4 kB\u001b[0m \u001b[31m7.2 MB/s\u001b[0m eta \u001b[36m0:00:00\u001b[0m\n",
            "\u001b[?25hRequirement already satisfied: PyYAML>=3.01 in /usr/local/lib/python3.10/dist-packages (from pybtex) (6.0.1)\n",
            "Collecting latexcodec>=1.0.4 (from pybtex)\n",
            "  Downloading latexcodec-3.0.0-py3-none-any.whl (18 kB)\n",
            "Requirement already satisfied: six in /usr/local/lib/python3.10/dist-packages (from pybtex) (1.16.0)\n",
            "Installing collected packages: latexcodec, pybtex\n",
            "Successfully installed latexcodec-3.0.0 pybtex-0.24.0\n"
          ]
        }
      ]
    },
    {
      "cell_type": "code",
      "source": [
        "!pip install --upgrade --force-reinstall pybtex"
      ],
      "metadata": {
        "colab": {
          "base_uri": "https://localhost:8080/",
          "height": 579
        },
        "id": "chiU3nB9-UEY",
        "outputId": "4be4e8db-4b4c-40b0-fc6a-69eb62e78ccb"
      },
      "execution_count": 1,
      "outputs": [
        {
          "output_type": "stream",
          "name": "stdout",
          "text": [
            "Collecting pybtex\n",
            "  Using cached pybtex-0.24.0-py2.py3-none-any.whl (561 kB)\n",
            "Collecting PyYAML>=3.01 (from pybtex)\n",
            "  Using cached PyYAML-6.0.1-cp310-cp310-manylinux_2_17_x86_64.manylinux2014_x86_64.whl (705 kB)\n",
            "Collecting latexcodec>=1.0.4 (from pybtex)\n",
            "  Using cached latexcodec-3.0.0-py3-none-any.whl (18 kB)\n",
            "Collecting six (from pybtex)\n",
            "  Using cached six-1.16.0-py2.py3-none-any.whl (11 kB)\n",
            "Installing collected packages: six, PyYAML, latexcodec, pybtex\n",
            "  Attempting uninstall: six\n",
            "    Found existing installation: six 1.16.0\n",
            "    Uninstalling six-1.16.0:\n",
            "      Successfully uninstalled six-1.16.0\n",
            "  Attempting uninstall: PyYAML\n",
            "    Found existing installation: PyYAML 6.0.1\n",
            "    Uninstalling PyYAML-6.0.1:\n",
            "      Successfully uninstalled PyYAML-6.0.1\n",
            "  Attempting uninstall: latexcodec\n",
            "    Found existing installation: latexcodec 3.0.0\n",
            "    Uninstalling latexcodec-3.0.0:\n",
            "      Successfully uninstalled latexcodec-3.0.0\n",
            "  Attempting uninstall: pybtex\n",
            "    Found existing installation: pybtex 0.24.0\n",
            "    Uninstalling pybtex-0.24.0:\n",
            "      Successfully uninstalled pybtex-0.24.0\n",
            "Successfully installed PyYAML-6.0.1 latexcodec-3.0.0 pybtex-0.24.0 six-1.16.0\n"
          ]
        },
        {
          "output_type": "display_data",
          "data": {
            "application/vnd.colab-display-data+json": {
              "pip_warning": {
                "packages": [
                  "six"
                ]
              },
              "id": "dbff41d55c52448286fca64f1a4f08a6"
            }
          },
          "metadata": {}
        }
      ]
    },
    {
      "cell_type": "code",
      "source": [
        "from pybtex.database import parse_string"
      ],
      "metadata": {
        "id": "kTfa_jhm9KMo"
      },
      "execution_count": 1,
      "outputs": []
    },
    {
      "cell_type": "code",
      "source": [
        "# Parse the BibTeX content, specifying format as 'bibtex'\n",
        "bib_data = parse_string(value=(\"\"\"\n",
        "  @article{verdecchia2022empirical,\n",
        "    title={Empirical evaluation of an architectural technical debt index in the context of the Apache and ONAP ecosystems},\n",
        "    author={Verdecchia, Roberto and Malavolta, Ivano and Lago, Patricia and Ozkaya, Ipek},\n",
        "    journal={PeerJ Computer Science},\n",
        "    volume={8},\n",
        "    pages={e833},\n",
        "    year={2022},\n",
        "    publisher={PeerJ Inc.}\n",
        "  }\n",
        "\n",
        "  @article{sas2023architectural,\n",
        "    title={An architectural technical debt index based on machine learning and architectural smells},\n",
        "    author={Sas, Darius and Avgeriou, Paris},\n",
        "    journal={IEEE Transactions on Software Engineering},\n",
        "    year={2023},\n",
        "    publisher={IEEE}\n",
        "  }\n",
        "\n",
        "  @inproceedings{sousa2023architectural,\n",
        "    title={Architectural Technical Debt-A Systematic Mapping Study},\n",
        "    author={Sousa, Armando and Rocha, Lincoln and Britto, Ricardo},\n",
        "    booktitle={Proceedings of the XXXVII Brazilian Symposium on Software Engineering},\n",
        "    pages={196--205},\n",
        "    year={2023}\n",
        "  }\n",
        "\"\"\"), bib_format='bibtex')"
      ],
      "metadata": {
        "id": "r3a1YWwL9avh"
      },
      "execution_count": 7,
      "outputs": []
    },
    {
      "cell_type": "code",
      "source": [
        "# Loop through each entry in the database\n",
        "for key, entry in bib_data.entries.items():\n",
        "  print(f\"Reference Key: {key}\")\n",
        "\n",
        "  # Access information using entry fields or persons dictionary\n",
        "  print(f\"Title: {entry.fields['title']}\")\n",
        "  print(f\"Authors: {', '.join(author.first_names[0] for author in entry.persons['author'])}\")\n",
        "  print(f\"Year: {entry.fields['year']}\")\n",
        "\n",
        "  # Check if specific field exists before accessing\n",
        "  if 'journal' in entry.fields:\n",
        "    print(f\"Journal: {entry.fields['journal']}\")\n",
        "  elif 'booktitle' in entry.fields:\n",
        "    print(f\"Book Title: {entry.fields['booktitle']}\")\n",
        "\n",
        "  # Print other information as needed (e.g., volume, pages, publisher)\n",
        "  print(\"-\"*20)"
      ],
      "metadata": {
        "colab": {
          "base_uri": "https://localhost:8080/"
        },
        "id": "l4DwilW0--1R",
        "outputId": "ad2a2924-8ee7-4796-a2c6-0cc9d365d4e3"
      },
      "execution_count": 8,
      "outputs": [
        {
          "output_type": "stream",
          "name": "stdout",
          "text": [
            "Reference Key: verdecchia2022empirical\n",
            "Title: Empirical evaluation of an architectural technical debt index in the context of the Apache and ONAP ecosystems\n",
            "Authors: Roberto, Ivano, Patricia, Ipek\n",
            "Year: 2022\n",
            "Journal: PeerJ Computer Science\n",
            "--------------------\n",
            "Reference Key: sas2023architectural\n",
            "Title: An architectural technical debt index based on machine learning and architectural smells\n",
            "Authors: Darius, Paris\n",
            "Year: 2023\n",
            "Journal: IEEE Transactions on Software Engineering\n",
            "--------------------\n",
            "Reference Key: sousa2023architectural\n",
            "Title: Architectural Technical Debt-A Systematic Mapping Study\n",
            "Authors: Armando, Lincoln, Ricardo\n",
            "Year: 2023\n",
            "Book Title: Proceedings of the XXXVII Brazilian Symposium on Software Engineering\n",
            "--------------------\n"
          ]
        }
      ]
    }
  ]
}
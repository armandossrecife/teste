{
  "nbformat": 4,
  "nbformat_minor": 0,
  "metadata": {
    "colab": {
      "provenance": [],
      "authorship_tag": "ABX9TyOhib4tUVhUjAipUnYfHfX+",
      "include_colab_link": true
    },
    "kernelspec": {
      "name": "python3",
      "display_name": "Python 3"
    },
    "language_info": {
      "name": "python"
    }
  },
  "cells": [
    {
      "cell_type": "markdown",
      "metadata": {
        "id": "view-in-github",
        "colab_type": "text"
      },
      "source": [
        "<a href=\"https://colab.research.google.com/github/armandossrecife/teste/blob/main/read_and_extract_bibtext.ipynb\" target=\"_parent\"><img src=\"https://colab.research.google.com/assets/colab-badge.svg\" alt=\"Open In Colab\"/></a>"
      ]
    },
    {
      "cell_type": "code",
      "source": [
        "!wget https://raw.githubusercontent.com/armandossrecife/teste/main/busca_acm_atd_2012_2024.bib"
      ],
      "metadata": {
        "colab": {
          "base_uri": "https://localhost:8080/"
        },
        "id": "DBJX_TkprvRP",
        "outputId": "cd2b06af-86cb-46fd-bb2a-2e13b35b880d"
      },
      "execution_count": 1,
      "outputs": [
        {
          "output_type": "stream",
          "name": "stdout",
          "text": [
            "--2024-06-10 15:05:45--  https://raw.githubusercontent.com/armandossrecife/teste/main/busca_acm_atd_2012_2024.bib\n",
            "Resolving raw.githubusercontent.com (raw.githubusercontent.com)... 185.199.111.133, 185.199.109.133, 185.199.108.133, ...\n",
            "Connecting to raw.githubusercontent.com (raw.githubusercontent.com)|185.199.111.133|:443... connected.\n",
            "HTTP request sent, awaiting response... 200 OK\n",
            "Length: 20743 (20K) [text/plain]\n",
            "Saving to: ‘busca_acm_atd_2012_2024.bib’\n",
            "\n",
            "\r          busca_acm   0%[                    ]       0  --.-KB/s               \rbusca_acm_atd_2012_ 100%[===================>]  20.26K  --.-KB/s    in 0s      \n",
            "\n",
            "2024-06-10 15:05:45 (54.3 MB/s) - ‘busca_acm_atd_2012_2024.bib’ saved [20743/20743]\n",
            "\n"
          ]
        }
      ]
    },
    {
      "cell_type": "code",
      "source": [
        "!wget https://raw.githubusercontent.com/armandossrecife/teste/main/busca_ieee_atd_2012_2024.csv"
      ],
      "metadata": {
        "colab": {
          "base_uri": "https://localhost:8080/"
        },
        "id": "6wly248erxYu",
        "outputId": "81ac61e2-07ce-406b-ae3a-da2d5107adb1"
      },
      "execution_count": 2,
      "outputs": [
        {
          "output_type": "stream",
          "name": "stdout",
          "text": [
            "--2024-06-10 15:06:07--  https://raw.githubusercontent.com/armandossrecife/teste/main/busca_ieee_atd_2012_2024.csv\n",
            "Resolving raw.githubusercontent.com (raw.githubusercontent.com)... 185.199.109.133, 185.199.111.133, 185.199.108.133, ...\n",
            "Connecting to raw.githubusercontent.com (raw.githubusercontent.com)|185.199.109.133|:443... connected.\n",
            "HTTP request sent, awaiting response... 200 OK\n",
            "Length: 147709 (144K) [text/plain]\n",
            "Saving to: ‘busca_ieee_atd_2012_2024.csv’\n",
            "\n",
            "\r          busca_iee   0%[                    ]       0  --.-KB/s               \rbusca_ieee_atd_2012 100%[===================>] 144.25K  --.-KB/s    in 0.03s   \n",
            "\n",
            "2024-06-10 15:06:07 (4.42 MB/s) - ‘busca_ieee_atd_2012_2024.csv’ saved [147709/147709]\n",
            "\n"
          ]
        }
      ]
    },
    {
      "cell_type": "code",
      "source": [
        "!pip install --upgrade pybtex"
      ],
      "metadata": {
        "colab": {
          "base_uri": "https://localhost:8080/"
        },
        "id": "AGNmhyBesEQC",
        "outputId": "790fbb9b-f225-4a91-f802-2918ac30bc84"
      },
      "execution_count": 1,
      "outputs": [
        {
          "output_type": "stream",
          "name": "stdout",
          "text": [
            "Requirement already satisfied: pybtex in /usr/local/lib/python3.10/dist-packages (0.24.0)\n",
            "Requirement already satisfied: PyYAML>=3.01 in /usr/local/lib/python3.10/dist-packages (from pybtex) (6.0.1)\n",
            "Requirement already satisfied: latexcodec>=1.0.4 in /usr/local/lib/python3.10/dist-packages (from pybtex) (3.0.0)\n",
            "Requirement already satisfied: six in /usr/local/lib/python3.10/dist-packages (from pybtex) (1.16.0)\n"
          ]
        }
      ]
    },
    {
      "cell_type": "code",
      "source": [
        "from pybtex.database import parse_file\n",
        "import pandas as pd"
      ],
      "metadata": {
        "id": "Bggs4pXXlgov"
      },
      "execution_count": 2,
      "outputs": []
    },
    {
      "cell_type": "code",
      "source": [
        "bib_data = parse_file('busca_acm_atd_2012_2024.bib')"
      ],
      "metadata": {
        "id": "-3ggQaOYlh-g"
      },
      "execution_count": 3,
      "outputs": []
    },
    {
      "cell_type": "code",
      "source": [
        "# Loop through each entry in the database\n",
        "for key, entry in bib_data.entries.items():\n",
        "  print(f\"Reference Key: {key}\")\n",
        "\n",
        "  # Access information using entry fields or persons dictionary\n",
        "  print(f\"Title: {entry.fields['title']}\")\n",
        "  print(f\"Authors: {', '.join(author.first_names[0] for author in entry.persons['author'])}\")\n",
        "  print(f\"Year: {entry.fields['year']}\")\n",
        "\n",
        "  # Check if specific field exists before accessing\n",
        "  if 'journal' in entry.fields:\n",
        "    print(f\"Journal: {entry.fields['journal']}\")\n",
        "  elif 'booktitle' in entry.fields:\n",
        "    print(f\"Book Title: {entry.fields['booktitle']}\")\n",
        "\n",
        "  # Print other information as needed (e.g., volume, pages, publisher)\n",
        "  print(\"-\"*20)"
      ],
      "metadata": {
        "id": "l4DwilW0--1R"
      },
      "execution_count": null,
      "outputs": []
    },
    {
      "cell_type": "code",
      "source": [
        "df_ieee_atd_2022_2024 = pd.read_csv('busca_ieee_atd_2012_2024.csv')\n",
        "df_ieee_atd_2022_2024.columns"
      ],
      "metadata": {
        "id": "3dTXtAK-oIhR",
        "outputId": "ec5b95b7-c6a1-497a-c7ac-2c3082460571",
        "colab": {
          "base_uri": "https://localhost:8080/"
        }
      },
      "execution_count": 7,
      "outputs": [
        {
          "output_type": "execute_result",
          "data": {
            "text/plain": [
              "Index(['Document Title', 'Authors', 'Author Affiliations', 'Publication Title',\n",
              "       'Date Added To Xplore', 'Publication Year', 'Volume', 'Issue',\n",
              "       'Start Page', 'End Page', 'Abstract', 'ISSN', 'ISBNs', 'DOI',\n",
              "       'Funding Information', 'PDF Link', 'Author Keywords', 'IEEE Terms',\n",
              "       'Mesh_Terms', 'Article Citation Count', 'Patent Citation Count',\n",
              "       'Reference Count', 'License', 'Online Date', 'Issue Date',\n",
              "       'Meeting Date', 'Publisher', 'Document Identifier'],\n",
              "      dtype='object')"
            ]
          },
          "metadata": {},
          "execution_count": 7
        }
      ]
    },
    {
      "cell_type": "code",
      "source": [
        "minhas_colunas = ['Document Title', 'Publication Title', 'Authors', 'Publication Year', 'Publisher']\n",
        "df_ieee_atd_2022_2024_valido = df_ieee_atd_2022_2024[minhas_colunas]\n",
        "df_ieee_atd_2022_2024_valido['Publication_Year'] = df_ieee_atd_2022_2024_valido['Publication Year']"
      ],
      "metadata": {
        "id": "miHBQJYXo30w",
        "colab": {
          "base_uri": "https://localhost:8080/"
        },
        "outputId": "ec180218-4924-4463-ae14-b29f0dfc188b"
      },
      "execution_count": 9,
      "outputs": [
        {
          "output_type": "stream",
          "name": "stderr",
          "text": [
            "<ipython-input-9-74c0538e10f9>:3: SettingWithCopyWarning: \n",
            "A value is trying to be set on a copy of a slice from a DataFrame.\n",
            "Try using .loc[row_indexer,col_indexer] = value instead\n",
            "\n",
            "See the caveats in the documentation: https://pandas.pydata.org/pandas-docs/stable/user_guide/indexing.html#returning-a-view-versus-a-copy\n",
            "  df_ieee_atd_2022_2024_valido['Publication_Year'] = df_ieee_atd_2022_2024_valido['Publication Year']\n"
          ]
        }
      ]
    },
    {
      "cell_type": "code",
      "source": [
        "publicacao_maior_2022 = df_ieee_atd_2022_2024_valido.Publication_Year >= 2022\n",
        "df_relacao_ieee_atd_maior_2022 = df_ieee_atd_2022_2024_valido[publicacao_maior_2022]\n",
        "df_relacao_ieee_atd_maior_2022"
      ],
      "metadata": {
        "id": "JO_GZmF2pVYf",
        "outputId": "434cdddf-169d-48bd-b31a-682a4449a98a",
        "colab": {
          "base_uri": "https://localhost:8080/",
          "height": 554
        }
      },
      "execution_count": 11,
      "outputs": [
        {
          "output_type": "execute_result",
          "data": {
            "text/plain": [
              "                                       Document Title  \\\n",
              "16  An Architectural Technical Debt Index Based on...   \n",
              "20  Detecting the Locations and Predicting the Mai...   \n",
              "26  Towards the Assisted Decomposition of Large-Ac...   \n",
              "27  Exploiting dynamic analysis for architectural ...   \n",
              "33  Accumulation and Prioritization of Architectur...   \n",
              "41  Detecting Architecture Debt in Micro-Service O...   \n",
              "45  Managing Technical Debt Using Intelligent Tech...   \n",
              "52  Comprehending the Use of Intelligent Technique...   \n",
              "53  Hands-On Software Architecture with Java: Lear...   \n",
              "60  Microservices smell detection through dynamic ...   \n",
              "\n",
              "                                    Publication Title  \\\n",
              "16          IEEE Transactions on Software Engineering   \n",
              "20          IEEE Transactions on Software Engineering   \n",
              "26  2023 IEEE 20th International Conference on Sof...   \n",
              "27  2022 48th Euromicro Conference on Software Eng...   \n",
              "33                                        IEEE Access   \n",
              "41  2023 49th Euromicro Conference on Software Eng...   \n",
              "45          IEEE Transactions on Software Engineering   \n",
              "52  2022 IEEE/ACM International Conference on Tech...   \n",
              "53  Hands-On Software Architecture with Java: Lear...   \n",
              "60  2022 48th Euromicro Conference on Software Eng...   \n",
              "\n",
              "                                              Authors  Publication Year  \\\n",
              "16                                D. Sas; P. Avgeriou              2023   \n",
              "20         L. Xiao; Y. Cai; R. Kazman; R. Mo; Q. Feng              2022   \n",
              "26             J. Lefever; Y. Cai; R. Kazman; H. Fang              2023   \n",
              "27  I. Pigazzini; D. Di Nucci; F. A. Fontana; M. B...              2022   \n",
              "33  S. S. De Toledo; A. Martini; P. H. Nguyen; D. ...              2022   \n",
              "41  R. Capilla; F. A. Fontana; T. Mikkonen; P. Bac...              2023   \n",
              "45  D. Albuquerque; E. Guimarães; G. Tonin; P. Rod...              2023   \n",
              "52  D. Albuquerque; E. Guimaraes; G. Tonin; M. Per...              2022   \n",
              "53                                        G. Bonocore              2022   \n",
              "60          P. Bacchiega; I. Pigazzini; F. A. Fontana              2022   \n",
              "\n",
              "           Publisher  Publication_Year  \n",
              "16              IEEE              2023  \n",
              "20              IEEE              2022  \n",
              "26              IEEE              2023  \n",
              "27              IEEE              2022  \n",
              "33              IEEE              2022  \n",
              "41              IEEE              2023  \n",
              "45              IEEE              2023  \n",
              "52              IEEE              2022  \n",
              "53  Packt Publishing              2022  \n",
              "60              IEEE              2022  "
            ],
            "text/html": [
              "\n",
              "  <div id=\"df-2ad4254c-a007-4f5d-9a6c-145225234ff2\" class=\"colab-df-container\">\n",
              "    <div>\n",
              "<style scoped>\n",
              "    .dataframe tbody tr th:only-of-type {\n",
              "        vertical-align: middle;\n",
              "    }\n",
              "\n",
              "    .dataframe tbody tr th {\n",
              "        vertical-align: top;\n",
              "    }\n",
              "\n",
              "    .dataframe thead th {\n",
              "        text-align: right;\n",
              "    }\n",
              "</style>\n",
              "<table border=\"1\" class=\"dataframe\">\n",
              "  <thead>\n",
              "    <tr style=\"text-align: right;\">\n",
              "      <th></th>\n",
              "      <th>Document Title</th>\n",
              "      <th>Publication Title</th>\n",
              "      <th>Authors</th>\n",
              "      <th>Publication Year</th>\n",
              "      <th>Publisher</th>\n",
              "      <th>Publication_Year</th>\n",
              "    </tr>\n",
              "  </thead>\n",
              "  <tbody>\n",
              "    <tr>\n",
              "      <th>16</th>\n",
              "      <td>An Architectural Technical Debt Index Based on...</td>\n",
              "      <td>IEEE Transactions on Software Engineering</td>\n",
              "      <td>D. Sas; P. Avgeriou</td>\n",
              "      <td>2023</td>\n",
              "      <td>IEEE</td>\n",
              "      <td>2023</td>\n",
              "    </tr>\n",
              "    <tr>\n",
              "      <th>20</th>\n",
              "      <td>Detecting the Locations and Predicting the Mai...</td>\n",
              "      <td>IEEE Transactions on Software Engineering</td>\n",
              "      <td>L. Xiao; Y. Cai; R. Kazman; R. Mo; Q. Feng</td>\n",
              "      <td>2022</td>\n",
              "      <td>IEEE</td>\n",
              "      <td>2022</td>\n",
              "    </tr>\n",
              "    <tr>\n",
              "      <th>26</th>\n",
              "      <td>Towards the Assisted Decomposition of Large-Ac...</td>\n",
              "      <td>2023 IEEE 20th International Conference on Sof...</td>\n",
              "      <td>J. Lefever; Y. Cai; R. Kazman; H. Fang</td>\n",
              "      <td>2023</td>\n",
              "      <td>IEEE</td>\n",
              "      <td>2023</td>\n",
              "    </tr>\n",
              "    <tr>\n",
              "      <th>27</th>\n",
              "      <td>Exploiting dynamic analysis for architectural ...</td>\n",
              "      <td>2022 48th Euromicro Conference on Software Eng...</td>\n",
              "      <td>I. Pigazzini; D. Di Nucci; F. A. Fontana; M. B...</td>\n",
              "      <td>2022</td>\n",
              "      <td>IEEE</td>\n",
              "      <td>2022</td>\n",
              "    </tr>\n",
              "    <tr>\n",
              "      <th>33</th>\n",
              "      <td>Accumulation and Prioritization of Architectur...</td>\n",
              "      <td>IEEE Access</td>\n",
              "      <td>S. S. De Toledo; A. Martini; P. H. Nguyen; D. ...</td>\n",
              "      <td>2022</td>\n",
              "      <td>IEEE</td>\n",
              "      <td>2022</td>\n",
              "    </tr>\n",
              "    <tr>\n",
              "      <th>41</th>\n",
              "      <td>Detecting Architecture Debt in Micro-Service O...</td>\n",
              "      <td>2023 49th Euromicro Conference on Software Eng...</td>\n",
              "      <td>R. Capilla; F. A. Fontana; T. Mikkonen; P. Bac...</td>\n",
              "      <td>2023</td>\n",
              "      <td>IEEE</td>\n",
              "      <td>2023</td>\n",
              "    </tr>\n",
              "    <tr>\n",
              "      <th>45</th>\n",
              "      <td>Managing Technical Debt Using Intelligent Tech...</td>\n",
              "      <td>IEEE Transactions on Software Engineering</td>\n",
              "      <td>D. Albuquerque; E. Guimarães; G. Tonin; P. Rod...</td>\n",
              "      <td>2023</td>\n",
              "      <td>IEEE</td>\n",
              "      <td>2023</td>\n",
              "    </tr>\n",
              "    <tr>\n",
              "      <th>52</th>\n",
              "      <td>Comprehending the Use of Intelligent Technique...</td>\n",
              "      <td>2022 IEEE/ACM International Conference on Tech...</td>\n",
              "      <td>D. Albuquerque; E. Guimaraes; G. Tonin; M. Per...</td>\n",
              "      <td>2022</td>\n",
              "      <td>IEEE</td>\n",
              "      <td>2022</td>\n",
              "    </tr>\n",
              "    <tr>\n",
              "      <th>53</th>\n",
              "      <td>Hands-On Software Architecture with Java: Lear...</td>\n",
              "      <td>Hands-On Software Architecture with Java: Lear...</td>\n",
              "      <td>G. Bonocore</td>\n",
              "      <td>2022</td>\n",
              "      <td>Packt Publishing</td>\n",
              "      <td>2022</td>\n",
              "    </tr>\n",
              "    <tr>\n",
              "      <th>60</th>\n",
              "      <td>Microservices smell detection through dynamic ...</td>\n",
              "      <td>2022 48th Euromicro Conference on Software Eng...</td>\n",
              "      <td>P. Bacchiega; I. Pigazzini; F. A. Fontana</td>\n",
              "      <td>2022</td>\n",
              "      <td>IEEE</td>\n",
              "      <td>2022</td>\n",
              "    </tr>\n",
              "  </tbody>\n",
              "</table>\n",
              "</div>\n",
              "    <div class=\"colab-df-buttons\">\n",
              "\n",
              "  <div class=\"colab-df-container\">\n",
              "    <button class=\"colab-df-convert\" onclick=\"convertToInteractive('df-2ad4254c-a007-4f5d-9a6c-145225234ff2')\"\n",
              "            title=\"Convert this dataframe to an interactive table.\"\n",
              "            style=\"display:none;\">\n",
              "\n",
              "  <svg xmlns=\"http://www.w3.org/2000/svg\" height=\"24px\" viewBox=\"0 -960 960 960\">\n",
              "    <path d=\"M120-120v-720h720v720H120Zm60-500h600v-160H180v160Zm220 220h160v-160H400v160Zm0 220h160v-160H400v160ZM180-400h160v-160H180v160Zm440 0h160v-160H620v160ZM180-180h160v-160H180v160Zm440 0h160v-160H620v160Z\"/>\n",
              "  </svg>\n",
              "    </button>\n",
              "\n",
              "  <style>\n",
              "    .colab-df-container {\n",
              "      display:flex;\n",
              "      gap: 12px;\n",
              "    }\n",
              "\n",
              "    .colab-df-convert {\n",
              "      background-color: #E8F0FE;\n",
              "      border: none;\n",
              "      border-radius: 50%;\n",
              "      cursor: pointer;\n",
              "      display: none;\n",
              "      fill: #1967D2;\n",
              "      height: 32px;\n",
              "      padding: 0 0 0 0;\n",
              "      width: 32px;\n",
              "    }\n",
              "\n",
              "    .colab-df-convert:hover {\n",
              "      background-color: #E2EBFA;\n",
              "      box-shadow: 0px 1px 2px rgba(60, 64, 67, 0.3), 0px 1px 3px 1px rgba(60, 64, 67, 0.15);\n",
              "      fill: #174EA6;\n",
              "    }\n",
              "\n",
              "    .colab-df-buttons div {\n",
              "      margin-bottom: 4px;\n",
              "    }\n",
              "\n",
              "    [theme=dark] .colab-df-convert {\n",
              "      background-color: #3B4455;\n",
              "      fill: #D2E3FC;\n",
              "    }\n",
              "\n",
              "    [theme=dark] .colab-df-convert:hover {\n",
              "      background-color: #434B5C;\n",
              "      box-shadow: 0px 1px 3px 1px rgba(0, 0, 0, 0.15);\n",
              "      filter: drop-shadow(0px 1px 2px rgba(0, 0, 0, 0.3));\n",
              "      fill: #FFFFFF;\n",
              "    }\n",
              "  </style>\n",
              "\n",
              "    <script>\n",
              "      const buttonEl =\n",
              "        document.querySelector('#df-2ad4254c-a007-4f5d-9a6c-145225234ff2 button.colab-df-convert');\n",
              "      buttonEl.style.display =\n",
              "        google.colab.kernel.accessAllowed ? 'block' : 'none';\n",
              "\n",
              "      async function convertToInteractive(key) {\n",
              "        const element = document.querySelector('#df-2ad4254c-a007-4f5d-9a6c-145225234ff2');\n",
              "        const dataTable =\n",
              "          await google.colab.kernel.invokeFunction('convertToInteractive',\n",
              "                                                    [key], {});\n",
              "        if (!dataTable) return;\n",
              "\n",
              "        const docLinkHtml = 'Like what you see? Visit the ' +\n",
              "          '<a target=\"_blank\" href=https://colab.research.google.com/notebooks/data_table.ipynb>data table notebook</a>'\n",
              "          + ' to learn more about interactive tables.';\n",
              "        element.innerHTML = '';\n",
              "        dataTable['output_type'] = 'display_data';\n",
              "        await google.colab.output.renderOutput(dataTable, element);\n",
              "        const docLink = document.createElement('div');\n",
              "        docLink.innerHTML = docLinkHtml;\n",
              "        element.appendChild(docLink);\n",
              "      }\n",
              "    </script>\n",
              "  </div>\n",
              "\n",
              "\n",
              "<div id=\"df-1826ffa9-9650-4d1f-96ad-164228ada4c1\">\n",
              "  <button class=\"colab-df-quickchart\" onclick=\"quickchart('df-1826ffa9-9650-4d1f-96ad-164228ada4c1')\"\n",
              "            title=\"Suggest charts\"\n",
              "            style=\"display:none;\">\n",
              "\n",
              "<svg xmlns=\"http://www.w3.org/2000/svg\" height=\"24px\"viewBox=\"0 0 24 24\"\n",
              "     width=\"24px\">\n",
              "    <g>\n",
              "        <path d=\"M19 3H5c-1.1 0-2 .9-2 2v14c0 1.1.9 2 2 2h14c1.1 0 2-.9 2-2V5c0-1.1-.9-2-2-2zM9 17H7v-7h2v7zm4 0h-2V7h2v10zm4 0h-2v-4h2v4z\"/>\n",
              "    </g>\n",
              "</svg>\n",
              "  </button>\n",
              "\n",
              "<style>\n",
              "  .colab-df-quickchart {\n",
              "      --bg-color: #E8F0FE;\n",
              "      --fill-color: #1967D2;\n",
              "      --hover-bg-color: #E2EBFA;\n",
              "      --hover-fill-color: #174EA6;\n",
              "      --disabled-fill-color: #AAA;\n",
              "      --disabled-bg-color: #DDD;\n",
              "  }\n",
              "\n",
              "  [theme=dark] .colab-df-quickchart {\n",
              "      --bg-color: #3B4455;\n",
              "      --fill-color: #D2E3FC;\n",
              "      --hover-bg-color: #434B5C;\n",
              "      --hover-fill-color: #FFFFFF;\n",
              "      --disabled-bg-color: #3B4455;\n",
              "      --disabled-fill-color: #666;\n",
              "  }\n",
              "\n",
              "  .colab-df-quickchart {\n",
              "    background-color: var(--bg-color);\n",
              "    border: none;\n",
              "    border-radius: 50%;\n",
              "    cursor: pointer;\n",
              "    display: none;\n",
              "    fill: var(--fill-color);\n",
              "    height: 32px;\n",
              "    padding: 0;\n",
              "    width: 32px;\n",
              "  }\n",
              "\n",
              "  .colab-df-quickchart:hover {\n",
              "    background-color: var(--hover-bg-color);\n",
              "    box-shadow: 0 1px 2px rgba(60, 64, 67, 0.3), 0 1px 3px 1px rgba(60, 64, 67, 0.15);\n",
              "    fill: var(--button-hover-fill-color);\n",
              "  }\n",
              "\n",
              "  .colab-df-quickchart-complete:disabled,\n",
              "  .colab-df-quickchart-complete:disabled:hover {\n",
              "    background-color: var(--disabled-bg-color);\n",
              "    fill: var(--disabled-fill-color);\n",
              "    box-shadow: none;\n",
              "  }\n",
              "\n",
              "  .colab-df-spinner {\n",
              "    border: 2px solid var(--fill-color);\n",
              "    border-color: transparent;\n",
              "    border-bottom-color: var(--fill-color);\n",
              "    animation:\n",
              "      spin 1s steps(1) infinite;\n",
              "  }\n",
              "\n",
              "  @keyframes spin {\n",
              "    0% {\n",
              "      border-color: transparent;\n",
              "      border-bottom-color: var(--fill-color);\n",
              "      border-left-color: var(--fill-color);\n",
              "    }\n",
              "    20% {\n",
              "      border-color: transparent;\n",
              "      border-left-color: var(--fill-color);\n",
              "      border-top-color: var(--fill-color);\n",
              "    }\n",
              "    30% {\n",
              "      border-color: transparent;\n",
              "      border-left-color: var(--fill-color);\n",
              "      border-top-color: var(--fill-color);\n",
              "      border-right-color: var(--fill-color);\n",
              "    }\n",
              "    40% {\n",
              "      border-color: transparent;\n",
              "      border-right-color: var(--fill-color);\n",
              "      border-top-color: var(--fill-color);\n",
              "    }\n",
              "    60% {\n",
              "      border-color: transparent;\n",
              "      border-right-color: var(--fill-color);\n",
              "    }\n",
              "    80% {\n",
              "      border-color: transparent;\n",
              "      border-right-color: var(--fill-color);\n",
              "      border-bottom-color: var(--fill-color);\n",
              "    }\n",
              "    90% {\n",
              "      border-color: transparent;\n",
              "      border-bottom-color: var(--fill-color);\n",
              "    }\n",
              "  }\n",
              "</style>\n",
              "\n",
              "  <script>\n",
              "    async function quickchart(key) {\n",
              "      const quickchartButtonEl =\n",
              "        document.querySelector('#' + key + ' button');\n",
              "      quickchartButtonEl.disabled = true;  // To prevent multiple clicks.\n",
              "      quickchartButtonEl.classList.add('colab-df-spinner');\n",
              "      try {\n",
              "        const charts = await google.colab.kernel.invokeFunction(\n",
              "            'suggestCharts', [key], {});\n",
              "      } catch (error) {\n",
              "        console.error('Error during call to suggestCharts:', error);\n",
              "      }\n",
              "      quickchartButtonEl.classList.remove('colab-df-spinner');\n",
              "      quickchartButtonEl.classList.add('colab-df-quickchart-complete');\n",
              "    }\n",
              "    (() => {\n",
              "      let quickchartButtonEl =\n",
              "        document.querySelector('#df-1826ffa9-9650-4d1f-96ad-164228ada4c1 button');\n",
              "      quickchartButtonEl.style.display =\n",
              "        google.colab.kernel.accessAllowed ? 'block' : 'none';\n",
              "    })();\n",
              "  </script>\n",
              "</div>\n",
              "    </div>\n",
              "  </div>\n"
            ],
            "application/vnd.google.colaboratory.intrinsic+json": {
              "type": "dataframe",
              "variable_name": "df_relacao_ieee_atd_maior_2022",
              "summary": "{\n  \"name\": \"df_relacao_ieee_atd_maior_2022\",\n  \"rows\": 10,\n  \"fields\": [\n    {\n      \"column\": \"Document Title\",\n      \"properties\": {\n        \"dtype\": \"string\",\n        \"num_unique_values\": 10,\n        \"samples\": [\n          \"Hands-On Software Architecture with Java: Learn key architectural techniques and strategies to design efficient and elegant Java applications\",\n          \"Detecting the Locations and Predicting the Maintenance Costs of Compound Architectural Debts\",\n          \"Detecting Architecture Debt in Micro-Service Open-Source Projects\"\n        ],\n        \"semantic_type\": \"\",\n        \"description\": \"\"\n      }\n    },\n    {\n      \"column\": \"Publication Title\",\n      \"properties\": {\n        \"dtype\": \"string\",\n        \"num_unique_values\": 7,\n        \"samples\": [\n          \"IEEE Transactions on Software Engineering\",\n          \"2023 IEEE 20th International Conference on Software Architecture Companion (ICSA-C)\",\n          \"2022 IEEE/ACM International Conference on Technical Debt (TechDebt)\"\n        ],\n        \"semantic_type\": \"\",\n        \"description\": \"\"\n      }\n    },\n    {\n      \"column\": \"Authors\",\n      \"properties\": {\n        \"dtype\": \"string\",\n        \"num_unique_values\": 10,\n        \"samples\": [\n          \"G. Bonocore\",\n          \"L. Xiao; Y. Cai; R. Kazman; R. Mo; Q. Feng\",\n          \"R. Capilla; F. A. Fontana; T. Mikkonen; P. Bacchiega; V. Salamanca\"\n        ],\n        \"semantic_type\": \"\",\n        \"description\": \"\"\n      }\n    },\n    {\n      \"column\": \"Publication Year\",\n      \"properties\": {\n        \"dtype\": \"number\",\n        \"std\": 0,\n        \"min\": 2022,\n        \"max\": 2023,\n        \"num_unique_values\": 2,\n        \"samples\": [\n          2022,\n          2023\n        ],\n        \"semantic_type\": \"\",\n        \"description\": \"\"\n      }\n    },\n    {\n      \"column\": \"Publisher\",\n      \"properties\": {\n        \"dtype\": \"category\",\n        \"num_unique_values\": 2,\n        \"samples\": [\n          \"Packt Publishing\",\n          \"IEEE\"\n        ],\n        \"semantic_type\": \"\",\n        \"description\": \"\"\n      }\n    },\n    {\n      \"column\": \"Publication_Year\",\n      \"properties\": {\n        \"dtype\": \"number\",\n        \"std\": 0,\n        \"min\": 2022,\n        \"max\": 2023,\n        \"num_unique_values\": 2,\n        \"samples\": [\n          2022,\n          2023\n        ],\n        \"semantic_type\": \"\",\n        \"description\": \"\"\n      }\n    }\n  ]\n}"
            }
          },
          "metadata": {},
          "execution_count": 11
        }
      ]
    },
    {
      "cell_type": "code",
      "source": [
        "nome_arquivo = 'relacao_ieee_atd_maior_2022.csv'\n",
        "try:\n",
        "  df_relacao_ieee_atd_maior_2022[['Document Title', 'Publication Title', 'Authors','Publisher', 'Publication_Year']].to_csv(nome_arquivo, index=False)\n",
        "  print(f'Arquivo {nome_arquivo} exportado com sucesso!')\n",
        "except Exception as ex:\n",
        "  print(f\"Erro ao exportar arquivo {nome_arquivo}: {str(ex)}\")"
      ],
      "metadata": {
        "colab": {
          "base_uri": "https://localhost:8080/"
        },
        "id": "E932aqDAsm2Z",
        "outputId": "25a81767-f0f9-4688-96b3-a11619290197"
      },
      "execution_count": 12,
      "outputs": [
        {
          "output_type": "stream",
          "name": "stdout",
          "text": [
            "Arquivo relacao_ieee_atd_maior_2022.csv exportado com sucesso!\n"
          ]
        }
      ]
    },
    {
      "cell_type": "code",
      "source": [],
      "metadata": {
        "id": "w826-OecqmB5"
      },
      "execution_count": null,
      "outputs": []
    },
    {
      "cell_type": "code",
      "source": [],
      "metadata": {
        "id": "KRguXKroqueZ"
      },
      "execution_count": null,
      "outputs": []
    }
  ]
}
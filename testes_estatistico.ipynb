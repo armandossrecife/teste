{
  "nbformat": 4,
  "nbformat_minor": 0,
  "metadata": {
    "colab": {
      "provenance": [],
      "authorship_tag": "ABX9TyOg7o7H41C95u8L6weHJ1WI",
      "include_colab_link": true
    },
    "kernelspec": {
      "name": "python3",
      "display_name": "Python 3"
    },
    "language_info": {
      "name": "python"
    }
  },
  "cells": [
    {
      "cell_type": "markdown",
      "metadata": {
        "id": "view-in-github",
        "colab_type": "text"
      },
      "source": [
        "<a href=\"https://colab.research.google.com/github/armandossrecife/teste/blob/main/testes_estatistico.ipynb\" target=\"_parent\"><img src=\"https://colab.research.google.com/assets/colab-badge.svg\" alt=\"Open In Colab\"/></a>"
      ]
    },
    {
      "cell_type": "markdown",
      "source": [
        "# Primeiro, vamos criar uma amostra de dados usando a biblioteca NumPy:"
      ],
      "metadata": {
        "id": "8sho38m4RRUW"
      }
    },
    {
      "cell_type": "code",
      "source": [
        "import numpy as np\n",
        "\n",
        "amostra = np.random.normal(10, 2, 100) # Criando amostra com média 10 e desvio padrão 2"
      ],
      "metadata": {
        "id": "3Lr--Jf4RJqz"
      },
      "execution_count": null,
      "outputs": []
    },
    {
      "cell_type": "code",
      "source": [
        "amostra"
      ],
      "metadata": {
        "colab": {
          "base_uri": "https://localhost:8080/"
        },
        "id": "oeQLLgpvRLKG",
        "outputId": "8c3f35e7-2100-4ea9-f757-093745dfd702"
      },
      "execution_count": null,
      "outputs": [
        {
          "output_type": "execute_result",
          "data": {
            "text/plain": [
              "array([ 8.49726097, 11.41175116, 10.71732716,  7.31121807, 10.52830317,\n",
              "        6.15800876,  7.63000046, 11.38725099,  9.32156553, 12.33458307,\n",
              "        7.33301717, 11.29874571,  8.86850407, 10.0301843 , 12.23835876,\n",
              "        9.16067716, 11.49108687, 11.12818987,  9.5456087 , 10.1271006 ,\n",
              "       10.74809446,  7.63520061,  8.17500296,  8.88152877, 13.31249677,\n",
              "        7.28640634, 10.21629639,  6.05424963, 10.62416324,  9.6766374 ,\n",
              "       11.584183  , 13.31464918, 10.47272874, 12.33082953, 12.20624454,\n",
              "       11.54410008,  8.81729162,  9.17892849,  7.19046798, 12.67690356,\n",
              "       10.65310599,  9.98066508, 10.28886284,  7.66766491, 10.15018694,\n",
              "       10.37115602,  5.32712791, 14.79096267, 12.19312657, 11.22219028,\n",
              "        8.37909913,  7.97884988, 12.51166658,  9.95693871,  7.19425562,\n",
              "        6.07846655, 10.21811063,  9.66364193, 12.93354008, 10.39158636,\n",
              "        6.58089466, 10.61340505, 12.96078376, 11.37124968, 13.36428355,\n",
              "       12.44036459,  5.169395  , 13.55072223,  9.76220279, 13.07029706,\n",
              "       11.62665398,  8.6157421 ,  9.26537529,  7.8197797 , 12.79089441,\n",
              "       11.31135608, 11.13087273,  7.14388665, 13.15257742,  7.28515063,\n",
              "       11.21706186,  9.92809354, 10.15241168,  3.36612109,  7.86312393,\n",
              "        8.76746957,  9.018993  ,  9.03899412, 11.57296239,  8.79295047,\n",
              "       10.53651308, 11.59462944,  9.85321274,  9.56624085, 13.06501641,\n",
              "        6.86031696,  9.288593  , 12.79625262,  8.37154166, 12.73401358])"
            ]
          },
          "metadata": {},
          "execution_count": 5
        }
      ]
    },
    {
      "cell_type": "markdown",
      "source": [
        "# Agora, vamos definir nossa hipótese nula e hipótese alternativa:\n",
        "\n",
        "## Hipótese nula (H0): A média da amostra é igual a 9.\n",
        "## Hipótese alternativa (HA): A média da amostra é diferente de 9."
      ],
      "metadata": {
        "id": "FXwOO77yRV1a"
      }
    },
    {
      "cell_type": "code",
      "source": [
        "#H0: mu = 9\n",
        "#HA: mu != 9"
      ],
      "metadata": {
        "colab": {
          "base_uri": "https://localhost:8080/"
        },
        "id": "BU4i7Cd_RMK-",
        "outputId": "54977fb5-f0d4-48e2-98fc-999c27493129"
      },
      "execution_count": null,
      "outputs": [
        {
          "output_type": "execute_result",
          "data": {
            "text/plain": [
              "False"
            ]
          },
          "metadata": {},
          "execution_count": 6
        }
      ]
    },
    {
      "cell_type": "markdown",
      "source": [
        "# Em seguida, vamos calcular a estatística do teste usando a biblioteca statsmodels:"
      ],
      "metadata": {
        "id": "wdQFTS0PRvhx"
      }
    },
    {
      "cell_type": "code",
      "source": [
        "from statsmodels.stats.weightstats import ztest\n",
        "\n",
        "valor_p, estatistica_teste = ztest(x1=amostra, value=9)"
      ],
      "metadata": {
        "id": "1YpzwG0QRnoI"
      },
      "execution_count": null,
      "outputs": []
    },
    {
      "cell_type": "code",
      "source": [
        "print(f\"valor_p: {valor_p}\")\n",
        "print(f\"estatistica_teste: {estatistica_teste}\")"
      ],
      "metadata": {
        "colab": {
          "base_uri": "https://localhost:8080/"
        },
        "id": "7NwyiWuJRzcf",
        "outputId": "63f9dca0-3dfe-433f-d3a1-8e9152ff9475"
      },
      "execution_count": null,
      "outputs": [
        {
          "output_type": "stream",
          "name": "stdout",
          "text": [
            "valor_p: 4.52892601476008\n",
            "estatistica_teste: 5.928425142320701e-06\n"
          ]
        }
      ]
    },
    {
      "cell_type": "markdown",
      "source": [
        "O resultado do teste será armazenado em valor_p e estatistica_teste. O valor-p é a probabilidade de obter a estatística de teste se a hipótese nula for verdadeira. Se o valor-p for menor que o nível de significância (geralmente 0,05), rejeitamos a hipótese nula e aceitamos a hipótese alternativa. A estatística do teste é usada para calcular o valor-p e também pode ser usada para calcular o intervalo de confiança."
      ],
      "metadata": {
        "id": "cUD5AFj9SPkh"
      }
    },
    {
      "cell_type": "markdown",
      "source": [
        "# Podemos também usar a biblioteca Pandas para realizar um teste t para duas amostras independentes. Por exemplo, vamos comparar as médias de duas amostras de notas de alunos:"
      ],
      "metadata": {
        "id": "3kJpVLfwTGJT"
      }
    },
    {
      "cell_type": "code",
      "source": [
        "import pandas as pd\n",
        "\n",
        "notas_a = [7, 6, 8, 7, 9, 6, 8, 7, 7, 8]\n",
        "notas_b = [6, 5, 7, 8, 7, 6, 8, 7, 8, 6]\n",
        "\n",
        "df = pd.DataFrame({'notas_a': notas_a, 'notas_b': notas_b})\n",
        "df"
      ],
      "metadata": {
        "colab": {
          "base_uri": "https://localhost:8080/",
          "height": 363
        },
        "id": "4BeBbqhpR-O9",
        "outputId": "a3357888-6beb-4de9-bcba-c312142a0cff"
      },
      "execution_count": null,
      "outputs": [
        {
          "output_type": "execute_result",
          "data": {
            "text/plain": [
              "   notas_a  notas_b\n",
              "0        7        6\n",
              "1        6        5\n",
              "2        8        7\n",
              "3        7        8\n",
              "4        9        7\n",
              "5        6        6\n",
              "6        8        8\n",
              "7        7        7\n",
              "8        7        8\n",
              "9        8        6"
            ],
            "text/html": [
              "\n",
              "  <div id=\"df-3c529e97-a1dd-4c73-9b46-dff1fd94dcea\">\n",
              "    <div class=\"colab-df-container\">\n",
              "      <div>\n",
              "<style scoped>\n",
              "    .dataframe tbody tr th:only-of-type {\n",
              "        vertical-align: middle;\n",
              "    }\n",
              "\n",
              "    .dataframe tbody tr th {\n",
              "        vertical-align: top;\n",
              "    }\n",
              "\n",
              "    .dataframe thead th {\n",
              "        text-align: right;\n",
              "    }\n",
              "</style>\n",
              "<table border=\"1\" class=\"dataframe\">\n",
              "  <thead>\n",
              "    <tr style=\"text-align: right;\">\n",
              "      <th></th>\n",
              "      <th>notas_a</th>\n",
              "      <th>notas_b</th>\n",
              "    </tr>\n",
              "  </thead>\n",
              "  <tbody>\n",
              "    <tr>\n",
              "      <th>0</th>\n",
              "      <td>7</td>\n",
              "      <td>6</td>\n",
              "    </tr>\n",
              "    <tr>\n",
              "      <th>1</th>\n",
              "      <td>6</td>\n",
              "      <td>5</td>\n",
              "    </tr>\n",
              "    <tr>\n",
              "      <th>2</th>\n",
              "      <td>8</td>\n",
              "      <td>7</td>\n",
              "    </tr>\n",
              "    <tr>\n",
              "      <th>3</th>\n",
              "      <td>7</td>\n",
              "      <td>8</td>\n",
              "    </tr>\n",
              "    <tr>\n",
              "      <th>4</th>\n",
              "      <td>9</td>\n",
              "      <td>7</td>\n",
              "    </tr>\n",
              "    <tr>\n",
              "      <th>5</th>\n",
              "      <td>6</td>\n",
              "      <td>6</td>\n",
              "    </tr>\n",
              "    <tr>\n",
              "      <th>6</th>\n",
              "      <td>8</td>\n",
              "      <td>8</td>\n",
              "    </tr>\n",
              "    <tr>\n",
              "      <th>7</th>\n",
              "      <td>7</td>\n",
              "      <td>7</td>\n",
              "    </tr>\n",
              "    <tr>\n",
              "      <th>8</th>\n",
              "      <td>7</td>\n",
              "      <td>8</td>\n",
              "    </tr>\n",
              "    <tr>\n",
              "      <th>9</th>\n",
              "      <td>8</td>\n",
              "      <td>6</td>\n",
              "    </tr>\n",
              "  </tbody>\n",
              "</table>\n",
              "</div>\n",
              "      <button class=\"colab-df-convert\" onclick=\"convertToInteractive('df-3c529e97-a1dd-4c73-9b46-dff1fd94dcea')\"\n",
              "              title=\"Convert this dataframe to an interactive table.\"\n",
              "              style=\"display:none;\">\n",
              "        \n",
              "  <svg xmlns=\"http://www.w3.org/2000/svg\" height=\"24px\"viewBox=\"0 0 24 24\"\n",
              "       width=\"24px\">\n",
              "    <path d=\"M0 0h24v24H0V0z\" fill=\"none\"/>\n",
              "    <path d=\"M18.56 5.44l.94 2.06.94-2.06 2.06-.94-2.06-.94-.94-2.06-.94 2.06-2.06.94zm-11 1L8.5 8.5l.94-2.06 2.06-.94-2.06-.94L8.5 2.5l-.94 2.06-2.06.94zm10 10l.94 2.06.94-2.06 2.06-.94-2.06-.94-.94-2.06-.94 2.06-2.06.94z\"/><path d=\"M17.41 7.96l-1.37-1.37c-.4-.4-.92-.59-1.43-.59-.52 0-1.04.2-1.43.59L10.3 9.45l-7.72 7.72c-.78.78-.78 2.05 0 2.83L4 21.41c.39.39.9.59 1.41.59.51 0 1.02-.2 1.41-.59l7.78-7.78 2.81-2.81c.8-.78.8-2.07 0-2.86zM5.41 20L4 18.59l7.72-7.72 1.47 1.35L5.41 20z\"/>\n",
              "  </svg>\n",
              "      </button>\n",
              "      \n",
              "  <style>\n",
              "    .colab-df-container {\n",
              "      display:flex;\n",
              "      flex-wrap:wrap;\n",
              "      gap: 12px;\n",
              "    }\n",
              "\n",
              "    .colab-df-convert {\n",
              "      background-color: #E8F0FE;\n",
              "      border: none;\n",
              "      border-radius: 50%;\n",
              "      cursor: pointer;\n",
              "      display: none;\n",
              "      fill: #1967D2;\n",
              "      height: 32px;\n",
              "      padding: 0 0 0 0;\n",
              "      width: 32px;\n",
              "    }\n",
              "\n",
              "    .colab-df-convert:hover {\n",
              "      background-color: #E2EBFA;\n",
              "      box-shadow: 0px 1px 2px rgba(60, 64, 67, 0.3), 0px 1px 3px 1px rgba(60, 64, 67, 0.15);\n",
              "      fill: #174EA6;\n",
              "    }\n",
              "\n",
              "    [theme=dark] .colab-df-convert {\n",
              "      background-color: #3B4455;\n",
              "      fill: #D2E3FC;\n",
              "    }\n",
              "\n",
              "    [theme=dark] .colab-df-convert:hover {\n",
              "      background-color: #434B5C;\n",
              "      box-shadow: 0px 1px 3px 1px rgba(0, 0, 0, 0.15);\n",
              "      filter: drop-shadow(0px 1px 2px rgba(0, 0, 0, 0.3));\n",
              "      fill: #FFFFFF;\n",
              "    }\n",
              "  </style>\n",
              "\n",
              "      <script>\n",
              "        const buttonEl =\n",
              "          document.querySelector('#df-3c529e97-a1dd-4c73-9b46-dff1fd94dcea button.colab-df-convert');\n",
              "        buttonEl.style.display =\n",
              "          google.colab.kernel.accessAllowed ? 'block' : 'none';\n",
              "\n",
              "        async function convertToInteractive(key) {\n",
              "          const element = document.querySelector('#df-3c529e97-a1dd-4c73-9b46-dff1fd94dcea');\n",
              "          const dataTable =\n",
              "            await google.colab.kernel.invokeFunction('convertToInteractive',\n",
              "                                                     [key], {});\n",
              "          if (!dataTable) return;\n",
              "\n",
              "          const docLinkHtml = 'Like what you see? Visit the ' +\n",
              "            '<a target=\"_blank\" href=https://colab.research.google.com/notebooks/data_table.ipynb>data table notebook</a>'\n",
              "            + ' to learn more about interactive tables.';\n",
              "          element.innerHTML = '';\n",
              "          dataTable['output_type'] = 'display_data';\n",
              "          await google.colab.output.renderOutput(dataTable, element);\n",
              "          const docLink = document.createElement('div');\n",
              "          docLink.innerHTML = docLinkHtml;\n",
              "          element.appendChild(docLink);\n",
              "        }\n",
              "      </script>\n",
              "    </div>\n",
              "  </div>\n",
              "  "
            ]
          },
          "metadata": {},
          "execution_count": 12
        }
      ]
    },
    {
      "cell_type": "code",
      "source": [
        "# Realizando teste t para duas amostras independentes\n",
        "from scipy.stats import ttest_ind\n",
        "\n",
        "valor_p, estatistica_teste = ttest_ind(df['notas_a'], df['notas_b'])\n",
        "\n",
        "print(f\"valor_p: {valor_p}\")\n",
        "print(f\"estatistica_teste: {estatistica_teste}\")"
      ],
      "metadata": {
        "colab": {
          "base_uri": "https://localhost:8080/"
        },
        "id": "tGnG0VcmSirp",
        "outputId": "7b173d38-2123-4f75-f4e6-e7c355298c5d"
      },
      "execution_count": null,
      "outputs": [
        {
          "output_type": "stream",
          "name": "stdout",
          "text": [
            "valor_p: 1.1274690420042432\n",
            "estatistica_teste: 0.27434984935319634\n"
          ]
        }
      ]
    }
  ]
}
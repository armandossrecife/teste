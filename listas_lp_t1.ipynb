{
  "nbformat": 4,
  "nbformat_minor": 0,
  "metadata": {
    "colab": {
      "provenance": [],
      "authorship_tag": "ABX9TyM3+qP0o8iaoIYjIZ645mvI",
      "include_colab_link": true
    },
    "kernelspec": {
      "name": "python3",
      "display_name": "Python 3"
    },
    "language_info": {
      "name": "python"
    }
  },
  "cells": [
    {
      "cell_type": "markdown",
      "metadata": {
        "id": "view-in-github",
        "colab_type": "text"
      },
      "source": [
        "<a href=\"https://colab.research.google.com/github/armandossrecife/teste/blob/main/listas_lp_t1.ipynb\" target=\"_parent\"><img src=\"https://colab.research.google.com/assets/colab-badge.svg\" alt=\"Open In Colab\"/></a>"
      ]
    },
    {
      "cell_type": "code",
      "source": [
        "!wget https://raw.githubusercontent.com/armandossrecife/teste/main/alunos_t1lp.txt"
      ],
      "metadata": {
        "colab": {
          "base_uri": "https://localhost:8080/"
        },
        "id": "jhNaHT9bPAtp",
        "outputId": "15be1772-9e40-4360-f0ff-a5b6b58be77a"
      },
      "execution_count": 35,
      "outputs": [
        {
          "output_type": "stream",
          "name": "stdout",
          "text": [
            "--2023-12-08 14:33:37--  https://raw.githubusercontent.com/armandossrecife/teste/main/alunos_t1lp.txt\n",
            "Resolving raw.githubusercontent.com (raw.githubusercontent.com)... 185.199.110.133, 185.199.108.133, 185.199.111.133, ...\n",
            "Connecting to raw.githubusercontent.com (raw.githubusercontent.com)|185.199.110.133|:443... connected.\n",
            "HTTP request sent, awaiting response... 200 OK\n",
            "Length: 757 [text/plain]\n",
            "Saving to: ‘alunos_t1lp.txt’\n",
            "\n",
            "alunos_t1lp.txt     100%[===================>]     757  --.-KB/s    in 0s      \n",
            "\n",
            "2023-12-08 14:33:38 (70.1 MB/s) - ‘alunos_t1lp.txt’ saved [757/757]\n",
            "\n"
          ]
        }
      ]
    },
    {
      "cell_type": "code",
      "source": [
        "lista_alunos = []\n",
        "with open('alunos_t1lp.txt', mode='r') as f_alunos:\n",
        "  for line in f_alunos:\n",
        "    line = line.strip()\n",
        "    aluno_temp = line.split(',')\n",
        "    matricula = aluno_temp[0]\n",
        "    nome = aluno_temp[1]\n",
        "    aluno = matricula, nome\n",
        "    lista_alunos.append(aluno)"
      ],
      "metadata": {
        "id": "5GFJqRA_-HIg"
      },
      "execution_count": 36,
      "outputs": []
    },
    {
      "cell_type": "code",
      "source": [
        "for each in lista_alunos:\n",
        "  print(each)"
      ],
      "metadata": {
        "colab": {
          "base_uri": "https://localhost:8080/"
        },
        "id": "aJU_Y_jx0vd_",
        "outputId": "608ae72a-5b90-4184-aaa8-881625450b55"
      },
      "execution_count": 37,
      "outputs": [
        {
          "output_type": "stream",
          "name": "stdout",
          "text": [
            "('20239005810', 'ALEX SOARES NUNES')\n",
            "('20239017929', 'ANA VALERIA SILVA COELHO')\n",
            "('20239017230', 'ANTONIO ENZO FERREIRA DO NASCIMENTO')\n",
            "('20239006470', 'ARTUR PERES MENESES')\n",
            "('20239014248', 'BERNARDO DE CARVALHO CAVALCANTE')\n",
            "('20239009346', 'CARLOS EMANUEL FERREIRA LIMA FORTALEZA')\n",
            "('20239006326', 'DEBORA BARROS DO NASCIMENTO')\n",
            "('20239019360', 'DIOGO DE OLIVEIRA RIBEIRO BRITO')\n",
            "('20239006012', 'GABRIEL LOPES BASTOS')\n",
            "('20239006881', 'JOAO FELIPE GARCIA MORAIS')\n",
            "('20239009319', 'JOAO GABRIEL FREITAS CAVALCANTE')\n",
            "('20239005552', 'JOAO VICTOR CRUZ SILVA')\n",
            "('20239017849', 'JOSE VICTOR VIEIRA DE OLIVEIRA')\n",
            "('20229005361', 'JUAN KASSIO DE ALBUQUERQUE LEITE MELO')\n",
            "('20239017956', 'LUIS FELIPE FERREIRA DE CASTRO')\n",
            "('20239005632', 'PEDRO EMANUEL MOREIRA CARVALHO')\n",
            "('20239005964', 'RAFAEL VAZ ROCHA')\n",
            "('20239006550', 'SUZANA PEREIRA SILVA')\n",
            "('20239006658', 'THALYS YAGO SILVA NASCIMENTO')\n"
          ]
        }
      ]
    },
    {
      "cell_type": "code",
      "source": [
        "len(lista_alunos)"
      ],
      "metadata": {
        "colab": {
          "base_uri": "https://localhost:8080/"
        },
        "id": "L3zfLh5V2Y0V",
        "outputId": "28969102-ffd4-4ea1-c239-22aebb7588be"
      },
      "execution_count": 38,
      "outputs": [
        {
          "output_type": "execute_result",
          "data": {
            "text/plain": [
              "19"
            ]
          },
          "metadata": {},
          "execution_count": 38
        }
      ]
    },
    {
      "cell_type": "code",
      "source": [
        "dict_alunos = {}\n",
        "for each in lista_alunos:\n",
        "  dict_alunos[each[0]] = each[1]"
      ],
      "metadata": {
        "id": "nErQda7z02y1"
      },
      "execution_count": 39,
      "outputs": []
    },
    {
      "cell_type": "code",
      "source": [
        "len(dict_alunos)"
      ],
      "metadata": {
        "colab": {
          "base_uri": "https://localhost:8080/"
        },
        "id": "ZhGon13wM5UY",
        "outputId": "b6aeb62e-cd6d-4062-8076-f7124f6a08a2"
      },
      "execution_count": 40,
      "outputs": [
        {
          "output_type": "execute_result",
          "data": {
            "text/plain": [
              "19"
            ]
          },
          "metadata": {},
          "execution_count": 40
        }
      ]
    },
    {
      "cell_type": "code",
      "source": [
        "dict_alunos"
      ],
      "metadata": {
        "colab": {
          "base_uri": "https://localhost:8080/"
        },
        "id": "wZIYqped2eYc",
        "outputId": "56549251-47a1-4139-c035-55bf3bf31cbc"
      },
      "execution_count": 41,
      "outputs": [
        {
          "output_type": "execute_result",
          "data": {
            "text/plain": [
              "{'20239005810': 'ALEX SOARES NUNES',\n",
              " '20239017929': 'ANA VALERIA SILVA COELHO',\n",
              " '20239017230': 'ANTONIO ENZO FERREIRA DO NASCIMENTO',\n",
              " '20239006470': 'ARTUR PERES MENESES',\n",
              " '20239014248': 'BERNARDO DE CARVALHO CAVALCANTE',\n",
              " '20239009346': 'CARLOS EMANUEL FERREIRA LIMA FORTALEZA',\n",
              " '20239006326': 'DEBORA BARROS DO NASCIMENTO',\n",
              " '20239019360': 'DIOGO DE OLIVEIRA RIBEIRO BRITO',\n",
              " '20239006012': 'GABRIEL LOPES BASTOS',\n",
              " '20239006881': 'JOAO FELIPE GARCIA MORAIS',\n",
              " '20239009319': 'JOAO GABRIEL FREITAS CAVALCANTE',\n",
              " '20239005552': 'JOAO VICTOR CRUZ SILVA',\n",
              " '20239017849': 'JOSE VICTOR VIEIRA DE OLIVEIRA',\n",
              " '20229005361': 'JUAN KASSIO DE ALBUQUERQUE LEITE MELO',\n",
              " '20239017956': 'LUIS FELIPE FERREIRA DE CASTRO',\n",
              " '20239005632': 'PEDRO EMANUEL MOREIRA CARVALHO',\n",
              " '20239005964': 'RAFAEL VAZ ROCHA',\n",
              " '20239006550': 'SUZANA PEREIRA SILVA',\n",
              " '20239006658': 'THALYS YAGO SILVA NASCIMENTO'}"
            ]
          },
          "metadata": {},
          "execution_count": 41
        }
      ]
    },
    {
      "cell_type": "code",
      "execution_count": 42,
      "metadata": {
        "id": "xyF0DV-c98vF"
      },
      "outputs": [],
      "source": [
        "lista1_nomes = []\n",
        "lista2_nomes = []\n",
        "lista3_nomes = []\n",
        "lista4_nomes = []"
      ]
    },
    {
      "cell_type": "code",
      "source": [
        "lista_label_matricula, lista_label_nome, lista_label_l1, lista_label_l2, lista_label_l3, lista_label_l4 = list(), list(), list(), list(), list(), list()"
      ],
      "metadata": {
        "id": "8pg-jnVDDFOZ"
      },
      "execution_count": 43,
      "outputs": []
    },
    {
      "cell_type": "code",
      "source": [
        "for k, v in dict_alunos.items():\n",
        "  lista_label_matricula.append(k)\n",
        "  lista_label_nome.append(v)"
      ],
      "metadata": {
        "id": "FjTVxVzdDZhY"
      },
      "execution_count": 44,
      "outputs": []
    },
    {
      "cell_type": "code",
      "source": [
        "dict_alunos_notas = {}"
      ],
      "metadata": {
        "id": "VCHyytzX1gsz"
      },
      "execution_count": 45,
      "outputs": []
    },
    {
      "cell_type": "code",
      "source": [
        "for k, v in dict_alunos.items():\n",
        "  if v in lista1_nomes:\n",
        "    lista_label_l1.append(1)\n",
        "  else:\n",
        "    lista_label_l1.append(0)\n",
        "\n",
        "  if v in lista2_nomes:\n",
        "    lista_label_l2.append(1)\n",
        "  else:\n",
        "    lista_label_l2.append(0)\n",
        "\n",
        "  if v in lista3_nomes:\n",
        "    lista_label_l3.append(1)\n",
        "  else:\n",
        "    lista_label_l3.append(0)\n",
        "\n",
        "  if v in lista4_nomes:\n",
        "    lista_label_l4.append(1)\n",
        "  else:\n",
        "    lista_label_l4.append(0)"
      ],
      "metadata": {
        "id": "mVfeVGOID__K"
      },
      "execution_count": 46,
      "outputs": []
    },
    {
      "cell_type": "code",
      "source": [
        "dict_alunos_notas = {\n",
        "    'matricula': lista_label_matricula,\n",
        "    'nome': lista_label_nome,\n",
        "    'l1': lista_label_l1,\n",
        "    'l2': lista_label_l2,\n",
        "    'l3': lista_label_l3,\n",
        "    'l4': lista_label_l4\n",
        "}"
      ],
      "metadata": {
        "id": "WyzohodtEARA"
      },
      "execution_count": 47,
      "outputs": []
    },
    {
      "cell_type": "code",
      "source": [
        "dict_alunos_notas"
      ],
      "metadata": {
        "colab": {
          "base_uri": "https://localhost:8080/"
        },
        "id": "AsAD8hJb2G6m",
        "outputId": "6778c7bb-e206-4f69-9ad9-fbcc50a6c07c"
      },
      "execution_count": 48,
      "outputs": [
        {
          "output_type": "execute_result",
          "data": {
            "text/plain": [
              "{'matricula': ['20239005810',\n",
              "  '20239017929',\n",
              "  '20239017230',\n",
              "  '20239006470',\n",
              "  '20239014248',\n",
              "  '20239009346',\n",
              "  '20239006326',\n",
              "  '20239019360',\n",
              "  '20239006012',\n",
              "  '20239006881',\n",
              "  '20239009319',\n",
              "  '20239005552',\n",
              "  '20239017849',\n",
              "  '20229005361',\n",
              "  '20239017956',\n",
              "  '20239005632',\n",
              "  '20239005964',\n",
              "  '20239006550',\n",
              "  '20239006658'],\n",
              " 'nome': ['ALEX SOARES NUNES',\n",
              "  'ANA VALERIA SILVA COELHO',\n",
              "  'ANTONIO ENZO FERREIRA DO NASCIMENTO',\n",
              "  'ARTUR PERES MENESES',\n",
              "  'BERNARDO DE CARVALHO CAVALCANTE',\n",
              "  'CARLOS EMANUEL FERREIRA LIMA FORTALEZA',\n",
              "  'DEBORA BARROS DO NASCIMENTO',\n",
              "  'DIOGO DE OLIVEIRA RIBEIRO BRITO',\n",
              "  'GABRIEL LOPES BASTOS',\n",
              "  'JOAO FELIPE GARCIA MORAIS',\n",
              "  'JOAO GABRIEL FREITAS CAVALCANTE',\n",
              "  'JOAO VICTOR CRUZ SILVA',\n",
              "  'JOSE VICTOR VIEIRA DE OLIVEIRA',\n",
              "  'JUAN KASSIO DE ALBUQUERQUE LEITE MELO',\n",
              "  'LUIS FELIPE FERREIRA DE CASTRO',\n",
              "  'PEDRO EMANUEL MOREIRA CARVALHO',\n",
              "  'RAFAEL VAZ ROCHA',\n",
              "  'SUZANA PEREIRA SILVA',\n",
              "  'THALYS YAGO SILVA NASCIMENTO'],\n",
              " 'l1': [0, 0, 0, 0, 0, 0, 0, 0, 0, 0, 0, 0, 0, 0, 0, 0, 0, 0, 0],\n",
              " 'l2': [0, 0, 0, 0, 0, 0, 0, 0, 0, 0, 0, 0, 0, 0, 0, 0, 0, 0, 0],\n",
              " 'l3': [0, 0, 0, 0, 0, 0, 0, 0, 0, 0, 0, 0, 0, 0, 0, 0, 0, 0, 0],\n",
              " 'l4': [0, 0, 0, 0, 0, 0, 0, 0, 0, 0, 0, 0, 0, 0, 0, 0, 0, 0, 0]}"
            ]
          },
          "metadata": {},
          "execution_count": 48
        }
      ]
    },
    {
      "cell_type": "code",
      "source": [
        "import pandas as pd"
      ],
      "metadata": {
        "id": "zWf6lkbTHGzx"
      },
      "execution_count": 49,
      "outputs": []
    },
    {
      "cell_type": "code",
      "source": [
        "df_alunos_listas = pd.DataFrame(dict_alunos_notas)\n",
        "df_alunos_listas['soma_listas'] = df_alunos_listas['l1'] + df_alunos_listas['l2'] + df_alunos_listas['l3'] + df_alunos_listas['l3']\n",
        "df_alunos_listas"
      ],
      "metadata": {
        "colab": {
          "base_uri": "https://localhost:8080/",
          "height": 645
        },
        "id": "ywE1C52AHubQ",
        "outputId": "f935ae1d-dee4-43e0-d2db-2342c3bd2530"
      },
      "execution_count": 50,
      "outputs": [
        {
          "output_type": "execute_result",
          "data": {
            "text/plain": [
              "      matricula                                    nome  l1  l2  l3  l4  \\\n",
              "0   20239005810                       ALEX SOARES NUNES   0   0   0   0   \n",
              "1   20239017929                ANA VALERIA SILVA COELHO   0   0   0   0   \n",
              "2   20239017230     ANTONIO ENZO FERREIRA DO NASCIMENTO   0   0   0   0   \n",
              "3   20239006470                     ARTUR PERES MENESES   0   0   0   0   \n",
              "4   20239014248         BERNARDO DE CARVALHO CAVALCANTE   0   0   0   0   \n",
              "5   20239009346  CARLOS EMANUEL FERREIRA LIMA FORTALEZA   0   0   0   0   \n",
              "6   20239006326             DEBORA BARROS DO NASCIMENTO   0   0   0   0   \n",
              "7   20239019360         DIOGO DE OLIVEIRA RIBEIRO BRITO   0   0   0   0   \n",
              "8   20239006012                    GABRIEL LOPES BASTOS   0   0   0   0   \n",
              "9   20239006881               JOAO FELIPE GARCIA MORAIS   0   0   0   0   \n",
              "10  20239009319         JOAO GABRIEL FREITAS CAVALCANTE   0   0   0   0   \n",
              "11  20239005552                  JOAO VICTOR CRUZ SILVA   0   0   0   0   \n",
              "12  20239017849          JOSE VICTOR VIEIRA DE OLIVEIRA   0   0   0   0   \n",
              "13  20229005361   JUAN KASSIO DE ALBUQUERQUE LEITE MELO   0   0   0   0   \n",
              "14  20239017956          LUIS FELIPE FERREIRA DE CASTRO   0   0   0   0   \n",
              "15  20239005632          PEDRO EMANUEL MOREIRA CARVALHO   0   0   0   0   \n",
              "16  20239005964                        RAFAEL VAZ ROCHA   0   0   0   0   \n",
              "17  20239006550                    SUZANA PEREIRA SILVA   0   0   0   0   \n",
              "18  20239006658            THALYS YAGO SILVA NASCIMENTO   0   0   0   0   \n",
              "\n",
              "    soma_listas  \n",
              "0             0  \n",
              "1             0  \n",
              "2             0  \n",
              "3             0  \n",
              "4             0  \n",
              "5             0  \n",
              "6             0  \n",
              "7             0  \n",
              "8             0  \n",
              "9             0  \n",
              "10            0  \n",
              "11            0  \n",
              "12            0  \n",
              "13            0  \n",
              "14            0  \n",
              "15            0  \n",
              "16            0  \n",
              "17            0  \n",
              "18            0  "
            ],
            "text/html": [
              "\n",
              "  <div id=\"df-bf430bd0-6913-4593-9a95-a93a84645169\" class=\"colab-df-container\">\n",
              "    <div>\n",
              "<style scoped>\n",
              "    .dataframe tbody tr th:only-of-type {\n",
              "        vertical-align: middle;\n",
              "    }\n",
              "\n",
              "    .dataframe tbody tr th {\n",
              "        vertical-align: top;\n",
              "    }\n",
              "\n",
              "    .dataframe thead th {\n",
              "        text-align: right;\n",
              "    }\n",
              "</style>\n",
              "<table border=\"1\" class=\"dataframe\">\n",
              "  <thead>\n",
              "    <tr style=\"text-align: right;\">\n",
              "      <th></th>\n",
              "      <th>matricula</th>\n",
              "      <th>nome</th>\n",
              "      <th>l1</th>\n",
              "      <th>l2</th>\n",
              "      <th>l3</th>\n",
              "      <th>l4</th>\n",
              "      <th>soma_listas</th>\n",
              "    </tr>\n",
              "  </thead>\n",
              "  <tbody>\n",
              "    <tr>\n",
              "      <th>0</th>\n",
              "      <td>20239005810</td>\n",
              "      <td>ALEX SOARES NUNES</td>\n",
              "      <td>0</td>\n",
              "      <td>0</td>\n",
              "      <td>0</td>\n",
              "      <td>0</td>\n",
              "      <td>0</td>\n",
              "    </tr>\n",
              "    <tr>\n",
              "      <th>1</th>\n",
              "      <td>20239017929</td>\n",
              "      <td>ANA VALERIA SILVA COELHO</td>\n",
              "      <td>0</td>\n",
              "      <td>0</td>\n",
              "      <td>0</td>\n",
              "      <td>0</td>\n",
              "      <td>0</td>\n",
              "    </tr>\n",
              "    <tr>\n",
              "      <th>2</th>\n",
              "      <td>20239017230</td>\n",
              "      <td>ANTONIO ENZO FERREIRA DO NASCIMENTO</td>\n",
              "      <td>0</td>\n",
              "      <td>0</td>\n",
              "      <td>0</td>\n",
              "      <td>0</td>\n",
              "      <td>0</td>\n",
              "    </tr>\n",
              "    <tr>\n",
              "      <th>3</th>\n",
              "      <td>20239006470</td>\n",
              "      <td>ARTUR PERES MENESES</td>\n",
              "      <td>0</td>\n",
              "      <td>0</td>\n",
              "      <td>0</td>\n",
              "      <td>0</td>\n",
              "      <td>0</td>\n",
              "    </tr>\n",
              "    <tr>\n",
              "      <th>4</th>\n",
              "      <td>20239014248</td>\n",
              "      <td>BERNARDO DE CARVALHO CAVALCANTE</td>\n",
              "      <td>0</td>\n",
              "      <td>0</td>\n",
              "      <td>0</td>\n",
              "      <td>0</td>\n",
              "      <td>0</td>\n",
              "    </tr>\n",
              "    <tr>\n",
              "      <th>5</th>\n",
              "      <td>20239009346</td>\n",
              "      <td>CARLOS EMANUEL FERREIRA LIMA FORTALEZA</td>\n",
              "      <td>0</td>\n",
              "      <td>0</td>\n",
              "      <td>0</td>\n",
              "      <td>0</td>\n",
              "      <td>0</td>\n",
              "    </tr>\n",
              "    <tr>\n",
              "      <th>6</th>\n",
              "      <td>20239006326</td>\n",
              "      <td>DEBORA BARROS DO NASCIMENTO</td>\n",
              "      <td>0</td>\n",
              "      <td>0</td>\n",
              "      <td>0</td>\n",
              "      <td>0</td>\n",
              "      <td>0</td>\n",
              "    </tr>\n",
              "    <tr>\n",
              "      <th>7</th>\n",
              "      <td>20239019360</td>\n",
              "      <td>DIOGO DE OLIVEIRA RIBEIRO BRITO</td>\n",
              "      <td>0</td>\n",
              "      <td>0</td>\n",
              "      <td>0</td>\n",
              "      <td>0</td>\n",
              "      <td>0</td>\n",
              "    </tr>\n",
              "    <tr>\n",
              "      <th>8</th>\n",
              "      <td>20239006012</td>\n",
              "      <td>GABRIEL LOPES BASTOS</td>\n",
              "      <td>0</td>\n",
              "      <td>0</td>\n",
              "      <td>0</td>\n",
              "      <td>0</td>\n",
              "      <td>0</td>\n",
              "    </tr>\n",
              "    <tr>\n",
              "      <th>9</th>\n",
              "      <td>20239006881</td>\n",
              "      <td>JOAO FELIPE GARCIA MORAIS</td>\n",
              "      <td>0</td>\n",
              "      <td>0</td>\n",
              "      <td>0</td>\n",
              "      <td>0</td>\n",
              "      <td>0</td>\n",
              "    </tr>\n",
              "    <tr>\n",
              "      <th>10</th>\n",
              "      <td>20239009319</td>\n",
              "      <td>JOAO GABRIEL FREITAS CAVALCANTE</td>\n",
              "      <td>0</td>\n",
              "      <td>0</td>\n",
              "      <td>0</td>\n",
              "      <td>0</td>\n",
              "      <td>0</td>\n",
              "    </tr>\n",
              "    <tr>\n",
              "      <th>11</th>\n",
              "      <td>20239005552</td>\n",
              "      <td>JOAO VICTOR CRUZ SILVA</td>\n",
              "      <td>0</td>\n",
              "      <td>0</td>\n",
              "      <td>0</td>\n",
              "      <td>0</td>\n",
              "      <td>0</td>\n",
              "    </tr>\n",
              "    <tr>\n",
              "      <th>12</th>\n",
              "      <td>20239017849</td>\n",
              "      <td>JOSE VICTOR VIEIRA DE OLIVEIRA</td>\n",
              "      <td>0</td>\n",
              "      <td>0</td>\n",
              "      <td>0</td>\n",
              "      <td>0</td>\n",
              "      <td>0</td>\n",
              "    </tr>\n",
              "    <tr>\n",
              "      <th>13</th>\n",
              "      <td>20229005361</td>\n",
              "      <td>JUAN KASSIO DE ALBUQUERQUE LEITE MELO</td>\n",
              "      <td>0</td>\n",
              "      <td>0</td>\n",
              "      <td>0</td>\n",
              "      <td>0</td>\n",
              "      <td>0</td>\n",
              "    </tr>\n",
              "    <tr>\n",
              "      <th>14</th>\n",
              "      <td>20239017956</td>\n",
              "      <td>LUIS FELIPE FERREIRA DE CASTRO</td>\n",
              "      <td>0</td>\n",
              "      <td>0</td>\n",
              "      <td>0</td>\n",
              "      <td>0</td>\n",
              "      <td>0</td>\n",
              "    </tr>\n",
              "    <tr>\n",
              "      <th>15</th>\n",
              "      <td>20239005632</td>\n",
              "      <td>PEDRO EMANUEL MOREIRA CARVALHO</td>\n",
              "      <td>0</td>\n",
              "      <td>0</td>\n",
              "      <td>0</td>\n",
              "      <td>0</td>\n",
              "      <td>0</td>\n",
              "    </tr>\n",
              "    <tr>\n",
              "      <th>16</th>\n",
              "      <td>20239005964</td>\n",
              "      <td>RAFAEL VAZ ROCHA</td>\n",
              "      <td>0</td>\n",
              "      <td>0</td>\n",
              "      <td>0</td>\n",
              "      <td>0</td>\n",
              "      <td>0</td>\n",
              "    </tr>\n",
              "    <tr>\n",
              "      <th>17</th>\n",
              "      <td>20239006550</td>\n",
              "      <td>SUZANA PEREIRA SILVA</td>\n",
              "      <td>0</td>\n",
              "      <td>0</td>\n",
              "      <td>0</td>\n",
              "      <td>0</td>\n",
              "      <td>0</td>\n",
              "    </tr>\n",
              "    <tr>\n",
              "      <th>18</th>\n",
              "      <td>20239006658</td>\n",
              "      <td>THALYS YAGO SILVA NASCIMENTO</td>\n",
              "      <td>0</td>\n",
              "      <td>0</td>\n",
              "      <td>0</td>\n",
              "      <td>0</td>\n",
              "      <td>0</td>\n",
              "    </tr>\n",
              "  </tbody>\n",
              "</table>\n",
              "</div>\n",
              "    <div class=\"colab-df-buttons\">\n",
              "\n",
              "  <div class=\"colab-df-container\">\n",
              "    <button class=\"colab-df-convert\" onclick=\"convertToInteractive('df-bf430bd0-6913-4593-9a95-a93a84645169')\"\n",
              "            title=\"Convert this dataframe to an interactive table.\"\n",
              "            style=\"display:none;\">\n",
              "\n",
              "  <svg xmlns=\"http://www.w3.org/2000/svg\" height=\"24px\" viewBox=\"0 -960 960 960\">\n",
              "    <path d=\"M120-120v-720h720v720H120Zm60-500h600v-160H180v160Zm220 220h160v-160H400v160Zm0 220h160v-160H400v160ZM180-400h160v-160H180v160Zm440 0h160v-160H620v160ZM180-180h160v-160H180v160Zm440 0h160v-160H620v160Z\"/>\n",
              "  </svg>\n",
              "    </button>\n",
              "\n",
              "  <style>\n",
              "    .colab-df-container {\n",
              "      display:flex;\n",
              "      gap: 12px;\n",
              "    }\n",
              "\n",
              "    .colab-df-convert {\n",
              "      background-color: #E8F0FE;\n",
              "      border: none;\n",
              "      border-radius: 50%;\n",
              "      cursor: pointer;\n",
              "      display: none;\n",
              "      fill: #1967D2;\n",
              "      height: 32px;\n",
              "      padding: 0 0 0 0;\n",
              "      width: 32px;\n",
              "    }\n",
              "\n",
              "    .colab-df-convert:hover {\n",
              "      background-color: #E2EBFA;\n",
              "      box-shadow: 0px 1px 2px rgba(60, 64, 67, 0.3), 0px 1px 3px 1px rgba(60, 64, 67, 0.15);\n",
              "      fill: #174EA6;\n",
              "    }\n",
              "\n",
              "    .colab-df-buttons div {\n",
              "      margin-bottom: 4px;\n",
              "    }\n",
              "\n",
              "    [theme=dark] .colab-df-convert {\n",
              "      background-color: #3B4455;\n",
              "      fill: #D2E3FC;\n",
              "    }\n",
              "\n",
              "    [theme=dark] .colab-df-convert:hover {\n",
              "      background-color: #434B5C;\n",
              "      box-shadow: 0px 1px 3px 1px rgba(0, 0, 0, 0.15);\n",
              "      filter: drop-shadow(0px 1px 2px rgba(0, 0, 0, 0.3));\n",
              "      fill: #FFFFFF;\n",
              "    }\n",
              "  </style>\n",
              "\n",
              "    <script>\n",
              "      const buttonEl =\n",
              "        document.querySelector('#df-bf430bd0-6913-4593-9a95-a93a84645169 button.colab-df-convert');\n",
              "      buttonEl.style.display =\n",
              "        google.colab.kernel.accessAllowed ? 'block' : 'none';\n",
              "\n",
              "      async function convertToInteractive(key) {\n",
              "        const element = document.querySelector('#df-bf430bd0-6913-4593-9a95-a93a84645169');\n",
              "        const dataTable =\n",
              "          await google.colab.kernel.invokeFunction('convertToInteractive',\n",
              "                                                    [key], {});\n",
              "        if (!dataTable) return;\n",
              "\n",
              "        const docLinkHtml = 'Like what you see? Visit the ' +\n",
              "          '<a target=\"_blank\" href=https://colab.research.google.com/notebooks/data_table.ipynb>data table notebook</a>'\n",
              "          + ' to learn more about interactive tables.';\n",
              "        element.innerHTML = '';\n",
              "        dataTable['output_type'] = 'display_data';\n",
              "        await google.colab.output.renderOutput(dataTable, element);\n",
              "        const docLink = document.createElement('div');\n",
              "        docLink.innerHTML = docLinkHtml;\n",
              "        element.appendChild(docLink);\n",
              "      }\n",
              "    </script>\n",
              "  </div>\n",
              "\n",
              "\n",
              "<div id=\"df-28844500-5efd-4937-bc05-033f786c5b9a\">\n",
              "  <button class=\"colab-df-quickchart\" onclick=\"quickchart('df-28844500-5efd-4937-bc05-033f786c5b9a')\"\n",
              "            title=\"Suggest charts\"\n",
              "            style=\"display:none;\">\n",
              "\n",
              "<svg xmlns=\"http://www.w3.org/2000/svg\" height=\"24px\"viewBox=\"0 0 24 24\"\n",
              "     width=\"24px\">\n",
              "    <g>\n",
              "        <path d=\"M19 3H5c-1.1 0-2 .9-2 2v14c0 1.1.9 2 2 2h14c1.1 0 2-.9 2-2V5c0-1.1-.9-2-2-2zM9 17H7v-7h2v7zm4 0h-2V7h2v10zm4 0h-2v-4h2v4z\"/>\n",
              "    </g>\n",
              "</svg>\n",
              "  </button>\n",
              "\n",
              "<style>\n",
              "  .colab-df-quickchart {\n",
              "      --bg-color: #E8F0FE;\n",
              "      --fill-color: #1967D2;\n",
              "      --hover-bg-color: #E2EBFA;\n",
              "      --hover-fill-color: #174EA6;\n",
              "      --disabled-fill-color: #AAA;\n",
              "      --disabled-bg-color: #DDD;\n",
              "  }\n",
              "\n",
              "  [theme=dark] .colab-df-quickchart {\n",
              "      --bg-color: #3B4455;\n",
              "      --fill-color: #D2E3FC;\n",
              "      --hover-bg-color: #434B5C;\n",
              "      --hover-fill-color: #FFFFFF;\n",
              "      --disabled-bg-color: #3B4455;\n",
              "      --disabled-fill-color: #666;\n",
              "  }\n",
              "\n",
              "  .colab-df-quickchart {\n",
              "    background-color: var(--bg-color);\n",
              "    border: none;\n",
              "    border-radius: 50%;\n",
              "    cursor: pointer;\n",
              "    display: none;\n",
              "    fill: var(--fill-color);\n",
              "    height: 32px;\n",
              "    padding: 0;\n",
              "    width: 32px;\n",
              "  }\n",
              "\n",
              "  .colab-df-quickchart:hover {\n",
              "    background-color: var(--hover-bg-color);\n",
              "    box-shadow: 0 1px 2px rgba(60, 64, 67, 0.3), 0 1px 3px 1px rgba(60, 64, 67, 0.15);\n",
              "    fill: var(--button-hover-fill-color);\n",
              "  }\n",
              "\n",
              "  .colab-df-quickchart-complete:disabled,\n",
              "  .colab-df-quickchart-complete:disabled:hover {\n",
              "    background-color: var(--disabled-bg-color);\n",
              "    fill: var(--disabled-fill-color);\n",
              "    box-shadow: none;\n",
              "  }\n",
              "\n",
              "  .colab-df-spinner {\n",
              "    border: 2px solid var(--fill-color);\n",
              "    border-color: transparent;\n",
              "    border-bottom-color: var(--fill-color);\n",
              "    animation:\n",
              "      spin 1s steps(1) infinite;\n",
              "  }\n",
              "\n",
              "  @keyframes spin {\n",
              "    0% {\n",
              "      border-color: transparent;\n",
              "      border-bottom-color: var(--fill-color);\n",
              "      border-left-color: var(--fill-color);\n",
              "    }\n",
              "    20% {\n",
              "      border-color: transparent;\n",
              "      border-left-color: var(--fill-color);\n",
              "      border-top-color: var(--fill-color);\n",
              "    }\n",
              "    30% {\n",
              "      border-color: transparent;\n",
              "      border-left-color: var(--fill-color);\n",
              "      border-top-color: var(--fill-color);\n",
              "      border-right-color: var(--fill-color);\n",
              "    }\n",
              "    40% {\n",
              "      border-color: transparent;\n",
              "      border-right-color: var(--fill-color);\n",
              "      border-top-color: var(--fill-color);\n",
              "    }\n",
              "    60% {\n",
              "      border-color: transparent;\n",
              "      border-right-color: var(--fill-color);\n",
              "    }\n",
              "    80% {\n",
              "      border-color: transparent;\n",
              "      border-right-color: var(--fill-color);\n",
              "      border-bottom-color: var(--fill-color);\n",
              "    }\n",
              "    90% {\n",
              "      border-color: transparent;\n",
              "      border-bottom-color: var(--fill-color);\n",
              "    }\n",
              "  }\n",
              "</style>\n",
              "\n",
              "  <script>\n",
              "    async function quickchart(key) {\n",
              "      const quickchartButtonEl =\n",
              "        document.querySelector('#' + key + ' button');\n",
              "      quickchartButtonEl.disabled = true;  // To prevent multiple clicks.\n",
              "      quickchartButtonEl.classList.add('colab-df-spinner');\n",
              "      try {\n",
              "        const charts = await google.colab.kernel.invokeFunction(\n",
              "            'suggestCharts', [key], {});\n",
              "      } catch (error) {\n",
              "        console.error('Error during call to suggestCharts:', error);\n",
              "      }\n",
              "      quickchartButtonEl.classList.remove('colab-df-spinner');\n",
              "      quickchartButtonEl.classList.add('colab-df-quickchart-complete');\n",
              "    }\n",
              "    (() => {\n",
              "      let quickchartButtonEl =\n",
              "        document.querySelector('#df-28844500-5efd-4937-bc05-033f786c5b9a button');\n",
              "      quickchartButtonEl.style.display =\n",
              "        google.colab.kernel.accessAllowed ? 'block' : 'none';\n",
              "    })();\n",
              "  </script>\n",
              "</div>\n",
              "    </div>\n",
              "  </div>\n"
            ]
          },
          "metadata": {},
          "execution_count": 50
        }
      ]
    },
    {
      "cell_type": "code",
      "source": [
        "df_alunos_listas.to_excel('alunos_lp_t1.xlsx', index=False)"
      ],
      "metadata": {
        "id": "7sVI_RZW3JKF"
      },
      "execution_count": 51,
      "outputs": []
    }
  ]
}
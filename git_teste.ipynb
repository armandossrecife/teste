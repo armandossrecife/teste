{
  "nbformat": 4,
  "nbformat_minor": 0,
  "metadata": {
    "colab": {
      "provenance": [],
      "authorship_tag": "ABX9TyOOvz+TyNh9Hth9z5j5fiDX",
      "include_colab_link": true
    },
    "kernelspec": {
      "name": "python3",
      "display_name": "Python 3"
    },
    "language_info": {
      "name": "python"
    }
  },
  "cells": [
    {
      "cell_type": "markdown",
      "metadata": {
        "id": "view-in-github",
        "colab_type": "text"
      },
      "source": [
        "<a href=\"https://colab.research.google.com/github/armandossrecife/teste/blob/main/git_teste.ipynb\" target=\"_parent\"><img src=\"https://colab.research.google.com/assets/colab-badge.svg\" alt=\"Open In Colab\"/></a>"
      ]
    },
    {
      "cell_type": "code",
      "execution_count": 1,
      "metadata": {
        "colab": {
          "base_uri": "https://localhost:8080/"
        },
        "id": "wGFXdCFJmSUC",
        "outputId": "6e834cf7-347b-4781-c172-9eb092d55d46"
      },
      "outputs": [
        {
          "output_type": "stream",
          "name": "stdout",
          "text": [
            "Cloning into 'cassandra'...\n",
            "remote: Enumerating objects: 380890, done.\u001b[K\n",
            "remote: Counting objects: 100% (95/95), done.\u001b[K\n",
            "remote: Compressing objects: 100% (66/66), done.\u001b[K\n",
            "remote: Total 380890 (delta 18), reused 58 (delta 12), pack-reused 380795\u001b[K\n",
            "Receiving objects: 100% (380890/380890), 381.91 MiB | 18.16 MiB/s, done.\n",
            "Resolving deltas: 100% (221720/221720), done.\n"
          ]
        }
      ],
      "source": [
        "!git clone https://github.com/apache/cassandra.git"
      ]
    },
    {
      "cell_type": "code",
      "source": [
        "!ls -l"
      ],
      "metadata": {
        "colab": {
          "base_uri": "https://localhost:8080/"
        },
        "id": "_NuViLjJmZFr",
        "outputId": "2c705444-88a2-4d6c-a9e0-65106d79069d"
      },
      "execution_count": 2,
      "outputs": [
        {
          "output_type": "stream",
          "name": "stdout",
          "text": [
            "total 8\n",
            "drwxr-xr-x 19 root root 4096 Mar  8 19:02 cassandra\n",
            "drwxr-xr-x  1 root root 4096 Mar  7 18:14 sample_data\n"
          ]
        }
      ]
    },
    {
      "cell_type": "code",
      "source": [
        "# Quantidade de arquivos na pasta cassandra\n",
        "!find cassandra -type f | wc -l"
      ],
      "metadata": {
        "colab": {
          "base_uri": "https://localhost:8080/"
        },
        "id": "w32CAAbJnFiP",
        "outputId": "0412d19b-8668-40c5-dd52-64d242d85de9"
      },
      "execution_count": 4,
      "outputs": [
        {
          "output_type": "stream",
          "name": "stdout",
          "text": [
            "5186\n"
          ]
        }
      ]
    },
    {
      "cell_type": "code",
      "source": [
        "# Quantidade de commits do repositorio cassandra\n",
        "!cd cassandra && git log --oneline | grep -c ."
      ],
      "metadata": {
        "colab": {
          "base_uri": "https://localhost:8080/"
        },
        "id": "3VXinb_dnJPL",
        "outputId": "0011449d-d068-48b3-a4b4-333cb21eb186"
      },
      "execution_count": 5,
      "outputs": [
        {
          "output_type": "stream",
          "name": "stdout",
          "text": [
            "28415\n"
          ]
        }
      ]
    },
    {
      "cell_type": "code",
      "source": [
        "# Tamanho (MB) da pasta cassandra\n",
        "!du -hs --block-size=1M cassandra | cut -f1"
      ],
      "metadata": {
        "colab": {
          "base_uri": "https://localhost:8080/"
        },
        "id": "WUFCRqd3noXk",
        "outputId": "ba25da73-1d57-4580-fc02-89cec3265246"
      },
      "execution_count": 6,
      "outputs": [
        {
          "output_type": "stream",
          "name": "stdout",
          "text": [
            "487\n"
          ]
        }
      ]
    },
    {
      "cell_type": "code",
      "source": [
        "# Quantidade de colaboradores (devs que commitaram pelo menos uma vez no projeto cassandra)\n",
        "!cd cassandra && git log --pretty=format:\"%ae\" | sort -u | grep -v \"noreply.github.com\" | wc -l"
      ],
      "metadata": {
        "colab": {
          "base_uri": "https://localhost:8080/"
        },
        "id": "lyJIYumDn_-H",
        "outputId": "ec0a53a3-d8d7-4be1-9b5f-fc4e211f4958"
      },
      "execution_count": 8,
      "outputs": [
        {
          "output_type": "stream",
          "name": "stdout",
          "text": [
            "578\n"
          ]
        }
      ]
    },
    {
      "cell_type": "code",
      "source": [
        "# Data do primeiro commit do projeto cassandra\n",
        "!cd cassandra && git log --reverse --pretty=format:%ad --date=short | head -1"
      ],
      "metadata": {
        "colab": {
          "base_uri": "https://localhost:8080/"
        },
        "id": "83LuLsuaoe_f",
        "outputId": "c71e6afd-3cdf-428f-a875-da8c3f60bb9d"
      },
      "execution_count": 9,
      "outputs": [
        {
          "output_type": "stream",
          "name": "stdout",
          "text": [
            "2009-03-02\n"
          ]
        }
      ]
    },
    {
      "cell_type": "code",
      "source": [
        "# Data do ultimo commit do projeto cassandra\n",
        "!cd cassandra && git log -1 --pretty=format:%ad --date=short"
      ],
      "metadata": {
        "colab": {
          "base_uri": "https://localhost:8080/"
        },
        "id": "j7plnMQeo3z7",
        "outputId": "38d18d32-9e87-4ce2-9d5d-645a38b0c657"
      },
      "execution_count": 10,
      "outputs": [
        {
          "output_type": "stream",
          "name": "stdout",
          "text": [
            "2023-02-24"
          ]
        }
      ]
    },
    {
      "cell_type": "code",
      "source": [
        "!sudo apt-get install cloc"
      ],
      "metadata": {
        "id": "RCeAdvxApFaz"
      },
      "execution_count": null,
      "outputs": []
    },
    {
      "cell_type": "code",
      "source": [
        "# Detalha os tidos de arquivos que aparecem no repositório do cassandra\n",
        "!cd cassandra && cloc ."
      ],
      "metadata": {
        "colab": {
          "base_uri": "https://localhost:8080/"
        },
        "id": "8jTpzMufrY3r",
        "outputId": "95510ca1-f53f-48f4-85f0-832f16bfae2a"
      },
      "execution_count": 12,
      "outputs": [
        {
          "output_type": "stream",
          "name": "stdout",
          "text": [
            "    4708 text files.\n",
            "    4643 unique files.                              \n",
            "     479 files ignored.\n",
            "\n",
            "github.com/AlDanial/cloc v 1.82  T=10.79 s (392.2 files/s, 118043.2 lines/s)\n",
            "--------------------------------------------------------------------------------\n",
            "Language                      files          blank        comment           code\n",
            "--------------------------------------------------------------------------------\n",
            "Java                           3875         116479         146621         613754\n",
            "YAML                             45            767           2563         330789\n",
            "AsciiDoc                        109           5587             11          20052\n",
            "Python                           31           2460           3163           8332\n",
            "XML                              33            201            478           3740\n",
            "Markdown                         13            771              0           3391\n",
            "SVG                              17            197           1399           2937\n",
            "Bourne Shell                     82            371            988           1984\n",
            "ANTLR Grammar                     3            267            288           1897\n",
            "Ant                               3            185            233           1787\n",
            "Bourne Again Shell                2             23             71            164\n",
            "Maven                             1             25             20            108\n",
            "make                              2             20             20             70\n",
            "CSS                               1             14             20             69\n",
            "DOS Batch                         2              1              0             56\n",
            "JSON                              6              0              0             52\n",
            "HTML                              1            104            519             50\n",
            "reStructuredText                  2             22             31             40\n",
            "diff                              3             16             44             40\n",
            "--------------------------------------------------------------------------------\n",
            "SUM:                           4231         127510         156469         989312\n",
            "--------------------------------------------------------------------------------\n"
          ]
        }
      ]
    },
    {
      "cell_type": "code",
      "source": [],
      "metadata": {
        "id": "5i7cMSAVrfhh"
      },
      "execution_count": null,
      "outputs": []
    }
  ]
}
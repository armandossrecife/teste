{
  "nbformat": 4,
  "nbformat_minor": 0,
  "metadata": {
    "colab": {
      "provenance": [],
      "authorship_tag": "ABX9TyMTxVPqpg2NyNlkzAfqWwVr",
      "include_colab_link": true
    },
    "kernelspec": {
      "name": "python3",
      "display_name": "Python 3"
    },
    "language_info": {
      "name": "python"
    }
  },
  "cells": [
    {
      "cell_type": "markdown",
      "metadata": {
        "id": "view-in-github",
        "colab_type": "text"
      },
      "source": [
        "<a href=\"https://colab.research.google.com/github/armandossrecife/teste/blob/main/salva_em_arquivo_v1.ipynb\" target=\"_parent\"><img src=\"https://colab.research.google.com/assets/colab-badge.svg\" alt=\"Open In Colab\"/></a>"
      ]
    },
    {
      "cell_type": "code",
      "execution_count": null,
      "metadata": {
        "id": "aZ4zNBLasCfF"
      },
      "outputs": [],
      "source": [
        "# Crie um dicionario para armazenar as informacoes das pessoas\n",
        "pessoas = {}\n",
        "\n",
        "# informacao de uma pessoa\n",
        "# cpf, nome, telefone\n",
        "\n",
        "# ler os dados de uma pessoa\n",
        "def ler_dados():\n",
        "  cpf = input('Digite o CPF da pessoa: ')\n",
        "  nome = input('Digite o nome da pessoa: ')\n",
        "  telefone = input('Digite o telefone da pessoa: ')\n",
        "  return cpf, nome, telefone\n",
        "\n",
        "# cadastrar uma pessoa\n",
        "def cadastrar_pessoa():\n",
        "  cpf, nome, telefone = ler_dados()\n",
        "  pessoas[cpf] = {\n",
        "    'nome': nome,\n",
        "    'telefone': telefone\n",
        "  }\n",
        "\n",
        "# listar dados das pessoas cadastradas\n",
        "def listar_pessoas():\n",
        "  for cpf, dados in pessoas.items():\n",
        "    print(f'CPF: {cpf}')\n",
        "    print(f'Nome: {dados[\"nome\"]}')\n",
        "    print(f'Telefone: {dados[\"telefone\"]}')\n",
        "\n",
        "# Salva dados das pessoas em um arquivo\n",
        "def salvar_dados(pessoas):\n",
        "  with open('pessoas.txt', 'w') as arquivo:\n",
        "    for cpf, dados in pessoas.items():\n",
        "      arquivo.write(f'{cpf},{dados[\"nome\"]},{dados[\"telefone\"]}\\n')\n",
        "\n",
        "# Carrega dados das pessoas de um arquivo\n",
        "def carregar_dados(pessoas):\n",
        "  with open('pessoas.txt', 'r') as arquivo:\n",
        "    for linha in arquivo:\n",
        "      cpf, nome, telefone = linha.strip().split(',')\n",
        "      pessoas[cpf] = {\n",
        "        'nome': nome,\n",
        "        'telefone': telefone\n",
        "      }"
      ]
    },
    {
      "cell_type": "code",
      "source": [
        "ler_dados()"
      ],
      "metadata": {
        "colab": {
          "base_uri": "https://localhost:8080/"
        },
        "id": "hPm4ZuXSskP7",
        "outputId": "68d87ba4-945d-4c88-f92a-32ef3d5f437a"
      },
      "execution_count": null,
      "outputs": [
        {
          "name": "stdout",
          "output_type": "stream",
          "text": [
            "Digite o CPF da pessoa: 1\n",
            "Digite o nome da pessoa: Maria\n",
            "Digite o telefone da pessoa: 8699999999\n"
          ]
        },
        {
          "output_type": "execute_result",
          "data": {
            "text/plain": [
              "('1', 'Maria', '8699999999')"
            ]
          },
          "metadata": {},
          "execution_count": 2
        }
      ]
    },
    {
      "cell_type": "code",
      "source": [
        "cadastrar_pessoa()"
      ],
      "metadata": {
        "colab": {
          "base_uri": "https://localhost:8080/"
        },
        "id": "bZmuWskVsqs4",
        "outputId": "ecc1c962-0420-4462-c08f-5e0aa76cc594"
      },
      "execution_count": null,
      "outputs": [
        {
          "name": "stdout",
          "output_type": "stream",
          "text": [
            "Digite o CPF da pessoa: 1\n",
            "Digite o nome da pessoa: Maria\n",
            "Digite o telefone da pessoa: 86999999999\n"
          ]
        }
      ]
    },
    {
      "cell_type": "code",
      "source": [
        "listar_pessoas()"
      ],
      "metadata": {
        "colab": {
          "base_uri": "https://localhost:8080/"
        },
        "id": "9cz-3zfcsxPw",
        "outputId": "943cea1a-b017-465b-e041-4d07b502739c"
      },
      "execution_count": null,
      "outputs": [
        {
          "output_type": "stream",
          "name": "stdout",
          "text": [
            "CPF: 1\n",
            "Nome: Maria\n",
            "Telefone: 86999999999\n"
          ]
        }
      ]
    },
    {
      "cell_type": "code",
      "source": [
        "cadastrar_pessoa()"
      ],
      "metadata": {
        "colab": {
          "base_uri": "https://localhost:8080/"
        },
        "id": "1_fECAgTs3H-",
        "outputId": "e40aa54e-8fc1-447f-9e5c-199ec188aed3"
      },
      "execution_count": null,
      "outputs": [
        {
          "name": "stdout",
          "output_type": "stream",
          "text": [
            "Digite o CPF da pessoa: 2\n",
            "Digite o nome da pessoa: Carla\n",
            "Digite o telefone da pessoa: 86999998888\n"
          ]
        }
      ]
    },
    {
      "cell_type": "code",
      "source": [
        "listar_pessoas()"
      ],
      "metadata": {
        "colab": {
          "base_uri": "https://localhost:8080/"
        },
        "id": "okaZXlqSs6hP",
        "outputId": "4dcb9088-d78b-47ab-9bc6-6d4fcac89be1"
      },
      "execution_count": null,
      "outputs": [
        {
          "output_type": "stream",
          "name": "stdout",
          "text": [
            "CPF: 1\n",
            "Nome: Maria\n",
            "Telefone: 86999999999\n",
            "CPF: 2\n",
            "Nome: Carla\n",
            "Telefone: 86999998888\n"
          ]
        }
      ]
    },
    {
      "cell_type": "code",
      "source": [
        "for cpf, dados in pessoas.items():\n",
        "  print(f'CPF: {cpf}')\n",
        "  print(f'Nome: {dados[\"nome\"]}')\n",
        "  print(f'Telefone: {dados[\"telefone\"]}')"
      ],
      "metadata": {
        "id": "mRIQwP-t7qzs",
        "outputId": "160d7432-016c-424d-ea54-6e12c4b47bed",
        "colab": {
          "base_uri": "https://localhost:8080/"
        }
      },
      "execution_count": null,
      "outputs": [
        {
          "output_type": "stream",
          "name": "stdout",
          "text": [
            "CPF: 1\n",
            "Nome: Maria\n",
            "Telefone: 86999999999\n",
            "CPF: 2\n",
            "Nome: Carla\n",
            "Telefone: 86999998888\n"
          ]
        }
      ]
    },
    {
      "cell_type": "code",
      "source": [
        "salvar_dados(pessoas)"
      ],
      "metadata": {
        "id": "UJdL4DJstnbq"
      },
      "execution_count": null,
      "outputs": []
    },
    {
      "cell_type": "code",
      "source": [
        "pessoas"
      ],
      "metadata": {
        "colab": {
          "base_uri": "https://localhost:8080/"
        },
        "id": "AEmkOSVQu4IR",
        "outputId": "1ccd2691-656f-4f6d-b349-7be58c88160e"
      },
      "execution_count": null,
      "outputs": [
        {
          "output_type": "execute_result",
          "data": {
            "text/plain": [
              "{}"
            ]
          },
          "metadata": {},
          "execution_count": 2
        }
      ]
    },
    {
      "cell_type": "code",
      "source": [
        "carregar_dados(pessoas)"
      ],
      "metadata": {
        "id": "x4-N5Pjpt3J-"
      },
      "execution_count": null,
      "outputs": []
    },
    {
      "cell_type": "code",
      "source": [
        "pessoas"
      ],
      "metadata": {
        "id": "ayxd0jPpvGMN",
        "outputId": "c40222c3-f88d-485d-b03c-b8ac2dd326d7",
        "colab": {
          "base_uri": "https://localhost:8080/"
        }
      },
      "execution_count": null,
      "outputs": [
        {
          "output_type": "execute_result",
          "data": {
            "text/plain": [
              "{'1': {'nome': 'Maria', 'telefone': '86999999999'},\n",
              " '2': {'nome': 'Carla', 'telefone': '86999998888'}}"
            ]
          },
          "metadata": {},
          "execution_count": 4
        }
      ]
    },
    {
      "cell_type": "code",
      "source": [
        "cadastrar_pessoa()"
      ],
      "metadata": {
        "id": "K_ZvfIdv7_2W",
        "outputId": "59a4fda3-e326-4ff1-ed32-03e10db38554",
        "colab": {
          "base_uri": "https://localhost:8080/"
        }
      },
      "execution_count": null,
      "outputs": [
        {
          "name": "stdout",
          "output_type": "stream",
          "text": [
            "Digite o CPF da pessoa: 3\n",
            "Digite o nome da pessoa: Francisco\n",
            "Digite o telefone da pessoa: 86977776666\n"
          ]
        }
      ]
    },
    {
      "cell_type": "code",
      "source": [
        "pessoas"
      ],
      "metadata": {
        "id": "2iZAJ6xG8DYw",
        "outputId": "37431da0-d762-4b24-9aa5-157bfdb9650f",
        "colab": {
          "base_uri": "https://localhost:8080/"
        }
      },
      "execution_count": null,
      "outputs": [
        {
          "output_type": "execute_result",
          "data": {
            "text/plain": [
              "{'1': {'nome': 'Maria', 'telefone': '86999999999'},\n",
              " '2': {'nome': 'Carla', 'telefone': '86999998888'},\n",
              " '3': {'nome': 'Francisco', 'telefone': '86977776666'}}"
            ]
          },
          "metadata": {},
          "execution_count": 6
        }
      ]
    },
    {
      "cell_type": "code",
      "source": [
        "listar_pessoas()"
      ],
      "metadata": {
        "id": "SpIGzjkr8Ig8",
        "outputId": "d015df41-18b3-4d00-8edd-28acbc402f71",
        "colab": {
          "base_uri": "https://localhost:8080/"
        }
      },
      "execution_count": null,
      "outputs": [
        {
          "output_type": "stream",
          "name": "stdout",
          "text": [
            "CPF: 1\n",
            "Nome: Maria\n",
            "Telefone: 86999999999\n",
            "CPF: 2\n",
            "Nome: Carla\n",
            "Telefone: 86999998888\n",
            "CPF: 3\n",
            "Nome: Francisco\n",
            "Telefone: 86977776666\n"
          ]
        }
      ]
    },
    {
      "cell_type": "code",
      "source": [
        "salvar_dados(pessoas)"
      ],
      "metadata": {
        "id": "9FOFNrtP8Kg5"
      },
      "execution_count": null,
      "outputs": []
    },
    {
      "cell_type": "code",
      "source": [
        "pessoas"
      ],
      "metadata": {
        "id": "JzIxpNCi8VJB",
        "outputId": "6fc1926f-1c31-4ba1-fd9d-e2ca47f32c24",
        "colab": {
          "base_uri": "https://localhost:8080/"
        }
      },
      "execution_count": null,
      "outputs": [
        {
          "output_type": "execute_result",
          "data": {
            "text/plain": [
              "{'1': {'nome': 'Maria', 'telefone': '86999999999'},\n",
              " '2': {'nome': 'Carla', 'telefone': '86999998888'},\n",
              " '3': {'nome': 'Francisco', 'telefone': '86977776666'}}"
            ]
          },
          "metadata": {},
          "execution_count": 9
        }
      ]
    },
    {
      "cell_type": "code",
      "source": [],
      "metadata": {
        "id": "aeK_rBkS8WGr"
      },
      "execution_count": null,
      "outputs": []
    }
  ]
}
{
  "nbformat": 4,
  "nbformat_minor": 0,
  "metadata": {
    "colab": {
      "provenance": [],
      "authorship_tag": "ABX9TyOl9DHlRJOkguO4TmvmxXWW",
      "include_colab_link": true
    },
    "kernelspec": {
      "name": "python3",
      "display_name": "Python 3"
    },
    "language_info": {
      "name": "python"
    }
  },
  "cells": [
    {
      "cell_type": "markdown",
      "metadata": {
        "id": "view-in-github",
        "colab_type": "text"
      },
      "source": [
        "<a href=\"https://colab.research.google.com/github/armandossrecife/teste/blob/main/salva_em_arquivo_v1.ipynb\" target=\"_parent\"><img src=\"https://colab.research.google.com/assets/colab-badge.svg\" alt=\"Open In Colab\"/></a>"
      ]
    },
    {
      "cell_type": "code",
      "execution_count": 12,
      "metadata": {
        "id": "aZ4zNBLasCfF"
      },
      "outputs": [],
      "source": [
        "# Crie um dicionario para armazenar as informacoes das pessoas\n",
        "pessoas = {}\n",
        "\n",
        "# informacao de uma pessoa\n",
        "# cpf, nome, telefone\n",
        "\n",
        "# ler os dados de uma pessoa\n",
        "def ler_dados():\n",
        "  cpf = input('Digite o CPF da pessoa: ')\n",
        "  nome = input('Digite o nome da pessoa: ')\n",
        "  telefone = input('Digite o telefone da pessoa: ')\n",
        "  return cpf, nome, telefone\n",
        "\n",
        "# cadastrar uma pessoa\n",
        "def cadastrar_pessoa():\n",
        "  cpf, nome, telefone = ler_dados()\n",
        "  pessoas[cpf] = {\n",
        "    'nome': nome,\n",
        "    'telefone': telefone\n",
        "  }\n",
        "\n",
        "# listar dados das pessoas cadastradas\n",
        "def listar_pessoas():\n",
        "  for cpf, dados in pessoas.items():\n",
        "    print(f'CPF: {cpf}')\n",
        "    print(f'Nome: {dados[\"nome\"]}')\n",
        "    print(f'Telefone: {dados[\"telefone\"]}')"
      ]
    },
    {
      "cell_type": "code",
      "source": [
        "ler_dados()"
      ],
      "metadata": {
        "colab": {
          "base_uri": "https://localhost:8080/"
        },
        "id": "hPm4ZuXSskP7",
        "outputId": "b4af8856-0bd7-4bf1-d48d-b50645deb18f"
      },
      "execution_count": 2,
      "outputs": [
        {
          "name": "stdout",
          "output_type": "stream",
          "text": [
            "Digite o CPF da pessoa: 12345678901\n",
            "Digite o nome da pessoa: Maria\n",
            "Digite o telefone da pessoa: 8699434343\n"
          ]
        },
        {
          "output_type": "execute_result",
          "data": {
            "text/plain": [
              "('12345678901', 'Maria', '8699434343')"
            ]
          },
          "metadata": {},
          "execution_count": 2
        }
      ]
    },
    {
      "cell_type": "code",
      "source": [
        "cadastrar_pessoa()"
      ],
      "metadata": {
        "colab": {
          "base_uri": "https://localhost:8080/"
        },
        "id": "bZmuWskVsqs4",
        "outputId": "dd7337fa-4567-4e41-f24d-6c06b55e05d8"
      },
      "execution_count": 3,
      "outputs": [
        {
          "name": "stdout",
          "output_type": "stream",
          "text": [
            "Digite o CPF da pessoa: 1\n",
            "Digite o nome da pessoa: Maria\n",
            "Digite o telefone da pessoa: 86999999999\n"
          ]
        }
      ]
    },
    {
      "cell_type": "code",
      "source": [
        "listar_pessoas()"
      ],
      "metadata": {
        "colab": {
          "base_uri": "https://localhost:8080/"
        },
        "id": "9cz-3zfcsxPw",
        "outputId": "daf03858-4163-4ba0-b234-49b29edc1e65"
      },
      "execution_count": 4,
      "outputs": [
        {
          "output_type": "stream",
          "name": "stdout",
          "text": [
            "CPF: 1\n",
            "Nome: Maria\n",
            "Telefone: 86999999999\n"
          ]
        }
      ]
    },
    {
      "cell_type": "code",
      "source": [
        "cadastrar_pessoa()"
      ],
      "metadata": {
        "colab": {
          "base_uri": "https://localhost:8080/"
        },
        "id": "1_fECAgTs3H-",
        "outputId": "43bafe80-fbca-4f23-8597-d5a55fbca188"
      },
      "execution_count": 5,
      "outputs": [
        {
          "name": "stdout",
          "output_type": "stream",
          "text": [
            "Digite o CPF da pessoa: 2\n",
            "Digite o nome da pessoa: Carla\n",
            "Digite o telefone da pessoa: 86988888888\n"
          ]
        }
      ]
    },
    {
      "cell_type": "code",
      "source": [
        "listar_pessoas()"
      ],
      "metadata": {
        "colab": {
          "base_uri": "https://localhost:8080/"
        },
        "id": "okaZXlqSs6hP",
        "outputId": "b422e7a4-0a9d-4ef3-8eb7-ebf8b8405c39"
      },
      "execution_count": 6,
      "outputs": [
        {
          "output_type": "stream",
          "name": "stdout",
          "text": [
            "CPF: 1\n",
            "Nome: Maria\n",
            "Telefone: 86999999999\n",
            "CPF: 2\n",
            "Nome: Carla\n",
            "Telefone: 86988888888\n"
          ]
        }
      ]
    },
    {
      "cell_type": "code",
      "source": [
        "# Salva dados das pessoas em um arquivo\n",
        "def salvar_dados(pessoas):\n",
        "  with open('pessoas.txt', 'w') as arquivo:\n",
        "    for cpf, pessoa in pessoas.items():\n",
        "      arquivo.write(f'{cpf},{pessoa[\"nome\"]},{pessoa[\"telefone\"]}\\n')\n",
        "\n",
        "# Carrega dados das pessoas de um arquivo\n",
        "def carregar_dados(pessoas):\n",
        "  with open('pessoas.txt', 'r') as arquivo:\n",
        "    for linha in arquivo:\n",
        "      cpf, nome, telefone = linha.strip().split(',')\n",
        "      pessoas[cpf] = {\n",
        "        'nome': nome,\n",
        "        'telefone': telefone\n",
        "      }"
      ],
      "metadata": {
        "id": "f0RXHYpFs_BJ"
      },
      "execution_count": 3,
      "outputs": []
    },
    {
      "cell_type": "code",
      "source": [
        "salvar_dados(pessoas)"
      ],
      "metadata": {
        "id": "UJdL4DJstnbq"
      },
      "execution_count": 11,
      "outputs": []
    },
    {
      "cell_type": "code",
      "source": [
        "carregar_dados(pessoas)"
      ],
      "metadata": {
        "id": "x4-N5Pjpt3J-"
      },
      "execution_count": 5,
      "outputs": []
    },
    {
      "cell_type": "code",
      "source": [
        "pessoas"
      ],
      "metadata": {
        "colab": {
          "base_uri": "https://localhost:8080/"
        },
        "id": "AEmkOSVQu4IR",
        "outputId": "b94094aa-1e19-4d68-9f21-530055af8bcc"
      },
      "execution_count": 6,
      "outputs": [
        {
          "output_type": "execute_result",
          "data": {
            "text/plain": [
              "{'1': {'nome': 'Maria', 'telefone': '86999999999'},\n",
              " '2': {'nome': 'Carla', 'telefone': '86988888888'}}"
            ]
          },
          "metadata": {},
          "execution_count": 6
        }
      ]
    },
    {
      "cell_type": "code",
      "source": [],
      "metadata": {
        "colab": {
          "base_uri": "https://localhost:8080/",
          "height": 36
        },
        "id": "7lUukZVpu-hP",
        "outputId": "fa91fa49-3b58-4235-da62-70d7018c1929"
      },
      "execution_count": 10,
      "outputs": [
        {
          "output_type": "execute_result",
          "data": {
            "text/plain": [
              "'86999999999'"
            ],
            "application/vnd.google.colaboratory.intrinsic+json": {
              "type": "string"
            }
          },
          "metadata": {},
          "execution_count": 10
        }
      ]
    },
    {
      "cell_type": "code",
      "source": [],
      "metadata": {
        "id": "ayxd0jPpvGMN"
      },
      "execution_count": null,
      "outputs": []
    }
  ]
}
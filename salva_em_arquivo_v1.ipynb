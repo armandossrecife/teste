{
  "nbformat": 4,
  "nbformat_minor": 0,
  "metadata": {
    "colab": {
      "provenance": [],
      "authorship_tag": "ABX9TyNnAphTS5J8potRVeFByqlN",
      "include_colab_link": true
    },
    "kernelspec": {
      "name": "python3",
      "display_name": "Python 3"
    },
    "language_info": {
      "name": "python"
    }
  },
  "cells": [
    {
      "cell_type": "markdown",
      "metadata": {
        "id": "view-in-github",
        "colab_type": "text"
      },
      "source": [
        "<a href=\"https://colab.research.google.com/github/armandossrecife/teste/blob/main/salva_em_arquivo_v1.ipynb\" target=\"_parent\"><img src=\"https://colab.research.google.com/assets/colab-badge.svg\" alt=\"Open In Colab\"/></a>"
      ]
    },
    {
      "cell_type": "markdown",
      "source": [
        "# Salva dados de pessoas em arquivo"
      ],
      "metadata": {
        "id": "iRw4LxKZ97GZ"
      }
    },
    {
      "cell_type": "code",
      "execution_count": 12,
      "metadata": {
        "id": "aZ4zNBLasCfF"
      },
      "outputs": [],
      "source": [
        "# Crie um dicionario para armazenar as informacoes das pessoas\n",
        "pessoas = {}\n",
        "\n",
        "# informacao de uma pessoa\n",
        "# cpf, nome, telefone\n",
        "\n",
        "# ler os dados de uma pessoa\n",
        "def ler_dados():\n",
        "  cpf = input('Digite o CPF da pessoa: ')\n",
        "  nome = input('Digite o nome da pessoa: ')\n",
        "  telefone = input('Digite o telefone da pessoa: ')\n",
        "  return cpf, nome, telefone\n",
        "\n",
        "# cadastrar uma pessoa\n",
        "def cadastrar_pessoa():\n",
        "  cpf, nome, telefone = ler_dados()\n",
        "  pessoas[cpf] = {\n",
        "    'nome': nome,\n",
        "    'telefone': telefone\n",
        "  }\n",
        "\n",
        "# listar dados das pessoas cadastradas\n",
        "def listar_pessoas():\n",
        "  for cpf, dados in pessoas.items():\n",
        "    print(f'CPF: {cpf}')\n",
        "    print(f'Nome: {dados[\"nome\"]}')\n",
        "    print(f'Telefone: {dados[\"telefone\"]}')\n",
        "\n",
        "# Salva dados das pessoas em um arquivo\n",
        "def salvar_dados(pessoas):\n",
        "  with open('pessoas.txt', 'w') as arquivo:\n",
        "    for cpf, dados in pessoas.items():\n",
        "      arquivo.write(f'{cpf},{dados[\"nome\"]},{dados[\"telefone\"]}\\n')\n",
        "\n",
        "# Carrega dados das pessoas de um arquivo\n",
        "def carregar_dados(pessoas):\n",
        "  with open('pessoas.txt', 'r') as arquivo:\n",
        "    for linha in arquivo:\n",
        "      cpf, nome, telefone = linha.strip().split(',')\n",
        "      pessoas[cpf] = {\n",
        "        'nome': nome,\n",
        "        'telefone': telefone\n",
        "      }"
      ]
    },
    {
      "cell_type": "code",
      "source": [
        "cadastrar_pessoa()"
      ],
      "metadata": {
        "colab": {
          "base_uri": "https://localhost:8080/"
        },
        "id": "bZmuWskVsqs4",
        "outputId": "3155d200-9484-4466-ecce-b37e150f86a2"
      },
      "execution_count": 13,
      "outputs": [
        {
          "name": "stdout",
          "output_type": "stream",
          "text": [
            "Digite o CPF da pessoa: 5\n",
            "Digite o nome da pessoa: Francisco\n",
            "Digite o telefone da pessoa: 86988887777\n"
          ]
        }
      ]
    },
    {
      "cell_type": "code",
      "source": [
        "listar_pessoas()"
      ],
      "metadata": {
        "colab": {
          "base_uri": "https://localhost:8080/"
        },
        "id": "9cz-3zfcsxPw",
        "outputId": "62bd1b08-f6da-4f1e-a7a3-6c0425f25f7f"
      },
      "execution_count": 14,
      "outputs": [
        {
          "output_type": "stream",
          "name": "stdout",
          "text": [
            "CPF: 5\n",
            "Nome: Francisco\n",
            "Telefone: 86988887777\n"
          ]
        }
      ]
    },
    {
      "cell_type": "code",
      "source": [
        "cadastrar_pessoa()"
      ],
      "metadata": {
        "colab": {
          "base_uri": "https://localhost:8080/"
        },
        "id": "1_fECAgTs3H-",
        "outputId": "14210f14-72f4-43f4-d4c4-6a73d18fc37c"
      },
      "execution_count": 15,
      "outputs": [
        {
          "name": "stdout",
          "output_type": "stream",
          "text": [
            "Digite o CPF da pessoa: 6\n",
            "Digite o nome da pessoa: Clara\n",
            "Digite o telefone da pessoa: 86988887777\n"
          ]
        }
      ]
    },
    {
      "cell_type": "code",
      "source": [
        "listar_pessoas()"
      ],
      "metadata": {
        "colab": {
          "base_uri": "https://localhost:8080/"
        },
        "id": "okaZXlqSs6hP",
        "outputId": "0f2028db-4496-4e77-ab8e-e5f88a115df8"
      },
      "execution_count": 16,
      "outputs": [
        {
          "output_type": "stream",
          "name": "stdout",
          "text": [
            "CPF: 5\n",
            "Nome: Francisco\n",
            "Telefone: 86988887777\n",
            "CPF: 6\n",
            "Nome: Clara\n",
            "Telefone: 86988887777\n"
          ]
        }
      ]
    },
    {
      "cell_type": "code",
      "source": [
        "for cpf, dados in pessoas.items():\n",
        "  print(f'CPF: {cpf}')\n",
        "  print(f'Nome: {dados[\"nome\"]}')\n",
        "  print(f'Telefone: {dados[\"telefone\"]}')"
      ],
      "metadata": {
        "id": "mRIQwP-t7qzs",
        "outputId": "113fe9b1-2c07-4195-95e1-d9beb6d0d954",
        "colab": {
          "base_uri": "https://localhost:8080/"
        }
      },
      "execution_count": 17,
      "outputs": [
        {
          "output_type": "stream",
          "name": "stdout",
          "text": [
            "CPF: 5\n",
            "Nome: Francisco\n",
            "Telefone: 86988887777\n",
            "CPF: 6\n",
            "Nome: Clara\n",
            "Telefone: 86988887777\n"
          ]
        }
      ]
    },
    {
      "cell_type": "code",
      "source": [
        "salvar_dados(pessoas)"
      ],
      "metadata": {
        "id": "UJdL4DJstnbq"
      },
      "execution_count": 18,
      "outputs": []
    },
    {
      "cell_type": "code",
      "source": [
        "pessoas"
      ],
      "metadata": {
        "colab": {
          "base_uri": "https://localhost:8080/"
        },
        "id": "AEmkOSVQu4IR",
        "outputId": "ec7d74bc-b888-4930-e3c5-12f16e826af7"
      },
      "execution_count": 19,
      "outputs": [
        {
          "output_type": "execute_result",
          "data": {
            "text/plain": [
              "{'5': {'nome': 'Francisco', 'telefone': '86988887777'},\n",
              " '6': {'nome': 'Clara', 'telefone': '86988887777'}}"
            ]
          },
          "metadata": {},
          "execution_count": 19
        }
      ]
    },
    {
      "cell_type": "code",
      "source": [
        "carregar_dados(pessoas)"
      ],
      "metadata": {
        "id": "x4-N5Pjpt3J-"
      },
      "execution_count": null,
      "outputs": []
    },
    {
      "cell_type": "code",
      "source": [
        "pessoas"
      ],
      "metadata": {
        "id": "ayxd0jPpvGMN",
        "outputId": "c40222c3-f88d-485d-b03c-b8ac2dd326d7",
        "colab": {
          "base_uri": "https://localhost:8080/"
        }
      },
      "execution_count": null,
      "outputs": [
        {
          "output_type": "execute_result",
          "data": {
            "text/plain": [
              "{'1': {'nome': 'Maria', 'telefone': '86999999999'},\n",
              " '2': {'nome': 'Carla', 'telefone': '86999998888'}}"
            ]
          },
          "metadata": {},
          "execution_count": 4
        }
      ]
    },
    {
      "cell_type": "code",
      "source": [
        "cadastrar_pessoa()"
      ],
      "metadata": {
        "id": "K_ZvfIdv7_2W",
        "outputId": "59a4fda3-e326-4ff1-ed32-03e10db38554",
        "colab": {
          "base_uri": "https://localhost:8080/"
        }
      },
      "execution_count": null,
      "outputs": [
        {
          "name": "stdout",
          "output_type": "stream",
          "text": [
            "Digite o CPF da pessoa: 3\n",
            "Digite o nome da pessoa: Francisco\n",
            "Digite o telefone da pessoa: 86977776666\n"
          ]
        }
      ]
    },
    {
      "cell_type": "code",
      "source": [
        "pessoas"
      ],
      "metadata": {
        "id": "2iZAJ6xG8DYw",
        "outputId": "37431da0-d762-4b24-9aa5-157bfdb9650f",
        "colab": {
          "base_uri": "https://localhost:8080/"
        }
      },
      "execution_count": null,
      "outputs": [
        {
          "output_type": "execute_result",
          "data": {
            "text/plain": [
              "{'1': {'nome': 'Maria', 'telefone': '86999999999'},\n",
              " '2': {'nome': 'Carla', 'telefone': '86999998888'},\n",
              " '3': {'nome': 'Francisco', 'telefone': '86977776666'}}"
            ]
          },
          "metadata": {},
          "execution_count": 6
        }
      ]
    },
    {
      "cell_type": "code",
      "source": [
        "listar_pessoas()"
      ],
      "metadata": {
        "id": "SpIGzjkr8Ig8",
        "outputId": "d015df41-18b3-4d00-8edd-28acbc402f71",
        "colab": {
          "base_uri": "https://localhost:8080/"
        }
      },
      "execution_count": null,
      "outputs": [
        {
          "output_type": "stream",
          "name": "stdout",
          "text": [
            "CPF: 1\n",
            "Nome: Maria\n",
            "Telefone: 86999999999\n",
            "CPF: 2\n",
            "Nome: Carla\n",
            "Telefone: 86999998888\n",
            "CPF: 3\n",
            "Nome: Francisco\n",
            "Telefone: 86977776666\n"
          ]
        }
      ]
    },
    {
      "cell_type": "code",
      "source": [
        "salvar_dados(pessoas)"
      ],
      "metadata": {
        "id": "9FOFNrtP8Kg5"
      },
      "execution_count": null,
      "outputs": []
    },
    {
      "cell_type": "code",
      "source": [
        "pessoas"
      ],
      "metadata": {
        "id": "JzIxpNCi8VJB",
        "outputId": "d8bbacae-4fe7-4887-c756-e9df563a54c1",
        "colab": {
          "base_uri": "https://localhost:8080/"
        }
      },
      "execution_count": 20,
      "outputs": [
        {
          "output_type": "execute_result",
          "data": {
            "text/plain": [
              "{'5': {'nome': 'Francisco', 'telefone': '86988887777'},\n",
              " '6': {'nome': 'Clara', 'telefone': '86988887777'}}"
            ]
          },
          "metadata": {},
          "execution_count": 20
        }
      ]
    },
    {
      "cell_type": "markdown",
      "source": [
        "## Melhorando o código para salvar em arquivo .json"
      ],
      "metadata": {
        "id": "bufsYhT78qzo"
      }
    },
    {
      "cell_type": "code",
      "source": [
        "import json\n",
        "\n",
        "def salvar_dados_json(pessoas):\n",
        "  with open('pessoas.json', 'w') as arquivo:\n",
        "    json.dump(pessoas, arquivo)"
      ],
      "metadata": {
        "id": "aeK_rBkS8WGr"
      },
      "execution_count": 21,
      "outputs": []
    },
    {
      "cell_type": "code",
      "source": [
        "salvar_dados_json(pessoas)"
      ],
      "metadata": {
        "id": "tbaeR_hc80LI"
      },
      "execution_count": 22,
      "outputs": []
    },
    {
      "cell_type": "code",
      "source": [
        "def carregar_dados_json(pessoas):\n",
        "  with open('pessoas.json', 'r') as arquivo:\n",
        "    pessoas = json.load(arquivo)\n",
        "  return pessoas"
      ],
      "metadata": {
        "id": "8o6sR6FR82bR"
      },
      "execution_count": 23,
      "outputs": []
    },
    {
      "cell_type": "code",
      "source": [
        "pessoas = {}"
      ],
      "metadata": {
        "id": "fpm71CXa9Lgi"
      },
      "execution_count": 24,
      "outputs": []
    },
    {
      "cell_type": "code",
      "source": [
        "pessoas = carregar_dados_json(pessoas)"
      ],
      "metadata": {
        "id": "GdAFp3F89nC5"
      },
      "execution_count": 25,
      "outputs": []
    },
    {
      "cell_type": "code",
      "source": [
        "pessoas"
      ],
      "metadata": {
        "colab": {
          "base_uri": "https://localhost:8080/"
        },
        "id": "MRqVBS_09sni",
        "outputId": "4f87f7ce-118e-4dbb-e6e0-3599921db26b"
      },
      "execution_count": 26,
      "outputs": [
        {
          "output_type": "execute_result",
          "data": {
            "text/plain": [
              "{'5': {'nome': 'Francisco', 'telefone': '86988887777'},\n",
              " '6': {'nome': 'Clara', 'telefone': '86988887777'}}"
            ]
          },
          "metadata": {},
          "execution_count": 26
        }
      ]
    },
    {
      "cell_type": "code",
      "source": [],
      "metadata": {
        "id": "8jv4su6p9yZu"
      },
      "execution_count": null,
      "outputs": []
    }
  ]
}
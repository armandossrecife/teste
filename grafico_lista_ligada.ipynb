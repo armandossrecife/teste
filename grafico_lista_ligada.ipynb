{
  "nbformat": 4,
  "nbformat_minor": 0,
  "metadata": {
    "colab": {
      "provenance": [],
      "authorship_tag": "ABX9TyNvqA9WD5LaKLu3MsehTzx5",
      "include_colab_link": true
    },
    "kernelspec": {
      "name": "python3",
      "display_name": "Python 3"
    },
    "language_info": {
      "name": "python"
    }
  },
  "cells": [
    {
      "cell_type": "markdown",
      "metadata": {
        "id": "view-in-github",
        "colab_type": "text"
      },
      "source": [
        "<a href=\"https://colab.research.google.com/github/armandossrecife/teste/blob/main/grafico_lista_ligada.ipynb\" target=\"_parent\"><img src=\"https://colab.research.google.com/assets/colab-badge.svg\" alt=\"Open In Colab\"/></a>"
      ]
    },
    {
      "cell_type": "code",
      "execution_count": 1,
      "metadata": {
        "colab": {
          "base_uri": "https://localhost:8080/"
        },
        "id": "0z6AqHBHVsNX",
        "outputId": "2ce31787-e6be-4929-8f51-f10ae077dcbd"
      },
      "outputs": [
        {
          "output_type": "stream",
          "name": "stdout",
          "text": [
            "Requirement already satisfied: networkx in /usr/local/lib/python3.10/dist-packages (3.3)\n"
          ]
        }
      ],
      "source": [
        "!pip install networkx"
      ]
    },
    {
      "cell_type": "code",
      "source": [
        "import networkx as nx\n",
        "import matplotlib.pyplot as plt"
      ],
      "metadata": {
        "id": "q8dIj-SFVy8x"
      },
      "execution_count": 2,
      "outputs": []
    },
    {
      "cell_type": "code",
      "source": [
        "class Node:\n",
        "    def __init__(self, data):\n",
        "        self.data = data\n",
        "        self.next = None\n",
        "        self.prev = None\n",
        "\n",
        "class DoublyLinkedList:\n",
        "    def __init__(self):\n",
        "        self.head = None\n",
        "\n",
        "    def append(self, data):\n",
        "        new_node = Node(data)\n",
        "        if self.head is None:\n",
        "            self.head = new_node\n",
        "        else:\n",
        "            last_node = self.head\n",
        "            while last_node.next:\n",
        "                last_node = last_node.next\n",
        "            last_node.next = new_node\n",
        "            new_node.prev = last_node\n",
        "\n",
        "    def print_list(self):\n",
        "        cur_node = self.head\n",
        "        while cur_node:\n",
        "            print(cur_node.data)\n",
        "            cur_node = cur_node.next\n",
        "\n",
        "    def visualize_list(self):\n",
        "      G = nx.DiGraph()\n",
        "      node_labels = {}\n",
        "\n",
        "      cur_node = self.head\n",
        "      while cur_node:\n",
        "        G.add_node(cur_node.data)\n",
        "        node_labels[cur_node.data] = str(cur_node.data)\n",
        "        if cur_node.prev:\n",
        "            G.add_edge(cur_node.prev.data, cur_node.data)\n",
        "        if cur_node.next:\n",
        "            G.add_edge(cur_node.data, cur_node.next.data)\n",
        "        cur_node = cur_node.next\n",
        "\n",
        "      pos = nx.spring_layout(G)\n",
        "      nx.draw(G, pos, with_labels=True, labels=node_labels)\n",
        "      plt.show()"
      ],
      "metadata": {
        "id": "pDfyb_GOWHQc"
      },
      "execution_count": 5,
      "outputs": []
    },
    {
      "cell_type": "code",
      "source": [
        "# Criando uma lista duplamente encadeada\n",
        "dllist = DoublyLinkedList()\n",
        "\n",
        "# Adicionando elementos\n",
        "dllist.append(1)\n",
        "dllist.append(2)\n",
        "dllist.append(3)\n",
        "dllist.append(4)\n",
        "\n",
        "# Imprimindo a lista\n",
        "dllist.print_list()"
      ],
      "metadata": {
        "colab": {
          "base_uri": "https://localhost:8080/"
        },
        "id": "E0SWPVxRWTPM",
        "outputId": "0f313ddd-81d4-4e5c-9dec-727d34390026"
      },
      "execution_count": 6,
      "outputs": [
        {
          "output_type": "stream",
          "name": "stdout",
          "text": [
            "1\n",
            "2\n",
            "3\n",
            "4\n"
          ]
        }
      ]
    },
    {
      "cell_type": "code",
      "source": [
        "dllist.visualize_list()"
      ],
      "metadata": {
        "colab": {
          "base_uri": "https://localhost:8080/",
          "height": 516
        },
        "id": "pCLntQMkWxfi",
        "outputId": "d2aa4653-0fd0-4c54-99c6-140362235d6f"
      },
      "execution_count": 7,
      "outputs": [
        {
          "output_type": "display_data",
          "data": {
            "text/plain": [
              "<Figure size 640x480 with 1 Axes>"
            ],
            "image/png": "[encoded data removed]"
          },
          "metadata": {}
        }
      ]
    },
    {
      "cell_type": "code",
      "source": [],
      "metadata": {
        "id": "KwUMw7SBWzI2"
      },
      "execution_count": null,
      "outputs": []
    }
  ]
}
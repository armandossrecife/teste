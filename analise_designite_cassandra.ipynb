{
  "nbformat": 4,
  "nbformat_minor": 0,
  "metadata": {
    "colab": {
      "provenance": [],
      "mount_file_id": "1-TRRTXvqiyglFtQctO4lZl7oi6afnxoC",
      "authorship_tag": "ABX9TyM5zJiE2z7dHsFPkMlVbZRt",
      "include_colab_link": true
    },
    "kernelspec": {
      "name": "python3",
      "display_name": "Python 3"
    },
    "language_info": {
      "name": "python"
    }
  },
  "cells": [
    {
      "cell_type": "markdown",
      "metadata": {
        "id": "view-in-github",
        "colab_type": "text"
      },
      "source": [
        "<a href=\"https://colab.research.google.com/github/armandossrecife/teste/blob/main/analise_designite_cassandra.ipynb\" target=\"_parent\"><img src=\"https://colab.research.google.com/assets/colab-badge.svg\" alt=\"Open In Colab\"/></a>"
      ]
    },
    {
      "cell_type": "code",
      "execution_count": null,
      "metadata": {
        "colab": {
          "base_uri": "https://localhost:8080/"
        },
        "id": "l8RIvuIRoG4V",
        "outputId": "6643c7b7-71f3-442b-9972-ea5bb010436f"
      },
      "outputs": [
        {
          "output_type": "stream",
          "name": "stdout",
          "text": [
            "openjdk 11.0.18 2023-01-17\n",
            "OpenJDK Runtime Environment (build 11.0.18+10-post-Ubuntu-0ubuntu120.04.1)\n",
            "OpenJDK 64-Bit Server VM (build 11.0.18+10-post-Ubuntu-0ubuntu120.04.1, mixed mode, sharing)\n"
          ]
        }
      ],
      "source": [
        "!java --version"
      ]
    },
    {
      "cell_type": "markdown",
      "source": [
        "# Funcões"
      ],
      "metadata": {
        "id": "RrcPd5jgi_D9"
      }
    },
    {
      "cell_type": "code",
      "source": [
        "import pandas as pd\n",
        "import os\n",
        "import requests\n",
        "\n",
        "def checa_indice_language(relacao_linguagens):\n",
        "  indice=-1\n",
        "  for i, each in enumerate(relacao_linguagens):\n",
        "    if \"Language\" in each:\n",
        "      indice = i\n",
        "      break\n",
        "  return indice\n",
        "\n",
        "def instala_cloc():\n",
        "  try: \n",
        "    comando = !sudo apt-get install cloc\n",
        "    print(comando)\n",
        "  except Exception as e:\n",
        "    print(f'Erro: {str(e)}')\n",
        "\n",
        "def clona_repositorio(url):\n",
        "  try:\n",
        "    comando = f'git clone {url}'\n",
        "    print(f'Clonando o repositório {url}')\n",
        "    print(comando)\n",
        "    os.system(comando)\n",
        "    print('concluido com sucesso!')\n",
        "  except Exception as e:\n",
        "    print(f'Erro: {str(e)}')\n",
        "  \n",
        "def get_primeiro_commit(repositorio):\n",
        "  try:\n",
        "    os.environ['REPOSITORIO_ORIGINAL'] = repositorio\n",
        "    # Primeiro commit \n",
        "    comando = !cd $REPOSITORIO_ORIGINAL && git rev-list --all | tail -n 1\n",
        "  except Exception as e:\n",
        "    print(f'Erro: {str(e)}')\n",
        "  return comando\n",
        "\n",
        "def get_commit_tag(tag):\n",
        "  try:\n",
        "    os.environ['TAG'] = tag\n",
        "    comando = !cd cassandra && git rev-list -n 1 $TAG\n",
        "  except Exception as e:\n",
        "    print(f'Erro: {str(e)}')\n",
        "  return comando\n",
        "\n",
        "def get_ultimo_commit(repositorio):\n",
        "  try:\n",
        "    os.environ['REPOSITORIO_ORIGINAL'] = repositorio\n",
        "    # Primeiro commit \n",
        "    comando = !cd $REPOSITORIO_ORIGINAL && git rev-list --all | head -n 1\n",
        "  except Exception as e:\n",
        "    print(f'Erro: {str(e)}')\n",
        "  return comando\n",
        "\n",
        "def cria_pasta_n_commit(repositorio, pasta_n_commit):\n",
        "  try:\n",
        "    os.environ['REPOSITORIO_ORIGINAL'] = repositorio\n",
        "    os.environ['REPOSITORIO_INICIAL'] = pasta_n_commit\n",
        "    # Cria uma nova pasta para referenciar apenas os dados do 1o commit\n",
        "    comando = !cp -R $REPOSITORIO_ORIGINAL $REPOSITORIO_INICIAL\n",
        "  except Exception as e:\n",
        "    print(f'Erro: {str(e)}')\n",
        "  return comando\n",
        "\n",
        "def checkout_n_commit(pasta_n_commit, n_commit):\n",
        "  try:\n",
        "    os.environ['REPOSITORIO_INICIAL'] = pasta_n_commit\n",
        "    os.environ['PRIMEIRO_COMMIT'] = n_commit\n",
        "    # git checkout $( git rev-list --all | tail -n 1 )\n",
        "    comando1 = \"cd $REPOSITORIO_INICIAL && git checkout $PRIMEIRO_COMMIT\"\n",
        "    os.system(comando1)\n",
        "    print(f'Checkout do repositorio no commit {n_commit} realizado com sucesso!')\n",
        "  except Exception as e:\n",
        "    print(f'Erro: {str(e)}')\n",
        "\n",
        "def gera_df_info_repositorio(pasta_n_commit):\n",
        "  try: \n",
        "    os.environ['REPOSITORIO_INICIAL'] = pasta_n_commit\n",
        "    # Quantidade de arquivos na pasta cassandra\n",
        "    qtd_arquivos = !find $REPOSITORIO_INICIAL -type f | wc -l\n",
        "    # Quantidade de commits do repositorio cassandra\n",
        "    qtd_commits = !cd $REPOSITORIO_INICIAL && git log --oneline | grep -c .\n",
        "    # Tamanho (MB) da pasta cassandra\n",
        "    tamanho_pasta_mb = !du -hs --block-size=1M $REPOSITORIO_INICIAL | cut -f1\n",
        "    # Quantidade de colaboradores (devs que commitaram pelo menos uma vez no projeto cassandra)\n",
        "    qtd_colaboradores_commits = !cd $REPOSITORIO_INICIAL && git log --pretty=format:\"%ae\" | sort -u | grep -v \"noreply.github.com\" | wc -l\n",
        "    # Data do primeiro commit do projeto cassandra\n",
        "    data_primeiro_commit =!cd $REPOSITORIO_INICIAL && git log --reverse --pretty=format:%ad --date=short | head -1\n",
        "    # Data do ultimo commit do projeto cassandra\n",
        "    data_ultimo_commit = !cd $REPOSITORIO_INICIAL && git log -1 --pretty=format:%ad --date=short\n",
        "\n",
        "    dict_info_repo = {\n",
        "      'nome':pasta_n_commit,\n",
        "      'qtd_arquivos':qtd_arquivos,\n",
        "      'qtd_commits':qtd_commits,\n",
        "      'tamanho_pasta_mb':tamanho_pasta_mb,\n",
        "      'qtd_colaboradores_commits':qtd_colaboradores_commits,\n",
        "      'data_primeiro_commit':data_primeiro_commit,\n",
        "      'data_ultimo_commit':data_ultimo_commit,\n",
        "    }\n",
        "\n",
        "    df_info_repo = pd.DataFrame(dict_info_repo)\n",
        "  except Exception as e:\n",
        "    print(f'Erro: {str(e)}')\n",
        "  return df_info_repo\n",
        "\n",
        "def gera_df_dados(pasta_n_commit):\n",
        "  lista_linguagens, lista_files, lista_blank, lista_comment, lista_code = list(), list(), list(), list(), list()\n",
        "  l_temp = []\n",
        "  vl_temp = []\n",
        "  os.environ['REPOSITORIO_INICIAL'] = pasta_n_commit\n",
        "  try:\n",
        "    # Detalha os tipos de arquivos que aparecem no repositório do cassandra\n",
        "    relacao_linguagens = !cd $REPOSITORIO_INICIAL && cloc .\n",
        "    #relacao_linguagens[checa_indice_language(relacao_linguagens):]\n",
        "    linguagens_encontradas = relacao_linguagens[(checa_indice_language(relacao_linguagens)+2):]\n",
        "    for linha in linguagens_encontradas:\n",
        "      elementos = linha.split(' ')\n",
        "      novos_elementos = []\n",
        "      linguagem_encontrada = []\n",
        "      valores_da_linguagem = []\n",
        "      for item in elementos:\n",
        "        if item != '':\n",
        "          novos_elementos.append(item)\n",
        "      linguagem_encontrada.append(novos_elementos[:-4])\n",
        "      valores_da_linguagem.append(novos_elementos[-4:])\n",
        "      l_temp = l_temp + linguagem_encontrada\n",
        "      vl_temp = vl_temp + valores_da_linguagem\n",
        "\n",
        "    l_temp = l_temp[:-3]\n",
        "    vl_temp = vl_temp[:-3]\n",
        "    for i,each in enumerate(vl_temp):\n",
        "      lista_files.append(each[0])\n",
        "      lista_blank.append(each[1]) \n",
        "      lista_comment.append(each[2]) \n",
        "      lista_code.append(each[3])  \n",
        "  except Exception as e:\n",
        "    print(f'Erro: {str(e)}')\n",
        "  try:\n",
        "    dict_dados_linguagens = {\n",
        "    'linguagens':l_temp, \n",
        "    'files':lista_files, \n",
        "    'blank':lista_blank,\n",
        "    'comment':lista_comment,\n",
        "    'code':lista_code\n",
        "    }\n",
        "    df_dados_linguagens = pd.DataFrame(dict_dados_linguagens)\n",
        "    df_dados_linguagens['files'] = df_dados_linguagens['files'].apply(lambda x: int(x))\n",
        "    df_dados_linguagens['blank'] = df_dados_linguagens['blank'].apply(lambda x: int(x))\t\n",
        "    df_dados_linguagens['comment'] = df_dados_linguagens['comment'].apply(lambda x: int(x))\t\n",
        "    df_dados_linguagens['code'] = df_dados_linguagens['code'].apply(lambda x: int(x))\n",
        "  except Exception as e2:\n",
        "    print(f'Erro: {str(e2)}')\n",
        "\n",
        "  return df_dados_linguagens\n",
        "\n",
        "def gera_df_dados_repositorios(df_info_repo, df_info_repo_cf):\n",
        "  df_repo = None\n",
        "  try:\n",
        "    l_cf = df_info_repo_cf.columns.tolist()\n",
        "    c_c1 = df_info_repo.iloc[0].to_list()\n",
        "    c_cf = df_info_repo_cf.iloc[0].to_list()\n",
        "\n",
        "    dict_repo= {\n",
        "        'descricao':l_cf,\n",
        "        'dados_c1':c_c1,\n",
        "        'dados_cf':c_cf\n",
        "    }\n",
        "    df_repo = pd.DataFrame(dict_repo)\n",
        "  except Exception as e:\n",
        "    print(f'Erro: {str(3)}')\n",
        "  return df_repo\n",
        "\n",
        "def gera_df_dados_repositorios2(df_info_repo, df_info_repo_cf):\n",
        "  df_repo = None\n",
        "  try:\n",
        "    l_cf = df_info_repo_cf.columns.tolist()\n",
        "    c_c1 = df_info_repo.iloc[0].to_list()\n",
        "    c_cf = df_info_repo_cf.iloc[0].to_list()\n",
        "\n",
        "    dict_repo= {\n",
        "        'dados_cf':c_cf\n",
        "    }\n",
        "    df_repo = pd.DataFrame(dict_repo)\n",
        "  except Exception as e:\n",
        "    print(f'Erro: {str(3)}')\n",
        "  return df_repo\n",
        "\n",
        "def download_designite():\n",
        "  try:\n",
        "    url = 'https://www.designite-tools.com/static/download/DJC/DesigniteJava.jar'  # replace with the URL of the file you want to download\n",
        "    filename = 'DesigniteJava.jar'  # replace with the desired filename to save the downloaded file\n",
        "    response = requests.get(url)\n",
        "\n",
        "    with open(filename, 'wb') as f:\n",
        "        f.write(response.content)\n",
        "\n",
        "    print(f'{filename} downloaded successfully!')\n",
        "  except Excetpion as e:\n",
        "    print(f'Erro: {str(e)}')\n",
        "\n",
        "def run_designite(tag, pasta_testes):\n",
        "  try:\n",
        "    os.environ['TESTES'] = pasta_testes\n",
        "    os.environ['CASSANDRA'] = tag + '/src/java/org/apache/cassandra'\n",
        "    cria_pasta_testes = !mkdir $TESTES\n",
        "    print(cria_pasta_testes)\n",
        "    executa_designite = !java -jar DesigniteJava.jar -i $CASSANDRA -o $TESTES\n",
        "    print(executa_designite)\n",
        "  except Exception as e:\n",
        "    print(f'Erro: {str(e)}')\n",
        "\n",
        "def gera_df_design_smells(pasta_testes, lista):\n",
        "  path_file = pasta_testes + '/' + 'designCodeSmells.csv'\n",
        "  df_ds = pd.read_csv(path_file)\n",
        "  elemento = pasta_testes,df_ds\n",
        "  lista.append(elemento)\n",
        "  return df_ds"
      ],
      "metadata": {
        "id": "9JcHh2pUjBwZ"
      },
      "execution_count": 1,
      "outputs": []
    },
    {
      "cell_type": "markdown",
      "source": [
        "# Análise Designite"
      ],
      "metadata": {
        "id": "WCdMnQMKjIpE"
      }
    },
    {
      "cell_type": "code",
      "source": [
        "import requests\n",
        "\n",
        "url = 'https://www.designite-tools.com/static/download/DJC/DesigniteJava.jar'  # replace with the URL of the file you want to download\n",
        "filename = 'DesigniteJava.jar'  # replace with the desired filename to save the downloaded file\n",
        "response = requests.get(url)\n",
        "\n",
        "with open(filename, 'wb') as f:\n",
        "    f.write(response.content)\n",
        "\n",
        "print(f'{filename} downloaded successfully!')"
      ],
      "metadata": {
        "colab": {
          "base_uri": "https://localhost:8080/"
        },
        "id": "kxqq7fasoVSI",
        "outputId": "d9a3b181-4c51-4d7b-ebdd-83d46786d15b"
      },
      "execution_count": 3,
      "outputs": [
        {
          "output_type": "stream",
          "name": "stdout",
          "text": [
            "DesigniteJava.jar downloaded successfully!\n"
          ]
        }
      ]
    },
    {
      "cell_type": "code",
      "source": [
        "!git clone https://github.com/apache/cassandra.git"
      ],
      "metadata": {
        "colab": {
          "base_uri": "https://localhost:8080/"
        },
        "id": "8SymGi6Hp-i_",
        "outputId": "4c720f1e-aa4c-46ed-96af-5dc47e5980ed"
      },
      "execution_count": 4,
      "outputs": [
        {
          "output_type": "stream",
          "name": "stdout",
          "text": [
            "Cloning into 'cassandra'...\n",
            "remote: Enumerating objects: 384262, done.\u001b[K\n",
            "remote: Counting objects: 100% (19/19), done.\u001b[K\n",
            "remote: Compressing objects: 100% (17/17), done.\u001b[K\n",
            "remote: Total 384262 (delta 4), reused 9 (delta 2), pack-reused 384243\u001b[K\n",
            "Receiving objects: 100% (384262/384262), 384.84 MiB | 23.83 MiB/s, done.\n",
            "Resolving deltas: 100% (223875/223875), done.\n"
          ]
        }
      ]
    },
    {
      "cell_type": "markdown",
      "source": [
        "# Análise da tag 3.0.0"
      ],
      "metadata": {
        "id": "5N7Xn3-AmyYv"
      }
    },
    {
      "cell_type": "code",
      "source": [
        "# Cria uma nova pasta para referenciar apenas os dados do 1o commit\n",
        "commit_tag_300 = get_commit_tag(tag='cassandra-3.0.0')\n",
        "cria_pasta_n_commit(repositorio='cassandra', pasta_n_commit='cassandra_3_0_0')\n",
        "checkout_n_commit('cassandra_3_0_0', commit_tag_300[0])"
      ],
      "metadata": {
        "colab": {
          "base_uri": "https://localhost:8080/"
        },
        "id": "Z6kvDZUdjps4",
        "outputId": "43c0caa4-2795-4af9-8233-10bad3eccb27"
      },
      "execution_count": 6,
      "outputs": [
        {
          "output_type": "stream",
          "name": "stdout",
          "text": [
            "Checkout do repositorio no commit 96f407bce56b98cd824d18e32ee012dbb99a0286 realizado com sucesso!\n"
          ]
        }
      ]
    },
    {
      "cell_type": "code",
      "source": [
        "!java -jar DesigniteJava.jar -i cassandra/src/java/org/apache/cassandra -o cassandra_3_0_0"
      ],
      "metadata": {
        "id": "UIqow7Hep_eb"
      },
      "execution_count": null,
      "outputs": []
    },
    {
      "cell_type": "code",
      "source": [
        "df_design_smells = pd.read_csv('cassandra_3_0_0/designCodeSmells.csv')\n",
        "lista_classes_criticas = ['StorageService', 'DatabaseDescriptor', 'ColumnFamilyStore', 'StorageProxy', 'CompactionManager', 'SSTableReader', 'SelectStatement', 'CassandraDaemon', 'SinglePartitionReadCommand', 'NodeProbe', 'MessagingService', 'Config']\n",
        "pesquisa = df_design_smells['Type Name'].str.contains('|'.join(lista_classes_criticas))\n",
        "df_critical_classes = df_design_smells[pesquisa]\n",
        "df_critical_classes.columns = ['ProjectName', 'PackageName', 'TypeName', 'CodeSmell']\n",
        "df_critical_classes = df_critical_classes.query(\"CodeSmell=='Cyclic-Dependent Modularization' or CodeSmell=='Hub-like Modularization'\")\n",
        "df_analise_designite_critical_classes = df_critical_classes.sort_values(by='TypeName')\n",
        "df_analise_designite_critical_classes.to_csv('cassandra_3_0_0/analise_designite_classes_criticas.csv', index=False)\n",
        "df_design_smells.to_csv('cassandra_3_0_0/analise_designite.csv', index=False)"
      ],
      "metadata": {
        "id": "vhpq_FR1sN9X"
      },
      "execution_count": null,
      "outputs": []
    },
    {
      "cell_type": "markdown",
      "source": [
        "# Análise da tag 3.11.11"
      ],
      "metadata": {
        "id": "y2me-uZUm06N"
      }
    },
    {
      "cell_type": "code",
      "source": [
        "# Cria uma nova pasta para referenciar apenas os dados do 1o commit\n",
        "commit_tag_31111 = get_commit_tag(tag='cassandra-3.11.11')\n",
        "cria_pasta_n_commit(repositorio='cassandra', pasta_n_commit='cassandra_3_11_11')\n",
        "checkout_n_commit('cassandra_3_11_11', commit_tag_31111[0])"
      ],
      "metadata": {
        "colab": {
          "base_uri": "https://localhost:8080/"
        },
        "id": "AKt_5CiHxWfS",
        "outputId": "1570d8f9-a138-40a1-d77d-37bac9da5c07"
      },
      "execution_count": 15,
      "outputs": [
        {
          "output_type": "stream",
          "name": "stdout",
          "text": [
            "Checkout do repositorio no commit 4cafe2288e56e1135d65e76adbcd6c2de9306d6b realizado com sucesso!\n"
          ]
        }
      ]
    },
    {
      "cell_type": "code",
      "source": [
        "!java -jar DesigniteJava.jar -i cassandra/src/java/org/apache/cassandra -o commit_tag_31111"
      ],
      "metadata": {
        "colab": {
          "base_uri": "https://localhost:8080/"
        },
        "id": "ZGE-0LtfvS0n",
        "outputId": "27ba6495-aa28-4a16-c3bb-dc77b7919ac3"
      },
      "execution_count": 16,
      "outputs": [
        {
          "output_type": "stream",
          "name": "stdout",
          "text": [
            "Parsing the source code ...\n",
            "Resolving symbols...\n",
            "Extracting metrics...\n",
            "Extracting code smells...\n",
            "Exception while parsing literal number (during Magic Number detection). For input string: \"c000000000000000\"\n",
            "Exception while parsing literal number (during Magic Number detection). For input string: \"8000000000000000\"\n",
            "Exception while parsing literal number (during Magic Number detection). For input string: \"ff00000000000000\"\n",
            "Exception while parsing literal number (during Magic Number detection). For input string: \"8000000000000000\"\n",
            "Exception while parsing literal number (during Magic Number detection). For input string: \"ff00000000000000\"\n",
            "Exception while parsing literal number (during Magic Number detection). For input string: \"c6a4a7935bd1e995\"\n",
            "Exception while parsing literal number (during Magic Number detection). For input string: \"ff51afd7ed558ccd\"\n",
            "Exception while parsing literal number (during Magic Number detection). For input string: \"c4ceb9fe1a85ec53\"\n",
            "Exception while parsing literal number (during Magic Number detection). For input string: \"87c37b91114253d5\"\n",
            "Exception while parsing literal number (during Magic Number detection). For input string: \"ffffffffffffffff\"\n",
            "Exception while parsing literal number (during Magic Number detection). For input string: \"9cb4b2f8129337db\"\n",
            "Exception while parsing literal number (during Magic Number detection). For input string: \"a98409e882ce4d7d\"\n",
            "Exception while parsing literal number (during Magic Number detection). For input string: \"a81e14edd9de2c7f\"\n",
            "Exception while parsing literal number (during Magic Number detection). For input string: \"cccccccccccccccd\"\n",
            "Exception while parsing literal number (during Magic Number detection). For input string: \"cccccccccccccccd\"\n",
            "Exception while parsing literal number (during Magic Number detection). For input string: \"8000000000000000\"\n",
            "Exception while parsing literal number (during Magic Number detection). For input string: \"8000000000000000\"\n",
            "Exception while parsing literal number (during Magic Number detection). For input string: \"ffffffffffffffff\"\n",
            "Exception while parsing literal number (during Magic Number detection). For input string: \"ffffffffffffffff\"\n",
            "Exception while parsing literal number (during Magic Number detection). For input string: \"ffffffffffffffff\"\n",
            "Exception while parsing literal number (during Magic Number detection). For input string: \"ffffffffffffffff\"\n",
            "Exception while parsing literal number (during Magic Number detection). For input string: \"ffffffffffff0000\"\n",
            "Exception while parsing literal number (during Magic Number detection). For input string: \"8080808080808080\"\n",
            "Exception while parsing literal number (during Magic Number detection). For input string: \"8080808080808080\"\n",
            "Exception while parsing literal number (during Magic Number detection). For input string: \"ffffffff00000000\"\n",
            "Exception while parsing literal number (during Magic Number detection). For input string: \"ffffffff00000000\"\n",
            "Done.\n"
          ]
        }
      ]
    },
    {
      "cell_type": "code",
      "source": [
        "df_design_smells = pd.read_csv('commit_tag_31111/designCodeSmells.csv')\n",
        "lista_classes_criticas = ['StorageService', 'DatabaseDescriptor', 'ColumnFamilyStore', 'StorageProxy', 'CompactionManager', 'SSTableReader', 'SelectStatement', 'CassandraDaemon', 'SinglePartitionReadCommand', 'NodeProbe', 'MessagingService', 'Config']\n",
        "pesquisa = df_design_smells['Type Name'].str.contains('|'.join(lista_classes_criticas))\n",
        "df_critical_classes = df_design_smells[pesquisa]\n",
        "df_critical_classes.columns = ['ProjectName', 'PackageName', 'TypeName', 'CodeSmell']\n",
        "df_critical_classes = df_critical_classes.query(\"CodeSmell=='Cyclic-Dependent Modularization' or CodeSmell=='Hub-like Modularization'\")\n",
        "df_analise_designite_critical_classes = df_critical_classes.sort_values(by='TypeName')\n",
        "df_analise_designite_critical_classes.to_csv('commit_tag_31111/analise_designite_classes_criticas.csv', index=False)\n",
        "df_design_smells.to_csv('commit_tag_31111/analise_designite.csv', index=False)"
      ],
      "metadata": {
        "id": "PQgFAJmZiEt5"
      },
      "execution_count": 18,
      "outputs": []
    }
  ]
}
{
  "nbformat": 4,
  "nbformat_minor": 0,
  "metadata": {
    "colab": {
      "provenance": [],
      "authorship_tag": "ABX9TyOJoPHr1aD4ZLjHZqHhTsif",
      "include_colab_link": true
    },
    "kernelspec": {
      "name": "python3",
      "display_name": "Python 3"
    },
    "language_info": {
      "name": "python"
    }
  },
  "cells": [
    {
      "cell_type": "markdown",
      "metadata": {
        "id": "view-in-github",
        "colab_type": "text"
      },
      "source": [
        "<a href=\"https://colab.research.google.com/github/armandossrecife/teste/blob/main/extrai_info_audio_e_video.ipynb\" target=\"_parent\"><img src=\"https://colab.research.google.com/assets/colab-badge.svg\" alt=\"Open In Colab\"/></a>"
      ]
    },
    {
      "cell_type": "code",
      "source": [
        "!pip3 install eyeD3"
      ],
      "metadata": {
        "colab": {
          "base_uri": "https://localhost:8080/"
        },
        "id": "OdxlyKJPvmPg",
        "outputId": "e3312d4b-c297-481a-84ca-60182595917e"
      },
      "execution_count": 1,
      "outputs": [
        {
          "output_type": "stream",
          "name": "stdout",
          "text": [
            "Collecting eyeD3\n",
            "  Downloading eyed3-0.9.7-py3-none-any.whl (246 kB)\n",
            "\u001b[2K     \u001b[90m━━━━━━━━━━━━━━━━━━━━━━━━━━━━━━━━━━━━━━━━\u001b[0m \u001b[32m246.1/246.1 kB\u001b[0m \u001b[31m2.5 MB/s\u001b[0m eta \u001b[36m0:00:00\u001b[0m\n",
            "\u001b[?25hCollecting coverage[toml]<6.0.0,>=5.3.1 (from eyeD3)\n",
            "  Downloading coverage-5.5-cp310-cp310-manylinux1_x86_64.whl (238 kB)\n",
            "\u001b[2K     \u001b[90m━━━━━━━━━━━━━━━━━━━━━━━━━━━━━━━━━━━━━━━━\u001b[0m \u001b[32m239.0/239.0 kB\u001b[0m \u001b[31m22.1 MB/s\u001b[0m eta \u001b[36m0:00:00\u001b[0m\n",
            "\u001b[?25hCollecting deprecation<3.0.0,>=2.1.0 (from eyeD3)\n",
            "  Downloading deprecation-2.1.0-py2.py3-none-any.whl (11 kB)\n",
            "Collecting filetype<2.0.0,>=1.0.7 (from eyeD3)\n",
            "  Downloading filetype-1.2.0-py2.py3-none-any.whl (19 kB)\n",
            "Requirement already satisfied: toml in /usr/local/lib/python3.10/dist-packages (from coverage[toml]<6.0.0,>=5.3.1->eyeD3) (0.10.2)\n",
            "Requirement already satisfied: packaging in /usr/local/lib/python3.10/dist-packages (from deprecation<3.0.0,>=2.1.0->eyeD3) (23.2)\n",
            "Installing collected packages: filetype, deprecation, coverage, eyeD3\n",
            "Successfully installed coverage-5.5 deprecation-2.1.0 eyeD3-0.9.7 filetype-1.2.0\n"
          ]
        }
      ]
    },
    {
      "cell_type": "code",
      "source": [
        "!apt-get install ffmpeg libavcodec-extra > /dev/null"
      ],
      "metadata": {
        "id": "NAdCFNO8xhtU"
      },
      "execution_count": 6,
      "outputs": []
    },
    {
      "cell_type": "code",
      "source": [
        "!pip3 install ffmpeg-python"
      ],
      "metadata": {
        "colab": {
          "base_uri": "https://localhost:8080/"
        },
        "id": "DT5aMsKLzvaV",
        "outputId": "ce167b99-7329-468b-e86e-5a1260d89935"
      },
      "execution_count": 13,
      "outputs": [
        {
          "output_type": "stream",
          "name": "stdout",
          "text": [
            "Collecting ffmpeg-python\n",
            "  Downloading ffmpeg_python-0.2.0-py3-none-any.whl (25 kB)\n",
            "Requirement already satisfied: future in /usr/local/lib/python3.10/dist-packages (from ffmpeg-python) (0.18.3)\n",
            "Installing collected packages: ffmpeg-python\n",
            "Successfully installed ffmpeg-python-0.2.0\n"
          ]
        }
      ]
    },
    {
      "cell_type": "code",
      "execution_count": 19,
      "metadata": {
        "id": "jP3FllS8vXlc"
      },
      "outputs": [],
      "source": [
        "import os\n",
        "import datetime\n",
        "import subprocess\n",
        "import json\n",
        "import ffmpeg\n",
        "\n",
        "def extract_audio_info(file_path):\n",
        "  \"\"\"\n",
        "  Extracts audio information using FFmpeg.\n",
        "\n",
        "  Args:\n",
        "      file_path (str): Path to the audio file.\n",
        "\n",
        "  Returns:\n",
        "      dict: Dictionary containing extracted information.\n",
        "  \"\"\"\n",
        "  info = {}\n",
        "  command = [\"ffprobe\", \"-v\", \"quiet\", \"-print_format\", \"json\", \"-show_format\", \"-show_streams\", file_path]\n",
        "  try:\n",
        "    output = subprocess.check_output(command, encoding=\"utf-8\")\n",
        "    data = json.loads(output)\n",
        "    format = data[\"format\"]\n",
        "    info[\"Nome do arquivo\"] = os.path.basename(file_path)\n",
        "    info[\"Tamanho do arquivo\"] = os.path.getsize(file_path)\n",
        "    info[\"Data de upload\"] = datetime.datetime.now().strftime(\"%Y-%m-%d %H:%M:%S\")\n",
        "    info[\"Tipo MIME\"] = format.get(\"format_name\")\n",
        "\n",
        "    # Extract duration from streams\n",
        "    for stream in data[\"streams\"]:\n",
        "      if stream[\"codec_type\"] == \"audio\":\n",
        "        duration = stream.get(\"duration\", \"N/A\")\n",
        "        info[\"Duração\"] = f\"{float(duration):.2f} segundos\"\n",
        "        # Extract additional audio information\n",
        "        info[\"Taxa de bits\"] = f\"{stream.get('bit_rate', 'N/A')} kbps\"\n",
        "        info[\"Taxa de amostragem\"] = f\"{stream.get('sample_rate', 'N/A')} Hz\"\n",
        "        info[\"Canais\"] = stream.get(\"channels\", 'N/A')\n",
        "        break\n",
        "\n",
        "  except (subprocess.CalledProcessError, json.JSONDecodeError) as e:\n",
        "    print(f\"Erro ao extrair informações: {e}\")\n",
        "\n",
        "  return info\n",
        "\n",
        "def extract_video_info(file_path):\n",
        "  \"\"\"\n",
        "  Extrai informações de um arquivo de vídeo usando FFmpeg.\n",
        "\n",
        "  Args:\n",
        "      file_path (str): Caminho para o arquivo de vídeo.\n",
        "\n",
        "  Returns:\n",
        "      dict: Dicionário com as informações do arquivo de vídeo.\n",
        "  \"\"\"\n",
        "  info = {}\n",
        "  probe = ffmpeg.probe(file_path)\n",
        "\n",
        "  # Extrair informações básicas\n",
        "  info[\"Nome do arquivo\"] = os.path.basename(file_path)\n",
        "  info[\"Tamanho do arquivo\"] = os.path.getsize(file_path)\n",
        "  info[\"Data de upload\"] = datetime.datetime.now().strftime(\"%Y-%m-%d %H:%M:%S\")\n",
        "  info[\"Tipo MIME\"] = probe.get(\"format\").get(\"mime_type\")\n",
        "\n",
        "  # Extract video stream\n",
        "  video_stream = next((stream for stream in probe[\"streams\"] if stream[\"codec_type\"] == \"video\"), None)\n",
        "\n",
        "  # Extract video information (if stream is found)\n",
        "  if video_stream is not None:\n",
        "    # Convert duration to float before formatting\n",
        "    duration_in_seconds = float(video_stream['duration'])\n",
        "    info[\"Duração\"] = f\"{duration_in_seconds:.2f} segundos\"\n",
        "\n",
        "    info[\"Resolução\"] = f\"{video_stream['width']}x{video_stream['height']}\"\n",
        "    info[\"Taxa de quadros\"] = f\"{video_stream['r_frame_rate']} fps\"\n",
        "    info[\"Codec de vídeo\"] = video_stream[\"codec_name\"]\n",
        "\n",
        "  # Extrair informações de áudio\n",
        "  audio_stream = next((stream for stream in probe[\"streams\"] if stream[\"codec_type\"] == \"video\"), None)\n",
        "  if audio_stream is not None:\n",
        "    info[\"Codec de áudio\"] = audio_stream.get(\"codec_name\")\n",
        "\n",
        "  # Extrair taxa de bits\n",
        "  info[\"Taxa de bits\"] = f\"{probe.get('bit_rate')} kbps\"\n",
        "\n",
        "  return info"
      ]
    },
    {
      "cell_type": "code",
      "source": [
        "# Caminho para o arquivo de áudio\n",
        "file_audio_path = \"/content/Kalimba.mp3\"\n",
        "\n",
        "# Extrair informações do arquivo\n",
        "audio_info = extract_audio_info(file_audio_path)\n",
        "\n",
        "# Imprimir informações do arquivo\n",
        "for key, value in audio_info.items():\n",
        "  print(f\"{key}: {value}\")"
      ],
      "metadata": {
        "colab": {
          "base_uri": "https://localhost:8080/"
        },
        "id": "t94GDCA3vbjz",
        "outputId": "fd92bd50-9ba2-46c6-b61d-57fe59de3778"
      },
      "execution_count": 20,
      "outputs": [
        {
          "output_type": "stream",
          "name": "stdout",
          "text": [
            "Nome do arquivo: Kalimba.mp3\n",
            "Tamanho do arquivo: 8414449\n",
            "Data de upload: 2024-02-29 03:11:22\n",
            "Tipo MIME: mp3\n",
            "Duração: 348.06 segundos\n",
            "Taxa de bits: 192000 kbps\n",
            "Taxa de amostragem: 44100 Hz\n",
            "Canais: 2\n"
          ]
        }
      ]
    },
    {
      "cell_type": "code",
      "source": [
        "file_video_path = \"/content/mycat.mp4\"\n",
        "video_info = extract_video_info(file_video_path)\n",
        "for key, value in video_info.items():\n",
        "  print(f\"{key}: {value}\")"
      ],
      "metadata": {
        "colab": {
          "base_uri": "https://localhost:8080/"
        },
        "id": "FBvstAqB2G-Y",
        "outputId": "00a868e0-fee6-4c1e-faba-1ade7673a6c8"
      },
      "execution_count": 21,
      "outputs": [
        {
          "output_type": "stream",
          "name": "stdout",
          "text": [
            "Nome do arquivo: mycat.mp4\n",
            "Tamanho do arquivo: 10652213\n",
            "Data de upload: 2024-02-29 03:11:30\n",
            "Tipo MIME: None\n",
            "Duração: 54.87 segundos\n",
            "Resolução: 480x848\n",
            "Taxa de quadros: 30/1 fps\n",
            "Codec de vídeo: h264\n",
            "Codec de áudio: h264\n",
            "Taxa de bits: None kbps\n"
          ]
        }
      ]
    }
  ]
}
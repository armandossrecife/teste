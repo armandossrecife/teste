{
  "nbformat": 4,
  "nbformat_minor": 0,
  "metadata": {
    "colab": {
      "provenance": [],
      "authorship_tag": "ABX9TyMaRPMmrlrmXDqZA8p89Pnb",
      "include_colab_link": true
    },
    "kernelspec": {
      "name": "python3",
      "display_name": "Python 3"
    },
    "language_info": {
      "name": "python"
    }
  },
  "cells": [
    {
      "cell_type": "markdown",
      "metadata": {
        "id": "view-in-github",
        "colab_type": "text"
      },
      "source": [
        "<a href=\"https://colab.research.google.com/github/armandossrecife/teste/blob/main/sorteia_questoes_matriculas.ipynb\" target=\"_parent\"><img src=\"https://colab.research.google.com/assets/colab-badge.svg\" alt=\"Open In Colab\"/></a>"
      ]
    },
    {
      "cell_type": "code",
      "execution_count": 1,
      "metadata": {
        "colab": {
          "base_uri": "https://localhost:8080/"
        },
        "id": "VLYDHahYyhms",
        "outputId": "2c384dd4-5106-4981-b3f8-a2115fc76230"
      },
      "outputs": [
        {
          "output_type": "stream",
          "name": "stdout",
          "text": [
            "Questão sorteada: 2a\n",
            "Matrícula sorteada: 20239046116\n",
            "--------------------\n",
            "Questão sorteada: 6a\n",
            "Matrícula sorteada: 20249021961\n",
            "--------------------\n",
            "Questão sorteada: 4a\n",
            "Matrícula sorteada: 20249021433\n",
            "--------------------\n",
            "Questão sorteada: 2a\n",
            "Matrícula sorteada: 20249011704\n",
            "--------------------\n",
            "Questão sorteada: 5a\n",
            "Matrícula sorteada: 20249021765\n",
            "--------------------\n",
            "Questão sorteada: 6a\n",
            "Matrícula sorteada: 20249021818\n",
            "--------------------\n",
            "Questão sorteada: 2b\n",
            "Matrícula sorteada: 20249021818\n",
            "--------------------\n",
            "Questão sorteada: 5a\n",
            "Matrícula sorteada: 20249012194\n",
            "--------------------\n",
            "Questão sorteada: 2b\n",
            "Matrícula sorteada: 20249022000\n",
            "--------------------\n",
            "Questão sorteada: 2a\n",
            "Matrícula sorteada: 20249022010\n",
            "--------------------\n",
            "Questão sorteada: 1d\n",
            "Matrícula sorteada: 20249012194\n",
            "--------------------\n",
            "Questão sorteada: 1b\n",
            "Matrícula sorteada: 20249011704\n",
            "--------------------\n",
            "Questão sorteada: 3a\n",
            "Matrícula sorteada: 20249023385\n",
            "--------------------\n",
            "Questão sorteada: 7a\n",
            "Matrícula sorteada: 20249023278\n",
            "--------------------\n",
            "Questão sorteada: 2a\n",
            "Matrícula sorteada: 20249011769\n",
            "--------------------\n"
          ]
        }
      ],
      "source": [
        "import random\n",
        "\n",
        "# Listas de exercícios\n",
        "lista_exercicios = ['1a', '2a', '3a', '4a', '5a', '6a', '7a', '8a', '9a', '1b', '2b', '3b', '1c', '1d']\n",
        "\n",
        "# Lista de matrículas\n",
        "lista_matriculas = ['20249023385',\n",
        "'20249021433',\n",
        "'20249012229',\n",
        "'20249021818',\n",
        "'20239035515',\n",
        "'20249022000',\n",
        "'20249018456',\n",
        "'20249021264',\n",
        "'20249020884',\n",
        "'20249022010',\n",
        "'20229052844',\n",
        "'20249013226',\n",
        "'20249011704',\n",
        "'20239057110',\n",
        "'20249023278',\n",
        "'20249021961',\n",
        "'20249012194',\n",
        "'20249021970',\n",
        "'20249020857',\n",
        "'20249012050',\n",
        "'20249011769',\n",
        "'20249021139',\n",
        "'20239049987',\n",
        "'20239052276',\n",
        "'20249012336',\n",
        "'20219042129',\n",
        "'20249021765',\n",
        "'20249011553',\n",
        "'20239046116',\n",
        "'20249021999',\n",
        "'20249023170']\n",
        "\n",
        "def sortear_questao_e_matricula():\n",
        "  \"\"\"Sorteia aleatoriamente uma questão e uma matrícula.\n",
        "\n",
        "  Returns:\n",
        "    Uma tupla contendo a questão sorteada e a matrícula sorteada.\n",
        "  \"\"\"\n",
        "\n",
        "  questao_sorteada = random.choice(lista_exercicios)\n",
        "  matricula_sorteada = random.choice(lista_matriculas)\n",
        "\n",
        "  return questao_sorteada, matricula_sorteada\n",
        "\n",
        "# Exemplo de uso\n",
        "for _ in range(15):  # Realiza 15 rodadas de sorteio\n",
        "  questao, matricula = sortear_questao_e_matricula()\n",
        "  print(f\"Questão sorteada: {questao}\")\n",
        "  print(f\"Matrícula sorteada: {matricula}\")\n",
        "  print(\"-\" * 20)"
      ]
    },
    {
      "cell_type": "code",
      "source": [],
      "metadata": {
        "id": "d7zotXFcythD"
      },
      "execution_count": null,
      "outputs": []
    }
  ]
}
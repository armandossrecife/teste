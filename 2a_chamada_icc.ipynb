{
  "nbformat": 4,
  "nbformat_minor": 0,
  "metadata": {
    "colab": {
      "provenance": [],
      "authorship_tag": "ABX9TyMgZ0tUt5Qd+1sMon7VyCeh",
      "include_colab_link": true
    },
    "kernelspec": {
      "name": "python3",
      "display_name": "Python 3"
    },
    "language_info": {
      "name": "python"
    }
  },
  "cells": [
    {
      "cell_type": "markdown",
      "metadata": {
        "id": "view-in-github",
        "colab_type": "text"
      },
      "source": [
        "<a href=\"https://colab.research.google.com/github/armandossrecife/teste/blob/main/2a_chamada_icc.ipynb\" target=\"_parent\"><img src=\"https://colab.research.google.com/assets/colab-badge.svg\" alt=\"Open In Colab\"/></a>"
      ]
    },
    {
      "cell_type": "markdown",
      "source": [
        "# Ler alunos matriculados e salva em uma lista"
      ],
      "metadata": {
        "id": "c_-LOxZ99MJV"
      }
    },
    {
      "cell_type": "code",
      "execution_count": 1,
      "metadata": {
        "id": "z5io2TXzSPrX"
      },
      "outputs": [],
      "source": [
        "#!touch alunos_matriculados.txt\n",
        "#!touch alunos_prova1.txt"
      ]
    },
    {
      "cell_type": "code",
      "source": [
        "!wget https://raw.githubusercontent.com/armandossrecife/teste/main/alunos_matriculados.txt"
      ],
      "metadata": {
        "colab": {
          "base_uri": "https://localhost:8080/"
        },
        "id": "v9ozpOm9IHzq",
        "outputId": "ceb4d4ea-6150-4ce8-e8b8-7c2b631defdc"
      },
      "execution_count": 20,
      "outputs": [
        {
          "output_type": "stream",
          "name": "stdout",
          "text": [
            "--2023-01-11 14:00:11--  https://raw.githubusercontent.com/armandossrecife/teste/main/alunos_matriculados.txt\n",
            "Resolving raw.githubusercontent.com (raw.githubusercontent.com)... 185.199.111.133, 185.199.110.133, 185.199.108.133, ...\n",
            "Connecting to raw.githubusercontent.com (raw.githubusercontent.com)|185.199.111.133|:443... connected.\n",
            "HTTP request sent, awaiting response... 200 OK\n",
            "Length: 621 [text/plain]\n",
            "Saving to: ‘alunos_matriculados.txt.2’\n",
            "\n",
            "alunos_matriculados 100%[===================>]     621  --.-KB/s    in 0s      \n",
            "\n",
            "2023-01-11 14:00:11 (22.6 MB/s) - ‘alunos_matriculados.txt.2’ saved [621/621]\n",
            "\n"
          ]
        }
      ]
    },
    {
      "cell_type": "code",
      "source": [
        "!wget https://raw.githubusercontent.com/armandossrecife/teste/main/alunos_prova1.txt"
      ],
      "metadata": {
        "colab": {
          "base_uri": "https://localhost:8080/"
        },
        "id": "OOKkhdxKIKir",
        "outputId": "bb9cfd33-bfbb-4be3-c1fc-f5730755927c"
      },
      "execution_count": 19,
      "outputs": [
        {
          "output_type": "stream",
          "name": "stdout",
          "text": [
            "--2023-01-11 13:59:41--  https://raw.githubusercontent.com/armandossrecife/teste/main/alunos_prova1.txt\n",
            "Resolving raw.githubusercontent.com (raw.githubusercontent.com)... 185.199.108.133, 185.199.109.133, 185.199.110.133, ...\n",
            "Connecting to raw.githubusercontent.com (raw.githubusercontent.com)|185.199.108.133|:443... connected.\n",
            "HTTP request sent, awaiting response... 200 OK\n",
            "Length: 318 [text/plain]\n",
            "Saving to: ‘alunos_prova1.txt.1’\n",
            "\n",
            "alunos_prova1.txt.1 100%[===================>]     318  --.-KB/s    in 0s      \n",
            "\n",
            "2023-01-11 13:59:42 (10.2 MB/s) - ‘alunos_prova1.txt.1’ saved [318/318]\n",
            "\n"
          ]
        }
      ]
    },
    {
      "cell_type": "code",
      "source": [
        "alunos_matriculados = open('alunos_matriculados.txt', 'r')\n",
        "for linha in alunos_matriculados:\n",
        "  print(linha, end='')\n",
        "alunos_matriculados.close()"
      ],
      "metadata": {
        "colab": {
          "base_uri": "https://localhost:8080/"
        },
        "id": "CI1HMDYH8LgE",
        "outputId": "a4ee2673-7096-407d-8487-358e1ff24093"
      },
      "execution_count": 21,
      "outputs": [
        {
          "output_type": "stream",
          "name": "stdout",
          "text": [
            "ANTONIO CARLOS DE FREITAS DANTAS\n",
            "CLERISTON DE CASTRO RAMOS\n",
            "DANILO DE OLIVEIRA SILVA\n",
            "DEIVID DE QUEIROZ BRANDAO\n",
            "EDMUNDO SOARES DE CARVALHO JUNIOR\n",
            "EUCARIO MAGALHAES PEREIRA JUNIOR\n",
            "FABRICIO ARAUJO DOS SANTOS NASCIMENTO\n",
            "GABRIELLY JHASMIN VIEIRA DA SILVA\n",
            "GABRIELLY LAIZ LOPES DA COSTA SILVA\n",
            "JHON WIGLLAFFY PORTELA VIEIRA\n",
            "JOAO HUMBERTO BARBOSA DA MOTA FILHO\n",
            "JOAO PAULO ELPIDIO RODRIGUES DO NASCIMENTO\n",
            "KAIQUE SAMUEL ALENCAR TORRES DANTAS\n",
            "LUCAS COSTA RODRIGUES\n",
            "MARCOS ROBERTO LIMA DE OLIVEIRA\n",
            "MARIANA RIBEIRO ZACARIAS DE SOUSA\n",
            "PALOMA CRISTINA SOUSA COSTA\n",
            "SAULO GUERRA AGUIAR BARRETO\n",
            "SAULO LEMOS DE OLIVEIRA\n",
            "VALDENICE LIMA DA SILVA"
          ]
        }
      ]
    },
    {
      "cell_type": "code",
      "source": [
        "lista_alunos_matriculados = []\n",
        "\n",
        "alunos_matriculados = open('alunos_matriculados.txt', 'r')\n",
        "for linha in alunos_matriculados:\n",
        "  linha = linha.strip()\n",
        "  lista_alunos_matriculados.append(linha)\n",
        "alunos_matriculados.close()\n",
        "print(lista_alunos_matriculados)"
      ],
      "metadata": {
        "colab": {
          "base_uri": "https://localhost:8080/"
        },
        "id": "rMJL34Xe8OxG",
        "outputId": "ebfbf44a-36a2-4792-aa7d-0ec592ea955e"
      },
      "execution_count": 22,
      "outputs": [
        {
          "output_type": "stream",
          "name": "stdout",
          "text": [
            "['ANTONIO CARLOS DE FREITAS DANTAS', 'CLERISTON DE CASTRO RAMOS', 'DANILO DE OLIVEIRA SILVA', 'DEIVID DE QUEIROZ BRANDAO', 'EDMUNDO SOARES DE CARVALHO JUNIOR', 'EUCARIO MAGALHAES PEREIRA JUNIOR', 'FABRICIO ARAUJO DOS SANTOS NASCIMENTO', 'GABRIELLY JHASMIN VIEIRA DA SILVA', 'GABRIELLY LAIZ LOPES DA COSTA SILVA', 'JHON WIGLLAFFY PORTELA VIEIRA', 'JOAO HUMBERTO BARBOSA DA MOTA FILHO', 'JOAO PAULO ELPIDIO RODRIGUES DO NASCIMENTO', 'KAIQUE SAMUEL ALENCAR TORRES DANTAS', 'LUCAS COSTA RODRIGUES', 'MARCOS ROBERTO LIMA DE OLIVEIRA', 'MARIANA RIBEIRO ZACARIAS DE SOUSA', 'PALOMA CRISTINA SOUSA COSTA', 'SAULO GUERRA AGUIAR BARRETO', 'SAULO LEMOS DE OLIVEIRA', 'VALDENICE LIMA DA SILVA']\n"
          ]
        }
      ]
    },
    {
      "cell_type": "code",
      "source": [
        "print(f'Alunos matriculados: {len(lista_alunos_matriculados)}: {lista_alunos_matriculados}')"
      ],
      "metadata": {
        "colab": {
          "base_uri": "https://localhost:8080/"
        },
        "id": "LyBmYbkN-TEI",
        "outputId": "0371c72e-57d0-4e96-aeb2-70c18477f27e"
      },
      "execution_count": 23,
      "outputs": [
        {
          "output_type": "stream",
          "name": "stdout",
          "text": [
            "Alunos matriculados: 20: ['ANTONIO CARLOS DE FREITAS DANTAS', 'CLERISTON DE CASTRO RAMOS', 'DANILO DE OLIVEIRA SILVA', 'DEIVID DE QUEIROZ BRANDAO', 'EDMUNDO SOARES DE CARVALHO JUNIOR', 'EUCARIO MAGALHAES PEREIRA JUNIOR', 'FABRICIO ARAUJO DOS SANTOS NASCIMENTO', 'GABRIELLY JHASMIN VIEIRA DA SILVA', 'GABRIELLY LAIZ LOPES DA COSTA SILVA', 'JHON WIGLLAFFY PORTELA VIEIRA', 'JOAO HUMBERTO BARBOSA DA MOTA FILHO', 'JOAO PAULO ELPIDIO RODRIGUES DO NASCIMENTO', 'KAIQUE SAMUEL ALENCAR TORRES DANTAS', 'LUCAS COSTA RODRIGUES', 'MARCOS ROBERTO LIMA DE OLIVEIRA', 'MARIANA RIBEIRO ZACARIAS DE SOUSA', 'PALOMA CRISTINA SOUSA COSTA', 'SAULO GUERRA AGUIAR BARRETO', 'SAULO LEMOS DE OLIVEIRA', 'VALDENICE LIMA DA SILVA']\n"
          ]
        }
      ]
    },
    {
      "cell_type": "markdown",
      "source": [
        "# Ler alunos que fizeram a 1a prova"
      ],
      "metadata": {
        "id": "1jMu2c9l9f69"
      }
    },
    {
      "cell_type": "code",
      "source": [
        "alunos_prova_1 = open('alunos_prova1.txt', 'r')\n",
        "for linha in alunos_prova_1:\n",
        "  print(linha, end=\"\")\n",
        "alunos_prova_1.close()"
      ],
      "metadata": {
        "colab": {
          "base_uri": "https://localhost:8080/"
        },
        "id": "cvFylXHq9BXb",
        "outputId": "314e8ec5-a794-41fa-c397-c62a021eb66a"
      },
      "execution_count": 24,
      "outputs": [
        {
          "output_type": "stream",
          "name": "stdout",
          "text": [
            "DANILO DE OLIVEIRA SILVA\t\n",
            "EDMUNDO SOARES DE CARVALHO JUNIOR\n",
            "FABRICIO ARAUJO DOS SANTOS NASCIMENTO\n",
            "GABRIELLY JHASMIN VIEIRA DA SILVA\n",
            "GABRIELLY LAIZ LOPES DA COSTA SILVA\n",
            "JOAO HUMBERTO BARBOSA DA MOTA FILHO\n",
            "KAIQUE SAMUEL ALENCAR TORRES DANTAS\n",
            "LUCAS COSTA RODRIGUES\n",
            "PALOMA CRISTINA SOUSA COSTA\t\n",
            "SAULO GUERRA AGUIAR BARRETO"
          ]
        }
      ]
    },
    {
      "cell_type": "code",
      "source": [
        "lista_prova_1 = []\n",
        "alunos_prova_1 = open('alunos_prova1.txt', 'r')\n",
        "for linha in alunos_prova_1:\n",
        "  linha = linha.strip()\n",
        "  lista_prova_1.append(linha)\n",
        "alunos_prova_1.close()\n",
        "print(f'Qtd: {len(lista_prova_1)}: {lista_prova_1}')"
      ],
      "metadata": {
        "colab": {
          "base_uri": "https://localhost:8080/"
        },
        "id": "MklDiZ3Z9uMI",
        "outputId": "17b79338-82fe-49e6-b074-8ef876685909"
      },
      "execution_count": 25,
      "outputs": [
        {
          "output_type": "stream",
          "name": "stdout",
          "text": [
            "Qtd: 10: ['DANILO DE OLIVEIRA SILVA', 'EDMUNDO SOARES DE CARVALHO JUNIOR', 'FABRICIO ARAUJO DOS SANTOS NASCIMENTO', 'GABRIELLY JHASMIN VIEIRA DA SILVA', 'GABRIELLY LAIZ LOPES DA COSTA SILVA', 'JOAO HUMBERTO BARBOSA DA MOTA FILHO', 'KAIQUE SAMUEL ALENCAR TORRES DANTAS', 'LUCAS COSTA RODRIGUES', 'PALOMA CRISTINA SOUSA COSTA', 'SAULO GUERRA AGUIAR BARRETO']\n"
          ]
        }
      ]
    },
    {
      "cell_type": "markdown",
      "source": [
        "# Alunos pendentes com a 1a. prova: "
      ],
      "metadata": {
        "id": "1XMtapcx-gaV"
      }
    },
    {
      "cell_type": "code",
      "source": [
        "lista_alunos_pendentes = []\n",
        "\n",
        "for aluno in lista_alunos_matriculados: \n",
        "  if aluno not in lista_prova_1:\n",
        "    lista_alunos_pendentes.append(aluno)\n",
        "\n",
        "print(lista_alunos_pendentes)"
      ],
      "metadata": {
        "colab": {
          "base_uri": "https://localhost:8080/"
        },
        "id": "AU9t8p69-DuQ",
        "outputId": "4da7ff0a-3b37-4aac-f037-4ff9a73d7083"
      },
      "execution_count": 26,
      "outputs": [
        {
          "output_type": "stream",
          "name": "stdout",
          "text": [
            "['ANTONIO CARLOS DE FREITAS DANTAS', 'CLERISTON DE CASTRO RAMOS', 'DEIVID DE QUEIROZ BRANDAO', 'EUCARIO MAGALHAES PEREIRA JUNIOR', 'JHON WIGLLAFFY PORTELA VIEIRA', 'JOAO PAULO ELPIDIO RODRIGUES DO NASCIMENTO', 'MARCOS ROBERTO LIMA DE OLIVEIRA', 'MARIANA RIBEIRO ZACARIAS DE SOUSA', 'SAULO LEMOS DE OLIVEIRA', 'VALDENICE LIMA DA SILVA']\n"
          ]
        }
      ]
    },
    {
      "cell_type": "code",
      "source": [
        "print(f'Existem {len(lista_alunos_pendentes)} alunos que NÃO fizeram a 1a prova: {lista_alunos_pendentes}')"
      ],
      "metadata": {
        "colab": {
          "base_uri": "https://localhost:8080/"
        },
        "id": "vPn1QD-t_DkS",
        "outputId": "6524cef7-b7ac-41b4-f5f2-67d31204e053"
      },
      "execution_count": 27,
      "outputs": [
        {
          "output_type": "stream",
          "name": "stdout",
          "text": [
            "Existem 10 alunos que NÃO fizeram a 1a prova: ['ANTONIO CARLOS DE FREITAS DANTAS', 'CLERISTON DE CASTRO RAMOS', 'DEIVID DE QUEIROZ BRANDAO', 'EUCARIO MAGALHAES PEREIRA JUNIOR', 'JHON WIGLLAFFY PORTELA VIEIRA', 'JOAO PAULO ELPIDIO RODRIGUES DO NASCIMENTO', 'MARCOS ROBERTO LIMA DE OLIVEIRA', 'MARIANA RIBEIRO ZACARIAS DE SOUSA', 'SAULO LEMOS DE OLIVEIRA', 'VALDENICE LIMA DA SILVA']\n"
          ]
        }
      ]
    }
  ]
}
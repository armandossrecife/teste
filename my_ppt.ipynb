{
  "nbformat": 4,
  "nbformat_minor": 0,
  "metadata": {
    "colab": {
      "provenance": [],
      "authorship_tag": "ABX9TyNm6VgtqvzwTehQRjrUgls5",
      "include_colab_link": true
    },
    "kernelspec": {
      "name": "python3",
      "display_name": "Python 3"
    },
    "language_info": {
      "name": "python"
    }
  },
  "cells": [
    {
      "cell_type": "markdown",
      "metadata": {
        "id": "view-in-github",
        "colab_type": "text"
      },
      "source": [
        "<a href=\"https://colab.research.google.com/github/armandossrecife/teste/blob/main/my_ppt.ipynb\" target=\"_parent\"><img src=\"https://colab.research.google.com/assets/colab-badge.svg\" alt=\"Open In Colab\"/></a>"
      ]
    },
    {
      "cell_type": "code",
      "source": [
        "!pip install python-pptx"
      ],
      "metadata": {
        "colab": {
          "base_uri": "https://localhost:8080/"
        },
        "id": "OZfGzypvCzuP",
        "outputId": "1704f6dc-cd55-48eb-ff43-304fdf3a78a5"
      },
      "execution_count": 1,
      "outputs": [
        {
          "output_type": "stream",
          "name": "stdout",
          "text": [
            "Looking in indexes: https://pypi.org/simple, https://us-python.pkg.dev/colab-wheels/public/simple/\n",
            "Collecting python-pptx\n",
            "  Downloading python-pptx-0.6.21.tar.gz (10.1 MB)\n",
            "\u001b[2K     \u001b[90m━━━━━━━━━━━━━━━━━━━━━━━━━━━━━━━━━━━━━━━━\u001b[0m \u001b[32m10.1/10.1 MB\u001b[0m \u001b[31m62.1 MB/s\u001b[0m eta \u001b[36m0:00:00\u001b[0m\n",
            "\u001b[?25h  Preparing metadata (setup.py) ... \u001b[?25l\u001b[?25hdone\n",
            "Requirement already satisfied: lxml>=3.1.0 in /usr/local/lib/python3.10/dist-packages (from python-pptx) (4.9.2)\n",
            "Requirement already satisfied: Pillow>=3.3.2 in /usr/local/lib/python3.10/dist-packages (from python-pptx) (8.4.0)\n",
            "Collecting XlsxWriter>=0.5.7 (from python-pptx)\n",
            "  Downloading XlsxWriter-3.1.2-py3-none-any.whl (153 kB)\n",
            "\u001b[2K     \u001b[90m━━━━━━━━━━━━━━━━━━━━━━━━━━━━━━━━━━━━━━\u001b[0m \u001b[32m153.0/153.0 kB\u001b[0m \u001b[31m16.1 MB/s\u001b[0m eta \u001b[36m0:00:00\u001b[0m\n",
            "\u001b[?25hBuilding wheels for collected packages: python-pptx\n",
            "  Building wheel for python-pptx (setup.py) ... \u001b[?25l\u001b[?25hdone\n",
            "  Created wheel for python-pptx: filename=python_pptx-0.6.21-py3-none-any.whl size=470935 sha256=bfe6081f0bd0822f3f680c6a4c7d0e29ee0bf98a323dcacea6d6641a00dab908\n",
            "  Stored in directory: /root/.cache/pip/wheels/ea/dd/74/01b3ec7256a0800b99384e9a0f7620e358afc3a51a59bf9b49\n",
            "Successfully built python-pptx\n",
            "Installing collected packages: XlsxWriter, python-pptx\n",
            "Successfully installed XlsxWriter-3.1.2 python-pptx-0.6.21\n"
          ]
        }
      ]
    },
    {
      "cell_type": "code",
      "execution_count": 13,
      "metadata": {
        "colab": {
          "base_uri": "https://localhost:8080/"
        },
        "id": "Zuel0_dWCvxl",
        "outputId": "24d08588-ed42-42af-b4c3-c3c2dbbe042f"
      },
      "outputs": [
        {
          "output_type": "stream",
          "name": "stdout",
          "text": [
            "Apresentação criada com sucesso!\n"
          ]
        }
      ],
      "source": [
        "from pptx import Presentation\n",
        "\n",
        "def cria_slide_principal(apresentacao, titulo=\"Arquivos de Computador\"):\n",
        "    slide_layout = apresentacao.slide_layouts[0]\n",
        "    slide = apresentacao.slides.add_slide(slide_layout)\n",
        "    title = slide.shapes.title\n",
        "    title.text = titulo\n",
        "\n",
        "def cria_slide(apresentacao, titulo, conteudo):     \n",
        "    slide_layout = apresentacao.slide_layouts[1]\n",
        "    slide = apresentacao.slides.add_slide(slide_layout)\n",
        "    title = slide.shapes.title\n",
        "    title.text = titulo\n",
        "    content = slide.placeholders[1]\n",
        "    content.text = conteudo\n",
        "\n",
        "def salva_apresentacao(apresentacao, nome=\"apresentacao.pptx\"):\n",
        "    try:\n",
        "        apresentacao.save(nome)\n",
        "        print(\"Apresentação criada com sucesso!\")\n",
        "    except Exception as ex:\n",
        "        print(f\"Erro ao gerar o arquivo - {str(ex)}\")\n",
        "\n",
        "def main():\n",
        "    presentation = Presentation()\n",
        "    cria_slide_principal(apresentacao=presentation, titulo=\"Arquivos de Computador\")\n",
        "\n",
        "    lista_conteudo = []\n",
        "    lista_conteudo.append((\"Introdução\", \"Os arquivos de computador são a base da organização e armazenamento de informações digitais.\"))\n",
        "    lista_conteudo.append((\"Tipos de Arquivos\", \"Existem diferentes tipos de arquivos, como documentos de texto, planilhas, imagens, vídeos e muito mais.\"))\n",
        "    lista_conteudo.append((\"Sistemas de Arquivos\", \"Os sistemas de arquivos são responsáveis pela organização e gerenciamento dos arquivos em um dispositivo de armazenamento.\"))\n",
        "    \n",
        "    cria_slide(apresentacao=presentation, titulo=lista_conteudo[0][0], conteudo=lista_conteudo[0][1])\n",
        "    cria_slide(apresentacao=presentation, titulo=lista_conteudo[1][0], conteudo=lista_conteudo[1][1])\n",
        "    cria_slide(apresentacao=presentation, titulo=lista_conteudo[2][0], conteudo=lista_conteudo[2][1])\n",
        "    salva_apresentacao(apresentacao=presentation, nome=\"apresentacao.pptx\")\n",
        "\n",
        "main()"
      ]
    },
    {
      "cell_type": "code",
      "source": [
        "main()"
      ],
      "metadata": {
        "colab": {
          "base_uri": "https://localhost:8080/"
        },
        "id": "dbFUHWUYDHDO",
        "outputId": "644d24c3-d9ac-44d2-ad05-26974378737a"
      },
      "execution_count": 11,
      "outputs": [
        {
          "output_type": "stream",
          "name": "stdout",
          "text": [
            "Apresentação criada com sucesso!\n"
          ]
        }
      ]
    }
  ]
}
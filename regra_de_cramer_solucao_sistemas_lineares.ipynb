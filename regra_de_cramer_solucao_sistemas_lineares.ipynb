{
  "nbformat": 4,
  "nbformat_minor": 0,
  "metadata": {
    "colab": {
      "provenance": [],
      "authorship_tag": "ABX9TyM4/v4xSjeqx13aRfgVew9V",
      "include_colab_link": true
    },
    "kernelspec": {
      "name": "python3",
      "display_name": "Python 3"
    },
    "language_info": {
      "name": "python"
    }
  },
  "cells": [
    {
      "cell_type": "markdown",
      "metadata": {
        "id": "view-in-github",
        "colab_type": "text"
      },
      "source": [
        "<a href=\"https://colab.research.google.com/github/armandossrecife/teste/blob/main/regra_de_cramer_solucao_sistemas_lineares.ipynb\" target=\"_parent\"><img src=\"https://colab.research.google.com/assets/colab-badge.svg\" alt=\"Open In Colab\"/></a>"
      ]
    },
    {
      "cell_type": "code",
      "execution_count": 3,
      "metadata": {
        "colab": {
          "base_uri": "https://localhost:8080/"
        },
        "id": "TV6xTwgvnxqL",
        "outputId": "df9b3a1f-3d55-4bd5-f9d6-4d4b3fc45265"
      },
      "outputs": [
        {
          "output_type": "stream",
          "name": "stdout",
          "text": [
            "Matriz A:  [[2 1]\n",
            " [1 2]]\n",
            "Matriz b [5 4]\n",
            "O sistema tem uma solução única.\n",
            "x = 2.0\n",
            "y = 1.0\n"
          ]
        }
      ],
      "source": [
        "import numpy as np\n",
        "\n",
        "# Solução de sistemas lineares usando a regra de Cramer\n",
        "# Sistema de equações:\n",
        "# 2x + y = 5\n",
        "# x + 2y = 4\n",
        "\n",
        "# 2 1 5\n",
        "# 1 2 4\n",
        "\n",
        "# matriz A\n",
        "A = np.array([[2, 1], [1, 2]])\n",
        "print(\"Matriz A: \", A)\n",
        "\n",
        "# matriz b\n",
        "b = np.array([5, 4])\n",
        "print(\"Matriz b\", b)\n",
        "\n",
        "# Calcula o determinante de A\n",
        "det_A = np.linalg.det(A)\n",
        "\n",
        "if det_A == 0:\n",
        "    print(\"O sistema não tem solução única.\")\n",
        "else:\n",
        "    print(\"O sistema tem uma solução única.\")\n",
        "\n",
        "# Criar novas matrizes substituindo as colunas da matriz de coeficientes\n",
        "# pelo vetor de termos independentes\n",
        "A1 = np.array([[5, 1], [4, 2]])\n",
        "A2 = np.array([[2, 5], [1, 4]])\n",
        "\n",
        "# Calcula os determinantes das novas matrizes A1 e A2\n",
        "det_A1 = np.linalg.det(A1)\n",
        "det_A2 = np.linalg.det(A2)\n",
        "\n",
        "# Calcula os valores das incognitas\n",
        "x = det_A1 / det_A\n",
        "y = det_A2 / det_A\n",
        "\n",
        "print(\"x =\", round(x, 2))\n",
        "print(\"y =\", round(y, 2))"
      ]
    },
    {
      "cell_type": "code",
      "source": [],
      "metadata": {
        "id": "PoI4weSfpOG9"
      },
      "execution_count": null,
      "outputs": []
    }
  ]
}
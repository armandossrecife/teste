{
  "nbformat": 4,
  "nbformat_minor": 0,
  "metadata": {
    "colab": {
      "provenance": [],
      "authorship_tag": "ABX9TyNUGoWRgu9jzGtjgRN6dvif",
      "include_colab_link": true
    },
    "kernelspec": {
      "name": "python3",
      "display_name": "Python 3"
    },
    "language_info": {
      "name": "python"
    }
  },
  "cells": [
    {
      "cell_type": "markdown",
      "metadata": {
        "id": "view-in-github",
        "colab_type": "text"
      },
      "source": [
        "<a href=\"https://colab.research.google.com/github/armandossrecife/teste/blob/main/regra_de_cramer_solucao_sistemas_lineares.ipynb\" target=\"_parent\"><img src=\"https://colab.research.google.com/assets/colab-badge.svg\" alt=\"Open In Colab\"/></a>"
      ]
    },
    {
      "cell_type": "code",
      "execution_count": 3,
      "metadata": {
        "colab": {
          "base_uri": "https://localhost:8080/"
        },
        "id": "TV6xTwgvnxqL",
        "outputId": "df9b3a1f-3d55-4bd5-f9d6-4d4b3fc45265"
      },
      "outputs": [
        {
          "output_type": "stream",
          "name": "stdout",
          "text": [
            "Matriz A:  [[2 1]\n",
            " [1 2]]\n",
            "Matriz b [5 4]\n",
            "O sistema tem uma solução única.\n",
            "x = 2.0\n",
            "y = 1.0\n"
          ]
        }
      ],
      "source": [
        "import numpy as np\n",
        "\n",
        "# Solução de sistemas lineares usando a regra de Cramer\n",
        "# Sistema de equações com duas incognitas:\n",
        "# 2x + y = 5\n",
        "# x + 2y = 4\n",
        "\n",
        "# 2 1 5\n",
        "# 1 2 4\n",
        "\n",
        "# matriz A\n",
        "A = np.array([[2, 1], [1, 2]])\n",
        "print(\"Matriz A: \", A)\n",
        "\n",
        "# matriz b\n",
        "b = np.array([5, 4])\n",
        "print(\"Matriz b\", b)\n",
        "\n",
        "# Calcula o determinante de A\n",
        "det_A = np.linalg.det(A)\n",
        "\n",
        "if det_A == 0:\n",
        "    print(\"O sistema não tem solução única.\")\n",
        "else:\n",
        "    print(\"O sistema tem uma solução única.\")\n",
        "\n",
        "# Criar novas matrizes substituindo as colunas da matriz de coeficientes\n",
        "# pelo vetor de termos independentes\n",
        "A1 = np.array([[5, 1], [4, 2]])\n",
        "A2 = np.array([[2, 5], [1, 4]])\n",
        "\n",
        "# Calcula os determinantes das novas matrizes A1 e A2\n",
        "det_A1 = np.linalg.det(A1)\n",
        "det_A2 = np.linalg.det(A2)\n",
        "\n",
        "# Calcula os valores das incognitas\n",
        "x = det_A1 / det_A\n",
        "y = det_A2 / det_A\n",
        "\n",
        "print(\"x =\", round(x, 2))\n",
        "print(\"y =\", round(y, 2))"
      ]
    },
    {
      "cell_type": "code",
      "source": [
        "# Sistema de equações:\n",
        "# 2x + y - z = 3\n",
        "# x - 3y + 2z = -7\n",
        "# 4x + y + z = 6\n",
        "\n",
        "# Criando a matriz de coeficientes e o vetor de termos independentes\n",
        "A = np.array([[2, 1, -1],\n",
        "              [1, -3, 2],\n",
        "              [4, 1, 1]])\n",
        "print(\"Matriz A: \", A)\n",
        "\n",
        "b = np.array([3, -7, 6])\n",
        "print(\"Matriz b: \", b)\n",
        "\n",
        "# Calculando o determinante da matriz de coeficientes\n",
        "det_A = np.linalg.det(A)\n",
        "\n",
        "if det_A == 0:\n",
        "    print(\"O sistema não tem solução única.\")\n",
        "else:\n",
        "    print(\"O sistema tem uma solução única.\")\n",
        "\n",
        "# Criando novas matrizes substituindo as colunas da matriz de coeficientes pelo vetor b\n",
        "A1 = np.array([[3, 1, -1],\n",
        "              [-7, -3, 2],\n",
        "              [6, 1, 1]])\n",
        "A2 = np.array([[2, 3, -1],\n",
        "              [1, -7, 2],\n",
        "              [4, 6, 1]])\n",
        "A3 = np.array([[2, 1, 3],\n",
        "              [1, -3, -7],\n",
        "              [4, 1, 6]])\n",
        "\n",
        "# Calculando os determinantes das novas matrizes\n",
        "det_A1 = np.linalg.det(A1)\n",
        "det_A2 = np.linalg.det(A2)\n",
        "det_A3 = np.linalg.det(A3)\n",
        "\n",
        "# Calculando as incógnitas\n",
        "x = det_A1 / det_A\n",
        "y = det_A2 / det_A\n",
        "z = det_A3 / det_A\n",
        "\n",
        "print(\"x =\", round(x, 3))\n",
        "print(\"y =\", round(y, 3))\n",
        "print(\"z =\", round(z, 3))"
      ],
      "metadata": {
        "colab": {
          "base_uri": "https://localhost:8080/"
        },
        "id": "CBXeFnfNqsNK",
        "outputId": "62f8b0c9-ff0c-4ae5-f63d-3a788b67bfd6"
      },
      "execution_count": 9,
      "outputs": [
        {
          "output_type": "stream",
          "name": "stdout",
          "text": [
            "Matriz A:  [[ 2  1 -1]\n",
            " [ 1 -3  2]\n",
            " [ 4  1  1]]\n",
            "Matriz b:  [ 3 -7  6]\n",
            "O sistema tem uma solução única.\n",
            "x = 0.437\n",
            "y = 3.188\n",
            "z = 1.063\n"
          ]
        }
      ]
    },
    {
      "cell_type": "markdown",
      "source": [
        "**Explicação:**\n",
        "\n",
        "1. **Definição do sistema:** Definimos um sistema linear com três equações e três incógnitas.\n",
        "2. **Criação das matrizes:** Criamos a matriz de coeficientes `A` e o vetor de termos independentes `b`.\n",
        "3. **Cálculo do determinante:** Calculamos o determinante da matriz `A` usando `np.linalg.det`.\n",
        "4. **Novas matrizes:** Criamos novas matrizes `A1`, `A2` e `A3` substituindo as colunas de `A` por `b`.\n",
        "5. **Determinantes das novas matrizes:** Calculamos os determinantes das novas matrizes.\n",
        "6. **Cálculo das incógnitas:** Aplicamos a regra de Cramer para encontrar os valores de `x`, `y` e `z`.\n",
        "\n",
        "**Importante:**\n",
        "\n",
        "* **Eficiência:** Embora a regra de Cramer seja útil para entender o conceito, ela não é eficiente para sistemas grandes. Para sistemas maiores, métodos como eliminação de Gauss ou decomposição LU são mais adequados.\n",
        "* **Singularidade:** Se o determinante da matriz de coeficientes for zero, o sistema não possui solução única ou possui infinitas soluções.\n",
        "* **NumPy:** A biblioteca NumPy oferece funções mais eficientes para resolver sistemas lineares, como `np.linalg.solve`.\n",
        "\n",
        "**Considerações Adicionais:**\n",
        "\n",
        "* **Função:** Você pode criar uma função para resolver sistemas lineares usando a regra de Cramer, tornando o código mais reutilizável.\n",
        "* **Verificação:** Sempre verifique se o determinante da matriz de coeficientes é diferente de zero antes de aplicar a regra de Cramer.\n",
        "* **Sistemas maiores:** Para sistemas maiores, considere utilizar bibliotecas especializadas em álgebra linear, como SciPy.\n",
        "\n",
        "**Conclusão:**\n",
        "\n",
        "Este exemplo demonstra como utilizar a regra de Cramer em Python para resolver sistemas lineares de 3x3. Embora a regra de Cramer tenha limitações em termos de eficiência, ela é uma ferramenta útil para entender os conceitos por trás da resolução de sistemas lineares."
      ],
      "metadata": {
        "id": "Wolu8vEBq5KH"
      }
    },
    {
      "cell_type": "code",
      "source": [],
      "metadata": {
        "id": "ztIMdDtqq5za"
      },
      "execution_count": null,
      "outputs": []
    }
  ]
}
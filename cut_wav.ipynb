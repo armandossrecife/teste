{
  "nbformat": 4,
  "nbformat_minor": 0,
  "metadata": {
    "colab": {
      "provenance": [],
      "authorship_tag": "ABX9TyPJv9SuXglObfpSpJQytbqP",
      "include_colab_link": true
    },
    "kernelspec": {
      "name": "python3",
      "display_name": "Python 3"
    },
    "language_info": {
      "name": "python"
    }
  },
  "cells": [
    {
      "cell_type": "markdown",
      "metadata": {
        "id": "view-in-github",
        "colab_type": "text"
      },
      "source": [
        "<a href=\"https://colab.research.google.com/github/armandossrecife/teste/blob/main/cut_wav.ipynb\" target=\"_parent\"><img src=\"https://colab.research.google.com/assets/colab-badge.svg\" alt=\"Open In Colab\"/></a>"
      ]
    },
    {
      "cell_type": "code",
      "execution_count": 1,
      "metadata": {
        "id": "TqE8E8que6GR"
      },
      "outputs": [],
      "source": [
        "import wave\n",
        "\n",
        "def cut_wav_file(input_file, output_file, start_time, end_time):\n",
        "    with wave.open(input_file, 'rb') as original_file:\n",
        "        # Get the parameters of the original .wav file\n",
        "        params = original_file.getparams()\n",
        "\n",
        "        # Calculate the start and end frames based on the given start and end time\n",
        "        start_frame = int(start_time * params.framerate)\n",
        "        end_frame = int(end_time * params.framerate)\n",
        "\n",
        "        # Set the new parameters for the output file\n",
        "        new_params = params._replace(nframes=end_frame - start_frame)\n",
        "\n",
        "        with wave.open(output_file, 'wb') as new_file:\n",
        "            new_file.setparams(new_params)\n",
        "\n",
        "            # Seek to the start frame in the original file\n",
        "            original_file.setpos(start_frame)\n",
        "\n",
        "            # Read and write the frames to the new file\n",
        "            new_file.writeframes(original_file.readframes(end_frame - start_frame))"
      ]
    },
    {
      "cell_type": "code",
      "source": [
        "# Example usage\n",
        "input_file = 'crunch_preview.wav'\n",
        "output_file = 'output.wav'\n",
        "start_time = 1.0  # Start time in seconds\n",
        "end_time = 2.0  # End time in seconds\n",
        "\n",
        "cut_wav_file(input_file, output_file, start_time, end_time)"
      ],
      "metadata": {
        "id": "-Ylzp7_8hBg_"
      },
      "execution_count": 2,
      "outputs": []
    },
    {
      "cell_type": "code",
      "source": [],
      "metadata": {
        "id": "NvUN9kU5hQDs"
      },
      "execution_count": null,
      "outputs": []
    }
  ]
}
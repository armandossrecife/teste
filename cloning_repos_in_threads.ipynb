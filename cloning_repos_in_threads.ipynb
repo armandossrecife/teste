{
  "nbformat": 4,
  "nbformat_minor": 0,
  "metadata": {
    "colab": {
      "provenance": [],
      "authorship_tag": "ABX9TyORCbBzhwSzg2h4oNOtyUt+",
      "include_colab_link": true
    },
    "kernelspec": {
      "name": "python3",
      "display_name": "Python 3"
    },
    "language_info": {
      "name": "python"
    }
  },
  "cells": [
    {
      "cell_type": "markdown",
      "metadata": {
        "id": "view-in-github",
        "colab_type": "text"
      },
      "source": [
        "<a href=\"https://colab.research.google.com/github/armandossrecife/teste/blob/main/cloning_repos_in_threads.ipynb\" target=\"_parent\"><img src=\"https://colab.research.google.com/assets/colab-badge.svg\" alt=\"Open In Colab\"/></a>"
      ]
    },
    {
      "cell_type": "code",
      "execution_count": null,
      "metadata": {
        "colab": {
          "base_uri": "https://localhost:8080/"
        },
        "id": "6FPq3cSmRd-d",
        "outputId": "13d1a263-77a9-40e3-c29d-ec7483f5a6b8"
      },
      "outputs": [
        {
          "output_type": "stream",
          "name": "stdout",
          "text": [
            "Comando: python3 -m pip install gitpython executado com sucesso!\n"
          ]
        }
      ],
      "source": [
        "import os\n",
        "import threading\n",
        "import datetime\n",
        "\n",
        "def executa_comando_so(comando):\n",
        "  try:\n",
        "    os.system(comando)\n",
        "    print(f'Comando: {comando} executado com sucesso!')\n",
        "  except:\n",
        "    print(f'Erro ao executar o comando {comando}')\n",
        "\n",
        "instala_git_python = 'python3 -m pip install gitpython' \n",
        "executa_comando_so(instala_git_python)"
      ]
    },
    {
      "cell_type": "code",
      "source": [
        "from git import Repo\n",
        "\n",
        "def my_clone(git_url, repo_dir, lista):\n",
        "  try:\n",
        "    Repo.clone_from(git_url, repo_dir)\n",
        "    tempo = datetime.datetime.now()\n",
        "    print(f'Clonagem do repo {git_url} concluída com sucesso! -> instante: {tempo}')\n",
        "    elemento = (repo_dir, tempo)\n",
        "    lista.append(elemento)\n",
        "  except Exception as ex:\n",
        "    print(f\"Erro ao clonar o repo: {git_url} - {str(ex)}\")\n",
        "\n",
        "def clona_repositorios(qtd_repositorios, lista_urls, lista_threads, lista_tempo_inicio, lista_tempo_conclusao):\n",
        "  for i in range(qtd_repositorios):\n",
        "    nome = 'repositorio'+str(i+1)\n",
        "    tdi = threading.Thread(target=my_clone, args=(lista_urls[i], nome, lista_tempo_conclusao)) # Thread que inicia cada clonagem\n",
        "    tdi.name = 'Thread-'+str(i+1) # nome do objeto thread recem criado\n",
        "    inicio_thread = datetime.datetime.now() # instante que o clone inicia\n",
        "    print(f\"Thread {i+1} iniciada em {inicio_thread} - clonando {nome}:{lista_urls[i]}...\")\n",
        "    lista_threads.append(tdi) # insere a thread recem criada na lista de threads\n",
        "    elemento = (nome, inicio_thread)\n",
        "    lista_tempo_inicio.append(elemento)\n",
        "    tdi.start() # inicia a thread\n",
        "  for each in lista_threads:\n",
        "    each.join()\n",
        "\n",
        "def mostra_tempo_clonagens(lista_tempo_inicio, lista_tempo_conclusao):\n",
        "  for t1 in lista_tempo_inicio:\n",
        "    for t2 in lista_tempo_conclusao:\n",
        "      if (t1[0]==t2[0]):\n",
        "        print(f\"Tempo de download do {t1[0]} é: {t2[1]-t1[1]} s\")\n",
        "\n",
        "lista_urls = ['https://github.com/apache/cassandra.git', 'https://github.com/armandossrecife/teste', 'https://github.com/Technical-Debt-Large-Scale/sysrepoanalysis.git', 'https://github.com/armandossrecife/syspromocity.git', 'https://github.com/topicos-sistemas-distribuidos/systagram.git', 'https://github.com/topicos-sistemas-distribuidos/hadoop-twitter.git', 'https://github.com/armandossrecife/machinelearning.git', 'https://github.com/armandossrecife/loja.git']\n",
        "lista_tempo_conclusao = []\n",
        "lista_threads = [] # lista que armazena dos threads que vao fazer os clones\n",
        "lista_tempo_inicio = [] # lista que vai guardar o instante de inicio de cada thread de clonagem\n",
        "\n",
        "print(\"bloco de clonagem...\")\n",
        "tempo1 = datetime.datetime.now()\n",
        "clona_repositorios(len(lista_urls), lista_urls, lista_threads, lista_tempo_inicio, lista_tempo_conclusao)  \n",
        "tempo2 = datetime.datetime.now()\n",
        "\n",
        "print(\"\")\n",
        "print(f\"Tempo total de {len(lista_urls)} clonagens: {tempo2-tempo1}s\")\n",
        "print(\"\")\n",
        "print(f'Lista de tempos de inicio: {lista_tempo_inicio}')\n",
        "print(f'Lista de tempos de conclusao: {lista_tempo_conclusao}')\n",
        "print(\"\")\n",
        "mostra_tempo_clonagens(lista_tempo_inicio, lista_tempo_conclusao)"
      ],
      "metadata": {
        "colab": {
          "base_uri": "https://localhost:8080/"
        },
        "id": "Y7SCXGgbRm6t",
        "outputId": "15553ddc-df7f-4faa-8640-76226a64ec17"
      },
      "execution_count": null,
      "outputs": [
        {
          "output_type": "stream",
          "name": "stdout",
          "text": [
            "bloco de clonagem...\n",
            "Thread 1 iniciada em 2023-02-03 22:33:03.831992 - clonando repositorio1:https://github.com/apache/cassandra.git...\n",
            "Thread 2 iniciada em 2023-02-03 22:33:03.833732 - clonando repositorio2:https://github.com/armandossrecife/teste...\n",
            "Thread 3 iniciada em 2023-02-03 22:33:03.841804 - clonando repositorio3:https://github.com/Technical-Debt-Large-Scale/sysrepoanalysis.git...\n",
            "Thread 4 iniciada em 2023-02-03 22:33:03.848682 - clonando repositorio4:https://github.com/armandossrecife/syspromocity.git...\n",
            "Thread 5 iniciada em 2023-02-03 22:33:03.882848 - clonando repositorio5:https://github.com/topicos-sistemas-distribuidos/systagram.git...\n",
            "Thread 6 iniciada em 2023-02-03 22:33:03.897333 - clonando repositorio6:https://github.com/topicos-sistemas-distribuidos/hadoop-twitter.git...\n",
            "Thread 7 iniciada em 2023-02-03 22:33:03.916693 - clonando repositorio7:https://github.com/armandossrecife/machinelearning.git...\n",
            "Thread 8 iniciada em 2023-02-03 22:33:03.980191 - clonando repositorio8:https://github.com/armandossrecife/loja.git...\n",
            "Clonagem do repo https://github.com/topicos-sistemas-distribuidos/hadoop-twitter.git concluída com sucesso! -> instante: 2023-02-03 22:33:05.237370\n",
            "Clonagem do repo https://github.com/armandossrecife/loja.git concluída com sucesso! -> instante: 2023-02-03 22:33:05.877074\n",
            "Clonagem do repo https://github.com/Technical-Debt-Large-Scale/sysrepoanalysis.git concluída com sucesso! -> instante: 2023-02-03 22:33:06.089180\n",
            "Clonagem do repo https://github.com/armandossrecife/teste concluída com sucesso! -> instante: 2023-02-03 22:33:08.841166\n",
            "Clonagem do repo https://github.com/armandossrecife/syspromocity.git concluída com sucesso! -> instante: 2023-02-03 22:33:10.046981\n",
            "Clonagem do repo https://github.com/armandossrecife/machinelearning.git concluída com sucesso! -> instante: 2023-02-03 22:33:10.432575\n",
            "Clonagem do repo https://github.com/topicos-sistemas-distribuidos/systagram.git concluída com sucesso! -> instante: 2023-02-03 22:33:13.626522\n",
            "Clonagem do repo https://github.com/apache/cassandra.git concluída com sucesso! -> instante: 2023-02-03 22:33:56.799545\n",
            "\n",
            "Tempo total de 8 clonagens: 0:00:52.969567s\n",
            "\n",
            "Lista de tempos de inicio: [('repositorio1', datetime.datetime(2023, 2, 3, 22, 33, 3, 831992)), ('repositorio2', datetime.datetime(2023, 2, 3, 22, 33, 3, 833732)), ('repositorio3', datetime.datetime(2023, 2, 3, 22, 33, 3, 841804)), ('repositorio4', datetime.datetime(2023, 2, 3, 22, 33, 3, 848682)), ('repositorio5', datetime.datetime(2023, 2, 3, 22, 33, 3, 882848)), ('repositorio6', datetime.datetime(2023, 2, 3, 22, 33, 3, 897333)), ('repositorio7', datetime.datetime(2023, 2, 3, 22, 33, 3, 916693)), ('repositorio8', datetime.datetime(2023, 2, 3, 22, 33, 3, 980191))]\n",
            "Lista de tempos de conclusao: [('repositorio6', datetime.datetime(2023, 2, 3, 22, 33, 5, 237370)), ('repositorio8', datetime.datetime(2023, 2, 3, 22, 33, 5, 877074)), ('repositorio3', datetime.datetime(2023, 2, 3, 22, 33, 6, 89180)), ('repositorio2', datetime.datetime(2023, 2, 3, 22, 33, 8, 841166)), ('repositorio4', datetime.datetime(2023, 2, 3, 22, 33, 10, 46981)), ('repositorio7', datetime.datetime(2023, 2, 3, 22, 33, 10, 432575)), ('repositorio5', datetime.datetime(2023, 2, 3, 22, 33, 13, 626522)), ('repositorio1', datetime.datetime(2023, 2, 3, 22, 33, 56, 799545))]\n",
            "\n",
            "Tempo de download do repositorio1 é: 0:00:52.967553 s\n",
            "Tempo de download do repositorio2 é: 0:00:05.007434 s\n",
            "Tempo de download do repositorio3 é: 0:00:02.247376 s\n",
            "Tempo de download do repositorio4 é: 0:00:06.198299 s\n",
            "Tempo de download do repositorio5 é: 0:00:09.743674 s\n",
            "Tempo de download do repositorio6 é: 0:00:01.340037 s\n",
            "Tempo de download do repositorio7 é: 0:00:06.515882 s\n",
            "Tempo de download do repositorio8 é: 0:00:01.896883 s\n"
          ]
        }
      ]
    },
    {
      "cell_type": "code",
      "source": [
        "!rm -rf repositorio*"
      ],
      "metadata": {
        "id": "XF9XH0dDSL66"
      },
      "execution_count": null,
      "outputs": []
    }
  ]
}
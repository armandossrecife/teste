{
  "nbformat": 4,
  "nbformat_minor": 0,
  "metadata": {
    "colab": {
      "provenance": [],
      "authorship_tag": "ABX9TyOfQOlEACZoF8asdJC1/utD",
      "include_colab_link": true
    },
    "kernelspec": {
      "name": "python3",
      "display_name": "Python 3"
    },
    "language_info": {
      "name": "python"
    }
  },
  "cells": [
    {
      "cell_type": "markdown",
      "metadata": {
        "id": "view-in-github",
        "colab_type": "text"
      },
      "source": [
        "<a href=\"https://colab.research.google.com/github/armandossrecife/teste/blob/main/cloning_repos_in_threads.ipynb\" target=\"_parent\"><img src=\"https://colab.research.google.com/assets/colab-badge.svg\" alt=\"Open In Colab\"/></a>"
      ]
    },
    {
      "cell_type": "code",
      "execution_count": null,
      "metadata": {
        "colab": {
          "base_uri": "https://localhost:8080/"
        },
        "id": "6FPq3cSmRd-d",
        "outputId": "f3404cd9-80da-4976-a088-0c7925ce4a1d"
      },
      "outputs": [
        {
          "output_type": "stream",
          "name": "stdout",
          "text": [
            "Comando: python3 -m pip install gitpython executado com sucesso!\n"
          ]
        }
      ],
      "source": [
        "import os\n",
        "import threading\n",
        "import datetime\n",
        "\n",
        "def executa_comando_so(comando):\n",
        "  try:\n",
        "    os.system(comando)\n",
        "    print(f'Comando: {comando} executado com sucesso!')\n",
        "  except:\n",
        "    print(f'Erro ao executar o comando {comando}')\n",
        "\n",
        "instala_git_python = 'python3 -m pip install gitpython' \n",
        "executa_comando_so(instala_git_python)"
      ]
    },
    {
      "cell_type": "code",
      "source": [
        "from git import Repo\n",
        "\n",
        "def my_clone(git_url, repo_dir, lista):\n",
        "  try:\n",
        "    Repo.clone_from(git_url, repo_dir)\n",
        "    tempo = datetime.datetime.now()\n",
        "    print(f'Clonagem do repo {git_url} concluída com sucesso! -> instante: {tempo}')\n",
        "    elemento = (repo_dir, tempo)\n",
        "    lista.append(elemento)\n",
        "  except Exception as ex:\n",
        "    print(f\"Erro ao clonar o repo: {git_url} - {str(ex)}\")\n",
        "\n",
        "def clona_repositorios(qtd_repositorios, lista_threads, lista_tempo_inicio):\n",
        "  for i in range(qtd_repositorios):\n",
        "    nome = 'repositorio'+str(i+1)\n",
        "    tdi = threading.Thread(target=my_clone, args=(lista_urls[i], nome, lista_tempo_conclusao)) # Thread que inicia cada clonagem\n",
        "    tdi.name = 'Thread-'+str(i+1) # nome do objeto thread recem criado\n",
        "    inicio_thread = datetime.datetime.now() # instante que o clone inicia\n",
        "    print(f\"Thread {i+1} iniciada em {inicio_thread} - clonando {nome}:{lista_urls[i]}...\")\n",
        "    lista_threads.append(tdi) # insere a thread recem criada na lista de threads\n",
        "    elemento = (nome, inicio_thread)\n",
        "    lista_tempo_inicio.append(elemento)\n",
        "    tdi.start() # inicia a thread\n",
        "  for each in lista_threads:\n",
        "    each.join()\n",
        "\n",
        "def mostra_tempo_clonagens(lista_tempo_inicio, lista_tempo_conclusao):\n",
        "  for t1 in lista_tempo_inicio:\n",
        "    for t2 in lista_tempo_conclusao:\n",
        "      if (t1[0]==t2[0]):\n",
        "        print(f\"Tempo de download do {t1[0]} é: {t2[1]-t1[1]} s\")\n",
        "\n",
        "lista_urls = ['https://github.com/apache/cassandra.git', 'https://github.com/armandossrecife/teste', 'https://github.com/Technical-Debt-Large-Scale/sysrepoanalysis.git', 'https://github.com/armandossrecife/syspromocity.git', 'https://github.com/topicos-sistemas-distribuidos/systagram.git', 'https://github.com/topicos-sistemas-distribuidos/hadoop-twitter.git', 'https://github.com/armandossrecife/machinelearning.git', 'https://github.com/armandossrecife/loja.git']\n",
        "lista_tempo_conclusao = []\n",
        "lista_threads = [] # lista que armazena dos threads que vao fazer os clones\n",
        "lista_tempo_inicio = [] # lista que vai guardar o instante de inicio de cada thread de clonagem\n",
        "\n",
        "print(\"bloco de clonagem...\")\n",
        "tempo1 = datetime.datetime.now()\n",
        "clona_repositorios(len(lista_urls), lista_threads, lista_tempo_inicio)  \n",
        "tempo2 = datetime.datetime.now()\n",
        "\n",
        "print(\"\")\n",
        "print(f\"Tempo total de {len(lista_urls)} clonagens: {tempo2-tempo1}s\")\n",
        "print(\"\")\n",
        "print(f'Lista de tempos de inicio: {lista_tempo_inicio}')\n",
        "print(f'Lista de tempos de conclusao: {lista_tempo_conclusao}')\n",
        "print(\"\")\n",
        "mostra_tempo_clonagens(lista_tempo_inicio, lista_tempo_conclusao)"
      ],
      "metadata": {
        "colab": {
          "base_uri": "https://localhost:8080/"
        },
        "id": "Y7SCXGgbRm6t",
        "outputId": "390e55a6-b4ab-4fd6-cfd0-5ef37ec6e659"
      },
      "execution_count": null,
      "outputs": [
        {
          "output_type": "stream",
          "name": "stdout",
          "text": [
            "bloco de clonagem...\n",
            "Thread 1 iniciada em 2023-02-03 22:21:31.566123 - clonando repositorio1:https://github.com/apache/cassandra.git...\n",
            "Thread 2 iniciada em 2023-02-03 22:21:31.567449 - clonando repositorio2:https://github.com/armandossrecife/teste...\n",
            "Thread 3 iniciada em 2023-02-03 22:21:31.569658 - clonando repositorio3:https://github.com/Technical-Debt-Large-Scale/sysrepoanalysis.git...\n",
            "Thread 4 iniciada em 2023-02-03 22:21:31.570749 - clonando repositorio4:https://github.com/armandossrecife/syspromocity.git...\n",
            "Thread 5 iniciada em 2023-02-03 22:21:31.573051 - clonando repositorio5:https://github.com/topicos-sistemas-distribuidos/systagram.git...\n",
            "Thread 6 iniciada em 2023-02-03 22:21:31.607301 - clonando repositorio6:https://github.com/topicos-sistemas-distribuidos/hadoop-twitter.git...\n",
            "Thread 7 iniciada em 2023-02-03 22:21:31.618510 - clonando repositorio7:https://github.com/armandossrecife/machinelearning.git...\n",
            "Thread 8 iniciada em 2023-02-03 22:21:31.669500 - clonando repositorio8:https://github.com/armandossrecife/loja.git...\n",
            "Clonagem do repo https://github.com/topicos-sistemas-distribuidos/hadoop-twitter.git concluída com sucesso! -> instante: 2023-02-03 22:21:32.791535\n",
            "Clonagem do repo https://github.com/armandossrecife/loja.git concluída com sucesso! -> instante: 2023-02-03 22:21:33.334155\n",
            "Clonagem do repo https://github.com/Technical-Debt-Large-Scale/sysrepoanalysis.git concluída com sucesso! -> instante: 2023-02-03 22:21:33.508011\n",
            "Clonagem do repo https://github.com/armandossrecife/teste concluída com sucesso! -> instante: 2023-02-03 22:21:37.501497\n",
            "Clonagem do repo https://github.com/armandossrecife/syspromocity.git concluída com sucesso! -> instante: 2023-02-03 22:21:37.761834\n",
            "Clonagem do repo https://github.com/armandossrecife/machinelearning.git concluída com sucesso! -> instante: 2023-02-03 22:21:38.156801\n",
            "Clonagem do repo https://github.com/topicos-sistemas-distribuidos/systagram.git concluída com sucesso! -> instante: 2023-02-03 22:21:43.279624\n",
            "Clonagem do repo https://github.com/apache/cassandra.git concluída com sucesso! -> instante: 2023-02-03 22:22:29.774423\n",
            "\n",
            "Tempo total de 8 clonagens: 0:00:58.211343s\n",
            "\n",
            "Lista de tempos de inicio: [('repositorio1', datetime.datetime(2023, 2, 3, 22, 21, 31, 566123)), ('repositorio2', datetime.datetime(2023, 2, 3, 22, 21, 31, 567449)), ('repositorio3', datetime.datetime(2023, 2, 3, 22, 21, 31, 569658)), ('repositorio4', datetime.datetime(2023, 2, 3, 22, 21, 31, 570749)), ('repositorio5', datetime.datetime(2023, 2, 3, 22, 21, 31, 573051)), ('repositorio6', datetime.datetime(2023, 2, 3, 22, 21, 31, 607301)), ('repositorio7', datetime.datetime(2023, 2, 3, 22, 21, 31, 618510)), ('repositorio8', datetime.datetime(2023, 2, 3, 22, 21, 31, 669500))]\n",
            "Lista de tempos de conclusao: [('repositorio6', datetime.datetime(2023, 2, 3, 22, 21, 32, 791535)), ('repositorio8', datetime.datetime(2023, 2, 3, 22, 21, 33, 334155)), ('repositorio3', datetime.datetime(2023, 2, 3, 22, 21, 33, 508011)), ('repositorio2', datetime.datetime(2023, 2, 3, 22, 21, 37, 501497)), ('repositorio4', datetime.datetime(2023, 2, 3, 22, 21, 37, 761834)), ('repositorio7', datetime.datetime(2023, 2, 3, 22, 21, 38, 156801)), ('repositorio5', datetime.datetime(2023, 2, 3, 22, 21, 43, 279624)), ('repositorio1', datetime.datetime(2023, 2, 3, 22, 22, 29, 774423))]\n",
            "\n",
            "Tempo de download do repositorio1 é: 0:00:58.208300 s\n",
            "Tempo de download do repositorio2 é: 0:00:05.934048 s\n",
            "Tempo de download do repositorio3 é: 0:00:01.938353 s\n",
            "Tempo de download do repositorio4 é: 0:00:06.191085 s\n",
            "Tempo de download do repositorio5 é: 0:00:11.706573 s\n",
            "Tempo de download do repositorio6 é: 0:00:01.184234 s\n",
            "Tempo de download do repositorio7 é: 0:00:06.538291 s\n",
            "Tempo de download do repositorio8 é: 0:00:01.664655 s\n"
          ]
        }
      ]
    },
    {
      "cell_type": "code",
      "source": [
        "!rm -rf repositorio*"
      ],
      "metadata": {
        "id": "XF9XH0dDSL66"
      },
      "execution_count": null,
      "outputs": []
    }
  ]
}
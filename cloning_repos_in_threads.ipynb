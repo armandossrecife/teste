{
  "nbformat": 4,
  "nbformat_minor": 0,
  "metadata": {
    "colab": {
      "provenance": [],
      "authorship_tag": "ABX9TyOOa0Xs81FYfwxL9x8FVT/d",
      "include_colab_link": true
    },
    "kernelspec": {
      "name": "python3",
      "display_name": "Python 3"
    },
    "language_info": {
      "name": "python"
    }
  },
  "cells": [
    {
      "cell_type": "markdown",
      "metadata": {
        "id": "view-in-github",
        "colab_type": "text"
      },
      "source": [
        "<a href=\"https://colab.research.google.com/github/armandossrecife/teste/blob/main/cloning_repos_in_threads.ipynb\" target=\"_parent\"><img src=\"https://colab.research.google.com/assets/colab-badge.svg\" alt=\"Open In Colab\"/></a>"
      ]
    },
    {
      "cell_type": "code",
      "execution_count": null,
      "metadata": {
        "colab": {
          "base_uri": "https://localhost:8080/"
        },
        "id": "6FPq3cSmRd-d",
        "outputId": "edfcd495-bc47-4e7b-8f82-70a947e5ee3b"
      },
      "outputs": [
        {
          "output_type": "stream",
          "name": "stdout",
          "text": [
            "Comando: python3 -m pip install gitpython executado com sucesso!\n"
          ]
        }
      ],
      "source": [
        "import os\n",
        "import threading\n",
        "import datetime\n",
        "\n",
        "lista_tempo_conclusao = []\n",
        "\n",
        "def executa_comando_so(comando):\n",
        "  try:\n",
        "    os.system(comando)\n",
        "    print(f'Comando: {comando} executado com sucesso!')\n",
        "  except:\n",
        "    print(f'Erro ao executar o comando {comando}')\n",
        "\n",
        "instala_git_python = 'python3 -m pip install gitpython' \n",
        "executa_comando_so(instala_git_python)"
      ]
    },
    {
      "cell_type": "code",
      "source": [
        "from git import Repo\n",
        "\n",
        "lista_tempo_conclusao = []\n",
        "\n",
        "def my_clone(git_url, repo_dir, lista):\n",
        "  try:\n",
        "    Repo.clone_from(git_url, repo_dir)\n",
        "    tempo = datetime.datetime.now()\n",
        "    print(f'Clonagem do repo {git_url} concluída com sucesso! -> instante: {tempo}')\n",
        "    elemento = (repo_dir, tempo)\n",
        "    lista.append(elemento)\n",
        "  except Exception as ex:\n",
        "    print(f\"Erro ao clonar o repo: {git_url} - {str(ex)}\")\n",
        "\n",
        "lista_urls = ['https://github.com/apache/cassandra.git', 'https://github.com/armandossrecife/teste', 'https://github.com/Technical-Debt-Large-Scale/sysrepoanalysis.git', 'https://github.com/armandossrecife/syspromocity.git', 'https://github.com/topicos-sistemas-distribuidos/systagram.git', 'https://github.com/topicos-sistemas-distribuidos/hadoop-twitter.git', 'https://github.com/armandossrecife/machinelearning.git', 'https://github.com/armandossrecife/loja.git']\n",
        "qtd_repositorios = len(lista_urls)\n",
        "\n",
        "print(\"bloco de clonagem...\")\n",
        "tempo1 = datetime.datetime.now()\n",
        "\n",
        "lista_threads = [] # lista que armazena dos threads que vao fazer os clones\n",
        "lista_tempo_inicio = [] # lista que vai guardar o instante de inicio de cada thread de clonagem\n",
        "\n",
        "for i in range(qtd_repositorios):\n",
        "  nome = 'repositorio'+str(i+1)\n",
        "  tdi = threading.Thread(target=my_clone, args=(lista_urls[i], nome, lista_tempo_conclusao)) # Thread que inicia cada clonagem\n",
        "  tdi.name = 'Thread-'+str(i+1) # nome do objeto thread recem criado\n",
        "  inicio_thread = datetime.datetime.now() # instante que o clone inicia\n",
        "  print(f\"Thread {i+1} iniciada em {inicio_thread} - clonando {nome}:{lista_urls[i]}...\")\n",
        "  lista_threads.append(tdi) # insere a thread recem criada na lista de threads\n",
        "  elemento = (nome, inicio_thread)\n",
        "  lista_tempo_inicio.append(elemento)\n",
        "  tdi.start() # inicia a thread\n",
        "\n",
        "for each in lista_threads:\n",
        "  each.join()\n",
        "  \n",
        "tempo2 = datetime.datetime.now()\n",
        "print(\"\")\n",
        "print(f\"Tempo total de {qtd_repositorios} clonagens: {tempo2-tempo1}s\")\n",
        "print(\"\")\n",
        "print(f'Lista de tempos de inicio: {lista_tempo_inicio}')\n",
        "print(f'Lista de tempos de conclusao: {lista_tempo_conclusao}')\n",
        "print(\"\")\n",
        "for t1 in lista_tempo_inicio:\n",
        "  for t2 in lista_tempo_conclusao:\n",
        "    if (t1[0]==t2[0]):\n",
        "      print(f\"Tempo de download do {t1[0]} é: {t2[1]-t1[1]} s\")"
      ],
      "metadata": {
        "colab": {
          "base_uri": "https://localhost:8080/"
        },
        "id": "Y7SCXGgbRm6t",
        "outputId": "68f35ecb-0ae2-42b6-e7bf-2c053f6737e2"
      },
      "execution_count": null,
      "outputs": [
        {
          "output_type": "stream",
          "name": "stdout",
          "text": [
            "bloco de clonagem...\n",
            "Thread 1 iniciada em 2023-02-03 22:08:30.564705 - clonando repositorio1:https://github.com/apache/cassandra.git...\n",
            "Thread 2 iniciada em 2023-02-03 22:08:30.566060 - clonando repositorio2:https://github.com/armandossrecife/teste...\n",
            "Thread 3 iniciada em 2023-02-03 22:08:30.567043 - clonando repositorio3:https://github.com/Technical-Debt-Large-Scale/sysrepoanalysis.git...\n",
            "Thread 4 iniciada em 2023-02-03 22:08:30.575479 - clonando repositorio4:https://github.com/armandossrecife/syspromocity.git...\n",
            "Thread 5 iniciada em 2023-02-03 22:08:30.600498 - clonando repositorio5:https://github.com/topicos-sistemas-distribuidos/systagram.git...\n",
            "Thread 6 iniciada em 2023-02-03 22:08:30.603209 - clonando repositorio6:https://github.com/topicos-sistemas-distribuidos/hadoop-twitter.git...\n",
            "Thread 7 iniciada em 2023-02-03 22:08:30.614259 - clonando repositorio7:https://github.com/armandossrecife/machinelearning.git...\n",
            "Thread 8 iniciada em 2023-02-03 22:08:30.639003 - clonando repositorio8:https://github.com/armandossrecife/loja.git...\n",
            "Clonagem do repo https://github.com/topicos-sistemas-distribuidos/hadoop-twitter.git concluída com sucesso! -> instante: 2023-02-03 22:08:32.032136\n",
            "Clonagem do repo https://github.com/armandossrecife/loja.git concluída com sucesso! -> instante: 2023-02-03 22:08:32.315250\n",
            "Clonagem do repo https://github.com/Technical-Debt-Large-Scale/sysrepoanalysis.git concluída com sucesso! -> instante: 2023-02-03 22:08:32.523335\n",
            "Clonagem do repo https://github.com/armandossrecife/teste concluída com sucesso! -> instante: 2023-02-03 22:08:35.610325\n",
            "Clonagem do repo https://github.com/armandossrecife/machinelearning.git concluída com sucesso! -> instante: 2023-02-03 22:08:36.119458\n",
            "Clonagem do repo https://github.com/armandossrecife/syspromocity.git concluída com sucesso! -> instante: 2023-02-03 22:08:36.853011\n",
            "Clonagem do repo https://github.com/topicos-sistemas-distribuidos/systagram.git concluída com sucesso! -> instante: 2023-02-03 22:08:40.426193\n",
            "Clonagem do repo https://github.com/apache/cassandra.git concluída com sucesso! -> instante: 2023-02-03 22:09:23.603845\n",
            "\n",
            "Tempo total de 8 clonagens: 0:00:53.041520s\n",
            "\n",
            "Lista de tempos de inicio: [('repositorio1', datetime.datetime(2023, 2, 3, 22, 8, 30, 564705)), ('repositorio2', datetime.datetime(2023, 2, 3, 22, 8, 30, 566060)), ('repositorio3', datetime.datetime(2023, 2, 3, 22, 8, 30, 567043)), ('repositorio4', datetime.datetime(2023, 2, 3, 22, 8, 30, 575479)), ('repositorio5', datetime.datetime(2023, 2, 3, 22, 8, 30, 600498)), ('repositorio6', datetime.datetime(2023, 2, 3, 22, 8, 30, 603209)), ('repositorio7', datetime.datetime(2023, 2, 3, 22, 8, 30, 614259)), ('repositorio8', datetime.datetime(2023, 2, 3, 22, 8, 30, 639003))]\n",
            "Lista de tempos de conclusao: [('repositorio6', datetime.datetime(2023, 2, 3, 22, 8, 32, 32136)), ('repositorio8', datetime.datetime(2023, 2, 3, 22, 8, 32, 315250)), ('repositorio3', datetime.datetime(2023, 2, 3, 22, 8, 32, 523335)), ('repositorio2', datetime.datetime(2023, 2, 3, 22, 8, 35, 610325)), ('repositorio7', datetime.datetime(2023, 2, 3, 22, 8, 36, 119458)), ('repositorio4', datetime.datetime(2023, 2, 3, 22, 8, 36, 853011)), ('repositorio5', datetime.datetime(2023, 2, 3, 22, 8, 40, 426193)), ('repositorio1', datetime.datetime(2023, 2, 3, 22, 9, 23, 603845))]\n",
            "\n",
            "Tempo de download do repositorio1 é: 0:00:53.039140 s\n",
            "Tempo de download do repositorio2 é: 0:00:05.044265 s\n",
            "Tempo de download do repositorio3 é: 0:00:01.956292 s\n",
            "Tempo de download do repositorio4 é: 0:00:06.277532 s\n",
            "Tempo de download do repositorio5 é: 0:00:09.825695 s\n",
            "Tempo de download do repositorio6 é: 0:00:01.428927 s\n",
            "Tempo de download do repositorio7 é: 0:00:05.505199 s\n",
            "Tempo de download do repositorio8 é: 0:00:01.676247 s\n"
          ]
        }
      ]
    },
    {
      "cell_type": "code",
      "source": [
        "!rm -rf repositorio*"
      ],
      "metadata": {
        "id": "XF9XH0dDSL66"
      },
      "execution_count": null,
      "outputs": []
    }
  ]
}
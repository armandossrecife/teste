{
  "nbformat": 4,
  "nbformat_minor": 0,
  "metadata": {
    "colab": {
      "provenance": [],
      "authorship_tag": "ABX9TyMIm5I0HbnLmxtvVVBUu8qS",
      "include_colab_link": true
    },
    "kernelspec": {
      "name": "python3",
      "display_name": "Python 3"
    },
    "language_info": {
      "name": "python"
    }
  },
  "cells": [
    {
      "cell_type": "markdown",
      "metadata": {
        "id": "view-in-github",
        "colab_type": "text"
      },
      "source": [
        "<a href=\"https://colab.research.google.com/github/armandossrecife/teste/blob/main/cloning_repos_in_threads.ipynb\" target=\"_parent\"><img src=\"https://colab.research.google.com/assets/colab-badge.svg\" alt=\"Open In Colab\"/></a>"
      ]
    },
    {
      "cell_type": "code",
      "execution_count": 3,
      "metadata": {
        "colab": {
          "base_uri": "https://localhost:8080/"
        },
        "id": "6FPq3cSmRd-d",
        "outputId": "b5f1261d-558d-46ac-ebe9-39cdad5fd85c"
      },
      "outputs": [
        {
          "output_type": "stream",
          "name": "stdout",
          "text": [
            "Comando: python3 -m pip install gitpython executado com sucesso!\n"
          ]
        }
      ],
      "source": [
        "import os\n",
        "import threading\n",
        "import datetime\n",
        "\n",
        "def executa_comando_so(comando):\n",
        "  try:\n",
        "    os.system(comando)\n",
        "    print(f'Comando: {comando} executado com sucesso!')\n",
        "  except:\n",
        "    print(f'Erro ao executar o comando {comando}')\n",
        "\n",
        "instala_git_python = 'python3 -m pip install gitpython' \n",
        "executa_comando_so(instala_git_python)"
      ]
    },
    {
      "cell_type": "code",
      "source": [
        "from git import Repo\n",
        "\n",
        "def my_clone(git_url, repo_dir, lista):\n",
        "  try:\n",
        "    Repo.clone_from(git_url, repo_dir)\n",
        "    tempo = datetime.datetime.now()\n",
        "    print(f'Clonagem do repo {git_url} concluída com sucesso! -> instante: {tempo}')\n",
        "    elemento = (repo_dir, tempo)\n",
        "    lista.append(elemento)\n",
        "  except Exception as ex:\n",
        "    print(f\"Erro ao clonar o repo: {git_url} - {str(ex)}\")\n",
        "\n",
        "def clona_repositorios(qtd_repositorios, lista_urls, lista_threads, lista_tempo_inicio, lista_tempo_conclusao):\n",
        "  for i in range(qtd_repositorios):\n",
        "    nome = 'repositorio'+str(i+1)\n",
        "    tdi = threading.Thread(target=my_clone, args=(lista_urls[i], nome, lista_tempo_conclusao)) # Thread que inicia cada clonagem\n",
        "    tdi.name = 'Thread-'+str(i+1) # nome do objeto thread recem criado\n",
        "    inicio_thread = datetime.datetime.now() # instante que o clone inicia\n",
        "    print(f\"Thread {i+1} iniciada em {inicio_thread} - clonando {nome}:{lista_urls[i]}...\")\n",
        "    lista_threads.append(tdi) # insere a thread recem criada na lista de threads\n",
        "    elemento = (nome, inicio_thread)\n",
        "    lista_tempo_inicio.append(elemento)\n",
        "    tdi.start() # inicia a thread\n",
        "  for each in lista_threads:\n",
        "    each.join()\n",
        "\n",
        "def mostra_tempo_clonagens(lista_tempo_inicio, lista_tempo_conclusao):\n",
        "  for t1 in lista_tempo_inicio:\n",
        "    for t2 in lista_tempo_conclusao:\n",
        "      if (t1[0]==t2[0]):\n",
        "        print(f\"Tempo de download do {t1[0]} é: {t2[1]-t1[1]} s\")"
      ],
      "metadata": {
        "id": "Y7SCXGgbRm6t"
      },
      "execution_count": 4,
      "outputs": []
    },
    {
      "cell_type": "code",
      "source": [
        "lista_urls = ['https://github.com/apache/cassandra.git', 'https://github.com/armandossrecife/teste', 'https://github.com/Technical-Debt-Large-Scale/sysrepoanalysis.git', 'https://github.com/armandossrecife/syspromocity.git', 'https://github.com/topicos-sistemas-distribuidos/systagram.git', 'https://github.com/topicos-sistemas-distribuidos/hadoop-twitter.git', 'https://github.com/armandossrecife/machinelearning.git', 'https://github.com/armandossrecife/loja.git']\n",
        "lista_tempo_conclusao = []\n",
        "lista_threads = [] # lista que armazena dos threads que vao fazer os clones\n",
        "lista_tempo_inicio = [] # lista que vai guardar o instante de inicio de cada thread de clonagem\n",
        "\n",
        "print(\"bloco de clonagem...\")\n",
        "tempo1 = datetime.datetime.now()\n",
        "clona_repositorios(len(lista_urls), lista_urls, lista_threads, lista_tempo_inicio, lista_tempo_conclusao)  \n",
        "tempo2 = datetime.datetime.now()\n",
        "\n",
        "print(\"\")\n",
        "print(f\"Tempo total de {len(lista_urls)} clonagens: {tempo2-tempo1}s\")\n",
        "print(\"\")\n",
        "print(f'Lista de tempos de inicio: {lista_tempo_inicio}')\n",
        "print(f'Lista de tempos de conclusao: {lista_tempo_conclusao}')\n",
        "print(\"\")\n",
        "mostra_tempo_clonagens(lista_tempo_inicio, lista_tempo_conclusao)"
      ],
      "metadata": {
        "colab": {
          "base_uri": "https://localhost:8080/"
        },
        "id": "y4Lih0idZ5BW",
        "outputId": "3f7d2f19-f7b7-48ba-985d-f1ef3a09d1ce"
      },
      "execution_count": 5,
      "outputs": [
        {
          "output_type": "stream",
          "name": "stdout",
          "text": [
            "bloco de clonagem...\n",
            "Thread 1 iniciada em 2023-02-15 18:49:03.034952 - clonando repositorio1:https://github.com/apache/cassandra.git...\n",
            "Thread 2 iniciada em 2023-02-15 18:49:03.037830 - clonando repositorio2:https://github.com/armandossrecife/teste...\n",
            "Thread 3 iniciada em 2023-02-15 18:49:03.043196 - clonando repositorio3:https://github.com/Technical-Debt-Large-Scale/sysrepoanalysis.git...\n",
            "Thread 4 iniciada em 2023-02-15 18:49:03.050347 - clonando repositorio4:https://github.com/armandossrecife/syspromocity.git...\n",
            "Thread 5 iniciada em 2023-02-15 18:49:03.070133 - clonando repositorio5:https://github.com/topicos-sistemas-distribuidos/systagram.git...\n",
            "Thread 6 iniciada em 2023-02-15 18:49:03.086428 - clonando repositorio6:https://github.com/topicos-sistemas-distribuidos/hadoop-twitter.git...\n",
            "Thread 7 iniciada em 2023-02-15 18:49:03.089828 - clonando repositorio7:https://github.com/armandossrecife/machinelearning.git...\n",
            "Thread 8 iniciada em 2023-02-15 18:49:03.096712 - clonando repositorio8:https://github.com/armandossrecife/loja.git...\n",
            "Clonagem do repo https://github.com/topicos-sistemas-distribuidos/hadoop-twitter.git concluída com sucesso! -> instante: 2023-02-15 18:49:04.438065\n",
            "Clonagem do repo https://github.com/armandossrecife/loja.git concluída com sucesso! -> instante: 2023-02-15 18:49:04.908640\n",
            "Clonagem do repo https://github.com/armandossrecife/teste concluída com sucesso! -> instante: 2023-02-15 18:49:05.778917\n",
            "Clonagem do repo https://github.com/Technical-Debt-Large-Scale/sysrepoanalysis.git concluída com sucesso! -> instante: 2023-02-15 18:49:05.960777\n",
            "Clonagem do repo https://github.com/armandossrecife/syspromocity.git concluída com sucesso! -> instante: 2023-02-15 18:49:09.096867\n",
            "Clonagem do repo https://github.com/armandossrecife/machinelearning.git concluída com sucesso! -> instante: 2023-02-15 18:49:09.511965\n",
            "Clonagem do repo https://github.com/topicos-sistemas-distribuidos/systagram.git concluída com sucesso! -> instante: 2023-02-15 18:49:14.306994\n",
            "Clonagem do repo https://github.com/apache/cassandra.git concluída com sucesso! -> instante: 2023-02-15 18:49:55.817049\n",
            "\n",
            "Tempo total de 8 clonagens: 0:00:52.785167s\n",
            "\n",
            "Lista de tempos de inicio: [('repositorio1', datetime.datetime(2023, 2, 15, 18, 49, 3, 34952)), ('repositorio2', datetime.datetime(2023, 2, 15, 18, 49, 3, 37830)), ('repositorio3', datetime.datetime(2023, 2, 15, 18, 49, 3, 43196)), ('repositorio4', datetime.datetime(2023, 2, 15, 18, 49, 3, 50347)), ('repositorio5', datetime.datetime(2023, 2, 15, 18, 49, 3, 70133)), ('repositorio6', datetime.datetime(2023, 2, 15, 18, 49, 3, 86428)), ('repositorio7', datetime.datetime(2023, 2, 15, 18, 49, 3, 89828)), ('repositorio8', datetime.datetime(2023, 2, 15, 18, 49, 3, 96712))]\n",
            "Lista de tempos de conclusao: [('repositorio6', datetime.datetime(2023, 2, 15, 18, 49, 4, 438065)), ('repositorio8', datetime.datetime(2023, 2, 15, 18, 49, 4, 908640)), ('repositorio2', datetime.datetime(2023, 2, 15, 18, 49, 5, 778917)), ('repositorio3', datetime.datetime(2023, 2, 15, 18, 49, 5, 960777)), ('repositorio4', datetime.datetime(2023, 2, 15, 18, 49, 9, 96867)), ('repositorio7', datetime.datetime(2023, 2, 15, 18, 49, 9, 511965)), ('repositorio5', datetime.datetime(2023, 2, 15, 18, 49, 14, 306994)), ('repositorio1', datetime.datetime(2023, 2, 15, 18, 49, 55, 817049))]\n",
            "\n",
            "Tempo de download do repositorio1 é: 0:00:52.782097 s\n",
            "Tempo de download do repositorio2 é: 0:00:02.741087 s\n",
            "Tempo de download do repositorio3 é: 0:00:02.917581 s\n",
            "Tempo de download do repositorio4 é: 0:00:06.046520 s\n",
            "Tempo de download do repositorio5 é: 0:00:11.236861 s\n",
            "Tempo de download do repositorio6 é: 0:00:01.351637 s\n",
            "Tempo de download do repositorio7 é: 0:00:06.422137 s\n",
            "Tempo de download do repositorio8 é: 0:00:01.811928 s\n"
          ]
        }
      ]
    },
    {
      "cell_type": "code",
      "source": [
        "!ls -d */"
      ],
      "metadata": {
        "colab": {
          "base_uri": "https://localhost:8080/"
        },
        "id": "zRkfJFwNaY2y",
        "outputId": "c8d68ce3-848e-4634-bf18-7538f7c9f4bc"
      },
      "execution_count": 7,
      "outputs": [
        {
          "output_type": "stream",
          "name": "stdout",
          "text": [
            "repositorio1/  repositorio3/  repositorio5/  repositorio7/  sample_data/\n",
            "repositorio2/  repositorio4/  repositorio6/  repositorio8/\n"
          ]
        }
      ]
    },
    {
      "cell_type": "code",
      "source": [
        "!rm -rf repositorio*"
      ],
      "metadata": {
        "id": "XF9XH0dDSL66"
      },
      "execution_count": 8,
      "outputs": []
    },
    {
      "cell_type": "code",
      "source": [
        "import os\n",
        "import shutil\n",
        "import subprocess\n",
        "from multiprocessing import Pool\n",
        "import datetime\n",
        "\n",
        "def clone_repo(repo_url):\n",
        "  repo_name = repo_url.split('/')[-1].split('.')[0]\n",
        "  if os.path.isdir(repo_name):\n",
        "    # Remove o repositorio caso ele existe no diretorio corrente\n",
        "    shutil.rmtree(repo_name)\n",
        "  t1 = datetime.datetime.now()\n",
        "  print(f'Clonando repositorio {repo_name}')\n",
        "  print('\\n')\n",
        "  subprocess.check_output(['git', 'clone', repo_url])\n",
        "  print(f'Repositorio {repo_name} clonado com sucesso!');\n",
        "  t2 = datetime.datetime.now()\n",
        "  tempo = t2-t1\n",
        "  print(f'Tempo de clonagem do repositorio {repo_name}: {tempo}')\n",
        "\n",
        "# Use a process pool to clone repositories in parallel\n",
        "def multiprocess(num_processes, repo_urls):\n",
        "  t1 = datetime.datetime.now()\n",
        "  print('Processando as clonagens no pool de processos...')\n",
        "  with Pool(num_processes) as p:\n",
        "    p.map(clone_repo, repo_urls)\n",
        "  t2 = datetime.datetime.now()\n",
        "  print(f'Fim do processamento do pool de processos. Tempo total das {num_processes} clonagens: {t2-t1}')"
      ],
      "metadata": {
        "id": "O-LiwDjGYnpu"
      },
      "execution_count": 10,
      "outputs": []
    },
    {
      "cell_type": "code",
      "source": [
        "lista_urls = ['https://github.com/apache/cassandra.git', 'https://github.com/armandossrecife/teste', 'https://github.com/Technical-Debt-Large-Scale/sysrepoanalysis.git', 'https://github.com/armandossrecife/syspromocity.git', 'https://github.com/topicos-sistemas-distribuidos/systagram.git', 'https://github.com/topicos-sistemas-distribuidos/hadoop-twitter.git', 'https://github.com/armandossrecife/machinelearning.git', 'https://github.com/armandossrecife/loja.git']\n",
        "# Number of processes to use for cloning repositories\n",
        "num_processes = len(lista_urls)\n",
        "\n",
        "multiprocess(num_processes, lista_urls)"
      ],
      "metadata": {
        "id": "5B_bhjsPYsQm",
        "outputId": "f204297f-ae25-41df-e37e-1585841e662e",
        "colab": {
          "base_uri": "https://localhost:8080/"
        }
      },
      "execution_count": 11,
      "outputs": [
        {
          "output_type": "stream",
          "name": "stdout",
          "text": [
            "Processando as clonagens no pool de processos...\n",
            "Clonando repositorio cassandraClonando repositorio sysrepoanalysisClonando repositorio teste\n",
            "\n",
            "\n",
            "\n",
            "\n",
            "\n",
            "\n",
            "Clonando repositorio hadoop-twitterClonando repositorio systagramClonando repositorio loja\n",
            "Clonando repositorio machinelearning\n",
            "\n",
            "Clonando repositorio syspromocity\n",
            "\n",
            "\n",
            "\n",
            "\n",
            "\n",
            "\n",
            "\n",
            "\n",
            "\n",
            "\n",
            "\n",
            "\n",
            "\n",
            "Repositorio hadoop-twitter clonado com sucesso!\n",
            "Tempo de clonagem do repositorio hadoop-twitter: 0:00:01.223844\n",
            "Repositorio loja clonado com sucesso!\n",
            "Tempo de clonagem do repositorio loja: 0:00:01.685475\n",
            "Repositorio sysrepoanalysis clonado com sucesso!\n",
            "Tempo de clonagem do repositorio sysrepoanalysis: 0:00:01.969609\n",
            "Repositorio teste clonado com sucesso!\n",
            "Tempo de clonagem do repositorio teste: 0:00:02.161285\n",
            "Repositorio syspromocity clonado com sucesso!\n",
            "Repositorio machinelearning clonado com sucesso!Tempo de clonagem do repositorio syspromocity: 0:00:05.605262\n",
            "\n",
            "Tempo de clonagem do repositorio machinelearning: 0:00:05.602585\n",
            "Repositorio systagram clonado com sucesso!\n",
            "Tempo de clonagem do repositorio systagram: 0:00:08.910627\n",
            "Repositorio cassandra clonado com sucesso!\n",
            "Tempo de clonagem do repositorio cassandra: 0:00:51.514945\n",
            "Fim do processamento do pool de processos. Tempo total das 8 clonagens: 0:00:51.624642\n"
          ]
        }
      ]
    },
    {
      "cell_type": "code",
      "source": [
        "!ls -d */"
      ],
      "metadata": {
        "id": "kpLnSBckZQxv",
        "outputId": "c572f999-73aa-4903-b514-922b2b0d9185",
        "colab": {
          "base_uri": "https://localhost:8080/"
        }
      },
      "execution_count": null,
      "outputs": [
        {
          "output_type": "stream",
          "name": "stdout",
          "text": [
            "cassandra/\t loja/\t\t   sample_data/   sysrepoanalysis/  teste/\n",
            "hadoop-twitter/  machinelearning/  syspromocity/  systagram/\n"
          ]
        }
      ]
    },
    {
      "cell_type": "code",
      "source": [],
      "metadata": {
        "id": "MGXU_qreZSqJ"
      },
      "execution_count": null,
      "outputs": []
    }
  ]
}
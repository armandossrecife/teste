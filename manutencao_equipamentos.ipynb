{
  "nbformat": 4,
  "nbformat_minor": 0,
  "metadata": {
    "colab": {
      "provenance": [],
      "authorship_tag": "ABX9TyOLUefvIYrlIag/5BN2fYZz",
      "include_colab_link": true
    },
    "kernelspec": {
      "name": "python3",
      "display_name": "Python 3"
    },
    "language_info": {
      "name": "python"
    }
  },
  "cells": [
    {
      "cell_type": "markdown",
      "metadata": {
        "id": "view-in-github",
        "colab_type": "text"
      },
      "source": [
        "<a href=\"https://colab.research.google.com/github/armandossrecife/teste/blob/main/manutencao_equipamentos.ipynb\" target=\"_parent\"><img src=\"https://colab.research.google.com/assets/colab-badge.svg\" alt=\"Open In Colab\"/></a>"
      ]
    },
    {
      "cell_type": "code",
      "execution_count": 3,
      "metadata": {
        "id": "x4y0QF_Buxnx"
      },
      "outputs": [],
      "source": [
        "from datetime import datetime, timedelta\n",
        "import random\n",
        "\n",
        "class Equipment:\n",
        "    def __init__(self, id, name, maintenance_interval_days):\n",
        "        self.id = id\n",
        "        self.name = name\n",
        "        self.maintenance_interval_days = maintenance_interval_days\n",
        "        self.last_maintenance_date = None\n",
        "\n",
        "    def schedule_next_maintenance(self):\n",
        "        if self.last_maintenance_date:\n",
        "            next_maintenance = self.last_maintenance_date + timedelta(days=self.maintenance_interval_days)\n",
        "        else:\n",
        "            next_maintenance = datetime.now() + timedelta(days=self.maintenance_interval_days)\n",
        "        return next_maintenance\n",
        "\n",
        "    def perform_maintenance(self):\n",
        "        self.last_maintenance_date = datetime.now()\n",
        "        print(f\"Manutenção realizada no equipamento {self.name} em {self.last_maintenance_date.strftime('%Y-%m-%d %H:%M:%S')}\")\n",
        "\n",
        "\n",
        "class MaintenanceManager:\n",
        "    def __init__(self):\n",
        "        self.equipments = []\n",
        "\n",
        "    def add_equipment(self, equipment):\n",
        "        self.equipments.append(equipment)\n",
        "\n",
        "    def check_maintenance_schedule(self):\n",
        "        for equipment in self.equipments:\n",
        "            next_maintenance = equipment.schedule_next_maintenance()\n",
        "            print(f\"Equipamento: {equipment.name}, Próxima manutenção: {next_maintenance.strftime('%Y-%m-%d %H:%M:%S')}\")\n",
        "\n",
        "    def perform_maintenance(self, equipment_id):\n",
        "        for equipment in self.equipments:\n",
        "            if equipment.id == equipment_id:\n",
        "                equipment.perform_maintenance()\n",
        "                return\n",
        "        print(f\"Equipamento com ID {equipment_id} não encontrado\")"
      ]
    },
    {
      "cell_type": "code",
      "source": [
        "# Exemplo de uso\n",
        "if __name__ == \"__main__\":\n",
        "    manager = MaintenanceManager()\n",
        "\n",
        "    # Adicionando equipamentos\n",
        "    eq1 = Equipment(1, \"Turbina\", 30)\n",
        "    eq2 = Equipment(2, \"Gerador\", 60)\n",
        "    eq3 = Equipment(3, \"Bomba\", 90)\n",
        "\n",
        "    manager.add_equipment(eq1)\n",
        "    manager.add_equipment(eq2)\n",
        "    manager.add_equipment(eq3)\n",
        "\n",
        "    # Verificando o cronograma de manutenção\n",
        "    manager.check_maintenance_schedule()\n",
        "\n",
        "    # Realizando manutenção\n",
        "    manager.perform_maintenance(1)\n",
        "\n",
        "    # Verificando novamente o cronograma após a manutenção\n",
        "    manager.check_maintenance_schedule()\n"
      ],
      "metadata": {
        "colab": {
          "base_uri": "https://localhost:8080/"
        },
        "id": "G7OoWybkvA94",
        "outputId": "0c57cde2-a366-43f1-96ed-6aa4250a7231"
      },
      "execution_count": 2,
      "outputs": [
        {
          "output_type": "stream",
          "name": "stdout",
          "text": [
            "Equipamento: Turbina, Próxima manutenção: 2024-07-28 21:24:35\n",
            "Equipamento: Gerador, Próxima manutenção: 2024-08-27 21:24:35\n",
            "Equipamento: Bomba, Próxima manutenção: 2024-09-26 21:24:35\n",
            "Manutenção realizada no equipamento Turbina em 2024-06-28 21:24:35\n",
            "Equipamento: Turbina, Próxima manutenção: 2024-07-28 21:24:35\n",
            "Equipamento: Gerador, Próxima manutenção: 2024-08-27 21:24:35\n",
            "Equipamento: Bomba, Próxima manutenção: 2024-09-26 21:24:35\n"
          ]
        }
      ]
    },
    {
      "cell_type": "code",
      "source": [
        "# Função para gerar uma data aleatória no passado\n",
        "def random_past_date(days_ago):\n",
        "    return datetime.now() - timedelta(days=random.randint(0, days_ago))\n",
        "\n",
        "# Função para gerar dados de equipamentos\n",
        "def generate_equipment_data():\n",
        "    equipment_data = [\n",
        "        {\"id\": 1, \"name\": \"Turbina\", \"maintenance_interval_days\": 30, \"last_maintenance_date\": random_past_date(100)},\n",
        "        {\"id\": 2, \"name\": \"Gerador\", \"maintenance_interval_days\": 60, \"last_maintenance_date\": random_past_date(200)},\n",
        "        {\"id\": 3, \"name\": \"Bomba\", \"maintenance_interval_days\": 90, \"last_maintenance_date\": random_past_date(300)},\n",
        "        {\"id\": 4, \"name\": \"Compressor\", \"maintenance_interval_days\": 45, \"last_maintenance_date\": random_past_date(150)},\n",
        "        {\"id\": 5, \"name\": \"Caldeira\", \"maintenance_interval_days\": 120, \"last_maintenance_date\": random_past_date(400)}\n",
        "    ]\n",
        "    return equipment_data\n",
        "\n",
        "# Função para criar objetos Equipment a partir dos dados gerados\n",
        "def create_equipments_from_data(data):\n",
        "    equipments = []\n",
        "    for item in data:\n",
        "        eq = Equipment(item[\"id\"], item[\"name\"], item[\"maintenance_interval_days\"])\n",
        "        eq.last_maintenance_date = item[\"last_maintenance_date\"]\n",
        "        equipments.append(eq)\n",
        "    return equipments\n",
        "\n",
        "# Exemplo de uso com dados gerados\n",
        "if __name__ == \"__main__\":\n",
        "    manager = MaintenanceManager()\n",
        "\n",
        "    # Gerando dados de equipamentos\n",
        "    equipment_data = generate_equipment_data()\n",
        "\n",
        "    # Criando objetos Equipment a partir dos dados gerados\n",
        "    equipments = create_equipments_from_data(equipment_data)\n",
        "\n",
        "    # Adicionando equipamentos ao gerenciador\n",
        "    for eq in equipments:\n",
        "        manager.add_equipment(eq)\n",
        "\n",
        "    # Verificando o cronograma de manutenção\n",
        "    print(\"Cronograma de manutenção inicial:\")\n",
        "    manager.check_maintenance_schedule()\n",
        "\n",
        "    print(\"\\nRealizando manutenção em um dos equipamentos:\")\n",
        "    # Realizando manutenção em um dos equipamentos\n",
        "    manager.perform_maintenance(1)\n",
        "    manager.perform_maintenance(2)\n",
        "    manager.perform_maintenance(3)\n",
        "\n",
        "    # Verificando novamente o cronograma após a manutenção\n",
        "    print(\"\\nCronograma de manutenção após manutenção no equipamento 1:\")\n",
        "    manager.check_maintenance_schedule()\n"
      ],
      "metadata": {
        "colab": {
          "base_uri": "https://localhost:8080/"
        },
        "id": "vcSJlqQRvle2",
        "outputId": "b50dbdb6-fe9a-4560-d048-485a314ac68e"
      },
      "execution_count": 6,
      "outputs": [
        {
          "output_type": "stream",
          "name": "stdout",
          "text": [
            "Cronograma de manutenção inicial:\n",
            "Equipamento: Turbina, Próxima manutenção: 2024-06-17 21:31:02\n",
            "Equipamento: Gerador, Próxima manutenção: 2024-03-25 21:31:02\n",
            "Equipamento: Bomba, Próxima manutenção: 2024-06-30 21:31:02\n",
            "Equipamento: Compressor, Próxima manutenção: 2024-05-06 21:31:02\n",
            "Equipamento: Caldeira, Próxima manutenção: 2024-10-06 21:31:02\n",
            "\n",
            "Realizando manutenção em um dos equipamentos:\n",
            "Manutenção realizada no equipamento Turbina em 2024-06-28 21:31:02\n",
            "Manutenção realizada no equipamento Gerador em 2024-06-28 21:31:02\n",
            "Manutenção realizada no equipamento Bomba em 2024-06-28 21:31:02\n",
            "\n",
            "Cronograma de manutenção após manutenção no equipamento 1:\n",
            "Equipamento: Turbina, Próxima manutenção: 2024-07-28 21:31:02\n",
            "Equipamento: Gerador, Próxima manutenção: 2024-08-27 21:31:02\n",
            "Equipamento: Bomba, Próxima manutenção: 2024-09-26 21:31:02\n",
            "Equipamento: Compressor, Próxima manutenção: 2024-05-06 21:31:02\n",
            "Equipamento: Caldeira, Próxima manutenção: 2024-10-06 21:31:02\n"
          ]
        }
      ]
    }
  ]
}
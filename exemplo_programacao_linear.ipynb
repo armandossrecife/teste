{
  "nbformat": 4,
  "nbformat_minor": 0,
  "metadata": {
    "colab": {
      "provenance": [],
      "authorship_tag": "ABX9TyOIbZfePD1i8WxJJY7PJWep",
      "include_colab_link": true
    },
    "kernelspec": {
      "name": "python3",
      "display_name": "Python 3"
    },
    "language_info": {
      "name": "python"
    }
  },
  "cells": [
    {
      "cell_type": "markdown",
      "metadata": {
        "id": "view-in-github",
        "colab_type": "text"
      },
      "source": [
        "<a href=\"https://colab.research.google.com/github/armandossrecife/teste/blob/main/exemplo_programacao_linear.ipynb\" target=\"_parent\"><img src=\"https://colab.research.google.com/assets/colab-badge.svg\" alt=\"Open In Colab\"/></a>"
      ]
    },
    {
      "cell_type": "markdown",
      "source": [
        "# Solução de problemas usando programação linear\n",
        "\n",
        "https://coin-or.github.io/pulp\n",
        "\n",
        "Optimization with PuLP\n",
        "\n",
        "PuLP is an linear and mixed integer programming modeler written in Python."
      ],
      "metadata": {
        "id": "hTze2od-_poi"
      }
    },
    {
      "cell_type": "markdown",
      "source": [
        "## Alocação de Tarefas com Programação Linear em Python\n",
        "\n",
        "### Entendendo o Problema\n",
        "Imagine uma empresa com 3 funcionários (A, B, C) e 4 tarefas (T1, T2, T3, T4). Cada funcionário possui uma eficiência diferente para cada tarefa, resultando em tempos de execução distintos. O objetivo é atribuir cada tarefa a um único funcionário de modo que o tempo total de execução seja minimizado.\n",
        "\n",
        "### Modelando o Problema\n",
        "* **Variáveis de decisão:** x[i][j] = 1 se a tarefa i for atribuída ao funcionário j, 0 caso contrário.\n",
        "* **Função objetivo:** Minimizar a soma do produto entre o tempo de execução da tarefa e a variável de decisão.\n",
        "* **Restrições:**\n",
        "    * Cada tarefa deve ser atribuída a apenas um funcionário.\n",
        "    * Cada funcionário não pode receber mais tarefas do que sua capacidade.\n"
      ],
      "metadata": {
        "id": "otbx_MsJADms"
      }
    },
    {
      "cell_type": "code",
      "source": [
        "!pip install pulp"
      ],
      "metadata": {
        "colab": {
          "base_uri": "https://localhost:8080/"
        },
        "id": "R1-6S9Dl_8oB",
        "outputId": "1b9138e1-bd3a-4a56-a089-894033ee5ebc"
      },
      "execution_count": 1,
      "outputs": [
        {
          "output_type": "stream",
          "name": "stdout",
          "text": [
            "Collecting pulp\n",
            "  Downloading PuLP-2.9.0-py3-none-any.whl.metadata (5.4 kB)\n",
            "Downloading PuLP-2.9.0-py3-none-any.whl (17.7 MB)\n",
            "\u001b[2K   \u001b[90m━━━━━━━━━━━━━━━━━━━━━━━━━━━━━━━━━━━━━━━━\u001b[0m \u001b[32m17.7/17.7 MB\u001b[0m \u001b[31m40.0 MB/s\u001b[0m eta \u001b[36m0:00:00\u001b[0m\n",
            "\u001b[?25hInstalling collected packages: pulp\n",
            "Successfully installed pulp-2.9.0\n"
          ]
        }
      ]
    },
    {
      "cell_type": "code",
      "source": [
        "from pulp import *"
      ],
      "metadata": {
        "id": "5Kb5tz0iFPMM"
      },
      "execution_count": null,
      "outputs": []
    },
    {
      "cell_type": "markdown",
      "source": [
        "# 3a tentativa"
      ],
      "metadata": {
        "id": "Vvt5k74wDqCZ"
      }
    },
    {
      "cell_type": "code",
      "source": [
        "# Dados do problema\n",
        "tempo_execucao = [[3, 2, 4],  # Tempo de execução da tarefa i pelo funcionário j\n",
        "                  [1, 5, 3],\n",
        "                  [2, 4, 1],\n",
        "                  [4, 3, 2]]\n",
        "\n",
        "num_tarefas = len(tempo_execucao)\n",
        "num_funcionarios = len(tempo_execucao[0])"
      ],
      "metadata": {
        "id": "YKvJvwGpEDho"
      },
      "execution_count": 17,
      "outputs": []
    },
    {
      "cell_type": "code",
      "source": [
        "print(\"num_tarefas\", num_tarefas)\n",
        "print(\"num_funcionarios\", num_funcionarios)\n",
        "print(\"tempo_execucao das tarefas\", tempo_execucao)"
      ],
      "metadata": {
        "colab": {
          "base_uri": "https://localhost:8080/"
        },
        "id": "zbxMeQkkEE5i",
        "outputId": "097024a2-0167-46fa-8f78-fe11eab7e564"
      },
      "execution_count": 22,
      "outputs": [
        {
          "output_type": "stream",
          "name": "stdout",
          "text": [
            "num_tarefas 4\n",
            "num_funcionarios 3\n",
            "tempo_execucao das tarefas [[3, 2, 4], [1, 5, 3], [2, 4, 1], [4, 3, 2]]\n"
          ]
        }
      ]
    },
    {
      "cell_type": "code",
      "source": [
        "meus_funcionarios = {0:'A', 1:'B', 2:'C'}\n",
        "minhas_tarefas = {0:'T1', 1:'T2', 2:'T3', 3:'T4'}"
      ],
      "metadata": {
        "id": "BTxFPUg9HpQx"
      },
      "execution_count": 34,
      "outputs": []
    },
    {
      "cell_type": "code",
      "source": [
        "# Criar o problema de minimização\n",
        "prob = LpProblem(\"Alocacao_Tarefas\", LpMinimize)\n",
        "\n",
        "# Criar as variáveis de decisão\n",
        "x = LpVariable.dicts(\"Alocacao\", [(i, j) for i in range(num_tarefas) for j in range(num_funcionarios)], 0, 1, LpBinary)\n",
        "\n",
        "print(\"Variáveis de decisão: \")\n",
        "for k, v in x.items():\n",
        "    print(f\"Tarefa: {minhas_tarefas[k[0]]}, Funcionário: {meus_funcionarios[k[1]]}, Tarefa alocada: {v}\")"
      ],
      "metadata": {
        "colab": {
          "base_uri": "https://localhost:8080/"
        },
        "id": "8b2OHHK5EdlR",
        "outputId": "f0e5ad80-2bc1-4e12-a8bd-203b9423bf51"
      },
      "execution_count": 37,
      "outputs": [
        {
          "output_type": "stream",
          "name": "stdout",
          "text": [
            "Variáveis de decisão: \n",
            "Tarefa: T1, Funcionário: A, Tarefa alocada: Alocacao_(0,_0)\n",
            "Tarefa: T1, Funcionário: B, Tarefa alocada: Alocacao_(0,_1)\n",
            "Tarefa: T1, Funcionário: C, Tarefa alocada: Alocacao_(0,_2)\n",
            "Tarefa: T2, Funcionário: A, Tarefa alocada: Alocacao_(1,_0)\n",
            "Tarefa: T2, Funcionário: B, Tarefa alocada: Alocacao_(1,_1)\n",
            "Tarefa: T2, Funcionário: C, Tarefa alocada: Alocacao_(1,_2)\n",
            "Tarefa: T3, Funcionário: A, Tarefa alocada: Alocacao_(2,_0)\n",
            "Tarefa: T3, Funcionário: B, Tarefa alocada: Alocacao_(2,_1)\n",
            "Tarefa: T3, Funcionário: C, Tarefa alocada: Alocacao_(2,_2)\n",
            "Tarefa: T4, Funcionário: A, Tarefa alocada: Alocacao_(3,_0)\n",
            "Tarefa: T4, Funcionário: B, Tarefa alocada: Alocacao_(3,_1)\n",
            "Tarefa: T4, Funcionário: C, Tarefa alocada: Alocacao_(3,_2)\n"
          ]
        }
      ]
    },
    {
      "cell_type": "code",
      "source": [
        "# Função objetivo: Minimizar o tempo total de execução\n",
        "prob += lpSum(tempo_execucao[i][j] * x[(i, j)] for i in range(num_tarefas) for j in range(num_funcionarios))\n",
        "\n",
        "# Restrições: Cada tarefa deve ser atribuída a apenas um funcionário\n",
        "for i in range(num_tarefas):\n",
        "    prob += lpSum(x[(i, j)] for j in range(num_funcionarios)) == 1"
      ],
      "metadata": {
        "id": "brMWb-K7FrZ_"
      },
      "execution_count": 38,
      "outputs": []
    },
    {
      "cell_type": "code",
      "source": [
        "# Restrições: Capacidade de cada funcionário (exemplo: cada funcionário pode fazer no máximo 2 tarefas)\n",
        "capacidade_funcionarios = [2, 2, 2]  # Ajustar conforme necessário\n",
        "for j in range(num_funcionarios):\n",
        "    prob += lpSum(x[(i, j)] for i in range(num_tarefas)) <= capacidade_funcionarios[j]"
      ],
      "metadata": {
        "id": "Fwam27Y2FxMU"
      },
      "execution_count": 39,
      "outputs": []
    },
    {
      "cell_type": "code",
      "source": [
        "# Resolver o problema\n",
        "prob.solve()\n",
        "\n",
        "# Verificar o status da solução\n",
        "status = LpStatus[prob.status]\n",
        "print(f\"Status da solução: {status}\")\n",
        "\n",
        "# Imprimir a solução, se for ótima\n",
        "if status == \"Optimal\":\n",
        "    for i in range(num_tarefas):\n",
        "        for j in range(num_funcionarios):\n",
        "            if x[(i, j)].varValue == 1:\n",
        "                print(f\"Tarefa {i+1} atribuída ao funcionário {j+1}\")\n",
        "else:\n",
        "    print(\"Não foi encontrada uma solução ótima.\")\n"
      ],
      "metadata": {
        "colab": {
          "base_uri": "https://localhost:8080/"
        },
        "id": "kOw_uYL6DrB2",
        "outputId": "b3ebaa12-9e76-47b5-c389-ff288c1aea2b"
      },
      "execution_count": 31,
      "outputs": [
        {
          "output_type": "stream",
          "name": "stdout",
          "text": [
            "Status da solução: Optimal\n",
            "Tarefa 1 atribuída ao funcionário 2\n",
            "Tarefa 2 atribuída ao funcionário 1\n",
            "Tarefa 3 atribuída ao funcionário 3\n",
            "Tarefa 4 atribuída ao funcionário 3\n"
          ]
        }
      ]
    },
    {
      "cell_type": "markdown",
      "source": [
        "### Explicação do Código:\n",
        "\n",
        "1. **Definição dos dados:** Definimos uma matriz `tempo_execucao` que contém o tempo de execução de cada tarefa por cada funcionário.\n",
        "2. **Criação do problema:** Criamos um problema de minimização usando `LpProblem`.\n",
        "3. **Variáveis de decisão:** Criamos variáveis binárias `x[i][j]` para representar se a tarefa i é atribuída ao funcionário j.\n",
        "4. **Função objetivo:** Definimos a função objetivo como a soma do produto entre o tempo de execução e a variável de decisão.\n",
        "5. **Restrições:**\n",
        "    * **Cada tarefa uma vez:** Cada tarefa deve ser atribuída a exatamente um funcionário.\n",
        "    * **Capacidade dos funcionários:** Cada funcionário não pode receber mais tarefas do que sua capacidade.\n",
        "6. **Resolução:** Utilizamos o método `solve()` para encontrar a solução ótima.\n",
        "7. **Impressão da solução:** Imprimimos quais tarefas foram atribuídas a cada funcionário.\n",
        "\n",
        "**Observações:**\n",
        "\n",
        "* **Flexibilidade:** Você pode ajustar os dados de entrada (tempo de execução, capacidade dos funcionários) para diferentes cenários.\n",
        "* **Outras restrições:** É possível adicionar mais restrições, como preferências de funcionários por determinadas tarefas, prazos para as tarefas, etc.\n",
        "* **Outras bibliotecas:** Além do PuLP, você pode utilizar outras bibliotecas como SciPy e OR-Tools para resolver problemas de programação linear.\n",
        "\n",
        "**Extensões:**\n",
        "* **Custos:** Você pode adicionar custos associados a cada atribuição.\n",
        "* **Múltiplos recursos:** Considerar outros recursos além do tempo, como materiais ou máquinas.\n",
        "* **Problemas mais complexos:** Resolver problemas de grande escala com milhares de variáveis e restrições.\n",
        "\n",
        "Este exemplo demonstra como a programação linear pode ser utilizada para resolver problemas de alocação de recursos de forma eficiente e eficaz. Ao entender os princípios básicos e a implementação em Python, você poderá aplicar essa técnica em diversos outros problemas de otimização."
      ],
      "metadata": {
        "id": "0zK4wNBKALmb"
      }
    }
  ]
}
{
  "nbformat": 4,
  "nbformat_minor": 0,
  "metadata": {
    "colab": {
      "provenance": [],
      "authorship_tag": "ABX9TyOjCQRwNF5CSRmqHEI1XcP2",
      "include_colab_link": true
    },
    "kernelspec": {
      "name": "python3",
      "display_name": "Python 3"
    },
    "language_info": {
      "name": "python"
    }
  },
  "cells": [
    {
      "cell_type": "markdown",
      "metadata": {
        "id": "view-in-github",
        "colab_type": "text"
      },
      "source": [
        "<a href=\"https://colab.research.google.com/github/armandossrecife/teste/blob/main/manutencao_equipamentos_2.ipynb\" target=\"_parent\"><img src=\"https://colab.research.google.com/assets/colab-badge.svg\" alt=\"Open In Colab\"/></a>"
      ]
    },
    {
      "cell_type": "code",
      "execution_count": 1,
      "metadata": {
        "colab": {
          "base_uri": "https://localhost:8080/"
        },
        "id": "_-1J23DEx8r0",
        "outputId": "a738a765-60b8-4a2f-eb28-2fd05335151c"
      },
      "outputs": [
        {
          "output_type": "stream",
          "name": "stdout",
          "text": [
            "Nenhum equipamento com manutenção vencida.\n"
          ]
        }
      ],
      "source": [
        "import datetime\n",
        "\n",
        "# Dicionário para armazenar informações sobre os equipamentos\n",
        "equipamentos = {\n",
        "    \"Equipamento 1\": {\n",
        "        \"frequencia_manutencao\": 30,  # Frequência em dias\n",
        "        \"ultima_manutencao\": datetime.date(2024, 6, 1),  # Data da última manutenção\n",
        "        \"proxima_manutencao\": None  # Data da próxima manutenção\n",
        "    },\n",
        "    \"Equipamento 2\": {\n",
        "        \"frequencia_manutencao\": 60,\n",
        "        \"ultima_manutencao\": datetime.date(2024, 5, 15),\n",
        "        \"proxima_manutencao\": None\n",
        "    },\n",
        "}\n",
        "\n",
        "def calcular_proxima_manutencao(equipamento):\n",
        "    \"\"\"\n",
        "    Calcula a data da próxima manutenção preventiva para um equipamento.\n",
        "\n",
        "    Args:\n",
        "        equipamento (dict): Dicionário com informações do equipamento.\n",
        "\n",
        "    Returns:\n",
        "        datetime.date: Data da próxima manutenção.\n",
        "    \"\"\"\n",
        "    ultima_manutencao = equipamento[\"ultima_manutencao\"]\n",
        "    frequencia_manutencao = equipamento[\"frequencia_manutencao\"]\n",
        "    proxima_manutencao = ultima_manutencao + datetime.timedelta(days=frequencia_manutencao)\n",
        "    return proxima_manutencao\n",
        "\n",
        "def verificar_manutencao_vencida(equipamento):\n",
        "    \"\"\"\n",
        "    Verifica se a manutenção preventiva de um equipamento está vencida.\n",
        "\n",
        "    Args:\n",
        "        equipamento (dict): Dicionário com informações do equipamento.\n",
        "\n",
        "    Returns:\n",
        "        bool: True se a manutenção estiver vencida, False caso contrário.\n",
        "    \"\"\"\n",
        "    hoje = datetime.date.today()\n",
        "    proxima_manutencao = calcular_proxima_manutencao(equipamento)\n",
        "    return hoje >= proxima_manutencao\n",
        "\n",
        "def exibir_equipamentos_com_manutencao_vencida():\n",
        "    \"\"\"\n",
        "    Exibe uma lista de equipamentos com manutenção preventiva vencida.\n",
        "    \"\"\"\n",
        "    equipamentos_vencidos = []\n",
        "    for nome_equipamento, dados_equipamento in equipamentos.items():\n",
        "        if verificar_manutencao_vencida(dados_equipamento):\n",
        "            equipamentos_vencidos.append(nome_equipamento)\n",
        "\n",
        "    if equipamentos_vencidos:\n",
        "        print(\"Equipamentos com manutenção vencida:\")\n",
        "        for equipamento in equipamentos_vencidos:\n",
        "            print(f\"- {equipamento}\")\n",
        "    else:\n",
        "        print(\"Nenhum equipamento com manutenção vencida.\")\n",
        "\n",
        "# Atualizar a data da próxima manutenção para todos os equipamentos\n",
        "for nome_equipamento, dados_equipamento in equipamentos.items():\n",
        "    dados_equipamento[\"proxima_manutencao\"] = calcular_proxima_manutencao(dados_equipamento)\n",
        "\n",
        "# Exibir a lista de equipamentos com manutenção vencida\n",
        "exibir_equipamentos_com_manutencao_vencida()\n"
      ]
    },
    {
      "cell_type": "code",
      "source": [
        "import datetime\n",
        "import random\n",
        "\n",
        "# Lista de nomes de equipamentos\n",
        "nomes_equipamentos = [\n",
        "    \"Bomba de Água\",\n",
        "    \"Motor Elétrico\",\n",
        "    \"Compressor de Ar\",\n",
        "    \"Transformador\",\n",
        "    \"Caldeira\",\n",
        "    \"Prensa Hidráulica\",\n",
        "    \"Forno Industrial\",\n",
        "    \"Fresa CNC\",\n",
        "    \"Robô Industrial\",\n",
        "    \"Paletizador\",\n",
        "]\n",
        "\n",
        "# Dicionário para armazenar frequências de manutenção (em dias)\n",
        "frequencias_manutencao = {\n",
        "    \"Bomba de Água\": 30,\n",
        "    \"Motor Elétrico\": 60,\n",
        "    \"Compressor de Ar\": 90,\n",
        "    \"Transformador\": 120,\n",
        "    \"Caldeira\": 180,\n",
        "    \"Prensa Hidráulica\": 240,\n",
        "    \"Forno Industrial\": 360,\n",
        "    \"Fresa CNC\": 480,\n",
        "    \"Robô Industrial\": 720,\n",
        "    \"Paletizador\": 1080,\n",
        "}\n",
        "\n",
        "# Dicionário para armazenar datas das últimas manutenções (aleatórias)\n",
        "ultimas_manutencoes = {}\n",
        "for nome_equipamento in nomes_equipamentos:\n",
        "    ultima_manutencao_aleatoria = datetime.date.today() - datetime.timedelta(days=random.randint(1, 365))\n",
        "    ultimas_manutencoes[nome_equipamento] = ultima_manutencao_aleatoria\n",
        "\n",
        "# Dicionário para armazenar informações dos equipamentos\n",
        "equipamentos = {}\n",
        "for nome_equipamento in nomes_equipamentos:\n",
        "    equipamentos[nome_equipamento] = {\n",
        "        \"frequencia_manutencao\": frequencias_manutencao[nome_equipamento],\n",
        "        \"ultima_manutencao\": ultimas_manutencoes[nome_equipamento],\n",
        "        \"proxima_manutencao\": None\n",
        "    }\n",
        "\n",
        "# Funções para calcular e verificar a próxima manutenção (mesmas do exemplo anterior)\n",
        "\n",
        "# Atualizar a data da próxima manutenção para todos os equipamentos\n",
        "for nome_equipamento, dados_equipamento in equipamentos.items():\n",
        "    dados_equipamento[\"proxima_manutencao\"] = calcular_proxima_manutencao(dados_equipamento)\n",
        "\n",
        "# Exibir a lista de equipamentos com manutenção vencida\n",
        "exibir_equipamentos_com_manutencao_vencida()\n"
      ],
      "metadata": {
        "colab": {
          "base_uri": "https://localhost:8080/"
        },
        "id": "MigW_vkx0CRQ",
        "outputId": "a9ecc38e-d1cd-491c-fa97-70d4034859d2"
      },
      "execution_count": 2,
      "outputs": [
        {
          "output_type": "stream",
          "name": "stdout",
          "text": [
            "Equipamentos com manutenção vencida:\n",
            "- Bomba de Água\n",
            "- Motor Elétrico\n",
            "- Compressor de Ar\n"
          ]
        }
      ]
    },
    {
      "cell_type": "code",
      "source": [],
      "metadata": {
        "id": "Je7X9v6g0C-Z"
      },
      "execution_count": null,
      "outputs": []
    }
  ]
}
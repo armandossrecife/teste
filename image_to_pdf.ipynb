{
  "nbformat": 4,
  "nbformat_minor": 0,
  "metadata": {
    "colab": {
      "provenance": [],
      "authorship_tag": "ABX9TyN8o8dlUTcpn8PwfogG696K",
      "include_colab_link": true
    },
    "kernelspec": {
      "name": "python3",
      "display_name": "Python 3"
    },
    "language_info": {
      "name": "python"
    }
  },
  "cells": [
    {
      "cell_type": "markdown",
      "metadata": {
        "id": "view-in-github",
        "colab_type": "text"
      },
      "source": [
        "<a href=\"https://colab.research.google.com/github/armandossrecife/teste/blob/main/image_to_pdf.ipynb\" target=\"_parent\"><img src=\"https://colab.research.google.com/assets/colab-badge.svg\" alt=\"Open In Colab\"/></a>"
      ]
    },
    {
      "cell_type": "code",
      "source": [
        "!pip install reportlab"
      ],
      "metadata": {
        "colab": {
          "base_uri": "https://localhost:8080/"
        },
        "id": "WqnpfYN2Pnui",
        "outputId": "cae89ec2-0fe0-4e85-dd25-d0bab669a79e"
      },
      "execution_count": 1,
      "outputs": [
        {
          "output_type": "stream",
          "name": "stdout",
          "text": [
            "Collecting reportlab\n",
            "  Downloading reportlab-4.2.5-py3-none-any.whl.metadata (1.5 kB)\n",
            "Requirement already satisfied: pillow>=9.0.0 in /usr/local/lib/python3.10/dist-packages (from reportlab) (10.4.0)\n",
            "Requirement already satisfied: chardet in /usr/local/lib/python3.10/dist-packages (from reportlab) (5.2.0)\n",
            "Downloading reportlab-4.2.5-py3-none-any.whl (1.9 MB)\n",
            "\u001b[2K   \u001b[90m━━━━━━━━━━━━━━━━━━━━━━━━━━━━━━━━━━━━━━━━\u001b[0m \u001b[32m1.9/1.9 MB\u001b[0m \u001b[31m13.2 MB/s\u001b[0m eta \u001b[36m0:00:00\u001b[0m\n",
            "\u001b[?25hInstalling collected packages: reportlab\n",
            "Successfully installed reportlab-4.2.5\n"
          ]
        }
      ]
    },
    {
      "cell_type": "code",
      "execution_count": 10,
      "metadata": {
        "id": "frpePv-hO_Jk"
      },
      "outputs": [],
      "source": [
        "import os\n",
        "from PIL import Image\n",
        "from reportlab.pdfgen import canvas"
      ]
    },
    {
      "cell_type": "code",
      "source": [
        "# create a folder called my_pdf\n",
        "os.mkdir('my_pdfs')\n",
        "\n",
        "# create a folder called my_images\n",
        "os.mkdir('my_images')\n",
        "\n",
        "# create a folder called my_images_resized\n",
        "os.mkdir('my_images_resized')"
      ],
      "metadata": {
        "id": "e2YhuoTLQAji"
      },
      "execution_count": null,
      "outputs": []
    },
    {
      "cell_type": "code",
      "source": [
        "!ls"
      ],
      "metadata": {
        "colab": {
          "base_uri": "https://localhost:8080/"
        },
        "id": "PpZbcJUWQN6I",
        "outputId": "de8aee71-9f2f-46f2-af81-417671f3dbc4"
      },
      "execution_count": 4,
      "outputs": [
        {
          "output_type": "stream",
          "name": "stdout",
          "text": [
            "total 24\n",
            "2490389 drwxr-xr-x 1 root root 4096 Oct 13 23:40 .\n",
            "2228261 drwxr-xr-x 1 root root 4096 Oct 13 23:36 ..\n",
            "3145750 drwxr-xr-x 4 root root 4096 Oct 10 13:27 .config\n",
            "2228709 drwxr-xr-x 2 root root 4096 Oct 13 23:40 my_images\n",
            "2228708 drwxr-xr-x 2 root root 4096 Oct 13 23:40 my_pdfs\n",
            "2490390 drwxr-xr-x 1 root root 4096 Oct 10 13:27 sample_data\n"
          ]
        }
      ]
    },
    {
      "cell_type": "code",
      "source": [
        "!wget https://raw.githubusercontent.com/armandossrecife/teste/refs/heads/main/p1.png\n",
        "!wget https://raw.githubusercontent.com/armandossrecife/teste/refs/heads/main/p2.png\n",
        "!wget https://raw.githubusercontent.com/armandossrecife/teste/refs/heads/main/p3.png\n",
        "!wget https://raw.githubusercontent.com/armandossrecife/teste/refs/heads/main/p4.png\n",
        "!wget https://raw.githubusercontent.com/armandossrecife/teste/refs/heads/main/p5.png\n",
        "!wget https://raw.githubusercontent.com/armandossrecife/teste/refs/heads/main/p6.png"
      ],
      "metadata": {
        "colab": {
          "base_uri": "https://localhost:8080/"
        },
        "id": "Vup34aDtQPQc",
        "outputId": "5fe21bbf-8a9f-4c62-fc09-a4e8cdf46d73"
      },
      "execution_count": 5,
      "outputs": [
        {
          "output_type": "stream",
          "name": "stdout",
          "text": [
            "--2024-10-13 23:42:20--  https://raw.githubusercontent.com/armandossrecife/teste/refs/heads/main/p1.png\n",
            "Resolving raw.githubusercontent.com (raw.githubusercontent.com)... 185.199.111.133, 185.199.109.133, 185.199.108.133, ...\n",
            "Connecting to raw.githubusercontent.com (raw.githubusercontent.com)|185.199.111.133|:443... connected.\n",
            "HTTP request sent, awaiting response... 200 OK\n",
            "Length: 154434 (151K) [image/png]\n",
            "Saving to: ‘p1.png’\n",
            "\n",
            "\rp1.png                0%[                    ]       0  --.-KB/s               \rp1.png              100%[===================>] 150.81K  --.-KB/s    in 0.03s   \n",
            "\n",
            "2024-10-13 23:42:21 (4.50 MB/s) - ‘p1.png’ saved [154434/154434]\n",
            "\n",
            "--2024-10-13 23:42:21--  https://raw.githubusercontent.com/armandossrecife/teste/refs/heads/main/p2.png\n",
            "Resolving raw.githubusercontent.com (raw.githubusercontent.com)... 185.199.109.133, 185.199.111.133, 185.199.108.133, ...\n",
            "Connecting to raw.githubusercontent.com (raw.githubusercontent.com)|185.199.109.133|:443... connected.\n",
            "HTTP request sent, awaiting response... 200 OK\n",
            "Length: 107428 (105K) [image/png]\n",
            "Saving to: ‘p2.png’\n",
            "\n",
            "p2.png              100%[===================>] 104.91K  --.-KB/s    in 0.02s   \n",
            "\n",
            "2024-10-13 23:42:21 (4.29 MB/s) - ‘p2.png’ saved [107428/107428]\n",
            "\n",
            "--2024-10-13 23:42:21--  https://raw.githubusercontent.com/armandossrecife/teste/refs/heads/main/p3.png\n",
            "Resolving raw.githubusercontent.com (raw.githubusercontent.com)... 185.199.108.133, 185.199.109.133, 185.199.110.133, ...\n",
            "Connecting to raw.githubusercontent.com (raw.githubusercontent.com)|185.199.108.133|:443... connected.\n",
            "HTTP request sent, awaiting response... 200 OK\n",
            "Length: 124259 (121K) [image/png]\n",
            "Saving to: ‘p3.png’\n",
            "\n",
            "p3.png              100%[===================>] 121.35K  --.-KB/s    in 0.03s   \n",
            "\n",
            "2024-10-13 23:42:21 (4.63 MB/s) - ‘p3.png’ saved [124259/124259]\n",
            "\n",
            "--2024-10-13 23:42:21--  https://raw.githubusercontent.com/armandossrecife/teste/refs/heads/main/p4.png\n",
            "Resolving raw.githubusercontent.com (raw.githubusercontent.com)... 185.199.108.133, 185.199.109.133, 185.199.110.133, ...\n",
            "Connecting to raw.githubusercontent.com (raw.githubusercontent.com)|185.199.108.133|:443... connected.\n",
            "HTTP request sent, awaiting response... 200 OK\n",
            "Length: 108208 (106K) [image/png]\n",
            "Saving to: ‘p4.png’\n",
            "\n",
            "p4.png              100%[===================>] 105.67K  --.-KB/s    in 0.02s   \n",
            "\n",
            "2024-10-13 23:42:22 (4.30 MB/s) - ‘p4.png’ saved [108208/108208]\n",
            "\n",
            "--2024-10-13 23:42:22--  https://raw.githubusercontent.com/armandossrecife/teste/refs/heads/main/p5.png\n",
            "Resolving raw.githubusercontent.com (raw.githubusercontent.com)... 185.199.109.133, 185.199.108.133, 185.199.111.133, ...\n",
            "Connecting to raw.githubusercontent.com (raw.githubusercontent.com)|185.199.109.133|:443... connected.\n",
            "HTTP request sent, awaiting response... 200 OK\n",
            "Length: 121857 (119K) [image/png]\n",
            "Saving to: ‘p5.png’\n",
            "\n",
            "p5.png              100%[===================>] 119.00K  --.-KB/s    in 0.02s   \n",
            "\n",
            "2024-10-13 23:42:22 (4.72 MB/s) - ‘p5.png’ saved [121857/121857]\n",
            "\n",
            "--2024-10-13 23:42:22--  https://raw.githubusercontent.com/armandossrecife/teste/refs/heads/main/p6.png\n",
            "Resolving raw.githubusercontent.com (raw.githubusercontent.com)... 185.199.108.133, 185.199.109.133, 185.199.110.133, ...\n",
            "Connecting to raw.githubusercontent.com (raw.githubusercontent.com)|185.199.108.133|:443... connected.\n",
            "HTTP request sent, awaiting response... 200 OK\n",
            "Length: 42314 (41K) [image/png]\n",
            "Saving to: ‘p6.png’\n",
            "\n",
            "p6.png              100%[===================>]  41.32K  --.-KB/s    in 0.01s   \n",
            "\n",
            "2024-10-13 23:42:22 (3.61 MB/s) - ‘p6.png’ saved [42314/42314]\n",
            "\n"
          ]
        }
      ]
    },
    {
      "cell_type": "code",
      "source": [
        "# move all *.png files to my_images folder\n",
        "!mv *.png my_images"
      ],
      "metadata": {
        "id": "POEnAIY3Quzn"
      },
      "execution_count": 6,
      "outputs": []
    },
    {
      "cell_type": "code",
      "source": [
        "!ls my_images/*"
      ],
      "metadata": {
        "colab": {
          "base_uri": "https://localhost:8080/"
        },
        "id": "Zp0UpNPmQ2yH",
        "outputId": "a9156e91-f746-4f06-eefc-e1870f9aa643"
      },
      "execution_count": 7,
      "outputs": [
        {
          "output_type": "stream",
          "name": "stdout",
          "text": [
            "my_images/p1.png  my_images/p3.png  my_images/p5.png\n",
            "my_images/p2.png  my_images/p4.png  my_images/p6.png\n"
          ]
        }
      ]
    },
    {
      "cell_type": "code",
      "source": [
        "input_dir = 'my_images'\n",
        "risized_images_dir = 'my_images_resized'\n",
        "output_dir = 'my_pdfs'\n",
        "output_file = 'my_pdfs/my_pdf.pdf'"
      ],
      "metadata": {
        "id": "J2fU8WahQ68v"
      },
      "execution_count": 21,
      "outputs": []
    },
    {
      "cell_type": "code",
      "source": [
        "pdf = canvas.Canvas(output_file)"
      ],
      "metadata": {
        "id": "PHK2Ri1jRJV1"
      },
      "execution_count": 22,
      "outputs": []
    },
    {
      "cell_type": "code",
      "source": [
        "lista_de_arquivos = os.listdir(input_dir)\n",
        "lista_de_arquivos.sort()\n",
        "print(lista_de_arquivos)"
      ],
      "metadata": {
        "colab": {
          "base_uri": "https://localhost:8080/"
        },
        "id": "Qygg-n4SSua3",
        "outputId": "4d9e1d94-f652-4081-9f5f-221a1caeb8e0"
      },
      "execution_count": 23,
      "outputs": [
        {
          "output_type": "stream",
          "name": "stdout",
          "text": [
            "['p1.png', 'p2.png', 'p3.png', 'p4.png', 'p5.png', 'p6.png']\n"
          ]
        }
      ]
    },
    {
      "cell_type": "code",
      "source": [
        "for filename in lista_de_arquivos:\n",
        "  print(filename)"
      ],
      "metadata": {
        "colab": {
          "base_uri": "https://localhost:8080/"
        },
        "id": "kfEGJEDNSQsN",
        "outputId": "625bb1b9-f59e-4827-b7d6-ad4c8cdc5afb"
      },
      "execution_count": 24,
      "outputs": [
        {
          "output_type": "stream",
          "name": "stdout",
          "text": [
            "p1.png\n",
            "p2.png\n",
            "p3.png\n",
            "p4.png\n",
            "p5.png\n",
            "p6.png\n"
          ]
        }
      ]
    },
    {
      "cell_type": "code",
      "source": [
        "def resize_image(filename, input_dir, risized_images_dir, percentage):\n",
        "  img_path = os.path.join(input_dir, filename)\n",
        "  image = Image.open(img_path)\n",
        "  original_width, original_height = image.size\n",
        "  new_width = int(original_width * percentage)\n",
        "  new_height = int(original_height * percentage)\n",
        "  resized_image = image.resize((new_width, new_height))\n",
        "  output_image_path = os.path.join(risized_images_dir, filename)\n",
        "  resized_image.save(output_image_path)"
      ],
      "metadata": {
        "id": "O5WaZIGIT8kI"
      },
      "execution_count": 26,
      "outputs": []
    },
    {
      "cell_type": "code",
      "source": [
        "# resize all files from input_dir\n",
        "for filename in os.listdir(input_dir):\n",
        "  if filename.endswith(\".png\"):\n",
        "    resize_image(filename, input_dir, risized_images_dir, 0.75)"
      ],
      "metadata": {
        "id": "1KeMUWPzV9LN"
      },
      "execution_count": 27,
      "outputs": []
    },
    {
      "cell_type": "code",
      "source": [
        "lista_de_arquivos = os.listdir(risized_images_dir)\n",
        "lista_de_arquivos.sort()\n",
        "print(lista_de_arquivos)"
      ],
      "metadata": {
        "colab": {
          "base_uri": "https://localhost:8080/"
        },
        "id": "C7kUWHmBWQ0k",
        "outputId": "276817e9-6154-4fae-d590-867bc68df4bb"
      },
      "execution_count": 28,
      "outputs": [
        {
          "output_type": "stream",
          "name": "stdout",
          "text": [
            "['p1.png', 'p2.png', 'p3.png', 'p4.png', 'p5.png', 'p6.png']\n"
          ]
        }
      ]
    },
    {
      "cell_type": "code",
      "source": [
        "for filename in lista_de_arquivos:\n",
        "  if filename.endswith(\".png\"):\n",
        "    img_path = os.path.join(risized_images_dir, filename)\n",
        "    image = Image.open(img_path)\n",
        "    width, height = image.size\n",
        "    # Adjust image dimensions and position as needed\n",
        "    pdf.drawImage(img_path, 0, 0, width=width, height=height)\n",
        "    pdf.showPage()"
      ],
      "metadata": {
        "id": "fP2AWEdMRRBq"
      },
      "execution_count": 29,
      "outputs": []
    },
    {
      "cell_type": "code",
      "source": [
        "pdf.save()"
      ],
      "metadata": {
        "id": "Igbitg-fR9ur"
      },
      "execution_count": 30,
      "outputs": []
    },
    {
      "cell_type": "code",
      "source": [],
      "metadata": {
        "id": "XktMftxGR_p3"
      },
      "execution_count": null,
      "outputs": []
    }
  ]
}
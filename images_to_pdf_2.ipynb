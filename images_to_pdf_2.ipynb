{
  "nbformat": 4,
  "nbformat_minor": 0,
  "metadata": {
    "colab": {
      "provenance": [],
      "authorship_tag": "ABX9TyNyyAa91xWYtjSv6M+23Bx0",
      "include_colab_link": true
    },
    "kernelspec": {
      "name": "python3",
      "display_name": "Python 3"
    },
    "language_info": {
      "name": "python"
    }
  },
  "cells": [
    {
      "cell_type": "markdown",
      "metadata": {
        "id": "view-in-github",
        "colab_type": "text"
      },
      "source": [
        "<a href=\"https://colab.research.google.com/github/armandossrecife/teste/blob/main/images_to_pdf_2.ipynb\" target=\"_parent\"><img src=\"https://colab.research.google.com/assets/colab-badge.svg\" alt=\"Open In Colab\"/></a>"
      ]
    },
    {
      "cell_type": "code",
      "source": [
        "!pip install reportlab"
      ],
      "metadata": {
        "colab": {
          "base_uri": "https://localhost:8080/"
        },
        "id": "Bk8vDLRzfuyM",
        "outputId": "a3aff839-45a5-4c46-d283-ac035483c8a2"
      },
      "execution_count": 1,
      "outputs": [
        {
          "output_type": "stream",
          "name": "stdout",
          "text": [
            "Collecting reportlab\n",
            "  Downloading reportlab-4.2.5-py3-none-any.whl.metadata (1.5 kB)\n",
            "Requirement already satisfied: pillow>=9.0.0 in /usr/local/lib/python3.10/dist-packages (from reportlab) (10.4.0)\n",
            "Requirement already satisfied: chardet in /usr/local/lib/python3.10/dist-packages (from reportlab) (5.2.0)\n",
            "Downloading reportlab-4.2.5-py3-none-any.whl (1.9 MB)\n",
            "\u001b[2K   \u001b[90m━━━━━━━━━━━━━━━━━━━━━━━━━━━━━━━━━━━━━━━━\u001b[0m \u001b[32m1.9/1.9 MB\u001b[0m \u001b[31m23.1 MB/s\u001b[0m eta \u001b[36m0:00:00\u001b[0m\n",
            "\u001b[?25hInstalling collected packages: reportlab\n",
            "Successfully installed reportlab-4.2.5\n"
          ]
        }
      ]
    },
    {
      "cell_type": "code",
      "execution_count": 16,
      "metadata": {
        "id": "bl-jS7blfryK"
      },
      "outputs": [],
      "source": [
        "import os\n",
        "from PIL import Image\n",
        "from reportlab.pdfgen import canvas\n",
        "\n",
        "class ImageProcessor:\n",
        "    def __init__(self, input_dir, resized_images_dir, output_dir):\n",
        "        self.input_dir = input_dir\n",
        "        self.resized_images_dir = resized_images_dir\n",
        "        self.output_dir = output_dir\n",
        "\n",
        "    def resize_image(self, filename, percentage):\n",
        "        img_path = os.path.join(self.input_dir, filename)\n",
        "        try:\n",
        "            image = Image.open(img_path)\n",
        "            original_width, original_height = image.size\n",
        "            new_width = int(original_width * percentage)\n",
        "            new_height = int(original_height * percentage)\n",
        "            resized_image = image.resize((new_width, new_height))\n",
        "            output_image_path = os.path.join(self.resized_images_dir, filename)\n",
        "            resized_image.save(output_image_path)\n",
        "        except FileNotFoundError:\n",
        "            print(f\"Error: File {filename} not found.\")\n",
        "\n",
        "    def create_pdf(self, output_file):\n",
        "        pdf = canvas.Canvas(output_file)\n",
        "\n",
        "        # Resize all PNG files\n",
        "        for filename in os.listdir(self.input_dir):\n",
        "            if filename.endswith(\".png\"):\n",
        "                self.resize_image(filename, 0.75)\n",
        "\n",
        "        # Sort filenames (optional)\n",
        "        resized_files = os.listdir(self.resized_images_dir)\n",
        "        resized_files.sort()\n",
        "\n",
        "        current_y_position = 0  # Track current position on the page\n",
        "\n",
        "        for filename in resized_files:\n",
        "            if filename.endswith(\".png\"):\n",
        "                img_path = os.path.join(self.resized_images_dir, filename)\n",
        "                image = Image.open(img_path)\n",
        "                width, height = image.size\n",
        "\n",
        "                # Adjust image dimensions and position as needed\n",
        "                pdf.drawImage(img_path, 0, 0, width=width, height=height)\n",
        "                pdf.showPage()\n",
        "\n",
        "        pdf.save()"
      ]
    },
    {
      "cell_type": "code",
      "source": [
        "# Create folders if they don't exist\n",
        "os.makedirs('my_pdfs', exist_ok=True)\n",
        "os.makedirs('my_images', exist_ok=True)\n",
        "os.makedirs('my_images_resized', exist_ok=True)"
      ],
      "metadata": {
        "id": "rLyzAIPZf8qf"
      },
      "execution_count": 3,
      "outputs": []
    },
    {
      "cell_type": "code",
      "source": [
        "!wget https://raw.githubusercontent.com/armandossrecife/teste/refs/heads/main/p1.png\n",
        "!wget https://raw.githubusercontent.com/armandossrecife/teste/refs/heads/main/p2.png\n",
        "!wget https://raw.githubusercontent.com/armandossrecife/teste/refs/heads/main/p3.png\n",
        "!wget https://raw.githubusercontent.com/armandossrecife/teste/refs/heads/main/p4.png\n",
        "!wget https://raw.githubusercontent.com/armandossrecife/teste/refs/heads/main/p5.png\n",
        "!wget https://raw.githubusercontent.com/armandossrecife/teste/refs/heads/main/p6.png"
      ],
      "metadata": {
        "colab": {
          "base_uri": "https://localhost:8080/"
        },
        "id": "xttik8b6gIar",
        "outputId": "368b1817-c829-4573-8978-74820ac0f982"
      },
      "execution_count": 4,
      "outputs": [
        {
          "output_type": "stream",
          "name": "stdout",
          "text": [
            "--2024-10-14 00:50:00--  https://raw.githubusercontent.com/armandossrecife/teste/refs/heads/main/p1.png\n",
            "Resolving raw.githubusercontent.com (raw.githubusercontent.com)... 185.199.108.133, 185.199.109.133, 185.199.110.133, ...\n",
            "Connecting to raw.githubusercontent.com (raw.githubusercontent.com)|185.199.108.133|:443... connected.\n",
            "HTTP request sent, awaiting response... 200 OK\n",
            "Length: 154434 (151K) [image/png]\n",
            "Saving to: ‘p1.png’\n",
            "\n",
            "p1.png              100%[===================>] 150.81K  --.-KB/s    in 0.02s   \n",
            "\n",
            "2024-10-14 00:50:00 (6.79 MB/s) - ‘p1.png’ saved [154434/154434]\n",
            "\n",
            "--2024-10-14 00:50:00--  https://raw.githubusercontent.com/armandossrecife/teste/refs/heads/main/p2.png\n",
            "Resolving raw.githubusercontent.com (raw.githubusercontent.com)... 185.199.108.133, 185.199.110.133, 185.199.109.133, ...\n",
            "Connecting to raw.githubusercontent.com (raw.githubusercontent.com)|185.199.108.133|:443... connected.\n",
            "HTTP request sent, awaiting response... 200 OK\n",
            "Length: 107428 (105K) [image/png]\n",
            "Saving to: ‘p2.png’\n",
            "\n",
            "p2.png              100%[===================>] 104.91K  --.-KB/s    in 0.01s   \n",
            "\n",
            "2024-10-14 00:50:01 (7.40 MB/s) - ‘p2.png’ saved [107428/107428]\n",
            "\n",
            "--2024-10-14 00:50:01--  https://raw.githubusercontent.com/armandossrecife/teste/refs/heads/main/p3.png\n",
            "Resolving raw.githubusercontent.com (raw.githubusercontent.com)... 185.199.108.133, 185.199.110.133, 185.199.109.133, ...\n",
            "Connecting to raw.githubusercontent.com (raw.githubusercontent.com)|185.199.108.133|:443... connected.\n",
            "HTTP request sent, awaiting response... 200 OK\n",
            "Length: 124259 (121K) [image/png]\n",
            "Saving to: ‘p3.png’\n",
            "\n",
            "p3.png              100%[===================>] 121.35K  --.-KB/s    in 0.01s   \n",
            "\n",
            "2024-10-14 00:50:01 (8.20 MB/s) - ‘p3.png’ saved [124259/124259]\n",
            "\n",
            "--2024-10-14 00:50:01--  https://raw.githubusercontent.com/armandossrecife/teste/refs/heads/main/p4.png\n",
            "Resolving raw.githubusercontent.com (raw.githubusercontent.com)... 185.199.108.133, 185.199.109.133, 185.199.110.133, ...\n",
            "Connecting to raw.githubusercontent.com (raw.githubusercontent.com)|185.199.108.133|:443... connected.\n",
            "HTTP request sent, awaiting response... 200 OK\n",
            "Length: 108208 (106K) [image/png]\n",
            "Saving to: ‘p4.png’\n",
            "\n",
            "p4.png              100%[===================>] 105.67K  --.-KB/s    in 0.02s   \n",
            "\n",
            "2024-10-14 00:50:01 (5.74 MB/s) - ‘p4.png’ saved [108208/108208]\n",
            "\n",
            "--2024-10-14 00:50:01--  https://raw.githubusercontent.com/armandossrecife/teste/refs/heads/main/p5.png\n",
            "Resolving raw.githubusercontent.com (raw.githubusercontent.com)... 185.199.108.133, 185.199.110.133, 185.199.109.133, ...\n",
            "Connecting to raw.githubusercontent.com (raw.githubusercontent.com)|185.199.108.133|:443... connected.\n",
            "HTTP request sent, awaiting response... 200 OK\n",
            "Length: 121857 (119K) [image/png]\n",
            "Saving to: ‘p5.png’\n",
            "\n",
            "p5.png              100%[===================>] 119.00K  --.-KB/s    in 0.02s   \n",
            "\n",
            "2024-10-14 00:50:02 (7.55 MB/s) - ‘p5.png’ saved [121857/121857]\n",
            "\n",
            "--2024-10-14 00:50:02--  https://raw.githubusercontent.com/armandossrecife/teste/refs/heads/main/p6.png\n",
            "Resolving raw.githubusercontent.com (raw.githubusercontent.com)... 185.199.108.133, 185.199.109.133, 185.199.110.133, ...\n",
            "Connecting to raw.githubusercontent.com (raw.githubusercontent.com)|185.199.108.133|:443... connected.\n",
            "HTTP request sent, awaiting response... 200 OK\n",
            "Length: 42314 (41K) [image/png]\n",
            "Saving to: ‘p6.png’\n",
            "\n",
            "p6.png              100%[===================>]  41.32K  --.-KB/s    in 0.008s  \n",
            "\n",
            "2024-10-14 00:50:02 (4.92 MB/s) - ‘p6.png’ saved [42314/42314]\n",
            "\n"
          ]
        }
      ]
    },
    {
      "cell_type": "code",
      "source": [
        "!mv *.png my_images"
      ],
      "metadata": {
        "id": "tf0CV4CbhMLh"
      },
      "execution_count": 7,
      "outputs": []
    },
    {
      "cell_type": "code",
      "source": [
        "# Initialize ImageProcessor object\n",
        "my_processor = ImageProcessor('my_images', 'my_images_resized', 'my_pdfs')"
      ],
      "metadata": {
        "id": "OssTcwEtgC0R"
      },
      "execution_count": 17,
      "outputs": []
    },
    {
      "cell_type": "code",
      "source": [
        "# Create the PDF\n",
        "my_processor.create_pdf('my_pdfs/my_pdf.pdf')"
      ],
      "metadata": {
        "id": "-UhvHjoFh5cI"
      },
      "execution_count": 18,
      "outputs": []
    },
    {
      "cell_type": "code",
      "source": [],
      "metadata": {
        "id": "HyRG3ZN0h562"
      },
      "execution_count": null,
      "outputs": []
    }
  ]
}
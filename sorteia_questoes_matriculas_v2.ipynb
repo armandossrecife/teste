{
  "nbformat": 4,
  "nbformat_minor": 0,
  "metadata": {
    "colab": {
      "provenance": [],
      "authorship_tag": "ABX9TyOZoWywZnwBcTKfOQ5SXvWQ",
      "include_colab_link": true
    },
    "kernelspec": {
      "name": "python3",
      "display_name": "Python 3"
    },
    "language_info": {
      "name": "python"
    }
  },
  "cells": [
    {
      "cell_type": "markdown",
      "metadata": {
        "id": "view-in-github",
        "colab_type": "text"
      },
      "source": [
        "<a href=\"https://colab.research.google.com/github/armandossrecife/teste/blob/main/sorteia_questoes_matriculas_v2.ipynb\" target=\"_parent\"><img src=\"https://colab.research.google.com/assets/colab-badge.svg\" alt=\"Open In Colab\"/></a>"
      ]
    },
    {
      "cell_type": "code",
      "execution_count": 3,
      "metadata": {
        "id": "VLYDHahYyhms"
      },
      "outputs": [],
      "source": [
        "import random\n",
        "\n",
        "# Listas de exercícios\n",
        "lista_exercicios = ['1a', '2a', '3a', '4a', '5a', '6a', '7a', '8a', '9a', '1b', '2b', '3b', '1c', '1d']\n",
        "\n",
        "# Lista de matrículas\n",
        "lista_matriculas = ['20249023385','20249021433','20249012229','20249021818','20239035515','20249022000','20249018456',\n",
        "'20249021264','20249020884','20249022010','20229052844','20249013226','20249011704','20239057110','20249023278',\n",
        "'20249021961','20249012194','20249021970','20249020857','20249012050','20249011769','20249021139','20239049987',\n",
        "'20239052276','20249012336','20219042129','20249021765','20249011553','20239046116','20249021999','20249023170']\n",
        "\n",
        "def sortear_questao_e_matricula(lista_exercicios, lista_matriculas):\n",
        "  \"\"\"Sorteia aleatoriamente uma questão e uma matrícula.\n",
        "\n",
        "  Returns:\n",
        "    Uma tupla contendo a questão sorteada e a matrícula sorteada.\n",
        "  \"\"\"\n",
        "  if not lista_exercicios or not lista_matriculas:\n",
        "    return None, None\n",
        "\n",
        "  lista_questoes_ja_sorteadas = []\n",
        "  lista_matriculas_ja_sorteadas = []\n",
        "\n",
        "  for _ in range(len(lista_exercicios)):\n",
        "    questao_sorteada = random.choice(lista_exercicios)\n",
        "    while questao_sorteada in lista_questoes_ja_sorteadas:\n",
        "      questao_sorteada = random.choice(lista_exercicios)\n",
        "\n",
        "    lista_questoes_ja_sorteadas.append(questao_sorteada)\n",
        "\n",
        "  for _ in range(len(lista_exercicios)):\n",
        "    matricula_sorteada = random.choice(lista_matriculas)\n",
        "    while matricula_sorteada in lista_matriculas_ja_sorteadas:\n",
        "      matricula_sorteada = random.choice(lista_matriculas)\n",
        "\n",
        "    lista_matriculas_ja_sorteadas.append(matricula_sorteada)\n",
        "\n",
        "  return lista_questoes_ja_sorteadas, lista_matriculas_ja_sorteadas"
      ]
    },
    {
      "cell_type": "code",
      "source": [
        "lista_questoes_ja_sorteadas, lista_matriculas_ja_sorteadas = sortear_questao_e_matricula(lista_exercicios, lista_matriculas)\n",
        "\n",
        "print(f\"Lista de {len(lista_questoes_ja_sorteadas)} questões sorteadas: {lista_questoes_ja_sorteadas}\")\n",
        "print(f\"Lista de {len(lista_matriculas_ja_sorteadas)} matrículas sorteadas: {lista_matriculas_ja_sorteadas}\")"
      ],
      "metadata": {
        "id": "d7zotXFcythD",
        "colab": {
          "base_uri": "https://localhost:8080/"
        },
        "outputId": "ac7a623f-d774-49a0-834f-5ee69e2e233c"
      },
      "execution_count": 6,
      "outputs": [
        {
          "output_type": "stream",
          "name": "stdout",
          "text": [
            "Lista de 14 questões sorteadas: ['5a', '1a', '1b', '1c', '7a', '8a', '6a', '3a', '4a', '2b', '9a', '3b', '1d', '2a']\n",
            "Lista de 14 matrículas sorteadas: ['20249021765', '20219042129', '20249021818', '20239046116', '20249022010', '20249011704', '20239035515', '20249021139', '20249012194', '20249011553', '20249013226', '20229052844', '20239057110', '20249012050']\n"
          ]
        }
      ]
    },
    {
      "cell_type": "code",
      "source": [
        "lista_questoes_ja_sorteadas.sort()\n",
        "\n",
        "for questao, matricula in zip(lista_questoes_ja_sorteadas, lista_matriculas_ja_sorteadas):\n",
        "  print(f\"Questão: {questao}, Matrícula: {matricula}\")"
      ],
      "metadata": {
        "colab": {
          "base_uri": "https://localhost:8080/"
        },
        "id": "6EA4E8adwk3k",
        "outputId": "6625da38-7a49-4405-c9d7-984e5d511946"
      },
      "execution_count": 8,
      "outputs": [
        {
          "output_type": "stream",
          "name": "stdout",
          "text": [
            "Questão: 1a, Matrícula: 20249021765\n",
            "Questão: 1b, Matrícula: 20219042129\n",
            "Questão: 1c, Matrícula: 20249021818\n",
            "Questão: 1d, Matrícula: 20239046116\n",
            "Questão: 2a, Matrícula: 20249022010\n",
            "Questão: 2b, Matrícula: 20249011704\n",
            "Questão: 3a, Matrícula: 20239035515\n",
            "Questão: 3b, Matrícula: 20249021139\n",
            "Questão: 4a, Matrícula: 20249012194\n",
            "Questão: 5a, Matrícula: 20249011553\n",
            "Questão: 6a, Matrícula: 20249013226\n",
            "Questão: 7a, Matrícula: 20229052844\n",
            "Questão: 8a, Matrícula: 20239057110\n",
            "Questão: 9a, Matrícula: 20249012050\n"
          ]
        }
      ]
    },
    {
      "cell_type": "code",
      "source": [],
      "metadata": {
        "id": "Rva_BpxOxmEZ"
      },
      "execution_count": null,
      "outputs": []
    }
  ]
}
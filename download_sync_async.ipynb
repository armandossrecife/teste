{
  "nbformat": 4,
  "nbformat_minor": 0,
  "metadata": {
    "colab": {
      "provenance": [],
      "authorship_tag": "ABX9TyNnbVjaEIAUqZDuC/AGj7dI",
      "include_colab_link": true
    },
    "kernelspec": {
      "name": "python3",
      "display_name": "Python 3"
    },
    "language_info": {
      "name": "python"
    }
  },
  "cells": [
    {
      "cell_type": "markdown",
      "metadata": {
        "id": "view-in-github",
        "colab_type": "text"
      },
      "source": [
        "<a href=\"https://colab.research.google.com/github/armandossrecife/teste/blob/main/download_sync_async.ipynb\" target=\"_parent\"><img src=\"https://colab.research.google.com/assets/colab-badge.svg\" alt=\"Open In Colab\"/></a>"
      ]
    },
    {
      "cell_type": "markdown",
      "source": [
        "# Utilidades"
      ],
      "metadata": {
        "id": "z5VuhxTvvGFj"
      }
    },
    {
      "cell_type": "code",
      "source": [
        "from urllib.parse import urlparse\n",
        "import os\n",
        "\n",
        "class Util:\n",
        "  def extrair_nome_extensao_url(self, url):\n",
        "    try:\n",
        "      parsed_url = urlparse(url)\n",
        "      if parsed_url.scheme not in ('http', 'https', 'ftp'):\n",
        "        raise ValueError(f\"Unsupported protocol: {parsed_url.scheme}\")\n",
        "\n",
        "      caminho_arquivo = parsed_url.path\n",
        "      if not caminho_arquivo:\n",
        "        raise ValueError(\"Missing file path in URL\")\n",
        "\n",
        "      #nome_arquivo, extensao = os.path.splitext(os.path.basename(caminho_arquivo))\n",
        "      nome_arquivo, extensao = os.path.basename(caminho_arquivo).rsplit('.', 1)\n",
        "\n",
        "      if not nome_arquivo:\n",
        "        raise ValueError(\"Missing file name\")\n",
        "\n",
        "      return nome_arquivo, extensao\n",
        "\n",
        "    except Exception as ex:\n",
        "      raise ValueError(f\"{str(ex)}\") from ex"
      ],
      "metadata": {
        "id": "ZihnjzE3vJRg"
      },
      "execution_count": 134,
      "outputs": []
    },
    {
      "cell_type": "code",
      "source": [
        "!rm -rf sincrono && mkdir sincrono\n",
        "!rm -rf assincrono && mkdir assincrono\n",
        "!rm -rf threads && mkdir threads"
      ],
      "metadata": {
        "id": "CJZ4aNBFvm-v"
      },
      "execution_count": 135,
      "outputs": []
    },
    {
      "cell_type": "code",
      "source": [
        "!ls -lia"
      ],
      "metadata": {
        "colab": {
          "base_uri": "https://localhost:8080/"
        },
        "id": "zHc7j8nF0HmG",
        "outputId": "4015c9c1-ef04-4b79-8dc3-ee61277c8e5a"
      },
      "execution_count": 136,
      "outputs": [
        {
          "output_type": "stream",
          "name": "stdout",
          "text": [
            "total 28\n",
            "3932183 drwxr-xr-x 1 root root 4096 Jul 15 15:25 .\n",
            "5242973 drwxr-xr-x 1 root root 4096 Jul 15 13:03 ..\n",
            "5243036 drwxr-xr-x 2 root root 4096 Jul 15 15:25 assincrono\n",
            "1310737 drwxr-xr-x 4 root root 4096 Jul 11 13:21 .config\n",
            "3932184 drwxr-xr-x 1 root root 4096 Jul 11 13:22 sample_data\n",
            "5243034 drwxr-xr-x 2 root root 4096 Jul 15 15:25 sincrono\n",
            "5243038 drwxr-xr-x 2 root root 4096 Jul 15 15:25 threads\n"
          ]
        }
      ]
    },
    {
      "cell_type": "code",
      "source": [
        "my_raw_data_site = \"https://raw.githubusercontent.com/armandossrecife/teste/main\"\n",
        "my_url1 = my_raw_data_site + \"/\" + \"Adrienne.mp4\"\n",
        "my_url2 = my_raw_data_site + \"/\" + \"Pizigani_1367_Chart_10MB.jpg\"\n",
        "my_url3 = my_raw_data_site + \"/\" + \"Kalimba.mp3\"\n",
        "my_url4 = my_raw_data_site + \"/\" + \"screen_matrix.jpeg\"\n",
        "my_url5 = my_raw_data_site + \"/\" + \"demo.zip\"\n",
        "\n",
        "my_urls = [my_url1, my_url2, my_url3, my_url4, my_url5]\n",
        "\n",
        "my_util = Util()\n",
        "my_filenames = []\n",
        "for url in my_urls:\n",
        "  print(url)\n",
        "  nome_arquivo, extensao = my_util.extrair_nome_extensao_url(url)\n",
        "  filename = f\"{nome_arquivo}.{extensao}\"\n",
        "  print(f\"{nome_arquivo}.{extensao}\")\n",
        "  my_filenames.append(filename)"
      ],
      "metadata": {
        "colab": {
          "base_uri": "https://localhost:8080/"
        },
        "id": "m7BTwIyjvkuC",
        "outputId": "8d21cbfa-0bde-48bb-8851-4b0bd0fc5349"
      },
      "execution_count": 137,
      "outputs": [
        {
          "output_type": "stream",
          "name": "stdout",
          "text": [
            "https://raw.githubusercontent.com/armandossrecife/teste/main/Adrienne.mp4\n",
            "Adrienne.mp4\n",
            "https://raw.githubusercontent.com/armandossrecife/teste/main/Pizigani_1367_Chart_10MB.jpg\n",
            "Pizigani_1367_Chart_10MB.jpg\n",
            "https://raw.githubusercontent.com/armandossrecife/teste/main/Kalimba.mp3\n",
            "Kalimba.mp3\n",
            "https://raw.githubusercontent.com/armandossrecife/teste/main/screen_matrix.jpeg\n",
            "screen_matrix.jpeg\n",
            "https://raw.githubusercontent.com/armandossrecife/teste/main/demo.zip\n",
            "demo.zip\n"
          ]
        }
      ]
    },
    {
      "cell_type": "markdown",
      "source": [
        "# Download síncrono\n",
        "\n",
        "https://requests.readthedocs.io\n",
        "\n",
        "Requests is an elegant and simple HTTP library for Python, built for human beings."
      ],
      "metadata": {
        "id": "Gbfnvz0dh_aT"
      }
    },
    {
      "cell_type": "code",
      "execution_count": 138,
      "metadata": {
        "id": "FbJ7oqeShAjU"
      },
      "outputs": [],
      "source": [
        "import requests\n",
        "\n",
        "def download_one_file(url, filename, path):\n",
        "  response = requests.get(url, stream=True)\n",
        "  if response.status_code == 200:\n",
        "    total_size = int(response.headers['content-length'])  # Get total file size\n",
        "    print(f\"Total file size: {total_size} bytes\")\n",
        "    path = os.path.join(path, filename)\n",
        "    with open(path, 'wb') as f:\n",
        "      for chunk in response.iter_content(1024):\n",
        "        f.write(chunk)\n",
        "    print(f\"Downloaded {filename}\")\n",
        "  else:\n",
        "    print(f\"Failed to download {filename}\")\n",
        "\n",
        "def download_files_synchronous(my_urls, my_filenames, path):\n",
        "  # Download each file synchronously\n",
        "  for url, filename in zip(my_urls, my_filenames):\n",
        "    download_one_file(url, filename, path)"
      ]
    },
    {
      "cell_type": "code",
      "source": [
        "import datetime\n",
        "\n",
        "now1 = datetime.datetime.now()\n",
        "print(now1)\n",
        "\n",
        "download_files_synchronous(my_urls, my_filenames, 'sincrono')\n",
        "print(\"All files downloaded (synchronously)\")\n",
        "\n",
        "now2 = datetime.datetime.now()\n",
        "print(now2)\n",
        "\n",
        "time_diff = now2 - now1\n",
        "print(time_diff)"
      ],
      "metadata": {
        "colab": {
          "base_uri": "https://localhost:8080/"
        },
        "id": "33Jp0436hDAb",
        "outputId": "63458b2c-25c9-4479-d1ae-44036a1749ab"
      },
      "execution_count": 139,
      "outputs": [
        {
          "output_type": "stream",
          "name": "stdout",
          "text": [
            "2024-07-15 15:25:27.374346\n",
            "Total file size: 14944332 bytes\n",
            "Downloaded Adrienne.mp4\n",
            "Total file size: 10174706 bytes\n",
            "Downloaded Pizigani_1367_Chart_10MB.jpg\n",
            "Total file size: 8414449 bytes\n",
            "Downloaded Kalimba.mp3\n",
            "Total file size: 265136 bytes\n",
            "Downloaded screen_matrix.jpeg\n",
            "Total file size: 69856 bytes\n",
            "Downloaded demo.zip\n",
            "All files downloaded (synchronously)\n",
            "2024-07-15 15:25:29.520397\n",
            "0:00:02.146051\n"
          ]
        }
      ]
    },
    {
      "cell_type": "markdown",
      "source": [
        "# Download assíncrono\n",
        "\n",
        "https://docs.aiohttp.org\n",
        "\n",
        "Asynchronous HTTP Client/Server for asyncio and Python.\n",
        "\n",
        "https://en.wikipedia.org/wiki/Asynchrony_(computer_programming)\n",
        "\n",
        "https://en.wikipedia.org/wiki/Async/await"
      ],
      "metadata": {
        "id": "BnBCsr5xiDYE"
      }
    },
    {
      "cell_type": "code",
      "source": [
        "!pip install aiohttp"
      ],
      "metadata": {
        "colab": {
          "base_uri": "https://localhost:8080/"
        },
        "id": "EJSbbiWvidr4",
        "outputId": "f3e663e5-ba13-4800-cddc-a8efa73cd6e9"
      },
      "execution_count": 3,
      "outputs": [
        {
          "output_type": "stream",
          "name": "stdout",
          "text": [
            "Requirement already satisfied: aiohttp in /usr/local/lib/python3.10/dist-packages (3.9.5)\n",
            "Requirement already satisfied: aiosignal>=1.1.2 in /usr/local/lib/python3.10/dist-packages (from aiohttp) (1.3.1)\n",
            "Requirement already satisfied: attrs>=17.3.0 in /usr/local/lib/python3.10/dist-packages (from aiohttp) (23.2.0)\n",
            "Requirement already satisfied: frozenlist>=1.1.1 in /usr/local/lib/python3.10/dist-packages (from aiohttp) (1.4.1)\n",
            "Requirement already satisfied: multidict<7.0,>=4.5 in /usr/local/lib/python3.10/dist-packages (from aiohttp) (6.0.5)\n",
            "Requirement already satisfied: yarl<2.0,>=1.0 in /usr/local/lib/python3.10/dist-packages (from aiohttp) (1.9.4)\n",
            "Requirement already satisfied: async-timeout<5.0,>=4.0 in /usr/local/lib/python3.10/dist-packages (from aiohttp) (4.0.3)\n",
            "Requirement already satisfied: idna>=2.0 in /usr/local/lib/python3.10/dist-packages (from yarl<2.0,>=1.0->aiohttp) (3.7)\n"
          ]
        }
      ]
    },
    {
      "cell_type": "code",
      "source": [
        "!pip install aiodns"
      ],
      "metadata": {
        "colab": {
          "base_uri": "https://localhost:8080/"
        },
        "id": "6ze5CoPxifWl",
        "outputId": "4425f4e7-de26-4687-d09f-bb9cddf715c3"
      },
      "execution_count": 4,
      "outputs": [
        {
          "output_type": "stream",
          "name": "stdout",
          "text": [
            "Requirement already satisfied: aiodns in /usr/local/lib/python3.10/dist-packages (3.2.0)\n",
            "Requirement already satisfied: pycares>=4.0.0 in /usr/local/lib/python3.10/dist-packages (from aiodns) (4.4.0)\n",
            "Requirement already satisfied: cffi>=1.5.0 in /usr/local/lib/python3.10/dist-packages (from pycares>=4.0.0->aiodns) (1.16.0)\n",
            "Requirement already satisfied: pycparser in /usr/local/lib/python3.10/dist-packages (from cffi>=1.5.0->pycares>=4.0.0->aiodns) (2.22)\n"
          ]
        }
      ]
    },
    {
      "cell_type": "code",
      "source": [
        "import asyncio\n",
        "import aiohttp\n",
        "import datetime"
      ],
      "metadata": {
        "id": "8tHXEIFdiFWH"
      },
      "execution_count": 140,
      "outputs": []
    },
    {
      "cell_type": "code",
      "source": [
        "async def teste_async():\n",
        "  async with aiohttp.ClientSession() as session:\n",
        "    async with session.get('http://python.org') as response:\n",
        "      print(\"Status:\", response.status)\n",
        "      print(\"Content-type:\", response.headers['content-type'])\n",
        "      html = await response.text()"
      ],
      "metadata": {
        "id": "HLu-nD_dqZxY"
      },
      "execution_count": 141,
      "outputs": []
    },
    {
      "cell_type": "code",
      "source": [
        "async def call_teste_async():\n",
        "  await teste_async()\n",
        "\n",
        "await call_teste_async()"
      ],
      "metadata": {
        "colab": {
          "base_uri": "https://localhost:8080/"
        },
        "id": "JTNl6ywkzFV-",
        "outputId": "d9a86137-7f9a-4922-e79a-3d9e0234b933"
      },
      "execution_count": 142,
      "outputs": [
        {
          "output_type": "stream",
          "name": "stdout",
          "text": [
            "Status: 200\n",
            "Content-type: text/html; charset=utf-8\n"
          ]
        }
      ]
    },
    {
      "cell_type": "code",
      "source": [
        "async def download_async(url, filename, path):\n",
        "  \"\"\"Downloads a file from the given URL and saves it with the specified filename.\"\"\"\n",
        "  async with aiohttp.ClientSession() as session:\n",
        "    async with session.get(url) as response:\n",
        "      total_size = int(response.headers['content-length'])  # Get total file size\n",
        "      print(f\"Total file size: {total_size} bytes\")\n",
        "      if response.status == 200:\n",
        "        path = os.path.join(path, filename)\n",
        "        with open(path, 'wb') as f:\n",
        "          # Read content in chunks using aiohttp.read()\n",
        "          while True:\n",
        "            chunk = await response.content.read(1024)  # Read in chunks of 1024 bytes\n",
        "            if not chunk:\n",
        "              break\n",
        "            f.write(chunk)\n",
        "        print(f\"Downloaded {filename}\")\n",
        "      else:\n",
        "        print(f\"Failed to download {filename}\")\n",
        "\n",
        "async def download_files_asynchronous(my_urls, my_filenames, path):\n",
        "  \"\"\"Downloads all files asynchronously.\"\"\"\n",
        "  tasks = []\n",
        "  for url, filename in zip(my_urls, my_filenames):\n",
        "    tasks.append(asyncio.create_task(download_async(url, filename, path)))\n",
        "\n",
        "  # Run all tasks concurrently using asyncio.run\n",
        "  await asyncio.gather(*tasks)"
      ],
      "metadata": {
        "id": "zOFmeIFarhHB"
      },
      "execution_count": 143,
      "outputs": []
    },
    {
      "cell_type": "code",
      "source": [
        "now1 = datetime.datetime.now()\n",
        "print(now1)\n",
        "\n",
        "async def main():\n",
        "  await download_files_asynchronous(my_urls, my_filenames, 'assincrono')\n",
        "\n",
        "# Call main as an async function and await it\n",
        "await main()\n",
        "\n",
        "now2 = datetime.datetime.now()\n",
        "print(now2)\n",
        "\n",
        "time_diff = now2 - now1\n",
        "print(time_diff)"
      ],
      "metadata": {
        "colab": {
          "base_uri": "https://localhost:8080/"
        },
        "id": "w--rRhSwqohB",
        "outputId": "3a9c504f-b5db-4793-9cc7-0a92aef972dd"
      },
      "execution_count": 144,
      "outputs": [
        {
          "output_type": "stream",
          "name": "stdout",
          "text": [
            "2024-07-15 15:25:47.661875\n",
            "Total file size: 69856 bytes\n",
            "Total file size: 265136 bytes\n",
            "Total file size: 14944332 bytes\n",
            "Total file size: 10174706 bytes\n",
            "Total file size: 8414449 bytes\n",
            "Downloaded demo.zip\n",
            "Downloaded screen_matrix.jpeg\n",
            "Downloaded Kalimba.mp3\n",
            "Downloaded Pizigani_1367_Chart_10MB.jpg\n",
            "Downloaded Adrienne.mp4\n",
            "2024-07-15 15:25:47.990049\n",
            "0:00:00.328174\n"
          ]
        }
      ]
    },
    {
      "cell_type": "markdown",
      "source": [
        "# Downloads usando Threads\n",
        "\n",
        "https://docs.python.org/3/library/threading.html\n",
        "\n",
        "https://en.wikipedia.org/wiki/Thread_(computing)"
      ],
      "metadata": {
        "id": "nBKoTsqU-EVj"
      }
    },
    {
      "cell_type": "code",
      "source": [
        "import threading\n",
        "import requests\n",
        "\n",
        "def download_files_via_threads(urls, filenames, path):\n",
        "  \"\"\"Downloads multiple files asynchronously using threads.\"\"\"\n",
        "  threads = []\n",
        "  for url, filename in zip(urls, filenames):\n",
        "    thread = threading.Thread(target=download_one_file(url, filename, path), args=(url, filename, path))\n",
        "    threads.append(thread)\n",
        "    thread.start()\n",
        "\n",
        "  # Wait for all threads to finish (blocking)\n",
        "  for thread in threads:\n",
        "    thread.join()"
      ],
      "metadata": {
        "id": "cyvp6trY-HX6"
      },
      "execution_count": 145,
      "outputs": []
    },
    {
      "cell_type": "code",
      "source": [
        "now1 = datetime.datetime.now()\n",
        "print(now1)\n",
        "\n",
        "download_files_via_threads(my_urls, my_filenames, 'threads')\n",
        "\n",
        "now2 = datetime.datetime.now()\n",
        "print(now2)\n",
        "\n",
        "time_diff = now2 - now1\n",
        "print(time_diff)"
      ],
      "metadata": {
        "colab": {
          "base_uri": "https://localhost:8080/"
        },
        "id": "sJseJY3z_Kem",
        "outputId": "c6284a25-244d-44fd-94c2-8555cfd22865"
      },
      "execution_count": 146,
      "outputs": [
        {
          "output_type": "stream",
          "name": "stdout",
          "text": [
            "2024-07-15 15:30:24.180148\n",
            "Total file size: 14944332 bytes\n",
            "Downloaded Adrienne.mp4\n",
            "Total file size: 10174706 bytes\n",
            "Downloaded Pizigani_1367_Chart_10MB.jpg\n",
            "Total file size: 8414449 bytes\n",
            "Downloaded Kalimba.mp3\n",
            "Total file size: 265136 bytes\n",
            "Downloaded screen_matrix.jpeg\n",
            "Total file size: 69856 bytes\n",
            "Downloaded demo.zip\n",
            "2024-07-15 15:30:25.888925\n",
            "0:00:01.708777\n"
          ]
        }
      ]
    },
    {
      "cell_type": "markdown",
      "source": [
        "# Conceitos chaves"
      ],
      "metadata": {
        "id": "WPga3YU_7TC8"
      }
    },
    {
      "cell_type": "markdown",
      "source": [
        "## Chamadas síncronas"
      ],
      "metadata": {
        "id": "iO1ZVK294c1w"
      }
    },
    {
      "cell_type": "code",
      "source": [
        "import time\n",
        "\n",
        "def task1_sync():\n",
        "  \"\"\"Simulates a long-running task that takes 2 seconds.\"\"\"\n",
        "  print(\"Task 1 started\")\n",
        "  print(datetime.datetime.now())\n",
        "  time.sleep(2)  # Simulate work for 2 seconds\n",
        "  print(\"Task 1 finished\")\n",
        "  print(datetime.datetime.now())\n",
        "\n",
        "def task2_sync():\n",
        "  \"\"\"Simulates a shorter task that takes 1 second.\"\"\"\n",
        "  print(\"Task 2 started\")\n",
        "  print(datetime.datetime.now())\n",
        "  time.sleep(1)  # Simulate work for 1 second\n",
        "  print(\"Task 2 finished\")\n",
        "  print(datetime.datetime.now())\n",
        "\n",
        "def run_tasks_sinc():\n",
        "  \"\"\"Runs two tasks concurrently using asyncio.\"\"\"\n",
        "  task1_sync()\n",
        "  task2_sync()\n",
        "\n",
        "  print(\"All tasks finished\")"
      ],
      "metadata": {
        "id": "yxnr6D936UJf"
      },
      "execution_count": 147,
      "outputs": []
    },
    {
      "cell_type": "code",
      "source": [
        "print(\"#\"*50)\n",
        "print(\"Chamada síncrona\")\n",
        "now1 = datetime.datetime.now()\n",
        "print(now1)\n",
        "print(\"-\"*50)\n",
        "\n",
        "run_tasks_sinc()\n",
        "\n",
        "now2 = datetime.datetime.now()\n",
        "print(now2)\n",
        "print(\"-\"*50)\n",
        "print(f\"Tempo total: {now2-now1}\")"
      ],
      "metadata": {
        "colab": {
          "base_uri": "https://localhost:8080/"
        },
        "id": "L3f766mE6oej",
        "outputId": "f0df0a7a-a906-40e1-8723-2bdb2b191268"
      },
      "execution_count": 148,
      "outputs": [
        {
          "output_type": "stream",
          "name": "stdout",
          "text": [
            "##################################################\n",
            "Chamada síncrona\n",
            "2024-07-15 15:30:48.336812\n",
            "--------------------------------------------------\n",
            "Task 1 started\n",
            "2024-07-15 15:30:48.339029\n",
            "Task 1 finished\n",
            "2024-07-15 15:30:50.341799\n",
            "Task 2 started\n",
            "2024-07-15 15:30:50.341869\n",
            "Task 2 finished\n",
            "2024-07-15 15:30:51.343135\n",
            "All tasks finished\n",
            "2024-07-15 15:30:51.343440\n",
            "--------------------------------------------------\n",
            "Tempo total: 0:00:03.006628\n"
          ]
        }
      ]
    },
    {
      "cell_type": "markdown",
      "source": [
        "## Chamadas assíncronas"
      ],
      "metadata": {
        "id": "y032Pd2w7Nfv"
      }
    },
    {
      "cell_type": "code",
      "source": [
        "import asyncio\n",
        "\n",
        "async def task1_async():\n",
        "  \"\"\"Simulates a long-running task that takes 2 seconds.\"\"\"\n",
        "  print(\"Task 1 started\")\n",
        "  print(datetime.datetime.now())\n",
        "  await asyncio.sleep(2)  # Simulate work for 2 seconds\n",
        "  print(\"Task 1 finished\")\n",
        "  print(datetime.datetime.now())\n",
        "\n",
        "async def task2_async():\n",
        "  \"\"\"Simulates a shorter task that takes 1 second.\"\"\"\n",
        "  print(\"Task 2 started\")\n",
        "  print(datetime.datetime.now())\n",
        "  await asyncio.sleep(1)  # Simulate work for 1 second\n",
        "  print(\"Task 2 finished\")\n",
        "  print(datetime.datetime.now())\n",
        "\n",
        "async def run_tasks_asinc():\n",
        "  \"\"\"Runs two tasks concurrently using asyncio.\"\"\"\n",
        "  task1_future = asyncio.create_task(task1_async())\n",
        "  task2_future = asyncio.create_task(task2_async())\n",
        "\n",
        "  # Wait for both tasks to complete concurrently (non-blocking)\n",
        "  await task1_future\n",
        "  await task2_future\n",
        "\n",
        "  print(\"All tasks finished\")\n",
        "\n",
        "# Run the event loop in terminal\n",
        "#loop = asyncio.get_event_loop()\n",
        "#loop.run_until_complete(run_tasks())\n",
        "#loop.close()"
      ],
      "metadata": {
        "id": "xRYO6p6f4eXo"
      },
      "execution_count": 149,
      "outputs": []
    },
    {
      "cell_type": "code",
      "source": [
        "async def call_run_tasks():\n",
        "  await run_tasks_asinc()\n",
        "\n",
        "print(\"#\"*50)\n",
        "print(\"Chamada assíncrona\")\n",
        "now1 = datetime.datetime.now()\n",
        "print(now1)\n",
        "print(\"-\"*50)\n",
        "\n",
        "await call_run_tasks()\n",
        "\n",
        "now2 = datetime.datetime.now()\n",
        "print(now2)\n",
        "print(\"-\"*50)\n",
        "print(f\"Tempo total: {now2-now1}\")"
      ],
      "metadata": {
        "colab": {
          "base_uri": "https://localhost:8080/"
        },
        "id": "VX3n1XgB47vU",
        "outputId": "fa877323-7c62-411b-d33b-fb5f06048eac"
      },
      "execution_count": 150,
      "outputs": [
        {
          "output_type": "stream",
          "name": "stdout",
          "text": [
            "##################################################\n",
            "Chamada assíncrona\n",
            "2024-07-15 15:30:56.975527\n",
            "--------------------------------------------------\n",
            "Task 1 started\n",
            "2024-07-15 15:30:56.976090\n",
            "Task 2 started\n",
            "2024-07-15 15:30:56.976223\n",
            "Task 2 finished\n",
            "2024-07-15 15:30:57.977664\n",
            "Task 1 finished\n",
            "2024-07-15 15:30:58.978045\n",
            "All tasks finished\n",
            "2024-07-15 15:30:58.978324\n",
            "--------------------------------------------------\n",
            "Tempo total: 0:00:02.002797\n"
          ]
        }
      ]
    },
    {
      "cell_type": "markdown",
      "source": [
        "# Usando threads"
      ],
      "metadata": {
        "id": "GeGwO3nn76IU"
      }
    },
    {
      "cell_type": "code",
      "source": [
        "import threading\n",
        "import time\n",
        "\n",
        "def task1():\n",
        "  \"\"\"Simulates a long-running task (2 seconds) using threading.\"\"\"\n",
        "  print(\"Task 1 started (Thread)\")\n",
        "  print(datetime.datetime.now())\n",
        "  time.sleep(2)  # Simulate work for 2 seconds\n",
        "  print(\"Task 1 finished (Thread)\")\n",
        "  print(datetime.datetime.now())\n",
        "\n",
        "def task2():\n",
        "  \"\"\"Simulates a shorter task (1 second) using threading.\"\"\"\n",
        "  print(\"Task 2 started (Thread)\")\n",
        "  print(datetime.datetime.now())\n",
        "  time.sleep(1)  # Simulate work for 1 second\n",
        "  print(\"Task 2 finished (Thread)\")\n",
        "  print(datetime.datetime.now())\n",
        "\n",
        "def run_tasks_via_threads():\n",
        "  \"\"\"Runs two tasks concurrently using threads.\"\"\"\n",
        "  thread1 = threading.Thread(target=task1)\n",
        "  thread2 = threading.Thread(target=task2)\n",
        "\n",
        "  # Start threads\n",
        "  thread1.start()\n",
        "  thread2.start()\n",
        "\n",
        "  # Wait for threads to finish\n",
        "  thread1.join()\n",
        "  thread2.join()\n",
        "\n",
        "  print(\"All tasks finished (Threads)\")"
      ],
      "metadata": {
        "id": "wAEJ0xay4umq"
      },
      "execution_count": 151,
      "outputs": []
    },
    {
      "cell_type": "code",
      "source": [
        "print(\"#\"*50)\n",
        "print(\"Chamada assíncrona usando Threads\")\n",
        "now1 = datetime.datetime.now()\n",
        "print(now1)\n",
        "print(\"-\"*50)\n",
        "\n",
        "run_tasks_via_threads()\n",
        "\n",
        "now2 = datetime.datetime.now()\n",
        "print(now2)\n",
        "print(\"-\"*50)\n",
        "print(f\"Tempo total: {now2-now1}\")"
      ],
      "metadata": {
        "colab": {
          "base_uri": "https://localhost:8080/"
        },
        "id": "MRc1rVuG8Ca7",
        "outputId": "289edd0f-343f-4c83-99b7-9a6b83522f41"
      },
      "execution_count": 129,
      "outputs": [
        {
          "output_type": "stream",
          "name": "stdout",
          "text": [
            "##################################################\n",
            "Chamada assíncrona usando Threads\n",
            "2024-07-15 15:14:44.332125\n",
            "--------------------------------------------------\n",
            "Task 1 started (Thread)Task 2 started (Thread)\n",
            "2024-07-15 15:14:44.334087\n",
            "\n",
            "2024-07-15 15:14:44.336096\n",
            "Task 2 finished (Thread)\n",
            "2024-07-15 15:14:45.335527\n",
            "Task 1 finished (Thread)\n",
            "2024-07-15 15:14:46.340564\n",
            "All tasks finished (Threads)\n",
            "2024-07-15 15:14:46.341758\n",
            "--------------------------------------------------\n",
            "Tempo total: 0:00:02.009633\n"
          ]
        }
      ]
    },
    {
      "cell_type": "code",
      "source": [],
      "metadata": {
        "id": "a5CdJvDu8Xih"
      },
      "execution_count": null,
      "outputs": []
    }
  ]
}
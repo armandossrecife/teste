{
  "nbformat": 4,
  "nbformat_minor": 0,
  "metadata": {
    "colab": {
      "provenance": [],
      "authorship_tag": "ABX9TyMya9dgKzm+CIp2OrYavs/8",
      "include_colab_link": true
    },
    "kernelspec": {
      "name": "python3",
      "display_name": "Python 3"
    },
    "language_info": {
      "name": "python"
    }
  },
  "cells": [
    {
      "cell_type": "markdown",
      "metadata": {
        "id": "view-in-github",
        "colab_type": "text"
      },
      "source": [
        "<a href=\"https://colab.research.google.com/github/armandossrecife/teste/blob/main/download_sync_async.ipynb\" target=\"_parent\"><img src=\"https://colab.research.google.com/assets/colab-badge.svg\" alt=\"Open In Colab\"/></a>"
      ]
    },
    {
      "cell_type": "markdown",
      "source": [
        "# Utilidades"
      ],
      "metadata": {
        "id": "z5VuhxTvvGFj"
      }
    },
    {
      "cell_type": "markdown",
      "source": [
        "## Classe que extrai nome e extensão de um arquivo em uma URL"
      ],
      "metadata": {
        "id": "Q6YGPmWCP-GF"
      }
    },
    {
      "cell_type": "markdown",
      "source": [
        "Uma URL (Uniform Resource Locator), ou endereço web, é como um endereço postal na internet. Ela indica a localização exata de um recurso online, como uma página web, imagem, vídeo ou outro arquivo.\n",
        "\n",
        "**Componentes de uma URL:**\n",
        "\n",
        "  * **Esquema:** Indica o protocolo utilizado para acessar o recurso. Os mais comuns são:\n",
        "      * **http:** Protocolo de transferência de hipertexto, utilizado para páginas web não seguras.\n",
        "      * **https:** Versão segura do HTTP, que utiliza criptografia para proteger a comunicação.\n",
        "      * **ftp:** Protocolo de transferência de arquivos, utilizado para transferir arquivos entre computadores.\n",
        "      * **mailto:** Utilizado para enviar e-mails.\n",
        "  * **Host:** Identifica o servidor onde o recurso está localizado. É composto pelo nome de domínio (ex: [URL inválido removido]) e, opcionalmente, o número da porta.\n",
        "  * **Caminho:** Especifica a localização exata do recurso dentro do servidor. É semelhante à estrutura de pastas em um computador.\n",
        "  * **Parâmetros de consulta:** Fornecem informações adicionais ao servidor, como resultados de busca ou configurações personalizadas. São separados do caminho por um ponto de interrogação (?) e os pares chave-valor são separados por um & (ampersand).\n",
        "  * **Fragmento:** Indica uma parte específica de uma página, como uma seção ou um link dentro da página. É separado do resto da URL por um jogo da velha (\\#).\n",
        "\n",
        "**Exemplo:**\n",
        "\n",
        "```\n",
        "https://www.exemplo.com/pasta/arquivo.html?parametro1=valor1&parametro2=valor2#secao\n",
        "```\n",
        "\n",
        "  * **https:** Protocolo seguro.\n",
        "  * **[www.exemplo.com](https://www.google.com/url?sa=E&source=gmail&q=https://www.exemplo.com):** Nome de domínio do servidor.\n",
        "  * **/pasta/arquivo.html:** Caminho do arquivo dentro do servidor.\n",
        "  * **?parametro1=valor1\\&parametro2=valor2:** Parâmetros de consulta.\n",
        "  * **\\#secao:** Fragmento, indicando uma seção específica da página.\n",
        "\n",
        "**Para que serve cada componente:**\n",
        "\n",
        "  * **Esquema:** Define como o navegador deve se conectar ao servidor.\n",
        "  * **Host:** Identifica o servidor específico onde o recurso está hospedado.\n",
        "  * **Caminho:** Direciona o navegador para o local exato do arquivo dentro do servidor.\n",
        "  * **Parâmetros de consulta:** Permitem que você passe informações adicionais ao servidor, como resultados de busca, configurações personalizadas ou dados de formulários.\n",
        "  * **Fragmento:** Permite que você navegue diretamente para uma parte específica de uma página, sem precisar carregar a página inteira novamente."
      ],
      "metadata": {
        "id": "ZV36YGKgQeZB"
      }
    },
    {
      "cell_type": "code",
      "source": [
        "from urllib.parse import urlparse\n",
        "import os\n",
        "\n",
        "class Util:\n",
        "  def extrair_nome_extensao_url(self, url):\n",
        "    try:\n",
        "      parsed_url = urlparse(url)\n",
        "      if parsed_url.scheme not in ('http', 'https', 'ftp'):\n",
        "        raise ValueError(f\"Unsupported protocol: {parsed_url.scheme}\")\n",
        "\n",
        "      caminho_arquivo = parsed_url.path\n",
        "      if not caminho_arquivo:\n",
        "        raise ValueError(\"Missing file path in URL\")\n",
        "\n",
        "      #nome_arquivo, extensao = os.path.splitext(os.path.basename(caminho_arquivo))\n",
        "      nome_arquivo, extensao = os.path.basename(caminho_arquivo).rsplit('.', 1)\n",
        "\n",
        "      if not nome_arquivo:\n",
        "        raise ValueError(\"Missing file name\")\n",
        "\n",
        "      return nome_arquivo, extensao\n",
        "\n",
        "    except Exception as ex:\n",
        "      raise ValueError(f\"{str(ex)}\") from ex"
      ],
      "metadata": {
        "id": "ZihnjzE3vJRg"
      },
      "execution_count": 22,
      "outputs": []
    },
    {
      "cell_type": "code",
      "source": [
        "util = Util()\n",
        "url = \"https://exemplo.com/caminho/para/arquivo.txt\"\n",
        "nome_arquivo, extensao = util.extrair_nome_extensao_url(url)\n",
        "print(nome_arquivo)  # Saída: arquivo\n",
        "print(extensao)      # Saída: .txt"
      ],
      "metadata": {
        "colab": {
          "base_uri": "https://localhost:8080/"
        },
        "id": "7Bo6flxCPllQ",
        "outputId": "39cd958a-7723-4b9f-8d4d-4601c1305bf9"
      },
      "execution_count": 27,
      "outputs": [
        {
          "output_type": "stream",
          "name": "stdout",
          "text": [
            "arquivo\n",
            "txt\n"
          ]
        }
      ]
    },
    {
      "cell_type": "code",
      "source": [
        "url2 = \"https://www.exemplo.com/pasta/arquivo.html?parametro1=valor1&parametro2=valor2#secao\"\n",
        "nome_arquivo, extensao = util.extrair_nome_extensao_url(url2)\n",
        "print(nome_arquivo)  # Saída: arquivo\n",
        "print(extensao)      # Saída: .html"
      ],
      "metadata": {
        "colab": {
          "base_uri": "https://localhost:8080/"
        },
        "id": "hZphlsa2QzYA",
        "outputId": "f3193925-ce34-4353-ed7a-87bb88c08917"
      },
      "execution_count": 28,
      "outputs": [
        {
          "output_type": "stream",
          "name": "stdout",
          "text": [
            "arquivo\n",
            "html\n"
          ]
        }
      ]
    },
    {
      "cell_type": "markdown",
      "source": [
        "## Limpa a estrutura das pastas que vão armazenar os arquivos"
      ],
      "metadata": {
        "id": "gBr3sR0-RDCd"
      }
    },
    {
      "cell_type": "code",
      "source": [
        "!rm -rf sincrono && mkdir sincrono\n",
        "!rm -rf assincrono && mkdir assincrono\n",
        "!rm -rf threads && mkdir threads"
      ],
      "metadata": {
        "id": "CJZ4aNBFvm-v"
      },
      "execution_count": 29,
      "outputs": []
    },
    {
      "cell_type": "code",
      "source": [
        "!ls -lia"
      ],
      "metadata": {
        "colab": {
          "base_uri": "https://localhost:8080/"
        },
        "id": "zHc7j8nF0HmG",
        "outputId": "bd60f460-7489-47e5-92fa-0c5582d1c176"
      },
      "execution_count": 25,
      "outputs": [
        {
          "output_type": "stream",
          "name": "stdout",
          "text": [
            "total 28\n",
            "6815750 drwxr-xr-x 1 root root 4096 Jan 13 15:19 .\n",
            "5505040 drwxr-xr-x 1 root root 4096 Jan 13 14:25 ..\n",
            "5509883 drwxr-xr-x 2 root root 4096 Jan 13 15:19 assincrono\n",
            "2621447 drwxr-xr-x 4 root root 4096 Jan  9 14:24 .config\n",
            "6815751 drwxr-xr-x 1 root root 4096 Jan  9 14:24 sample_data\n",
            "5509882 drwxr-xr-x 2 root root 4096 Jan 13 15:19 sincrono\n",
            "5509884 drwxr-xr-x 2 root root 4096 Jan 13 15:19 threads\n"
          ]
        }
      ]
    },
    {
      "cell_type": "code",
      "source": [
        "!lsb_release -a"
      ],
      "metadata": {
        "colab": {
          "base_uri": "https://localhost:8080/"
        },
        "id": "F-JNxfw_P4kw",
        "outputId": "85072986-b71c-4160-aed0-be7ca0c8678b"
      },
      "execution_count": 26,
      "outputs": [
        {
          "output_type": "stream",
          "name": "stdout",
          "text": [
            "No LSB modules are available.\n",
            "Distributor ID:\tUbuntu\n",
            "Description:\tUbuntu 22.04.3 LTS\n",
            "Release:\t22.04\n",
            "Codename:\tjammy\n"
          ]
        }
      ]
    },
    {
      "cell_type": "markdown",
      "source": [
        "## Prepara as URLs dos arquivos de exemplo (Download de arquivos públicos)"
      ],
      "metadata": {
        "id": "ni-YVkGVRJOh"
      }
    },
    {
      "cell_type": "code",
      "source": [
        "my_raw_data_site = \"https://raw.githubusercontent.com/armandossrecife/teste/main\"\n",
        "my_url1 = my_raw_data_site + \"/\" + \"Adrienne.mp4\"\n",
        "my_url2 = my_raw_data_site + \"/\" + \"Pizigani_1367_Chart_10MB.jpg\"\n",
        "my_url3 = my_raw_data_site + \"/\" + \"Kalimba.mp3\"\n",
        "my_url4 = my_raw_data_site + \"/\" + \"screen_matrix.jpeg\"\n",
        "my_url5 = my_raw_data_site + \"/\" + \"demo.zip\"\n",
        "\n",
        "my_urls = [my_url1, my_url2, my_url3, my_url4, my_url5]\n",
        "\n",
        "my_util = Util()\n",
        "my_filenames = []\n",
        "for url in my_urls:\n",
        "  print(url)\n",
        "  nome_arquivo, extensao = my_util.extrair_nome_extensao_url(url)\n",
        "  filename = f\"{nome_arquivo}.{extensao}\"\n",
        "  print(f\"{nome_arquivo}.{extensao}\")\n",
        "  my_filenames.append(filename)"
      ],
      "metadata": {
        "colab": {
          "base_uri": "https://localhost:8080/"
        },
        "id": "m7BTwIyjvkuC",
        "outputId": "71d13dd8-8923-4c87-c0c5-6b26b089a269"
      },
      "execution_count": 30,
      "outputs": [
        {
          "output_type": "stream",
          "name": "stdout",
          "text": [
            "https://raw.githubusercontent.com/armandossrecife/teste/main/Adrienne.mp4\n",
            "Adrienne.mp4\n",
            "https://raw.githubusercontent.com/armandossrecife/teste/main/Pizigani_1367_Chart_10MB.jpg\n",
            "Pizigani_1367_Chart_10MB.jpg\n",
            "https://raw.githubusercontent.com/armandossrecife/teste/main/Kalimba.mp3\n",
            "Kalimba.mp3\n",
            "https://raw.githubusercontent.com/armandossrecife/teste/main/screen_matrix.jpeg\n",
            "screen_matrix.jpeg\n",
            "https://raw.githubusercontent.com/armandossrecife/teste/main/demo.zip\n",
            "demo.zip\n"
          ]
        }
      ]
    },
    {
      "cell_type": "markdown",
      "source": [
        "# Download síncrono\n",
        "\n",
        "https://requests.readthedocs.io\n",
        "\n",
        "Requests is an elegant and simple HTTP library for Python, built for human beings."
      ],
      "metadata": {
        "id": "Gbfnvz0dh_aT"
      }
    },
    {
      "cell_type": "markdown",
      "source": [
        "Exemplo de uso da biblioteca requets:"
      ],
      "metadata": {
        "id": "i5F5MKEqSCHM"
      }
    },
    {
      "cell_type": "code",
      "source": [
        "import requests\n",
        "\n",
        "def buscar_cep(cep):\n",
        "    url = f'https://viacep.com.br/ws/{cep}/json/'\n",
        "    response = requests.get(url)\n",
        "    dados = response.json()\n",
        "    return dados\n",
        "\n",
        "cep = '64007250'\n",
        "resultado = buscar_cep(cep)\n",
        "print(resultado)\n",
        "print(f\"Logradouro: {resultado['logradouro']}\")\n",
        "print(f\"Bairro: {resultado['bairro']}\")\n",
        "print(f\"Cidade: {resultado['localidade']}\")\n",
        "print(f\"Estado: {resultado['uf']}\")"
      ],
      "metadata": {
        "colab": {
          "base_uri": "https://localhost:8080/"
        },
        "id": "rd3c8I2aSJu4",
        "outputId": "4ed827c2-3775-43f9-aa8f-39e8f61ff0ae"
      },
      "execution_count": 35,
      "outputs": [
        {
          "output_type": "stream",
          "name": "stdout",
          "text": [
            "{'cep': '64007-250', 'logradouro': 'Rua Território Fernando de Noronha', 'complemento': '', 'unidade': '', 'bairro': 'Aeroporto', 'localidade': 'Teresina', 'uf': 'PI', 'estado': 'Piauí', 'regiao': 'Nordeste', 'ibge': '2211001', 'gia': '', 'ddd': '86', 'siafi': '1219'}\n",
            "Logradouro: Rua Território Fernando de Noronha\n",
            "Bairro: Aeroporto\n",
            "Cidade: Teresina\n",
            "Estado: PI\n"
          ]
        }
      ]
    },
    {
      "cell_type": "markdown",
      "source": [
        "## Funções para download de arquivos"
      ],
      "metadata": {
        "id": "_CQ42P-iS2Ko"
      }
    },
    {
      "cell_type": "code",
      "execution_count": 37,
      "metadata": {
        "id": "FbJ7oqeShAjU"
      },
      "outputs": [],
      "source": [
        "import requests\n",
        "\n",
        "# Faz o download de um único arquivo\n",
        "def download_one_file(url, filename, path):\n",
        "  response = requests.get(url, stream=True)\n",
        "  if response.status_code == 200:\n",
        "    total_size = int(response.headers['content-length'])  # Get total file size\n",
        "    print(f\"Total file size: {total_size} bytes\")\n",
        "    path = os.path.join(path, filename)\n",
        "    with open(path, 'wb') as f:\n",
        "      for chunk in response.iter_content(1024):\n",
        "        f.write(chunk)\n",
        "    print(f\"Downloaded {filename}\")\n",
        "  else:\n",
        "    print(f\"Failed to download {filename}\")\n",
        "\n",
        "# Faz o download sincrono de uma lista de arquivos\n",
        "def download_files_synchronous(my_urls, my_filenames, path):\n",
        "  # Download each file synchronously\n",
        "  for url, filename in zip(my_urls, my_filenames):\n",
        "    download_one_file(url, filename, path)"
      ]
    },
    {
      "cell_type": "code",
      "source": [
        "my_urls"
      ],
      "metadata": {
        "colab": {
          "base_uri": "https://localhost:8080/"
        },
        "id": "AIWnnqy7TsUu",
        "outputId": "6b259569-898a-4ea5-a9f8-2489255aab16"
      },
      "execution_count": 39,
      "outputs": [
        {
          "output_type": "execute_result",
          "data": {
            "text/plain": [
              "['https://raw.githubusercontent.com/armandossrecife/teste/main/Adrienne.mp4',\n",
              " 'https://raw.githubusercontent.com/armandossrecife/teste/main/Pizigani_1367_Chart_10MB.jpg',\n",
              " 'https://raw.githubusercontent.com/armandossrecife/teste/main/Kalimba.mp3',\n",
              " 'https://raw.githubusercontent.com/armandossrecife/teste/main/screen_matrix.jpeg',\n",
              " 'https://raw.githubusercontent.com/armandossrecife/teste/main/demo.zip']"
            ]
          },
          "metadata": {},
          "execution_count": 39
        }
      ]
    },
    {
      "cell_type": "code",
      "source": [
        "import datetime\n",
        "\n",
        "now1 = datetime.datetime.now()\n",
        "print(now1)\n",
        "\n",
        "download_files_synchronous(my_urls, my_filenames, 'sincrono')\n",
        "print(\"All files downloaded (synchronously)\")\n",
        "\n",
        "now2 = datetime.datetime.now()\n",
        "print(now2)\n",
        "\n",
        "time_diff = now2 - now1\n",
        "print(time_diff)"
      ],
      "metadata": {
        "colab": {
          "base_uri": "https://localhost:8080/"
        },
        "id": "33Jp0436hDAb",
        "outputId": "5ba38846-a8f6-4cb1-bc00-bd8feaabe832"
      },
      "execution_count": 6,
      "outputs": [
        {
          "output_type": "stream",
          "name": "stdout",
          "text": [
            "2025-01-13 14:26:12.107071\n",
            "Total file size: 14944332 bytes\n",
            "Downloaded Adrienne.mp4\n",
            "Total file size: 10174706 bytes\n",
            "Downloaded Pizigani_1367_Chart_10MB.jpg\n",
            "Total file size: 8414449 bytes\n",
            "Downloaded Kalimba.mp3\n",
            "Total file size: 265136 bytes\n",
            "Downloaded screen_matrix.jpeg\n",
            "Total file size: 69856 bytes\n",
            "Downloaded demo.zip\n",
            "All files downloaded (synchronously)\n",
            "2025-01-13 14:26:14.794788\n",
            "0:00:02.687717\n"
          ]
        }
      ]
    },
    {
      "cell_type": "markdown",
      "source": [
        "# Download assíncrono\n",
        "\n",
        "https://docs.aiohttp.org\n",
        "\n",
        "Asynchronous HTTP Client/Server for asyncio and Python.\n",
        "\n",
        "https://en.wikipedia.org/wiki/Asynchrony_(computer_programming)\n",
        "\n",
        "https://en.wikipedia.org/wiki/Async/await"
      ],
      "metadata": {
        "id": "BnBCsr5xiDYE"
      }
    },
    {
      "cell_type": "markdown",
      "source": [
        "A biblioteca **aiohttp** é uma ferramenta fundamental para o desenvolvimento de aplicações web assíncronas em Python. Ela permite criar tanto clientes HTTP (para fazer requisições a outros servidores) quanto servidores HTTP (para criar suas próprias APIs ou serviços web).\n",
        "\n",
        "**Por que usar aiohttp?**\n",
        "\n",
        "* **Assincronia:**  A principal vantagem do aiohttp é sua capacidade de lidar com múltiplas requisições de forma não bloqueante. Isso significa que seu código pode continuar processando outras tarefas enquanto aguarda uma resposta de uma requisição HTTP, tornando suas aplicações mais eficientes e escaláveis.\n",
        "* **Desempenho:** Ao utilizar a biblioteca asyncio do Python, o aiohttp oferece um desempenho superior em comparação com bibliotecas síncronas como requests, especialmente em cenários com alto volume de requisições.\n",
        "* **Facilidade de uso:** A API do aiohttp é intuitiva e bem documentada, tornando-a fácil de aprender e usar.\n",
        "* **Recursos completos:** A biblioteca oferece uma ampla gama de recursos, incluindo suporte a WebSocket, middleware, roteamento e muito mais.\n",
        "\n",
        "**Como funciona:**\n",
        "\n",
        "* **Cliente HTTP:** Para fazer requisições HTTP, você cria um cliente aiohttp e utiliza métodos como `get()`, `post()`, `put()` e `delete()`. As respostas são retornadas como objetos assíncronos, permitindo que você continue processando outras tarefas enquanto aguarda a resposta.\n",
        "* **Servidor HTTP:** Para criar um servidor HTTP, você define rotas e handlers para tratar as diferentes requisições. O aiohttp se encarrega de gerenciar as conexões e as tarefas de forma assíncrona.\n",
        "\n",
        "**Exemplo básico:**\n",
        "\n",
        "```python\n",
        "import asyncio\n",
        "import aiohttp\n",
        "\n",
        "async def fetch(session, url):\n",
        "    async with session.get(url) as response:\n",
        "        return await response.text()\n",
        "\n",
        "async def main():\n",
        "    async with aiohttp.ClientSession() as session:\n",
        "        html = await fetch(session, 'https://www.example.com')\n",
        "        print(html)\n",
        "\n",
        "asyncio.run(main())\n",
        "```\n",
        "\n",
        "**Conceitos chave:**\n",
        "\n",
        "* **asyncio:** A biblioteca asyncio é a base do aiohttp. Ela fornece a infraestrutura para programação assíncrona em Python.\n",
        "* **Coroutines:** Coroutines são funções que podem suspender e retomar sua execução. O aiohttp utiliza coroutines para lidar com requisições e respostas de forma assíncrona.\n",
        "* **Tasks:** Tasks são coroutines agendadas para execução em um loop de eventos.\n",
        "* **WebSockets:** O aiohttp oferece suporte nativo a WebSockets, permitindo a comunicação bidirecional em tempo real entre o cliente e o servidor.\n",
        "\n",
        "**Quando usar aiohttp:**\n",
        "\n",
        "* **Aplicações web de alta performance:** Se você precisa lidar com um grande volume de requisições simultâneas.\n",
        "* **APIs REST:** Para criar APIs RESTful escaláveis e eficientes.\n",
        "* **Web Scraping:** Para extrair dados de sites de forma rápida e eficiente.\n",
        "* **Aplicações de chat e jogos online:** Para implementar a comunicação em tempo real."
      ],
      "metadata": {
        "id": "HvJyia7PU2mB"
      }
    },
    {
      "cell_type": "code",
      "source": [
        "!pip install aiohttp"
      ],
      "metadata": {
        "colab": {
          "base_uri": "https://localhost:8080/"
        },
        "id": "EJSbbiWvidr4",
        "outputId": "6a2f4d4f-c932-4128-c7f5-afc4600a757b"
      },
      "execution_count": 7,
      "outputs": [
        {
          "output_type": "stream",
          "name": "stdout",
          "text": [
            "Requirement already satisfied: aiohttp in /usr/local/lib/python3.10/dist-packages (3.11.11)\n",
            "Requirement already satisfied: aiohappyeyeballs>=2.3.0 in /usr/local/lib/python3.10/dist-packages (from aiohttp) (2.4.4)\n",
            "Requirement already satisfied: aiosignal>=1.1.2 in /usr/local/lib/python3.10/dist-packages (from aiohttp) (1.3.2)\n",
            "Requirement already satisfied: async-timeout<6.0,>=4.0 in /usr/local/lib/python3.10/dist-packages (from aiohttp) (4.0.3)\n",
            "Requirement already satisfied: attrs>=17.3.0 in /usr/local/lib/python3.10/dist-packages (from aiohttp) (24.3.0)\n",
            "Requirement already satisfied: frozenlist>=1.1.1 in /usr/local/lib/python3.10/dist-packages (from aiohttp) (1.5.0)\n",
            "Requirement already satisfied: multidict<7.0,>=4.5 in /usr/local/lib/python3.10/dist-packages (from aiohttp) (6.1.0)\n",
            "Requirement already satisfied: propcache>=0.2.0 in /usr/local/lib/python3.10/dist-packages (from aiohttp) (0.2.1)\n",
            "Requirement already satisfied: yarl<2.0,>=1.17.0 in /usr/local/lib/python3.10/dist-packages (from aiohttp) (1.18.3)\n",
            "Requirement already satisfied: typing-extensions>=4.1.0 in /usr/local/lib/python3.10/dist-packages (from multidict<7.0,>=4.5->aiohttp) (4.12.2)\n",
            "Requirement already satisfied: idna>=2.0 in /usr/local/lib/python3.10/dist-packages (from yarl<2.0,>=1.17.0->aiohttp) (3.10)\n"
          ]
        }
      ]
    },
    {
      "cell_type": "code",
      "source": [
        "!pip install aiodns"
      ],
      "metadata": {
        "colab": {
          "base_uri": "https://localhost:8080/"
        },
        "id": "6ze5CoPxifWl",
        "outputId": "fc3cac08-1799-476b-8545-95bfb0fd714e"
      },
      "execution_count": 8,
      "outputs": [
        {
          "output_type": "stream",
          "name": "stdout",
          "text": [
            "Collecting aiodns\n",
            "  Downloading aiodns-3.2.0-py3-none-any.whl.metadata (4.0 kB)\n",
            "Collecting pycares>=4.0.0 (from aiodns)\n",
            "  Downloading pycares-4.5.0-cp310-cp310-manylinux_2_17_x86_64.manylinux2014_x86_64.whl.metadata (4.1 kB)\n",
            "Requirement already satisfied: cffi>=1.5.0 in /usr/local/lib/python3.10/dist-packages (from pycares>=4.0.0->aiodns) (1.17.1)\n",
            "Requirement already satisfied: pycparser in /usr/local/lib/python3.10/dist-packages (from cffi>=1.5.0->pycares>=4.0.0->aiodns) (2.22)\n",
            "Downloading aiodns-3.2.0-py3-none-any.whl (5.7 kB)\n",
            "Downloading pycares-4.5.0-cp310-cp310-manylinux_2_17_x86_64.manylinux2014_x86_64.whl (288 kB)\n",
            "\u001b[2K   \u001b[90m━━━━━━━━━━━━━━━━━━━━━━━━━━━━━━━━━━━━━━━━\u001b[0m \u001b[32m288.6/288.6 kB\u001b[0m \u001b[31m5.3 MB/s\u001b[0m eta \u001b[36m0:00:00\u001b[0m\n",
            "\u001b[?25hInstalling collected packages: pycares, aiodns\n",
            "Successfully installed aiodns-3.2.0 pycares-4.5.0\n"
          ]
        }
      ]
    },
    {
      "cell_type": "markdown",
      "source": [
        "Exemplo básico:"
      ],
      "metadata": {
        "id": "oGnHzO38VD6t"
      }
    },
    {
      "cell_type": "code",
      "source": [
        "import asyncio\n",
        "import aiohttp\n",
        "\n",
        "# Faz a requisição e aguarda o conteúdo da resposta\n",
        "async def fetch(session, url):\n",
        "    async with session.get(url) as response:\n",
        "        return await response.text()\n",
        "\n",
        "# Cria a sessão de um cliente para recuperar os dados da requisição\n",
        "async def main_basic():\n",
        "    async with aiohttp.ClientSession() as session:\n",
        "        html = await fetch(session, 'https://www.google.com')\n",
        "        print(html)\n",
        "\n",
        "# Função auxiliar para encapsular uma chamada assíncrona dentro do Google Colabs\n",
        "async def call_teste_async():\n",
        "  await main_basic()\n",
        "\n",
        "# Faz a chamada sob demanda\n",
        "await call_teste_async()"
      ],
      "metadata": {
        "colab": {
          "base_uri": "https://localhost:8080/"
        },
        "id": "sZtpKmrYVCoc",
        "outputId": "76f9750d-5174-4240-c4d1-52ee82c8d830"
      },
      "execution_count": 47,
      "outputs": [
        {
          "output_type": "stream",
          "name": "stdout",
          "text": [
            "<!doctype html><html itemscope=\"\" itemtype=\"http://schema.org/WebPage\" lang=\"en\"><head><meta content=\"Search the world's information, including webpages, images, videos and more. Google has many special features to help you find exactly what you're looking for.\" name=\"description\"><meta content=\"noodp, \" name=\"robots\"><meta content=\"text/html; charset=UTF-8\" http-equiv=\"Content-Type\"><meta content=\"/images/branding/googleg/1x/googleg_standard_color_128dp.png\" itemprop=\"image\"><title>Google</title><script nonce=\"4zIdoQSmU7cZK16fa-Po6w\">(function(){var _g={kEI:'bzaFZ_OgD8-SwbkPmtCDkQI',kEXPI:'0,3700257,1127,538661,2872,2891,8349,34679,30022,360901,45786,9779,99404,3801,2412,58603,27535,11813,1633,29278,15664,11419,5213672,766,5992089,2842796,27977918,25224045,4636,16436,106667,885,14280,8182,5933,8939,13974,20583,13629,5382,2659,3435,3319,23879,9139,4599,328,6225,10418,12989,6,10211,686,16265,3069,6973,3548,1341,5328,8379,50,8161,873,1,2,2410,4134,7265,10550,3491,33,4669,4372,1175,16492,10666,9763,1,1229,2,5130,4933,3273,5354,41,11882,1757,1,1518,2844,560,1360,459,726,3,3376,302,3145,1008,898,2,1,6,2375,665,3010,3528,3665,1536,2214,3,2745,950,629,1518,3428,1182,7,3765,417,1591,4311,1461,910,1263,2,738,7967,1228,2030,1169,1508,1964,410,1,3,1589,1058,417,125,1203,3,2,812,1819,1431,1,2,187,353,1,4413,312,319,1,635,332,2472,1684,366,2094,801,38,2,131,288,887,382,575,94,154,2,2,4,430,18,7,1,885,419,163,76,357,96,128,262,650,394,15,698,206,34,10,390,2,209,297,297,324,114,267,1,893,55,261,264,36,47,419,1,827,1,90,166,390,277,527,1368,2,258,88,108,530,278,446,5,75,846,681,884,24,650,34,23,66,334,8,216,11,492,742,3,554,88,371,117,56,95,362,285,396,1,9,22,356,2,241,43,1,6,345,244,2,7,251,179,74,142,465,2,7,1,128,60,183,460,455,833,171,86,660,19,1639,525,1,1214,1005,104,2318,1028,168,3,410,646,49,11,6,2,894,1,5,4,4,4,801,24,64,648,2,3,1205,7,123,22,15,1,1,68,11,1013,21383833,3209,18,2010,48,708,1774,8,778,2492,56,547,12,1922,8022190',kBL:'HeIo',kOPI:89978449};(function(){var a;((a=window.google)==null?0:a.stvsc)?google.kEI=_g.kEI:window.google=_g;}).call(this);})();(function(){google.sn='webhp';google.kHL='en';})();(function(){\n",
            "var g=this||self;function k(){return window.google&&window.google.kOPI||null};var l,m=[];function n(a){for(var b;a&&(!a.getAttribute||!(b=a.getAttribute(\"eid\")));)a=a.parentNode;return b||l}function p(a){for(var b=null;a&&(!a.getAttribute||!(b=a.getAttribute(\"leid\")));)a=a.parentNode;return b}function q(a){/^http:/i.test(a)&&window.location.protocol===\"https:\"&&(google.ml&&google.ml(Error(\"a\"),!1,{src:a,glmm:1}),a=\"\");return a}\n",
            "function r(a,b,d,c,h){var e=\"\";b.search(\"&ei=\")===-1&&(e=\"&ei=\"+n(c),b.search(\"&lei=\")===-1&&(c=p(c))&&(e+=\"&lei=\"+c));var f=b.search(\"&cshid=\")===-1&&a!==\"slh\";c=\"&zx=\"+Date.now().toString();g._cshid&&f&&(c+=\"&cshid=\"+g._cshid);(d=d())&&(c+=\"&opi=\"+d);return\"/\"+(h||\"gen_204\")+\"?atyp=i&ct=\"+String(a)+\"&cad=\"+(b+e+c)};l=google.kEI;google.getEI=n;google.getLEI=p;google.ml=function(){return null};google.log=function(a,b,d,c,h,e){e=e===void 0?k:e;d||(d=r(a,b,e,c,h));if(d=q(d)){a=new Image;var f=m.length;m[f]=a;a.onerror=a.onload=a.onabort=function(){delete m[f]};a.src=d}};google.logUrl=function(a,b){b=b===void 0?k:b;return r(\"\",a,b)};}).call(this);(function(){google.y={};google.sy=[];var d;(d=google).x||(d.x=function(a,b){if(a)var c=a.id;else{do c=Math.random();while(google.y[c])}google.y[c]=[a,b];return!1});var e;(e=google).sx||(e.sx=function(a){google.sy.push(a)});google.lm=[];var f;(f=google).plm||(f.plm=function(a){google.lm.push.apply(google.lm,a)});google.lq=[];var g;(g=google).load||(g.load=function(a,b,c){google.lq.push([[a],b,c])});var h;(h=google).loadAll||(h.loadAll=function(a,b){google.lq.push([a,b])});google.bx=!1;var k;(k=google).lx||(k.lx=function(){});var l=[],m;(m=google).fce||(m.fce=function(a,b,c,n){l.push([a,b,c,n])});google.qce=l;}).call(this);google.f={};(function(){\n",
            "document.documentElement.addEventListener(\"submit\",function(b){var a;if(a=b.target){var c=a.getAttribute(\"data-submitfalse\");a=c===\"1\"||c===\"q\"&&!a.elements.q.value?!0:!1}else a=!1;a&&(b.preventDefault(),b.stopPropagation())},!0);document.documentElement.addEventListener(\"click\",function(b){var a;a:{for(a=b.target;a&&a!==document.documentElement;a=a.parentElement)if(a.tagName===\"A\"){a=a.getAttribute(\"data-nohref\")===\"1\";break a}a=!1}a&&b.preventDefault()},!0);}).call(this);</script><style>#gbar,#guser{font-size:13px;padding-top:1px !important;}#gbar{height:22px}#guser{padding-bottom:7px !important;text-align:right}.gbh,.gbd{border-top:1px solid #c9d7f1;font-size:1px}.gbh{height:0;position:absolute;top:24px;width:100%}@media all{.gb1{height:22px;margin-right:.5em;vertical-align:top}#gbar{float:left}}a.gb1,a.gb4{text-decoration:underline !important}a.gb1,a.gb4{color:#00c !important}.gbi .gb4{color:#dd8e27 !important}.gbf .gb4{color:#900 !important}\n",
            "</style><style>body,td,a,p,.h{font-family:arial,sans-serif}body{margin:0;overflow-y:scroll}#gog{padding:3px 8px 0}td{line-height:.8em}.gac_m td{line-height:17px}form{margin-bottom:20px}.h{color:#1967d2}em{font-weight:bold;font-style:normal}.lst{height:25px;width:496px}.gsfi,.lst{font:18px arial,sans-serif}.gsfs{font:17px arial,sans-serif}.ds{display:inline-box;display:inline-block;margin:3px 0 4px;margin-left:4px}input{font-family:inherit}body{background:#fff;color:#000}a{color:#681da8;text-decoration:none}a:hover,a:active{text-decoration:underline}.fl a{color:#1967d2}a:visited{color:#681da8}.sblc{padding-top:5px}.sblc a{display:block;margin:2px 0;margin-left:13px;font-size:11px}.lsbb{background:#f8f9fa;border:solid 1px;border-color:#dadce0 #70757a #70757a #dadce0;height:30px}.lsbb{display:block}#WqQANb a{display:inline-block;margin:0 12px}.lsb{background:url(/images/nav_logo229.png) 0 -261px repeat-x;color:#000;border:none;cursor:pointer;height:30px;margin:0;outline:0;font:15px arial,sans-serif;vertical-align:top}.lsb:active{background:#dadce0}.lst:focus{outline:none}</style><script nonce=\"4zIdoQSmU7cZK16fa-Po6w\">(function(){window.google.erd={jsr:1,bv:2149,de:true,dpf:'hz51UsEEzuGqsIb6vh-681mu871lHRz7JGeCv9uBomU'};\n",
            "var g=this||self;var k,l=(k=g.mei)!=null?k:1,m,p=(m=g.diel)!=null?m:0,q,r=(q=g.sdo)!=null?q:!0,t=0,u,w=google.erd,x=w.jsr;google.ml=function(a,b,d,n,e){e=e===void 0?2:e;b&&(u=a&&a.message);d===void 0&&(d={});d.cad=\"ple_\"+google.ple+\".aple_\"+google.aple;if(google.dl)return google.dl(a,e,d,!0),null;b=d;if(x<0){window.console&&console.error(a,b);if(x===-2)throw a;b=!1}else b=!a||!a.message||a.message===\"Error loading script\"||t>=l&&!n?!1:!0;if(!b)return null;t++;d=d||{};b=encodeURIComponent;var c=\"/gen_204?atyp=i&ei=\"+b(google.kEI);google.kEXPI&&(c+=\"&jexpid=\"+b(google.kEXPI));c+=\"&srcpg=\"+b(google.sn)+\"&jsr=\"+b(w.jsr)+\n",
            "\"&bver=\"+b(w.bv);w.dpf&&(c+=\"&dpf=\"+b(w.dpf));var f=a.lineNumber;f!==void 0&&(c+=\"&line=\"+f);var h=a.fileName;h&&(h.indexOf(\"-extension:/\")>0&&(e=3),c+=\"&script=\"+b(h),f&&h===window.location.href&&(f=document.documentElement.outerHTML.split(\"\\n\")[f],c+=\"&cad=\"+b(f?f.substring(0,300):\"No script found.\")));google.ple&&google.ple===1&&(e=2);c+=\"&jsel=\"+e;for(var v in d)c+=\"&\",c+=b(v),c+=\"=\",c+=b(d[v]);c=c+\"&emsg=\"+b(a.name+\": \"+a.message);c=c+\"&jsst=\"+b(a.stack||\"N/A\");c.length>=12288&&(c=c.substr(0,12288));a=c;n||google.log(0,\"\",a);return a};window.onerror=function(a,b,d,n,e){u!==a&&(a=e instanceof Error?e:Error(a),d===void 0||\"lineNumber\"in a||(a.lineNumber=d),b===void 0||\"fileName\"in a||(a.fileName=b),google.ml(a,!1,void 0,!1,a.name===\"SyntaxError\"||a.message.substring(0,11)===\"SyntaxError\"||a.message.indexOf(\"Script error\")!==-1?3:p));u=null;r&&t>=l&&(window.onerror=null)};})();</script></head><body bgcolor=\"#fff\"><script nonce=\"4zIdoQSmU7cZK16fa-Po6w\">(function(){var src='/images/nav_logo229.png';var iesg=false;document.body.onload = function(){window.n && window.n();if (document.images){new Image().src=src;}\n",
            "if (!iesg){document.f&&document.f.q.focus();document.gbqf&&document.gbqf.q.focus();}\n",
            "}\n",
            "})();</script><div id=\"mngb\"><div id=gbar><nobr><b class=gb1>Search</b> <a class=gb1 href=\"https://www.google.com/imghp?hl=en&tab=wi\">Images</a> <a class=gb1 href=\"https://maps.google.com/maps?hl=en&tab=wl\">Maps</a> <a class=gb1 href=\"https://play.google.com/?hl=en&tab=w8\">Play</a> <a class=gb1 href=\"https://www.youtube.com/?tab=w1\">YouTube</a> <a class=gb1 href=\"https://news.google.com/?tab=wn\">News</a> <a class=gb1 href=\"https://mail.google.com/mail/?tab=wm\">Gmail</a> <a class=gb1 href=\"https://drive.google.com/?tab=wo\">Drive</a> <a class=gb1 style=\"text-decoration:none\" href=\"https://www.google.com/intl/en/about/products?tab=wh\"><u>More</u> &raquo;</a></nobr></div><div id=guser width=100%><nobr><span id=gbn class=gbi></span><span id=gbf class=gbf></span><span id=gbe></span><a href=\"http://www.google.com/history/optout?hl=en\" class=gb4>Web History</a> | <a  href=\"/preferences?hl=en\" class=gb4>Settings</a> | <a target=_top id=gb_70 href=\"https://accounts.google.com/ServiceLogin?hl=en&passive=true&continue=https://www.google.com/&ec=GAZAAQ\" class=gb4>Sign in</a></nobr></div><div class=gbh style=left:0></div><div class=gbh style=right:0></div></div><center><br clear=\"all\" id=\"lgpd\"><div id=\"XjhHGf\"><img alt=\"Google\" height=\"92\" src=\"/images/branding/googlelogo/1x/googlelogo_white_background_color_272x92dp.png\" style=\"padding:28px 0 14px\" width=\"272\" id=\"hplogo\"><br><br></div><form action=\"/search\" name=\"f\"><table cellpadding=\"0\" cellspacing=\"0\"><tr valign=\"top\"><td width=\"25%\">&nbsp;</td><td align=\"center\" nowrap=\"\"><input name=\"ie\" value=\"ISO-8859-1\" type=\"hidden\"><input value=\"en\" name=\"hl\" type=\"hidden\"><input name=\"source\" type=\"hidden\" value=\"hp\"><input name=\"biw\" type=\"hidden\"><input name=\"bih\" type=\"hidden\"><div class=\"ds\" style=\"height:32px;margin:4px 0\"><input class=\"lst\" style=\"margin:0;padding:5px 8px 0 6px;vertical-align:top;color:#000\" autocomplete=\"off\" value=\"\" title=\"Google Search\" maxlength=\"2048\" name=\"q\" size=\"57\"></div><br style=\"line-height:0\"><span class=\"ds\"><span class=\"lsbb\"><input class=\"lsb\" value=\"Google Search\" name=\"btnG\" type=\"submit\"></span></span><span class=\"ds\"><span class=\"lsbb\"><input class=\"lsb\" id=\"tsuid_bzaFZ_OgD8-SwbkPmtCDkQI_1\" value=\"I'm Feeling Lucky\" name=\"btnI\" type=\"submit\"><script nonce=\"4zIdoQSmU7cZK16fa-Po6w\">(function(){var id='tsuid_bzaFZ_OgD8-SwbkPmtCDkQI_1';document.getElementById(id).onclick = function(){if (this.form.q.value){this.checked = 1;if (this.form.iflsig)this.form.iflsig.disabled = false;}\n",
            "else top.location='/doodles/';};})();</script><input value=\"AL9hbdgAAAAAZ4VEf4qurHhDzEFlM5nbTuRbrvuDtEjO\" name=\"iflsig\" type=\"hidden\"></span></span></td><td class=\"fl sblc\" align=\"left\" nowrap=\"\" width=\"25%\"><a href=\"/advanced_search?hl=en&amp;authuser=0\">Advanced search</a></td></tr></table><input id=\"gbv\" name=\"gbv\" type=\"hidden\" value=\"1\"><script nonce=\"4zIdoQSmU7cZK16fa-Po6w\">(function(){var a,b=\"1\";if(document&&document.getElementById)if(typeof XMLHttpRequest!=\"undefined\")b=\"2\";else if(typeof ActiveXObject!=\"undefined\"){var c,d,e=[\"MSXML2.XMLHTTP.6.0\",\"MSXML2.XMLHTTP.3.0\",\"MSXML2.XMLHTTP\",\"Microsoft.XMLHTTP\"];for(c=0;d=e[c++];)try{new ActiveXObject(d),b=\"2\"}catch(h){}}a=b;if(a==\"2\"&&location.search.indexOf(\"&gbv=2\")==-1){var f=google.gbvu,g=document.getElementById(\"gbv\");g&&(g.value=a);f&&window.setTimeout(function(){location.href=f},0)};}).call(this);</script></form><div style=\"font-size:83%;min-height:3.5em\"><br></div><span id=\"footer\"><div style=\"font-size:10pt\"><div style=\"margin:19px auto;text-align:center\" id=\"WqQANb\"><a href=\"/intl/en/ads/\">Advertising</a><a href=\"/services/\">Business Solutions</a><a href=\"/intl/en/about.html\">About Google</a></div></div><p style=\"font-size:8pt;color:#70757a\">&copy; 2025 - <a href=\"/intl/en/policies/privacy/\">Privacy</a> - <a href=\"/intl/en/policies/terms/\">Terms</a></p></span></center><script nonce=\"4zIdoQSmU7cZK16fa-Po6w\">(function(){window.google.cdo={height:757,width:1440};(function(){var a=window.innerWidth,b=window.innerHeight;if(!a||!b){var c=window.document,d=c.compatMode==\"CSS1Compat\"?c.documentElement:c.body;a=d.clientWidth;b=d.clientHeight}if(a&&b&&(a!=google.cdo.width||b!=google.cdo.height)){var e=google,f=e.log,g=\"/client_204?&atyp=i&biw=\"+a+\"&bih=\"+b+\"&ei=\"+google.kEI,h=\"\",k=window.google&&window.google.kOPI||null;k&&(h+=\"&opi=\"+k);f.call(e,\"\",\"\",g+h)};}).call(this);})();</script>  <script nonce=\"4zIdoQSmU7cZK16fa-Po6w\">(function(){google.xjs={basecomb:'/xjs/_/js/k\\x3dxjs.hp.en.iymLdCF6qNI.es5.O/ck\\x3dxjs.hp.KhrWy2Ihlvk.L.X.O/am\\x3dBAAAAAAAQAAAAAAAAAAAAAAAAAAAAAAAAAAAAAAAAAAAAEEAAAAAAAAAAMABANYAAAACAAgQAAAAAAAAAAAAAAASAIACgDgDAAAgviMAEACLAADwAg/d\\x3d1/ed\\x3d1/dg\\x3d0/ujg\\x3d1/rs\\x3dACT90oHTO95BPwi31dMpxVu3HrjUYQrf4Q',basecss:'/xjs/_/ss/k\\x3dxjs.hp.KhrWy2Ihlvk.L.X.O/am\\x3dBAAAAAAAQAAAAAAAAAAAAAAAAAAAAAAAAAAAAAAAAAAAAEAAAAAAAAAAAAAAABYAAAACAAgQAAAAAAAAAAAAAAASAIACgDgD/rs\\x3dACT90oEwSYuyuCJ6Zw1zCwYa_XKjuN9XWA',basejs:'/xjs/_/js/k\\x3dxjs.hp.en.iymLdCF6qNI.es5.O/am\\x3dAAAAAAAAAAAAAAAAAAAAAAAAAAAAAAAAAAAAAAAAAAAAAAEAAAAAAAAAAMABAMAAAAAAAAAAAAAAAAAAAAAAAAAAAAAAAAAAAAAgviMAEACLAADwAg/dg\\x3d0/rs\\x3dACT90oGNo5FG-hM2daze96mcJcvRbbz-JA',excm:[]};})();</script>       <script nonce=\"4zIdoQSmU7cZK16fa-Po6w\">(function(){var u='/xjs/_/js/k\\x3dxjs.hp.en.iymLdCF6qNI.es5.O/am\\x3dAAAAAAAAAAAAAAAAAAAAAAAAAAAAAAAAAAAAAAAAAAAAAAEAAAAAAAAAAMABAMAAAAAAAAAAAAAAAAAAAAAAAAAAAAAAAAAAAAAgviMAEACLAADwAg/d\\x3d1/ed\\x3d1/dg\\x3d3/rs\\x3dACT90oGNo5FG-hM2daze96mcJcvRbbz-JA/m\\x3dsb_he,d';var st=1;var amd=1000;var mmd=0;var pod=true;\n",
            "var e=this||self;function f(){var a,b,d;if(b=a=(b=window.google)==null?void 0:(d=b.ia)==null?void 0:d.r.B2Jtyd)b=a.m,b=b===1||b===5;return b&&a.cbfd!=null&&a.cbvi!=null?a:void 0};function g(){var a=[u];if(!google.dp){for(var b=0;b<a.length;b++){var d=a[b],c=document.createElement(\"link\");c.as=\"script\";c.href=d;c.rel=\"preload\";document.body.appendChild(c)}google.dp=!0}};google.ps===void 0&&(google.ps=[]);function h(){var a=u,b=function(){};google.lx=google.stvsc?b:function(){k(a);google.lx=b};google.bx||google.lx()}function l(a,b){b&&(a.src=b);var d=a.onload;a.onload=function(c){d&&d(c);google.ps=google.ps.filter(function(C){return a!==C})};google.ps.push(a);document.body.appendChild(a)}google.as=l;function k(a){google.timers&&google.timers.load&&google.tick&&google.tick(\"load\",\"xjsls\");var b=document.createElement(\"script\");b.onerror=function(){google.ple=1};b.onload=function(){google.ple=0};google.xjsus=void 0;l(b,a);google.aple=-1;google.dp=!0};function m(a){var b=a.getAttribute(\"jscontroller\");return(b===\"UBXHI\"||b===\"R3fhkb\"||b===\"TSZEqd\")&&a.hasAttribute(\"data-src\")}function n(){for(var a=document.getElementsByTagName(\"img\"),b=0,d=a.length;b<d;b++){var c=a[b];if(c.hasAttribute(\"data-lzy_\")&&Number(c.getAttribute(\"data-atf\"))&1&&!m(c))return!0}return!1}for(var p=document.getElementsByTagName(\"img\"),q=0,r=p.length;q<r;++q){var t=p[q];Number(t.getAttribute(\"data-atf\"))&1&&m(t)&&(t.src=t.getAttribute(\"data-src\"))};var w,x,y,z,A,B;function D(){google.xjsu=u;e._F_jsUrl=u;A=function(){h()};w=!1;x=(st===1||st===3)&&!!google.caft&&!n();y=f();z=(st===2||st===3)&&!!y&&!n();B=pod}function E(){w||x||z||(A(),w=!0)}setTimeout(function(){google&&google.tick&&google.timers&&google.timers.load&&google.tick(\"load\",\"xjspls\");D();if(x||z){if(x){var a=function(){x=!1;E()};google.caft(a);window.setTimeout(a,amd)}z&&(a=function(){z=!1;E()},y.cbvi.push(a),window.setTimeout(a,mmd));B&&(w||g())}else A()},0);})();window._ = window._ || {};window._DumpException = _._DumpException = function(e){throw e;};window._s = window._s || {};_s._DumpException = _._DumpException;window._qs = window._qs || {};_qs._DumpException = _._DumpException;(function(){var t=[4,16777216,0,0,0,0,0,0,0,260,134217728,7471104,41997836,536889344,256,5,0,18432,864553000,134217728,268444606,142368,12032];window._F_toggles = window._xjs_toggles = t;})();window._F_installCss = window._F_installCss || function(css){};(function(){google.jl={bfl:0,dw:false,ine:false,ubm:false,uwp:true,vs:false};})();(function(){var pmc='{\\x22d\\x22:{},\\x22sb_he\\x22:{\\x22agen\\x22:false,\\x22cgen\\x22:false,\\x22client\\x22:\\x22heirloom-hp\\x22,\\x22dh\\x22:true,\\x22ds\\x22:\\x22\\x22,\\x22fl\\x22:true,\\x22host\\x22:\\x22google.com\\x22,\\x22jsonp\\x22:true,\\x22msgs\\x22:{\\x22cibl\\x22:\\x22Clear Search\\x22,\\x22dym\\x22:\\x22Did you mean:\\x22,\\x22lcky\\x22:\\x22I\\\\u0026#39;m Feeling Lucky\\x22,\\x22lml\\x22:\\x22Learn more\\x22,\\x22psrc\\x22:\\x22This search was removed from your \\\\u003Ca href\\x3d\\\\\\x22/history\\\\\\x22\\\\u003EWeb History\\\\u003C/a\\\\u003E\\x22,\\x22psrl\\x22:\\x22Remove\\x22,\\x22sbit\\x22:\\x22Search by image\\x22,\\x22srch\\x22:\\x22Google Search\\x22},\\x22ovr\\x22:{},\\x22pq\\x22:\\x22\\x22,\\x22rfs\\x22:[],\\x22stok\\x22:\\x225vzWvHHXMoM8x8CP1IjdqhvM_NU\\x22}}';google.pmc=JSON.parse(pmc);})();(function(){var b=function(a){var c=0;return function(){return c<a.length?{done:!1,value:a[c++]}:{done:!0}}};\n",
            "var e=this||self;var g,h;a:{for(var k=[\"CLOSURE_FLAGS\"],l=e,n=0;n<k.length;n++)if(l=l[k[n]],l==null){h=null;break a}h=l}var p=h&&h[610401301];g=p!=null?p:!1;var q,r=e.navigator;q=r?r.userAgentData||null:null;function t(a){return g?q?q.brands.some(function(c){return(c=c.brand)&&c.indexOf(a)!=-1}):!1:!1}function u(a){var c;a:{if(c=e.navigator)if(c=c.userAgent)break a;c=\"\"}return c.indexOf(a)!=-1};function v(){return g?!!q&&q.brands.length>0:!1}function w(){return u(\"Safari\")&&!(x()||(v()?0:u(\"Coast\"))||(v()?0:u(\"Opera\"))||(v()?0:u(\"Edge\"))||(v()?t(\"Microsoft Edge\"):u(\"Edg/\"))||(v()?t(\"Opera\"):u(\"OPR\"))||u(\"Firefox\")||u(\"FxiOS\")||u(\"Silk\")||u(\"Android\"))}function x(){return v()?t(\"Chromium\"):(u(\"Chrome\")||u(\"CriOS\"))&&!(v()?0:u(\"Edge\"))||u(\"Silk\")}function y(){return u(\"Android\")&&!(x()||u(\"Firefox\")||u(\"FxiOS\")||(v()?0:u(\"Opera\"))||u(\"Silk\"))};var z=v()?!1:u(\"Trident\")||u(\"MSIE\");y();x();w();var A=!z&&!w(),D=function(a){if(/-[a-z]/.test(\"ved\"))return null;if(A&&a.dataset){if(y()&&!(\"ved\"in a.dataset))return null;a=a.dataset.ved;return a===void 0?null:a}return a.getAttribute(\"data-\"+\"ved\".replace(/([A-Z])/g,\"-$1\").toLowerCase())};var E=[],F=null;function G(a){a=a.target;var c=performance.now(),f=[],H=f.concat,d=E;if(!(d instanceof Array)){var m=typeof Symbol!=\"undefined\"&&Symbol.iterator&&d[Symbol.iterator];if(m)d=m.call(d);else if(typeof d.length==\"number\")d={next:b(d)};else throw Error(\"b`\"+String(d));for(var B=[];!(m=d.next()).done;)B.push(m.value);d=B}E=H.call(f,d,[c]);if(a&&a instanceof HTMLElement)if(a===F){if(c=E.length>=4)c=(E[E.length-1]-E[E.length-4])/1E3<5;if(c){c=google.getEI(a);a.hasAttribute(\"data-ved\")?f=a?D(a)||\"\":\"\":f=(f=\n",
            "a.closest(\"[data-ved]\"))?D(f)||\"\":\"\";f=f||\"\";if(a.hasAttribute(\"jsname\"))a=a.getAttribute(\"jsname\");else{var C;a=(C=a.closest(\"[jsname]\"))==null?void 0:C.getAttribute(\"jsname\")}google.log(\"rcm\",\"&ei=\"+c+\"&tgtved=\"+f+\"&jsname=\"+(a||\"\"))}}else F=a,E=[c]}window.document.addEventListener(\"DOMContentLoaded\",function(){document.body.addEventListener(\"click\",G)});}).call(this);</script></body></html>\n"
          ]
        }
      ]
    },
    {
      "cell_type": "code",
      "source": [
        "import asyncio\n",
        "import aiohttp\n",
        "import datetime\n",
        "\n",
        "# Função integrada (chamada da sessão e requisção integradas)\n",
        "async def teste_async():\n",
        "  async with aiohttp.ClientSession() as session:\n",
        "    async with session.get('http://python.org') as response:\n",
        "      print(\"Status:\", response.status)\n",
        "      print(\"Content-type:\", response.headers['content-type'])\n",
        "      html = await response.text()\n",
        "\n",
        "async def call_teste_async():\n",
        "  await teste_async()\n",
        "\n",
        "await call_teste_async()"
      ],
      "metadata": {
        "id": "8tHXEIFdiFWH",
        "colab": {
          "base_uri": "https://localhost:8080/"
        },
        "outputId": "a0d0b1fb-9c52-452f-b9f6-65658d79d5b5"
      },
      "execution_count": 48,
      "outputs": [
        {
          "output_type": "stream",
          "name": "stdout",
          "text": [
            "Status: 200\n",
            "Content-type: text/html; charset=utf-8\n"
          ]
        }
      ]
    },
    {
      "cell_type": "markdown",
      "source": [
        "## Função que faz o download de forma assícrona"
      ],
      "metadata": {
        "id": "AIlQkznJX2q9"
      }
    },
    {
      "cell_type": "code",
      "source": [
        "async def download_async(url, filename, path):\n",
        "  \"\"\"Downloads a file from the given URL and saves it with the specified filename.\"\"\"\n",
        "  async with aiohttp.ClientSession() as session:\n",
        "    async with session.get(url) as response:\n",
        "      total_size = int(response.headers['content-length'])  # Get total file size\n",
        "      print(f\"Total file size: {total_size} bytes\")\n",
        "      if response.status == 200:\n",
        "        path = os.path.join(path, filename)\n",
        "        with open(path, 'wb') as f:\n",
        "          # Read content in chunks using aiohttp.read()\n",
        "          while True:\n",
        "            chunk = await response.content.read(1024)  # Read in chunks of 1024 bytes\n",
        "            if not chunk:\n",
        "              break\n",
        "            f.write(chunk)\n",
        "        print(f\"Downloaded {filename}\")\n",
        "      else:\n",
        "        print(f\"Failed to download {filename}\")\n",
        "\n",
        "# Faz o download de uma lista de arquivos (my_urls)\n",
        "async def download_files_asynchronous(my_urls, my_filenames, path):\n",
        "  \"\"\"Downloads all files asynchronously.\"\"\"\n",
        "  tasks = [] # Lista de tarefas para guardar cada cada requisição em uma sessão\n",
        "  for url, filename in zip(my_urls, my_filenames):\n",
        "    tasks.append(asyncio.create_task(download_async(url, filename, path)))\n",
        "\n",
        "  # Run all tasks concurrently using asyncio.run\n",
        "  await asyncio.gather(*tasks)"
      ],
      "metadata": {
        "id": "zOFmeIFarhHB"
      },
      "execution_count": 50,
      "outputs": []
    },
    {
      "cell_type": "code",
      "source": [
        "now1 = datetime.datetime.now()\n",
        "print(now1)\n",
        "\n",
        "async def main():\n",
        "  await download_files_asynchronous(my_urls, my_filenames, 'assincrono')\n",
        "\n",
        "# Call main as an async function and await it\n",
        "await main()\n",
        "\n",
        "now2 = datetime.datetime.now()\n",
        "print(now2)\n",
        "\n",
        "time_diff = now2 - now1\n",
        "print(time_diff)"
      ],
      "metadata": {
        "colab": {
          "base_uri": "https://localhost:8080/"
        },
        "id": "w--rRhSwqohB",
        "outputId": "92d91bfc-15ad-4f8b-960c-9d86d4a30b49"
      },
      "execution_count": 51,
      "outputs": [
        {
          "output_type": "stream",
          "name": "stdout",
          "text": [
            "2025-01-13 15:57:29.425827\n",
            "Total file size: 69856 bytes\n",
            "Total file size: 265136 bytes\n"
          ]
        },
        {
          "output_type": "stream",
          "name": "stderr",
          "text": [
            "/usr/local/lib/python3.10/dist-packages/pycares/__init__.py:819: RuntimeWarning: coroutine 'main' was never awaited\n",
            "  if _ffi.NULL != _lib.ares_inet_ntop(s.sin6_family, _ffi.addressof(s.sin6_addr), ip, _lib.INET6_ADDRSTRLEN):\n",
            "RuntimeWarning: Enable tracemalloc to get the object allocation traceback\n"
          ]
        },
        {
          "output_type": "stream",
          "name": "stdout",
          "text": [
            "Downloaded demo.zip\n",
            "Downloaded screen_matrix.jpeg\n",
            "Total file size: 14944332 bytes\n",
            "Total file size: 10174706 bytes\n",
            "Total file size: 8414449 bytes\n",
            "Downloaded Pizigani_1367_Chart_10MB.jpg\n",
            "Downloaded Adrienne.mp4\n",
            "Downloaded Kalimba.mp3\n",
            "2025-01-13 15:57:29.974725\n",
            "0:00:00.548898\n"
          ]
        }
      ]
    },
    {
      "cell_type": "markdown",
      "source": [
        "# Downloads usando Threads\n",
        "\n",
        "https://docs.python.org/3/library/threading.html\n",
        "\n",
        "https://en.wikipedia.org/wiki/Thread_(computing)"
      ],
      "metadata": {
        "id": "nBKoTsqU-EVj"
      }
    },
    {
      "cell_type": "markdown",
      "source": [
        "## Threads: Os Fios da Execução\n",
        "\n",
        "**O que é uma Thread?**\n",
        "\n",
        "Em termos simples, uma **thread** é como um fio dentro de um programa de computador. Esse fio representa uma sequência de instruções que podem ser executadas de forma independente, mas que compartilham os mesmos recursos de um processo. Imagine um programa como uma fábrica: as threads são como as linhas de montagem, cada uma realizando uma tarefa específica, mas todas trabalhando dentro da mesma fábrica (o processo).\n",
        "\n",
        "**Para que servem as Threads?**\n",
        "\n",
        "* **Concorrência:** Permitem que um programa execute várias tarefas de forma simultânea ou quase simultânea, melhorando o desempenho.\n",
        "* **Responsividade:** Evitam que a interface de um programa \"congele\" enquanto uma tarefa demorada é realizada, permitindo que o usuário continue interagindo com o programa.\n",
        "* **Aproveitamento de múltiplos núcleos:** Em processadores com múltiplos núcleos, as threads podem ser distribuídas por esses núcleos, aumentando a eficiência.\n",
        "\n",
        "**Como as Threads funcionam?**\n",
        "\n",
        "* **Compartilhamento de recursos:** Todas as threads de um mesmo processo compartilham a mesma memória, as mesmas variáveis e os mesmos arquivos.\n",
        "* **Execução independente:** Cada thread possui seu próprio contador de programa, pilha e registros, o que permite que elas executem instruções diferentes e em ordem diferente.\n",
        "* **Gerenciamento pelo sistema operacional:** O sistema operacional alterna a execução entre as threads, dando a cada uma um pequeno período de tempo para executar suas instruções.\n",
        "\n",
        "**Exemplo:**\n",
        "\n",
        "Imagine um navegador web. Cada aba aberta pode ser considerada uma thread. Enquanto você navega em uma aba, outras abas podem estar carregando conteúdo em segundo plano. Isso é possível porque cada aba é uma thread independente, que pode ser executada simultaneamente.\n",
        "\n",
        "**Em resumo:**\n",
        "\n",
        "As threads são uma ferramenta fundamental na programação moderna, permitindo que os programas sejam mais responsivos, eficientes e capazes de realizar múltiplas tarefas simultaneamente. Ao entender o conceito de threads, você pode escrever programas mais complexos e otimizados."
      ],
      "metadata": {
        "id": "2tv4RqjrZgbu"
      }
    },
    {
      "cell_type": "code",
      "source": [
        "import threading\n",
        "import requests\n",
        "\n",
        "def download_files_via_threads(urls, filenames, path):\n",
        "  \"\"\"Downloads multiple files asynchronously using threads.\"\"\"\n",
        "  threads = []\n",
        "  for url, filename in zip(urls, filenames):\n",
        "    thread = threading.Thread(target=download_one_file(url, filename, path), args=(url, filename, path))\n",
        "    threads.append(thread)\n",
        "    thread.start()\n",
        "\n",
        "  # Wait for all threads to finish (blocking)\n",
        "  for thread in threads:\n",
        "    thread.join()"
      ],
      "metadata": {
        "id": "cyvp6trY-HX6"
      },
      "execution_count": 52,
      "outputs": []
    },
    {
      "cell_type": "code",
      "source": [
        "now1 = datetime.datetime.now()\n",
        "print(now1)\n",
        "\n",
        "download_files_via_threads(my_urls, my_filenames, 'threads')\n",
        "\n",
        "now2 = datetime.datetime.now()\n",
        "print(now2)\n",
        "\n",
        "time_diff = now2 - now1\n",
        "print(time_diff)"
      ],
      "metadata": {
        "colab": {
          "base_uri": "https://localhost:8080/"
        },
        "id": "sJseJY3z_Kem",
        "outputId": "206aff4a-7444-4c38-ad37-478a40ad1f43"
      },
      "execution_count": 53,
      "outputs": [
        {
          "output_type": "stream",
          "name": "stdout",
          "text": [
            "2025-01-13 16:02:11.353324\n",
            "Total file size: 14944332 bytes\n",
            "Downloaded Adrienne.mp4\n",
            "Total file size: 10174706 bytes\n",
            "Downloaded Pizigani_1367_Chart_10MB.jpg\n",
            "Total file size: 8414449 bytes\n",
            "Downloaded Kalimba.mp3\n",
            "Total file size: 265136 bytes\n",
            "Downloaded screen_matrix.jpeg\n",
            "Total file size: 69856 bytes\n",
            "Downloaded demo.zip\n",
            "2025-01-13 16:02:12.200063\n",
            "0:00:00.846739\n"
          ]
        }
      ]
    },
    {
      "cell_type": "markdown",
      "source": [
        "# Conceitos chaves"
      ],
      "metadata": {
        "id": "WPga3YU_7TC8"
      }
    },
    {
      "cell_type": "markdown",
      "source": [
        "## Chamadas síncronas"
      ],
      "metadata": {
        "id": "iO1ZVK294c1w"
      }
    },
    {
      "cell_type": "code",
      "source": [
        "import datetime\n",
        "import time\n",
        "\n",
        "\n",
        "def task1_sync():\n",
        "    \"\"\"Simulates a long-running task that takes 2 seconds.\"\"\"\n",
        "    print(\"Task 1 started\")\n",
        "    print(datetime.datetime.now())\n",
        "    time.sleep(2)  # Simulate work for 2 seconds\n",
        "    print(\"Task 1 finished\")\n",
        "    print(datetime.datetime.now())\n",
        "\n",
        "\n",
        "def task2_sync():\n",
        "    \"\"\"Simulates a shorter task that takes 1 second.\"\"\"\n",
        "    print(\"Task 2 started\")\n",
        "    print(datetime.datetime.now())\n",
        "    time.sleep(1)  # Simulate work for 1 second\n",
        "    print(\"Task 2 finished\")\n",
        "    print(datetime.datetime.now())\n",
        "\n",
        "\n",
        "def task3_sync(duration=3):\n",
        "    \"\"\"Simulates a task that takes a specified duration (in seconds).\"\"\"\n",
        "    print(f\"Task 3 started (duration: {duration} seconds)\")\n",
        "    print(datetime.datetime.now())\n",
        "    time.sleep(duration)  # Simulate work for the specified duration\n",
        "    print(\"Task 3 finished\")\n",
        "    print(datetime.datetime.now())\n",
        "\n",
        "\n",
        "def run_tasks_sync():\n",
        "    \"\"\"Runs three tasks sequentially using synchronous calls.\"\"\"\n",
        "    task1_sync()\n",
        "    task2_sync()\n",
        "    task3_sync()  # Call the new task3_sync function\n",
        "\n",
        "    print(\"All tasks finished\")"
      ],
      "metadata": {
        "id": "yxnr6D936UJf"
      },
      "execution_count": 55,
      "outputs": []
    },
    {
      "cell_type": "code",
      "source": [
        "print(\"#\"*50)\n",
        "print(\"Chamada síncrona\")\n",
        "now1 = datetime.datetime.now()\n",
        "print(now1)\n",
        "print(\"-\"*50)\n",
        "\n",
        "run_tasks_sync()\n",
        "\n",
        "now2 = datetime.datetime.now()\n",
        "print(now2)\n",
        "print(\"-\"*50)\n",
        "print(f\"Tempo total: {now2-now1}\")"
      ],
      "metadata": {
        "colab": {
          "base_uri": "https://localhost:8080/"
        },
        "id": "L3f766mE6oej",
        "outputId": "2df6ec1e-1700-44ae-b423-637d71deb6d4"
      },
      "execution_count": 56,
      "outputs": [
        {
          "output_type": "stream",
          "name": "stdout",
          "text": [
            "##################################################\n",
            "Chamada síncrona\n",
            "2025-01-13 16:04:45.469641\n",
            "--------------------------------------------------\n",
            "Task 1 started\n",
            "2025-01-13 16:04:45.471416\n",
            "Task 1 finished\n",
            "2025-01-13 16:04:47.474088\n",
            "Task 2 started\n",
            "2025-01-13 16:04:47.474160\n",
            "Task 2 finished\n",
            "2025-01-13 16:04:48.475422\n",
            "Task 3 started (duration: 3 seconds)\n",
            "2025-01-13 16:04:48.475503\n",
            "Task 3 finished\n",
            "2025-01-13 16:04:51.478761\n",
            "All tasks finished\n",
            "2025-01-13 16:04:51.479011\n",
            "--------------------------------------------------\n",
            "Tempo total: 0:00:06.009370\n"
          ]
        }
      ]
    },
    {
      "cell_type": "markdown",
      "source": [
        "## Chamadas assíncronas"
      ],
      "metadata": {
        "id": "y032Pd2w7Nfv"
      }
    },
    {
      "cell_type": "code",
      "source": [
        "import asyncio\n",
        "import datetime\n",
        "\n",
        "async def task1_async():\n",
        "    \"\"\"Simulates a long-running task that takes 2 seconds.\"\"\"\n",
        "    print(\"Task 1 started\")\n",
        "    print(datetime.datetime.now())\n",
        "    await asyncio.sleep(2)  # Simulate work for 2 seconds\n",
        "    print(\"Task 1 finished\")\n",
        "    print(datetime.datetime.now())\n",
        "\n",
        "async def task2_async():\n",
        "    \"\"\"Simulates a shorter task that takes 1 second.\"\"\"\n",
        "    print(\"Task 2 started\")\n",
        "    print(datetime.datetime.now())\n",
        "    await asyncio.sleep(1)  # Simulate work for 1 second\n",
        "    print(\"Task 2 finished\")\n",
        "    print(datetime.datetime.now())\n",
        "\n",
        "async def task3_async(duration=3):\n",
        "    \"\"\"Simulates a task that takes a specified duration (in seconds).\"\"\"\n",
        "    print(f\"Task 3 started (duration: {duration} seconds)\")\n",
        "    print(datetime.datetime.now())\n",
        "    await asyncio.sleep(duration)  # Simulate work for the specified duration\n",
        "    print(\"Task 3 finished\")\n",
        "    print(datetime.datetime.now())\n",
        "\n",
        "async def run_tasks_async():\n",
        "    \"\"\"Runs three tasks concurrently using asyncio.\"\"\"\n",
        "    task1_future = asyncio.create_task(task1_async())\n",
        "    task2_future = asyncio.create_task(task2_async())\n",
        "    task3_future = asyncio.create_task(task3_async())  # Add task3_async coroutine\n",
        "\n",
        "    # Wait for all tasks to complete concurrently (non-blocking)\n",
        "    await task1_future\n",
        "    await task2_future\n",
        "    await task3_future\n",
        "\n",
        "    print(\"All tasks finished\")"
      ],
      "metadata": {
        "id": "xRYO6p6f4eXo"
      },
      "execution_count": 60,
      "outputs": []
    },
    {
      "cell_type": "code",
      "source": [
        "async def call_run_tasks():\n",
        "  await run_tasks_async()\n",
        "\n",
        "print(\"#\"*50)\n",
        "print(\"Chamada assíncrona\")\n",
        "now1 = datetime.datetime.now()\n",
        "print(now1)\n",
        "print(\"-\"*50)\n",
        "\n",
        "await call_run_tasks()\n",
        "\n",
        "now2 = datetime.datetime.now()\n",
        "print(now2)\n",
        "print(\"-\"*50)\n",
        "print(f\"Tempo total: {now2-now1}\")"
      ],
      "metadata": {
        "colab": {
          "base_uri": "https://localhost:8080/"
        },
        "id": "VX3n1XgB47vU",
        "outputId": "37c6c644-472d-4ee9-971f-aea9e2de849a"
      },
      "execution_count": 58,
      "outputs": [
        {
          "output_type": "stream",
          "name": "stdout",
          "text": [
            "##################################################\n",
            "Chamada assíncrona\n",
            "2025-01-13 16:06:53.418277\n",
            "--------------------------------------------------\n",
            "Task 1 started\n",
            "2025-01-13 16:06:53.418960\n",
            "Task 2 started\n",
            "2025-01-13 16:06:53.421841\n",
            "Task 3 started (duration: 3 seconds)\n",
            "2025-01-13 16:06:53.421933\n",
            "Task 2 finished\n",
            "2025-01-13 16:06:54.423333\n",
            "Task 1 finished\n",
            "2025-01-13 16:06:55.423701\n",
            "Task 3 finished\n",
            "2025-01-13 16:06:56.423316\n",
            "All tasks finished\n",
            "2025-01-13 16:06:56.423602\n",
            "--------------------------------------------------\n",
            "Tempo total: 0:00:03.005325\n"
          ]
        }
      ]
    },
    {
      "cell_type": "markdown",
      "source": [
        "# Usando threads"
      ],
      "metadata": {
        "id": "GeGwO3nn76IU"
      }
    },
    {
      "cell_type": "code",
      "source": [
        "import threading\n",
        "import time\n",
        "\n",
        "def task1():\n",
        "    \"\"\"Simulates a long-running task (2 seconds) using threading.\"\"\"\n",
        "    print(\"Task 1 started (Thread)\")\n",
        "    print(datetime.datetime.now())\n",
        "    time.sleep(2)  # Simulate work for 2 seconds\n",
        "    print(\"Task 1 finished (Thread)\")\n",
        "    print(datetime.datetime.now())\n",
        "\n",
        "def task2():\n",
        "    \"\"\"Simulates a shorter task (1 second) using threading.\"\"\"\n",
        "    print(\"Task 2 started (Thread)\")\n",
        "    print(datetime.datetime.now())\n",
        "    time.sleep(1)  # Simulate work for 1 second\n",
        "    print(\"Task 2 finished (Thread)\")\n",
        "    print(datetime.datetime.now())\n",
        "\n",
        "def task3(duration=3):\n",
        "    \"\"\"Simulates a task with a specified duration (in seconds) using threading.\"\"\"\n",
        "    print(f\"Task 3 started (Thread, duration: {duration} seconds)\")\n",
        "    print(datetime.datetime.now())\n",
        "    time.sleep(duration)  # Simulate work for the specified duration\n",
        "    print(\"Task 3 finished (Thread)\")\n",
        "    print(datetime.datetime.now())\n",
        "\n",
        "def run_tasks_via_threads():\n",
        "    \"\"\"Runs three tasks concurrently using threads.\"\"\"\n",
        "    thread1 = threading.Thread(target=task1)\n",
        "    thread2 = threading.Thread(target=task2)\n",
        "    thread3 = threading.Thread(target=task3)  # Create a thread for task3\n",
        "\n",
        "    # Start threads\n",
        "    thread1.start()\n",
        "    thread2.start()\n",
        "    thread3.start()\n",
        "\n",
        "    # Wait for all threads to finish\n",
        "    thread1.join()\n",
        "    thread2.join()\n",
        "    thread3.join()\n",
        "\n",
        "    print(\"All tasks finished (Threads)\")"
      ],
      "metadata": {
        "id": "wAEJ0xay4umq"
      },
      "execution_count": 61,
      "outputs": []
    },
    {
      "cell_type": "code",
      "source": [
        "print(\"#\"*50)\n",
        "print(\"Chamada assíncrona usando Threads\")\n",
        "now1 = datetime.datetime.now()\n",
        "print(now1)\n",
        "print(\"-\"*50)\n",
        "\n",
        "run_tasks_via_threads()\n",
        "\n",
        "now2 = datetime.datetime.now()\n",
        "print(now2)\n",
        "print(\"-\"*50)\n",
        "print(f\"Tempo total: {now2-now1}\")"
      ],
      "metadata": {
        "colab": {
          "base_uri": "https://localhost:8080/"
        },
        "id": "MRc1rVuG8Ca7",
        "outputId": "8639c659-da81-41dd-de1b-a31097f9344d"
      },
      "execution_count": 62,
      "outputs": [
        {
          "output_type": "stream",
          "name": "stdout",
          "text": [
            "##################################################\n",
            "Chamada assíncrona usando Threads\n",
            "2025-01-13 16:10:22.573037\n",
            "--------------------------------------------------\n",
            "Task 1 started (Thread)\n",
            "2025-01-13 16:10:22.573744\n",
            "Task 2 started (Thread)\n",
            "2025-01-13 16:10:22.580002\n",
            "Task 3 started (Thread, duration: 3 seconds)\n",
            "2025-01-13 16:10:22.581141\n",
            "Task 2 finished (Thread)\n",
            "2025-01-13 16:10:23.581742\n",
            "Task 1 finished (Thread)\n",
            "2025-01-13 16:10:24.576014\n",
            "Task 3 finished (Thread)\n",
            "2025-01-13 16:10:25.584413\n",
            "All tasks finished (Threads)\n",
            "2025-01-13 16:10:25.586012\n",
            "--------------------------------------------------\n",
            "Tempo total: 0:00:03.012975\n"
          ]
        }
      ]
    }
  ]
}
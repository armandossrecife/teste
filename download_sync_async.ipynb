{
  "nbformat": 4,
  "nbformat_minor": 0,
  "metadata": {
    "colab": {
      "provenance": [],
      "authorship_tag": "ABX9TyNBdMBUA5zhyGnBkqLPFEIE",
      "include_colab_link": true
    },
    "kernelspec": {
      "name": "python3",
      "display_name": "Python 3"
    },
    "language_info": {
      "name": "python"
    }
  },
  "cells": [
    {
      "cell_type": "markdown",
      "metadata": {
        "id": "view-in-github",
        "colab_type": "text"
      },
      "source": [
        "<a href=\"https://colab.research.google.com/github/armandossrecife/teste/blob/main/download_sync_async.ipynb\" target=\"_parent\"><img src=\"https://colab.research.google.com/assets/colab-badge.svg\" alt=\"Open In Colab\"/></a>"
      ]
    },
    {
      "cell_type": "markdown",
      "source": [
        "# Utilidades"
      ],
      "metadata": {
        "id": "z5VuhxTvvGFj"
      }
    },
    {
      "cell_type": "code",
      "source": [
        "from urllib.parse import urlparse\n",
        "import os\n",
        "\n",
        "class Util:\n",
        "  def extrair_nome_extensao_url(self, url):\n",
        "    try:\n",
        "      parsed_url = urlparse(url)\n",
        "      if parsed_url.scheme not in ('http', 'https', 'ftp'):\n",
        "        raise ValueError(f\"Unsupported protocol: {parsed_url.scheme}\")\n",
        "\n",
        "      caminho_arquivo = parsed_url.path\n",
        "      if not caminho_arquivo:\n",
        "        raise ValueError(\"Missing file path in URL\")\n",
        "\n",
        "      #nome_arquivo, extensao = os.path.splitext(os.path.basename(caminho_arquivo))\n",
        "      nome_arquivo, extensao = os.path.basename(caminho_arquivo).rsplit('.', 1)\n",
        "\n",
        "      if not nome_arquivo:\n",
        "        raise ValueError(\"Missing file name\")\n",
        "\n",
        "      return nome_arquivo, extensao\n",
        "\n",
        "    except Exception as ex:\n",
        "      raise ValueError(f\"{str(ex)}\") from ex"
      ],
      "metadata": {
        "id": "ZihnjzE3vJRg"
      },
      "execution_count": 80,
      "outputs": []
    },
    {
      "cell_type": "code",
      "source": [
        "!rm -rf sincrono && mkdir sincrono\n",
        "!rm -rf assincrono && mkdir assincrono"
      ],
      "metadata": {
        "id": "CJZ4aNBFvm-v"
      },
      "execution_count": 86,
      "outputs": []
    },
    {
      "cell_type": "code",
      "source": [
        "!ls -lia"
      ],
      "metadata": {
        "colab": {
          "base_uri": "https://localhost:8080/"
        },
        "id": "zHc7j8nF0HmG",
        "outputId": "e0cf2f28-df47-4c33-d193-1bb72ae74787"
      },
      "execution_count": 87,
      "outputs": [
        {
          "output_type": "stream",
          "name": "stdout",
          "text": [
            "total 24\n",
            "3932183 drwxr-xr-x 1 root root 4096 Jul 15 14:41 .\n",
            "5242973 drwxr-xr-x 1 root root 4096 Jul 15 13:03 ..\n",
            "5243036 drwxr-xr-x 2 root root 4096 Jul 15 14:41 assincrono\n",
            "1310737 drwxr-xr-x 4 root root 4096 Jul 11 13:21 .config\n",
            "3932184 drwxr-xr-x 1 root root 4096 Jul 11 13:22 sample_data\n",
            "5243034 drwxr-xr-x 2 root root 4096 Jul 15 14:41 sincrono\n"
          ]
        }
      ]
    },
    {
      "cell_type": "code",
      "source": [
        "my_raw_data_site = \"https://raw.githubusercontent.com/armandossrecife/teste/main\"\n",
        "my_url1 = my_raw_data_site + \"/\" + \"Adrienne.mp4\"\n",
        "my_url2 = my_raw_data_site + \"/\" + \"Pizigani_1367_Chart_10MB.jpg\"\n",
        "my_url3 = my_raw_data_site + \"/\" + \"Kalimba.mp3\"\n",
        "my_url4 = my_raw_data_site + \"/\" + \"screen_matrix.jpeg\"\n",
        "my_url5 = my_raw_data_site + \"/\" + \"demo.zip\"\n",
        "\n",
        "my_urls = [my_url1, my_url2, my_url3, my_url4, my_url5]\n",
        "\n",
        "my_util = Util()\n",
        "my_filenames = []\n",
        "for url in my_urls:\n",
        "  print(url)\n",
        "  nome_arquivo, extensao = my_util.extrair_nome_extensao_url(url)\n",
        "  filename = f\"{nome_arquivo}.{extensao}\"\n",
        "  print(f\"{nome_arquivo}.{extensao}\")\n",
        "  my_filenames.append(filename)"
      ],
      "metadata": {
        "colab": {
          "base_uri": "https://localhost:8080/"
        },
        "id": "m7BTwIyjvkuC",
        "outputId": "bfb7d5ce-f01d-446c-c6d6-e27374bc36c3"
      },
      "execution_count": 88,
      "outputs": [
        {
          "output_type": "stream",
          "name": "stdout",
          "text": [
            "https://raw.githubusercontent.com/armandossrecife/teste/main/Adrienne.mp4\n",
            "Adrienne.mp4\n",
            "https://raw.githubusercontent.com/armandossrecife/teste/main/Pizigani_1367_Chart_10MB.jpg\n",
            "Pizigani_1367_Chart_10MB.jpg\n",
            "https://raw.githubusercontent.com/armandossrecife/teste/main/Kalimba.mp3\n",
            "Kalimba.mp3\n",
            "https://raw.githubusercontent.com/armandossrecife/teste/main/screen_matrix.jpeg\n",
            "screen_matrix.jpeg\n",
            "https://raw.githubusercontent.com/armandossrecife/teste/main/demo.zip\n",
            "demo.zip\n"
          ]
        }
      ]
    },
    {
      "cell_type": "markdown",
      "source": [
        "# Download síncrono"
      ],
      "metadata": {
        "id": "Gbfnvz0dh_aT"
      }
    },
    {
      "cell_type": "code",
      "execution_count": 89,
      "metadata": {
        "id": "FbJ7oqeShAjU"
      },
      "outputs": [],
      "source": [
        "import requests\n",
        "\n",
        "def download_one_file(url, filename, path):\n",
        "  response = requests.get(url, stream=True)\n",
        "  if response.status_code == 200:\n",
        "    total_size = int(response.headers['content-length'])  # Get total file size\n",
        "    print(f\"Total file size: {total_size} bytes\")\n",
        "    path = os.path.join(path, filename)\n",
        "    with open(path, 'wb') as f:\n",
        "      for chunk in response.iter_content(1024):\n",
        "        f.write(chunk)\n",
        "    print(f\"Downloaded {filename}\")\n",
        "  else:\n",
        "    print(f\"Failed to download {filename}\")\n",
        "\n",
        "def download_files_synchronous(my_urls, my_filenames, path):\n",
        "  # Download each file synchronously\n",
        "  for url, filename in zip(my_urls, my_filenames):\n",
        "    download_one_file(url, filename, path)"
      ]
    },
    {
      "cell_type": "code",
      "source": [
        "import datetime\n",
        "\n",
        "now1 = datetime.datetime.now()\n",
        "print(now1)\n",
        "\n",
        "download_files_synchronous(my_urls, my_filenames, 'sincrono')\n",
        "print(\"All files downloaded (synchronously)\")\n",
        "\n",
        "now2 = datetime.datetime.now()\n",
        "print(now2)\n",
        "\n",
        "time_diff = now2 - now1\n",
        "print(time_diff)"
      ],
      "metadata": {
        "colab": {
          "base_uri": "https://localhost:8080/"
        },
        "id": "33Jp0436hDAb",
        "outputId": "94a4c5f0-f733-45e2-a336-183f5ed81ab0"
      },
      "execution_count": 90,
      "outputs": [
        {
          "output_type": "stream",
          "name": "stdout",
          "text": [
            "2024-07-15 14:42:23.040774\n",
            "Total file size: 14944332 bytes\n",
            "Downloaded Adrienne.mp4\n",
            "Total file size: 10174706 bytes\n",
            "Downloaded Pizigani_1367_Chart_10MB.jpg\n",
            "Total file size: 8414449 bytes\n",
            "Downloaded Kalimba.mp3\n",
            "Total file size: 265136 bytes\n",
            "Downloaded screen_matrix.jpeg\n",
            "Total file size: 69856 bytes\n",
            "Downloaded demo.zip\n",
            "All files downloaded (synchronously)\n",
            "2024-07-15 14:42:25.274679\n",
            "0:00:02.233905\n"
          ]
        }
      ]
    },
    {
      "cell_type": "markdown",
      "source": [
        "# Download assíncrono\n",
        "\n",
        "https://docs.aiohttp.org\n",
        "\n",
        "Asynchronous HTTP Client/Server for asyncio and Python."
      ],
      "metadata": {
        "id": "BnBCsr5xiDYE"
      }
    },
    {
      "cell_type": "code",
      "source": [
        "!pip install aiohttp"
      ],
      "metadata": {
        "colab": {
          "base_uri": "https://localhost:8080/"
        },
        "id": "EJSbbiWvidr4",
        "outputId": "f3e663e5-ba13-4800-cddc-a8efa73cd6e9"
      },
      "execution_count": 3,
      "outputs": [
        {
          "output_type": "stream",
          "name": "stdout",
          "text": [
            "Requirement already satisfied: aiohttp in /usr/local/lib/python3.10/dist-packages (3.9.5)\n",
            "Requirement already satisfied: aiosignal>=1.1.2 in /usr/local/lib/python3.10/dist-packages (from aiohttp) (1.3.1)\n",
            "Requirement already satisfied: attrs>=17.3.0 in /usr/local/lib/python3.10/dist-packages (from aiohttp) (23.2.0)\n",
            "Requirement already satisfied: frozenlist>=1.1.1 in /usr/local/lib/python3.10/dist-packages (from aiohttp) (1.4.1)\n",
            "Requirement already satisfied: multidict<7.0,>=4.5 in /usr/local/lib/python3.10/dist-packages (from aiohttp) (6.0.5)\n",
            "Requirement already satisfied: yarl<2.0,>=1.0 in /usr/local/lib/python3.10/dist-packages (from aiohttp) (1.9.4)\n",
            "Requirement already satisfied: async-timeout<5.0,>=4.0 in /usr/local/lib/python3.10/dist-packages (from aiohttp) (4.0.3)\n",
            "Requirement already satisfied: idna>=2.0 in /usr/local/lib/python3.10/dist-packages (from yarl<2.0,>=1.0->aiohttp) (3.7)\n"
          ]
        }
      ]
    },
    {
      "cell_type": "code",
      "source": [
        "!pip install aiodns"
      ],
      "metadata": {
        "colab": {
          "base_uri": "https://localhost:8080/"
        },
        "id": "6ze5CoPxifWl",
        "outputId": "4425f4e7-de26-4687-d09f-bb9cddf715c3"
      },
      "execution_count": 4,
      "outputs": [
        {
          "output_type": "stream",
          "name": "stdout",
          "text": [
            "Requirement already satisfied: aiodns in /usr/local/lib/python3.10/dist-packages (3.2.0)\n",
            "Requirement already satisfied: pycares>=4.0.0 in /usr/local/lib/python3.10/dist-packages (from aiodns) (4.4.0)\n",
            "Requirement already satisfied: cffi>=1.5.0 in /usr/local/lib/python3.10/dist-packages (from pycares>=4.0.0->aiodns) (1.16.0)\n",
            "Requirement already satisfied: pycparser in /usr/local/lib/python3.10/dist-packages (from cffi>=1.5.0->pycares>=4.0.0->aiodns) (2.22)\n"
          ]
        }
      ]
    },
    {
      "cell_type": "code",
      "source": [
        "import asyncio\n",
        "import aiohttp\n",
        "import datetime"
      ],
      "metadata": {
        "id": "8tHXEIFdiFWH"
      },
      "execution_count": 91,
      "outputs": []
    },
    {
      "cell_type": "code",
      "source": [
        "async def teste_async():\n",
        "  async with aiohttp.ClientSession() as session:\n",
        "    async with session.get('http://python.org') as response:\n",
        "      print(\"Status:\", response.status)\n",
        "      print(\"Content-type:\", response.headers['content-type'])\n",
        "      html = await response.text()"
      ],
      "metadata": {
        "id": "HLu-nD_dqZxY"
      },
      "execution_count": 92,
      "outputs": []
    },
    {
      "cell_type": "code",
      "source": [
        "async def call_teste_async():\n",
        "  await teste_async()\n",
        "\n",
        "await call_teste_async()"
      ],
      "metadata": {
        "colab": {
          "base_uri": "https://localhost:8080/"
        },
        "id": "JTNl6ywkzFV-",
        "outputId": "45cf0292-b946-4691-ed33-c287c3fd56a4"
      },
      "execution_count": 93,
      "outputs": [
        {
          "output_type": "stream",
          "name": "stdout",
          "text": [
            "Status: 200\n",
            "Content-type: text/html; charset=utf-8\n"
          ]
        }
      ]
    },
    {
      "cell_type": "code",
      "source": [
        "async def download_async(url, filename, path):\n",
        "  \"\"\"Downloads a file from the given URL and saves it with the specified filename.\"\"\"\n",
        "  async with aiohttp.ClientSession() as session:\n",
        "    async with session.get(url) as response:\n",
        "      total_size = int(response.headers['content-length'])  # Get total file size\n",
        "      print(f\"Total file size: {total_size} bytes\")\n",
        "      if response.status == 200:\n",
        "        path = os.path.join(path, filename)\n",
        "        with open(path, 'wb') as f:\n",
        "          # Read content in chunks using aiohttp.read()\n",
        "          while True:\n",
        "            chunk = await response.content.read(1024)  # Read in chunks of 1024 bytes\n",
        "            if not chunk:\n",
        "              break\n",
        "            f.write(chunk)\n",
        "        print(f\"Downloaded {filename}\")\n",
        "      else:\n",
        "        print(f\"Failed to download {filename}\")\n",
        "\n",
        "async def download_files_asynchronous(my_urls, my_filenames, path):\n",
        "  \"\"\"Downloads all files asynchronously.\"\"\"\n",
        "  tasks = []\n",
        "  for url, filename in zip(my_urls, my_filenames):\n",
        "    tasks.append(asyncio.create_task(download_async(url, filename, path)))\n",
        "\n",
        "  # Run all tasks concurrently using asyncio.run\n",
        "  await asyncio.gather(*tasks)"
      ],
      "metadata": {
        "id": "zOFmeIFarhHB"
      },
      "execution_count": 96,
      "outputs": []
    },
    {
      "cell_type": "code",
      "source": [
        "now1 = datetime.datetime.now()\n",
        "print(now1)\n",
        "\n",
        "async def main():\n",
        "  await download_files_asynchronous(my_urls, my_filenames, 'assincrono')\n",
        "\n",
        "# Call main as an async function and await it\n",
        "await main()\n",
        "\n",
        "now2 = datetime.datetime.now()\n",
        "print(now2)\n",
        "\n",
        "time_diff = now2 - now1\n",
        "print(time_diff)"
      ],
      "metadata": {
        "colab": {
          "base_uri": "https://localhost:8080/"
        },
        "id": "w--rRhSwqohB",
        "outputId": "6fc3caea-5fd5-4b6c-c08d-6a1c1ea08a5b"
      },
      "execution_count": 97,
      "outputs": [
        {
          "output_type": "stream",
          "name": "stdout",
          "text": [
            "2024-07-15 14:44:22.728910\n",
            "Total file size: 265136 bytes\n",
            "Total file size: 14944332 bytes\n",
            "Total file size: 8414449 bytes\n",
            "Total file size: 10174706 bytes\n",
            "Downloaded screen_matrix.jpeg\n",
            "Total file size: 69856 bytes\n",
            "Downloaded demo.zip\n",
            "Downloaded Kalimba.mp3\n",
            "Downloaded Pizigani_1367_Chart_10MB.jpg\n",
            "Downloaded Adrienne.mp4\n",
            "2024-07-15 14:44:23.134266\n",
            "0:00:00.405356\n"
          ]
        }
      ]
    },
    {
      "cell_type": "code",
      "source": [],
      "metadata": {
        "id": "p7Z0OfogiuXj"
      },
      "execution_count": 10,
      "outputs": []
    }
  ]
}
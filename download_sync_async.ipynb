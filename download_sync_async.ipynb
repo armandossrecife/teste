{
  "nbformat": 4,
  "nbformat_minor": 0,
  "metadata": {
    "colab": {
      "provenance": [],
      "authorship_tag": "ABX9TyPG/nrhm1fhl8U6kBev3wlX",
      "include_colab_link": true
    },
    "kernelspec": {
      "name": "python3",
      "display_name": "Python 3"
    },
    "language_info": {
      "name": "python"
    }
  },
  "cells": [
    {
      "cell_type": "markdown",
      "metadata": {
        "id": "view-in-github",
        "colab_type": "text"
      },
      "source": [
        "<a href=\"https://colab.research.google.com/github/armandossrecife/teste/blob/main/download_sync_async.ipynb\" target=\"_parent\"><img src=\"https://colab.research.google.com/assets/colab-badge.svg\" alt=\"Open In Colab\"/></a>"
      ]
    },
    {
      "cell_type": "markdown",
      "source": [
        "# Utilidades"
      ],
      "metadata": {
        "id": "z5VuhxTvvGFj"
      }
    },
    {
      "cell_type": "markdown",
      "source": [
        "## Classe que extrai nome e extensão de um arquivo em uma URL"
      ],
      "metadata": {
        "id": "Q6YGPmWCP-GF"
      }
    },
    {
      "cell_type": "markdown",
      "source": [
        "Uma URL (Uniform Resource Locator), ou endereço web, é como um endereço postal na internet. Ela indica a localização exata de um recurso online, como uma página web, imagem, vídeo ou outro arquivo.\n",
        "\n",
        "**Componentes de uma URL:**\n",
        "\n",
        "  * **Esquema:** Indica o protocolo utilizado para acessar o recurso. Os mais comuns são:\n",
        "      * **http:** Protocolo de transferência de hipertexto, utilizado para páginas web não seguras.\n",
        "      * **https:** Versão segura do HTTP, que utiliza criptografia para proteger a comunicação.\n",
        "      * **ftp:** Protocolo de transferência de arquivos, utilizado para transferir arquivos entre computadores.\n",
        "      * **mailto:** Utilizado para enviar e-mails.\n",
        "  * **Host:** Identifica o servidor onde o recurso está localizado. É composto pelo nome de domínio (ex: [URL inválido removido]) e, opcionalmente, o número da porta.\n",
        "  * **Caminho:** Especifica a localização exata do recurso dentro do servidor. É semelhante à estrutura de pastas em um computador.\n",
        "  * **Parâmetros de consulta:** Fornecem informações adicionais ao servidor, como resultados de busca ou configurações personalizadas. São separados do caminho por um ponto de interrogação (?) e os pares chave-valor são separados por um & (ampersand).\n",
        "  * **Fragmento:** Indica uma parte específica de uma página, como uma seção ou um link dentro da página. É separado do resto da URL por um jogo da velha (\\#).\n",
        "\n",
        "**Exemplo:**\n",
        "\n",
        "```\n",
        "https://www.exemplo.com/pasta/arquivo.html?parametro1=valor1&parametro2=valor2#secao\n",
        "```\n",
        "\n",
        "  * **https:** Protocolo seguro.\n",
        "  * **[www.exemplo.com](https://www.google.com/url?sa=E&source=gmail&q=https://www.exemplo.com):** Nome de domínio do servidor.\n",
        "  * **/pasta/arquivo.html:** Caminho do arquivo dentro do servidor.\n",
        "  * **?parametro1=valor1\\&parametro2=valor2:** Parâmetros de consulta.\n",
        "  * **\\#secao:** Fragmento, indicando uma seção específica da página.\n",
        "\n",
        "**Para que serve cada componente:**\n",
        "\n",
        "  * **Esquema:** Define como o navegador deve se conectar ao servidor.\n",
        "  * **Host:** Identifica o servidor específico onde o recurso está hospedado.\n",
        "  * **Caminho:** Direciona o navegador para o local exato do arquivo dentro do servidor.\n",
        "  * **Parâmetros de consulta:** Permitem que você passe informações adicionais ao servidor, como resultados de busca, configurações personalizadas ou dados de formulários.\n",
        "  * **Fragmento:** Permite que você navegue diretamente para uma parte específica de uma página, sem precisar carregar a página inteira novamente."
      ],
      "metadata": {
        "id": "ZV36YGKgQeZB"
      }
    },
    {
      "cell_type": "code",
      "source": [
        "from urllib.parse import urlparse\n",
        "import os\n",
        "\n",
        "class Util:\n",
        "  def extrair_nome_extensao_url(self, url):\n",
        "    try:\n",
        "      parsed_url = urlparse(url)\n",
        "      if parsed_url.scheme not in ('http', 'https', 'ftp'):\n",
        "        raise ValueError(f\"Unsupported protocol: {parsed_url.scheme}\")\n",
        "\n",
        "      caminho_arquivo = parsed_url.path\n",
        "      if not caminho_arquivo:\n",
        "        raise ValueError(\"Missing file path in URL\")\n",
        "\n",
        "      #nome_arquivo, extensao = os.path.splitext(os.path.basename(caminho_arquivo))\n",
        "      nome_arquivo, extensao = os.path.basename(caminho_arquivo).rsplit('.', 1)\n",
        "\n",
        "      if not nome_arquivo:\n",
        "        raise ValueError(\"Missing file name\")\n",
        "\n",
        "      return nome_arquivo, extensao\n",
        "\n",
        "    except Exception as ex:\n",
        "      raise ValueError(f\"{str(ex)}\") from ex"
      ],
      "metadata": {
        "id": "ZihnjzE3vJRg"
      },
      "execution_count": 22,
      "outputs": []
    },
    {
      "cell_type": "code",
      "source": [
        "util = Util()\n",
        "url = \"https://exemplo.com/caminho/para/arquivo.txt\"\n",
        "nome_arquivo, extensao = util.extrair_nome_extensao_url(url)\n",
        "print(nome_arquivo)  # Saída: arquivo\n",
        "print(extensao)      # Saída: .txt"
      ],
      "metadata": {
        "id": "7Bo6flxCPllQ",
        "outputId": "39cd958a-7723-4b9f-8d4d-4601c1305bf9",
        "colab": {
          "base_uri": "https://localhost:8080/"
        }
      },
      "execution_count": 27,
      "outputs": [
        {
          "output_type": "stream",
          "name": "stdout",
          "text": [
            "arquivo\n",
            "txt\n"
          ]
        }
      ]
    },
    {
      "cell_type": "code",
      "source": [
        "url2 = \"https://www.exemplo.com/pasta/arquivo.html?parametro1=valor1&parametro2=valor2#secao\"\n",
        "nome_arquivo, extensao = util.extrair_nome_extensao_url(url2)\n",
        "print(nome_arquivo)  # Saída: arquivo\n",
        "print(extensao)      # Saída: .html"
      ],
      "metadata": {
        "id": "hZphlsa2QzYA",
        "outputId": "f3193925-ce34-4353-ed7a-87bb88c08917",
        "colab": {
          "base_uri": "https://localhost:8080/"
        }
      },
      "execution_count": 28,
      "outputs": [
        {
          "output_type": "stream",
          "name": "stdout",
          "text": [
            "arquivo\n",
            "html\n"
          ]
        }
      ]
    },
    {
      "cell_type": "markdown",
      "source": [
        "## Limpa a estrutura das pastas que vão armazenar os arquivos"
      ],
      "metadata": {
        "id": "gBr3sR0-RDCd"
      }
    },
    {
      "cell_type": "code",
      "source": [
        "!rm -rf sincrono && mkdir sincrono\n",
        "!rm -rf assincrono && mkdir assincrono\n",
        "!rm -rf threads && mkdir threads"
      ],
      "metadata": {
        "id": "CJZ4aNBFvm-v"
      },
      "execution_count": 29,
      "outputs": []
    },
    {
      "cell_type": "code",
      "source": [
        "!ls -lia"
      ],
      "metadata": {
        "colab": {
          "base_uri": "https://localhost:8080/"
        },
        "id": "zHc7j8nF0HmG",
        "outputId": "bd60f460-7489-47e5-92fa-0c5582d1c176"
      },
      "execution_count": 25,
      "outputs": [
        {
          "output_type": "stream",
          "name": "stdout",
          "text": [
            "total 28\n",
            "6815750 drwxr-xr-x 1 root root 4096 Jan 13 15:19 .\n",
            "5505040 drwxr-xr-x 1 root root 4096 Jan 13 14:25 ..\n",
            "5509883 drwxr-xr-x 2 root root 4096 Jan 13 15:19 assincrono\n",
            "2621447 drwxr-xr-x 4 root root 4096 Jan  9 14:24 .config\n",
            "6815751 drwxr-xr-x 1 root root 4096 Jan  9 14:24 sample_data\n",
            "5509882 drwxr-xr-x 2 root root 4096 Jan 13 15:19 sincrono\n",
            "5509884 drwxr-xr-x 2 root root 4096 Jan 13 15:19 threads\n"
          ]
        }
      ]
    },
    {
      "cell_type": "code",
      "source": [
        "!lsb_release -a"
      ],
      "metadata": {
        "id": "F-JNxfw_P4kw",
        "outputId": "85072986-b71c-4160-aed0-be7ca0c8678b",
        "colab": {
          "base_uri": "https://localhost:8080/"
        }
      },
      "execution_count": 26,
      "outputs": [
        {
          "output_type": "stream",
          "name": "stdout",
          "text": [
            "No LSB modules are available.\n",
            "Distributor ID:\tUbuntu\n",
            "Description:\tUbuntu 22.04.3 LTS\n",
            "Release:\t22.04\n",
            "Codename:\tjammy\n"
          ]
        }
      ]
    },
    {
      "cell_type": "markdown",
      "source": [
        "## Prepara as URLs dos arquivos de exemplo (Download de arquivos públicos)"
      ],
      "metadata": {
        "id": "ni-YVkGVRJOh"
      }
    },
    {
      "cell_type": "code",
      "source": [
        "my_raw_data_site = \"https://raw.githubusercontent.com/armandossrecife/teste/main\"\n",
        "my_url1 = my_raw_data_site + \"/\" + \"Adrienne.mp4\"\n",
        "my_url2 = my_raw_data_site + \"/\" + \"Pizigani_1367_Chart_10MB.jpg\"\n",
        "my_url3 = my_raw_data_site + \"/\" + \"Kalimba.mp3\"\n",
        "my_url4 = my_raw_data_site + \"/\" + \"screen_matrix.jpeg\"\n",
        "my_url5 = my_raw_data_site + \"/\" + \"demo.zip\"\n",
        "\n",
        "my_urls = [my_url1, my_url2, my_url3, my_url4, my_url5]\n",
        "\n",
        "my_util = Util()\n",
        "my_filenames = []\n",
        "for url in my_urls:\n",
        "  print(url)\n",
        "  nome_arquivo, extensao = my_util.extrair_nome_extensao_url(url)\n",
        "  filename = f\"{nome_arquivo}.{extensao}\"\n",
        "  print(f\"{nome_arquivo}.{extensao}\")\n",
        "  my_filenames.append(filename)"
      ],
      "metadata": {
        "colab": {
          "base_uri": "https://localhost:8080/"
        },
        "id": "m7BTwIyjvkuC",
        "outputId": "71d13dd8-8923-4c87-c0c5-6b26b089a269"
      },
      "execution_count": 30,
      "outputs": [
        {
          "output_type": "stream",
          "name": "stdout",
          "text": [
            "https://raw.githubusercontent.com/armandossrecife/teste/main/Adrienne.mp4\n",
            "Adrienne.mp4\n",
            "https://raw.githubusercontent.com/armandossrecife/teste/main/Pizigani_1367_Chart_10MB.jpg\n",
            "Pizigani_1367_Chart_10MB.jpg\n",
            "https://raw.githubusercontent.com/armandossrecife/teste/main/Kalimba.mp3\n",
            "Kalimba.mp3\n",
            "https://raw.githubusercontent.com/armandossrecife/teste/main/screen_matrix.jpeg\n",
            "screen_matrix.jpeg\n",
            "https://raw.githubusercontent.com/armandossrecife/teste/main/demo.zip\n",
            "demo.zip\n"
          ]
        }
      ]
    },
    {
      "cell_type": "markdown",
      "source": [
        "# Download síncrono\n",
        "\n",
        "https://requests.readthedocs.io\n",
        "\n",
        "Requests is an elegant and simple HTTP library for Python, built for human beings."
      ],
      "metadata": {
        "id": "Gbfnvz0dh_aT"
      }
    },
    {
      "cell_type": "markdown",
      "source": [
        "Exemplo de uso da biblioteca requets:"
      ],
      "metadata": {
        "id": "i5F5MKEqSCHM"
      }
    },
    {
      "cell_type": "code",
      "source": [
        "import requests\n",
        "\n",
        "def buscar_cep(cep):\n",
        "    url = f'https://viacep.com.br/ws/{cep}/json/'\n",
        "    response = requests.get(url)\n",
        "    dados = response.json()\n",
        "    return dados\n",
        "\n",
        "cep = '64007250'\n",
        "resultado = buscar_cep(cep)\n",
        "print(resultado)\n",
        "print(f\"Logradouro: {resultado['logradouro']}\")\n",
        "print(f\"Bairro: {resultado['bairro']}\")\n",
        "print(f\"Cidade: {resultado['localidade']}\")\n",
        "print(f\"Estado: {resultado['uf']}\")"
      ],
      "metadata": {
        "id": "rd3c8I2aSJu4",
        "outputId": "4ed827c2-3775-43f9-aa8f-39e8f61ff0ae",
        "colab": {
          "base_uri": "https://localhost:8080/"
        }
      },
      "execution_count": 35,
      "outputs": [
        {
          "output_type": "stream",
          "name": "stdout",
          "text": [
            "{'cep': '64007-250', 'logradouro': 'Rua Território Fernando de Noronha', 'complemento': '', 'unidade': '', 'bairro': 'Aeroporto', 'localidade': 'Teresina', 'uf': 'PI', 'estado': 'Piauí', 'regiao': 'Nordeste', 'ibge': '2211001', 'gia': '', 'ddd': '86', 'siafi': '1219'}\n",
            "Logradouro: Rua Território Fernando de Noronha\n",
            "Bairro: Aeroporto\n",
            "Cidade: Teresina\n",
            "Estado: PI\n"
          ]
        }
      ]
    },
    {
      "cell_type": "markdown",
      "source": [
        "## Funções para download de arquivos"
      ],
      "metadata": {
        "id": "_CQ42P-iS2Ko"
      }
    },
    {
      "cell_type": "code",
      "execution_count": 37,
      "metadata": {
        "id": "FbJ7oqeShAjU"
      },
      "outputs": [],
      "source": [
        "import requests\n",
        "\n",
        "# Faz o download de um único arquivo\n",
        "def download_one_file(url, filename, path):\n",
        "  response = requests.get(url, stream=True)\n",
        "  if response.status_code == 200:\n",
        "    total_size = int(response.headers['content-length'])  # Get total file size\n",
        "    print(f\"Total file size: {total_size} bytes\")\n",
        "    path = os.path.join(path, filename)\n",
        "    with open(path, 'wb') as f:\n",
        "      for chunk in response.iter_content(1024):\n",
        "        f.write(chunk)\n",
        "    print(f\"Downloaded {filename}\")\n",
        "  else:\n",
        "    print(f\"Failed to download {filename}\")\n",
        "\n",
        "# Faz o download sincrono de uma lista de arquivos\n",
        "def download_files_synchronous(my_urls, my_filenames, path):\n",
        "  # Download each file synchronously\n",
        "  for url, filename in zip(my_urls, my_filenames):\n",
        "    download_one_file(url, filename, path)"
      ]
    },
    {
      "cell_type": "code",
      "source": [
        "my_urls"
      ],
      "metadata": {
        "id": "AIWnnqy7TsUu",
        "outputId": "6b259569-898a-4ea5-a9f8-2489255aab16",
        "colab": {
          "base_uri": "https://localhost:8080/"
        }
      },
      "execution_count": 39,
      "outputs": [
        {
          "output_type": "execute_result",
          "data": {
            "text/plain": [
              "['https://raw.githubusercontent.com/armandossrecife/teste/main/Adrienne.mp4',\n",
              " 'https://raw.githubusercontent.com/armandossrecife/teste/main/Pizigani_1367_Chart_10MB.jpg',\n",
              " 'https://raw.githubusercontent.com/armandossrecife/teste/main/Kalimba.mp3',\n",
              " 'https://raw.githubusercontent.com/armandossrecife/teste/main/screen_matrix.jpeg',\n",
              " 'https://raw.githubusercontent.com/armandossrecife/teste/main/demo.zip']"
            ]
          },
          "metadata": {},
          "execution_count": 39
        }
      ]
    },
    {
      "cell_type": "code",
      "source": [
        "import datetime\n",
        "\n",
        "now1 = datetime.datetime.now()\n",
        "print(now1)\n",
        "\n",
        "download_files_synchronous(my_urls, my_filenames, 'sincrono')\n",
        "print(\"All files downloaded (synchronously)\")\n",
        "\n",
        "now2 = datetime.datetime.now()\n",
        "print(now2)\n",
        "\n",
        "time_diff = now2 - now1\n",
        "print(time_diff)"
      ],
      "metadata": {
        "colab": {
          "base_uri": "https://localhost:8080/"
        },
        "id": "33Jp0436hDAb",
        "outputId": "5ba38846-a8f6-4cb1-bc00-bd8feaabe832"
      },
      "execution_count": 6,
      "outputs": [
        {
          "output_type": "stream",
          "name": "stdout",
          "text": [
            "2025-01-13 14:26:12.107071\n",
            "Total file size: 14944332 bytes\n",
            "Downloaded Adrienne.mp4\n",
            "Total file size: 10174706 bytes\n",
            "Downloaded Pizigani_1367_Chart_10MB.jpg\n",
            "Total file size: 8414449 bytes\n",
            "Downloaded Kalimba.mp3\n",
            "Total file size: 265136 bytes\n",
            "Downloaded screen_matrix.jpeg\n",
            "Total file size: 69856 bytes\n",
            "Downloaded demo.zip\n",
            "All files downloaded (synchronously)\n",
            "2025-01-13 14:26:14.794788\n",
            "0:00:02.687717\n"
          ]
        }
      ]
    },
    {
      "cell_type": "markdown",
      "source": [
        "# Download assíncrono\n",
        "\n",
        "https://docs.aiohttp.org\n",
        "\n",
        "Asynchronous HTTP Client/Server for asyncio and Python.\n",
        "\n",
        "https://en.wikipedia.org/wiki/Asynchrony_(computer_programming)\n",
        "\n",
        "https://en.wikipedia.org/wiki/Async/await"
      ],
      "metadata": {
        "id": "BnBCsr5xiDYE"
      }
    },
    {
      "cell_type": "code",
      "source": [
        "!pip install aiohttp"
      ],
      "metadata": {
        "colab": {
          "base_uri": "https://localhost:8080/"
        },
        "id": "EJSbbiWvidr4",
        "outputId": "6a2f4d4f-c932-4128-c7f5-afc4600a757b"
      },
      "execution_count": 7,
      "outputs": [
        {
          "output_type": "stream",
          "name": "stdout",
          "text": [
            "Requirement already satisfied: aiohttp in /usr/local/lib/python3.10/dist-packages (3.11.11)\n",
            "Requirement already satisfied: aiohappyeyeballs>=2.3.0 in /usr/local/lib/python3.10/dist-packages (from aiohttp) (2.4.4)\n",
            "Requirement already satisfied: aiosignal>=1.1.2 in /usr/local/lib/python3.10/dist-packages (from aiohttp) (1.3.2)\n",
            "Requirement already satisfied: async-timeout<6.0,>=4.0 in /usr/local/lib/python3.10/dist-packages (from aiohttp) (4.0.3)\n",
            "Requirement already satisfied: attrs>=17.3.0 in /usr/local/lib/python3.10/dist-packages (from aiohttp) (24.3.0)\n",
            "Requirement already satisfied: frozenlist>=1.1.1 in /usr/local/lib/python3.10/dist-packages (from aiohttp) (1.5.0)\n",
            "Requirement already satisfied: multidict<7.0,>=4.5 in /usr/local/lib/python3.10/dist-packages (from aiohttp) (6.1.0)\n",
            "Requirement already satisfied: propcache>=0.2.0 in /usr/local/lib/python3.10/dist-packages (from aiohttp) (0.2.1)\n",
            "Requirement already satisfied: yarl<2.0,>=1.17.0 in /usr/local/lib/python3.10/dist-packages (from aiohttp) (1.18.3)\n",
            "Requirement already satisfied: typing-extensions>=4.1.0 in /usr/local/lib/python3.10/dist-packages (from multidict<7.0,>=4.5->aiohttp) (4.12.2)\n",
            "Requirement already satisfied: idna>=2.0 in /usr/local/lib/python3.10/dist-packages (from yarl<2.0,>=1.17.0->aiohttp) (3.10)\n"
          ]
        }
      ]
    },
    {
      "cell_type": "code",
      "source": [
        "!pip install aiodns"
      ],
      "metadata": {
        "colab": {
          "base_uri": "https://localhost:8080/"
        },
        "id": "6ze5CoPxifWl",
        "outputId": "fc3cac08-1799-476b-8545-95bfb0fd714e"
      },
      "execution_count": 8,
      "outputs": [
        {
          "output_type": "stream",
          "name": "stdout",
          "text": [
            "Collecting aiodns\n",
            "  Downloading aiodns-3.2.0-py3-none-any.whl.metadata (4.0 kB)\n",
            "Collecting pycares>=4.0.0 (from aiodns)\n",
            "  Downloading pycares-4.5.0-cp310-cp310-manylinux_2_17_x86_64.manylinux2014_x86_64.whl.metadata (4.1 kB)\n",
            "Requirement already satisfied: cffi>=1.5.0 in /usr/local/lib/python3.10/dist-packages (from pycares>=4.0.0->aiodns) (1.17.1)\n",
            "Requirement already satisfied: pycparser in /usr/local/lib/python3.10/dist-packages (from cffi>=1.5.0->pycares>=4.0.0->aiodns) (2.22)\n",
            "Downloading aiodns-3.2.0-py3-none-any.whl (5.7 kB)\n",
            "Downloading pycares-4.5.0-cp310-cp310-manylinux_2_17_x86_64.manylinux2014_x86_64.whl (288 kB)\n",
            "\u001b[2K   \u001b[90m━━━━━━━━━━━━━━━━━━━━━━━━━━━━━━━━━━━━━━━━\u001b[0m \u001b[32m288.6/288.6 kB\u001b[0m \u001b[31m5.3 MB/s\u001b[0m eta \u001b[36m0:00:00\u001b[0m\n",
            "\u001b[?25hInstalling collected packages: pycares, aiodns\n",
            "Successfully installed aiodns-3.2.0 pycares-4.5.0\n"
          ]
        }
      ]
    },
    {
      "cell_type": "code",
      "source": [
        "import asyncio\n",
        "import aiohttp\n",
        "import datetime"
      ],
      "metadata": {
        "id": "8tHXEIFdiFWH"
      },
      "execution_count": 9,
      "outputs": []
    },
    {
      "cell_type": "code",
      "source": [
        "async def teste_async():\n",
        "  async with aiohttp.ClientSession() as session:\n",
        "    async with session.get('http://python.org') as response:\n",
        "      print(\"Status:\", response.status)\n",
        "      print(\"Content-type:\", response.headers['content-type'])\n",
        "      html = await response.text()"
      ],
      "metadata": {
        "id": "HLu-nD_dqZxY"
      },
      "execution_count": 10,
      "outputs": []
    },
    {
      "cell_type": "code",
      "source": [
        "async def call_teste_async():\n",
        "  await teste_async()\n",
        "\n",
        "await call_teste_async()"
      ],
      "metadata": {
        "colab": {
          "base_uri": "https://localhost:8080/"
        },
        "id": "JTNl6ywkzFV-",
        "outputId": "e8ac35a5-8917-40e4-b1fc-3c29b6b0df46"
      },
      "execution_count": 11,
      "outputs": [
        {
          "output_type": "stream",
          "name": "stdout",
          "text": [
            "Status: 200\n",
            "Content-type: text/html; charset=utf-8\n"
          ]
        }
      ]
    },
    {
      "cell_type": "code",
      "source": [
        "async def download_async(url, filename, path):\n",
        "  \"\"\"Downloads a file from the given URL and saves it with the specified filename.\"\"\"\n",
        "  async with aiohttp.ClientSession() as session:\n",
        "    async with session.get(url) as response:\n",
        "      total_size = int(response.headers['content-length'])  # Get total file size\n",
        "      print(f\"Total file size: {total_size} bytes\")\n",
        "      if response.status == 200:\n",
        "        path = os.path.join(path, filename)\n",
        "        with open(path, 'wb') as f:\n",
        "          # Read content in chunks using aiohttp.read()\n",
        "          while True:\n",
        "            chunk = await response.content.read(1024)  # Read in chunks of 1024 bytes\n",
        "            if not chunk:\n",
        "              break\n",
        "            f.write(chunk)\n",
        "        print(f\"Downloaded {filename}\")\n",
        "      else:\n",
        "        print(f\"Failed to download {filename}\")\n",
        "\n",
        "async def download_files_asynchronous(my_urls, my_filenames, path):\n",
        "  \"\"\"Downloads all files asynchronously.\"\"\"\n",
        "  tasks = []\n",
        "  for url, filename in zip(my_urls, my_filenames):\n",
        "    tasks.append(asyncio.create_task(download_async(url, filename, path)))\n",
        "\n",
        "  # Run all tasks concurrently using asyncio.run\n",
        "  await asyncio.gather(*tasks)"
      ],
      "metadata": {
        "id": "zOFmeIFarhHB"
      },
      "execution_count": 12,
      "outputs": []
    },
    {
      "cell_type": "code",
      "source": [
        "now1 = datetime.datetime.now()\n",
        "print(now1)\n",
        "\n",
        "async def main():\n",
        "  await download_files_asynchronous(my_urls, my_filenames, 'assincrono')\n",
        "\n",
        "# Call main as an async function and await it\n",
        "await main()\n",
        "\n",
        "now2 = datetime.datetime.now()\n",
        "print(now2)\n",
        "\n",
        "time_diff = now2 - now1\n",
        "print(time_diff)"
      ],
      "metadata": {
        "colab": {
          "base_uri": "https://localhost:8080/"
        },
        "id": "w--rRhSwqohB",
        "outputId": "d0fbc122-af4d-490b-a56e-e82b4b75bccf"
      },
      "execution_count": 13,
      "outputs": [
        {
          "output_type": "stream",
          "name": "stdout",
          "text": [
            "2025-01-13 14:26:27.874665\n",
            "Total file size: 10174706 bytes\n",
            "Total file size: 69856 bytes\n",
            "Total file size: 8414449 bytes\n",
            "Total file size: 14944332 bytes\n",
            "Total file size: 265136 bytes\n",
            "Downloaded demo.zip\n",
            "Downloaded screen_matrix.jpeg\n",
            "Downloaded Kalimba.mp3\n",
            "Downloaded Pizigani_1367_Chart_10MB.jpg\n",
            "Downloaded Adrienne.mp4\n",
            "2025-01-13 14:26:28.309048\n",
            "0:00:00.434383\n"
          ]
        }
      ]
    },
    {
      "cell_type": "markdown",
      "source": [
        "# Downloads usando Threads\n",
        "\n",
        "https://docs.python.org/3/library/threading.html\n",
        "\n",
        "https://en.wikipedia.org/wiki/Thread_(computing)"
      ],
      "metadata": {
        "id": "nBKoTsqU-EVj"
      }
    },
    {
      "cell_type": "code",
      "source": [
        "import threading\n",
        "import requests\n",
        "\n",
        "def download_files_via_threads(urls, filenames, path):\n",
        "  \"\"\"Downloads multiple files asynchronously using threads.\"\"\"\n",
        "  threads = []\n",
        "  for url, filename in zip(urls, filenames):\n",
        "    thread = threading.Thread(target=download_one_file(url, filename, path), args=(url, filename, path))\n",
        "    threads.append(thread)\n",
        "    thread.start()\n",
        "\n",
        "  # Wait for all threads to finish (blocking)\n",
        "  for thread in threads:\n",
        "    thread.join()"
      ],
      "metadata": {
        "id": "cyvp6trY-HX6"
      },
      "execution_count": 14,
      "outputs": []
    },
    {
      "cell_type": "code",
      "source": [
        "now1 = datetime.datetime.now()\n",
        "print(now1)\n",
        "\n",
        "download_files_via_threads(my_urls, my_filenames, 'threads')\n",
        "\n",
        "now2 = datetime.datetime.now()\n",
        "print(now2)\n",
        "\n",
        "time_diff = now2 - now1\n",
        "print(time_diff)"
      ],
      "metadata": {
        "colab": {
          "base_uri": "https://localhost:8080/"
        },
        "id": "sJseJY3z_Kem",
        "outputId": "aab3b89e-712e-4bd1-aa5e-2200b81305b2"
      },
      "execution_count": 15,
      "outputs": [
        {
          "output_type": "stream",
          "name": "stdout",
          "text": [
            "2025-01-13 14:26:28.342254\n",
            "Total file size: 14944332 bytes\n",
            "Downloaded Adrienne.mp4\n",
            "Total file size: 10174706 bytes\n",
            "Downloaded Pizigani_1367_Chart_10MB.jpg\n",
            "Total file size: 8414449 bytes\n",
            "Downloaded Kalimba.mp3\n",
            "Total file size: 265136 bytes\n",
            "Downloaded screen_matrix.jpeg\n",
            "Total file size: 69856 bytes\n",
            "Downloaded demo.zip\n",
            "2025-01-13 14:26:29.316053\n",
            "0:00:00.973799\n"
          ]
        }
      ]
    },
    {
      "cell_type": "markdown",
      "source": [
        "# Conceitos chaves"
      ],
      "metadata": {
        "id": "WPga3YU_7TC8"
      }
    },
    {
      "cell_type": "markdown",
      "source": [
        "## Chamadas síncronas"
      ],
      "metadata": {
        "id": "iO1ZVK294c1w"
      }
    },
    {
      "cell_type": "code",
      "source": [
        "import time\n",
        "\n",
        "def task1_sync():\n",
        "  \"\"\"Simulates a long-running task that takes 2 seconds.\"\"\"\n",
        "  print(\"Task 1 started\")\n",
        "  print(datetime.datetime.now())\n",
        "  time.sleep(2)  # Simulate work for 2 seconds\n",
        "  print(\"Task 1 finished\")\n",
        "  print(datetime.datetime.now())\n",
        "\n",
        "def task2_sync():\n",
        "  \"\"\"Simulates a shorter task that takes 1 second.\"\"\"\n",
        "  print(\"Task 2 started\")\n",
        "  print(datetime.datetime.now())\n",
        "  time.sleep(1)  # Simulate work for 1 second\n",
        "  print(\"Task 2 finished\")\n",
        "  print(datetime.datetime.now())\n",
        "\n",
        "def run_tasks_sinc():\n",
        "  \"\"\"Runs two tasks concurrently using asyncio.\"\"\"\n",
        "  task1_sync()\n",
        "  task2_sync()\n",
        "\n",
        "  print(\"All tasks finished\")"
      ],
      "metadata": {
        "id": "yxnr6D936UJf"
      },
      "execution_count": 16,
      "outputs": []
    },
    {
      "cell_type": "code",
      "source": [
        "print(\"#\"*50)\n",
        "print(\"Chamada síncrona\")\n",
        "now1 = datetime.datetime.now()\n",
        "print(now1)\n",
        "print(\"-\"*50)\n",
        "\n",
        "run_tasks_sinc()\n",
        "\n",
        "now2 = datetime.datetime.now()\n",
        "print(now2)\n",
        "print(\"-\"*50)\n",
        "print(f\"Tempo total: {now2-now1}\")"
      ],
      "metadata": {
        "colab": {
          "base_uri": "https://localhost:8080/"
        },
        "id": "L3f766mE6oej",
        "outputId": "768f6e7c-e433-42f5-9f7a-a6ae6aa8ce7d"
      },
      "execution_count": 17,
      "outputs": [
        {
          "output_type": "stream",
          "name": "stdout",
          "text": [
            "##################################################\n",
            "Chamada síncrona\n",
            "2025-01-13 14:26:29.353808\n",
            "--------------------------------------------------\n",
            "Task 1 started\n",
            "2025-01-13 14:26:29.355535\n",
            "Task 1 finished\n",
            "2025-01-13 14:26:31.357393\n",
            "Task 2 started\n",
            "2025-01-13 14:26:31.357455\n",
            "Task 2 finished\n",
            "2025-01-13 14:26:32.358374\n",
            "All tasks finished\n",
            "2025-01-13 14:26:32.358670\n",
            "--------------------------------------------------\n",
            "Tempo total: 0:00:03.004862\n"
          ]
        }
      ]
    },
    {
      "cell_type": "markdown",
      "source": [
        "## Chamadas assíncronas"
      ],
      "metadata": {
        "id": "y032Pd2w7Nfv"
      }
    },
    {
      "cell_type": "code",
      "source": [
        "import asyncio\n",
        "\n",
        "async def task1_async():\n",
        "  \"\"\"Simulates a long-running task that takes 2 seconds.\"\"\"\n",
        "  print(\"Task 1 started\")\n",
        "  print(datetime.datetime.now())\n",
        "  await asyncio.sleep(2)  # Simulate work for 2 seconds\n",
        "  print(\"Task 1 finished\")\n",
        "  print(datetime.datetime.now())\n",
        "\n",
        "async def task2_async():\n",
        "  \"\"\"Simulates a shorter task that takes 1 second.\"\"\"\n",
        "  print(\"Task 2 started\")\n",
        "  print(datetime.datetime.now())\n",
        "  await asyncio.sleep(1)  # Simulate work for 1 second\n",
        "  print(\"Task 2 finished\")\n",
        "  print(datetime.datetime.now())\n",
        "\n",
        "async def run_tasks_asinc():\n",
        "  \"\"\"Runs two tasks concurrently using asyncio.\"\"\"\n",
        "  task1_future = asyncio.create_task(task1_async())\n",
        "  task2_future = asyncio.create_task(task2_async())\n",
        "\n",
        "  # Wait for both tasks to complete concurrently (non-blocking)\n",
        "  await task1_future\n",
        "  await task2_future\n",
        "\n",
        "  print(\"All tasks finished\")\n",
        "\n",
        "# Run the event loop in terminal\n",
        "#loop = asyncio.get_event_loop()\n",
        "#loop.run_until_complete(run_tasks())\n",
        "#loop.close()"
      ],
      "metadata": {
        "id": "xRYO6p6f4eXo"
      },
      "execution_count": 18,
      "outputs": []
    },
    {
      "cell_type": "code",
      "source": [
        "async def call_run_tasks():\n",
        "  await run_tasks_asinc()\n",
        "\n",
        "print(\"#\"*50)\n",
        "print(\"Chamada assíncrona\")\n",
        "now1 = datetime.datetime.now()\n",
        "print(now1)\n",
        "print(\"-\"*50)\n",
        "\n",
        "await call_run_tasks()\n",
        "\n",
        "now2 = datetime.datetime.now()\n",
        "print(now2)\n",
        "print(\"-\"*50)\n",
        "print(f\"Tempo total: {now2-now1}\")"
      ],
      "metadata": {
        "colab": {
          "base_uri": "https://localhost:8080/"
        },
        "id": "VX3n1XgB47vU",
        "outputId": "e7822916-c32e-40c3-9836-a74f5812e72f"
      },
      "execution_count": 19,
      "outputs": [
        {
          "output_type": "stream",
          "name": "stdout",
          "text": [
            "##################################################\n",
            "Chamada assíncrona\n",
            "2025-01-13 14:26:32.413042\n",
            "--------------------------------------------------\n",
            "Task 1 started\n",
            "2025-01-13 14:26:32.424320\n",
            "Task 2 started\n",
            "2025-01-13 14:26:32.425335\n",
            "Task 2 finished\n",
            "2025-01-13 14:26:33.429250\n",
            "Task 1 finished\n",
            "2025-01-13 14:26:34.426474\n",
            "All tasks finished\n",
            "2025-01-13 14:26:34.426812\n",
            "--------------------------------------------------\n",
            "Tempo total: 0:00:02.013770\n"
          ]
        }
      ]
    },
    {
      "cell_type": "markdown",
      "source": [
        "# Usando threads"
      ],
      "metadata": {
        "id": "GeGwO3nn76IU"
      }
    },
    {
      "cell_type": "code",
      "source": [
        "import threading\n",
        "import time\n",
        "\n",
        "def task1():\n",
        "  \"\"\"Simulates a long-running task (2 seconds) using threading.\"\"\"\n",
        "  print(\"Task 1 started (Thread)\")\n",
        "  print(datetime.datetime.now())\n",
        "  time.sleep(2)  # Simulate work for 2 seconds\n",
        "  print(\"Task 1 finished (Thread)\")\n",
        "  print(datetime.datetime.now())\n",
        "\n",
        "def task2():\n",
        "  \"\"\"Simulates a shorter task (1 second) using threading.\"\"\"\n",
        "  print(\"Task 2 started (Thread)\")\n",
        "  print(datetime.datetime.now())\n",
        "  time.sleep(1)  # Simulate work for 1 second\n",
        "  print(\"Task 2 finished (Thread)\")\n",
        "  print(datetime.datetime.now())\n",
        "\n",
        "def run_tasks_via_threads():\n",
        "  \"\"\"Runs two tasks concurrently using threads.\"\"\"\n",
        "  thread1 = threading.Thread(target=task1)\n",
        "  thread2 = threading.Thread(target=task2)\n",
        "\n",
        "  # Start threads\n",
        "  thread1.start()\n",
        "  thread2.start()\n",
        "\n",
        "  # Wait for threads to finish\n",
        "  thread1.join()\n",
        "  thread2.join()\n",
        "\n",
        "  print(\"All tasks finished (Threads)\")"
      ],
      "metadata": {
        "id": "wAEJ0xay4umq"
      },
      "execution_count": 20,
      "outputs": []
    },
    {
      "cell_type": "code",
      "source": [
        "print(\"#\"*50)\n",
        "print(\"Chamada assíncrona usando Threads\")\n",
        "now1 = datetime.datetime.now()\n",
        "print(now1)\n",
        "print(\"-\"*50)\n",
        "\n",
        "run_tasks_via_threads()\n",
        "\n",
        "now2 = datetime.datetime.now()\n",
        "print(now2)\n",
        "print(\"-\"*50)\n",
        "print(f\"Tempo total: {now2-now1}\")"
      ],
      "metadata": {
        "colab": {
          "base_uri": "https://localhost:8080/"
        },
        "id": "MRc1rVuG8Ca7",
        "outputId": "bde2afd1-f68c-4c81-a56a-c96ab15e0c15"
      },
      "execution_count": 21,
      "outputs": [
        {
          "output_type": "stream",
          "name": "stdout",
          "text": [
            "##################################################\n",
            "Chamada assíncrona usando Threads\n",
            "2025-01-13 14:26:34.520739\n",
            "--------------------------------------------------\n",
            "Task 1 started (Thread)\n",
            "2025-01-13 14:26:34.527608\n",
            "Task 2 started (Thread)\n",
            "2025-01-13 14:26:34.543504\n",
            "Task 2 finished (Thread)\n",
            "2025-01-13 14:26:35.544396\n",
            "Task 1 finished (Thread)\n",
            "2025-01-13 14:26:36.531470\n",
            "All tasks finished (Threads)\n",
            "2025-01-13 14:26:36.532000\n",
            "--------------------------------------------------\n",
            "Tempo total: 0:00:02.011261\n"
          ]
        }
      ]
    },
    {
      "cell_type": "code",
      "source": [],
      "metadata": {
        "id": "a5CdJvDu8Xih"
      },
      "execution_count": 21,
      "outputs": []
    }
  ]
}
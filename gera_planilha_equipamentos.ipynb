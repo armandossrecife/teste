{
  "nbformat": 4,
  "nbformat_minor": 0,
  "metadata": {
    "colab": {
      "provenance": [],
      "authorship_tag": "ABX9TyOYzgpBR4snKROyU/nuzqLg",
      "include_colab_link": true
    },
    "kernelspec": {
      "name": "python3",
      "display_name": "Python 3"
    },
    "language_info": {
      "name": "python"
    }
  },
  "cells": [
    {
      "cell_type": "markdown",
      "metadata": {
        "id": "view-in-github",
        "colab_type": "text"
      },
      "source": [
        "<a href=\"https://colab.research.google.com/github/armandossrecife/teste/blob/main/gera_planilha_equipamentos.ipynb\" target=\"_parent\"><img src=\"https://colab.research.google.com/assets/colab-badge.svg\" alt=\"Open In Colab\"/></a>"
      ]
    },
    {
      "cell_type": "code",
      "execution_count": 12,
      "metadata": {
        "id": "zzVdd0yj-cpN"
      },
      "outputs": [],
      "source": [
        "import csv\n",
        "from datetime import datetime, timedelta\n",
        "import random\n",
        "\n",
        "# Função para gerar uma data aleatória no passado\n",
        "def random_past_date(days_ago):\n",
        "    return (datetime.now() - timedelta(days=random.randint(0, days_ago))).strftime('%Y-%m-%d')\n",
        "\n",
        "# Escrevendo os dados no arquivo CSV\n",
        "def escreve_dados_em_csv(csv_file, product_data, fieldnames=[\"id\", \"name\", \"maintenance_interval_days\", \"last_maintenance_date\"]):\n",
        "  with open(csv_file, mode='w', newline='') as file:\n",
        "      writer = csv.DictWriter(file, fieldnames)\n",
        "      writer.writeheader()\n",
        "      for product in product_data:\n",
        "          writer.writerow(product)"
      ]
    },
    {
      "cell_type": "code",
      "source": [
        "# Dados dos equipamentos\n",
        "equipment_data = [\n",
        "    {\"id\": 1, \"name\": \"Turbina\", \"maintenance_interval_days\": 30, \"last_maintenance_date\": random_past_date(100)},\n",
        "    {\"id\": 2, \"name\": \"Gerador\", \"maintenance_interval_days\": 60, \"last_maintenance_date\": random_past_date(200)},\n",
        "    {\"id\": 3, \"name\": \"Bomba\", \"maintenance_interval_days\": 90, \"last_maintenance_date\": random_past_date(300)},\n",
        "    {\"id\": 4, \"name\": \"Compressor\", \"maintenance_interval_days\": 45, \"last_maintenance_date\": random_past_date(150)},\n",
        "    {\"id\": 5, \"name\": \"Caldeira\", \"maintenance_interval_days\": 120, \"last_maintenance_date\": random_past_date(400)}\n",
        "]\n",
        "\n",
        "# Nome do arquivo CSV\n",
        "csv_file = 'equipment_data.csv'\n",
        "\n",
        "escreve_dados_em_csv(csv_file, equipment_data)\n",
        "print(f\"Dados de equipamentos salvos em {csv_file}\")"
      ],
      "metadata": {
        "colab": {
          "base_uri": "https://localhost:8080/"
        },
        "id": "9UsL5j0U-0HY",
        "outputId": "37b99d9b-4999-4309-c3a5-38749c56f17d"
      },
      "execution_count": 13,
      "outputs": [
        {
          "output_type": "stream",
          "name": "stdout",
          "text": [
            "Dados de equipamentos salvos em equipment_data.csv\n"
          ]
        }
      ]
    }
  ]
}
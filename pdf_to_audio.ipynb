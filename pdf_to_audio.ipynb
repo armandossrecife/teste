{
  "nbformat": 4,
  "nbformat_minor": 0,
  "metadata": {
    "colab": {
      "provenance": [],
      "authorship_tag": "ABX9TyPbHIjbI7oxWJjiyav6Rhz4",
      "include_colab_link": true
    },
    "kernelspec": {
      "name": "python3",
      "display_name": "Python 3"
    },
    "language_info": {
      "name": "python"
    }
  },
  "cells": [
    {
      "cell_type": "markdown",
      "metadata": {
        "id": "view-in-github",
        "colab_type": "text"
      },
      "source": [
        "<a href=\"https://colab.research.google.com/github/armandossrecife/teste/blob/main/pdf_to_audio.ipynb\" target=\"_parent\"><img src=\"https://colab.research.google.com/assets/colab-badge.svg\" alt=\"Open In Colab\"/></a>"
      ]
    },
    {
      "cell_type": "code",
      "source": [
        "!pip install PyPDF2==3.0.0"
      ],
      "metadata": {
        "id": "rujSvR0f0GSa"
      },
      "execution_count": null,
      "outputs": []
    },
    {
      "cell_type": "code",
      "source": [
        "!pip install gTTS"
      ],
      "metadata": {
        "colab": {
          "base_uri": "https://localhost:8080/"
        },
        "id": "lw2-_90b6tj2",
        "outputId": "d673500e-7d43-445c-ca5b-d5fa12d8b40d"
      },
      "execution_count": 22,
      "outputs": [
        {
          "output_type": "stream",
          "name": "stdout",
          "text": [
            "Looking in indexes: https://pypi.org/simple, https://us-python.pkg.dev/colab-wheels/public/simple/\n",
            "Collecting gTTS\n",
            "  Downloading gTTS-2.3.1-py3-none-any.whl (28 kB)\n",
            "Requirement already satisfied: requests<3,>=2.27 in /usr/local/lib/python3.9/dist-packages (from gTTS) (2.27.1)\n",
            "Requirement already satisfied: click<8.2,>=7.1 in /usr/local/lib/python3.9/dist-packages (from gTTS) (8.1.3)\n",
            "Requirement already satisfied: certifi>=2017.4.17 in /usr/local/lib/python3.9/dist-packages (from requests<3,>=2.27->gTTS) (2022.12.7)\n",
            "Requirement already satisfied: charset-normalizer~=2.0.0 in /usr/local/lib/python3.9/dist-packages (from requests<3,>=2.27->gTTS) (2.0.12)\n",
            "Requirement already satisfied: urllib3<1.27,>=1.21.1 in /usr/local/lib/python3.9/dist-packages (from requests<3,>=2.27->gTTS) (1.26.15)\n",
            "Requirement already satisfied: idna<4,>=2.5 in /usr/local/lib/python3.9/dist-packages (from requests<3,>=2.27->gTTS) (3.4)\n",
            "Installing collected packages: gTTS\n",
            "Successfully installed gTTS-2.3.1\n"
          ]
        }
      ]
    },
    {
      "cell_type": "code",
      "source": [
        "!pip install pydub"
      ],
      "metadata": {
        "colab": {
          "base_uri": "https://localhost:8080/"
        },
        "id": "c5wFZGNt6wog",
        "outputId": "f5fea78f-4195-457b-85c4-fdaecf418edb"
      },
      "execution_count": 23,
      "outputs": [
        {
          "output_type": "stream",
          "name": "stdout",
          "text": [
            "Looking in indexes: https://pypi.org/simple, https://us-python.pkg.dev/colab-wheels/public/simple/\n",
            "Collecting pydub\n",
            "  Downloading pydub-0.25.1-py2.py3-none-any.whl (32 kB)\n",
            "Installing collected packages: pydub\n",
            "Successfully installed pydub-0.25.1\n"
          ]
        }
      ]
    },
    {
      "cell_type": "code",
      "execution_count": 3,
      "metadata": {
        "id": "uHOxCqZ4zvwR"
      },
      "outputs": [],
      "source": [
        "import PyPDF2"
      ]
    },
    {
      "cell_type": "code",
      "source": [
        "import io\n",
        "from gtts import gTTS\n",
        "from pydub import AudioSegment"
      ],
      "metadata": {
        "id": "DEE8njt460rw"
      },
      "execution_count": 24,
      "outputs": []
    },
    {
      "cell_type": "code",
      "source": [
        "def checa_qtd_paginas(nome_arquivo='proposta.pdf'):\n",
        "  qtd_paginas = 0\n",
        "  try:\n",
        "    with open(nome_arquivo, 'rb') as pdf_file:\n",
        "      pdf_reader = PyPDF2.PdfReader(pdf_file)\n",
        "      qtd_paginas = len(pdf_reader.pages)\n",
        "  except Exception as ex:\n",
        "    print(f'Erro: {str(ex)}')\n",
        "  return qtd_paginas\n",
        "\n",
        "def cria_arquivo_texto(nome_arquivo, conteudo):\n",
        "  try:\n",
        "    with open(nome_arquivo, 'w') as f_texto:\n",
        "      f_texto.write(conteudo)\n",
        "  except Exception as ex:\n",
        "    print(f'Erro: {str(ex)}')\n",
        "\n",
        "def gera_arquivo_por_pagina(nome_arquivo='proposta.pdf'):\n",
        "  lista = []\n",
        "  try:\n",
        "    with open(nome_arquivo, 'rb') as pdf_file:\n",
        "        pdf_reader = PyPDF2.PdfReader(pdf_file)\n",
        "        text = ''\n",
        "        # iterate over each page\n",
        "        for page_num in range(len(pdf_reader.pages)):\n",
        "            # extract the text from the page\n",
        "            page = pdf_reader.pages[page_num]\n",
        "            text += page.extract_text()\n",
        "            f_name = 'arquivo_' + str(page_num+1) + '.txt'\n",
        "            cria_arquivo_texto(f_name, text)\n",
        "            print(f'Arquivo {f_name} criado com sucesso!')\n",
        "            lista.append(f_name)\n",
        "            text = ''\n",
        "  except Exception as ex:\n",
        "    print(f'Erro: {str(ex)}')\n",
        "  return lista"
      ],
      "metadata": {
        "id": "ryGoldIA2wHl"
      },
      "execution_count": 29,
      "outputs": []
    },
    {
      "cell_type": "code",
      "source": [
        "def texto_para_audio(my_text, my_file):\n",
        "  audio_data = None\n",
        "  try:\n",
        "    # Create a BytesIO object to hold the audio data\n",
        "    audio_data = io.BytesIO()\n",
        "    # Create a gTTS object and save the audio data to the BytesIO object\n",
        "    tts = gTTS(text=my_text, lang='pt')\n",
        "    tts.write_to_fp(audio_data)\n",
        "  except Exception as ex:\n",
        "    print(f'Erro ao criar áudio: {str(ex)}')\n",
        "\n",
        "  try:\n",
        "    # Convert the BytesIO object to bytes and write it to a file\n",
        "    with open(my_file, 'wb') as f:\n",
        "        f.write(audio_data.getbuffer())\n",
        "  except Exception as ex:\n",
        "    print('Erro ao salvar arquivo de áudio')\n",
        "\n",
        "def acelera_arquivo_audio(arquivo_audio, velocidade, formato='mp3'):\n",
        "  sound = AudioSegment.from_mp3(arquivo_audio)\n",
        "\n",
        "  # Increase the speed by velocidade x\n",
        "  faster_sound = sound.speedup(playback_speed=velocidade)\n",
        "  # Export the faster MP3 file\n",
        "  faster_sound.export(arquivo_audio, format=formato)\n",
        "\n",
        "def converte_lista_texto(lista_texto):\n",
        "  print('Convertendo a lista de textos')\n",
        "  try: \n",
        "    for i, each in enumerate(lista_texto):\n",
        "      nome = 'f' + '_'+ str(i+1) + '.' + 'mp3'\n",
        "      texto_para_audio(my_text=each, my_file=nome)\n",
        "      acelera_arquivo_audio(arquivo_audio=nome, velocidade=1.4, formato='mp3')\n",
        "      print('Conversão concluída!')\n",
        "  except Exception as ex:\n",
        "    print(f'Erro ao converter lista de textos - {str(ex)}')\n",
        "\n",
        "def converte_lista_arquivos_para_texto(lista_arquivos):\n",
        "  try:\n",
        "    print('Convertendo lista de arquivos de texto para áudios')\n",
        "    for i, each in enumerate(lista_arquivos):\n",
        "      print(each)\n",
        "      with open(each, 'r') as f_arquivo:\n",
        "        linhas = f_arquivo.read()\n",
        "        nome = 'f' + '_'+ str(i+1) + '.' + 'mp3'\n",
        "        print(linhas)\n",
        "        texto_para_audio(my_text=linhas, my_file=nome)\n",
        "        acelera_arquivo_audio(arquivo_audio=nome, velocidade=1.4, formato='mp3')\n",
        "        print('Conversão concluída!')\n",
        "  except Exception as ex:\n",
        "    print(f'Erro: {str(ex)}')"
      ],
      "metadata": {
        "id": "8lVIAjws67pj"
      },
      "execution_count": 44,
      "outputs": []
    },
    {
      "cell_type": "code",
      "source": [
        "print(checa_qtd_paginas(nome_arquivo='proposta.pdf'))"
      ],
      "metadata": {
        "colab": {
          "base_uri": "https://localhost:8080/"
        },
        "id": "Aukz_wpZ3YvG",
        "outputId": "c1034127-ac0c-4c53-a780-f33582d84553"
      },
      "execution_count": 45,
      "outputs": [
        {
          "output_type": "stream",
          "name": "stdout",
          "text": [
            "139\n"
          ]
        }
      ]
    },
    {
      "cell_type": "code",
      "source": [
        "my_lista = gera_arquivo_por_pagina(nome_arquivo='proposta.pdf')"
      ],
      "metadata": {
        "colab": {
          "base_uri": "https://localhost:8080/"
        },
        "id": "OcL2wsyCz6d4",
        "outputId": "704c6f25-3152-421b-a308-16120334dc5e"
      },
      "execution_count": 46,
      "outputs": [
        {
          "output_type": "stream",
          "name": "stdout",
          "text": [
            "Arquivo arquivo_1.txt criado com sucesso!\n",
            "Arquivo arquivo_2.txt criado com sucesso!\n",
            "Arquivo arquivo_3.txt criado com sucesso!\n",
            "Arquivo arquivo_4.txt criado com sucesso!\n",
            "Arquivo arquivo_5.txt criado com sucesso!\n",
            "Arquivo arquivo_6.txt criado com sucesso!\n",
            "Arquivo arquivo_7.txt criado com sucesso!\n",
            "Arquivo arquivo_8.txt criado com sucesso!\n",
            "Arquivo arquivo_9.txt criado com sucesso!\n",
            "Arquivo arquivo_10.txt criado com sucesso!\n",
            "Arquivo arquivo_11.txt criado com sucesso!\n",
            "Arquivo arquivo_12.txt criado com sucesso!\n",
            "Arquivo arquivo_13.txt criado com sucesso!\n",
            "Arquivo arquivo_14.txt criado com sucesso!\n",
            "Arquivo arquivo_15.txt criado com sucesso!\n",
            "Arquivo arquivo_16.txt criado com sucesso!\n",
            "Arquivo arquivo_17.txt criado com sucesso!\n",
            "Arquivo arquivo_18.txt criado com sucesso!\n",
            "Arquivo arquivo_19.txt criado com sucesso!\n",
            "Arquivo arquivo_20.txt criado com sucesso!\n",
            "Arquivo arquivo_21.txt criado com sucesso!\n",
            "Arquivo arquivo_22.txt criado com sucesso!\n",
            "Arquivo arquivo_23.txt criado com sucesso!\n",
            "Arquivo arquivo_24.txt criado com sucesso!\n",
            "Arquivo arquivo_25.txt criado com sucesso!\n",
            "Arquivo arquivo_26.txt criado com sucesso!\n",
            "Arquivo arquivo_27.txt criado com sucesso!\n",
            "Arquivo arquivo_28.txt criado com sucesso!\n",
            "Arquivo arquivo_29.txt criado com sucesso!\n",
            "Arquivo arquivo_30.txt criado com sucesso!\n",
            "Arquivo arquivo_31.txt criado com sucesso!\n",
            "Arquivo arquivo_32.txt criado com sucesso!\n",
            "Arquivo arquivo_33.txt criado com sucesso!\n",
            "Arquivo arquivo_34.txt criado com sucesso!\n",
            "Arquivo arquivo_35.txt criado com sucesso!\n",
            "Arquivo arquivo_36.txt criado com sucesso!\n",
            "Arquivo arquivo_37.txt criado com sucesso!\n",
            "Arquivo arquivo_38.txt criado com sucesso!\n",
            "Arquivo arquivo_39.txt criado com sucesso!\n",
            "Arquivo arquivo_40.txt criado com sucesso!\n",
            "Arquivo arquivo_41.txt criado com sucesso!\n",
            "Arquivo arquivo_42.txt criado com sucesso!\n",
            "Arquivo arquivo_43.txt criado com sucesso!\n",
            "Arquivo arquivo_44.txt criado com sucesso!\n",
            "Arquivo arquivo_45.txt criado com sucesso!\n",
            "Arquivo arquivo_46.txt criado com sucesso!\n",
            "Arquivo arquivo_47.txt criado com sucesso!\n",
            "Arquivo arquivo_48.txt criado com sucesso!\n",
            "Arquivo arquivo_49.txt criado com sucesso!\n",
            "Arquivo arquivo_50.txt criado com sucesso!\n",
            "Arquivo arquivo_51.txt criado com sucesso!\n",
            "Arquivo arquivo_52.txt criado com sucesso!\n",
            "Arquivo arquivo_53.txt criado com sucesso!\n",
            "Arquivo arquivo_54.txt criado com sucesso!\n",
            "Arquivo arquivo_55.txt criado com sucesso!\n",
            "Arquivo arquivo_56.txt criado com sucesso!\n",
            "Arquivo arquivo_57.txt criado com sucesso!\n",
            "Arquivo arquivo_58.txt criado com sucesso!\n",
            "Arquivo arquivo_59.txt criado com sucesso!\n",
            "Arquivo arquivo_60.txt criado com sucesso!\n",
            "Arquivo arquivo_61.txt criado com sucesso!\n",
            "Arquivo arquivo_62.txt criado com sucesso!\n",
            "Arquivo arquivo_63.txt criado com sucesso!\n",
            "Arquivo arquivo_64.txt criado com sucesso!\n",
            "Arquivo arquivo_65.txt criado com sucesso!\n",
            "Arquivo arquivo_66.txt criado com sucesso!\n",
            "Arquivo arquivo_67.txt criado com sucesso!\n",
            "Arquivo arquivo_68.txt criado com sucesso!\n",
            "Arquivo arquivo_69.txt criado com sucesso!\n",
            "Arquivo arquivo_70.txt criado com sucesso!\n",
            "Arquivo arquivo_71.txt criado com sucesso!\n",
            "Arquivo arquivo_72.txt criado com sucesso!\n",
            "Arquivo arquivo_73.txt criado com sucesso!\n",
            "Arquivo arquivo_74.txt criado com sucesso!\n",
            "Arquivo arquivo_75.txt criado com sucesso!\n",
            "Arquivo arquivo_76.txt criado com sucesso!\n",
            "Arquivo arquivo_77.txt criado com sucesso!\n",
            "Arquivo arquivo_78.txt criado com sucesso!\n",
            "Arquivo arquivo_79.txt criado com sucesso!\n",
            "Arquivo arquivo_80.txt criado com sucesso!\n",
            "Arquivo arquivo_81.txt criado com sucesso!\n",
            "Arquivo arquivo_82.txt criado com sucesso!\n",
            "Arquivo arquivo_83.txt criado com sucesso!\n",
            "Arquivo arquivo_84.txt criado com sucesso!\n",
            "Arquivo arquivo_85.txt criado com sucesso!\n",
            "Arquivo arquivo_86.txt criado com sucesso!\n",
            "Arquivo arquivo_87.txt criado com sucesso!\n",
            "Arquivo arquivo_88.txt criado com sucesso!\n",
            "Arquivo arquivo_89.txt criado com sucesso!\n",
            "Arquivo arquivo_90.txt criado com sucesso!\n",
            "Arquivo arquivo_91.txt criado com sucesso!\n",
            "Arquivo arquivo_92.txt criado com sucesso!\n",
            "Arquivo arquivo_93.txt criado com sucesso!\n",
            "Arquivo arquivo_94.txt criado com sucesso!\n",
            "Arquivo arquivo_95.txt criado com sucesso!\n",
            "Arquivo arquivo_96.txt criado com sucesso!\n",
            "Arquivo arquivo_97.txt criado com sucesso!\n",
            "Arquivo arquivo_98.txt criado com sucesso!\n",
            "Arquivo arquivo_99.txt criado com sucesso!\n",
            "Arquivo arquivo_100.txt criado com sucesso!\n",
            "Arquivo arquivo_101.txt criado com sucesso!\n",
            "Arquivo arquivo_102.txt criado com sucesso!\n",
            "Arquivo arquivo_103.txt criado com sucesso!\n",
            "Arquivo arquivo_104.txt criado com sucesso!\n",
            "Arquivo arquivo_105.txt criado com sucesso!\n",
            "Arquivo arquivo_106.txt criado com sucesso!\n",
            "Arquivo arquivo_107.txt criado com sucesso!\n",
            "Arquivo arquivo_108.txt criado com sucesso!\n",
            "Arquivo arquivo_109.txt criado com sucesso!\n",
            "Arquivo arquivo_110.txt criado com sucesso!\n",
            "Arquivo arquivo_111.txt criado com sucesso!\n",
            "Arquivo arquivo_112.txt criado com sucesso!\n",
            "Arquivo arquivo_113.txt criado com sucesso!\n",
            "Arquivo arquivo_114.txt criado com sucesso!\n",
            "Arquivo arquivo_115.txt criado com sucesso!\n",
            "Arquivo arquivo_116.txt criado com sucesso!\n",
            "Arquivo arquivo_117.txt criado com sucesso!\n",
            "Arquivo arquivo_118.txt criado com sucesso!\n",
            "Arquivo arquivo_119.txt criado com sucesso!\n",
            "Arquivo arquivo_120.txt criado com sucesso!\n",
            "Arquivo arquivo_121.txt criado com sucesso!\n",
            "Arquivo arquivo_122.txt criado com sucesso!\n",
            "Arquivo arquivo_123.txt criado com sucesso!\n",
            "Arquivo arquivo_124.txt criado com sucesso!\n",
            "Arquivo arquivo_125.txt criado com sucesso!\n",
            "Arquivo arquivo_126.txt criado com sucesso!\n",
            "Arquivo arquivo_127.txt criado com sucesso!\n",
            "Arquivo arquivo_128.txt criado com sucesso!\n",
            "Arquivo arquivo_129.txt criado com sucesso!\n",
            "Arquivo arquivo_130.txt criado com sucesso!\n",
            "Arquivo arquivo_131.txt criado com sucesso!\n",
            "Arquivo arquivo_132.txt criado com sucesso!\n",
            "Arquivo arquivo_133.txt criado com sucesso!\n",
            "Arquivo arquivo_134.txt criado com sucesso!\n",
            "Arquivo arquivo_135.txt criado com sucesso!\n",
            "Arquivo arquivo_136.txt criado com sucesso!\n",
            "Arquivo arquivo_137.txt criado com sucesso!\n",
            "Arquivo arquivo_138.txt criado com sucesso!\n",
            "Arquivo arquivo_139.txt criado com sucesso!\n"
          ]
        }
      ]
    },
    {
      "cell_type": "code",
      "source": [
        "print(my_lista)"
      ],
      "metadata": {
        "colab": {
          "base_uri": "https://localhost:8080/"
        },
        "id": "VmZKbbEP9GsF",
        "outputId": "f7e3d493-2088-468b-d2fe-4c69a52e9ad7"
      },
      "execution_count": 47,
      "outputs": [
        {
          "output_type": "stream",
          "name": "stdout",
          "text": [
            "['arquivo_1.txt', 'arquivo_2.txt', 'arquivo_3.txt', 'arquivo_4.txt', 'arquivo_5.txt', 'arquivo_6.txt', 'arquivo_7.txt', 'arquivo_8.txt', 'arquivo_9.txt', 'arquivo_10.txt', 'arquivo_11.txt', 'arquivo_12.txt', 'arquivo_13.txt', 'arquivo_14.txt', 'arquivo_15.txt', 'arquivo_16.txt', 'arquivo_17.txt', 'arquivo_18.txt', 'arquivo_19.txt', 'arquivo_20.txt', 'arquivo_21.txt', 'arquivo_22.txt', 'arquivo_23.txt', 'arquivo_24.txt', 'arquivo_25.txt', 'arquivo_26.txt', 'arquivo_27.txt', 'arquivo_28.txt', 'arquivo_29.txt', 'arquivo_30.txt', 'arquivo_31.txt', 'arquivo_32.txt', 'arquivo_33.txt', 'arquivo_34.txt', 'arquivo_35.txt', 'arquivo_36.txt', 'arquivo_37.txt', 'arquivo_38.txt', 'arquivo_39.txt', 'arquivo_40.txt', 'arquivo_41.txt', 'arquivo_42.txt', 'arquivo_43.txt', 'arquivo_44.txt', 'arquivo_45.txt', 'arquivo_46.txt', 'arquivo_47.txt', 'arquivo_48.txt', 'arquivo_49.txt', 'arquivo_50.txt', 'arquivo_51.txt', 'arquivo_52.txt', 'arquivo_53.txt', 'arquivo_54.txt', 'arquivo_55.txt', 'arquivo_56.txt', 'arquivo_57.txt', 'arquivo_58.txt', 'arquivo_59.txt', 'arquivo_60.txt', 'arquivo_61.txt', 'arquivo_62.txt', 'arquivo_63.txt', 'arquivo_64.txt', 'arquivo_65.txt', 'arquivo_66.txt', 'arquivo_67.txt', 'arquivo_68.txt', 'arquivo_69.txt', 'arquivo_70.txt', 'arquivo_71.txt', 'arquivo_72.txt', 'arquivo_73.txt', 'arquivo_74.txt', 'arquivo_75.txt', 'arquivo_76.txt', 'arquivo_77.txt', 'arquivo_78.txt', 'arquivo_79.txt', 'arquivo_80.txt', 'arquivo_81.txt', 'arquivo_82.txt', 'arquivo_83.txt', 'arquivo_84.txt', 'arquivo_85.txt', 'arquivo_86.txt', 'arquivo_87.txt', 'arquivo_88.txt', 'arquivo_89.txt', 'arquivo_90.txt', 'arquivo_91.txt', 'arquivo_92.txt', 'arquivo_93.txt', 'arquivo_94.txt', 'arquivo_95.txt', 'arquivo_96.txt', 'arquivo_97.txt', 'arquivo_98.txt', 'arquivo_99.txt', 'arquivo_100.txt', 'arquivo_101.txt', 'arquivo_102.txt', 'arquivo_103.txt', 'arquivo_104.txt', 'arquivo_105.txt', 'arquivo_106.txt', 'arquivo_107.txt', 'arquivo_108.txt', 'arquivo_109.txt', 'arquivo_110.txt', 'arquivo_111.txt', 'arquivo_112.txt', 'arquivo_113.txt', 'arquivo_114.txt', 'arquivo_115.txt', 'arquivo_116.txt', 'arquivo_117.txt', 'arquivo_118.txt', 'arquivo_119.txt', 'arquivo_120.txt', 'arquivo_121.txt', 'arquivo_122.txt', 'arquivo_123.txt', 'arquivo_124.txt', 'arquivo_125.txt', 'arquivo_126.txt', 'arquivo_127.txt', 'arquivo_128.txt', 'arquivo_129.txt', 'arquivo_130.txt', 'arquivo_131.txt', 'arquivo_132.txt', 'arquivo_133.txt', 'arquivo_134.txt', 'arquivo_135.txt', 'arquivo_136.txt', 'arquivo_137.txt', 'arquivo_138.txt', 'arquivo_139.txt']\n"
          ]
        }
      ]
    },
    {
      "cell_type": "code",
      "source": [
        "converte_lista_arquivos_para_texto(my_lista)"
      ],
      "metadata": {
        "id": "DfHWvsae0VGM"
      },
      "execution_count": null,
      "outputs": []
    }
  ]
}
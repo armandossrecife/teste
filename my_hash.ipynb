{
  "nbformat": 4,
  "nbformat_minor": 0,
  "metadata": {
    "colab": {
      "provenance": [],
      "authorship_tag": "ABX9TyPVDTd6k8uDNELad8J3h5+l",
      "include_colab_link": true
    },
    "kernelspec": {
      "name": "python3",
      "display_name": "Python 3"
    },
    "language_info": {
      "name": "python"
    }
  },
  "cells": [
    {
      "cell_type": "markdown",
      "metadata": {
        "id": "view-in-github",
        "colab_type": "text"
      },
      "source": [
        "<a href=\"https://colab.research.google.com/github/armandossrecife/teste/blob/main/my_hash.ipynb\" target=\"_parent\"><img src=\"https://colab.research.google.com/assets/colab-badge.svg\" alt=\"Open In Colab\"/></a>"
      ]
    },
    {
      "cell_type": "code",
      "execution_count": 2,
      "metadata": {
        "id": "RS8u7e72d4rv"
      },
      "outputs": [],
      "source": [
        "import hashlib"
      ]
    },
    {
      "cell_type": "code",
      "source": [
        "# 1. Conteúdo do texto original\n",
        "text = \"This is the text to be hashed.\"\n",
        "\n",
        "# 2. Faz o encode (em bytes) do conteudo texto original\n",
        "# Encode the text as bytes (optional for Python 3, necessary for Python 2)\n",
        "encoded_text = text.encode()\n",
        "\n",
        "# 3. Cria um objeto hash baseado em um algoritmo\n",
        "# Create a SHA-256 (Secure Hash Algorithm) hash object\n",
        "hasher = hashlib.sha256()\n",
        "\n",
        "# 4. Faz um mapa de caracteristicas do conteudo do texto\n",
        "# Update the hasher with the encoded text\n",
        "hasher.update(encoded_text)\n",
        "\n",
        "# 5. Recupera o codigo unico gerado depois do mapemaneto de caracteristicas unicas do conteudo do texto\n",
        "# Escolha o tipo de formato para gerar a assinatura, por exemplo em Hexadecimal (01234567890ABCEDF) Base-16\n",
        "# Get the hash digest in hexadecimal format\n",
        "hash_value = hasher.hexdigest()\n",
        "\n",
        "print(f\"SHA-256 hash: {hash_value}\")"
      ],
      "metadata": {
        "colab": {
          "base_uri": "https://localhost:8080/"
        },
        "id": "uFHF1K34eHXF",
        "outputId": "08b048fc-d5c2-4213-e8dd-9d4d8ca17252"
      },
      "execution_count": 3,
      "outputs": [
        {
          "output_type": "stream",
          "name": "stdout",
          "text": [
            "SHA-256 hash: 6e99e742c652255098e9101f849c14a50e66a18d300fb9e86cfc7b211dbba61c\n"
          ]
        }
      ]
    },
    {
      "cell_type": "code",
      "source": [
        "# MD5\n",
        "result1 = hashlib.md5(b\"Test password\").hexdigest()\n",
        "print(result1)\n",
        "\n",
        "test_str = \"Satyam\"\n",
        "result2 = hashlib.sha256(test_str.encode())\n",
        "print(result2.hexdigest())"
      ],
      "metadata": {
        "colab": {
          "base_uri": "https://localhost:8080/"
        },
        "id": "nSVF90x-YI2H",
        "outputId": "062ec5e6-15e1-4d5e-eeb3-97cc80877077"
      },
      "execution_count": 38,
      "outputs": [
        {
          "output_type": "stream",
          "name": "stdout",
          "text": [
            "ffe24c9204d65518429aa701f3a6bdc5\n",
            "48e1d615a3a2f971b5c36895b037c8d357d3bbd6badc311ad7fded517e943679\n"
          ]
        }
      ]
    },
    {
      "cell_type": "code",
      "source": [
        "def calculate_file_hash(filename, hash_algorithm=\"sha256\"):\n",
        "  \"\"\"Calculates the hash of a file using the specified algorithm.\n",
        "\n",
        "  Args:\n",
        "      filename: The path to the file.\n",
        "      hash_algorithm: The hashing algorithm to use (default: sha256).\n",
        "\n",
        "  Returns:\n",
        "      The hexdigest of the file's hash.\n",
        "  \"\"\"\n",
        "  h = hashlib.new(hash_algorithm)\n",
        "  with open(filename, \"rb\") as f:\n",
        "    chunk_size = 65536  # Read in chunks of 64KB\n",
        "    for chunk in iter(lambda: f.read(chunk_size), b\"\"):\n",
        "      h.update(chunk)\n",
        "  return h.hexdigest()\n",
        "\n",
        "# Example usage\n",
        "filename = \"my_file.txt\"\n",
        "file_hash = calculate_file_hash(filename)\n",
        "print(f\"SHA256 hash of '{filename}': {file_hash}\")"
      ],
      "metadata": {
        "colab": {
          "base_uri": "https://localhost:8080/"
        },
        "id": "6lilCP_4bXU0",
        "outputId": "078a932a-0ba0-45b8-a4f3-c9eb1530d837"
      },
      "execution_count": 41,
      "outputs": [
        {
          "output_type": "stream",
          "name": "stdout",
          "text": [
            "SHA256 hash of 'my_file.txt': e5eaa6ea33bc209a2203a0a66045da5f7a0cbdb005f964138b49c8685bea6497\n"
          ]
        }
      ]
    },
    {
      "cell_type": "code",
      "source": [
        "def my_hash(conteudo, algoritmo):\n",
        "  if conteudo:\n",
        "    encoded_text = conteudo.encode()\n",
        "    if algoritmo:\n",
        "      if algoritmo == 'SHA-256':\n",
        "        hasher = hashlib.sha256()\n",
        "      elif algoritmo == 'MD5':\n",
        "        hasher = hashlib.md5()\n",
        "      else:\n",
        "        raise ValueError('Algoritmo inválido!')\n",
        "    else:\n",
        "      raise ValueError('Informe o algoritmo de Hash!')\n",
        "    hasher.update(encoded_text)\n",
        "    hash_value = hasher.hexdigest()\n",
        "    return hash_value\n",
        "  else:\n",
        "    return None"
      ],
      "metadata": {
        "id": "75b67zSbeH0b"
      },
      "execution_count": 4,
      "outputs": []
    },
    {
      "cell_type": "code",
      "source": [
        "our_app_iters = 500_000  # Application specific, read above.\n",
        "hash_value = hashlib.pbkdf2_hmac('sha256', b'password', b'bad salt' * 2, our_app_iters)\n",
        "hash_value.hex()"
      ],
      "metadata": {
        "colab": {
          "base_uri": "https://localhost:8080/",
          "height": 35
        },
        "id": "twnSp1dVUKGb",
        "outputId": "d354edab-b236-4251-e917-aec56301b8dc"
      },
      "execution_count": 19,
      "outputs": [
        {
          "output_type": "execute_result",
          "data": {
            "text/plain": [
              "'15530bba69924174860db778f2c6f8104d3aaf9d26241840c8c4a641c8d000a9'"
            ],
            "application/vnd.google.colaboratory.intrinsic+json": {
              "type": "string"
            }
          },
          "metadata": {},
          "execution_count": 19
        }
      ]
    },
    {
      "cell_type": "markdown",
      "source": [
        "```bash\n",
        "hashlib.scrypt(password, *, salt, n, r, p, maxmem=0, dklen=64)\n",
        "```\n",
        "\n",
        "The function provides scrypt password-based key derivation function as defined in RFC 7914.\n",
        "\n",
        "password and salt must be bytes-like objects. Applications and libraries should limit password to a sensible length (e.g. 1024). salt should be about 16 or more bytes from a proper source, e.g. os.urandom().\n",
        "\n",
        "n is the CPU/Memory cost factor, r the block size, p parallelization factor and maxmem limits memory (OpenSSL 1.1.0 defaults to 32 MiB). dklen is the length of the derived key."
      ],
      "metadata": {
        "id": "wKjQ7vCPVS70"
      }
    },
    {
      "cell_type": "code",
      "source": [
        "conteudo = '123456'\n",
        "my_salt = 'aeiou'.encode()\n",
        "my_cpu_cost_factor = 8\n",
        "my_block_size = 64\n",
        "my_parallelization = 16\n",
        "my_password = conteudo.encode()\n",
        "try:\n",
        "  hash_value = hashlib.scrypt(password=my_password, salt=my_salt, n=my_cpu_cost_factor, r=my_block_size, p=my_parallelization, maxmem=0, dklen=64)\n",
        "  hash_decode = hash_value.decode('latin-1')\n",
        "  print(hash_decode)\n",
        "except Exception as ex:\n",
        "  print(f\"{str(ex)}\")"
      ],
      "metadata": {
        "colab": {
          "base_uri": "https://localhost:8080/"
        },
        "id": "oD80Fp9GVQ8Z",
        "outputId": "91fbd71d-b907-41db-f6a2-e4aabd33be67"
      },
      "execution_count": 37,
      "outputs": [
        {
          "output_type": "stream",
          "name": "stdout",
          "text": [
            "1=t\u001eø^Ç\u0015m¤«ª¸\u000b²\u001dA¢¸¡îIÝ\u0006ÿ­\\`HHc°~qéÊ¸ÅÞ¯Ñ©ÖÃ}²\u001efuôM\u0016¸!\u0005µb\n"
          ]
        }
      ]
    },
    {
      "cell_type": "code",
      "source": [
        "my_hash('armando', 'SHA-256')"
      ],
      "metadata": {
        "colab": {
          "base_uri": "https://localhost:8080/",
          "height": 35
        },
        "id": "sa5RNdYPhS9m",
        "outputId": "2ba278da-52b3-4d14-ae74-3bfc0fe34e87"
      },
      "execution_count": 5,
      "outputs": [
        {
          "output_type": "execute_result",
          "data": {
            "text/plain": [
              "'9eb6835cc95b053818b660bd9fc9f092a0b30cef89c1f0f17f469d5caa0ae617'"
            ],
            "application/vnd.google.colaboratory.intrinsic+json": {
              "type": "string"
            }
          },
          "metadata": {},
          "execution_count": 5
        }
      ]
    },
    {
      "cell_type": "code",
      "source": [
        "try:\n",
        "  my_hash('armando', 'SHA-25')\n",
        "except Exception as ex:\n",
        "  print(f\"{str(ex)}\")"
      ],
      "metadata": {
        "colab": {
          "base_uri": "https://localhost:8080/"
        },
        "id": "AqluPo0ciJBy",
        "outputId": "00b89930-5ca8-4e76-ff9b-e0b41ae8a7f0"
      },
      "execution_count": 6,
      "outputs": [
        {
          "output_type": "stream",
          "name": "stdout",
          "text": [
            "Algoritmo inválido!\n"
          ]
        }
      ]
    },
    {
      "cell_type": "code",
      "source": [
        "result1 = hashlib.md5(b\"Maria\").hexdigest()\n",
        "result2 = hashlib.md5(b\"123456\").hexdigest()\n",
        "print(result)"
      ],
      "metadata": {
        "colab": {
          "base_uri": "https://localhost:8080/"
        },
        "id": "jKcw0lgoY1R7",
        "outputId": "cbdadb19-50c4-44e8-f57f-318bb06162b1"
      },
      "execution_count": 29,
      "outputs": [
        {
          "output_type": "stream",
          "name": "stdout",
          "text": [
            "cbc19b07662418d5f14cc55657295924\n"
          ]
        }
      ]
    },
    {
      "cell_type": "code",
      "source": [
        "try:\n",
        "  print(my_hash('Maria', 'MD5'))\n",
        "  print(my_hash('123456', 'MD5'))\n",
        "except Exception as ex:\n",
        "  print(f\"{str(ex)}\")"
      ],
      "metadata": {
        "colab": {
          "base_uri": "https://localhost:8080/"
        },
        "id": "C2anubSNRwE8",
        "outputId": "94ccd017-2467-4cf7-b438-c143acc46557"
      },
      "execution_count": 17,
      "outputs": [
        {
          "output_type": "stream",
          "name": "stdout",
          "text": [
            "cbc19b07662418d5f14cc55657295924\n",
            "e10adc3949ba59abbe56e057f20f883e\n"
          ]
        }
      ]
    },
    {
      "cell_type": "code",
      "source": [
        "my_hash('This is the text to be hashed.', 'SHA-256')"
      ],
      "metadata": {
        "colab": {
          "base_uri": "https://localhost:8080/",
          "height": 35
        },
        "id": "oP3AIdEHiBwR",
        "outputId": "5a14c584-569c-4c66-c21d-30c0635fca2f"
      },
      "execution_count": 8,
      "outputs": [
        {
          "output_type": "execute_result",
          "data": {
            "text/plain": [
              "'6e99e742c652255098e9101f849c14a50e66a18d300fb9e86cfc7b211dbba61c'"
            ],
            "application/vnd.google.colaboratory.intrinsic+json": {
              "type": "string"
            }
          },
          "metadata": {},
          "execution_count": 8
        }
      ]
    },
    {
      "cell_type": "code",
      "source": [
        "my_hash('This is the text to be hashed.', 'MD5')"
      ],
      "metadata": {
        "colab": {
          "base_uri": "https://localhost:8080/",
          "height": 35
        },
        "id": "fAE7GslJk7Uh",
        "outputId": "16643d91-1650-4182-e0b9-d80102c0c450"
      },
      "execution_count": 9,
      "outputs": [
        {
          "output_type": "execute_result",
          "data": {
            "text/plain": [
              "'3d5875af9991b334382dc18810f53c71'"
            ],
            "application/vnd.google.colaboratory.intrinsic+json": {
              "type": "string"
            }
          },
          "metadata": {},
          "execution_count": 9
        }
      ]
    },
    {
      "cell_type": "code",
      "source": [
        "print(my_hash('armando', 'SHA-256'))\n",
        "print(my_hash('Armando', 'SHA-256'))"
      ],
      "metadata": {
        "colab": {
          "base_uri": "https://localhost:8080/"
        },
        "id": "mRgedvu-lR39",
        "outputId": "cb1c8157-9e45-4cd2-8041-7cf3dbda5bba"
      },
      "execution_count": 10,
      "outputs": [
        {
          "output_type": "stream",
          "name": "stdout",
          "text": [
            "9eb6835cc95b053818b660bd9fc9f092a0b30cef89c1f0f17f469d5caa0ae617\n",
            "235313b7925b8a2de19ee154baee5d8af227ca4f42a0b0e52198e5a0853e01c8\n"
          ]
        }
      ]
    },
    {
      "cell_type": "code",
      "source": [
        "print(my_hash('armando', 'MD5'))\n",
        "print(my_hash('Armando', 'MD5'))"
      ],
      "metadata": {
        "colab": {
          "base_uri": "https://localhost:8080/"
        },
        "id": "DA2BwdZslYAi",
        "outputId": "6f76ad3a-5690-45cc-b309-75f77418c1b6"
      },
      "execution_count": 11,
      "outputs": [
        {
          "output_type": "stream",
          "name": "stdout",
          "text": [
            "7b64d09060db17ca6b96c0af99575903\n",
            "b486dc5ce21f64603337b7b356c4c6d7\n"
          ]
        }
      ]
    },
    {
      "cell_type": "code",
      "source": [
        "lista_nomes = ['armando', 'armando', 'armando', 'Armando']\n",
        "\n",
        "try:\n",
        "  for each in lista_nomes:\n",
        "    print(my_hash(each, 'SHA-256'))\n",
        "except Exception as ex:\n",
        "  print(f\"{str(ex)}\")"
      ],
      "metadata": {
        "colab": {
          "base_uri": "https://localhost:8080/"
        },
        "id": "uXPuNCHZiFW9",
        "outputId": "e4f31f67-c680-4464-f094-cd8e188b9416"
      },
      "execution_count": 12,
      "outputs": [
        {
          "output_type": "stream",
          "name": "stdout",
          "text": [
            "9eb6835cc95b053818b660bd9fc9f092a0b30cef89c1f0f17f469d5caa0ae617\n",
            "9eb6835cc95b053818b660bd9fc9f092a0b30cef89c1f0f17f469d5caa0ae617\n",
            "9eb6835cc95b053818b660bd9fc9f092a0b30cef89c1f0f17f469d5caa0ae617\n",
            "235313b7925b8a2de19ee154baee5d8af227ca4f42a0b0e52198e5a0853e01c8\n"
          ]
        }
      ]
    },
    {
      "cell_type": "code",
      "source": [
        "try:\n",
        "  for each in lista_nomes:\n",
        "    print(my_hash(each, 'MD5'))\n",
        "except Exception as ex:\n",
        "  print(f\"{str(ex)}\")"
      ],
      "metadata": {
        "colab": {
          "base_uri": "https://localhost:8080/"
        },
        "id": "tCguF-XGk_H6",
        "outputId": "935b1044-ee51-4443-8a16-faefbeb3faa7"
      },
      "execution_count": 13,
      "outputs": [
        {
          "output_type": "stream",
          "name": "stdout",
          "text": [
            "7b64d09060db17ca6b96c0af99575903\n",
            "7b64d09060db17ca6b96c0af99575903\n",
            "7b64d09060db17ca6b96c0af99575903\n",
            "b486dc5ce21f64603337b7b356c4c6d7\n"
          ]
        }
      ]
    },
    {
      "cell_type": "code",
      "source": [
        "my_hash('Hackers do Bem', 'MD5')"
      ],
      "metadata": {
        "colab": {
          "base_uri": "https://localhost:8080/",
          "height": 35
        },
        "id": "ub6uw3FAj_40",
        "outputId": "326c027b-4638-41d5-f48b-e6134d3ef36f"
      },
      "execution_count": 14,
      "outputs": [
        {
          "output_type": "execute_result",
          "data": {
            "text/plain": [
              "'17d717247951c5833f2c70480e790752'"
            ],
            "application/vnd.google.colaboratory.intrinsic+json": {
              "type": "string"
            }
          },
          "metadata": {},
          "execution_count": 14
        }
      ]
    },
    {
      "cell_type": "code",
      "source": [],
      "metadata": {
        "id": "YMytXYDWl1uR"
      },
      "execution_count": 14,
      "outputs": []
    }
  ]
}
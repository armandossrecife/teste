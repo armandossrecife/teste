{
  "nbformat": 4,
  "nbformat_minor": 0,
  "metadata": {
    "colab": {
      "provenance": [],
      "authorship_tag": "ABX9TyMI5+PJb59KLBYiQy1kFgot",
      "include_colab_link": true
    },
    "kernelspec": {
      "name": "python3",
      "display_name": "Python 3"
    },
    "language_info": {
      "name": "python"
    }
  },
  "cells": [
    {
      "cell_type": "markdown",
      "metadata": {
        "id": "view-in-github",
        "colab_type": "text"
      },
      "source": [
        "<a href=\"https://colab.research.google.com/github/armandossrecife/teste/blob/main/my_hash.ipynb\" target=\"_parent\"><img src=\"https://colab.research.google.com/assets/colab-badge.svg\" alt=\"Open In Colab\"/></a>"
      ]
    },
    {
      "cell_type": "code",
      "execution_count": 1,
      "metadata": {
        "id": "RS8u7e72d4rv"
      },
      "outputs": [],
      "source": [
        "import hashlib"
      ]
    },
    {
      "cell_type": "code",
      "source": [
        "# 1. Conteúdo do texto original\n",
        "text = \"This is the text to be hashed.\"\n",
        "\n",
        "# 2. Faz o encode (em bytes) do conteudo texto original\n",
        "# Encode the text as bytes (optional for Python 3, necessary for Python 2)\n",
        "encoded_text = text.encode()\n",
        "\n",
        "# 3. Cria um objeto hash baseado em um algoritmo\n",
        "# Create a SHA-256 (Secure Hash Algorithm) hash object\n",
        "hasher = hashlib.sha256()\n",
        "\n",
        "# 4. Faz um mapa de caracteristicas do conteudo do texto\n",
        "# Update the hasher with the encoded text\n",
        "hasher.update(encoded_text)\n",
        "\n",
        "# 5. Recupera o codigo unico gerado depois do mapemaneto de caracteristicas unicas do conteudo do texto\n",
        "# Escolha o tipo de formato para gerar a assinatura, por exemplo em Hexadecimal (01234567890ABCEDF) Base-16\n",
        "# Get the hash digest in hexadecimal format\n",
        "hash_value = hasher.hexdigest()\n",
        "\n",
        "print(f\"SHA-256 hash: {hash_value}\")"
      ],
      "metadata": {
        "colab": {
          "base_uri": "https://localhost:8080/"
        },
        "id": "uFHF1K34eHXF",
        "outputId": "ac51cea5-d44e-4d4a-80ab-55dead48f885"
      },
      "execution_count": 2,
      "outputs": [
        {
          "output_type": "stream",
          "name": "stdout",
          "text": [
            "SHA-256 hash: 6e99e742c652255098e9101f849c14a50e66a18d300fb9e86cfc7b211dbba61c\n"
          ]
        }
      ]
    },
    {
      "cell_type": "code",
      "source": [
        "def my_hash(conteudo, algoritmo):\n",
        "  if conteudo:\n",
        "    encoded_text = conteudo.encode()\n",
        "    if algoritmo:\n",
        "      if algoritmo == 'SHA-256':\n",
        "        hasher = hashlib.sha256()\n",
        "      else:\n",
        "        raise ValueError('Algoritmo inválido!')\n",
        "    else:\n",
        "      raise ValueError('Informe o algoritmo de Hash!')\n",
        "    hasher.update(encoded_text)\n",
        "    hash_value = hasher.hexdigest()\n",
        "    return hash_value\n",
        "  else:\n",
        "    return None"
      ],
      "metadata": {
        "id": "75b67zSbeH0b"
      },
      "execution_count": 10,
      "outputs": []
    },
    {
      "cell_type": "code",
      "source": [
        "my_hash('armando', 'SHA-256')"
      ],
      "metadata": {
        "colab": {
          "base_uri": "https://localhost:8080/",
          "height": 36
        },
        "id": "sa5RNdYPhS9m",
        "outputId": "6b702f02-2004-4d6e-dc48-76382ee03b6f"
      },
      "execution_count": 11,
      "outputs": [
        {
          "output_type": "execute_result",
          "data": {
            "text/plain": [
              "'9eb6835cc95b053818b660bd9fc9f092a0b30cef89c1f0f17f469d5caa0ae617'"
            ],
            "application/vnd.google.colaboratory.intrinsic+json": {
              "type": "string"
            }
          },
          "metadata": {},
          "execution_count": 11
        }
      ]
    },
    {
      "cell_type": "code",
      "source": [
        "try:\n",
        "  my_hash('armando', 'SHA-25')\n",
        "except Exception as ex:\n",
        "  print(f\"{str(ex)}\")"
      ],
      "metadata": {
        "colab": {
          "base_uri": "https://localhost:8080/"
        },
        "id": "AqluPo0ciJBy",
        "outputId": "36174656-6b8d-4ab5-fe66-429d0bbb27ed"
      },
      "execution_count": 14,
      "outputs": [
        {
          "output_type": "stream",
          "name": "stdout",
          "text": [
            "Algoritmo inválido!\n"
          ]
        }
      ]
    },
    {
      "cell_type": "code",
      "source": [
        "my_hash('This is the text to be hashed.', 'SHA-256')"
      ],
      "metadata": {
        "colab": {
          "base_uri": "https://localhost:8080/",
          "height": 36
        },
        "id": "oP3AIdEHiBwR",
        "outputId": "250d128e-f0d7-4cda-d3d9-d30836eba3e3"
      },
      "execution_count": 15,
      "outputs": [
        {
          "output_type": "execute_result",
          "data": {
            "text/plain": [
              "'6e99e742c652255098e9101f849c14a50e66a18d300fb9e86cfc7b211dbba61c'"
            ],
            "application/vnd.google.colaboratory.intrinsic+json": {
              "type": "string"
            }
          },
          "metadata": {},
          "execution_count": 15
        }
      ]
    },
    {
      "cell_type": "code",
      "source": [],
      "metadata": {
        "id": "uXPuNCHZiFW9"
      },
      "execution_count": null,
      "outputs": []
    }
  ]
}
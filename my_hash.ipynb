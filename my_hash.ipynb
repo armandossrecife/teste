{
  "nbformat": 4,
  "nbformat_minor": 0,
  "metadata": {
    "colab": {
      "provenance": [],
      "authorship_tag": "ABX9TyNXBcFMnDPisf0rwtRCoo+Y",
      "include_colab_link": true
    },
    "kernelspec": {
      "name": "python3",
      "display_name": "Python 3"
    },
    "language_info": {
      "name": "python"
    }
  },
  "cells": [
    {
      "cell_type": "markdown",
      "metadata": {
        "id": "view-in-github",
        "colab_type": "text"
      },
      "source": [
        "<a href=\"https://colab.research.google.com/github/armandossrecife/teste/blob/main/my_hash.ipynb\" target=\"_parent\"><img src=\"https://colab.research.google.com/assets/colab-badge.svg\" alt=\"Open In Colab\"/></a>"
      ]
    },
    {
      "cell_type": "code",
      "execution_count": 1,
      "metadata": {
        "id": "RS8u7e72d4rv"
      },
      "outputs": [],
      "source": [
        "import hashlib"
      ]
    },
    {
      "cell_type": "code",
      "source": [
        "# 1. Conteúdo do texto original\n",
        "text = \"This is the text to be hashed.\"\n",
        "\n",
        "# 2. Faz o encode (em bytes) do conteudo texto original\n",
        "# Encode the text as bytes (optional for Python 3, necessary for Python 2)\n",
        "encoded_text = text.encode()\n",
        "\n",
        "# 3. Cria um objeto hash baseado em um algoritmo\n",
        "# Create a SHA-256 (Secure Hash Algorithm) hash object\n",
        "hasher = hashlib.sha256()\n",
        "\n",
        "# 4. Faz um mapa de caracteristicas do conteudo do texto\n",
        "# Update the hasher with the encoded text\n",
        "hasher.update(encoded_text)\n",
        "\n",
        "# 5. Recupera o codigo unico gerado depois do mapemaneto de caracteristicas unicas do conteudo do texto\n",
        "# Escolha o tipo de formato para gerar a assinatura, por exemplo em Hexadecimal (01234567890ABCEDF) Base-16\n",
        "# Get the hash digest in hexadecimal format\n",
        "hash_value = hasher.hexdigest()\n",
        "\n",
        "print(f\"SHA-256 hash: {hash_value}\")"
      ],
      "metadata": {
        "colab": {
          "base_uri": "https://localhost:8080/"
        },
        "id": "uFHF1K34eHXF",
        "outputId": "4432c667-b386-442f-acc3-4d6902959169"
      },
      "execution_count": 2,
      "outputs": [
        {
          "output_type": "stream",
          "name": "stdout",
          "text": [
            "SHA-256 hash: 6e99e742c652255098e9101f849c14a50e66a18d300fb9e86cfc7b211dbba61c\n"
          ]
        }
      ]
    },
    {
      "cell_type": "code",
      "source": [
        "def my_hash(conteudo, algoritmo):\n",
        "  if conteudo:\n",
        "    encoded_text = conteudo.encode()\n",
        "    if algoritmo:\n",
        "      if algoritmo == 'SHA-256':\n",
        "        hasher = hashlib.sha256()\n",
        "      elif algoritmo == 'MD5':\n",
        "        hasher = hashlib.md5()\n",
        "      else:\n",
        "        raise ValueError('Algoritmo inválido!')\n",
        "    else:\n",
        "      raise ValueError('Informe o algoritmo de Hash!')\n",
        "    hasher.update(encoded_text)\n",
        "    hash_value = hasher.hexdigest()\n",
        "    return hash_value\n",
        "  else:\n",
        "    return None"
      ],
      "metadata": {
        "id": "75b67zSbeH0b"
      },
      "execution_count": 3,
      "outputs": []
    },
    {
      "cell_type": "code",
      "source": [
        "my_hash('armando', 'SHA-256')"
      ],
      "metadata": {
        "colab": {
          "base_uri": "https://localhost:8080/",
          "height": 36
        },
        "id": "sa5RNdYPhS9m",
        "outputId": "56ac25a9-7e95-40f5-f594-b8954ad88ff7"
      },
      "execution_count": 4,
      "outputs": [
        {
          "output_type": "execute_result",
          "data": {
            "text/plain": [
              "'9eb6835cc95b053818b660bd9fc9f092a0b30cef89c1f0f17f469d5caa0ae617'"
            ],
            "application/vnd.google.colaboratory.intrinsic+json": {
              "type": "string"
            }
          },
          "metadata": {},
          "execution_count": 4
        }
      ]
    },
    {
      "cell_type": "code",
      "source": [
        "try:\n",
        "  my_hash('armando', 'SHA-25')\n",
        "except Exception as ex:\n",
        "  print(f\"{str(ex)}\")"
      ],
      "metadata": {
        "colab": {
          "base_uri": "https://localhost:8080/"
        },
        "id": "AqluPo0ciJBy",
        "outputId": "45c58c83-b9f4-4958-8fd8-2af20ef9109e"
      },
      "execution_count": 5,
      "outputs": [
        {
          "output_type": "stream",
          "name": "stdout",
          "text": [
            "Algoritmo inválido!\n"
          ]
        }
      ]
    },
    {
      "cell_type": "code",
      "source": [
        "my_hash('This is the text to be hashed.', 'SHA-256')"
      ],
      "metadata": {
        "colab": {
          "base_uri": "https://localhost:8080/",
          "height": 36
        },
        "id": "oP3AIdEHiBwR",
        "outputId": "6a0d3c91-3c0c-4665-f059-fa34f1b9466d"
      },
      "execution_count": 6,
      "outputs": [
        {
          "output_type": "execute_result",
          "data": {
            "text/plain": [
              "'6e99e742c652255098e9101f849c14a50e66a18d300fb9e86cfc7b211dbba61c'"
            ],
            "application/vnd.google.colaboratory.intrinsic+json": {
              "type": "string"
            }
          },
          "metadata": {},
          "execution_count": 6
        }
      ]
    },
    {
      "cell_type": "code",
      "source": [
        "my_hash('This is the text to be hashed.', 'MD5')"
      ],
      "metadata": {
        "colab": {
          "base_uri": "https://localhost:8080/",
          "height": 36
        },
        "id": "fAE7GslJk7Uh",
        "outputId": "908fdb20-f0aa-474c-9d5d-2ebd316a7123"
      },
      "execution_count": 7,
      "outputs": [
        {
          "output_type": "execute_result",
          "data": {
            "text/plain": [
              "'3d5875af9991b334382dc18810f53c71'"
            ],
            "application/vnd.google.colaboratory.intrinsic+json": {
              "type": "string"
            }
          },
          "metadata": {},
          "execution_count": 7
        }
      ]
    },
    {
      "cell_type": "code",
      "source": [
        "print(my_hash('armando', 'SHA-256'))\n",
        "print(my_hash('Armando', 'SHA-256'))"
      ],
      "metadata": {
        "colab": {
          "base_uri": "https://localhost:8080/"
        },
        "id": "mRgedvu-lR39",
        "outputId": "331a3ce6-4d79-4ad0-a632-821d7f54ac2e"
      },
      "execution_count": 11,
      "outputs": [
        {
          "output_type": "stream",
          "name": "stdout",
          "text": [
            "9eb6835cc95b053818b660bd9fc9f092a0b30cef89c1f0f17f469d5caa0ae617\n",
            "235313b7925b8a2de19ee154baee5d8af227ca4f42a0b0e52198e5a0853e01c8\n"
          ]
        }
      ]
    },
    {
      "cell_type": "code",
      "source": [
        "print(my_hash('armando', 'MD5'))\n",
        "print(my_hash('Armando', 'MD5'))"
      ],
      "metadata": {
        "colab": {
          "base_uri": "https://localhost:8080/"
        },
        "id": "DA2BwdZslYAi",
        "outputId": "83a42a18-0500-49e4-898b-dbbd70669073"
      },
      "execution_count": 12,
      "outputs": [
        {
          "output_type": "stream",
          "name": "stdout",
          "text": [
            "7b64d09060db17ca6b96c0af99575903\n",
            "b486dc5ce21f64603337b7b356c4c6d7\n"
          ]
        }
      ]
    },
    {
      "cell_type": "code",
      "source": [
        "lista_nomes = ['armando', 'armando', 'armando', 'Armando']\n",
        "\n",
        "try:\n",
        "  for each in lista_nomes:\n",
        "    print(my_hash(each, 'SHA-256'))\n",
        "except Exception as ex:\n",
        "  print(f\"{str(ex)}\")"
      ],
      "metadata": {
        "colab": {
          "base_uri": "https://localhost:8080/"
        },
        "id": "uXPuNCHZiFW9",
        "outputId": "5c71b2eb-5ae4-4f92-e8d6-138e0a157d60"
      },
      "execution_count": 13,
      "outputs": [
        {
          "output_type": "stream",
          "name": "stdout",
          "text": [
            "9eb6835cc95b053818b660bd9fc9f092a0b30cef89c1f0f17f469d5caa0ae617\n",
            "9eb6835cc95b053818b660bd9fc9f092a0b30cef89c1f0f17f469d5caa0ae617\n",
            "9eb6835cc95b053818b660bd9fc9f092a0b30cef89c1f0f17f469d5caa0ae617\n",
            "235313b7925b8a2de19ee154baee5d8af227ca4f42a0b0e52198e5a0853e01c8\n"
          ]
        }
      ]
    },
    {
      "cell_type": "code",
      "source": [
        "try:\n",
        "  for each in lista_nomes:\n",
        "    print(my_hash(each, 'MD5'))\n",
        "except Exception as ex:\n",
        "  print(f\"{str(ex)}\")"
      ],
      "metadata": {
        "colab": {
          "base_uri": "https://localhost:8080/"
        },
        "id": "tCguF-XGk_H6",
        "outputId": "ec10274c-0358-439d-b10c-0442c6c79bfa"
      },
      "execution_count": 14,
      "outputs": [
        {
          "output_type": "stream",
          "name": "stdout",
          "text": [
            "7b64d09060db17ca6b96c0af99575903\n",
            "7b64d09060db17ca6b96c0af99575903\n",
            "7b64d09060db17ca6b96c0af99575903\n",
            "b486dc5ce21f64603337b7b356c4c6d7\n"
          ]
        }
      ]
    },
    {
      "cell_type": "code",
      "source": [],
      "metadata": {
        "id": "ub6uw3FAj_40"
      },
      "execution_count": 9,
      "outputs": []
    }
  ]
}
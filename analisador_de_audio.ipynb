{
  "nbformat": 4,
  "nbformat_minor": 0,
  "metadata": {
    "colab": {
      "provenance": [],
      "authorship_tag": "ABX9TyPb0I8j3BUM+CxBLqx83bWm",
      "include_colab_link": true
    },
    "kernelspec": {
      "name": "python3",
      "display_name": "Python 3"
    },
    "language_info": {
      "name": "python"
    }
  },
  "cells": [
    {
      "cell_type": "markdown",
      "metadata": {
        "id": "view-in-github",
        "colab_type": "text"
      },
      "source": [
        "<a href=\"https://colab.research.google.com/github/armandossrecife/teste/blob/main/analisador_de_audio.ipynb\" target=\"_parent\"><img src=\"https://colab.research.google.com/assets/colab-badge.svg\" alt=\"Open In Colab\"/></a>"
      ]
    },
    {
      "cell_type": "markdown",
      "source": [
        "# Analisador de Aúdio"
      ],
      "metadata": {
        "id": "BGCJ--Qed-kR"
      }
    },
    {
      "cell_type": "markdown",
      "source": [
        "Nem sempre temos tempo ou disponibilidade para ouvir reuniões gravadas em áudio ou vídeo, com isso, um recurso importante é o de extrair automaticamente o texto desses tipos de arquivos.\n",
        "\n",
        "Logo abaixo seguem alguns passos importantes para facilitar essa tarefa:\n",
        "\n",
        "1. Instlando dependências\n",
        "\n",
        "- Instale o FFMpeg\n",
        "- Instale o Pydub\n",
        "- Instale o AudioConverter\n",
        "- Instale o SpeechRecognition\n",
        "\n",
        "2. Converta o arquivo de origem para o formato destino desejado (.wav)\n",
        "\n",
        "Obs: o formato .wav é o formato padrão do SpeechRecognition\n",
        "\n",
        "3. Carregue o arquivo .wav para ser analisado\n",
        "\n",
        "Obs: Os serviços gratuitos de reconhemento de voz tem limite de tamanho. Com isso, talvez seja necessário quebrar o arquivo original em arquivos menores.wav\n",
        "\n",
        "4. Crie uma função para interpretar o conteúdo textual do arquivo\n",
        "\n",
        "Obs: defina o idioma, por exemplo pt-BR para português-brasil\n",
        "\n",
        "5. Crie uma função para varrer os arquivos de áudio (.wav) que serão interpretados\n",
        "\n",
        "6. Chame a função de varredura e salve em um arquivo o conteúdo texto do(s) áudio(s) analisado(s)\n",
        "\n",
        "Implementando esta solução\n",
        "\n",
        "Segmentação de áudio:\n",
        "\n",
        "A segmentação do áudio em arquivos menores pode ser útil para lidar com arquivos grandes que excedem o limite de tamanho dos serviços de reconhecimento de voz.\n",
        "\n",
        "A biblioteca PyDub oferece uma maneira mais eficiente de segmentar o áudio:\n"
      ],
      "metadata": {
        "id": "yNCqsnnYeB5x"
      }
    },
    {
      "cell_type": "code",
      "source": [
        "!apt-get install ffmpeg libavcodec-extra > /dev/null"
      ],
      "metadata": {
        "id": "uD7T6IAngJ9r"
      },
      "execution_count": 2,
      "outputs": []
    },
    {
      "cell_type": "code",
      "source": [
        "!pip install pydub > /dev/null"
      ],
      "metadata": {
        "id": "OYF84fDNgax0"
      },
      "execution_count": 3,
      "outputs": []
    },
    {
      "cell_type": "code",
      "source": [
        "!pip install SpeechRecognition > /dev/null"
      ],
      "metadata": {
        "id": "VFaDvW_lha2S"
      },
      "execution_count": 7,
      "outputs": []
    },
    {
      "cell_type": "code",
      "source": [
        "!mkdir myaudios"
      ],
      "metadata": {
        "id": "n8bhtvbCexWu"
      },
      "execution_count": 29,
      "outputs": []
    },
    {
      "cell_type": "code",
      "source": [
        "!wget https://github.com/armandossrecife/teste/raw/main/output_file_1.wav"
      ],
      "metadata": {
        "colab": {
          "base_uri": "https://localhost:8080/"
        },
        "id": "7JwjN-mAiwjr",
        "outputId": "1d12dc45-4bf7-421a-ecf4-6763114803a0"
      },
      "execution_count": 8,
      "outputs": [
        {
          "output_type": "stream",
          "name": "stdout",
          "text": [
            "--2024-02-29 01:47:10--  https://github.com/armandossrecife/teste/raw/main/output_file_1.wav\n",
            "Resolving github.com (github.com)... 140.82.121.3\n",
            "Connecting to github.com (github.com)|140.82.121.3|:443... connected.\n",
            "HTTP request sent, awaiting response... 302 Found\n",
            "Location: https://raw.githubusercontent.com/armandossrecife/teste/main/output_file_1.wav [following]\n",
            "--2024-02-29 01:47:10--  https://raw.githubusercontent.com/armandossrecife/teste/main/output_file_1.wav\n",
            "Resolving raw.githubusercontent.com (raw.githubusercontent.com)... 185.199.108.133, 185.199.111.133, 185.199.109.133, ...\n",
            "Connecting to raw.githubusercontent.com (raw.githubusercontent.com)|185.199.108.133|:443... connected.\n",
            "HTTP request sent, awaiting response... 200 OK\n",
            "Length: 10584044 (10M) [application/octet-stream]\n",
            "Saving to: ‘output_file_1.wav’\n",
            "\n",
            "output_file_1.wav   100%[===================>]  10.09M  --.-KB/s    in 0.05s   \n",
            "\n",
            "2024-02-29 01:47:10 (202 MB/s) - ‘output_file_1.wav’ saved [10584044/10584044]\n",
            "\n"
          ]
        }
      ]
    },
    {
      "cell_type": "code",
      "source": [
        "import speech_recognition as sr\n",
        "from pydub import AudioSegment\n",
        "from pydub.silence import split_on_silence\n",
        "import time"
      ],
      "metadata": {
        "id": "fC5RKcEkgHYT"
      },
      "execution_count": 14,
      "outputs": []
    },
    {
      "cell_type": "code",
      "source": [
        "sound = AudioSegment.from_mp3(\"criticadatese.mp3\")"
      ],
      "metadata": {
        "id": "XDiLsastoAOk"
      },
      "execution_count": 21,
      "outputs": []
    },
    {
      "cell_type": "code",
      "execution_count": 22,
      "metadata": {
        "colab": {
          "base_uri": "https://localhost:8080/"
        },
        "id": "80Lx1AP_d7Tj",
        "outputId": "3c8755c7-606c-48e7-8ae8-dcaf79798cf0"
      },
      "outputs": [
        {
          "output_type": "stream",
          "name": "stdout",
          "text": [
            "Criando segmentos separdos por frações de silêncios.\n",
            "Aguarde...\n",
            "Concluído\n"
          ]
        }
      ],
      "source": [
        "print(\"Criando segmentos separados por frações de silêncios.\")\n",
        "print(\"Aguarde...\")\n",
        "chunks = split_on_silence(sound,\n",
        "    # must be silent for at least half a second\n",
        "    min_silence_len=500,\n",
        "\n",
        "    # consider it silent if quieter than -16 dBFS\n",
        "    silence_thresh=-16\n",
        " )\n",
        "print(\"Concluído\")"
      ]
    },
    {
      "cell_type": "code",
      "source": [
        "print(\"Cria os segmentos em arquivos .wav\")\n",
        "for i, chunk in enumerate(chunks):\n",
        "    chunk.export(f\"/content/myaudios/output_file_{i}.wav\", format=\"wav\")\n",
        "print(f\"{i} Segmentos criados com sucesso!\")"
      ],
      "metadata": {
        "colab": {
          "base_uri": "https://localhost:8080/"
        },
        "id": "1ZYfdvWYoE25",
        "outputId": "3aa21ad2-a041-41e6-e254-15afe2bde0f9"
      },
      "execution_count": 23,
      "outputs": [
        {
          "output_type": "stream",
          "name": "stdout",
          "text": [
            "Cria os segmentos em arquivos .wav\n",
            "24 Segmentos criados com sucesso!\n"
          ]
        }
      ]
    },
    {
      "cell_type": "code",
      "source": [
        "def interpreta_audio(nome_arquivo):\n",
        "    result = None\n",
        "    try:\n",
        "      with sr.AudioFile(nome_arquivo) as source:\n",
        "          audio_file = r.record(source)\n",
        "          result = r.recognize_google(audio_file, language=\"pt-BR\")\n",
        "    except Exception as ex:\n",
        "      print(f\"Erro: {str(ex)}\")\n",
        "    return result"
      ],
      "metadata": {
        "id": "9WWX-j7WlDGk"
      },
      "execution_count": 31,
      "outputs": []
    },
    {
      "cell_type": "code",
      "source": [
        "# Lista para armazenar os resultados\n",
        "lista_resultados = []\n",
        "\n",
        "# Crie um objeto de reconhecimento de voz\n",
        "r = sr.Recognizer()\n",
        "\n",
        "print(\"Faz a varredura de texto nos arquivos de áudio.\")\n",
        "print(\"Aguarde...\")\n",
        "\n",
        "# Varredura da lista de arquivos\n",
        "for i, segment in enumerate(chunks):\n",
        "    # Salvar o segmento\n",
        "    nome_arquivo = f\"/content/myaudios/output_file_{i}.wav\"\n",
        "    print(nome_arquivo)\n",
        "    segment.export(nome_arquivo, format=\"wav\")\n",
        "\n",
        "    # Interpretar o áudio\n",
        "    resultado = interpreta_audio(nome_arquivo)\n",
        "    if resultado is not None:\n",
        "        lista_resultados.append(resultado)\n",
        "\n",
        "print(\"Varredura concluída!\")"
      ],
      "metadata": {
        "id": "05ht6YYjhOgC"
      },
      "execution_count": null,
      "outputs": []
    },
    {
      "cell_type": "code",
      "source": [
        "# Imprimir os resultados\n",
        "for resultado in lista_resultados:\n",
        "    print(resultado)"
      ],
      "metadata": {
        "id": "TVqDvkxPq6Kq"
      },
      "execution_count": 33,
      "outputs": []
    }
  ]
}
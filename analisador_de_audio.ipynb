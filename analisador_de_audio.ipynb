{
  "nbformat": 4,
  "nbformat_minor": 0,
  "metadata": {
    "colab": {
      "provenance": [],
      "authorship_tag": "ABX9TyM9+mrT9zZD5gNpPqGC0Pv3",
      "include_colab_link": true
    },
    "kernelspec": {
      "name": "python3",
      "display_name": "Python 3"
    },
    "language_info": {
      "name": "python"
    }
  },
  "cells": [
    {
      "cell_type": "markdown",
      "metadata": {
        "id": "view-in-github",
        "colab_type": "text"
      },
      "source": [
        "<a href=\"https://colab.research.google.com/github/armandossrecife/teste/blob/main/analisador_de_audio.ipynb\" target=\"_parent\"><img src=\"https://colab.research.google.com/assets/colab-badge.svg\" alt=\"Open In Colab\"/></a>"
      ]
    },
    {
      "cell_type": "code",
      "execution_count": 1,
      "metadata": {
        "colab": {
          "base_uri": "https://localhost:8080/"
        },
        "id": "xIXX5J9_HiD-",
        "outputId": "16dcbab6-ea1b-4203-9619-0c5a77943dd0"
      },
      "outputs": [
        {
          "output_type": "stream",
          "name": "stdout",
          "text": [
            "  Installing build dependencies ... \u001b[?25l\u001b[?25hdone\n",
            "  Getting requirements to build wheel ... \u001b[?25l\u001b[?25hdone\n",
            "  Preparing metadata (pyproject.toml) ... \u001b[?25l\u001b[?25hdone\n",
            "\u001b[2K   \u001b[90m━━━━━━━━━━━━━━━━━━━━━━━━━━━━━━━━━━━━━━━━\u001b[0m \u001b[32m363.4/363.4 MB\u001b[0m \u001b[31m4.2 MB/s\u001b[0m eta \u001b[36m0:00:00\u001b[0m\n",
            "\u001b[2K   \u001b[90m━━━━━━━━━━━━━━━━━━━━━━━━━━━━━━━━━━━━━━━━\u001b[0m \u001b[32m13.8/13.8 MB\u001b[0m \u001b[31m36.2 MB/s\u001b[0m eta \u001b[36m0:00:00\u001b[0m\n",
            "\u001b[2K   \u001b[90m━━━━━━━━━━━━━━━━━━━━━━━━━━━━━━━━━━━━━━━━\u001b[0m \u001b[32m24.6/24.6 MB\u001b[0m \u001b[31m26.2 MB/s\u001b[0m eta \u001b[36m0:00:00\u001b[0m\n",
            "\u001b[2K   \u001b[90m━━━━━━━━━━━━━━━━━━━━━━━━━━━━━━━━━━━━━━━━\u001b[0m \u001b[32m883.7/883.7 kB\u001b[0m \u001b[31m50.8 MB/s\u001b[0m eta \u001b[36m0:00:00\u001b[0m\n",
            "\u001b[2K   \u001b[90m━━━━━━━━━━━━━━━━━━━━━━━━━━━━━━━━━━━━━━━━\u001b[0m \u001b[32m664.8/664.8 MB\u001b[0m \u001b[31m1.0 MB/s\u001b[0m eta \u001b[36m0:00:00\u001b[0m\n",
            "\u001b[2K   \u001b[90m━━━━━━━━━━━━━━━━━━━━━━━━━━━━━━━━━━━━━━━━\u001b[0m \u001b[32m211.5/211.5 MB\u001b[0m \u001b[31m5.2 MB/s\u001b[0m eta \u001b[36m0:00:00\u001b[0m\n",
            "\u001b[2K   \u001b[90m━━━━━━━━━━━━━━━━━━━━━━━━━━━━━━━━━━━━━━━━\u001b[0m \u001b[32m56.3/56.3 MB\u001b[0m \u001b[31m13.9 MB/s\u001b[0m eta \u001b[36m0:00:00\u001b[0m\n",
            "\u001b[2K   \u001b[90m━━━━━━━━━━━━━━━━━━━━━━━━━━━━━━━━━━━━━━━━\u001b[0m \u001b[32m127.9/127.9 MB\u001b[0m \u001b[31m8.0 MB/s\u001b[0m eta \u001b[36m0:00:00\u001b[0m\n",
            "\u001b[2K   \u001b[90m━━━━━━━━━━━━━━━━━━━━━━━━━━━━━━━━━━━━━━━━\u001b[0m \u001b[32m207.5/207.5 MB\u001b[0m \u001b[31m6.0 MB/s\u001b[0m eta \u001b[36m0:00:00\u001b[0m\n",
            "\u001b[2K   \u001b[90m━━━━━━━━━━━━━━━━━━━━━━━━━━━━━━━━━━━━━━━━\u001b[0m \u001b[32m188.7/188.7 MB\u001b[0m \u001b[31m6.4 MB/s\u001b[0m eta \u001b[36m0:00:00\u001b[0m\n",
            "\u001b[2K   \u001b[90m━━━━━━━━━━━━━━━━━━━━━━━━━━━━━━━━━━━━━━━━\u001b[0m \u001b[32m21.1/21.1 MB\u001b[0m \u001b[31m72.9 MB/s\u001b[0m eta \u001b[36m0:00:00\u001b[0m\n",
            "\u001b[?25h  Building wheel for openai-whisper (pyproject.toml) ... \u001b[?25l\u001b[?25hdone\n"
          ]
        }
      ],
      "source": [
        "!pip install -q git+https://github.com/openai/whisper.git"
      ]
    },
    {
      "cell_type": "code",
      "source": [
        "!apt-get install -y ffmpeg"
      ],
      "metadata": {
        "colab": {
          "base_uri": "https://localhost:8080/"
        },
        "id": "UYfqRnp3HmNP",
        "outputId": "2cb33e51-6256-4223-974d-d48f57166130"
      },
      "execution_count": 2,
      "outputs": [
        {
          "output_type": "stream",
          "name": "stdout",
          "text": [
            "Reading package lists... Done\n",
            "Building dependency tree... Done\n",
            "Reading state information... Done\n",
            "ffmpeg is already the newest version (7:4.4.2-0ubuntu0.22.04.1).\n",
            "0 upgraded, 0 newly installed, 0 to remove and 35 not upgraded.\n"
          ]
        }
      ]
    },
    {
      "cell_type": "code",
      "source": [
        "!ls -lia"
      ],
      "metadata": {
        "colab": {
          "base_uri": "https://localhost:8080/"
        },
        "id": "7xW3NC24Jfnl",
        "outputId": "2b473c5d-20d6-45e3-d096-c2219f8d14ef"
      },
      "execution_count": 4,
      "outputs": [
        {
          "output_type": "stream",
          "name": "stdout",
          "text": [
            "total 548\n",
            " 655366 drwxr-xr-x 1 root root   4096 Aug 13 06:37 .\n",
            "3932180 drwxr-xr-x 1 root root   4096 Aug 13 06:29 ..\n",
            "3407879 drwxr-xr-x 4 root root   4096 Aug 11 13:35 .config\n",
            "3937888 drwxr-xr-x 2 root root   4096 Aug 13 06:37 .ipynb_checkpoints\n",
            "3938061 -rw-r--r-- 1 root root 538592 Aug 13 06:29 mensagem1.ogg\n",
            " 655367 drwxr-xr-x 1 root root   4096 Aug 11 13:36 sample_data\n"
          ]
        }
      ]
    },
    {
      "cell_type": "code",
      "source": [
        "from google.colab import files\n",
        "import whisper\n",
        "\n",
        "audio_path = \"/content/mensagem1.ogg\"\n",
        "print(f\"Arquivo: {audio_path}\")\n",
        "\n",
        "# Modelos possíveis: tiny, base, small, medium, large\n",
        "# \"small\" é rápido e bom para português, \"large\" é mais preciso mas mais lento\n",
        "modelo_selecionado = \"small\"\n",
        "print(f\"Carregando o modelo: {modelo_selecionado}\")\n",
        "model = whisper.load_model(modelo_selecionado)\n",
        "print(\"Modelo carregado com sucesso!\")\n",
        "\n",
        "try:\n",
        "  print(f\"Iniciando a transcrição do áudio {audio_path}\")\n",
        "  # Transcrever\n",
        "  result = model.transcribe(audio_path, language=\"pt\")\n",
        "  print(\"\\n--- TRANSCRIÇÃO COMPLETA ---\\n\")\n",
        "  print(result[\"text\"])\n",
        "\n",
        "  print(f\"Salvando o texto...\")\n",
        "  # Salvar transcrição em arquivo TXT\n",
        "  nome_arquivo_texto = \"transcricao.txt\"\n",
        "  with open(nome_arquivo_texto, \"w\", encoding=\"utf-8\") as f:\n",
        "    f.write(result[\"text\"])\n",
        "  print(\"Texto salvo com sucesso!\")\n",
        "\n",
        "  print(f\"Fazendo o download do arquivo {nome_arquivo_texto}\")\n",
        "  files.download(\"transcricao.txt\")\n",
        "except Exception as ex:\n",
        "  print(f\"Erro {str(ex)} ao fazer a transcrição do arquivo {audio_path}\")"
      ],
      "metadata": {
        "colab": {
          "base_uri": "https://localhost:8080/",
          "height": 258
        },
        "id": "d_XF4kF_IIIB",
        "outputId": "221b72b0-4f71-4370-ac3e-26f155ef85c0"
      },
      "execution_count": 5,
      "outputs": [
        {
          "output_type": "stream",
          "name": "stdout",
          "text": [
            "Arquivo: /content/mensagem1.ogg\n",
            "Carregando o modelo: small\n",
            "Modelo carregado com sucesso!\n",
            "Iniciando a transcrição do áudio /content/mensagem1.ogg\n"
          ]
        },
        {
          "output_type": "stream",
          "name": "stderr",
          "text": [
            "/usr/local/lib/python3.11/dist-packages/whisper/transcribe.py:132: UserWarning: FP16 is not supported on CPU; using FP32 instead\n",
            "  warnings.warn(\"FP16 is not supported on CPU; using FP32 instead\")\n"
          ]
        },
        {
          "output_type": "stream",
          "name": "stdout",
          "text": [
            "\n",
            "--- TRANSCRIÇÃO COMPLETA ---\n",
            "\n",
            " Então vamos apontar um pouco as diretrizes, o edital ele pede que a gente trabalha e três objetivos específicos em função dos três eixos que tem lá. Então nós vamos trabalhar assim, para não ter muito esforço, vamos ver se a gente coloca os três objetivos específicos com duas atividades em cada e um objetivo específico obrigatório que é uma meta final que o próprio edital coloca. E o que é que vai nesse contexto todo? Nós vamos ter três ações fundamentais. A primeira delas é a estruturação do processo deles de reciclagem. Nessa estruturação entra a questão de um galpão, aquisição de máquinas e equipamentos de veículo. Essa é a parte mais estruturante da proposta, seria a primeira meta. A segunda meta é a assistência técnica especializada durante os 24 meses. Aí você vai ficar à vontade, vamos fazer a previsão aí de 1.200 horas de consultoria, dessas 1.200 horas, você pode ficar com uns 400 horas de consultoria para você que é para trabalhar essa questão da inovação, alguma coisa nesse sentido. E aí teria mais 400 horas para uma pesquisa de avaliação de impacto, também você pode assumir isso aí e 400 horas para trabalhar a questão da capacitação. Então teria 1.200 horas de consultoria técnica, capacitação e pesquisa de avaliação de impacto. Tem que ter esses três subprodutos nessa questão. E aí nesse sentido o projeto teria essas três diretrizes, estruturação, máquina e equipamento, veículo, assistência técnica e capacitação do pessoal lá. A gente fechando essa proposta aí dos, parece que são 2,5 milhões, se puder esticar um pouquinho a gente tica. Esse galpão ele avaliou aí que está em torno de 600 mil reais, ele completo já com instalação e tem um veículo, um ônibus que ele quer fazer a atisição e tal. Mas nessa linha de prioridade o que é importante é a estruturação do processo e a questão deles. Então o galpão com as instalações do galpão e o caminhão são os equipamentos importantes nesse sentido. O ônibus ele fica em terceiro plano. Então o ônibus ele só vai entrar se tiver margem dentro da planilha para entrar, porque aí a gente tem que contemplar duas, os outros dois eixos que é a consultoria técnica e a questão da capacitação. E aí a gente pode pensar, por exemplo, nessa questão da pesquisa de avaliação de impacto, inclusive para a publicação do relatório final. Então isso aí eu deixo muito a você à vontade para trabalhar nisso aí você esboça e aí eu vou dar um toque final e se Deus quiser a gente consegue apresentar a proposta. Eu pedi para a menina, eu vou pedir para a menina criar um link do Anexum que ela já começou a trabalhar e aí a gente trabalha em cima desse arquivo que fica melhor para a gente tentar misturar nesses arquivos. Ok?\n",
            "Salvando o texto...\n",
            "Texto salvo com sucesso!\n",
            "Fazendo o download do arquivo transcricao.txt\n"
          ]
        },
        {
          "output_type": "display_data",
          "data": {
            "text/plain": [
              "<IPython.core.display.Javascript object>"
            ],
            "application/javascript": [
              "\n",
              "    async function download(id, filename, size) {\n",
              "      if (!google.colab.kernel.accessAllowed) {\n",
              "        return;\n",
              "      }\n",
              "      const div = document.createElement('div');\n",
              "      const label = document.createElement('label');\n",
              "      label.textContent = `Downloading \"${filename}\": `;\n",
              "      div.appendChild(label);\n",
              "      const progress = document.createElement('progress');\n",
              "      progress.max = size;\n",
              "      div.appendChild(progress);\n",
              "      document.body.appendChild(div);\n",
              "\n",
              "      const buffers = [];\n",
              "      let downloaded = 0;\n",
              "\n",
              "      const channel = await google.colab.kernel.comms.open(id);\n",
              "      // Send a message to notify the kernel that we're ready.\n",
              "      channel.send({})\n",
              "\n",
              "      for await (const message of channel.messages) {\n",
              "        // Send a message to notify the kernel that we're ready.\n",
              "        channel.send({})\n",
              "        if (message.buffers) {\n",
              "          for (const buffer of message.buffers) {\n",
              "            buffers.push(buffer);\n",
              "            downloaded += buffer.byteLength;\n",
              "            progress.value = downloaded;\n",
              "          }\n",
              "        }\n",
              "      }\n",
              "      const blob = new Blob(buffers, {type: 'application/binary'});\n",
              "      const a = document.createElement('a');\n",
              "      a.href = window.URL.createObjectURL(blob);\n",
              "      a.download = filename;\n",
              "      div.appendChild(a);\n",
              "      a.click();\n",
              "      div.remove();\n",
              "    }\n",
              "  "
            ]
          },
          "metadata": {}
        },
        {
          "output_type": "display_data",
          "data": {
            "text/plain": [
              "<IPython.core.display.Javascript object>"
            ],
            "application/javascript": [
              "download(\"download_cd6948b9-5e1c-436a-848a-72114c688120\", \"transcricao.txt\", 2824)"
            ]
          },
          "metadata": {}
        }
      ]
    }
  ]
}
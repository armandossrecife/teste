{
  "nbformat": 4,
  "nbformat_minor": 0,
  "metadata": {
    "colab": {
      "provenance": [],
      "authorship_tag": "ABX9TyN2FJiU/ih5XsfQD1JNvN6U",
      "include_colab_link": true
    },
    "kernelspec": {
      "name": "python3",
      "display_name": "Python 3"
    },
    "language_info": {
      "name": "python"
    }
  },
  "cells": [
    {
      "cell_type": "markdown",
      "metadata": {
        "id": "view-in-github",
        "colab_type": "text"
      },
      "source": [
        "<a href=\"https://colab.research.google.com/github/armandossrecife/teste/blob/main/listarepositoriosapache.ipynb\" target=\"_parent\"><img src=\"https://colab.research.google.com/assets/colab-badge.svg\" alt=\"Open In Colab\"/></a>"
      ]
    },
    {
      "cell_type": "code",
      "execution_count": 1,
      "metadata": {
        "id": "-lIgFtql_HRq"
      },
      "outputs": [],
      "source": [
        "import csv\n",
        "\n",
        "projects = {\n",
        "    \"accumulo\": \"https://github.com/apache/accumulo.git\",\n",
        "    \"calcite\": \"https://github.com/apache/calcite.git\",\n",
        "    \"cassandra\": \"https://github.com/apache/cassandra.git\",\n",
        "    \"chukwa\": \"https://github.com/apache/chukwa.git\",\n",
        "    \"jackrabbit\": \"https://github.com/apache/jackrabbit.git\",\n",
        "    \"jackson\": \"https://github.com/FasterXML/jackson.git\",\n",
        "    \"httpcomp\": \"https://github.com/vy/httpcomp.git\",\n",
        "    \"jspwiki\": \"https://github.com/apache/jspwiki.git\",\n",
        "    \"retrofit\": \"https://github.com/square/retrofit.git\",\n",
        "    \"spring-boot\": \"https://github.com/spring-projects/spring-boot.git\",\n",
        "    \"struts\": \"https://github.com/apache/struts.git\",\n",
        "    \"elasticsearch\": \"https://github.com/elastic/elasticsearch.git\",\n",
        "    \"jena\": \"https://github.com/apache/jena.git\",\n",
        "    \"lucene\": \"https://github.com/apache/lucene-solr.git\",\n",
        "    \"tika\": \"https://github.com/apache/tika.git\",\n",
        "    \"ant-ivy\": \"https://github.com/apache/ant-ivy.git\",\n",
        "    \"jenkins\": \"https://github.com/jenkinsci/jenkins.git\",\n",
        "    \"jgit\": \"https://github.com/eclipse/jgit.git\",\n",
        "    \"selenium\": \"https://github.com/SeleniumHQ/selenium.git\",\n",
        "    \"testng\": \"https://github.com/cbeust/testng.git\",\n",
        "    \"pdfbox\": \"https://github.com/apache/pdfbox.git\",\n",
        "    \"poi\": \"https://github.com/apache/poi.git\",\n",
        "    \"xerces2\": \"https://github.com/apache/xerces2-j.git\",\n",
        "    \"druid\": \"https://github.com/apache/druid.git\",\n",
        "    \"pgjdbc\": \"https://github.com/pgjdbc/pgjdbc.git\",\n",
        "    \"activemq\": \"https://github.com/apache/activemq.git\",\n",
        "    \"mina\": \"https://github.com/apache/mina.git\",\n",
        "    \"libgdx\": \"https://github.com/libgdx/libgdx.git\",\n",
        "    \"fastjson\": \"https://github.com/alibaba/fastjson.git\",\n",
        "    \"gson\": \"https://github.com/google/gson.git\",\n",
        "    \"guava\": \"https://github.com/google/guava.git\"\n",
        "}\n",
        "\n",
        "with open('projects.csv', mode='w', newline='') as csv_file:\n",
        "    writer = csv.writer(csv_file)\n",
        "    writer.writerow(['Project', 'Git Repository URL'])\n",
        "    for project, url in projects.items():\n",
        "        writer.writerow([project, url])"
      ]
    }
  ]
}
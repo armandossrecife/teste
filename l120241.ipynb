{
  "nbformat": 4,
  "nbformat_minor": 0,
  "metadata": {
    "colab": {
      "provenance": [],
      "authorship_tag": "ABX9TyNi+MV7Ne44QRFlPauOoNkw",
      "include_colab_link": true
    },
    "kernelspec": {
      "name": "python3",
      "display_name": "Python 3"
    },
    "language_info": {
      "name": "python"
    }
  },
  "cells": [
    {
      "cell_type": "markdown",
      "metadata": {
        "id": "view-in-github",
        "colab_type": "text"
      },
      "source": [
        "<a href=\"https://colab.research.google.com/github/armandossrecife/teste/blob/main/l120241.ipynb\" target=\"_parent\"><img src=\"https://colab.research.google.com/assets/colab-badge.svg\" alt=\"Open In Colab\"/></a>"
      ]
    },
    {
      "cell_type": "code",
      "execution_count": 1,
      "metadata": {
        "colab": {
          "base_uri": "https://localhost:8080/"
        },
        "id": "TRFsHQWWOPIM",
        "outputId": "3e1a855d-730d-4c7b-b27d-c261c5defef0"
      },
      "outputs": [
        {
          "output_type": "stream",
          "name": "stdout",
          "text": [
            "Digite um número inteiro: 2\n",
            "Número digitado: 2\n",
            "Dobro do número: 4\n",
            "Triplo do número: 6\n"
          ]
        }
      ],
      "source": [
        "# prompt: 1. Escreva um programa que solicita ao usuário para digitar um número inteiro e, em seguida, exibe esse número, o dobro e o triplo do valor desse número na tela.\n",
        "\n",
        "# Solicita ao usuário para digitar um número inteiro\n",
        "numero = int(input(\"Digite um número inteiro: \"))\n",
        "\n",
        "# Exibe o número digitado\n",
        "print(\"Número digitado:\", numero)\n",
        "\n",
        "# Exibe o dobro do número digitado\n",
        "print(\"Dobro do número:\", numero * 2)\n",
        "\n",
        "# Exibe o triplo do número digitado\n",
        "print(\"Triplo do número:\", numero * 3)\n"
      ]
    },
    {
      "cell_type": "code",
      "source": [
        "import sys"
      ],
      "metadata": {
        "id": "8B4YLFT_Q_Cd"
      },
      "execution_count": 1,
      "outputs": []
    },
    {
      "cell_type": "code",
      "source": [
        "# prompt: 3. Escreva um programa que solicita ao usuário para digitar um número real e, em seguida, exiba esse número, o dobro e o triplo do valor desse número na tela.\n",
        "\n",
        "# Solicita ao usuário para digitar um número real\n",
        "numero_real = float(input(\"Digite um número real: \"))\n",
        "\n",
        "# Exibe o número digitado\n",
        "print(\"Número digitado:\", numero_real)\n",
        "\n",
        "# Exibe o dobro do número digitado\n",
        "print(\"Dobro do número:\", numero_real * 2)\n",
        "\n",
        "# Exibe o triplo do número digitado\n",
        "print(\"Triplo do número:\", numero_real * 3)\n"
      ],
      "metadata": {
        "id": "aoh1TQEsPIOy"
      },
      "execution_count": null,
      "outputs": []
    },
    {
      "cell_type": "code",
      "source": [],
      "metadata": {
        "id": "eN7WG2TJaz6K"
      },
      "execution_count": null,
      "outputs": []
    },
    {
      "cell_type": "code",
      "source": [
        "# Solicita o nome do usuário\n",
        "nome = input(\"Digite seu nome: \")\n",
        "\n",
        "# Remove espaços em branco antes e depois do nome\n",
        "nome_sem_espaco = nome.strip()\n",
        "\n",
        "# Conta o número de caracteres no nome\n",
        "numero_caracteres = len(nome_sem_espaco)\n",
        "\n",
        "# Exibe a saudação personalizada com a contagem de caracteres\n",
        "print(f\"Bem vindo(a), {nome_sem_espaco}! Seu nome tem {numero_caracteres} caracteres.\")\n"
      ],
      "metadata": {
        "colab": {
          "base_uri": "https://localhost:8080/"
        },
        "id": "iUBkjWl6Pc_9",
        "outputId": "b3c5c14f-4822-4794-840c-cd0bec988557"
      },
      "execution_count": 2,
      "outputs": [
        {
          "output_type": "stream",
          "name": "stdout",
          "text": [
            "Digite seu nome: Armando Soares Sousa\n",
            "Bem vindo(a), Armando Soares Sousa! Seu nome tem 20 caracteres.\n"
          ]
        }
      ]
    },
    {
      "cell_type": "code",
      "source": [
        "# Solicita o número limite ao usuário\n",
        "numero_limite = int(input(\"Digite um número inteiro: \"))\n",
        "\n",
        "# Verifica se o número limite é negativo\n",
        "if numero_limite < 0:\n",
        "    print(\"Erro: O número limite deve ser não negativo.\")\n",
        "    exit()\n",
        "\n",
        "# Exibe os números pares de 0 até o número limite\n",
        "for numero in range(0, numero_limite + 1, 2):\n",
        "    print(numero)\n",
        ""
      ],
      "metadata": {
        "colab": {
          "base_uri": "https://localhost:8080/"
        },
        "id": "FCjrRnBzPy8Q",
        "outputId": "20733274-ce89-465d-eb1f-65d1e5caca0e"
      },
      "execution_count": 4,
      "outputs": [
        {
          "output_type": "stream",
          "name": "stdout",
          "text": [
            "Digite um número inteiro: 4\n",
            "0\n",
            "2\n",
            "4\n"
          ]
        }
      ]
    },
    {
      "cell_type": "code",
      "source": [
        "# Solicita o número limite ao usuário\n",
        "numero_limite = int(input(\"Digite um número inteiro: \"))\n",
        "\n",
        "# Verifica se o número limite é negativo\n",
        "if numero_limite < 0:\n",
        "    print(\"Erro: O número limite deve ser não negativo.\")\n",
        "    exit()\n",
        "\n",
        "# Calcula a soma dos números ímpares\n",
        "soma_impares = 0\n",
        "for numero in range(1, numero_limite + 1, 2):\n",
        "    soma_impares += numero\n",
        "\n",
        "# Exibe a soma dos números ímpares\n",
        "print(f\"A soma dos números ímpares de 1 até {numero_limite} é: {soma_impares}\")\n",
        "\n"
      ],
      "metadata": {
        "colab": {
          "base_uri": "https://localhost:8080/"
        },
        "id": "ilPZYxw4P1UK",
        "outputId": "6a092e97-2de6-4430-8fe6-9bbe324871ac"
      },
      "execution_count": 5,
      "outputs": [
        {
          "output_type": "stream",
          "name": "stdout",
          "text": [
            "Digite um número inteiro: 5\n",
            "A soma dos números ímpares de 1 até 5 é: 9\n"
          ]
        }
      ]
    },
    {
      "cell_type": "code",
      "source": [
        "# Solicita a frase ao usuário (máximo de 100 caracteres)\n",
        "frase = input(\"Digite uma frase (máximo de 100 caracteres): \")\n",
        "\n",
        "# Verifica se a frase possui no máximo 100 caracteres\n",
        "if len(frase) > 5:\n",
        "    print(\"Erro: A frase deve ter no máximo 5 caracteres.\")\n",
        "    sys.exit(0)\n",
        "\n",
        "# Inverte a frase caractere por caractere\n",
        "frase_invertida = \"\"\n",
        "for i in range(len(frase) - 1, -1, -1):\n",
        "    frase_invertida += frase[i]\n",
        "\n",
        "# Exibe a frase invertida\n",
        "print(f\"A frase invertida é: {frase_invertida}\")\n",
        "\n"
      ],
      "metadata": {
        "colab": {
          "base_uri": "https://localhost:8080/",
          "height": 124
        },
        "id": "Z-DyrA2nQiFq",
        "outputId": "d02d0351-4132-4a9f-fab3-bc4cbc1848a5"
      },
      "execution_count": 4,
      "outputs": [
        {
          "output_type": "stream",
          "name": "stdout",
          "text": [
            "Digite uma frase (máximo de 100 caracteres): armando\n",
            "Erro: A frase deve ter no máximo 5 caracteres.\n"
          ]
        },
        {
          "output_type": "error",
          "ename": "SystemExit",
          "evalue": "0",
          "traceback": [
            "An exception has occurred, use %tb to see the full traceback.\n",
            "\u001b[0;31mSystemExit\u001b[0m\u001b[0;31m:\u001b[0m 0\n"
          ]
        }
      ]
    },
    {
      "cell_type": "code",
      "source": [
        "def calcular_fatorial(numero):\n",
        "  \"\"\"\n",
        "  Calcula o fatorial de um número inteiro não negativo.\n",
        "\n",
        "  Argumentos:\n",
        "    numero (int): O número para o qual o fatorial será calculado.\n",
        "\n",
        "  Retorna:\n",
        "    int: O fatorial do número, ou None se o número for negativo.\n",
        "  \"\"\"\n",
        "\n",
        "  if numero < 0:\n",
        "    return None\n",
        "\n",
        "  # Caso base: fatorial de 0 é 1\n",
        "  if numero == 0:\n",
        "    return 1\n",
        "\n",
        "  # Caso recursivo: fatorial de n é n * fatorial de n-1\n",
        "  else:\n",
        "    return numero * calcular_fatorial(numero - 1)\n"
      ],
      "metadata": {
        "id": "IBiCxnraRb6D"
      },
      "execution_count": 6,
      "outputs": []
    },
    {
      "cell_type": "code",
      "source": [
        "# Solicita o número ao usuário\n",
        "numero = int(input(\"Digite um número inteiro: \"))\n",
        "\n",
        "# Calcula e exibe o fatorial\n",
        "fatorial = calcular_fatorial(numero)\n",
        "if fatorial is None:\n",
        "  print(\"Erro: O fatorial não existe para números negativos.\")\n",
        "else:\n",
        "  print(f\"O fatorial de {numero} é: {fatorial}\")"
      ],
      "metadata": {
        "colab": {
          "base_uri": "https://localhost:8080/"
        },
        "id": "0GnlbvwVRyPR",
        "outputId": "c487eced-b182-484d-b347-d3eed731e0ef"
      },
      "execution_count": 9,
      "outputs": [
        {
          "output_type": "stream",
          "name": "stdout",
          "text": [
            "Digite um número inteiro: 6\n",
            "O fatorial de 6 é: 720\n"
          ]
        }
      ]
    },
    {
      "cell_type": "code",
      "source": [
        "def gerar_sequencia_fibonacci(numero_limite):\n",
        "  \"\"\"\n",
        "  Gera a sequência de Fibonacci até um número limite especificado.\n",
        "\n",
        "  Argumentos:\n",
        "    numero_limite (int): O número limite até o qual a sequência será gerada.\n",
        "\n",
        "  Retorna:\n",
        "    list: Uma lista contendo os números da sequência de Fibonacci até o número limite.\n",
        "  \"\"\"\n",
        "\n",
        "  if numero_limite < 1:\n",
        "    return []\n",
        "\n",
        "  # Inicializa os dois primeiros termos da sequência\n",
        "  fibonacci = [0, 1]\n",
        "\n",
        "  # Gera os números subsequentes da sequência\n",
        "  for i in range(2, numero_limite):\n",
        "    fibonacci.append(fibonacci[i - 1] + fibonacci[i - 2])\n",
        "\n",
        "  return fibonacci"
      ],
      "metadata": {
        "id": "3KaAtduxR_n-"
      },
      "execution_count": 10,
      "outputs": []
    },
    {
      "cell_type": "code",
      "source": [
        "def gerar_sequencia_fibonacci(numero_limite):\n",
        "  \"\"\"\n",
        "  Gera a sequência de Fibonacci até um número limite especificado.\n",
        "\n",
        "  Argumentos:\n",
        "    numero_limite (int): O número limite até o qual a sequência será gerada.\n",
        "\n",
        "  Retorna:\n",
        "    list: Uma lista contendo os números da sequência de Fibonacci até o número limite.\n",
        "  \"\"\"\n",
        "\n",
        "  if numero_limite < 1:\n",
        "    return []\n",
        "\n",
        "  # Inicializa os dois primeiros termos da sequência\n",
        "  fibonacci = [0, 1]\n",
        "\n",
        "  # Gera os números subsequentes da sequência\n",
        "  for i in range(2, numero_limite):\n",
        "    fibonacci.append(fibonacci[i - 1] + fibonacci[i - 2])\n",
        "\n",
        "  return fibonacci"
      ],
      "metadata": {
        "id": "RzwkQfsnSGjF"
      },
      "execution_count": 11,
      "outputs": []
    },
    {
      "cell_type": "code",
      "source": [
        "# Solicita o número limite ao usuário\n",
        "numero_limite = int(input(\"Digite um número inteiro (maior que 0): \"))\n",
        "\n",
        "# Gera e exibe a sequência de Fibonacci\n",
        "sequencia_fibonacci = gerar_sequencia_fibonacci(numero_limite)\n",
        "print(f\"Sequência de Fibonacci até {numero_limite}: {sequencia_fibonacci}\")\n"
      ],
      "metadata": {
        "colab": {
          "base_uri": "https://localhost:8080/"
        },
        "id": "K-5zJOJ_SIeD",
        "outputId": "3e8d1f70-0641-4223-ef86-3e96767dbd16"
      },
      "execution_count": 12,
      "outputs": [
        {
          "output_type": "stream",
          "name": "stdout",
          "text": [
            "Digite um número inteiro (maior que 0): 5\n",
            "Sequência de Fibonacci até 5: [0, 1, 1, 2, 3]\n"
          ]
        }
      ]
    }
  ]
}
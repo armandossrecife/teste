{
  "nbformat": 4,
  "nbformat_minor": 0,
  "metadata": {
    "colab": {
      "provenance": [],
      "authorship_tag": "ABX9TyMiQ7D0sf4Kst5OWEL4HY9b",
      "include_colab_link": true
    },
    "kernelspec": {
      "name": "python3",
      "display_name": "Python 3"
    },
    "language_info": {
      "name": "python"
    }
  },
  "cells": [
    {
      "cell_type": "markdown",
      "metadata": {
        "id": "view-in-github",
        "colab_type": "text"
      },
      "source": [
        "<a href=\"https://colab.research.google.com/github/armandossrecife/teste/blob/main/extract_audio_video_info.ipynb\" target=\"_parent\"><img src=\"https://colab.research.google.com/assets/colab-badge.svg\" alt=\"Open In Colab\"/></a>"
      ]
    },
    {
      "cell_type": "markdown",
      "source": [
        "# Extrai informações básicas de arquivos de vídeo e audio\n",
        "\n",
        "Vídeos e Aúdio"
      ],
      "metadata": {
        "id": "T96M4ImXGrWZ"
      }
    },
    {
      "cell_type": "markdown",
      "source": [
        "## Arquivos de teste"
      ],
      "metadata": {
        "id": "vwW-rEWoMCtN"
      }
    },
    {
      "cell_type": "code",
      "source": [
        "!rm -rf *.mp4 && rm -rf *.mp3"
      ],
      "metadata": {
        "id": "QbeBgIOIIzKH"
      },
      "execution_count": 68,
      "outputs": []
    },
    {
      "cell_type": "code",
      "source": [
        "!wget https://raw.githubusercontent.com/armandossrecife/teste/main/Adrienne.mp4\n",
        "!wget https://raw.githubusercontent.com/armandossrecife/teste/main/Obama_Speech_about_education.mp4\n",
        "!wget https://raw.githubusercontent.com/armandossrecife/teste/main/Kalimba.mp3"
      ],
      "metadata": {
        "colab": {
          "base_uri": "https://localhost:8080/"
        },
        "id": "UoAVWWF-Cjp-",
        "outputId": "9a32a846-cde0-4d72-d90c-a478cada1981"
      },
      "execution_count": 69,
      "outputs": [
        {
          "output_type": "stream",
          "name": "stdout",
          "text": [
            "--2024-07-22 16:08:06--  https://raw.githubusercontent.com/armandossrecife/teste/main/Adrienne.mp4\n",
            "Resolving raw.githubusercontent.com (raw.githubusercontent.com)... 185.199.108.133, 185.199.109.133, 185.199.110.133, ...\n",
            "Connecting to raw.githubusercontent.com (raw.githubusercontent.com)|185.199.108.133|:443... connected.\n",
            "HTTP request sent, awaiting response... 200 OK\n",
            "Length: 14944332 (14M) [application/octet-stream]\n",
            "Saving to: ‘Adrienne.mp4’\n",
            "\n",
            "\rAdrienne.mp4          0%[                    ]       0  --.-KB/s               \rAdrienne.mp4        100%[===================>]  14.25M  --.-KB/s    in 0.1s    \n",
            "\n",
            "2024-07-22 16:08:06 (122 MB/s) - ‘Adrienne.mp4’ saved [14944332/14944332]\n",
            "\n",
            "--2024-07-22 16:08:07--  https://raw.githubusercontent.com/armandossrecife/teste/main/Obama_Speech_about_education.mp4\n",
            "Resolving raw.githubusercontent.com (raw.githubusercontent.com)... 185.199.108.133, 185.199.111.133, 185.199.110.133, ...\n",
            "Connecting to raw.githubusercontent.com (raw.githubusercontent.com)|185.199.108.133|:443... connected.\n",
            "HTTP request sent, awaiting response... 200 OK\n",
            "Length: 18613317 (18M) [application/octet-stream]\n",
            "Saving to: ‘Obama_Speech_about_education.mp4’\n",
            "\n",
            "Obama_Speech_about_ 100%[===================>]  17.75M  --.-KB/s    in 0.1s    \n",
            "\n",
            "2024-07-22 16:08:07 (138 MB/s) - ‘Obama_Speech_about_education.mp4’ saved [18613317/18613317]\n",
            "\n",
            "--2024-07-22 16:08:07--  https://raw.githubusercontent.com/armandossrecife/teste/main/Kalimba.mp3\n",
            "Resolving raw.githubusercontent.com (raw.githubusercontent.com)... 185.199.108.133, 185.199.109.133, 185.199.110.133, ...\n",
            "Connecting to raw.githubusercontent.com (raw.githubusercontent.com)|185.199.108.133|:443... connected.\n",
            "HTTP request sent, awaiting response... 200 OK\n",
            "Length: 8414449 (8.0M) [application/octet-stream]\n",
            "Saving to: ‘Kalimba.mp3’\n",
            "\n",
            "Kalimba.mp3         100%[===================>]   8.02M  --.-KB/s    in 0.1s    \n",
            "\n",
            "2024-07-22 16:08:07 (76.6 MB/s) - ‘Kalimba.mp3’ saved [8414449/8414449]\n",
            "\n"
          ]
        }
      ]
    },
    {
      "cell_type": "markdown",
      "source": [
        "## Instala programas e bibliotecas\n",
        "\n",
        "**FFmpeg**:\n",
        "\n",
        "FFmpeg is a free and open-source software project consisting of a suite of libraries and programs for handling video, audio, and other multimedia files and streams.\n",
        "\n",
        "- https://ffmpeg.org/\n",
        "- https://en.wikipedia.org/wiki/FFmpeg\n",
        "\n",
        "**Pyffmpeg**:\n",
        "\n",
        "FFmpeg wrapper for python. It uses the most up-to-date FFmpeg binary to provide both FFmpeg and FFprobe functionality. So you can kill two birds with one stone.\n",
        "\n",
        "- https://pypi.org/project/pyffmpeg\n",
        "\n",
        "**Soundfile**:\n",
        "The soundfile module can read and write sound files.\n",
        "\n",
        "- https://pypi.org/project/soundfile"
      ],
      "metadata": {
        "id": "XynyWe_SEyLB"
      }
    },
    {
      "cell_type": "code",
      "source": [
        "!sudo apt install ffmpeg"
      ],
      "metadata": {
        "colab": {
          "base_uri": "https://localhost:8080/"
        },
        "id": "Ys-hXPmcFJ8h",
        "outputId": "9570b0d6-2b2b-4de4-e717-17afd19be9b1"
      },
      "execution_count": 70,
      "outputs": [
        {
          "output_type": "stream",
          "name": "stdout",
          "text": [
            "Reading package lists... Done\n",
            "Building dependency tree... Done\n",
            "Reading state information... Done\n",
            "ffmpeg is already the newest version (7:4.4.2-0ubuntu0.22.04.1).\n",
            "0 upgraded, 0 newly installed, 0 to remove and 45 not upgraded.\n"
          ]
        }
      ]
    },
    {
      "cell_type": "code",
      "source": [
        "!ffmpeg -version"
      ],
      "metadata": {
        "colab": {
          "base_uri": "https://localhost:8080/"
        },
        "id": "as1I2yeGFY5z",
        "outputId": "c5c4fcfd-7505-4bcb-cb42-d8bb9c6102f9"
      },
      "execution_count": 71,
      "outputs": [
        {
          "output_type": "stream",
          "name": "stdout",
          "text": [
            "ffmpeg version 4.4.2-0ubuntu0.22.04.1 Copyright (c) 2000-2021 the FFmpeg developers\n",
            "built with gcc 11 (Ubuntu 11.2.0-19ubuntu1)\n",
            "configuration: --prefix=/usr --extra-version=0ubuntu0.22.04.1 --toolchain=hardened --libdir=/usr/lib/x86_64-linux-gnu --incdir=/usr/include/x86_64-linux-gnu --arch=amd64 --enable-gpl --disable-stripping --enable-gnutls --enable-ladspa --enable-libaom --enable-libass --enable-libbluray --enable-libbs2b --enable-libcaca --enable-libcdio --enable-libcodec2 --enable-libdav1d --enable-libflite --enable-libfontconfig --enable-libfreetype --enable-libfribidi --enable-libgme --enable-libgsm --enable-libjack --enable-libmp3lame --enable-libmysofa --enable-libopenjpeg --enable-libopenmpt --enable-libopus --enable-libpulse --enable-librabbitmq --enable-librubberband --enable-libshine --enable-libsnappy --enable-libsoxr --enable-libspeex --enable-libsrt --enable-libssh --enable-libtheora --enable-libtwolame --enable-libvidstab --enable-libvorbis --enable-libvpx --enable-libwebp --enable-libx265 --enable-libxml2 --enable-libxvid --enable-libzimg --enable-libzmq --enable-libzvbi --enable-lv2 --enable-omx --enable-openal --enable-opencl --enable-opengl --enable-sdl2 --enable-pocketsphinx --enable-librsvg --enable-libmfx --enable-libdc1394 --enable-libdrm --enable-libiec61883 --enable-chromaprint --enable-frei0r --enable-libx264 --enable-shared\n",
            "libavutil      56. 70.100 / 56. 70.100\n",
            "libavcodec     58.134.100 / 58.134.100\n",
            "libavformat    58. 76.100 / 58. 76.100\n",
            "libavdevice    58. 13.100 / 58. 13.100\n",
            "libavfilter     7.110.100 /  7.110.100\n",
            "libswscale      5.  9.100 /  5.  9.100\n",
            "libswresample   3.  9.100 /  3.  9.100\n",
            "libpostproc    55.  9.100 / 55.  9.100\n"
          ]
        }
      ]
    },
    {
      "cell_type": "code",
      "execution_count": 72,
      "metadata": {
        "colab": {
          "base_uri": "https://localhost:8080/"
        },
        "id": "HFG8-a9aBP20",
        "outputId": "d5e7b0c5-62cf-423c-f73a-a72a1d577445"
      },
      "outputs": [
        {
          "output_type": "stream",
          "name": "stdout",
          "text": [
            "Requirement already satisfied: ffmpeg in /usr/local/lib/python3.10/dist-packages (1.4)\n"
          ]
        }
      ],
      "source": [
        "!pip install ffmpeg"
      ]
    },
    {
      "cell_type": "code",
      "source": [
        "!pip install --upgrade pyffmpeg"
      ],
      "metadata": {
        "colab": {
          "base_uri": "https://localhost:8080/"
        },
        "id": "jbPp475bEquG",
        "outputId": "eb204f38-23d0-43da-bc8b-7f437f889fb9"
      },
      "execution_count": 73,
      "outputs": [
        {
          "output_type": "stream",
          "name": "stdout",
          "text": [
            "Requirement already satisfied: pyffmpeg in /usr/local/lib/python3.10/dist-packages (2.4.2.18.1)\n"
          ]
        }
      ]
    },
    {
      "cell_type": "markdown",
      "source": [
        "## Importa dependências"
      ],
      "metadata": {
        "id": "FZen6be3MIx2"
      }
    },
    {
      "cell_type": "code",
      "source": [
        "import ffmpeg\n",
        "import os\n",
        "import subprocess\n",
        "import json\n",
        "import soundfile as sf"
      ],
      "metadata": {
        "id": "QasuSw3SBr8g"
      },
      "execution_count": 74,
      "outputs": []
    },
    {
      "cell_type": "markdown",
      "source": [
        "## Extrai dados básicos de arquivos de vídeo"
      ],
      "metadata": {
        "id": "QqJ_NhxbMLTO"
      }
    },
    {
      "cell_type": "code",
      "source": [
        "def extract_video_info(video_path):\n",
        "  try:\n",
        "    # Use ffmpeg command-line tool for probing\n",
        "    command = [\"ffprobe\", \"-v\", \"quiet\", \"-print_format\", \"json\", \"-show_format\", \"-show_streams\", video_path]\n",
        "    output = subprocess.check_output(command).decode()\n",
        "    probe = json.loads(output)\n",
        "\n",
        "    # Extract information (adjust based on your needs)\n",
        "    video_stream = next(stream for stream in probe['streams'] if stream['codec_type'] == 'video')\n",
        "    info = {\n",
        "      \"filename\": os.path.basename(video_path),\n",
        "      \"size\": os.path.getsize(video_path),\n",
        "      \"format\": probe['format']['format_name'],\n",
        "      \"duration\": video_stream['duration'],  # In seconds (float)\n",
        "      \"width\": video_stream['width'],\n",
        "      \"height\": video_stream['height'],\n",
        "      \"frame_rate\": video_stream['avg_frame_rate'],  # Format: fps (string)\n",
        "    }\n",
        "\n",
        "    return info\n",
        "\n",
        "  except subprocess.CalledProcessError as e:\n",
        "    print(f\"Error processing video: {video_path} - {e}\")\n",
        "    return None"
      ],
      "metadata": {
        "id": "hWes7vR4FWb5"
      },
      "execution_count": 75,
      "outputs": []
    },
    {
      "cell_type": "markdown",
      "source": [
        "## Extrai dados básicos de arquivos de áudio"
      ],
      "metadata": {
        "id": "ikn_S87OMP7l"
      }
    },
    {
      "cell_type": "code",
      "source": [
        "def extract_audio_info(audio_path):\n",
        "  try:\n",
        "    # Use ffprobe for metadata extraction\n",
        "    command = [\"ffprobe\", \"-v\", \"quiet\", \"-print_format\", \"json\", \"-show_format\", \"-show_streams\", audio_path]\n",
        "    output = subprocess.check_output(command).decode()\n",
        "    probe_data = json.loads(output)\n",
        "\n",
        "    # Extract data information using soundfile\n",
        "    info = sf.info(audio_path)\n",
        "    data_info = {\n",
        "      \"filename\": os.path.basename(audio_path),\n",
        "      \"size\": os.path.getsize(audio_path),\n",
        "      \"format\": info.format,\n",
        "      \"length\": probe_data['format']['duration'],  # In seconds (float) from ffprobe\n",
        "      \"channels\": info.channels,\n",
        "      \"sample_rate\": info.samplerate,\n",
        "    }\n",
        "\n",
        "    # Extract metadata (tags) from ffprobe data\n",
        "    metadata = {stream.get('tags', {}).get(key) for stream in probe_data['streams'] for key in stream.get('tags', {}).keys()}\n",
        "\n",
        "    # Combine data and metadata information\n",
        "  except subprocess.CalledProcessError as e:\n",
        "    print(f\"Error processing audio: {audio_path} - {e}\")\n",
        "    return None\n",
        "\n",
        "  return info, data_info, metadata"
      ],
      "metadata": {
        "id": "6LZxKxvGIMtx"
      },
      "execution_count": 76,
      "outputs": []
    },
    {
      "cell_type": "markdown",
      "source": [
        "## Exemplos de extração de informações de arquivos de vídeo e aúdio"
      ],
      "metadata": {
        "id": "dwZrX73VMTZ0"
      }
    },
    {
      "cell_type": "markdown",
      "source": [
        "### Arquivos de vídeo (mpeg4)\n",
        "\n",
        "https://pt.wikipedia.org/wiki/Mp4"
      ],
      "metadata": {
        "id": "SVJJPrNZMZNX"
      }
    },
    {
      "cell_type": "code",
      "source": [
        "lista_video_paths = []\n",
        "lista_audio_paths = []\n",
        "\n",
        "current_path = os.getcwd()\n",
        "print(current_path)\n",
        "\n",
        "my_path1 = current_path + '/' + 'Adrienne.mp4'\n",
        "print(my_path1)\n",
        "my_path2 = current_path + '/' + 'Obama_Speech_about_education.mp4'\n",
        "print(my_path2)\n",
        "my_path3 = current_path + '/' + 'Kalimba.mp3'\n",
        "print(my_path3)\n",
        "\n",
        "lista_video_paths.append(my_path1)\n",
        "lista_video_paths.append(my_path2)\n",
        "lista_audio_paths.append(my_path3)"
      ],
      "metadata": {
        "colab": {
          "base_uri": "https://localhost:8080/"
        },
        "id": "sCzFOtJrDRij",
        "outputId": "531539fc-aa3b-426d-86c4-cc864a28625a"
      },
      "execution_count": 77,
      "outputs": [
        {
          "output_type": "stream",
          "name": "stdout",
          "text": [
            "/content\n",
            "/content/Adrienne.mp4\n",
            "/content/Obama_Speech_about_education.mp4\n",
            "/content/Kalimba.mp3\n"
          ]
        }
      ]
    },
    {
      "cell_type": "code",
      "source": [
        "for video_path in lista_video_paths:\n",
        "  video_info = extract_video_info(video_path)\n",
        "\n",
        "  if video_info:\n",
        "    print(\"Video Information:\")\n",
        "    print(video_path)\n",
        "    for key, value in video_info.items():\n",
        "      print(f\"\\t{key}: {value}\")"
      ],
      "metadata": {
        "colab": {
          "base_uri": "https://localhost:8080/"
        },
        "id": "-AtxwfDWGGnh",
        "outputId": "4bcf7068-e3b2-4e23-a478-c5b6c2a19ae2"
      },
      "execution_count": 78,
      "outputs": [
        {
          "output_type": "stream",
          "name": "stdout",
          "text": [
            "Video Information:\n",
            "/content/Adrienne.mp4\n",
            "\tfilename: Adrienne.mp4\n",
            "\tsize: 14944332\n",
            "\tformat: mov,mp4,m4a,3gp,3g2,mj2\n",
            "\tduration: 239.339100\n",
            "\twidth: 480\n",
            "\theight: 360\n",
            "\tframe_rate: 30000/1001\n",
            "Video Information:\n",
            "/content/Obama_Speech_about_education.mp4\n",
            "\tfilename: Obama_Speech_about_education.mp4\n",
            "\tsize: 18613317\n",
            "\tformat: mov,mp4,m4a,3gp,3g2,mj2\n",
            "\tduration: 669.160000\n",
            "\twidth: 640\n",
            "\theight: 360\n",
            "\tframe_rate: 25/1\n"
          ]
        }
      ]
    },
    {
      "cell_type": "markdown",
      "source": [
        "### Arquivos de áudio (mp3)\n",
        "\n",
        "https://pt.wikipedia.org/wiki/MP3"
      ],
      "metadata": {
        "id": "WsAlto6cMiC2"
      }
    },
    {
      "cell_type": "code",
      "source": [
        "for audio_path in lista_audio_paths:\n",
        "  audio_info, audio_data, audio_metadata = extract_audio_info(audio_path)\n",
        "\n",
        "  if audio_info:\n",
        "    print(\"Audio Information:\")\n",
        "    print(audio_path)\n",
        "\n",
        "  if audio_data:\n",
        "    print(\"Audio Data:\")\n",
        "    print(audio_path)\n",
        "    for key, value in audio_data.items():\n",
        "      print(f\"\\t{key}: {value}\")\n",
        "\n",
        "  if audio_metadata:\n",
        "    print(\"Audio Metadata:\")\n",
        "    print(audio_path)\n",
        "    print(type(audio_metadata), audio_metadata)"
      ],
      "metadata": {
        "colab": {
          "base_uri": "https://localhost:8080/"
        },
        "id": "KUu_Y9pGEU_w",
        "outputId": "e80a82fb-0770-4eb0-a68c-207c52dbf624"
      },
      "execution_count": 79,
      "outputs": [
        {
          "output_type": "stream",
          "name": "stdout",
          "text": [
            "Audio Information:\n",
            "/content/Kalimba.mp3\n",
            "Audio Data:\n",
            "/content/Kalimba.mp3\n",
            "\tfilename: Kalimba.mp3\n",
            "\tsize: 8414449\n",
            "\tformat: MP3\n",
            "\tlength: 348.060833\n",
            "\tchannels: 2\n",
            "\tsample_rate: 44100\n",
            "Audio Metadata:\n",
            "/content/Kalimba.mp3\n",
            "<class 'set'> {'thumbnail', 'Cover (front)'}\n"
          ]
        }
      ]
    }
  ]
}
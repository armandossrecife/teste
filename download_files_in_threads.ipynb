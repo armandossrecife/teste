{
  "nbformat": 4,
  "nbformat_minor": 0,
  "metadata": {
    "colab": {
      "provenance": [],
      "authorship_tag": "ABX9TyMeRf8AfdhW68VuIc2SbuSR",
      "include_colab_link": true
    },
    "kernelspec": {
      "name": "python3",
      "display_name": "Python 3"
    },
    "language_info": {
      "name": "python"
    }
  },
  "cells": [
    {
      "cell_type": "markdown",
      "metadata": {
        "id": "view-in-github",
        "colab_type": "text"
      },
      "source": [
        "<a href=\"https://colab.research.google.com/github/armandossrecife/teste/blob/main/download_files_in_threads.ipynb\" target=\"_parent\"><img src=\"https://colab.research.google.com/assets/colab-badge.svg\" alt=\"Open In Colab\"/></a>"
      ]
    },
    {
      "cell_type": "markdown",
      "source": [
        "# Teste de downloads em várias Threads"
      ],
      "metadata": {
        "id": "EuitrRouHNSl"
      }
    },
    {
      "cell_type": "code",
      "source": [
        "import threading\n",
        "import urllib.request\n",
        "import datetime\n",
        "\n",
        "lista_tempo_conclusao = []\n",
        "# Faz o download de um arquivo\n",
        "# url - link do arquivo \n",
        "# nome - nome do arquivo \n",
        "# lista - lista que guarda o tempo que o download foi iniciado\n",
        "def meu_download(url, nome, lista):\n",
        "  try:\n",
        "    print(f\"download {nome} iniciado!\")\n",
        "    filename, headers = urllib.request.urlretrieve(url, filename=nome)\n",
        "    tempo = datetime.datetime.now()\n",
        "    print(f\"download do arquivo {filename} completo! -> instante: {tempo}\")\n",
        "    elemento = (nome, tempo)\n",
        "    lista.append(elemento)\n",
        "  except Exception as ex: \n",
        "    print(f\"Erro no download: {str(ex)}\")"
      ],
      "metadata": {
        "id": "JkMv9bd6A-XQ"
      },
      "execution_count": 20,
      "outputs": []
    },
    {
      "cell_type": "code",
      "execution_count": 21,
      "metadata": {
        "colab": {
          "base_uri": "https://localhost:8080/"
        },
        "id": "zsoP0RopA24N",
        "outputId": "485448b4-437d-4712-842b-a44277c4cfb3"
      },
      "outputs": [
        {
          "output_type": "stream",
          "name": "stdout",
          "text": [
            "bloco de downloads...\n",
            "Thread 1 iniciada em 2023-02-03 21:09:16.293688\n",
            "download arquivo1.zip iniciado!Thread 2 iniciada em 2023-02-03 21:09:16.294596\n",
            "\n",
            "download arquivo2.zip iniciado!Thread 3 iniciada em 2023-02-03 21:09:16.298316\n",
            "\n",
            "download arquivo3.zip iniciado!Thread 4 iniciada em 2023-02-03 21:09:16.300684\n",
            "\n",
            "download arquivo4.zip iniciado!Thread 5 iniciada em 2023-02-03 21:09:16.301726\n",
            "\n",
            "download arquivo5.zip iniciado!Thread 6 iniciada em 2023-02-03 21:09:16.304236\n",
            "\n",
            "download arquivo6.zip iniciado!\n",
            "Thread 7 iniciada em 2023-02-03 21:09:16.306228\n",
            "download arquivo7.zip iniciado!\n",
            "Thread 8 iniciada em 2023-02-03 21:09:16.310403\n",
            "download arquivo8.zip iniciado!\n",
            "Thread 9 iniciada em 2023-02-03 21:09:16.314060\n",
            "download arquivo9.zip iniciado!Thread 10 iniciada em 2023-02-03 21:09:16.317741\n",
            "\n",
            "download arquivo10.zip iniciado!\n",
            "download do arquivo arquivo5.zip completo! -> instante: 2023-02-03 21:09:16.759877\n",
            "download do arquivo arquivo7.zip completo! -> instante: 2023-02-03 21:09:16.802637\n",
            "download do arquivo arquivo4.zip completo! -> instante: 2023-02-03 21:09:16.832752\n",
            "download do arquivo arquivo2.zip completo! -> instante: 2023-02-03 21:09:16.842990\n",
            "download do arquivo arquivo6.zip completo! -> instante: 2023-02-03 21:09:16.843725\n",
            "download do arquivo arquivo1.zip completo! -> instante: 2023-02-03 21:09:16.845898\n",
            "download do arquivo arquivo3.zip completo! -> instante: 2023-02-03 21:09:16.854131\n",
            "download do arquivo arquivo9.zip completo! -> instante: 2023-02-03 21:09:16.859627\n",
            "download do arquivo arquivo8.zip completo! -> instante: 2023-02-03 21:09:16.867904\n",
            "download do arquivo arquivo10.zip completo! -> instante: 2023-02-03 21:09:16.870093\n",
            "\n",
            "Tempo total de 10 downloads: 0:00:00.577862s\n",
            "Tempo de download do arquivo1.zip é: 0:00:00.552210s\n",
            "Tempo de download do arquivo2.zip é: 0:00:00.548394s\n",
            "Tempo de download do arquivo3.zip é: 0:00:00.555815s\n",
            "Tempo de download do arquivo4.zip é: 0:00:00.532068s\n",
            "Tempo de download do arquivo5.zip é: 0:00:00.458151s\n",
            "Tempo de download do arquivo6.zip é: 0:00:00.539489s\n",
            "Tempo de download do arquivo7.zip é: 0:00:00.496409s\n",
            "Tempo de download do arquivo8.zip é: 0:00:00.557501s\n",
            "Tempo de download do arquivo9.zip é: 0:00:00.545567s\n",
            "Tempo de download do arquivo10.zip é: 0:00:00.552352s\n"
          ]
        }
      ],
      "source": [
        "url1 = \"https://raw.githubusercontent.com/armandossrecife/teste/main/archive.zip\"\n",
        "qtd_downloads = 10\n",
        "\n",
        "print(\"bloco de downloads...\")\n",
        "tempo1 = datetime.datetime.now()\n",
        "\n",
        "lista_threads = [] # lista que armazena dos threads que vao fazer os downloads\n",
        "lista_tempo_inicio = [] # lista que vai guardar o instante de inicio de cada thread de download\n",
        "\n",
        "for i in range(qtd_downloads):\n",
        "  nome = 'arquivo'+str(i+1)+'.zip'\n",
        "  tdi = threading.Thread(target=meu_download, args=(url1, nome, lista_tempo_conclusao)) # Thread que inicia cada download\n",
        "  tdi.name = 'Thread-'+str(i+1) # nome do objeto thread recem criado\n",
        "  inicio_thread = datetime.datetime.now() # instante que o download inicia\n",
        "  print(f\"Thread {i+1} iniciada em {inicio_thread}\")\n",
        "  lista_threads.append(tdi) # insere a thread recem criada na lista de threads\n",
        "  elemento = (nome, inicio_thread)\n",
        "  lista_tempo_inicio.append(elemento)\n",
        "  tdi.start() # inicia a thread\n",
        "\n",
        "for each in lista_threads:\n",
        "  each.join()\n",
        "  \n",
        "tempo2 = datetime.datetime.now()\n",
        "print(\"\")\n",
        "print(f\"Tempo total de {qtd_downloads} downloads: {tempo2-tempo1}s\")\n",
        "\n",
        "for t1 in lista_tempo_inicio:\n",
        "  for t2 in lista_tempo_conclusao:\n",
        "    if (t1[0]==t2[0]):\n",
        "      print(f\"Tempo de download do {t1[0]} é: {t2[1]-t1[1]}s\")"
      ]
    },
    {
      "cell_type": "markdown",
      "source": [
        "# Teste usando clonagem de repositórios em várias Threads"
      ],
      "metadata": {
        "id": "8YT8mLPEDw92"
      }
    },
    {
      "cell_type": "code",
      "source": [
        "!python3 -m pip install gitpython"
      ],
      "metadata": {
        "colab": {
          "base_uri": "https://localhost:8080/"
        },
        "id": "BkG41qfACogU",
        "outputId": "8f46e2ab-44b7-4a9f-94c2-7feda754adb3"
      },
      "execution_count": 22,
      "outputs": [
        {
          "output_type": "stream",
          "name": "stdout",
          "text": [
            "Looking in indexes: https://pypi.org/simple, https://us-python.pkg.dev/colab-wheels/public/simple/\n",
            "Requirement already satisfied: gitpython in /usr/local/lib/python3.8/dist-packages (3.1.30)\n",
            "Requirement already satisfied: gitdb<5,>=4.0.1 in /usr/local/lib/python3.8/dist-packages (from gitpython) (4.0.10)\n",
            "Requirement already satisfied: smmap<6,>=3.0.1 in /usr/local/lib/python3.8/dist-packages (from gitdb<5,>=4.0.1->gitpython) (5.0.0)\n"
          ]
        }
      ]
    },
    {
      "cell_type": "code",
      "source": [
        "from git import Repo\n",
        "\n",
        "lista_tempo_conclusao = []\n",
        "def my_clone(git_url, repo_dir, lista):\n",
        "  try:\n",
        "    Repo.clone_from(git_url, repo_dir)\n",
        "    tempo = datetime.datetime.now()\n",
        "    print(f'Clonagem do repo {git_url} concluída com sucesso! -> instante: {tempo}')\n",
        "    elemento = (repo_dir, tempo)\n",
        "    lista.append(elemento)\n",
        "  except Exception as ex:\n",
        "    print(f\"Erro ao clonar o repo: {git_url}\")"
      ],
      "metadata": {
        "id": "NdM8aKKeCvld"
      },
      "execution_count": 28,
      "outputs": []
    },
    {
      "cell_type": "code",
      "source": [
        "lista_urls = ['https://github.com/apache/cassandra.git', 'https://github.com/armandossrecife/teste', 'https://github.com/Technical-Debt-Large-Scale/sysrepoanalysis.git', 'https://github.com/armandossrecife/syspromocity.git']\n",
        "qtd_repositorios = len(lista_urls)\n",
        "\n",
        "print(\"bloco de clonagem...\")\n",
        "tempo1 = datetime.datetime.now()\n",
        "\n",
        "lista_threads = [] # lista que armazena dos threads que vao fazer os clones\n",
        "lista_tempo_inicio = [] # lista que vai guardar o instante de inicio de cada thread de clonagem\n",
        "\n",
        "for i in range(qtd_repositorios):\n",
        "  nome = 'repositorio'+str(i+1)\n",
        "  tdi = threading.Thread(target=my_clone, args=(lista_urls[i], nome, lista_tempo_conclusao)) # Thread que inicia cada clonagem\n",
        "  tdi.name = 'Thread-'+str(i+1) # nome do objeto thread recem criado\n",
        "  inicio_thread = datetime.datetime.now() # instante que o clone inicia\n",
        "  print(f\"Thread {i+1} iniciada em {inicio_thread}\")\n",
        "  lista_threads.append(tdi) # insere a thread recem criada na lista de threads\n",
        "  elemento = (nome, inicio_thread)\n",
        "  lista_tempo_inicio.append(elemento)\n",
        "  tdi.start() # inicia a thread\n",
        "\n",
        "for each in lista_threads:\n",
        "  each.join()\n",
        "  \n",
        "tempo2 = datetime.datetime.now()\n",
        "print(\"\")\n",
        "print(f\"Tempo total de {qtd_repositorios} downloads: {tempo2-tempo1}s\")\n",
        "\n",
        "print(f'Lista de tempos de inicio: {lista_tempo_inicio}')\n",
        "print(f'Lista de tempos de conclusao: {lista_tempo_conclusao}')\n",
        "\n",
        "for t1 in lista_tempo_inicio:\n",
        "  for t2 in lista_tempo_conclusao:\n",
        "    if (t1[0]==t2[0]):\n",
        "      print(f\"Tempo de download do {t1[0]} é: {t2[1]-t1[1]}s\")"
      ],
      "metadata": {
        "colab": {
          "base_uri": "https://localhost:8080/"
        },
        "id": "0do1Max0DtUk",
        "outputId": "a8885650-9642-42e4-a530-5ef9cfa9798d"
      },
      "execution_count": 29,
      "outputs": [
        {
          "output_type": "stream",
          "name": "stdout",
          "text": [
            "bloco de clonagem...\n",
            "Thread 1 iniciada em 2023-02-03 21:14:25.675549\n",
            "Thread 2 iniciada em 2023-02-03 21:14:25.684118\n",
            "Thread 3 iniciada em 2023-02-03 21:14:25.690004\n",
            "Thread 4 iniciada em 2023-02-03 21:14:25.697944\n",
            "Clonagem do repo https://github.com/Technical-Debt-Large-Scale/sysrepoanalysis.git concluída com sucesso! -> instante: 2023-02-03 21:14:26.740142\n",
            "Clonagem do repo https://github.com/armandossrecife/teste concluída com sucesso! -> instante: 2023-02-03 21:14:27.683135\n",
            "Clonagem do repo https://github.com/armandossrecife/syspromocity.git concluída com sucesso! -> instante: 2023-02-03 21:14:28.786109\n",
            "Clonagem do repo https://github.com/apache/cassandra.git concluída com sucesso! -> instante: 2023-02-03 21:15:07.630771\n",
            "\n",
            "Tempo total de 4 downloads: 0:00:41.957212s\n",
            "Lista de tempos de inicio: [('repositorio1', datetime.datetime(2023, 2, 3, 21, 14, 25, 675549)), ('repositorio2', datetime.datetime(2023, 2, 3, 21, 14, 25, 684118)), ('repositorio3', datetime.datetime(2023, 2, 3, 21, 14, 25, 690004)), ('repositorio4', datetime.datetime(2023, 2, 3, 21, 14, 25, 697944))]\n",
            "Lista de tempos de conclusao: [('repositorio3', datetime.datetime(2023, 2, 3, 21, 14, 26, 740142)), ('repositorio2', datetime.datetime(2023, 2, 3, 21, 14, 27, 683135)), ('repositorio4', datetime.datetime(2023, 2, 3, 21, 14, 28, 786109)), ('repositorio1', datetime.datetime(2023, 2, 3, 21, 15, 7, 630771))]\n",
            "Tempo de download do repositorio1 é: 0:00:41.955222s\n",
            "Tempo de download do repositorio2 é: 0:00:01.999017s\n",
            "Tempo de download do repositorio3 é: 0:00:01.050138s\n",
            "Tempo de download do repositorio4 é: 0:00:03.088165s\n"
          ]
        }
      ]
    },
    {
      "cell_type": "code",
      "source": [
        "!rm -rf repositorio*"
      ],
      "metadata": {
        "id": "RQ0zuGz2FxjK"
      },
      "execution_count": 27,
      "outputs": []
    },
    {
      "cell_type": "code",
      "source": [],
      "metadata": {
        "id": "PHWgOkyGFzaF"
      },
      "execution_count": null,
      "outputs": []
    }
  ]
}
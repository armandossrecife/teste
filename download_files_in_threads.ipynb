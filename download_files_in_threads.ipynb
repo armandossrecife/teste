{
  "nbformat": 4,
  "nbformat_minor": 0,
  "metadata": {
    "colab": {
      "provenance": [],
      "authorship_tag": "ABX9TyNIJBlm0U86F60YNIGdXBo+",
      "include_colab_link": true
    },
    "kernelspec": {
      "name": "python3",
      "display_name": "Python 3"
    },
    "language_info": {
      "name": "python"
    }
  },
  "cells": [
    {
      "cell_type": "markdown",
      "metadata": {
        "id": "view-in-github",
        "colab_type": "text"
      },
      "source": [
        "<a href=\"https://colab.research.google.com/github/armandossrecife/teste/blob/main/download_files_in_threads.ipynb\" target=\"_parent\"><img src=\"https://colab.research.google.com/assets/colab-badge.svg\" alt=\"Open In Colab\"/></a>"
      ]
    },
    {
      "cell_type": "code",
      "source": [
        "import threading\n",
        "import urllib.request\n",
        "import datetime\n",
        "\n",
        "lista_tempo_conclusao = []\n",
        "# Faz o download de um arquivo\n",
        "# url - link do arquivo \n",
        "# nome - nome do arquivo \n",
        "# lista - lista que guarda o tempo que o download foi iniciado\n",
        "def meu_download(url, nome, lista):\n",
        "  try:\n",
        "    print(f\"download {nome} iniciado!\")\n",
        "    filename, headers = urllib.request.urlretrieve(url, filename=nome)\n",
        "    tempo = datetime.datetime.now()\n",
        "    print(f\"download do arquivo {filename} completo! -> instante: {tempo}\")\n",
        "    elemento = (nome, tempo)\n",
        "    lista.append(elemento)\n",
        "  except Exception as ex: \n",
        "    print(f\"Erro no download: {str(ex)}\")"
      ],
      "metadata": {
        "id": "JkMv9bd6A-XQ"
      },
      "execution_count": 1,
      "outputs": []
    },
    {
      "cell_type": "code",
      "execution_count": null,
      "metadata": {
        "id": "zsoP0RopA24N"
      },
      "outputs": [],
      "source": [
        "url1 = \"https://raw.githubusercontent.com/armandossrecife/teste/main/archive.zip\"\n",
        "qtd_downloads = 10\n",
        "\n",
        "print(\"bloco de downloads...\")\n",
        "tempo1 = datetime.datetime.now()\n",
        "\n",
        "lista_threads = [] # lista que armazena dos threads que vao fazer os downloads\n",
        "lista_tempo_inicio = [] # lista que vai guardar o instante de inicio de cada thread de download\n",
        "\n",
        "for i in range(qtd_downloads):\n",
        "  nome = 'arquivo'+str(i+1)+'.zip'\n",
        "  tdi = threading.Thread(target=meu_download, args=(url1, nome, lista_tempo_conclusao)) # Thread que inicia cada download\n",
        "  tdi.name = 'Thread-'+str(i+1) # nome do objeto thread recem criado\n",
        "  inicio_thread = datetime.datetime.now() # instante que o download inicia\n",
        "  print(f\"Thread {i+1} iniciada em {inicio_thread}\")\n",
        "  lista_threads.append(tdi) # insere a thread recem criada na lista de threads\n",
        "  elemento = (nome, inicio_thread)\n",
        "  lista_tempo_inicio.append(elemento)\n",
        "  tdi.start() # inicia a thread\n",
        "\n",
        "for each in lista_threads:\n",
        "  each.join()\n",
        "  \n",
        "tempo2 = datetime.datetime.now()\n",
        "print(\"\")\n",
        "print(f\"Tempo total de {qtd_downloads} downloads: {tempo2-tempo1}s\")\n",
        "\n",
        "for t1 in lista_tempo_inicio:\n",
        "  for t2 in lista_tempo_conclusao:\n",
        "    if (t1[0]==t2[0]):\n",
        "      print(f\"Tempo de download do {t1[0]} é: {t2[1]-t1[1]}s\")"
      ]
    },
    {
      "cell_type": "markdown",
      "source": [
        "# Teste usando clonagem de repositórios"
      ],
      "metadata": {
        "id": "8YT8mLPEDw92"
      }
    },
    {
      "cell_type": "code",
      "source": [
        "!python3 -m pip install gitpython"
      ],
      "metadata": {
        "colab": {
          "base_uri": "https://localhost:8080/"
        },
        "id": "BkG41qfACogU",
        "outputId": "222495b4-cae1-4c3a-87ab-cced970a81da"
      },
      "execution_count": 6,
      "outputs": [
        {
          "output_type": "stream",
          "name": "stdout",
          "text": [
            "Looking in indexes: https://pypi.org/simple, https://us-python.pkg.dev/colab-wheels/public/simple/\n",
            "Collecting gitpython\n",
            "  Downloading GitPython-3.1.30-py3-none-any.whl (184 kB)\n",
            "\u001b[2K     \u001b[90m━━━━━━━━━━━━━━━━━━━━━━━━━━━━━━━━━━━━━━\u001b[0m \u001b[32m184.0/184.0 KB\u001b[0m \u001b[31m14.9 MB/s\u001b[0m eta \u001b[36m0:00:00\u001b[0m\n",
            "\u001b[?25hCollecting gitdb<5,>=4.0.1\n",
            "  Downloading gitdb-4.0.10-py3-none-any.whl (62 kB)\n",
            "\u001b[2K     \u001b[90m━━━━━━━━━━━━━━━━━━━━━━━━━━━━━━━━━━━━━━━━\u001b[0m \u001b[32m62.7/62.7 KB\u001b[0m \u001b[31m7.4 MB/s\u001b[0m eta \u001b[36m0:00:00\u001b[0m\n",
            "\u001b[?25hCollecting smmap<6,>=3.0.1\n",
            "  Downloading smmap-5.0.0-py3-none-any.whl (24 kB)\n",
            "Installing collected packages: smmap, gitdb, gitpython\n",
            "Successfully installed gitdb-4.0.10 gitpython-3.1.30 smmap-5.0.0\n"
          ]
        }
      ]
    },
    {
      "cell_type": "code",
      "source": [
        "from git import Repo\n",
        "\n",
        "lista_tempo_conclusao = []\n",
        "def my_clone(git_url, repo_dir, lista):\n",
        "  try:\n",
        "    Repo.clone_from(git_url, repo_dir)\n",
        "    tempo = datetime.datetime.now()\n",
        "    print(f'Clonagem do repo {git_url} concluída com sucesso! -> instante: {tempo}')\n",
        "    elemento = (nome, tempo)\n",
        "    lista.append(elemento)\n",
        "  except Exception as ex:\n",
        "    print(f\"Erro ao clonar o repo: {git_url}\")"
      ],
      "metadata": {
        "id": "NdM8aKKeCvld"
      },
      "execution_count": 13,
      "outputs": []
    },
    {
      "cell_type": "code",
      "source": [
        "lista_urls = ['https://github.com/apache/cassandra.git', 'https://github.com/armandossrecife/teste', 'https://github.com/Technical-Debt-Large-Scale/sysrepoanalysis.git', 'https://github.com/armandossrecife/syspromocity.git']\n",
        "qtd_repositorios = len(lista_urls)\n",
        "\n",
        "print(\"bloco de clonagem...\")\n",
        "tempo1 = datetime.datetime.now()\n",
        "\n",
        "lista_threads = [] # lista que armazena dos threads que vao fazer os clones\n",
        "lista_tempo_inicio = [] # lista que vai guardar o instante de inicio de cada thread de clonagem\n",
        "\n",
        "for i in range(qtd_repositorios):\n",
        "  nome = 'repositorio'+str(i+1)\n",
        "  tdi = threading.Thread(target=my_clone, args=(lista_urls[i], nome, lista_tempo_conclusao)) # Thread que inicia cada clonagem\n",
        "  tdi.name = 'Thread-'+str(i+1) # nome do objeto thread recem criado\n",
        "  inicio_thread = datetime.datetime.now() # instante que o clone inicia\n",
        "  print(f\"Thread {i+1} iniciada em {inicio_thread}\")\n",
        "  lista_threads.append(tdi) # insere a thread recem criada na lista de threads\n",
        "  elemento = (nome, inicio_thread)\n",
        "  lista_tempo_inicio.append(elemento)\n",
        "  tdi.start() # inicia a thread\n",
        "\n",
        "for each in lista_threads:\n",
        "  each.join()\n",
        "  \n",
        "tempo2 = datetime.datetime.now()\n",
        "print(\"\")\n",
        "print(f\"Tempo total de {qtd_repositorios} downloads: {tempo2-tempo1}s\")\n",
        "\n",
        "for t1 in lista_tempo_inicio:\n",
        "  for t2 in lista_tempo_conclusao:\n",
        "    if (t1[0]==t2[0]):\n",
        "      print(f\"Tempo de download do {t1[0]} é: {t2[1]-t1[1]}s\")"
      ],
      "metadata": {
        "colab": {
          "base_uri": "https://localhost:8080/"
        },
        "id": "0do1Max0DtUk",
        "outputId": "1ffd1480-62f3-49e7-a046-ad15cf030476"
      },
      "execution_count": 19,
      "outputs": [
        {
          "output_type": "stream",
          "name": "stdout",
          "text": [
            "bloco de clonagem...\n",
            "Thread 1 iniciada em 2023-02-03 21:06:30.661693\n",
            "Thread 2 iniciada em 2023-02-03 21:06:30.666858\n",
            "Thread 3 iniciada em 2023-02-03 21:06:30.668378\n",
            "Thread 4 iniciada em 2023-02-03 21:06:30.679367\n",
            "Clonagem do repo https://github.com/Technical-Debt-Large-Scale/sysrepoanalysis.git concluída com sucesso! -> instante: 2023-02-03 21:06:31.589341\n",
            "Clonagem do repo https://github.com/armandossrecife/teste concluída com sucesso! -> instante: 2023-02-03 21:06:32.937263\n",
            "Clonagem do repo https://github.com/armandossrecife/syspromocity.git concluída com sucesso! -> instante: 2023-02-03 21:06:33.856087\n",
            "Clonagem do repo https://github.com/apache/cassandra.git concluída com sucesso! -> instante: 2023-02-03 21:07:14.305757\n",
            "\n",
            "Tempo total de 4 downloads: 0:00:43.647320s\n",
            "Tempo de download do repositorio3 é: -1 day, 23:55:45.870745s\n",
            "Tempo de download do repositorio3 é: -1 day, 23:55:46.647497s\n",
            "Tempo de download do repositorio3 é: -1 day, 23:55:47.290723s\n",
            "Tempo de download do repositorio4 é: -1 day, 23:56:55.556460s\n",
            "Tempo de download do repositorio4 é: -1 day, 23:56:56.914859s\n",
            "Tempo de download do repositorio4 é: -1 day, 23:56:57.731286s\n",
            "Tempo de download do repositorio4 é: -1 day, 23:57:36.494560s\n",
            "Tempo de download do repositorio4 é: 0:00:00.909974s\n",
            "Tempo de download do repositorio4 é: 0:00:02.257896s\n",
            "Tempo de download do repositorio4 é: 0:00:03.176720s\n",
            "Tempo de download do repositorio4 é: 0:00:43.626390s\n"
          ]
        }
      ]
    },
    {
      "cell_type": "code",
      "source": [
        "!rm -rf repositorio*"
      ],
      "metadata": {
        "id": "RQ0zuGz2FxjK"
      },
      "execution_count": 18,
      "outputs": []
    },
    {
      "cell_type": "code",
      "source": [],
      "metadata": {
        "id": "PHWgOkyGFzaF"
      },
      "execution_count": null,
      "outputs": []
    }
  ]
}
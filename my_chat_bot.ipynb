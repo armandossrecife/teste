{
  "nbformat": 4,
  "nbformat_minor": 0,
  "metadata": {
    "colab": {
      "provenance": [],
      "authorship_tag": "ABX9TyPFu24Ff1jAIASFVEV3+IHq",
      "include_colab_link": true
    },
    "kernelspec": {
      "name": "python3",
      "display_name": "Python 3"
    },
    "language_info": {
      "name": "python"
    }
  },
  "cells": [
    {
      "cell_type": "markdown",
      "metadata": {
        "id": "view-in-github",
        "colab_type": "text"
      },
      "source": [
        "<a href=\"https://colab.research.google.com/github/armandossrecife/teste/blob/main/my_chat_bot.ipynb\" target=\"_parent\"><img src=\"https://colab.research.google.com/assets/colab-badge.svg\" alt=\"Open In Colab\"/></a>"
      ]
    },
    {
      "cell_type": "markdown",
      "source": [
        "# How to create a chat-bot using Google Gemini in Python?\n",
        "\n",
        "You need a Google API key to interact with Gemini's functionalities.\n",
        "Chave de API: configure a variavel de ambiente GOOGLE_API_KEY\n",
        "\n",
        "- Google AI Python SDK for the Gemini API\n",
        "- Install the library google-generativeai\n",
        "- https://pypi.org/project/google-generativeai\n",
        "\n",
        "## Set a variable environment in Google Colabs\n",
        "\n",
        "This method is preferred for sensitive information like API keys as it keeps them secure and avoids exposing them directly in your code. Here's how to use it:\n",
        "\n",
        "Navigate to the left sidebar of your Colab notebook.\n",
        "- Click on the \"Secrets\" tab.\n",
        "- Click on \"Add new secret\".\n",
        "\n",
        "Enter the name of the variable (e.g., API_KEY) and its corresponding value.\n",
        "\n",
        "Toggle the \"Notebook access\" switch to \"ON\" to allow your notebook to access the secret.\n",
        "\n",
        "In your code, use the following to access the secret:\n",
        "\n",
        "```python\n",
        "from google.colab import userdata\n",
        "valor = userdata.get('GOOGLE_API_KEY')\n",
        "```"
      ],
      "metadata": {
        "id": "N829P_ksBlZH"
      }
    },
    {
      "cell_type": "code",
      "source": [
        "!pip install google-generativeai"
      ],
      "metadata": {
        "colab": {
          "base_uri": "https://localhost:8080/"
        },
        "id": "5bwtRGutAVnN",
        "outputId": "3d0eda9c-c9d9-4f9e-e3fc-305720e3d229"
      },
      "execution_count": 1,
      "outputs": [
        {
          "output_type": "stream",
          "name": "stdout",
          "text": [
            "Requirement already satisfied: google-generativeai in /usr/local/lib/python3.10/dist-packages (0.5.4)\n",
            "Requirement already satisfied: google-ai-generativelanguage==0.6.4 in /usr/local/lib/python3.10/dist-packages (from google-generativeai) (0.6.4)\n",
            "Requirement already satisfied: google-api-core in /usr/local/lib/python3.10/dist-packages (from google-generativeai) (2.11.1)\n",
            "Requirement already satisfied: google-api-python-client in /usr/local/lib/python3.10/dist-packages (from google-generativeai) (2.84.0)\n",
            "Requirement already satisfied: google-auth>=2.15.0 in /usr/local/lib/python3.10/dist-packages (from google-generativeai) (2.27.0)\n",
            "Requirement already satisfied: protobuf in /usr/local/lib/python3.10/dist-packages (from google-generativeai) (3.20.3)\n",
            "Requirement already satisfied: pydantic in /usr/local/lib/python3.10/dist-packages (from google-generativeai) (2.7.4)\n",
            "Requirement already satisfied: tqdm in /usr/local/lib/python3.10/dist-packages (from google-generativeai) (4.66.4)\n",
            "Requirement already satisfied: typing-extensions in /usr/local/lib/python3.10/dist-packages (from google-generativeai) (4.12.2)\n",
            "Requirement already satisfied: proto-plus<2.0.0dev,>=1.22.3 in /usr/local/lib/python3.10/dist-packages (from google-ai-generativelanguage==0.6.4->google-generativeai) (1.24.0)\n",
            "Requirement already satisfied: cachetools<6.0,>=2.0.0 in /usr/local/lib/python3.10/dist-packages (from google-auth>=2.15.0->google-generativeai) (5.3.3)\n",
            "Requirement already satisfied: pyasn1-modules>=0.2.1 in /usr/local/lib/python3.10/dist-packages (from google-auth>=2.15.0->google-generativeai) (0.4.0)\n",
            "Requirement already satisfied: rsa<5,>=3.1.4 in /usr/local/lib/python3.10/dist-packages (from google-auth>=2.15.0->google-generativeai) (4.9)\n",
            "Requirement already satisfied: googleapis-common-protos<2.0.dev0,>=1.56.2 in /usr/local/lib/python3.10/dist-packages (from google-api-core->google-generativeai) (1.63.1)\n",
            "Requirement already satisfied: requests<3.0.0.dev0,>=2.18.0 in /usr/local/lib/python3.10/dist-packages (from google-api-core->google-generativeai) (2.31.0)\n",
            "Requirement already satisfied: httplib2<1dev,>=0.15.0 in /usr/local/lib/python3.10/dist-packages (from google-api-python-client->google-generativeai) (0.22.0)\n",
            "Requirement already satisfied: google-auth-httplib2>=0.1.0 in /usr/local/lib/python3.10/dist-packages (from google-api-python-client->google-generativeai) (0.1.1)\n",
            "Requirement already satisfied: uritemplate<5,>=3.0.1 in /usr/local/lib/python3.10/dist-packages (from google-api-python-client->google-generativeai) (4.1.1)\n",
            "Requirement already satisfied: annotated-types>=0.4.0 in /usr/local/lib/python3.10/dist-packages (from pydantic->google-generativeai) (0.7.0)\n",
            "Requirement already satisfied: pydantic-core==2.18.4 in /usr/local/lib/python3.10/dist-packages (from pydantic->google-generativeai) (2.18.4)\n",
            "Requirement already satisfied: grpcio<2.0dev,>=1.33.2 in /usr/local/lib/python3.10/dist-packages (from google-api-core->google-generativeai) (1.64.1)\n",
            "Requirement already satisfied: grpcio-status<2.0.dev0,>=1.33.2 in /usr/local/lib/python3.10/dist-packages (from google-api-core->google-generativeai) (1.48.2)\n",
            "Requirement already satisfied: pyparsing!=3.0.0,!=3.0.1,!=3.0.2,!=3.0.3,<4,>=2.4.2 in /usr/local/lib/python3.10/dist-packages (from httplib2<1dev,>=0.15.0->google-api-python-client->google-generativeai) (3.1.2)\n",
            "Requirement already satisfied: pyasn1<0.7.0,>=0.4.6 in /usr/local/lib/python3.10/dist-packages (from pyasn1-modules>=0.2.1->google-auth>=2.15.0->google-generativeai) (0.6.0)\n",
            "Requirement already satisfied: charset-normalizer<4,>=2 in /usr/local/lib/python3.10/dist-packages (from requests<3.0.0.dev0,>=2.18.0->google-api-core->google-generativeai) (3.3.2)\n",
            "Requirement already satisfied: idna<4,>=2.5 in /usr/local/lib/python3.10/dist-packages (from requests<3.0.0.dev0,>=2.18.0->google-api-core->google-generativeai) (3.7)\n",
            "Requirement already satisfied: urllib3<3,>=1.21.1 in /usr/local/lib/python3.10/dist-packages (from requests<3.0.0.dev0,>=2.18.0->google-api-core->google-generativeai) (2.0.7)\n",
            "Requirement already satisfied: certifi>=2017.4.17 in /usr/local/lib/python3.10/dist-packages (from requests<3.0.0.dev0,>=2.18.0->google-api-core->google-generativeai) (2024.6.2)\n"
          ]
        }
      ]
    },
    {
      "cell_type": "code",
      "execution_count": 15,
      "metadata": {
        "colab": {
          "base_uri": "https://localhost:8080/"
        },
        "id": "zrGFCuf0ASph",
        "outputId": "d16ea9cb-0e68-43ac-fe10-13fa8bb02d0f"
      },
      "outputs": [
        {
          "output_type": "stream",
          "name": "stdout",
          "text": [
            "Erro: Secret GOOGLE_API_KEY does not exist.\n",
            "Erro ao configurar o Gemini\n"
          ]
        }
      ],
      "source": [
        "import google.generativeai as genai\n",
        "import os\n",
        "from google.colab import userdata\n",
        "\n",
        "def configura():\n",
        "  try:\n",
        "    my_key = userdata.get('GOOGLE_API_KEY')\n",
        "    # Configure o acesso\n",
        "    genai.configure(api_key=my_key)\n",
        "    # Defina o modelo de LLM\n",
        "    model = genai.GenerativeModel('gemini-1.0-pro-latest')\n",
        "    return True\n",
        "  except Exception as ex:\n",
        "    print(f\"Erro: {str(ex)}\")\n",
        "    return False\n",
        "\n",
        "def pergunte_ao_gemini(prompt):\n",
        "    try:\n",
        "        response = model.generate_content(prompt, stream=True)\n",
        "        for pedaco in response:\n",
        "            print(pedaco.text)\n",
        "    except Exception as ex:\n",
        "        print(f\"Erro: {str(ex)}\")\n",
        "\n",
        "def principal():\n",
        "    prompt = input('Qual é a pergunta? ')\n",
        "    while (not prompt) or (prompt.lower() != 'sair'):\n",
        "        print('Aguarde...')\n",
        "        resposta = pergunte_ao_gemini(prompt)\n",
        "        print(resposta)\n",
        "        prompt = input('Qual é a pergunta? ')\n",
        "\n",
        "if configura():\n",
        "  instrucoes = 'Digite sair para encerrar o programa'\n",
        "  print(instrucoes)\n",
        "  principal()\n",
        "else:\n",
        "  print('Erro ao configurar o Gemini')"
      ]
    },
    {
      "cell_type": "code",
      "source": [],
      "metadata": {
        "id": "zrgxaN7KEBuc"
      },
      "execution_count": null,
      "outputs": []
    }
  ]
}
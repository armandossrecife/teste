{
  "nbformat": 4,
  "nbformat_minor": 0,
  "metadata": {
    "colab": {
      "provenance": [],
      "authorship_tag": "ABX9TyMfZantommhQX9ZS6EfTtZg",
      "include_colab_link": true
    },
    "kernelspec": {
      "name": "python3",
      "display_name": "Python 3"
    },
    "language_info": {
      "name": "python"
    }
  },
  "cells": [
    {
      "cell_type": "markdown",
      "metadata": {
        "id": "view-in-github",
        "colab_type": "text"
      },
      "source": [
        "<a href=\"https://colab.research.google.com/github/armandossrecife/teste/blob/main/couting_cars.ipynb\" target=\"_parent\"><img src=\"https://colab.research.google.com/assets/colab-badge.svg\" alt=\"Open In Colab\"/></a>"
      ]
    },
    {
      "cell_type": "code",
      "source": [
        "!wget https://raw.githubusercontent.com/andrewssobral/vehicle_detection_haarcascades/master/cars.xml"
      ],
      "metadata": {
        "colab": {
          "base_uri": "https://localhost:8080/"
        },
        "id": "IefWAZ35vWFN",
        "outputId": "21acb171-9111-4a32-d606-5653513e5b33"
      },
      "execution_count": 2,
      "outputs": [
        {
          "output_type": "stream",
          "name": "stdout",
          "text": [
            "--2024-07-10 17:42:40--  https://raw.githubusercontent.com/andrewssobral/vehicle_detection_haarcascades/master/cars.xml\n",
            "Resolving raw.githubusercontent.com (raw.githubusercontent.com)... 185.199.111.133, 185.199.110.133, 185.199.108.133, ...\n",
            "Connecting to raw.githubusercontent.com (raw.githubusercontent.com)|185.199.111.133|:443... connected.\n",
            "HTTP request sent, awaiting response... 200 OK\n",
            "Length: 118803 (116K) [text/plain]\n",
            "Saving to: ‘cars.xml’\n",
            "\n",
            "\rcars.xml              0%[                    ]       0  --.-KB/s               \rcars.xml            100%[===================>] 116.02K  --.-KB/s    in 0.03s   \n",
            "\n",
            "2024-07-10 17:42:40 (3.72 MB/s) - ‘cars.xml’ saved [118803/118803]\n",
            "\n"
          ]
        }
      ]
    },
    {
      "cell_type": "code",
      "source": [
        "!wget https://images.cars.com/cldstatic/wp-content/uploads/652168802-1436970987671.jpg"
      ],
      "metadata": {
        "colab": {
          "base_uri": "https://localhost:8080/"
        },
        "id": "BDBx64vivpv4",
        "outputId": "38693c24-c2c9-4aa6-8e03-bc11398503e1"
      },
      "execution_count": 3,
      "outputs": [
        {
          "output_type": "stream",
          "name": "stdout",
          "text": [
            "--2024-07-10 17:43:59--  https://images.cars.com/cldstatic/wp-content/uploads/652168802-1436970987671.jpg\n",
            "Resolving images.cars.com (images.cars.com)... 23.214.230.225\n",
            "Connecting to images.cars.com (images.cars.com)|23.214.230.225|:443... connected.\n",
            "HTTP request sent, awaiting response... 200 OK\n",
            "Length: 147445 (144K) [image/jpeg]\n",
            "Saving to: ‘652168802-1436970987671.jpg’\n",
            "\n",
            "652168802-143697098 100%[===================>] 143.99K  --.-KB/s    in 0.06s   \n",
            "\n",
            "2024-07-10 17:43:59 (2.37 MB/s) - ‘652168802-1436970987671.jpg’ saved [147445/147445]\n",
            "\n"
          ]
        }
      ]
    },
    {
      "cell_type": "code",
      "source": [
        "!mv 652168802-1436970987671.jpg sample.jpg"
      ],
      "metadata": {
        "id": "Bkqk6S67vue8"
      },
      "execution_count": 4,
      "outputs": []
    },
    {
      "cell_type": "code",
      "source": [
        "!wget https://raw.githubusercontent.com/andrewssobral/vehicle_detection_haarcascades/master/doc/images/vehicle_detection_haarcascades.png"
      ],
      "metadata": {
        "colab": {
          "base_uri": "https://localhost:8080/"
        },
        "id": "QxecdhdNwiN7",
        "outputId": "e7d844d6-f7ee-498a-eb13-18de2e8f445f"
      },
      "execution_count": 9,
      "outputs": [
        {
          "output_type": "stream",
          "name": "stdout",
          "text": [
            "--2024-07-10 17:47:48--  https://raw.githubusercontent.com/andrewssobral/vehicle_detection_haarcascades/master/doc/images/vehicle_detection_haarcascades.png\n",
            "Resolving raw.githubusercontent.com (raw.githubusercontent.com)... 185.199.108.133, 185.199.109.133, 185.199.110.133, ...\n",
            "Connecting to raw.githubusercontent.com (raw.githubusercontent.com)|185.199.108.133|:443... connected.\n",
            "HTTP request sent, awaiting response... 200 OK\n",
            "Length: 362424 (354K) [image/png]\n",
            "Saving to: ‘vehicle_detection_haarcascades.png’\n",
            "\n",
            "\r          vehicle_d   0%[                    ]       0  --.-KB/s               \rvehicle_detection_h 100%[===================>] 353.93K  --.-KB/s    in 0.05s   \n",
            "\n",
            "2024-07-10 17:47:48 (6.35 MB/s) - ‘vehicle_detection_haarcascades.png’ saved [362424/362424]\n",
            "\n"
          ]
        }
      ]
    },
    {
      "cell_type": "code",
      "execution_count": 1,
      "metadata": {
        "id": "lAhPKFPovGHT"
      },
      "outputs": [],
      "source": [
        "import cv2"
      ]
    },
    {
      "cell_type": "code",
      "source": [
        "def count_cars(image_path, car_cascade_path):\n",
        "  \"\"\"\n",
        "  This function detects cars in an image and estimates the number of cars.\n",
        "\n",
        "  Args:\n",
        "      image_path: Path to the image file containing the parking lot.\n",
        "\n",
        "  Returns:\n",
        "      int: Estimated number of cars detected in the image.\n",
        "  \"\"\"\n",
        "\n",
        "  # Load the car cascade classifier (download from a source like https://github.com/andrewssobral/vehicle_detection_haarcascades)\n",
        "  car_cascade = cv2.CascadeClassifier(car_cascade_path)\n",
        "\n",
        "  # Read the image\n",
        "  image = cv2.imread(image_path)\n",
        "\n",
        "  # Convert image to grayscale (Haar Cascades typically work better on grayscale)\n",
        "  gray = cv2.cvtColor(image, cv2.COLOR_BGR2GRAY)\n",
        "\n",
        "  # Detect cars in the image\n",
        "  cars = car_cascade.detectMultiScale(gray, scaleFactor=1.1, minNeighbors=5, minSize=(30, 30))\n",
        "\n",
        "  # Count the detected cars\n",
        "  # This is a basic estimate and might not be accurate in all scenarios (overlapping cars etc.)\n",
        "  number_of_cars = len(cars)\n",
        "\n",
        "  return number_of_cars"
      ],
      "metadata": {
        "id": "a7H35M3pvHi_"
      },
      "execution_count": 10,
      "outputs": []
    },
    {
      "cell_type": "code",
      "source": [
        "# Example usage\n",
        "image_path = \"vehicle_detection_haarcascades.png\"\n",
        "data_path = \"cars.xml\""
      ],
      "metadata": {
        "id": "Jlp22iBWv2p5"
      },
      "execution_count": 11,
      "outputs": []
    },
    {
      "cell_type": "code",
      "source": [
        "print(\"Aguarde...\")\n",
        "number_of_cars_detected = count_cars(image_path, data_path)\n",
        "print(f\"Estimated number of cars: {number_of_cars_detected}\")"
      ],
      "metadata": {
        "colab": {
          "base_uri": "https://localhost:8080/"
        },
        "id": "M6FasoNZwF43",
        "outputId": "13ccd653-7f9f-42e6-9348-9757c9e95a83"
      },
      "execution_count": 12,
      "outputs": [
        {
          "output_type": "stream",
          "name": "stdout",
          "text": [
            "Aguarde...\n",
            "Estimated number of cars: 4\n"
          ]
        }
      ]
    },
    {
      "cell_type": "code",
      "source": [],
      "metadata": {
        "id": "EtegQMzYwIaz"
      },
      "execution_count": null,
      "outputs": []
    }
  ]
}
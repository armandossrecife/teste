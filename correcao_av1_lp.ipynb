{
  "nbformat": 4,
  "nbformat_minor": 0,
  "metadata": {
    "colab": {
      "provenance": [],
      "authorship_tag": "ABX9TyNlPnJdDNRTa2LRjCctPqtP",
      "include_colab_link": true
    },
    "kernelspec": {
      "name": "python3",
      "display_name": "Python 3"
    },
    "language_info": {
      "name": "python"
    }
  },
  "cells": [
    {
      "cell_type": "markdown",
      "metadata": {
        "id": "view-in-github",
        "colab_type": "text"
      },
      "source": [
        "<a href=\"https://colab.research.google.com/github/armandossrecife/teste/blob/main/correcao_av1_lp.ipynb\" target=\"_parent\"><img src=\"https://colab.research.google.com/assets/colab-badge.svg\" alt=\"Open In Colab\"/></a>"
      ]
    },
    {
      "cell_type": "code",
      "source": [
        "!wget https://raw.githubusercontent.com/armandossrecife/teste/main/alunoslp.txt"
      ],
      "metadata": {
        "colab": {
          "base_uri": "https://localhost:8080/"
        },
        "id": "pU73lcXjjdAr",
        "outputId": "cbc63722-7cf7-4fc9-e0d3-1d2e904b3b4d"
      },
      "execution_count": 32,
      "outputs": [
        {
          "output_type": "stream",
          "name": "stdout",
          "text": [
            "--2023-02-02 14:35:50--  https://raw.githubusercontent.com/armandossrecife/teste/main/alunoslp.txt\n",
            "Resolving raw.githubusercontent.com (raw.githubusercontent.com)... 185.199.110.133, 185.199.109.133, 185.199.111.133, ...\n",
            "Connecting to raw.githubusercontent.com (raw.githubusercontent.com)|185.199.110.133|:443... connected.\n",
            "HTTP request sent, awaiting response... 200 OK\n",
            "Length: 1865 (1.8K) [text/plain]\n",
            "Saving to: ‘alunoslp.txt’\n",
            "\n",
            "\ralunoslp.txt          0%[                    ]       0  --.-KB/s               \ralunoslp.txt        100%[===================>]   1.82K  --.-KB/s    in 0s      \n",
            "\n",
            "2023-02-02 14:35:51 (25.9 MB/s) - ‘alunoslp.txt’ saved [1865/1865]\n",
            "\n"
          ]
        }
      ]
    },
    {
      "cell_type": "code",
      "execution_count": 33,
      "metadata": {
        "id": "PqKUYfOAd-Gk"
      },
      "outputs": [],
      "source": [
        "l_alunos_lp = []\n",
        "f_alunos_lp = open('alunoslp.txt')\n",
        "for linha in f_alunos_lp:\n",
        "  l_alunos_lp.append(linha.strip())\n",
        "f_alunos_lp.close()\n",
        "\n",
        "f_alunos_csv = open('alunos_lp.csv', 'w')\n",
        "f_alunos_csv.write('id, matricula, nome')\n",
        "f_alunos_csv.write('\\n')\n",
        "l_nome_completo = list()\n",
        "for each in l_alunos_lp:\n",
        "  each = each.split(' ')\n",
        "  id = each[0]\n",
        "  matricula = each[1]\n",
        "  nome = each[2:]\n",
        "  nome_completo = \" \".join(str(e) for e in nome)\n",
        "  l_nome_completo.append(nome_completo)\n",
        "  nova_linha = id + ',' + matricula + ',' + nome_completo + '\\n'\n",
        "  f_alunos_csv.write(nova_linha)\n",
        "f_alunos_csv.close()"
      ]
    },
    {
      "cell_type": "code",
      "source": [
        "l_nome_completo"
      ],
      "metadata": {
        "colab": {
          "base_uri": "https://localhost:8080/"
        },
        "id": "oI49G-l4gMqU",
        "outputId": "221243eb-e15f-4e50-c50b-84a0b08a3db6"
      },
      "execution_count": 34,
      "outputs": [
        {
          "output_type": "execute_result",
          "data": {
            "text/plain": [
              "['ANA ALLYCIA FERREIRA ROCHA',\n",
              " 'ANA MARIA FERNANDES TAVARES',\n",
              " 'ARIELLY CRISTINY RODRIGUES DOS SANTOS',\n",
              " 'ARTHUR RABELO DE CARVALHO',\n",
              " 'AVERINALDO OSCAR DA CRUZ JUNIOR',\n",
              " 'BENJAMIM DE PINHO SABINO',\n",
              " 'CAIO BURTON ALVES ALENCAR PEREIRA',\n",
              " 'CARLOS DANIEL PORTELA SOARES DA SILVA ROCHA',\n",
              " 'CLAUDIO MARCIO DE OLIVEIRA LEAL FILHO',\n",
              " 'DAVI DO NASCIMENTO SANTOS',\n",
              " 'DELPHINO LUCIANI DE PAULA ARAUJO FILHO',\n",
              " 'DOUGLAS CAVALCANTE MENEZES DE ARAUJO',\n",
              " 'EMERY FREITAS MORICONI',\n",
              " 'EMMANUEL MOTA GUIMARAES',\n",
              " 'ERYCK KAWA PEREIRA TORRES',\n",
              " 'GABRIEL ANGELO BARROS DE ARAUJO',\n",
              " 'GUILBERTH DE SOUSA BRUNO',\n",
              " 'GUILHERME MANCINI DE SOUSA BARROSO',\n",
              " 'GUILHERME OLIVEIRA DESIDERIO',\n",
              " 'GUSTAVO AYALA DOS SANTOS SOUSA',\n",
              " 'HILDA HELENA SILVA ALENCAR LUZ',\n",
              " 'ISAAC SILVA SANTOS RAMOS',\n",
              " 'IURY FRANCISCO DE MENEZES MANICOBA FILHO',\n",
              " 'JOAO GABRIEL LOPES DA PAZ',\n",
              " 'JOSE FERNANDO FERREIRA DOS SANTOS',\n",
              " 'KAUA MARQUES DO NASCIMENTO',\n",
              " 'KENJI BENTO FALCAO',\n",
              " 'LAILA TEIXEIRA LOPES',\n",
              " 'LEONIDAS PEREIRA DE ABREU',\n",
              " 'LUCAS ALMEIDA MONTEIRO',\n",
              " 'LUCAS HERLON DOS SANTOS MOREIRA CUNHA',\n",
              " 'LUIS ENILTON LUZ OLIVEIRA',\n",
              " 'MARIA DO ROSARIO DE FATIMA MARTINS FERREIRA',\n",
              " 'MARIA EDUARDA MENDES LEITE',\n",
              " 'MATHEUS DO VALE ALENCAR',\n",
              " 'MAYRON FERRY SOUZA',\n",
              " 'PAULO HENRIQUE RODRIGUES DE ARAUJO',\n",
              " 'RAFFAEL FERREIRA FERNANDES',\n",
              " 'SAMIA ISABEL DA ROCHA GONCALVES',\n",
              " 'THALYSSON ARAUJO MELO',\n",
              " 'WESLEY DE SOUSA COUTINHO',\n",
              " 'YGOR FRANCISCO DE CARVALHO MORAIS']"
            ]
          },
          "metadata": {},
          "execution_count": 34
        }
      ]
    },
    {
      "cell_type": "code",
      "source": [],
      "metadata": {
        "id": "oFdUUYrFetxG"
      },
      "execution_count": null,
      "outputs": []
    }
  ]
}
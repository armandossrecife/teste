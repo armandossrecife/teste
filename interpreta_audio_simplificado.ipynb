{
  "nbformat": 4,
  "nbformat_minor": 0,
  "metadata": {
    "colab": {
      "provenance": [],
      "authorship_tag": "ABX9TyMHRtu/ViOj+VpXm+6FbyUq",
      "include_colab_link": true
    },
    "kernelspec": {
      "name": "python3",
      "display_name": "Python 3"
    },
    "language_info": {
      "name": "python"
    }
  },
  "cells": [
    {
      "cell_type": "markdown",
      "metadata": {
        "id": "view-in-github",
        "colab_type": "text"
      },
      "source": [
        "<a href=\"https://colab.research.google.com/github/armandossrecife/teste/blob/main/interpreta_audio_simplificado.ipynb\" target=\"_parent\"><img src=\"https://colab.research.google.com/assets/colab-badge.svg\" alt=\"Open In Colab\"/></a>"
      ]
    },
    {
      "cell_type": "markdown",
      "source": [
        "# 1. Convertendo e manipulando arquivos de áudio"
      ],
      "metadata": {
        "id": "zKg_jjDlUQ8E"
      }
    },
    {
      "cell_type": "markdown",
      "source": [
        "Audioconverter\n",
        "\n",
        "https://github.com/lamdaV/AudioConverter\n",
        "\n",
        "pydub\n",
        "\n",
        "https://github.com/jiaaro/pydub#getting-ffmpeg-set-up"
      ],
      "metadata": {
        "id": "88BZBxKHTeUH"
      }
    },
    {
      "cell_type": "markdown",
      "source": [
        "Instala o FFMpeg\n",
        "\n",
        "https://ffmpeg.org/\n",
        "\n",
        "https://en.wikipedia.org/wiki/FFmpeg"
      ],
      "metadata": {
        "id": "H5oIoxHaTnEu"
      }
    },
    {
      "cell_type": "markdown",
      "source": [
        "## Instalando o FFMpeg"
      ],
      "metadata": {
        "id": "DLU3bWiOUaew"
      }
    },
    {
      "cell_type": "code",
      "source": [
        "!apt-get install ffmpeg libavcodec-extra"
      ],
      "metadata": {
        "colab": {
          "base_uri": "https://localhost:8080/"
        },
        "id": "3IvGS59LTh4T",
        "outputId": "e3a8dcd4-5196-47ef-a767-e8801b141ec1"
      },
      "execution_count": 1,
      "outputs": [
        {
          "output_type": "stream",
          "name": "stdout",
          "text": [
            "Reading package lists... Done\n",
            "Building dependency tree       \n",
            "Reading state information... Done\n",
            "ffmpeg is already the newest version (7:4.2.7-0ubuntu0.1).\n",
            "The following package was automatically installed and is no longer required:\n",
            "  libnvidia-common-510\n",
            "Use 'apt autoremove' to remove it.\n",
            "The following additional packages will be installed:\n",
            "  libaribb24-0 libavcodec-extra58 libopencore-amrnb0 libopencore-amrwb0\n",
            "  libvo-amrwbenc0\n",
            "The following packages will be REMOVED:\n",
            "  libavcodec58\n",
            "The following NEW packages will be installed:\n",
            "  libaribb24-0 libavcodec-extra libavcodec-extra58 libopencore-amrnb0\n",
            "  libopencore-amrwb0 libvo-amrwbenc0\n",
            "0 upgraded, 6 newly installed, 1 to remove and 21 not upgraded.\n",
            "Need to get 5,140 kB of archives.\n",
            "After this operation, 608 kB of additional disk space will be used.\n",
            "Get:1 http://archive.ubuntu.com/ubuntu focal/universe amd64 libaribb24-0 amd64 1.0.3-2 [26.9 kB]\n",
            "Get:2 http://archive.ubuntu.com/ubuntu focal/universe amd64 libopencore-amrnb0 amd64 0.1.5-1 [94.8 kB]\n",
            "Get:3 http://archive.ubuntu.com/ubuntu focal/universe amd64 libopencore-amrwb0 amd64 0.1.5-1 [49.1 kB]\n",
            "Get:4 http://archive.ubuntu.com/ubuntu focal/universe amd64 libvo-amrwbenc0 amd64 0.1.3-2 [68.2 kB]\n",
            "Get:5 http://archive.ubuntu.com/ubuntu focal-updates/universe amd64 libavcodec-extra58 amd64 7:4.2.7-0ubuntu0.1 [4,886 kB]\n",
            "Get:6 http://archive.ubuntu.com/ubuntu focal-updates/universe amd64 libavcodec-extra amd64 7:4.2.7-0ubuntu0.1 [14.9 kB]\n",
            "Fetched 5,140 kB in 2s (2,779 kB/s)\n",
            "Selecting previously unselected package libaribb24-0:amd64.\n",
            "(Reading database ... 128126 files and directories currently installed.)\n",
            "Preparing to unpack .../libaribb24-0_1.0.3-2_amd64.deb ...\n",
            "Unpacking libaribb24-0:amd64 (1.0.3-2) ...\n",
            "Selecting previously unselected package libopencore-amrnb0:amd64.\n",
            "Preparing to unpack .../libopencore-amrnb0_0.1.5-1_amd64.deb ...\n",
            "Unpacking libopencore-amrnb0:amd64 (0.1.5-1) ...\n",
            "Selecting previously unselected package libopencore-amrwb0:amd64.\n",
            "Preparing to unpack .../libopencore-amrwb0_0.1.5-1_amd64.deb ...\n",
            "Unpacking libopencore-amrwb0:amd64 (0.1.5-1) ...\n",
            "Selecting previously unselected package libvo-amrwbenc0:amd64.\n",
            "Preparing to unpack .../libvo-amrwbenc0_0.1.3-2_amd64.deb ...\n",
            "Unpacking libvo-amrwbenc0:amd64 (0.1.3-2) ...\n",
            "dpkg: libavcodec58:amd64: dependency problems, but removing anyway as you requested:\n",
            " libopencv-videoio4.2:amd64 depends on libavcodec58 (>= 7:4.0).\n",
            " libchromaprint1:amd64 depends on libavcodec58 (>= 7:4.0).\n",
            " libavformat58:amd64 depends on libavcodec58 (= 7:4.2.7-0ubuntu0.1).\n",
            " libavfilter7:amd64 depends on libavcodec58 (= 7:4.2.7-0ubuntu0.1).\n",
            " libavdevice58:amd64 depends on libavcodec58 (= 7:4.2.7-0ubuntu0.1).\n",
            " libavcodec-dev:amd64 depends on libavcodec58 (= 7:4.2.7-0ubuntu0.1).\n",
            " ffmpeg depends on libavcodec58 (= 7:4.2.7-0ubuntu0.1).\n",
            "\n",
            "(Reading database ... 128150 files and directories currently installed.)\n",
            "Removing libavcodec58:amd64 (7:4.2.7-0ubuntu0.1) ...\n",
            "Selecting previously unselected package libavcodec-extra58:amd64.\n",
            "(Reading database ... 128144 files and directories currently installed.)\n",
            "Preparing to unpack .../libavcodec-extra58_7%3a4.2.7-0ubuntu0.1_amd64.deb ...\n",
            "Unpacking libavcodec-extra58:amd64 (7:4.2.7-0ubuntu0.1) ...\n",
            "Selecting previously unselected package libavcodec-extra:amd64.\n",
            "Preparing to unpack .../libavcodec-extra_7%3a4.2.7-0ubuntu0.1_amd64.deb ...\n",
            "Unpacking libavcodec-extra:amd64 (7:4.2.7-0ubuntu0.1) ...\n",
            "Setting up libvo-amrwbenc0:amd64 (0.1.3-2) ...\n",
            "Setting up libaribb24-0:amd64 (1.0.3-2) ...\n",
            "Setting up libopencore-amrwb0:amd64 (0.1.5-1) ...\n",
            "Setting up libopencore-amrnb0:amd64 (0.1.5-1) ...\n",
            "Setting up libavcodec-extra58:amd64 (7:4.2.7-0ubuntu0.1) ...\n",
            "Setting up libavcodec-extra:amd64 (7:4.2.7-0ubuntu0.1) ...\n",
            "Processing triggers for libc-bin (2.31-0ubuntu9.9) ...\n"
          ]
        }
      ]
    },
    {
      "cell_type": "markdown",
      "source": [
        "## Instalando o pydub"
      ],
      "metadata": {
        "id": "QqY3oBEKUeSP"
      }
    },
    {
      "cell_type": "code",
      "source": [
        "!pip install pydub"
      ],
      "metadata": {
        "colab": {
          "base_uri": "https://localhost:8080/"
        },
        "id": "PEyphPG7UIhi",
        "outputId": "f63b6bd2-488c-41cc-b891-b5af79b14343"
      },
      "execution_count": 2,
      "outputs": [
        {
          "output_type": "stream",
          "name": "stdout",
          "text": [
            "Looking in indexes: https://pypi.org/simple, https://us-python.pkg.dev/colab-wheels/public/simple/\n",
            "Collecting pydub\n",
            "  Downloading pydub-0.25.1-py2.py3-none-any.whl (32 kB)\n",
            "Installing collected packages: pydub\n",
            "Successfully installed pydub-0.25.1\n"
          ]
        }
      ]
    },
    {
      "cell_type": "markdown",
      "source": [
        "## Instlando o AudioConverter"
      ],
      "metadata": {
        "id": "SkW8uGJ0Ugw2"
      }
    },
    {
      "cell_type": "code",
      "source": [
        "!pip install --upgrade AudioConverter"
      ],
      "metadata": {
        "colab": {
          "base_uri": "https://localhost:8080/"
        },
        "id": "iAmrwX2CUJCM",
        "outputId": "503a4fad-f296-43cd-f8ed-f63d4a01706c"
      },
      "execution_count": 3,
      "outputs": [
        {
          "output_type": "stream",
          "name": "stdout",
          "text": [
            "Looking in indexes: https://pypi.org/simple, https://us-python.pkg.dev/colab-wheels/public/simple/\n",
            "Collecting AudioConverter\n",
            "  Downloading AudioConverter-1.0.0-py3-none-any.whl (6.2 kB)\n",
            "Collecting colorama<1.0.0,>=0.4.3\n",
            "  Downloading colorama-0.4.6-py2.py3-none-any.whl (25 kB)\n",
            "Requirement already satisfied: click<8.0.0,>=7.1.2 in /usr/local/lib/python3.8/dist-packages (from AudioConverter) (7.1.2)\n",
            "Requirement already satisfied: pydub<1.0.0,>=0.24.1 in /usr/local/lib/python3.8/dist-packages (from AudioConverter) (0.25.1)\n",
            "Installing collected packages: colorama, AudioConverter\n",
            "Successfully installed AudioConverter-1.0.0 colorama-0.4.6\n"
          ]
        }
      ]
    },
    {
      "cell_type": "markdown",
      "source": [
        "## Convertendo o conteúdo de uma pasta para um formato específico"
      ],
      "metadata": {
        "id": "ieCfol42Uu5R"
      }
    },
    {
      "cell_type": "code",
      "source": [
        "!mkdir input && mkdir output"
      ],
      "metadata": {
        "id": "UXMwo_SHoCyH"
      },
      "execution_count": 4,
      "outputs": []
    },
    {
      "cell_type": "code",
      "source": [
        "!audioconvert convert /content/input /content/output --output-format .mp4"
      ],
      "metadata": {
        "id": "XhMgt9s4ULPR",
        "colab": {
          "base_uri": "https://localhost:8080/"
        },
        "outputId": "32402c2a-bfbf-4a32-a3e3-8da1940fb28e"
      },
      "execution_count": 5,
      "outputs": [
        {
          "output_type": "stream",
          "name": "stdout",
          "text": [
            "\u001b[34m[ INFO    ] Starting conversion of /content/input.\u001b[0m\n",
            "\u001b[32m[ SUCCESS ] See /content/output for converted audio.\u001b[0m\n"
          ]
        }
      ]
    },
    {
      "cell_type": "markdown",
      "source": [
        "## Instalando o SpeechRecognition\n",
        "\n",
        "https://pypi.org/project/SpeechRecognition/\n",
        "\n"
      ],
      "metadata": {
        "id": "eZWVHVUyVHxm"
      }
    },
    {
      "cell_type": "code",
      "source": [
        "!pip install SpeechRecognition"
      ],
      "metadata": {
        "colab": {
          "base_uri": "https://localhost:8080/"
        },
        "id": "pDKSl4kjVawQ",
        "outputId": "4d8acaef-95ab-4168-a774-b41ed2e98ab2"
      },
      "execution_count": 6,
      "outputs": [
        {
          "output_type": "stream",
          "name": "stdout",
          "text": [
            "Looking in indexes: https://pypi.org/simple, https://us-python.pkg.dev/colab-wheels/public/simple/\n",
            "Collecting SpeechRecognition\n",
            "  Downloading SpeechRecognition-3.9.0-py2.py3-none-any.whl (32.8 MB)\n",
            "\u001b[2K     \u001b[90m━━━━━━━━━━━━━━━━━━━━━━━━━━━━━━━━━━━━━━━━\u001b[0m \u001b[32m32.8/32.8 MB\u001b[0m \u001b[31m23.3 MB/s\u001b[0m eta \u001b[36m0:00:00\u001b[0m\n",
            "\u001b[?25hCollecting requests>=2.26.0\n",
            "  Downloading requests-2.28.2-py3-none-any.whl (62 kB)\n",
            "\u001b[2K     \u001b[90m━━━━━━━━━━━━━━━━━━━━━━━━━━━━━━━━━━━━━━━━\u001b[0m \u001b[32m62.8/62.8 KB\u001b[0m \u001b[31m7.2 MB/s\u001b[0m eta \u001b[36m0:00:00\u001b[0m\n",
            "\u001b[?25hRequirement already satisfied: urllib3<1.27,>=1.21.1 in /usr/local/lib/python3.8/dist-packages (from requests>=2.26.0->SpeechRecognition) (1.24.3)\n",
            "Requirement already satisfied: idna<4,>=2.5 in /usr/local/lib/python3.8/dist-packages (from requests>=2.26.0->SpeechRecognition) (2.10)\n",
            "Requirement already satisfied: certifi>=2017.4.17 in /usr/local/lib/python3.8/dist-packages (from requests>=2.26.0->SpeechRecognition) (2022.12.7)\n",
            "Requirement already satisfied: charset-normalizer<4,>=2 in /usr/local/lib/python3.8/dist-packages (from requests>=2.26.0->SpeechRecognition) (2.1.1)\n",
            "Installing collected packages: requests, SpeechRecognition\n",
            "  Attempting uninstall: requests\n",
            "    Found existing installation: requests 2.25.1\n",
            "    Uninstalling requests-2.25.1:\n",
            "      Successfully uninstalled requests-2.25.1\n",
            "Successfully installed SpeechRecognition-3.9.0 requests-2.28.2\n"
          ]
        }
      ]
    },
    {
      "cell_type": "markdown",
      "source": [
        "## Preparando o ambiente para reconhecimento de voz"
      ],
      "metadata": {
        "id": "laLgXFbpVn9h"
      }
    },
    {
      "cell_type": "code",
      "source": [
        "import speech_recognition as sr \n",
        "from pydub import AudioSegment"
      ],
      "metadata": {
        "id": "u7RmgUp-VrrC"
      },
      "execution_count": 7,
      "outputs": []
    },
    {
      "cell_type": "code",
      "source": [
        "!audioconvert convert /content/input /content/output --output-format .wav"
      ],
      "metadata": {
        "colab": {
          "base_uri": "https://localhost:8080/"
        },
        "id": "Y_J5-trPV1u6",
        "outputId": "f01ce435-0ef1-4a2b-e92d-205fb03dd42a"
      },
      "execution_count": 8,
      "outputs": [
        {
          "output_type": "stream",
          "name": "stdout",
          "text": [
            "\u001b[34m[ INFO    ] Starting conversion of /content/input.\u001b[0m\n",
            "\u001b[32m[ SUCCESS ] See /content/output for converted audio.\u001b[0m\n"
          ]
        }
      ]
    },
    {
      "cell_type": "code",
      "source": [
        "r = sr.Recognizer()"
      ],
      "metadata": {
        "id": "s1MXFLciWHUd"
      },
      "execution_count": 9,
      "outputs": []
    },
    {
      "cell_type": "code",
      "source": [
        "# Load the .wav file using pydub\n",
        "sound = AudioSegment.from_wav(\"/content/output/criticastd2023.wav\")"
      ],
      "metadata": {
        "id": "r0Kp335LWQ88"
      },
      "execution_count": 11,
      "outputs": []
    },
    {
      "cell_type": "code",
      "source": [
        "# Split the audio file into 30 second segments\n",
        "segment_length = 30 * 1000 # 30 seconds in milliseconds\n",
        "segments = sound[::segment_length]"
      ],
      "metadata": {
        "id": "zadAMQL6Wb2P"
      },
      "execution_count": 12,
      "outputs": []
    },
    {
      "cell_type": "code",
      "source": [
        "!mkdir myaudios"
      ],
      "metadata": {
        "id": "3_JMi9Ke7rX_"
      },
      "execution_count": 14,
      "outputs": []
    },
    {
      "cell_type": "code",
      "source": [
        "# Save each segment as a separate .wav file\n",
        "for i, segment in enumerate(segments):\n",
        "    segment.export(\"/content/myaudios/output_file_{}.wav\".format(i), format=\"wav\")"
      ],
      "metadata": {
        "id": "Izfbg19QWdU4"
      },
      "execution_count": 15,
      "outputs": []
    },
    {
      "cell_type": "code",
      "source": [
        "# Split the audio file into 30 second segments\n",
        "segment_length2 = 60 * 1000 # 60 seconds in milliseconds\n",
        "segments2 = sound[::segment_length2]"
      ],
      "metadata": {
        "id": "59QPcxIb8FBZ"
      },
      "execution_count": 17,
      "outputs": []
    },
    {
      "cell_type": "code",
      "source": [
        "!mkdir myaudios2"
      ],
      "metadata": {
        "id": "1gjzWnKT74D3"
      },
      "execution_count": 16,
      "outputs": []
    },
    {
      "cell_type": "code",
      "source": [
        "# Save each segment as a separate .wav file\n",
        "for i, segment in enumerate(segments2):\n",
        "    segment.export(\"/content/myaudios2/output_file_{}.wav\".format(i), format=\"wav\")"
      ],
      "metadata": {
        "id": "Q6pC8RO778MQ"
      },
      "execution_count": 18,
      "outputs": []
    },
    {
      "cell_type": "code",
      "source": [
        "lista_de_arquivos_segmentados = []\n",
        "for i in range(0, 81):\n",
        "  print(f\"output_file_{i}.wav\")\n",
        "  elemento = f\"output_file_{i}.wav\"\n",
        "  lista_de_arquivos_segmentados.append(elemento)"
      ],
      "metadata": {
        "colab": {
          "base_uri": "https://localhost:8080/"
        },
        "id": "ql4tIc7PWzod",
        "outputId": "d1940fa6-fcda-432e-a488-2c47ed7d7c24"
      },
      "execution_count": null,
      "outputs": [
        {
          "output_type": "stream",
          "name": "stdout",
          "text": [
            "output_file_0.wav\n",
            "output_file_1.wav\n",
            "output_file_2.wav\n",
            "output_file_3.wav\n",
            "output_file_4.wav\n",
            "output_file_5.wav\n",
            "output_file_6.wav\n",
            "output_file_7.wav\n",
            "output_file_8.wav\n",
            "output_file_9.wav\n",
            "output_file_10.wav\n",
            "output_file_11.wav\n",
            "output_file_12.wav\n",
            "output_file_13.wav\n",
            "output_file_14.wav\n",
            "output_file_15.wav\n",
            "output_file_16.wav\n",
            "output_file_17.wav\n",
            "output_file_18.wav\n",
            "output_file_19.wav\n",
            "output_file_20.wav\n",
            "output_file_21.wav\n",
            "output_file_22.wav\n",
            "output_file_23.wav\n",
            "output_file_24.wav\n",
            "output_file_25.wav\n",
            "output_file_26.wav\n",
            "output_file_27.wav\n",
            "output_file_28.wav\n",
            "output_file_29.wav\n",
            "output_file_30.wav\n",
            "output_file_31.wav\n",
            "output_file_32.wav\n",
            "output_file_33.wav\n",
            "output_file_34.wav\n",
            "output_file_35.wav\n",
            "output_file_36.wav\n",
            "output_file_37.wav\n",
            "output_file_38.wav\n",
            "output_file_39.wav\n",
            "output_file_40.wav\n",
            "output_file_41.wav\n",
            "output_file_42.wav\n",
            "output_file_43.wav\n",
            "output_file_44.wav\n",
            "output_file_45.wav\n",
            "output_file_46.wav\n",
            "output_file_47.wav\n",
            "output_file_48.wav\n",
            "output_file_49.wav\n",
            "output_file_50.wav\n",
            "output_file_51.wav\n",
            "output_file_52.wav\n",
            "output_file_53.wav\n",
            "output_file_54.wav\n",
            "output_file_55.wav\n",
            "output_file_56.wav\n",
            "output_file_57.wav\n",
            "output_file_58.wav\n",
            "output_file_59.wav\n",
            "output_file_60.wav\n",
            "output_file_61.wav\n",
            "output_file_62.wav\n",
            "output_file_63.wav\n",
            "output_file_64.wav\n",
            "output_file_65.wav\n",
            "output_file_66.wav\n",
            "output_file_67.wav\n",
            "output_file_68.wav\n",
            "output_file_69.wav\n",
            "output_file_70.wav\n",
            "output_file_71.wav\n",
            "output_file_72.wav\n",
            "output_file_73.wav\n",
            "output_file_74.wav\n",
            "output_file_75.wav\n",
            "output_file_76.wav\n",
            "output_file_77.wav\n",
            "output_file_78.wav\n",
            "output_file_79.wav\n",
            "output_file_80.wav\n"
          ]
        }
      ]
    },
    {
      "cell_type": "code",
      "source": [
        "import time"
      ],
      "metadata": {
        "id": "CYyB5YS2XMAO"
      },
      "execution_count": null,
      "outputs": []
    },
    {
      "cell_type": "code",
      "source": [
        "def interpreta_audio(nome_arquivo):\n",
        "  result2 = None\n",
        "  try:\n",
        "    # guarda o arquivo wav que sera interpretado\n",
        "    audio = sr.AudioFile(nome_arquivo)\n",
        "  except Exception as ex:\n",
        "    print(f'Erro ao recuperar o arquivo {nome_arquivo}')\n",
        "  print('Aguarde...')\n",
        "  try:\n",
        "    # faz a interpretacao do audio\n",
        "    with audio as source:\n",
        "      audio_file = r.record(source)\n",
        "    result2 = r.recognize_google(audio_file, language=\"pt-BR\")\n",
        "    print('A interpretação do aúdio foi concluída com sucesso!')\n",
        "  except Exception as ex:\n",
        "    print(f'Erro ao interpretar o conteudo do arquivo {nome_arquivo} - {str(ex)}')\n",
        "  return result2\n",
        "\n",
        "def varre_lista_de_audios(lista, tempo, lista_resultados):\n",
        "  tempo_de_espera = tempo\n",
        "  for i, each in enumerate(lista):\n",
        "    print(f'Aguarde {tempo}s...')    \n",
        "    nome = each\n",
        "    print(f'Interpretando o arquivo {i}, {nome}')\n",
        "    path = \"/content/myaudios/\" + each\n",
        "    print(path)\n",
        "    try:\n",
        "      subtitle = interpreta_audio(path)\n",
        "      lista_resultados.append(subtitle)\n",
        "      print(f'Extraído subtitle do arquivo {i}, {nome}')\n",
        "      time.sleep(tempo_de_espera)\n",
        "    except Exception as ex:\n",
        "      print(f\"Erro ao interpretar o arquivo {i}, {nome} - {str(ex)}\")"
      ],
      "metadata": {
        "id": "AUMLjUg7XIF4"
      },
      "execution_count": null,
      "outputs": []
    },
    {
      "cell_type": "code",
      "source": [
        "lista_resultados = []"
      ],
      "metadata": {
        "id": "Wj2OfeiyXcry"
      },
      "execution_count": null,
      "outputs": []
    },
    {
      "cell_type": "code",
      "source": [
        "#lista_de_arquivos_segmentados[:10]\n",
        "varre_lista_de_audios(lista_de_arquivos_segmentados[:10], 20, lista_resultados)"
      ],
      "metadata": {
        "colab": {
          "base_uri": "https://localhost:8080/"
        },
        "id": "Y2nTWwSmXZd4",
        "outputId": "29e552df-4cff-492f-c116-fd399c0022c6"
      },
      "execution_count": null,
      "outputs": [
        {
          "output_type": "stream",
          "name": "stdout",
          "text": [
            "Aguarde 20s...\n",
            "Interpretando o arquivo 0, output_file_0.wav\n",
            "/content/myaudios/output_file_0.wav\n",
            "Aguarde...\n",
            "result2:\n",
            "{   'alternative': [   {   'confidence': 0.81180125,\n",
            "                           'transcript': 'pronto eu botei para gravar aqui '\n",
            "                                         'pelo quicktime do notebook então '\n",
            "                                         'vamos lá voltando aqui beleza '\n",
            "                                         'introduction vamos lá'},\n",
            "                       {   'transcript': 'pronto eu botei para gravar aqui '\n",
            "                                         'pelo quicktime do notebook então '\n",
            "                                         'vamos lá tô voltando aqui beleza '\n",
            "                                         'introduction vamos lá'},\n",
            "                       {   'transcript': 'pronto eu botei para gravar aqui '\n",
            "                                         'pelo quicktime do notebook viu então '\n",
            "                                         'vamos lá voltando aqui beleza '\n",
            "                                         'introduction vamos lá'},\n",
            "                       {   'transcript': 'pronto eu botei para gravar aqui '\n",
            "                                         'pelo quicktime do notebook então '\n",
            "                                         'vamos lá só voltando aqui beleza '\n",
            "                                         'introduction vamos lá'},\n",
            "                       {   'transcript': 'pronto eu botei para gravar aqui '\n",
            "                                         'pelo quicktime do notebook viu então '\n",
            "                                         'vamos lá tô voltando aqui beleza '\n",
            "                                         'introduction vamos lá'}],\n",
            "    'final': True}\n",
            "A interpretação do aúdio foi concluída com sucesso!\n",
            "Extraído subtitle do arquivo 0, output_file_0.wav\n",
            "Aguarde 20s...\n",
            "Interpretando o arquivo 1, output_file_1.wav\n",
            "/content/myaudios/output_file_1.wav\n",
            "Aguarde...\n",
            "result2:\n",
            "{   'alternative': [   {   'confidence': 0.61950225,\n",
            "                           'transcript': 'entendeu então'},\n",
            "                       {'transcript': 'sim então'},\n",
            "                       {'transcript': 'entendeu'},\n",
            "                       {'transcript': 'show 3 então'},\n",
            "                       {'transcript': 'sim'}],\n",
            "    'final': True}\n",
            "A interpretação do aúdio foi concluída com sucesso!\n",
            "Extraído subtitle do arquivo 1, output_file_1.wav\n",
            "Aguarde 20s...\n",
            "Interpretando o arquivo 2, output_file_2.wav\n",
            "/content/myaudios/output_file_2.wav\n",
            "Aguarde...\n",
            "result2:\n",
            "{   'alternative': [   {   'confidence': 0.74413168,\n",
            "                           'transcript': 'questão de pesquisa e vai ser isso '\n",
            "                                         'daqui que eu vou dizer agora'},\n",
            "                       {   'transcript': 'questão de pesquisa que vai ser isso '\n",
            "                                         'daqui que eu vou dizer agora'},\n",
            "                       {   'transcript': 'na minha visão como é que a gente '\n",
            "                                         'tem que fazer aqui questão de '\n",
            "                                         'pesquisa e vai ser isso daqui que eu '\n",
            "                                         'vou dizer agora'},\n",
            "                       {   'transcript': 'na minha visão como é que a gente '\n",
            "                                         'tem que fazer aqui questão de '\n",
            "                                         'pesquisa que vai ser isso daqui que '\n",
            "                                         'eu vou dizer agora'},\n",
            "                       {   'transcript': 'questão de pesquisa e vai ser isso '\n",
            "                                         'daqui que eu vou dizer'}],\n",
            "    'final': True}\n",
            "A interpretação do aúdio foi concluída com sucesso!\n",
            "Extraído subtitle do arquivo 2, output_file_2.wav\n",
            "Aguarde 20s...\n",
            "Interpretando o arquivo 3, output_file_3.wav\n",
            "/content/myaudios/output_file_3.wav\n",
            "Aguarde...\n",
            "result2:\n",
            "{   'alternative': [   {'confidence': 0.38935179, 'transcript': 'Gold'},\n",
            "                       {'transcript': 'gol'},\n",
            "                       {'transcript': 'pai Gold'},\n",
            "                       {'transcript': 'pai'}],\n",
            "    'final': True}\n",
            "A interpretação do aúdio foi concluída com sucesso!\n",
            "Extraído subtitle do arquivo 3, output_file_3.wav\n",
            "Aguarde 20s...\n",
            "Interpretando o arquivo 4, output_file_4.wav\n",
            "/content/myaudios/output_file_4.wav\n",
            "Aguarde...\n",
            "result2:\n",
            "{   'alternative': [   {   'confidence': 0.81618607,\n",
            "                           'transcript': 'e os fogo é como é que não tem ciúme '\n",
            "                                         'beleza aí qual é a minha sugestão '\n",
            "                                         'agora questão 2 questão 3 você '\n",
            "                                         'explica né O que você tá avaliando '\n",
            "                                         'certo aí você tipo coloca lá tipo '\n",
            "                                         'não avaliação com os dados'},\n",
            "                       {   'transcript': 'e os fogo é como é que não tem ciúme '\n",
            "                                         'beleza aí qual é a minha sugestão '\n",
            "                                         'agora questão 2 questão 3 você '\n",
            "                                         'explica né O que você tá avaliando '\n",
            "                                         'certo aí você tipo coloca lá tipo '\n",
            "                                         'não avaliação com os dados do'},\n",
            "                       {   'transcript': 'e os fogo é como é que não tem ciúme '\n",
            "                                         'beleza aí qual é a minha sugestão '\n",
            "                                         'agora questão 2 questão 3 você '\n",
            "                                         'explica né O que você tá avaliando '\n",
            "                                         'certo aí você tipo coloca lá tipo ah '\n",
            "                                         'não avaliação com os dados'},\n",
            "                       {   'transcript': 'e os fogo é como é que não tem ciúme '\n",
            "                                         'beleza aí qual é a minha sugestão '\n",
            "                                         'agora Questão dois questão três você '\n",
            "                                         'explica né O que você tá avaliando '\n",
            "                                         'certo aí você tipo coloca lá tipo '\n",
            "                                         'não avaliação com os dados'},\n",
            "                       {   'transcript': 'e os fogo é como é que não tem ciúme '\n",
            "                                         'beleza aí qual é a minha sugestão '\n",
            "                                         'agora questão 2 questão 3 você '\n",
            "                                         'explica né O que você tá avaliando '\n",
            "                                         'certo aí você tipo coloca lá tipo ah '\n",
            "                                         'não avaliação com os dados do'}],\n",
            "    'final': True}\n",
            "A interpretação do aúdio foi concluída com sucesso!\n",
            "Extraído subtitle do arquivo 4, output_file_4.wav\n",
            "Aguarde 20s...\n",
            "Interpretando o arquivo 5, output_file_5.wav\n",
            "/content/myaudios/output_file_5.wav\n",
            "Aguarde...\n",
            "result2:\n",
            "{   'alternative': [   {   'confidence': 0.78842711,\n",
            "                           'transcript': 'a gente basicamente focou em '\n",
            "                                         'verificar se a nossa abordagem ela '\n",
            "                                         'ela é efetiva para identificar o '\n",
            "                                         'impacto de basicamente O que é isso '\n",
            "                                         'que você tem que dizer lá porque '\n",
            "                                         'você tá focando nessas duas'},\n",
            "                       {   'transcript': 'a gente basicamente focou em '\n",
            "                                         'verificar se a nossa abordagem ela é '\n",
            "                                         'efetiva para identificar o impacto '\n",
            "                                         'de basicamente O que é isso que você '\n",
            "                                         'tem que dizer lá porque você tá '\n",
            "                                         'focando nessas duas'},\n",
            "                       {   'transcript': 'a gente basicamente focou em '\n",
            "                                         'verificar se a nossa abordagem ela '\n",
            "                                         'ela é efetiva para identificar o '\n",
            "                                         'impacto de basicamente O que é isso '\n",
            "                                         'que você tem que zelar porque você '\n",
            "                                         'tá focando nessas duas'},\n",
            "                       {   'transcript': 'a gente basicamente focou em '\n",
            "                                         'verificar se a nossa abordagem ela '\n",
            "                                         'ela é efetiva para identificar o '\n",
            "                                         'impacto de basicamente O que é isso '\n",
            "                                         'que você tem que dizer lá porque '\n",
            "                                         'você tá focando essas duas'},\n",
            "                       {   'transcript': 'a gente basicamente focou em '\n",
            "                                         'verificar se a nossa abordagem ela é '\n",
            "                                         'efetiva para identificar o impacto '\n",
            "                                         'de basicamente O que é isso que você '\n",
            "                                         'tem que zelar porque você tá focando '\n",
            "                                         'nessas duas'}],\n",
            "    'final': True}\n",
            "A interpretação do aúdio foi concluída com sucesso!\n",
            "Extraído subtitle do arquivo 5, output_file_5.wav\n",
            "Aguarde 20s...\n",
            "Interpretando o arquivo 6, output_file_6.wav\n",
            "/content/myaudios/output_file_6.wav\n",
            "Aguarde...\n",
            "result2:\n",
            "[]\n",
            "Erro ao interpretar o conteudo do arquivo /content/myaudios/output_file_6.wav - \n",
            "Extraído subtitle do arquivo 6, output_file_6.wav\n",
            "Aguarde 20s...\n",
            "Interpretando o arquivo 7, output_file_7.wav\n",
            "/content/myaudios/output_file_7.wav\n",
            "Aguarde...\n",
            "result2:\n",
            "{   'alternative': [   {   'confidence': 0.80662441,\n",
            "                           'transcript': 'acho que dá para reformulação um '\n",
            "                                         'pouco mas tipo porque eu acho que o '\n",
            "                                         'ideal aqui de novo você reformado de '\n",
            "                                         'uma forma que fique alinhada contigo '\n",
            "                                         'né Ou seja você propôs uma solução '\n",
            "                                         'que permite a'},\n",
            "                       {   'transcript': 'acho que dá para reformulação um '\n",
            "                                         'pouco mas tipo porque eu acho que o '\n",
            "                                         'ideal aqui de novo você reformado de '\n",
            "                                         'uma forma que fique alinhada contigo '\n",
            "                                         'né Ou seja você propôs uma solução '\n",
            "                                         'que permite'},\n",
            "                       {   'transcript': 'acho que dá para reformulação um '\n",
            "                                         'pouco mas tipo porque acho que o '\n",
            "                                         'ideal aqui de novo você reformado de '\n",
            "                                         'uma forma que fique alinhada contigo '\n",
            "                                         'né Ou seja você propôs uma solução '\n",
            "                                         'que permite a'},\n",
            "                       {   'transcript': 'acho que dá para reformulação um '\n",
            "                                         'pouco mas tipo porque eu acho que o '\n",
            "                                         'ideal aqui de novo você reformado de '\n",
            "                                         'uma forma que fique alinhada com '\n",
            "                                         'títulos né Ou seja você propôs uma '\n",
            "                                         'solução que permite a'},\n",
            "                       {   'transcript': 'acho que dá para reformulação um '\n",
            "                                         'pouco mas tipo porque acho que o '\n",
            "                                         'ideal aqui de novo você reformado de '\n",
            "                                         'uma forma que fique alinhada contigo '\n",
            "                                         'né Ou seja você propôs uma solução '\n",
            "                                         'que permite'}],\n",
            "    'final': True}\n",
            "A interpretação do aúdio foi concluída com sucesso!\n",
            "Extraído subtitle do arquivo 7, output_file_7.wav\n",
            "Aguarde 20s...\n",
            "Interpretando o arquivo 8, output_file_8.wav\n",
            "/content/myaudios/output_file_8.wav\n",
            "Aguarde...\n",
            "result2:\n",
            "{   'alternative': [   {   'confidence': 0.80707747,\n",
            "                           'transcript': 'identificação de afex que indicam '\n",
            "                                         'retidi de forma automática Não foi '\n",
            "                                         'isso que você fez sim alguns '\n",
            "                                         'avaliadores questionar essa questão '\n",
            "                                         'de empírico dizendo que não tinha '\n",
            "                                         'método suficiente para dizer que '\n",
            "                                         'isso era uma ava'},\n",
            "                       {   'transcript': 'identificação de afex que indicam '\n",
            "                                         'retidi de forma automática Não foi '\n",
            "                                         'isso que você fez sim alguns '\n",
            "                                         'avaliadores questionar essa questão '\n",
            "                                         'de empírico dizendo que não tinha '\n",
            "                                         'método suficiente para dizer que '\n",
            "                                         'isso é uma ava'},\n",
            "                       {   'transcript': 'identificação de afex que indicam '\n",
            "                                         'retidi de forma automática Não foi '\n",
            "                                         'isso que você fez sim alguns '\n",
            "                                         'avaliadores questionar essa questão '\n",
            "                                         'de empírico dizendo que não tinha '\n",
            "                                         'método suficiente para dizer que '\n",
            "                                         'isso era uma avalia'},\n",
            "                       {   'transcript': 'identificação de afex que indicam '\n",
            "                                         'retidi de forma automática Não foi '\n",
            "                                         'isso que você fez sim alguns '\n",
            "                                         'avaliadores questionar essa questão '\n",
            "                                         'de empírico dizendo que não tinha '\n",
            "                                         'método suficiente para dizer que '\n",
            "                                         'isso é uma avalia'},\n",
            "                       {   'transcript': 'identificação de afects que indicam '\n",
            "                                         'retidi de forma automática Não foi '\n",
            "                                         'isso que você fez sim alguns '\n",
            "                                         'avaliadores questionar essa questão '\n",
            "                                         'de empírico dizendo que não tinha '\n",
            "                                         'método suficiente para dizer que '\n",
            "                                         'isso era uma ava'}],\n",
            "    'final': True}\n",
            "A interpretação do aúdio foi concluída com sucesso!\n",
            "Extraído subtitle do arquivo 8, output_file_8.wav\n",
            "Aguarde 20s...\n",
            "Interpretando o arquivo 9, output_file_9.wav\n",
            "/content/myaudios/output_file_9.wav\n",
            "Aguarde...\n",
            "result2:\n",
            "{   'alternative': [   {   'confidence': 0.69194782,\n",
            "                           'transcript': 'Espírita sei lá não sei se esse cara '\n",
            "                                         'foi muito puro muito crítico'},\n",
            "                       {   'transcript': 'empírica sei lá não sei se esse cara '\n",
            "                                         'foi muito puro muito crítico'},\n",
            "                       {   'transcript': 'empírica sei lá não sei se o cara '\n",
            "                                         'foi muito puro muito crítico'},\n",
            "                       {   'transcript': 'Espírita sei lá não sei se esse cara '\n",
            "                                         'foi muito puro muito crítico tá'},\n",
            "                       {   'transcript': 'empírica sei lá não sei se esse cara '\n",
            "                                         'foi muito puro muito crítico tá'}],\n",
            "    'final': True}\n",
            "A interpretação do aúdio foi concluída com sucesso!\n",
            "Extraído subtitle do arquivo 9, output_file_9.wav\n"
          ]
        }
      ]
    },
    {
      "cell_type": "code",
      "source": [
        "!cd myaudios && ls -liath"
      ],
      "metadata": {
        "id": "SaKQ2OYRYvay"
      },
      "execution_count": null,
      "outputs": []
    },
    {
      "cell_type": "code",
      "source": [
        "!apt install zip"
      ],
      "metadata": {
        "colab": {
          "base_uri": "https://localhost:8080/"
        },
        "id": "nFugqzlUY95y",
        "outputId": "fcab5a51-f623-4812-f246-b7ac4754a0ec"
      },
      "execution_count": 19,
      "outputs": [
        {
          "output_type": "stream",
          "name": "stdout",
          "text": [
            "Reading package lists... Done\n",
            "Building dependency tree       \n",
            "Reading state information... Done\n",
            "zip is already the newest version (3.0-11build1).\n",
            "The following package was automatically installed and is no longer required:\n",
            "  libnvidia-common-510\n",
            "Use 'apt autoremove' to remove it.\n",
            "0 upgraded, 0 newly installed, 0 to remove and 21 not upgraded.\n"
          ]
        }
      ]
    },
    {
      "cell_type": "code",
      "source": [
        "!ls"
      ],
      "metadata": {
        "colab": {
          "base_uri": "https://localhost:8080/"
        },
        "id": "UgqReEjPYyr4",
        "outputId": "672c91b6-020d-4bec-a781-d6726b588b56"
      },
      "execution_count": 20,
      "outputs": [
        {
          "output_type": "stream",
          "name": "stdout",
          "text": [
            "input  myaudios  myaudios2  output  sample_data\n"
          ]
        }
      ]
    },
    {
      "cell_type": "code",
      "source": [
        "!zip -r -q criticas myaudios2/"
      ],
      "metadata": {
        "id": "bDYfK-2iZW8K"
      },
      "execution_count": 21,
      "outputs": []
    },
    {
      "cell_type": "code",
      "source": [
        "!du -h\n"
      ],
      "metadata": {
        "colab": {
          "base_uri": "https://localhost:8080/"
        },
        "id": "rBf0Vc8jZclU",
        "outputId": "c754a694-7fbc-4ae1-cf00-a09a6745e4a1"
      },
      "execution_count": 22,
      "outputs": [
        {
          "output_type": "stream",
          "name": "stdout",
          "text": [
            "72K\t./.config/logs/2023.02.14\n",
            "76K\t./.config/logs\n",
            "8.0K\t./.config/configurations\n",
            "108K\t./.config\n",
            "88M\t./input\n",
            "462M\t./output\n",
            "402M\t./myaudios\n",
            "407M\t./myaudios2\n",
            "55M\t./sample_data\n",
            "1.6G\t.\n"
          ]
        }
      ]
    },
    {
      "cell_type": "code",
      "source": [
        "ls -liath"
      ],
      "metadata": {
        "id": "f3wVYlhFZzvf",
        "colab": {
          "base_uri": "https://localhost:8080/"
        },
        "outputId": "10366561-ca9e-4456-c519-83043f991020"
      },
      "execution_count": 24,
      "outputs": [
        {
          "output_type": "stream",
          "name": "stdout",
          "text": [
            "total 193M\n",
            "5111828 drwxr-xr-x 1 root root 4.0K Feb 16 15:57 \u001b[0m\u001b[01;34m.\u001b[0m/\n",
            "2753025 -rw-r--r-- 1 root root 193M Feb 16 15:57 criticas.zip\n",
            "2883585 drwxr-xr-x 2 root root 4.0K Feb 16 15:56 \u001b[01;34mmyaudios2\u001b[0m/\n",
            "2752850 drwxr-xr-x 2 root root 4.0K Feb 16 15:54 \u001b[01;34mmyaudios\u001b[0m/\n",
            "2752763 drwxr-xr-x 2 root root 4.0K Feb 16 15:52 \u001b[01;34moutput\u001b[0m/\n",
            "2752750 drwxr-xr-x 2 root root 4.0K Feb 16 14:30 \u001b[01;34minput\u001b[0m/\n",
            "2752555 drwxr-xr-x 1 root root 4.0K Feb 16 14:24 \u001b[01;34m..\u001b[0m/\n",
            "5111829 drwxr-xr-x 1 root root 4.0K Feb 14 14:37 \u001b[01;34msample_data\u001b[0m/\n",
            "3538966 drwxr-xr-x 4 root root 4.0K Feb 14 14:36 \u001b[01;34m.config\u001b[0m/\n"
          ]
        }
      ]
    },
    {
      "cell_type": "code",
      "source": [],
      "metadata": {
        "id": "Ck2HoD_p8qBO"
      },
      "execution_count": null,
      "outputs": []
    }
  ]
}
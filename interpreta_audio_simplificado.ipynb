{
  "nbformat": 4,
  "nbformat_minor": 0,
  "metadata": {
    "colab": {
      "provenance": [],
      "authorship_tag": "ABX9TyPAt5Hb04c5wcvmMDTOXXjz",
      "include_colab_link": true
    },
    "kernelspec": {
      "name": "python3",
      "display_name": "Python 3"
    },
    "language_info": {
      "name": "python"
    }
  },
  "cells": [
    {
      "cell_type": "markdown",
      "metadata": {
        "id": "view-in-github",
        "colab_type": "text"
      },
      "source": [
        "<a href=\"https://colab.research.google.com/github/armandossrecife/teste/blob/main/interpreta_audio_simplificado.ipynb\" target=\"_parent\"><img src=\"https://colab.research.google.com/assets/colab-badge.svg\" alt=\"Open In Colab\"/></a>"
      ]
    },
    {
      "cell_type": "markdown",
      "source": [
        "# 1. Convertendo e manipulando arquivos de áudio"
      ],
      "metadata": {
        "id": "zKg_jjDlUQ8E"
      }
    },
    {
      "cell_type": "markdown",
      "source": [
        "Audioconverter\n",
        "\n",
        "https://github.com/lamdaV/AudioConverter\n"
      ],
      "metadata": {
        "id": "88BZBxKHTeUH"
      }
    },
    {
      "cell_type": "markdown",
      "source": [
        "Instala o FFMpeg\n",
        "\n",
        "https://ffmpeg.org/\n",
        "\n",
        "https://en.wikipedia.org/wiki/FFmpeg"
      ],
      "metadata": {
        "id": "H5oIoxHaTnEu"
      }
    },
    {
      "cell_type": "code",
      "source": [
        "!apt-get update"
      ],
      "metadata": {
        "colab": {
          "base_uri": "https://localhost:8080/"
        },
        "id": "fXU4NuBpdDe9",
        "outputId": "5a34ebfe-cb9d-48f8-c615-28fd041bbd9c"
      },
      "execution_count": null,
      "outputs": [
        {
          "output_type": "stream",
          "name": "stdout",
          "text": [
            "\r0% [Working]\r            \rHit:1 http://archive.ubuntu.com/ubuntu jammy InRelease\n",
            "\r0% [Waiting for headers] [Connecting to security.ubuntu.com (185.125.190.39)] [Connected to cloud.r-\r                                                                                                    \rGet:2 http://archive.ubuntu.com/ubuntu jammy-updates InRelease [119 kB]\n",
            "\r0% [2 InRelease 12.7 kB/119 kB 11%] [Connecting to security.ubuntu.com (185.125.190.39)] [Waiting fo\r                                                                                                    \rGet:3 https://cloud.r-project.org/bin/linux/ubuntu jammy-cran40/ InRelease [3,626 B]\n",
            "Get:4 https://developer.download.nvidia.com/compute/cuda/repos/ubuntu2204/x86_64  InRelease [1,581 B]\n",
            "Get:5 http://security.ubuntu.com/ubuntu jammy-security InRelease [110 kB]\n",
            "Hit:6 http://archive.ubuntu.com/ubuntu jammy-backports InRelease\n",
            "Hit:7 https://ppa.launchpadcontent.net/c2d4u.team/c2d4u4.0+/ubuntu jammy InRelease\n",
            "Get:8 https://developer.download.nvidia.com/compute/cuda/repos/ubuntu2204/x86_64  Packages [713 kB]\n",
            "Hit:9 https://ppa.launchpadcontent.net/deadsnakes/ppa/ubuntu jammy InRelease\n",
            "Get:10 http://archive.ubuntu.com/ubuntu jammy-updates/main amd64 Packages [1,795 kB]\n",
            "Get:11 https://ppa.launchpadcontent.net/graphics-drivers/ppa/ubuntu jammy InRelease [24.3 kB]\n",
            "Hit:12 https://ppa.launchpadcontent.net/ubuntugis/ppa/ubuntu jammy InRelease\n",
            "Get:13 http://archive.ubuntu.com/ubuntu jammy-updates/universe amd64 Packages [1,345 kB]\n",
            "Get:14 http://archive.ubuntu.com/ubuntu jammy-updates/multiverse amd64 Packages [50.4 kB]\n",
            "Get:15 http://archive.ubuntu.com/ubuntu jammy-updates/restricted amd64 Packages [1,927 kB]\n",
            "Get:16 http://security.ubuntu.com/ubuntu jammy-security/main amd64 Packages [1,514 kB]\n",
            "Get:17 https://ppa.launchpadcontent.net/graphics-drivers/ppa/ubuntu jammy/main amd64 Packages [44.7 kB]\n",
            "Get:18 http://security.ubuntu.com/ubuntu jammy-security/multiverse amd64 Packages [44.6 kB]\n",
            "Get:19 http://security.ubuntu.com/ubuntu jammy-security/restricted amd64 Packages [1,889 kB]\n",
            "Get:20 http://security.ubuntu.com/ubuntu jammy-security/universe amd64 Packages [1,073 kB]\n",
            "Fetched 10.7 MB in 2s (4,993 kB/s)\n",
            "Reading package lists... Done\n"
          ]
        }
      ]
    },
    {
      "cell_type": "code",
      "source": [
        "!apt-get install lshw"
      ],
      "metadata": {
        "colab": {
          "base_uri": "https://localhost:8080/"
        },
        "id": "T0aozD0IdQCl",
        "outputId": "6ae381a8-d82d-46fe-d97b-e8f3f9d2bdd0"
      },
      "execution_count": null,
      "outputs": [
        {
          "output_type": "stream",
          "name": "stdout",
          "text": [
            "Reading package lists... Done\n",
            "Building dependency tree... Done\n",
            "Reading state information... Done\n",
            "The following additional packages will be installed:\n",
            "  pci.ids usb.ids\n",
            "The following NEW packages will be installed:\n",
            "  lshw pci.ids usb.ids\n",
            "0 upgraded, 3 newly installed, 0 to remove and 48 not upgraded.\n",
            "Need to get 790 kB of archives.\n",
            "After this operation, 2,988 kB of additional disk space will be used.\n",
            "Get:1 http://archive.ubuntu.com/ubuntu jammy/main amd64 lshw amd64 02.19.git.2021.06.19.996aaad9c7-2build1 [321 kB]\n",
            "Get:2 http://archive.ubuntu.com/ubuntu jammy/main amd64 pci.ids all 0.0~2022.01.22-1 [251 kB]\n",
            "Get:3 http://archive.ubuntu.com/ubuntu jammy/main amd64 usb.ids all 2022.04.02-1 [219 kB]\n",
            "Fetched 790 kB in 0s (1,872 kB/s)\n",
            "Selecting previously unselected package lshw.\n",
            "(Reading database ... 121776 files and directories currently installed.)\n",
            "Preparing to unpack .../lshw_02.19.git.2021.06.19.996aaad9c7-2build1_amd64.deb ...\n",
            "Unpacking lshw (02.19.git.2021.06.19.996aaad9c7-2build1) ...\n",
            "Selecting previously unselected package pci.ids.\n",
            "Preparing to unpack .../pci.ids_0.0~2022.01.22-1_all.deb ...\n",
            "Unpacking pci.ids (0.0~2022.01.22-1) ...\n",
            "Selecting previously unselected package usb.ids.\n",
            "Preparing to unpack .../usb.ids_2022.04.02-1_all.deb ...\n",
            "Unpacking usb.ids (2022.04.02-1) ...\n",
            "Setting up pci.ids (0.0~2022.01.22-1) ...\n",
            "Setting up lshw (02.19.git.2021.06.19.996aaad9c7-2build1) ...\n",
            "Setting up usb.ids (2022.04.02-1) ...\n",
            "Processing triggers for man-db (2.10.2-1) ...\n"
          ]
        }
      ]
    },
    {
      "cell_type": "code",
      "source": [
        "!lshw"
      ],
      "metadata": {
        "colab": {
          "base_uri": "https://localhost:8080/"
        },
        "id": "xR_APY_cdUTw",
        "outputId": "c15fe0ed-36c2-4ea9-9ec0-c45c95fd91e2"
      },
      "execution_count": null,
      "outputs": [
        {
          "output_type": "stream",
          "name": "stdout",
          "text": [
            "\r\rDMI\r\r   \rSMP\r\r   \rPA-RISC\r\r       \rdevice-tree\r\r           \rSPD\r\r   \rmemory\r\r      \r/proc/cpuinfo\r\r             \rCPUID\r\r     \rPCI (sysfs)\r\r           \rISA PnP\r\r       \rPnP (sysfs)\r\r           \rPCMCIA\r\r      \rPCMCIA\r\r      \rVirtual I/O (VIRTIO) devices\r\r                            \rIBM Virtual I/O (VIO)\r\r                     \rkernel device tree (sysfs)\r\r                          \rUSB\r\r   \rIDE\r\r   \rSCSI\r\r    \rNVMe\r\r    \rMMC\r\r   \rsound\r\r     \rgraphics\r\r        \rinput\r\r     \rS/390 devices\r\r             \rNetwork interfaces\r\r                  \rFramebuffer devices\r\r                   \rDisplay\r\r       \rCPUFreq\r\r       \rABI\r\r   \r\r25de0df1bb5c\n",
            "    description: Computer\n",
            "    width: 64 bits\n",
            "    capabilities: smp vsyscall32\n",
            "  *-core\n",
            "       description: Motherboard\n",
            "       physical id: 0\n",
            "     *-memory\n",
            "          description: System memory\n",
            "          physical id: 0\n",
            "          size: 12GiB\n",
            "     *-cpu\n",
            "          product: Intel(R) Xeon(R) CPU @ 2.20GHz\n",
            "          vendor: Intel Corp.\n",
            "          physical id: 1\n",
            "          bus info: cpu@0\n",
            "          version: 6.79.0\n",
            "          width: 64 bits\n",
            "          capabilities: fpu fpu_exception wp vme de pse tsc msr pae mce cx8 apic sep mtrr pge mca cmov pat pse36 clflush mmx fxsr sse sse2 ss ht syscall nx pdpe1gb rdtscp x86-64 constant_tsc rep_good nopl xtopology nonstop_tsc cpuid tsc_known_freq pni pclmulqdq ssse3 fma cx16 pcid sse4_1 sse4_2 x2apic movbe popcnt aes xsave avx f16c rdrand hypervisor lahf_lm abm 3dnowprefetch invpcid_single ssbd ibrs ibpb stibp fsgsbase tsc_adjust bmi1 hle avx2 smep bmi2 erms invpcid rtm rdseed adx smap xsaveopt arat md_clear arch_capabilities\n",
            "          configuration: microcode=4294967295\n",
            "     *-pci\n",
            "          description: Host bridge\n",
            "          product: 440FX - 82441FX PMC [Natoma]\n",
            "          vendor: Intel Corporation\n",
            "          physical id: 100\n",
            "          bus info: pci@0000:00:00.0\n",
            "          version: 02\n",
            "          width: 32 bits\n",
            "          clock: 33MHz\n",
            "        *-isa\n",
            "             description: ISA bridge\n",
            "             product: 82371AB/EB/MB PIIX4 ISA\n",
            "             vendor: Intel Corporation\n",
            "             physical id: 1\n",
            "             bus info: pci@0000:00:01.0\n",
            "             version: 03\n",
            "             width: 32 bits\n",
            "             clock: 33MHz\n",
            "             capabilities: isa bus_master\n",
            "             configuration: latency=0\n",
            "           *-pnp00:00\n",
            "                product: PnP device PNP0b00\n",
            "                physical id: 0\n",
            "                capabilities: pnp\n",
            "                configuration: driver=rtc_cmos\n",
            "           *-pnp00:01\n",
            "                product: PnP device PNP0303\n",
            "                physical id: 1\n",
            "                capabilities: pnp\n",
            "                configuration: driver=i8042 kbd\n",
            "           *-pnp00:02\n",
            "                product: PnP device PNP0f13\n",
            "                physical id: 2\n",
            "                capabilities: pnp\n",
            "                configuration: driver=i8042 aux\n",
            "           *-pnp00:03\n",
            "                product: PnP device PNP0501\n",
            "                physical id: 3\n",
            "                capabilities: pnp\n",
            "                configuration: driver=serial\n",
            "           *-pnp00:04\n",
            "                product: PnP device PNP0501\n",
            "                physical id: 4\n",
            "                capabilities: pnp\n",
            "                configuration: driver=serial\n",
            "           *-pnp00:05\n",
            "                product: PnP device PNP0501\n",
            "                physical id: 5\n",
            "                capabilities: pnp\n",
            "                configuration: driver=serial\n",
            "           *-pnp00:06\n",
            "                product: PnP device PNP0501\n",
            "                physical id: 6\n",
            "                capabilities: pnp\n",
            "                configuration: driver=serial\n",
            "        *-bridge UNCLAIMED\n",
            "             description: Bridge\n",
            "             product: 82371AB/EB/MB PIIX4 ACPI\n",
            "             vendor: Intel Corporation\n",
            "             physical id: 1.3\n",
            "             bus info: pci@0000:00:01.3\n",
            "             version: 03\n",
            "             width: 32 bits\n",
            "             clock: 33MHz\n",
            "             capabilities: bridge bus_master\n",
            "             configuration: latency=0\n",
            "        *-generic:0\n",
            "             description: Non-VGA unclassified device\n",
            "             product: Virtio SCSI\n",
            "             vendor: Red Hat, Inc.\n",
            "             physical id: 3\n",
            "             bus info: pci@0000:00:03.0\n",
            "             version: 00\n",
            "             width: 32 bits\n",
            "             clock: 33MHz\n",
            "             capabilities: msix bus_master cap_list\n",
            "             configuration: driver=virtio-pci latency=0\n",
            "             resources: irq:11 ioport:c040(size=64) memory:c0002000-c000207f\n",
            "           *-virtio0 UNCLAIMED\n",
            "                description: Virtual I/O device\n",
            "                physical id: 0\n",
            "                bus info: virtio@0\n",
            "                configuration: driver=virtio_scsi\n",
            "        *-network\n",
            "             description: Ethernet controller\n",
            "             product: Virtio network device\n",
            "             vendor: Red Hat, Inc.\n",
            "             physical id: 4\n",
            "             bus info: pci@0000:00:04.0\n",
            "             version: 00\n",
            "             width: 32 bits\n",
            "             clock: 33MHz\n",
            "             capabilities: msix bus_master cap_list\n",
            "             configuration: driver=virtio-pci latency=0\n",
            "             resources: irq:10 ioport:c000(size=64) memory:c0001000-c000107f\n",
            "           *-virtio1 UNCLAIMED\n",
            "                description: Virtual I/O device\n",
            "                physical id: 0\n",
            "                bus info: virtio@1\n",
            "                configuration: driver=virtio_net\n",
            "        *-generic:1\n",
            "             description: Unclassified device\n",
            "             product: Virtio memory balloon\n",
            "             vendor: Red Hat, Inc.\n",
            "             physical id: 5\n",
            "             bus info: pci@0000:00:05.0\n",
            "             version: 00\n",
            "             width: 32 bits\n",
            "             clock: 33MHz\n",
            "             capabilities: msix bus_master cap_list\n",
            "             configuration: driver=virtio-pci latency=0\n",
            "             resources: irq:10 ioport:c0a0(size=32) memory:c0000000-c000007f\n",
            "           *-virtio2 UNCLAIMED\n",
            "                description: Virtual I/O device\n",
            "                physical id: 0\n",
            "                bus info: virtio@2\n",
            "                configuration: driver=virtio_balloon\n",
            "        *-generic:2\n",
            "             description: Unclassified device\n",
            "             product: Virtio RNG\n",
            "             vendor: Red Hat, Inc.\n",
            "             physical id: 6\n",
            "             bus info: pci@0000:00:06.0\n",
            "             version: 00\n",
            "             width: 32 bits\n",
            "             clock: 33MHz\n",
            "             capabilities: msix bus_master cap_list\n",
            "             configuration: driver=virtio-pci latency=0\n",
            "             resources: irq:11 ioport:c080(size=32) memory:c0003000-c000303f\n",
            "           *-virtio3 UNCLAIMED\n",
            "                description: Virtual I/O device\n",
            "                physical id: 0\n",
            "                bus info: virtio@3\n",
            "                configuration: driver=virtio_rng\n",
            "  *-input:0\n",
            "       product: Power Button\n",
            "       physical id: 1\n",
            "       logical name: input0\n",
            "       logical name: event0\n",
            "       capabilities: platform\n",
            "  *-input:1\n",
            "       product: Sleep Button\n",
            "       physical id: 2\n",
            "       logical name: input1\n",
            "       logical name: event1\n",
            "       capabilities: platform\n",
            "  *-input:2\n",
            "       product: AT Translated Set 2 keyboard\n",
            "       physical id: 3\n",
            "       logical name: input2\n",
            "       logical name: event2\n",
            "       capabilities: i8042\n"
          ]
        }
      ]
    },
    {
      "cell_type": "markdown",
      "source": [
        "## Instalando o FFMpeg"
      ],
      "metadata": {
        "id": "DLU3bWiOUaew"
      }
    },
    {
      "cell_type": "code",
      "source": [
        "!apt-get install ffmpeg libavcodec-extra"
      ],
      "metadata": {
        "colab": {
          "base_uri": "https://localhost:8080/"
        },
        "id": "3IvGS59LTh4T",
        "outputId": "787444f4-dd85-4348-a37c-d1ba7a62f0ec"
      },
      "execution_count": null,
      "outputs": [
        {
          "output_type": "stream",
          "name": "stdout",
          "text": [
            "Reading package lists... Done\n",
            "Building dependency tree... Done\n",
            "Reading state information... Done\n",
            "ffmpeg is already the newest version (7:4.4.2-0ubuntu0.22.04.1).\n",
            "The following additional packages will be installed:\n",
            "  libaribb24-0 libavcodec-extra58 libopencore-amrnb0 libopencore-amrwb0 libvo-amrwbenc0\n",
            "Suggested packages:\n",
            "  libcuda1 libnvcuvid1 libnvidia-encode1\n",
            "The following packages will be REMOVED:\n",
            "  libavcodec58\n",
            "The following NEW packages will be installed:\n",
            "  libaribb24-0 libavcodec-extra libavcodec-extra58 libopencore-amrnb0 libopencore-amrwb0\n",
            "  libvo-amrwbenc0\n",
            "0 upgraded, 6 newly installed, 1 to remove and 35 not upgraded.\n",
            "Need to get 5,821 kB of archives.\n",
            "After this operation, 590 kB of additional disk space will be used.\n",
            "Get:1 http://archive.ubuntu.com/ubuntu jammy/universe amd64 libaribb24-0 amd64 1.0.3-2 [26.9 kB]\n",
            "Get:2 http://archive.ubuntu.com/ubuntu jammy/universe amd64 libopencore-amrnb0 amd64 0.1.5-1 [94.8 kB]\n",
            "Get:3 http://archive.ubuntu.com/ubuntu jammy/universe amd64 libopencore-amrwb0 amd64 0.1.5-1 [49.1 kB]\n",
            "Get:4 http://archive.ubuntu.com/ubuntu jammy/universe amd64 libvo-amrwbenc0 amd64 0.1.3-2 [68.2 kB]\n",
            "Get:5 http://archive.ubuntu.com/ubuntu jammy-updates/universe amd64 libavcodec-extra58 amd64 7:4.4.2-0ubuntu0.22.04.1 [5,566 kB]\n",
            "Get:6 http://archive.ubuntu.com/ubuntu jammy-updates/universe amd64 libavcodec-extra amd64 7:4.4.2-0ubuntu0.22.04.1 [15.2 kB]\n",
            "Fetched 5,821 kB in 1s (5,069 kB/s)\n",
            "Selecting previously unselected package libaribb24-0:amd64.\n",
            "(Reading database ... 121749 files and directories currently installed.)\n",
            "Preparing to unpack .../libaribb24-0_1.0.3-2_amd64.deb ...\n",
            "Unpacking libaribb24-0:amd64 (1.0.3-2) ...\n",
            "Selecting previously unselected package libopencore-amrnb0:amd64.\n",
            "Preparing to unpack .../libopencore-amrnb0_0.1.5-1_amd64.deb ...\n",
            "Unpacking libopencore-amrnb0:amd64 (0.1.5-1) ...\n",
            "Selecting previously unselected package libopencore-amrwb0:amd64.\n",
            "Preparing to unpack .../libopencore-amrwb0_0.1.5-1_amd64.deb ...\n",
            "Unpacking libopencore-amrwb0:amd64 (0.1.5-1) ...\n",
            "Selecting previously unselected package libvo-amrwbenc0:amd64.\n",
            "Preparing to unpack .../libvo-amrwbenc0_0.1.3-2_amd64.deb ...\n",
            "Unpacking libvo-amrwbenc0:amd64 (0.1.3-2) ...\n",
            "dpkg: libavcodec58:amd64: dependency problems, but removing anyway as you requested:\n",
            " libopencv-videoio4.5d:amd64 depends on libavcodec58 (>= 7:4.4).\n",
            " libchromaprint1:amd64 depends on libavcodec58 (>= 7:4.4).\n",
            " libavformat58:amd64 depends on libavcodec58 (= 7:4.4.2-0ubuntu0.22.04.1).\n",
            " libavfilter7:amd64 depends on libavcodec58 (= 7:4.4.2-0ubuntu0.22.04.1).\n",
            " libavdevice58:amd64 depends on libavcodec58 (= 7:4.4.2-0ubuntu0.22.04.1).\n",
            " libavcodec-dev:amd64 depends on libavcodec58 (= 7:4.4.2-0ubuntu0.22.04.1).\n",
            " ffmpeg depends on libavcodec58 (= 7:4.4.2-0ubuntu0.22.04.1).\n",
            "\n",
            "(Reading database ... 121773 files and directories currently installed.)\n",
            "Removing libavcodec58:amd64 (7:4.4.2-0ubuntu0.22.04.1) ...\n",
            "Selecting previously unselected package libavcodec-extra58:amd64.\n",
            "(Reading database ... 121767 files and directories currently installed.)\n",
            "Preparing to unpack .../libavcodec-extra58_7%3a4.4.2-0ubuntu0.22.04.1_amd64.deb ...\n",
            "Unpacking libavcodec-extra58:amd64 (7:4.4.2-0ubuntu0.22.04.1) ...\n",
            "Selecting previously unselected package libavcodec-extra:amd64.\n",
            "Preparing to unpack .../libavcodec-extra_7%3a4.4.2-0ubuntu0.22.04.1_amd64.deb ...\n",
            "Unpacking libavcodec-extra:amd64 (7:4.4.2-0ubuntu0.22.04.1) ...\n",
            "Setting up libvo-amrwbenc0:amd64 (0.1.3-2) ...\n",
            "Setting up libaribb24-0:amd64 (1.0.3-2) ...\n",
            "Setting up libopencore-amrwb0:amd64 (0.1.5-1) ...\n",
            "Setting up libopencore-amrnb0:amd64 (0.1.5-1) ...\n",
            "Setting up libavcodec-extra58:amd64 (7:4.4.2-0ubuntu0.22.04.1) ...\n",
            "Setting up libavcodec-extra:amd64 (7:4.4.2-0ubuntu0.22.04.1) ...\n",
            "Processing triggers for libc-bin (2.35-0ubuntu3.4) ...\n",
            "/sbin/ldconfig.real: /usr/local/lib/libtbbbind_2_5.so.3 is not a symbolic link\n",
            "\n",
            "/sbin/ldconfig.real: /usr/local/lib/libtbbmalloc.so.2 is not a symbolic link\n",
            "\n",
            "/sbin/ldconfig.real: /usr/local/lib/libtbb.so.12 is not a symbolic link\n",
            "\n",
            "/sbin/ldconfig.real: /usr/local/lib/libtbbbind.so.3 is not a symbolic link\n",
            "\n",
            "/sbin/ldconfig.real: /usr/local/lib/libtbbbind_2_0.so.3 is not a symbolic link\n",
            "\n",
            "/sbin/ldconfig.real: /usr/local/lib/libtbbmalloc_proxy.so.2 is not a symbolic link\n",
            "\n"
          ]
        }
      ]
    },
    {
      "cell_type": "code",
      "source": [
        "!apt-get install htop"
      ],
      "metadata": {
        "colab": {
          "base_uri": "https://localhost:8080/"
        },
        "id": "j338MiNHdqsV",
        "outputId": "737b38f1-1b12-4d51-f7d7-1c0a0a3319f8"
      },
      "execution_count": null,
      "outputs": [
        {
          "output_type": "stream",
          "name": "stdout",
          "text": [
            "Reading package lists... Done\n",
            "Building dependency tree... Done\n",
            "Reading state information... Done\n",
            "The following additional packages will be installed:\n",
            "  libnl-genl-3-200\n",
            "Suggested packages:\n",
            "  lm-sensors strace\n",
            "The following NEW packages will be installed:\n",
            "  htop libnl-genl-3-200\n",
            "0 upgraded, 2 newly installed, 0 to remove and 48 not upgraded.\n",
            "Need to get 140 kB of archives.\n",
            "After this operation, 404 kB of additional disk space will be used.\n",
            "Get:1 http://archive.ubuntu.com/ubuntu jammy/main amd64 libnl-genl-3-200 amd64 3.5.0-0.1 [12.4 kB]\n",
            "Get:2 http://archive.ubuntu.com/ubuntu jammy/main amd64 htop amd64 3.0.5-7build2 [128 kB]\n",
            "Fetched 140 kB in 0s (746 kB/s)\n",
            "Selecting previously unselected package libnl-genl-3-200:amd64.\n",
            "(Reading database ... 121791 files and directories currently installed.)\n",
            "Preparing to unpack .../libnl-genl-3-200_3.5.0-0.1_amd64.deb ...\n",
            "Unpacking libnl-genl-3-200:amd64 (3.5.0-0.1) ...\n",
            "Selecting previously unselected package htop.\n",
            "Preparing to unpack .../htop_3.0.5-7build2_amd64.deb ...\n",
            "Unpacking htop (3.0.5-7build2) ...\n",
            "Setting up libnl-genl-3-200:amd64 (3.5.0-0.1) ...\n",
            "Setting up htop (3.0.5-7build2) ...\n",
            "Processing triggers for man-db (2.10.2-1) ...\n",
            "Processing triggers for hicolor-icon-theme (0.17-2) ...\n",
            "Processing triggers for libc-bin (2.35-0ubuntu3.4) ...\n",
            "/sbin/ldconfig.real: /usr/local/lib/libtbbbind_2_5.so.3 is not a symbolic link\n",
            "\n",
            "/sbin/ldconfig.real: /usr/local/lib/libtbbmalloc.so.2 is not a symbolic link\n",
            "\n",
            "/sbin/ldconfig.real: /usr/local/lib/libtbb.so.12 is not a symbolic link\n",
            "\n",
            "/sbin/ldconfig.real: /usr/local/lib/libtbbbind.so.3 is not a symbolic link\n",
            "\n",
            "/sbin/ldconfig.real: /usr/local/lib/libtbbbind_2_0.so.3 is not a symbolic link\n",
            "\n",
            "/sbin/ldconfig.real: /usr/local/lib/libtbbmalloc_proxy.so.2 is not a symbolic link\n",
            "\n"
          ]
        }
      ]
    },
    {
      "cell_type": "code",
      "source": [
        "!htop"
      ],
      "metadata": {
        "colab": {
          "base_uri": "https://localhost:8080/"
        },
        "id": "pWVKAkPtdvO4",
        "outputId": "e669b841-4802-48d7-ee05-fd7c8e833eb3"
      },
      "execution_count": null,
      "outputs": [
        {
          "output_type": "stream",
          "name": "stdout",
          "text": [
            "\u001b)0\u001b7\u001b[?47h\u001b[1;24r\u001b[m\u001b[4l\u001b[?1h\u001b=\u001b[m\u001b[?1000h\u001b[m\u001b[m\u001b[H\u001b[2J\u001b[1B  \u001b[36m  0\u001b[m\u001b[1m[\u001b[30m                                    0.0%\u001b[m]\u001b[m   \u001b[36mTasks: \u001b[1m16\u001b[m\u001b[36m, \u001b[32m\u001b[1m53\u001b[m\u001b[32m thr\u001b[36m; \u001b[32m\u001b[1m1\u001b[m\u001b[36m running\u001b[3;3H  1\u001b[m\u001b[1m[\u001b[30m                                    0.0%\u001b[m]\u001b[m   \u001b[36mLoad average: \u001b[m\u001b[1m0.42 \u001b[36m0.30 \u001b[m\u001b[36m0.27 \u001b[4;3HMem\u001b[m\u001b[1m[\u001b[m\u001b[32m|||\u001b[34m|\u001b[33m||||||||||\u001b[30m\u001b[1m                695M/12.7G\u001b[m]\u001b[m   \u001b[36mUptime: \u001b[1m00:20:36\u001b[5;3H\u001b[m\u001b[36mSwp\u001b[m\u001b[1m[\u001b[30m                                   0K/0K\u001b[m]\r\u001b[2B\u001b[m\u001b[30m\u001b[42m    PID USER      PRI  NI  VIRT   RES   SHR S \u001b[30m\u001b[46mCPU%▽\u001b[30m\u001b[42mMEM%   TIME+  Command                            \u001b[8;1H\u001b[30m\u001b[46m      1 root       20   0  1076     8     0 S  0.0  0.0  0:00.10 /sbin/docker-init -- /datalab/run.s\u001b[9;7H\u001b[m\u001b[m7 root\u001b[7C20   0 \u001b[36m 874M 56\u001b[m\u001b[m404 \u001b[36m31\u001b[m\u001b[m124 S  0.0  0.4  0:04.72 /tools/node/bin/node /datalab/web/a\u001b[10;6H18 root\u001b[7C20   0 \u001b[36m 7\u001b[m\u001b[m376 \u001b[36m 3\u001b[m\u001b[m392 \u001b[36m 3\u001b[m\u001b[m092 S  0.0  0.0  0:00.78 /bin/bash -e /usr/local/colab/bin/o\u001b[11;6H20 root\u001b[7C20   0 \u001b[36m 7\u001b[m\u001b[m376 \u001b[36m 1\u001b[m\u001b[m992 \u001b[36m 1\u001b[m\u001b[m704 S  0.0  0.0  0:00.00 /bin/bash -e /datalab/run.sh\u001b[12;6H21 root\u001b[7C20   0 \u001b[32m1\u001b[36m206M 13\u001b[m\u001b[m208 \u001b[36m 7\u001b[m\u001b[m648 S  0.0  0.1  0:00.50 /usr/colab/bin/kernel_manager_proxy\u001b[13;6H24 root\u001b[7C20   0 \u001b[36m 5\u001b[m\u001b[m808 \u001b[36m 1\u001b[m\u001b[m012   920 S  0.0  0.0  0:00.14 tail -n +0 -F /root/.config/Google/\u001b[14;6H30 root\u001b[7C20   0 \u001b[32m1\u001b[36m206M 13\u001b[m\u001b[m208 \u001b[36m 7\u001b[m\u001b[m648 S  0.0  0.1  0:00.08 \u001b[32m/usr/colab/bin/kernel_manager_proxy\u001b[15;6H\u001b[m\u001b[m31 root\u001b[7C20   0 \u001b[32m1\u001b[36m206M 13\u001b[m\u001b[m208 \u001b[36m 7\u001b[m\u001b[m648 S  0.0  0.1  0:00.09 \u001b[32m/usr/colab/bin/kernel_manager_proxy\u001b[16;6H\u001b[m\u001b[m32 root\u001b[7C20   0 \u001b[32m1\u001b[36m206M 13\u001b[m\u001b[m208 \u001b[36m 7\u001b[m\u001b[m648 S  0.0  0.1  0:00.12 \u001b[32m/usr/colab/bin/kernel_manager_proxy\u001b[17;6H\u001b[m\u001b[m33 root\u001b[7C20   0 \u001b[32m1\u001b[36m206M 13\u001b[m\u001b[m208 \u001b[36m 7\u001b[m\u001b[m648 S  0.0  0.1  0:00.00 \u001b[32m/usr/colab/bin/kernel_manager_proxy\u001b[18;6H\u001b[m\u001b[m59 root\u001b[7C20   0     0     0     0 Z  0.0  0.0  0:08.61 python3\u001b[19;6H60 root\u001b[7C20   0 \u001b[36m 157M  142M 18\u001b[m\u001b[m680 S  0.0  1.1  0:03.17 python3 /usr/local/bin/colab-filesh\u001b[20;6H67 root\u001b[7C20   0 \u001b[36m 874M 56\u001b[m\u001b[m404 \u001b[36m31\u001b[m\u001b[m124 S  0.0  0.4  0:00.00 \u001b[32m/tools/node/bin/node /datalab/web/a\u001b[21;6H\u001b[m\u001b[m68 root\u001b[7C20   0 \u001b[36m 874M 56\u001b[m\u001b[m404 \u001b[36m31\u001b[m\u001b[m124 S  0.0  0.4  0:00.08 \u001b[32m/tools/node/bin/node /datalab/web/a\u001b[22;6H\u001b[m\u001b[m69 root\u001b[7C20   0 \u001b[36m 874M 56\u001b[m\u001b[m404 \u001b[36m31\u001b[m\u001b[m124 S  0.0  0.4  0:00.08 \u001b[32m/tools/node/bin/node /datalab/web/a\u001b[23;6H\u001b[m\u001b[m70 root\u001b[7C20   0 \u001b[36m 874M 56\u001b[m\u001b[m404 \u001b[36m31\u001b[m\u001b[m124 S  0.0  0.4  0:00.12 \u001b[32m/tools/node/bin/node /datalab/web/a\u001b[24;1H\u001b[m\u001b[mF1\u001b[30m\u001b[46mHelp  \u001b[m\u001b[mF2\u001b[30m\u001b[46mSetup \u001b[m\u001b[mF3\u001b[30m\u001b[46mSearch\u001b[m\u001b[mF4\u001b[30m\u001b[46mFilter\u001b[m\u001b[mF5\u001b[30m\u001b[46mTree  \u001b[m\u001b[mF6\u001b[30m\u001b[46mSortBy\u001b[m\u001b[mF7\u001b[30m\u001b[46mNice -\u001b[m\u001b[mF8\u001b[30m\u001b[46mNice +\u001b[m\u001b[mF9\u001b[30m\u001b[46mKill  \u001b[m\u001b[mF10\u001b[30m\u001b[46mQuit                    \b \b\u001b[4h \u001b[4l\u001b[H\u001b[m\u001b[m\u001b[9;23r\u001b[9;1H\u001b[2L\u001b[1;24r\u001b[2;7H\u001b[32m||\u001b[31m|\u001b[2;43H\u001b[30m\u001b[1m5.3\u001b[3;7H\u001b[m\u001b[32m||\u001b[31m||\u001b[3;43H\u001b[30m\u001b[1m5.4\u001b[4;66H\u001b[36m7\u001b[8;7H\u001b[m\u001b[30m\u001b[46m7\u001b[8;28H874M 56692 31124 S  1.3  0.4  0:04.74 /tools/node/bin/node\u001b[10Cweb/a\u001b[9;5H\u001b[m\u001b[m326 root\u001b[7C20   0 \u001b[32m1\u001b[36m090M  109M 26\u001b[m\u001b[m572 S  0.7  0.8  0:08.91 /usr/bin/python3 -m colab_kernel_la\u001b[10;5H361 root\u001b[7C20   0 \u001b[36m 526M 13\u001b[m\u001b[m824 \u001b[36m 4\u001b[m\u001b[m844 S  0.7  0.1  0:03.09 /usr/bin/python3 /usr/local/lib/pyt\u001b[11;7H1\u001b[11;28H\u001b[36m1\u001b[m\u001b[m076     8     0\u001b[11;55H0  0:00.10 /sbin/docker-init --\u001b[10Crun.s\u001b[22;35H692\u001b[23;35H692\u001b[H\u001b[2;8H\u001b[31m|\u001b[30m\u001b[1m \u001b[2;43H2.7\u001b[3;8H\u001b[m\u001b[31m|\u001b[30m\u001b[1m  \u001b[3;43H3\u001b[4;66H\u001b[36m9\u001b[8;6H\u001b[m\u001b[30m\u001b[46m21\u001b[8;27H1206M 13208  7648 S  0.7  0.1  0:00.51 /usr/colab/bin/kernel_manager_proxy\u001b[9;5H\u001b[m\u001b[m 32\u001b[9;28H\u001b[36m206M 13\u001b[m\u001b[m208 \u001b[36m 7\u001b[m\u001b[m648\u001b[9;55H1  0:00.13 \u001b[32m/usr/colab/bin/kernel_manager_proxy\u001b[10;5H\u001b[m\u001b[m 82\u001b[10;28H\u001b[36m348M  109M 27\u001b[m\u001b[m336\u001b[10;55H8  0:05.14\u001b[29Cbin/jup\u001b[11;6H84\u001b[11;27H\u001b[32m1\u001b[36m199M  8\u001b[m\u001b[m620 \u001b[36m 3\u001b[m\u001b[m032\u001b[6C7  0.1\u001b[7C22 \u001b[32m/usr/local/bin/dap_multiplexer --do\u001b[12;5H\u001b[m\u001b[m326\u001b[12;27H\u001b[32m1\u001b[36m090M  109M 26\u001b[m\u001b[m57\u001b[7C7  0.8  0:08.92 /usr/bin/python3 -m colab_kernel_la\u001b[13;5H364\u001b[13;27H\u001b[32m1\u001b[36m090M  109M 26\u001b[m\u001b[m572\u001b[6C7  0.8  0:01.53 \u001b[32m/usr/bin/python3 -m colab_kernel_la\u001b[14;5H\u001b[m\u001b[m368\u001b[14;28H\u001b[36m090M  109M 26\u001b[m\u001b[m572\u001b[6C7  0.8  0:01.77 \u001b[32m/usr/bin/python3 -m colab_kernel_la\u001b[15;6H\u001b[m\u001b[m 1\u001b[15;28H\u001b[36m1\u001b[m\u001b[m076     8     \u001b[15;64H0 /sbin/docker-init -- /datalab/run.s\u001b[16;6H 7\u001b[16;27H\u001b[36m 874M 56\u001b[m\u001b[m956 \u001b[36m31\u001b[m\u001b[m124\u001b[16;55H4  0:04.74 /tools/node/bin/node /datalab/web/a\u001b[17;6H18\u001b[17;27H\u001b[36m 7\u001b[m\u001b[m376 \u001b[36m 3\u001b[m\u001b[m392 \u001b[36m 3\u001b[m\u001b[m092\u001b[17;55H0\u001b[7C78 /bin/bash -e /usr/local/colab/bin/o\u001b[18;6H20\u001b[18;27H\u001b[36m 7\u001b[m\u001b[m376 \u001b[36m 1\u001b[m\u001b[m992 \u001b[36m 1\u001b[m\u001b[m704\u001b[18;55H0\u001b[7C00 /bin/bash -e /datalab/run.sh\u001b[K\u001b[19;6H24\u001b[19;27H\u001b[36m 5\u001b[m\u001b[m808 \u001b[36m 1\u001b[m\u001b[m012   920\u001b[19;55H0\u001b[7C14 tail -n +0 -F /root/.config/Google/\u001b[20;6H30\u001b[20;27H\u001b[32m1\u001b[36m206M 13\u001b[m\u001b[m208 \u001b[36m 7\u001b[m\u001b[m648 S\u001b[20;55H1  0:00.08 \u001b[32m/usr/colab/bin/kernel_manager_proxy\u001b[21;6H\u001b[m\u001b[m31\u001b[21;27H\u001b[32m1\u001b[36m206M 13\u001b[m\u001b[m208 \u001b[36m 7\u001b[m\u001b[m648\u001b[21;53H0\u001b[7C0.09 \u001b[32m/usr/colab/bin/kernel_manager_proxy\u001b[22;6H\u001b[m\u001b[m33\u001b[22;27H\u001b[32m1\u001b[36m206M 13\u001b[m\u001b[m208 \u001b[36m 7\u001b[m\u001b[m648\u001b[22;55H1\u001b[22;67H\u001b[32musr/colab/bin/kernel_manager_proxy\u001b[23;6H\u001b[m\u001b[m59\u001b[23;27H    0     0     0 Z\u001b[23;55H0  0:08.61 python3\u001b[K\u001b[H\u001b[16;21r\u001b[21;1H\n",
            "\u001b[1;24r\u001b[2;8H\u001b[32m|\u001b[31m|\u001b[2;43H\u001b[30m\u001b[1m4\u001b[3;8H\u001b[m\u001b[32m|\u001b[31m|\u001b[3;43H\u001b[30m\u001b[1m4.0\u001b[3;67H\u001b[m39 \u001b[36m0.29\u001b[4;65H40\u001b[8;6H\u001b[m\u001b[30m\u001b[46m 7\u001b[8;27H 874M 56956 31124 S  1.3  0.4  0:04.76 /tools/node/bin/node /datalab/web/a\u001b[9;6H\u001b[m\u001b[m83\u001b[9;28H\u001b[36m199M  8\u001b[m\u001b[m620 \u001b[36m 3\u001b[m\u001b[m032 S  1.3\u001b[9;61H1.39 /usr/local/bin/dap_multiplexer --do\u001b[10;6H60\u001b[10;28H\u001b[36m157M  142M 18\u001b[m\u001b[m680\u001b[10;53H1.1  0:03.18 python3 /usr/local/bin/colab-filesh\u001b[11;5H326\u001b[11;28H\u001b[36m090M  109M 26\u001b[m\u001b[m57\u001b[11;55H8  0:08.93 /usr/bin/python3 -m colab_kernel_la\u001b[12;6H61\u001b[12;27H\u001b[36m 526M 13\u001b[m\u001b[m824 \u001b[36m 4\u001b[m\u001b[m844\u001b[12;55H1  0:03.10\u001b[12;83H/usr/local/lib/pyt\u001b[13;7H5\u001b[13;61H0.75\u001b[14;5H  1\u001b[14;27H\u001b[36m 1\u001b[m\u001b[m076     8     0\u001b[6C0  0.0  0:00.10 /sbin/docker-init -- /datalab/run.s\u001b[15;6H18\u001b[15;28H\u001b[36m7\u001b[m\u001b[m376 \u001b[36m 3\u001b[m\u001b[m392 \u001b[36m 3\u001b[m\u001b[m092\u001b[15;63H78 /bin/bash -e /usr/local/colab/bin/o\u001b[16;6H20\u001b[16;34H\u001b[36m1\u001b[m\u001b[m992 \u001b[36m 1\u001b[m\u001b[m704\u001b[16;63H00\u001b[16;80Hdatalab/run.sh\u001b[K\u001b[17;7H1\u001b[17;27H\u001b[32m1\u001b[36m206M 13\u001b[m\u001b[m208 \u001b[36m 7\u001b[m\u001b[m648\u001b[17;55H1\u001b[7C51 /usr/colab/bin/kernel_manager_proxy\u001b[21;6H32 root\u001b[7C20   0 \u001b[32m1\u001b[36m206M 13\u001b[m\u001b[m208 \u001b[36m 7\u001b[m\u001b[m648 S  0.0  0.1  0:00.13 \u001b[32m/usr/colab/bin/kernel_manager_proxy\u001b[1;1H\u001b[m\u001b[m\u001b[14;20r\u001b[14;1H\u001bM\u001b[1;24r\u001b[2;9H\u001b[32m||||||||||\u001b[31m|||||||||\u001b[2;42H\u001b[30m\u001b[1m48.6\u001b[3;9H\u001b[m\u001b[32m||||||||||||||\u001b[31m||||||||||\u001b[3;42H\u001b[30m\u001b[1m6\u001b[4;37H721\u001b[4;66H\u001b[36m2\u001b[8;35H\u001b[m\u001b[30m\u001b[46m37\u001b[8;48H0.7\u001b[8;64H7\u001b[9;6H\u001b[m\u001b[m31\u001b[9;28H\u001b[36m206M 13\u001b[m\u001b[m208 \u001b[36m 7\u001b[m\u001b[m648 S  0.7\u001b[9;61H0.10 \u001b[32m/usr/colab/bin/kernel_manager_proxy\u001b[10;64H\u001b[m\u001b[m9\u001b[1B\b4\u001b[12;7H6\u001b[12;61H1.09 \u001b[32m/usr/bin/python3 /usr/local/lib/pyt\u001b[13;5H\u001b[m\u001b[m422\u001b[13;27H\u001b[36m 526M 13\u001b[m\u001b[m824 \u001b[36m 4\u001b[m\u001b[m844\u001b[13;55H1  0:01.01\u001b[13;83H\u001b[32m/usr/local/lib/pyt\u001b[14;4H\u001b[m\u001b[m5977 root\u001b[7C20   0 \u001b[36m 8\u001b[m\u001b[m152 \u001b[36m 4\u001b[m\u001b[m460 \u001b[36m 3\u001b[m\u001b[m672 \u001b[32mR \u001b[m\u001b[m 0.7  0.0  0:00.02 htop\u001b[H\u001b[2;9H\u001b[31m||\u001b[30m\u001b[1m                 \u001b[2;42H 8.0\u001b[3;9H\u001b[m\u001b[31m||\u001b[30m\u001b[1m                      \u001b[3;42H 6.1\u001b[4;66H\u001b[36m3\u001b[8;5H\u001b[m\u001b[30m\u001b[46m326\u001b[8;27H1090M  109M 26572 S  2.0  0.8  0:08.97 /usr/bin/python3 -m colab_kernel_l\u001b[9;6H\u001b[m\u001b[m60\u001b[9;27H\u001b[36m 158M  143M 18\u001b[m\u001b[m680 S  1.3  1\u001b[7C3.21 python3 /usr/local/bin/colab-filesh\u001b[10;6H 7\u001b[10;28H\u001b[36m874M 56\u001b[m\u001b[m640 \u001b[36m31\u001b[m\u001b[m124\u001b[10;53H0.4  0:04.78 /tools/node/bin/node /datalab/web/a\u001b[11;5H 82\u001b[11;27H\u001b[36m 348\u001b[11;40H7\u001b[m\u001b[m336\u001b[11;61H5.15\u001b[11;83H/usr/local/bin/jup\u001b[12;6H32\u001b[12;27H\u001b[32m1\u001b[36m090M  109M 26\u001b[m\u001b[m572\u001b[12;55H8  0:00.36\u001b[12;83H\u001b[32m-m colab_kernel_la\u001b[13;5H\u001b[m\u001b[m361\u001b[13;61H3.11 /usr/bin/python3 /usr/local/lib/pyt\u001b[14;4H 381\u001b[14;27H\u001b[32m1\u001b[36m090M  109M 26\u001b[m\u001b[m572 S \u001b[14;55H8\u001b[7C48 \u001b[32m/usr/bin/python3 -m colab_kernel_la\u001b[21;7H\u001b[m\u001b[m1\u001b[21;64H0\u001b[22;7H2\u001b[22;63H13\u001b[23;6H33\u001b[23;27H\u001b[32m1\u001b[36m206M 13\u001b[m\u001b[m208 \u001b[36m 7\u001b[m\u001b[m648 S\u001b[23;55H1  0:00.00 \u001b[32m/usr/colab/bin/kernel_manager_proxy\u001b[1;1H\u001b[m\u001b[m\u001b[13;23r\u001b[23;1H\n",
            "\u001b[1;24r\u001b[2;8H\u001b[31m|\u001b[30m\u001b[1m  \u001b[2;43H2.6\u001b[3;8H\u001b[m\u001b[31m|\u001b[30m\u001b[1m  \u001b[3;43H4.0\u001b[4;66H\u001b[36m5\u001b[8;5H\u001b[m\u001b[30m\u001b[46m  7\u001b[8;27H 874M 56640 31124 S  0.7  0.4  0:04.79 /tools/node/bin/node /datalab/web/\u001b[9;5H\u001b[m\u001b[m326\u001b[9;27H\u001b[32m1\u001b[36m090M  109M 26\u001b[m\u001b[m572 S  0.7  0.8  0:08.98 /usr/bin/python3 -m colab_kernel_la\u001b[10;5H364\u001b[10;27H\u001b[32m1\u001b[36m090M  109M 26\u001b[m\u001b[m572\u001b[10;55H8  0:01.54 \u001b[32m/usr/bin/python3 -m colab_kernel_la\u001b[11;5H\u001b[m\u001b[m368\u001b[11;27H\u001b[32m1\u001b[36m090\u001b[11;40H6\u001b[m\u001b[m572\u001b[11;61H1.78 \u001b[32m/usr/bin/python3 -m colab_kernel_la\u001b[12;6H\u001b[m\u001b[m69\u001b[12;63H6\u001b[13;4H5977\u001b[13;27H\u001b[36m 8\u001b[m\u001b[m152 \u001b[36m 4\u001b[m\u001b[m460 \u001b[36m 3\u001b[m\u001b[m672 \u001b[32mR \u001b[13;55H\u001b[m\u001b[m0\u001b[7C03 htop\u001b[K\u001b[23;6H59 root\u001b[7C20   0     0     0     0 Z  0.0  0.0  0:08.61 python3\u001b[H\u001b[2;8H\u001b[32m|\u001b[31m|\u001b[33m|\u001b[2;43H\u001b[30m\u001b[1m4.7\u001b[3;43H3.3\u001b[3;68H\u001b[m6\u001b[4;66H\u001b[36m6\u001b[8;6H\u001b[m\u001b[30m\u001b[46m18\u001b[8;28H7376  3392  3092 S  1.3  0.0  0:00.80 /bin/bash -e /usr/local/colab/bin/o\u001b[9;5H\u001b[m\u001b[m  7\u001b[9;27H\u001b[36m 874M 57\u001b[m\u001b[m164 \u001b[36m31\u001b[m\u001b[m124\u001b[9;55H4  0:04.80 /tools/node/bin/node /datalab/web/\u001b[10;5H 60\u001b[10;27H\u001b[36m 158M  143M 18\u001b[m\u001b[m680\u001b[10;53H1.1  0:03.22 python3 /usr/local/bin/colab-filesh\u001b[11;5H 71\u001b[11;27H\u001b[36m 874M 57\u001b[m\u001b[m164 \u001b[36m31\u001b[m\u001b[m124\u001b[11;55H4  0:00.13 \u001b[32m/tools/node/bin/node /datalab/web/\u001b[12;5H\u001b[m\u001b[m 85\u001b[12;28H\u001b[36m199M  8\u001b[m\u001b[m620 \u001b[36m 3\u001b[m\u001b[m03\u001b[12;55H1\u001b[7C35\u001b[6C\u001b[32mlocal/bin/dap_multiplexer --do\u001b[13;4H\u001b[m\u001b[m  86\u001b[13;27H\u001b[32m1\u001b[36m199M  8\u001b[m\u001b[m620 \u001b[36m 3\u001b[m\u001b[m032 S \u001b[13;55H1\u001b[7C41 \u001b[32m/usr/local/bin/dap_multiplexer --do\u001b[14;5H\u001b[m\u001b[m326\u001b[14;27H\u001b[32m1\u001b[36m090M  109M 26\u001b[m\u001b[m572\u001b[6C7  0.8  0:08.99 /usr/bin/python3 -m colab_kernel_la\u001b[15;6H 1\u001b[15;28H\u001b[36m1\u001b[m\u001b[m076     8     0\u001b[15;63H10 /sbin/docker-init -- /datalab/run.s\u001b[1;1H\u001b[14;23r\u001b[23;1H\n",
            "\u001b[1;24r\u001b[2;8H\u001b[31m|\u001b[30m\u001b[1m  \u001b[2;43H3.4\u001b[1B\b4\u001b[4;66H\u001b[36m8\u001b[8;5H\u001b[m\u001b[30m\u001b[46m326\u001b[8;27H1090M  109M 2657\u001b[8;55H8  0:09.01 /usr/bin/python3 -m colab_kernel_la\u001b[9;35H\u001b[m\u001b[m428\u001b[9;64H1\u001b[10;6H82\u001b[10;28H\u001b[36m348M  109M 27\u001b[m\u001b[m336\u001b[10;53H0.8  0:05.16 /usr/bin/python3 /usr/local/bin/jup\u001b[11;6H83\u001b[11;27H\u001b[32m1\u001b[36m199M  8\u001b[m\u001b[m620 \u001b[36m 3\u001b[m\u001b[m032\u001b[11;55H1  0:01.40 /usr/local/bin/dap_multiplexer --do\u001b[12;5H361\u001b[12;27H\u001b[36m 526M 13\u001b[m\u001b[m824 \u001b[36m 4\u001b[m\u001b[m844\u001b[12;61H3.12 /usr/bin/python3 /usr/local/lib/pyt\u001b[13;6H 1\u001b[13;27H\u001b[36m 1\u001b[m\u001b[m076     8     0\u001b[6C0  0.0\u001b[7C10 /sbin/docker-init -- /datalab/run.s\u001b[14;6H18\u001b[14;28H\u001b[36m7\u001b[m\u001b[m376 \u001b[36m 3\u001b[m\u001b[m392 \u001b[36m 3\u001b[m\u001b[m092\u001b[14;63H80 /bin/bash -e /usr/local/colab/bin/o\u001b[23;6H60 root\u001b[7C20   0 \u001b[36m 158M  143M 18\u001b[m\u001b[m680 S  0.0  1.1  0:03.22 python3 /usr/local/bin/colab-filesh\u001b[1;1H\u001b[13;23r\u001b[13;1H\u001b[2L\u001b[1;24r\u001b[2;8H\u001b[32m|\u001b[31m|\u001b[2;43H\u001b[30m\u001b[1m4.7\u001b[3;8H\u001b[m\u001b[32m|\u001b[31m||\u001b[3;43H\u001b[30m\u001b[1m5.3\u001b[4;39H0\u001b[4;66H\u001b[36m9\u001b[8;64H\u001b[m\u001b[30m\u001b[46m3\u001b[9;6H\u001b[m\u001b[m60\u001b[9;28H\u001b[36m159M  144M 18\u001b[m\u001b[m680\u001b[9;53H1.1  0:03.23 python3 /usr/local/bin/colab-filesh\u001b[10;5H361\u001b[10;28H\u001b[36m526M 13\u001b[m\u001b[m824 \u001b[36m 4\u001b[m\u001b[m844\u001b[10;55H1  0:03.13\u001b[29Clib/pyt\u001b[11;5H364\u001b[11;28H\u001b[36m090M  109M 26\u001b[m\u001b[m57\u001b[11;55H8\u001b[7C55 \u001b[32m/usr/bin/python3 -m colab_kernel_la\u001b[12;7H\u001b[m\u001b[m8\u001b[12;27H\u001b[32m1\u001b[36m090M  109M 26\u001b[m\u001b[m572\u001b[12;55H8  0:01.79 \u001b[32m/usr/bin/python3 -m colab_kernel_la\u001b[13;4H\u001b[m\u001b[m5977 root\u001b[7C20   0 \u001b[36m 8\u001b[m\u001b[m152 \u001b[36m 4\u001b[m\u001b[m460 \u001b[36m 3\u001b[m\u001b[m672 \u001b[32mR \u001b[m\u001b[m 0.7  0.0  0:00.04 htop\u001b[14;7H1 root\u001b[7C20   0 \u001b[36m 1\u001b[m\u001b[m076     8     0 S  0.0  0.0  0:00.10 /sbin/docker-init -- /datalab/run.s\u001b[15;7H7\u001b[15;28H\u001b[36m874M 57\u001b[m\u001b[m428 \u001b[36m31\u001b[m\u001b[m124\u001b[15;55H4  0:04.81 /tools/node/bin/node\u001b[10Cweb/a\u001b[1;1H\u001b[12;15r\u001b[12;1H\u001bM\u001b[1;24r\u001b[2;8H\u001b[31m|\u001b[30m\u001b[1m \u001b[2;43H2\u001b[3;8H\u001b[m\u001b[31m|\u001b[30m\u001b[1m  \u001b[3;43H2.0\u001b[3;68H\u001b[m3 \u001b[36m0.28\u001b[4;38H\u001b[30m19\u001b[4;65H\u001b[36m51\u001b[8;5H\u001b[m\u001b[30m\u001b[46m  7\u001b[8;27H 874M 57428 31124\u001b[8;55H4  0:04.83 /tools/node/bin/node /datalab/web/\u001b[9;64H\u001b[m\u001b[m4\u001b[10;6H26\u001b[10;27H\u001b[32m1\u001b[36m090M  109M 26\u001b[m\u001b[m572\u001b[10;55H8  0:09.04\u001b[10;83H-m colab_kernel_la\u001b[11;6H32\u001b[11;61H0.37\u001b[12;5H361 root\u001b[7C20   0 \u001b[36m 526M 13\u001b[m\u001b[m824 \u001b[36m 4\u001b[m\u001b[m844 S  0.7  0.1  0:03.14 /usr/bin/python3 /usr/local/lib/pyt\u001b[13;7H6\u001b[13;27H\u001b[36m 526M 13\u001b[m\u001b[m824 \u001b[36m 4\u001b[m\u001b[m844\u001b[13;55H1\u001b[7C10\u001b[13;83H\u001b[32m/usr/local/lib/pyt\u001b[14;4H\u001b[m\u001b[m 754\u001b[14;27H\u001b[32m1\u001b[36m209M 17\u001b[m\u001b[m620 \u001b[36m 9\u001b[m\u001b[m784 S \u001b[14;55H1\u001b[7C31 /usr/colab/bin/language_service --l\u001b[1;1H\u001b[15;18r\u001b[15;1H\u001bM\u001b[1;24r\u001b[2;8H\u001b[32m||||||\u001b[31m|||\u001b[2;42H\u001b[30m\u001b[1m23.3\u001b[3;8H\u001b[m\u001b[32m||||\u001b[31m||||\u001b[33m|\u001b[3;42H\u001b[30m\u001b[1m19.2\u001b[4;39H6\u001b[4;66H\u001b[36m2\u001b[8;35H\u001b[m\u001b[30m\u001b[46m296\u001b[8;48H0.7\u001b[8;64H4\u001b[9;6H\u001b[m\u001b[m21\u001b[9;27H\u001b[32m1\u001b[36m206M 13\u001b[m\u001b[m464 \u001b[36m 7\u001b[m\u001b[m648\u001b[9;53H0\u001b[7C0.52 /usr/colab/bin/kernel_manager_proxy\u001b[10;5H 82\u001b[10;27H\u001b[36m 348\u001b[10;40H7\u001b[m\u001b[m336\u001b[10;61H5.17\u001b[10;83H/usr/local/bin/jup\u001b[11;6H26\u001b[11;61H9.05 /usr/bin/python3 -m colab_kernel_la\u001b[12;7H7\u001b[12;61H0.19 \u001b[32m/usr/bin/python3 /usr/local/lib/pyt\u001b[13;7H\u001b[m\u001b[m9\u001b[13;27H\u001b[32m1\u001b[36m090M  109M 26\u001b[m\u001b[m572\u001b[13;55H8  0:00.67\u001b[13;83H\u001b[32m-m colab_kernel_la\u001b[14;5H\u001b[m\u001b[m421\u001b[14;27H\u001b[36m 526M 13\u001b[m\u001b[m824 \u001b[36m 4\u001b[m\u001b[m84\u001b[14;63H79 \u001b[32m/usr/bin/python3 /usr/local/lib/pyt\u001b[15;5H\u001b[m\u001b[m422 root\u001b[7C20   0 \u001b[36m 526M 13\u001b[m\u001b[m824 \u001b[36m 4\u001b[m\u001b[m844 S  0.7  0.1  0:01.02 \u001b[32m/usr/bin/python3 /usr/local/lib/pyt\u001b[20;35H\u001b[m\u001b[m464\u001b[21;35H464\u001b[22;35H464\u001b[23;35H464\u001b[H\u001b[15;23r\u001b[15;1H\u001b[4M\u001b[1;24r\u001b[2;14H\u001b[32m|||||||\u001b[31m|||||||||\u001b[2;42H\u001b[30m\u001b[1m56.1\u001b[3;16H\u001b[m\u001b[31m||||\u001b[3;42H\u001b[30m\u001b[1m30.0\u001b[4;38H27\u001b[4;66H\u001b[36m4\u001b[8;64H\u001b[m\u001b[30m\u001b[46m5\u001b[9;5H\u001b[m\u001b[m326\u001b[9;28H\u001b[36m090M  109M 26\u001b[m\u001b[m572\u001b[9;55H8  0:09.06\u001b[6Cbin/python3 -m colab_kernel_la\u001b[10;5H368\u001b[10;27H\u001b[32m1\u001b[36m090\u001b[10;40H6\u001b[m\u001b[m572\u001b[10;61H1.80 \u001b[32m/usr/bin/python3 -m colab_kernel_la\u001b[11;5H\u001b[m\u001b[m  1\u001b[11;27H\u001b[36m 1\u001b[m\u001b[m076     8     0\u001b[6C0  0.0  0:00.10 /sbin/docker-init -- /datalab/run.s\u001b[12;5H 18\u001b[12;28H\u001b[36m7\u001b[m\u001b[m376 \u001b[36m 3\u001b[m\u001b[m392 \u001b[36m 3\u001b[m\u001b[m092\u001b[6C0  0.0\u001b[7C80 /bin/bash -e /usr/local/colab/bin/o\u001b[13;5H 20\u001b[13;27H\u001b[36m 7\u001b[m\u001b[m376 \u001b[36m 1\u001b[m\u001b[m992 \u001b[36m 1\u001b[m\u001b[m704\u001b[6C0  0.0\u001b[7C00 /bin/bash -e /datalab/run.sh\u001b[K\u001b[14;5H \u001b[14;27H\u001b[32m1\u001b[36m206M 13\u001b[m\u001b[m720 \u001b[36m 7\u001b[m\u001b[m648\u001b[6C0\u001b[14;63H52 /usr/colab/bin/kernel_manager_proxy\u001b[16;35H720\u001b[17;35H720\u001b[18;35H720\u001b[19;35H720\u001b[20;6H59 root\u001b[7C20   0     0     0     0 Z  0.0  0.0  0:08.61 python3\u001b[21;6H60 root\u001b[7C20   0 \u001b[36m 159M  144M 18\u001b[m\u001b[m680 S  0.0  1.1  0:03.24 python3 /usr/local/bin/colab-filesh\u001b[22;6H67 root\u001b[7C20   0 \u001b[36m 874M 57\u001b[m\u001b[m296 \u001b[36m31\u001b[m\u001b[m124 S  0.0  0.4  0:00.00 \u001b[32m/tools/node/bin/node /datalab/web/a\u001b[23;6H\u001b[m\u001b[m68 root\u001b[7C20   0 \u001b[36m 874M 57\u001b[m\u001b[m296 \u001b[36m31\u001b[m\u001b[m124 S  0.0  0.4  0:00.08 \u001b[32m/tools/node/bin/node /datalab/web/a\u001b[1;1H\u001b[m\u001b[m\u001b[16;23r\u001b[16;1H\u001b[3L\u001b[1;24r\u001b[9;17r\u001b[9;1H\u001b[3L\u001b[1;24r\u001b[2;8H\u001b[31m|\u001b[30m\u001b[1m                     \u001b[2;42H 4.0\u001b[2;70H\u001b[32m2\u001b[3;9H\u001b[m\u001b[31m|\u001b[30m\u001b[1m          \u001b[3;42H 4.7\u001b[3;68H\u001b[m0\u001b[4;39H\u001b[30m6\u001b[4;66H\u001b[36m5\u001b[8;6H\u001b[m\u001b[30m\u001b[46m60\u001b[8;28H161M  146M 18680 S  2.0  1.1  0:03.27 python3 /usr/local/bin/colab-filesh\u001b[9;6H\u001b[m\u001b[m24 root\u001b[7C20   0 \u001b[36m 5\u001b[m\u001b[m808 \u001b[36m 1\u001b[m\u001b[m012   920 S  0.7  0.0  0:00.15 tail -n +0 -F /root/.config/Google/\u001b[10;6H83 root\u001b[7C20   0 \u001b[32m1\u001b[36m199M  8\u001b[m\u001b[m620 \u001b[36m 3\u001b[m\u001b[m032 S  0.7  0.1  0:01.41 /usr/local/bin/dap_multiplexer --do\u001b[11;5H326 root\u001b[7C20   0 \u001b[32m1\u001b[36m090M  109M 26\u001b[m\u001b[m572 S  0.7  0.8  0:09.07 /usr/bin/python3 -m colab_kernel_la\u001b[12;6H61\u001b[12;27H\u001b[36m 526M 13\u001b[m\u001b[m824 \u001b[36m 4\u001b[m\u001b[m844\u001b[12;55H1  0:03.15\u001b[12;83H/usr/local/lib/pyt\u001b[13;7H5\u001b[13;61H0.76\u001b[15;6H 7\u001b[15;28H\u001b[36m874M 57\u001b[m\u001b[m296 \u001b[36m31\u001b[m\u001b[m124\u001b[15;55H4  0:04.85 /tools/node/bin/node /datalab/web/a\u001b[16;6H18\u001b[16;34H\u001b[36m3\u001b[m\u001b[m392 \u001b[36m 3\u001b[m\u001b[m092\u001b[16;63H8\u001b[16;80Husr/local/colab/bin/o\u001b[17;7H0\u001b[17;27H\u001b[36m 7\u001b[m\u001b[m376 \u001b[36m 1\u001b[m\u001b[m992 \u001b[36m 1\u001b[m\u001b[m704\u001b[17;55H0\u001b[7C00 /bin/bash -e /datalab/run.sh\u001b[K\u001b[18;6H21 root\u001b[7C20   0 \u001b[32m1\u001b[36m206M 13\u001b[m\u001b[m720 \u001b[36m 7\u001b[m\u001b[m648 S  0.0  0.1  0:00.52 /usr/colab/bin/kernel_manager_proxy\u001b[1;1H\u001b[11;23r\u001b[11;1H\u001b[3M\u001b[1;24r\u001b[2;43H\u001b[30m\u001b[1m2.7\u001b[2;70H\u001b[32m1\u001b[3;8H\u001b[m\u001b[31m|\u001b[30m\u001b[1m \u001b[3;43H3.3\u001b[4;39H5\u001b[4;66H\u001b[36m7\u001b[8;5H\u001b[m\u001b[30m\u001b[46m326\u001b[8;27H1090M  109M 26572 S  1.3  0.8  0:09.09 /usr/bin/python3 -m colab_kernel_la\u001b[9;6H\u001b[m\u001b[m 7\u001b[9;28H\u001b[36m874M 57\u001b[m\u001b[m560 \u001b[36m31\u001b[m\u001b[m124\u001b[9;55H4  0:04.86 /tools/node/bin/node /datalab/web/a\u001b[10;4H5977\u001b[10;27H\u001b[36m 8\u001b[m\u001b[m152 \u001b[36m 4\u001b[m\u001b[m460 \u001b[36m 3\u001b[m\u001b[m672 \u001b[32mR \u001b[10;55H\u001b[m\u001b[m0  0:00.05 htop\u001b[K\u001b[12;6H18\u001b[12;28H\u001b[36m7\u001b[m\u001b[m376 \u001b[36m 3\u001b[m\u001b[m392 \u001b[36m 3\u001b[m\u001b[m092\u001b[12;55H0  0:00.80 /bin/bash -e /usr/local/colab/bin/o\u001b[13;6H20\u001b[13;34H\u001b[36m1\u001b[m\u001b[m992 \u001b[36m 1\u001b[m\u001b[m704\u001b[13;63H0\u001b[13;80Hdatalab/run.sh\u001b[K\u001b[14;7H1\u001b[14;27H\u001b[32m1\u001b[36m206M 13\u001b[m\u001b[m720 \u001b[36m 7\u001b[m\u001b[m648\u001b[14;55H1\u001b[7C52 /usr/colab/bin/kernel_manager_proxy\u001b[15;7H4\u001b[15;27H\u001b[36m 5\u001b[m\u001b[m808 \u001b[36m 1\u001b[m\u001b[m012   920\u001b[15;55H0\u001b[7C15 tail -n +0 -F /root/.config/Google/\u001b[21;6H60 root\u001b[7C20   0 \u001b[36m 161M  146M 18\u001b[m\u001b[m680 S  0.0  1.1  0:03.27 python3 /usr/local/bin/colab-filesh\u001b[22;6H67 root\u001b[7C20   0 \u001b[36m 874M 57\u001b[m\u001b[m560 \u001b[36m31\u001b[m\u001b[m124 S  0.0  0.4  0:00.00 \u001b[32m/tools/node/bin/node /datalab/web/a\u001b[23;6H\u001b[m\u001b[m68 root\u001b[7C20   0 \u001b[36m 874M 57\u001b[m\u001b[m560 \u001b[36m31\u001b[m\u001b[m124 S  0.0  0.4  0:00.08 \u001b[32m/tools/node/bin/node /datalab/web/a\u001b[1;1H\u001b[m\u001b[m\u001b[10;23r\u001b[10;1H\u001b[3L\u001b[1;24r\u001b[2;43H\u001b[30m\u001b[1m3.4\u001b[1B\b4\u001b[4;66H\u001b[36m8\u001b[8;63H\u001b[m\u001b[30m\u001b[46m11\u001b[1B\b\u001b[m\u001b[m7\u001b[10;6H60 root\u001b[7C20   0 \u001b[36m 161M  146M 18\u001b[m\u001b[m680 S  0.7  1.1  0:03.28 python3 /usr/local/bin/colab-filesh\u001b[11;6H82 root\u001b[7C20   0 \u001b[36m 348M  109M 27\u001b[m\u001b[m336 S  0.7  0.8  0:05.18 /usr/bin/python3 /usr/local/bin/jup\u001b[12;5H361 root\u001b[7C20   0 \u001b[36m 526M 13\u001b[m\u001b[m824 \u001b[36m 4\u001b[m\u001b[m844 S  0.7  0.1  0:03.16 /usr/bin/python3 /usr/local/lib/pyt\u001b[13;4H 364\u001b[13;27H\u001b[32m1\u001b[36m090M  109M 26\u001b[m\u001b[m572 S \u001b[13;55H8  0:01.56 \u001b[32m/usr/bin/python3 -m colab_kernel_la\u001b[1;1H\u001b[m\u001b[m\u001b[15;23r\u001b[15;1H\u001bM\u001b[1;24r\u001b[2;43H\u001b[30m\u001b[1m4.0\u001b[3;43H2.7\u001b[4;63H\u001b[36m1:00\u001b[8;6H\u001b[m\u001b[30m\u001b[46m6\u001b[8;27H 526M 13824  4844\u001b[8;55H1  0:01.12\u001b[8;83H/usr/local/lib/pyt\u001b[9;5H\u001b[m\u001b[m326\u001b[9;27H\u001b[32m1\u001b[36m090M  109M 26\u001b[m\u001b[m572\u001b[9;55H8  0:09.12 /usr/bin/python3 -m colab_kernel_l\u001b[10;5H332\u001b[10;27H\u001b[32m1\u001b[36m090M  109M 26\u001b[m\u001b[m572\u001b[10;53H0.8  0:00.38 \u001b[32m/usr/bin/python3 -m colab_kernel_la\u001b[11;5H\u001b[m\u001b[m368\u001b[11;27H\u001b[32m1\u001b[36m090\u001b[11;40H6\u001b[m\u001b[m572\u001b[11;61H1.81 \u001b[32m/usr/bin/python3 -m colab_kernel_la\u001b[12;5H\u001b[m\u001b[m42\u001b[12;61H0.80 \u001b[32m/usr/bin/python3 /usr/local/lib/pyt\u001b[13;5H\u001b[m\u001b[m422\u001b[13;27H\u001b[36m 526M 13\u001b[m\u001b[m824 \u001b[36m 4\u001b[m\u001b[m844\u001b[13;55H1\u001b[7C03\u001b[13;83H\u001b[32m/usr/local/lib/pyt\u001b[15;7H\u001b[m\u001b[m7 root\u001b[7C20   0 \u001b[36m 874M 57\u001b[m\u001b[m560 \u001b[36m31\u001b[m\u001b[m124 S  0.0  0.4  0:04.87 /tools/node/bin/node /datalab/web/a\u001b[1;1H\u001b[11;23r\u001b[11;1H\u001b[3M\u001b[1;24r\u001b[2;8H\u001b[32m|\u001b[31m|\u001b[2;43H\u001b[30m\u001b[1m5.3\u001b[3;43H4.0\u001b[3;67H\u001b[m28 \u001b[36m0.27 \u001b[m\u001b[36m0.26\u001b[4;66H\u001b[1m1\u001b[8;5H\u001b[m\u001b[30m\u001b[46m  7\u001b[8;28H874M 57824 3112\u001b[8;55H4  0:04.89 /tools/node/bin/node /datalab/web/a\u001b[9;5H\u001b[m\u001b[m 60\u001b[9;27H\u001b[36m 162M  147M 18\u001b[m\u001b[m680 S  1.3  1.1  0:03.30 python3 /usr/local/bin/colab-filesh\u001b[10;6H26\u001b[10;48H1.3\u001b[10;61H9.14 /usr/bin/python3 -m colab_kernel_la\u001b[11;5H36\u001b[11;28H\u001b[36m526M 13\u001b[m\u001b[m824 \u001b[36m 4\u001b[m\u001b[m844\u001b[6C7  0.1  0:03.17 /usr/bin/python3 /usr/local/lib/pyt\u001b[12;7H1\u001b[12;28H\u001b[36m1\u001b[m\u001b[m076     8     0\u001b[12;55H0  0:00.10 /sbin/docker-init --\u001b[10Crun.s\u001b[21;6H59 root\u001b[7C20   0     0     0     0 Z  0.0  0.0  0:08.61 python3\u001b[22;6H67 root\u001b[7C20   0 \u001b[36m 874M 57\u001b[m\u001b[m824 \u001b[36m31\u001b[m\u001b[m124 S  0.0  0.4  0:00.00 \u001b[32m/tools/node/bin/node /datalab/web/a\u001b[23;6H\u001b[m\u001b[m68 root\u001b[7C20   0 \u001b[36m 874M 57\u001b[m\u001b[m824 \u001b[36m31\u001b[m\u001b[m124 S  0.0  0.4  0:00.08 \u001b[32m/tools/node/bin/node /datalab/web/a\u001b[1;1H\u001b[m\u001b[m\u001b[11;21r\u001b[21;1H\n",
            "\u001b[1;24r\u001b[2;8H\u001b[31m|\u001b[30m\u001b[1m \u001b[2;43H2.7\u001b[3;8H\u001b[m\u001b[32m|\u001b[31m|\u001b[4;66H\u001b[36m\u001b[1m3\u001b[8;48H\u001b[m\u001b[30m\u001b[46m0.7\u001b[8;63H90\u001b[9;6H\u001b[m\u001b[m82\u001b[9;28H\u001b[36m348M  109M 27\u001b[m\u001b[m336 S  0.7  0.8  0:05.19 /usr/bin/python3 /usr/local/bin/jup\u001b[10;48H0.7\u001b[10;64H5\u001b[21;6H60 root\u001b[7C20   0 \u001b[36m 162M  147M 18\u001b[m\u001b[m680 S  0.0  1.1  0:03.30 python3 /usr/local/bin/colab-filesh\u001b[1;1H\u001b[13;23r\u001b[13;1H\u001b[3L\u001b[1;24r\u001b[2;8H\u001b[32m|||||||||||||||\u001b[31m||||\u001b[2;42H\u001b[30m\u001b[1m48.3\u001b[3;9H\u001b[m\u001b[32m||||\u001b[31m||||\u001b[3;42H\u001b[30m\u001b[1m24.7\u001b[4;39H8\u001b[4;66H\u001b[36m4\u001b[8;35H\u001b[m\u001b[30m\u001b[46m168\u001b[8;64H1\u001b[9;6H\u001b[m\u001b[m18\u001b[9;28H\u001b[36m7\u001b[m\u001b[m376 \u001b[36m 3\u001b[m\u001b[m392 \u001b[36m 3\u001b[m\u001b[m092\u001b[9;55H0  0:00.81 /bin/bash -e /usr/local/colab/bin/o\u001b[10;5H 83\u001b[10;28H\u001b[36m199M  8\u001b[m\u001b[m620 \u001b[36m 3\u001b[m\u001b[m03\u001b[10;55H1  0:01.42\u001b[6Clocal/bin/dap_multiplexer --do\u001b[11;6H86\u001b[11;27H\u001b[32m1\u001b[36m199M  8\u001b[m\u001b[m620 \u001b[36m 3\u001b[m\u001b[m032\u001b[6C7  0.1\u001b[7C42 \u001b[32m/usr/local/bin/dap_multiplexer --do\u001b[12;5H\u001b[m\u001b[m326\u001b[12;27H\u001b[32m1\u001b[36m090M  109M 26\u001b[m\u001b[m57\u001b[7C7  0.8  0:09.16 /usr/bin/python3 -m colab_kernel_la\u001b[13;5H368 root\u001b[7C20   0 \u001b[32m1\u001b[36m090M  109M 26\u001b[m\u001b[m572 S  0.7  0.8  0:01.82 \u001b[32m/usr/bin/python3 -m colab_kernel_la\u001b[14;4H\u001b[m\u001b[m5977 root\u001b[7C20   0 \u001b[36m 8\u001b[m\u001b[m152 \u001b[36m 4\u001b[m\u001b[m460 \u001b[36m 3\u001b[m\u001b[m672 \u001b[32mR \u001b[m\u001b[m 0.7  0.0  0:00.06 htop\u001b[15;7H1 root\u001b[7C20   0 \u001b[36m 1\u001b[m\u001b[m076     8     0 S  0.0  0.0  0:00.10 /sbin/docker-init -- /datalab/run.s\u001b[1;1H\u001b[17;23r\u001b[23;1H\n",
            "\u001b[1;24r\u001b[2;11H\u001b[31m|||||||\u001b[30m\u001b[1m         \u001b[2;42H26.5\u001b[3;12H\u001b[m\u001b[31m|||||||\u001b[3;43H\u001b[30m\u001b[1m6.2\u001b[3;68H\u001b[m5\u001b[4;38H\u001b[30m30\u001b[4;66H\u001b[36m6\u001b[8;6H\u001b[m\u001b[30m\u001b[46m21\u001b[8;27H1206M 13720  7648\u001b[8;55H1  0:00.53 /usr/colab/bin/kernel_manager_proxy\u001b[9;6H\u001b[m\u001b[m60\u001b[9;28H\u001b[36m162M  147M 18\u001b[m\u001b[m680\u001b[9;53H1.1  0:03.31 python3 /usr/local/bin/colab-filesh\u001b[10;5H326\u001b[10;28H\u001b[36m090M  109M 26\u001b[m\u001b[m57\u001b[10;55H8  0:09.17\u001b[6Cbin/python3 -m colab_kernel_la\u001b[11;5H361\u001b[11;27H\u001b[36m 526M 13\u001b[m\u001b[m824 \u001b[36m 4\u001b[m\u001b[m844\u001b[11;61H3.18 /usr/bin/python3 /usr/local/lib/pyt\u001b[12;4H5977\u001b[12;27H\u001b[36m 8\u001b[m\u001b[m152 \u001b[36m 4\u001b[m\u001b[m460 \u001b[36m 3\u001b[m\u001b[m672 \u001b[32mR \u001b[12;55H\u001b[m\u001b[m0  0:00.07 htop\u001b[K\u001b[13;5H  1\u001b[13;27H\u001b[36m 1\u001b[m\u001b[m076     8     0\u001b[6C0  0.0  0:00.10 /sbin/docker-init -- /datalab/run.s\u001b[14;4H   \u001b[14;29H\u001b[36m74M 57\u001b[m\u001b[m432 \u001b[36m31\u001b[m\u001b[m124 S  0.0  0.4  0:04.91 /tools/node/bin/node /datalab/web/a\u001b[15;6H18\u001b[15;28H\u001b[36m7\u001b[m\u001b[m376 \u001b[36m 3\u001b[m\u001b[m392 \u001b[36m 3\u001b[m\u001b[m092\u001b[15;63H81 /bin/bash -e /usr/local/colab/bin/o\u001b[23;6H67 root\u001b[7C20   0 \u001b[36m 874M 57\u001b[m\u001b[m432 \u001b[36m31\u001b[m\u001b[m124 S  0.0  0.4  0:00.00 \u001b[32m/tools/node/bin/node /datalab/web/a\u001b[1;1H\u001b[m\u001b[m\u001b[19;23r\u001b[19;1H\u001bM\u001b[1;24r\u001b[9;15r\u001b[9;1H\u001b[2L\u001b[1;24r\u001b[2;9H\u001b[31m||\u001b[30m\u001b[1m       \u001b[2;42H 6.0\u001b[3;9H\u001b[m\u001b[31m||\u001b[30m\u001b[1m        \u001b[3;42H 6.0\u001b[4;38H22\u001b[4;66H\u001b[36m7\u001b[8;5H\u001b[m\u001b[30m\u001b[46m326\u001b[8;28H090M  109M 26572 S  1.3  0.8  0:09.19\u001b[6Cbin/python3 -m colab_kernel_la\u001b[9;7H\u001b[m\u001b[m7 root\u001b[7C20   0 \u001b[36m 874M 57\u001b[m\u001b[m432 \u001b[36m31\u001b[m\u001b[m124 S  0.7  0.4  0:04.92 /tools/node/bin/node /datalab/web/a\u001b[10;6H30 root\u001b[7C20   0 \u001b[32m1\u001b[36m206M 13\u001b[m\u001b[m720 \u001b[36m 7\u001b[m\u001b[m648 S  0.7  0.1  0:00.09 \u001b[32m/usr/colab/bin/kernel_manager_proxy\u001b[11;30H\u001b[36m3M  149\u001b[11;64H\u001b[m\u001b[m2\u001b[12;5H 82\u001b[12;27H\u001b[36m 348\u001b[12;40H7\u001b[m\u001b[m336\u001b[12;61H5.20\u001b[12;83H/usr/local/bin/jup\u001b[13;5H 85\u001b[13;27H\u001b[32m1\u001b[36m199M  8\u001b[m\u001b[m620 \u001b[36m 3\u001b[m\u001b[m032\u001b[13;61H0.36 \u001b[32m/usr/local/bin/dap_multiplexer --do\u001b[14;4H\u001b[m\u001b[m 364\u001b[14;27H\u001b[32m1\u001b[36m090M  109M 26\u001b[m\u001b[m572 S \u001b[14;55H8  0:01.57 \u001b[32m/usr/bin/python3 -m colab_kernel_la\u001b[16;6H\u001b[m\u001b[m18\u001b[16;34H\u001b[36m3\u001b[m\u001b[m392 \u001b[36m 3\u001b[m\u001b[m092\u001b[16;63H81\u001b[16;80Husr/local/colab/bin/o\u001b[17;7H0\u001b[17;28H\u001b[36m7\u001b[m\u001b[m376 \u001b[36m 1\u001b[m\u001b[m992 \u001b[36m 1\u001b[m\u001b[m704\u001b[17;63H00 /bin/bash -e /datalab/run.sh\u001b[K\u001b[18;6H21\u001b[18;63H53 /usr/colab/bin/kernel_manager_proxy\u001b[19;6H24 root\u001b[7C20   0 \u001b[36m 5\u001b[m\u001b[m808 \u001b[36m 1\u001b[m\u001b[m012   920 S  0.0  0.0  0:00.15 tail -n +0 -F /root/.config/Google/\u001b[1;1H\u001b[14;23r\u001b[14;1H\u001b[2L\u001b[1;24r\u001b[2;8H\u001b[31m|\u001b[30m\u001b[1m  \u001b[2;43H3.3\u001b[3;8H\u001b[m\u001b[31m|\u001b[30m\u001b[1m  \u001b[3;43H3.3\u001b[4;66H\u001b[36m9\u001b[8;5H\u001b[m\u001b[30m\u001b[46m  7\u001b[8;27H 874M 57696 31124\u001b[8;55H4  0:04.94 /tools/node/bin/node /datalab/web/\u001b[9;6H\u001b[m\u001b[m30\u001b[9;27H\u001b[32m1\u001b[36m206M 13\u001b[m\u001b[m972 \u001b[36m 7\u001b[m\u001b[m648\u001b[9;55H1  0:00.10 \u001b[32m/usr/colab/bin/kernel_manager_proxy\u001b[10;6H\u001b[m\u001b[m6\u001b[10;27H\u001b[36m 163M  149M 18\u001b[m\u001b[m680\u001b[10;53H1\u001b[7C3.33 python3 /usr/local/bin/colab-filesh\u001b[11;6H84\u001b[11;27H\u001b[32m1\u001b[36m199M  8\u001b[m\u001b[m620 \u001b[36m 3\u001b[m\u001b[m032\u001b[11;53H0\u001b[7C0.23 \u001b[32m/usr/local/bin/dap_multiplexer --do\u001b[12;5H\u001b[m\u001b[m326\u001b[12;27H\u001b[32m1\u001b[36m090\u001b[12;40H6\u001b[m\u001b[m572\u001b[12;61H9\u001b[12;83H-m colab_kernel_la\u001b[13;5H332\u001b[13;28H\u001b[36m090M  109M 26\u001b[m\u001b[m57\u001b[13;55H8\u001b[13;64H9\u001b[6C\u001b[32mbin/python3 -m colab_kernel_la\u001b[14;5H\u001b[m\u001b[m361 root\u001b[7C20   0 \u001b[36m 526M 13\u001b[m\u001b[m824 \u001b[36m 4\u001b[m\u001b[m844 S  0.7  0.1  0:03.19 /usr/bin/python3 /usr/local/lib/pyt\u001b[15;5H366 root\u001b[7C20   0 \u001b[36m 526M 13\u001b[m\u001b[m824 \u001b[36m 4\u001b[m\u001b[m844 S  0.7  0.1  0:01.13 \u001b[32m/usr/bin/python3 /usr/local/lib/pyt\u001b[16;7H\u001b[m\u001b[m8\u001b[16;63H83\u001b[20;35H972\u001b[22;35H972\u001b[23;35H972\u001b[H\u001b[2;45H\u001b[30m\u001b[1m4\u001b[3;68H\u001b[m3 \u001b[36m0.26\u001b[4;65H10\u001b[8;5H\u001b[m\u001b[30m\u001b[46m326\u001b[8;27H1090M  109M 26572\u001b[8;55H8  0:09.22 /usr/bin/python3 -m colab_kernel_l\u001b[9;5H\u001b[m\u001b[m361\u001b[9;27H\u001b[36m 526M 13\u001b[m\u001b[m824 \u001b[36m 4\u001b[m\u001b[m844\u001b[9;61H3.20 /usr/bin/python3 /usr/local/lib/pyt\u001b[10;6H 1\u001b[10;29H076     8     \u001b[7C0  0.0  0:00.10 /sbin/docker-init -- /datalab/run.s\u001b[11;6H 7\u001b[11;27H\u001b[36m 874M 57\u001b[m\u001b[m696 \u001b[36m31\u001b[m\u001b[m124\u001b[6C0  0.4  0:04.94 /tools/node/bin/node /datalab/web/a\u001b[12;5H 18\u001b[12;27H\u001b[36m 7\u001b[m\u001b[m376 \u001b[36m 3\u001b[m\u001b[m392 \u001b[36m 3\u001b[m\u001b[m09\u001b[7C0  0.0  0:00.81 /bin/bash -e /usr/local/colab/bin/o\u001b[13;5H 20\u001b[13;27H\u001b[36m 7\u001b[m\u001b[m376 \u001b[36m 1\u001b[m\u001b[m992 \u001b[36m 1\u001b[m\u001b[m704\u001b[6C0  0.0\u001b[7C00 /bin/bash -e /datalab/run.sh\u001b[K\u001b[14;5H 2\u001b[14;27H\u001b[32m1\u001b[36m206M 13\u001b[m\u001b[m972 \u001b[36m 7\u001b[m\u001b[m648\u001b[6C0\u001b[14;61H0.53\u001b[6Ccolab/bin/kernel_manager_proxy\u001b[15;5H 24\u001b[15;29H808 \u001b[36m 1\u001b[m\u001b[m012   920\u001b[6C0  0.0  0:00.15 tail -n +0 -F /root/.config/Google/\u001b[16;5H 30\u001b[16;28H\u001b[36m206M 13\u001b[m\u001b[m972 \u001b[36m 7\u001b[m\u001b[m648\u001b[6C0  0.1  0:00.10\u001b[6C\u001b[32mcolab/bin/kernel_manager_proxy\u001b[17;6H\u001b[m\u001b[m3\u001b[17;27H\u001b[32m1\u001b[36m206M 13\u001b[m\u001b[m972 \u001b[36m 7\u001b[m\u001b[m648\u001b[17;55H1\u001b[17;66H\u001b[32m/usr/colab/bin/kernel_manager_proxy\u001b[18;6H\u001b[m\u001b[m32\u001b[18;27H\u001b[32m1\u001b[36m206M 13\u001b[m\u001b[m972 \u001b[36m 7\u001b[m\u001b[m648\u001b[18;55H1\u001b[7C13 \u001b[32m/usr/colab/bin/kernel_manager_proxy\u001b[19;6H\u001b[m\u001b[m33\u001b[19;27H\u001b[32m1\u001b[36m206M 13\u001b[m\u001b[m972 \u001b[36m 7\u001b[m\u001b[m648\u001b[19;55H1\u001b[19;66H\u001b[32m/usr/colab/bin/kernel_manager_proxy\u001b[20;6H\u001b[m\u001b[m59\u001b[20;27H    0     0     0 Z\u001b[20;55H0  0:08.61 python3\u001b[K\u001b[21;6H60\u001b[21;28H\u001b[36m163M  149M 18\u001b[m\u001b[m68\u001b[21;53H1.1  0:03.33 python3 /usr/local/bin/colab-filesh\u001b[22;6H67\u001b[22;27H\u001b[36m 874M 57\u001b[m\u001b[m696 \u001b[36m31\u001b[m\u001b[m124\u001b[22;55H4\u001b[7C00 \u001b[32m/tools/node/bin/node /datalab/web/a\u001b[23;6H\u001b[m\u001b[m68\u001b[23;27H\u001b[36m 874M 57\u001b[m\u001b[m696 \u001b[36m31\u001b[m\u001b[m124\u001b[23;55H4\u001b[7C08 \u001b[32m/tools/node/bin/node /datalab/web/a\u001b[1;1H\u001b[m\u001b[m\u001b[2;9H\u001b[31m|\u001b[2;43H\u001b[30m\u001b[1m4.0\u001b[3;43H2.7\u001b[4;66H\u001b[36m2\u001b[8;5H\u001b[m\u001b[30m\u001b[46m  7\u001b[8;27H 874M 57696 31124 S  0.7  0.4  0:04.95 /tools/node/bin/node /datalab/web/\u001b[9;5H\u001b[m\u001b[m 2\u001b[9;27H\u001b[32m1\u001b[36m206M 13\u001b[m\u001b[m972 \u001b[36m 7\u001b[m\u001b[m648\u001b[9;61H0.54\u001b[6Ccolab/bin/kernel_manager_proxy\u001b[10;6H32\u001b[10;27H\u001b[32m1\u001b[36m206M 13\u001b[m\u001b[m972 \u001b[36m 7\u001b[m\u001b[m648\u001b[6C7  0.1\u001b[10;64H4 \u001b[32m/usr/colab/bin/kernel_manager_proxy\u001b[11;6H\u001b[m\u001b[m60\u001b[11;28H\u001b[36m163M  149M 18\u001b[m\u001b[m680\u001b[6C7  1.1  0:03.34 python3 /usr/local/bin/colab-filesh\u001b[12;6H82\u001b[12;28H\u001b[36m348M  109M 27\u001b[m\u001b[m336\u001b[6C7  0.8  0:05.21 /usr/bin/python3 /usr/local/bin/jup\u001b[13;6H83\u001b[13;27H\u001b[32m1\u001b[36m199M  8\u001b[m\u001b[m620 \u001b[36m 3\u001b[m\u001b[m032\u001b[6C7  0.1  0:01.43 /usr/local/bin/dap_multiplexer --do\u001b[14;5H326\u001b[14;28H\u001b[36m090M  109M 26\u001b[m\u001b[m572\u001b[6C7  0.8  0:09.2\u001b[7Cbin/python3 -m colab_kernel_la\u001b[15;5H369\u001b[15;27H\u001b[32m1\u001b[36m090M  109M 26\u001b[m\u001b[m572\u001b[6C7  0.8\u001b[7C68 \u001b[32m/usr/bin/python3 -m colab_kernel_la\u001b[16;5H\u001b[m\u001b[m422\u001b[16;27H\u001b[36m 526M 13\u001b[m\u001b[m824 \u001b[36m 4\u001b[m\u001b[m844\u001b[6C7\u001b[16;61H1.04\u001b[6C\u001b[32mbin/python3 /usr/local/lib/pyt\u001b[17;4H\u001b[m\u001b[m5977\u001b[17;27H\u001b[36m 8\u001b[m\u001b[m152 \u001b[36m 4\u001b[m\u001b[m460 \u001b[36m 3\u001b[m\u001b[m672 \u001b[32mR \u001b[m\u001b[m 0.7  0.0\u001b[7C08 htop\u001b[K\u001b[18;6H 1\u001b[18;27H\u001b[36m 1\u001b[m\u001b[m076     8     0\u001b[18;55H0\u001b[18;64H0 /sbin/docker-init -- /datalab/run.s\u001b[19;6H18\u001b[19;27H\u001b[36m 7\u001b[m\u001b[m376 \u001b[36m 3\u001b[m\u001b[m392 \u001b[36m 3\u001b[m\u001b[m092\u001b[19;55H0\u001b[7C81 /bin/bash -e /usr/local/colab/bin/o\u001b[20;6H20\u001b[20;27H\u001b[36m 7\u001b[m\u001b[m376 \u001b[36m 1\u001b[m\u001b[m992 \u001b[36m 1\u001b[m\u001b[m704 S\u001b[20;61H0.00 /bin/bash -e /datalab/run.sh\u001b[21;6H24\u001b[21;28H\u001b[36m5\u001b[m\u001b[m808 \u001b[36m 1\u001b[m\u001b[m012   92\u001b[21;53H0.0  0:00.15 tail -n +0 -F /root/.config/Google/\u001b[22;6H30\u001b[22;27H\u001b[32m1\u001b[36m206M 13\u001b[m\u001b[m972 \u001b[36m 7\u001b[m\u001b[m648\u001b[22;55H1\u001b[7C10 \u001b[32m/usr/colab/bin/kernel_manager_proxy\u001b[23;6H\u001b[m\u001b[m31\u001b[23;27H\u001b[32m1\u001b[36m206M 13\u001b[m\u001b[m972 \u001b[36m 7\u001b[m\u001b[m648\u001b[23;55H1\u001b[7C10 \u001b[32m/usr/colab/bin/kernel_manager_proxy\u001b[1;1H\u001b[m\u001b[m\u001b[16;20r\u001b[16;1H\u001b[2M\u001b[1;24r\u001b[19;23r\u001b[23;1H\n",
            "\u001b[1;24r\u001b[2;8H\u001b[32m|\u001b[3;43H\u001b[30m\u001b[1m4.0\u001b[4;39H1\u001b[4;66H\u001b[36m3\u001b[8;6H\u001b[m\u001b[30m\u001b[46m60\u001b[8;28H165M  150M 18680 S  1.3  1.2  0:03.36 python3 /usr/local/bin/colab-filesh\u001b[9;5H\u001b[m\u001b[m326\u001b[9;28H\u001b[36m090M  109M 26\u001b[m\u001b[m572 S  1.3  0.8  0:09.25\u001b[6Cbin/python3 -m colab_kernel_la\u001b[10;6H 7\u001b[10;27H\u001b[36m 874M 57\u001b[m\u001b[m960 \u001b[36m31\u001b[m\u001b[m124\u001b[10;55H4  0:04.96 /tools/node/bin/node /datalab/web/a\u001b[11;6H78\u001b[11;28H\u001b[36m874M 57\u001b[m\u001b[m960 \u001b[36m31\u001b[m\u001b[m124\u001b[11;53H0.4  0:00.02 \u001b[32m/tools/node/bin/node /datalab/web/a\u001b[12;7H\u001b[m\u001b[m6\u001b[12;27H\u001b[32m1\u001b[36m199M  8\u001b[m\u001b[m620 \u001b[36m 3\u001b[m\u001b[m032\u001b[12;55H1  0:00.43 \u001b[32m/usr/local/bin/dap_multiplexer --do\u001b[13;5H\u001b[m\u001b[m381\u001b[13;28H\u001b[36m090M  109M 26\u001b[m\u001b[m57\u001b[13;55H8  0:00.49 \u001b[32m/usr/bin/python3 -m colab_kernel_la\u001b[14;5H\u001b[m\u001b[m421\u001b[14;27H\u001b[36m 526M 13\u001b[m\u001b[m824 \u001b[36m 4\u001b[m\u001b[m844\u001b[14;55H1  0:00.81 \u001b[32m/usr/bin/python3 /usr/local/lib/pyt\u001b[15;5H\u001b[m\u001b[m422\u001b[15;27H\u001b[36m 526M 13\u001b[m\u001b[m824 \u001b[36m 4\u001b[m\u001b[m844\u001b[15;55H1  0:01.05\u001b[15;83H\u001b[32m/usr/local/lib/pyt\u001b[19;6H\u001b[m\u001b[m21 root\u001b[7C20   0 \u001b[32m1\u001b[36m206M 13\u001b[m\u001b[m972 \u001b[36m 7\u001b[m\u001b[m648 S  0.0  0.1  0:00.54 /usr/colab/bin/kernel_manager_proxy\u001b[23;6H32 root\u001b[7C20   0 \u001b[32m1\u001b[36m206M 13\u001b[m\u001b[m972 \u001b[36m 7\u001b[m\u001b[m648 S  0.0  0.1  0:00.14 \u001b[32m/usr/colab/bin/kernel_manager_proxy\u001b[1;1H\u001b[m\u001b[m\u001b[9;23r\u001b[9;1H\u001b[3M\u001b[1;24r\u001b[2;8H\u001b[31m||\u001b[33m|\u001b[2;43H\u001b[30m\u001b[1m5.3\u001b[3;9H\u001b[m\u001b[33m|\u001b[4;66H\u001b[36m\u001b[1m5\u001b[8;6H\u001b[m\u001b[30m\u001b[46m 7\u001b[8;28H874M 57336 31124\u001b[8;53H0.4  0:04.98 /tools/node/bin/node /datalab/web/a\u001b[9;7H\u001b[m\u001b[m3\u001b[9;61H1.44 /usr/local/bin/dap_multiplexer --do\u001b[10;6H26\u001b[10;61H9.26 /usr/bin/python3 -m colab_kernel_la\u001b[11;5H36\u001b[11;61H3.21 /usr/bin/python3 /usr/local/lib/pyt\u001b[12;5H368\u001b[12;27H\u001b[32m1\u001b[36m090M  109M 26\u001b[m\u001b[m572\u001b[12;55H8\u001b[7C84\u001b[12;83H\u001b[32m-m colab_kernel_la\u001b[21;6H\u001b[m\u001b[m33 root\u001b[7C20   0 \u001b[32m1\u001b[36m206M 13\u001b[m\u001b[m972 \u001b[36m 7\u001b[m\u001b[m648 S  0.0  0.1  0:00.00 \u001b[32m/usr/colab/bin/kernel_manager_proxy\u001b[22;6H\u001b[m\u001b[m59 root\u001b[7C20   0     0     0     0 Z  0.0  0.0  0:08.61 python3\u001b[23;6H60 root\u001b[7C20   0 \u001b[36m 165M  150M 18\u001b[m\u001b[m680 S  0.0  1.2  0:03.36 python3 /usr/local/bin/colab-filesh\u001b[1;1H\u001b[13;23r\u001b[13;1H\u001b[2L\u001b[1;24r\u001b[2;8H\u001b[32m|||||||||||||||\u001b[31m|||||||||\u001b[2;42H\u001b[30m\u001b[1m61.5\u001b[3;8H\u001b[m\u001b[32m|||||||||||\u001b[31m||||||||\u001b[3;42H\u001b[30m\u001b[1m47\u001b[3;68H\u001b[m9 \u001b[36m0.27 \u001b[m\u001b[36m0.27\u001b[4;39H\u001b[30m\u001b[1m6\u001b[4;66H\u001b[36m6\u001b[8;5H\u001b[m\u001b[30m\u001b[46m326\u001b[8;27H1090M  109M 26572\u001b[6C4  0.8  0:09.28 /usr/bin/python3 -m colab_kernel_l\u001b[9;6H\u001b[m\u001b[m60\u001b[9;27H\u001b[36m 165M  150M 18\u001b[m\u001b[m680\u001b[9;53H1.2  0:03.37 python3 /usr/local/bin/colab-filesh\u001b[10;5H 82\u001b[10;27H\u001b[36m 348\u001b[10;40H7\u001b[m\u001b[m336\u001b[10;61H5.22\u001b[10;83H/usr/local/bin/jup\u001b[11;7H4\u001b[11;27H\u001b[32m1\u001b[36m090M  109M 26\u001b[m\u001b[m572\u001b[11;55H8  0:01.58 \u001b[32m/usr/bin/python3 -m colab_kernel_la\u001b[12;7H\u001b[m\u001b[m5\u001b[12;61H0.77\u001b[13;5H469 root\u001b[7C20   0 \u001b[32m1\u001b[36m199M  8\u001b[m\u001b[m620 \u001b[36m 3\u001b[m\u001b[m032 S  0.7  0.1  0:00.04 \u001b[32m/usr/local/bin/dap_multiplexer --do\u001b[14;7H\u001b[m\u001b[m1 root\u001b[7C20   0 \u001b[36m 1\u001b[m\u001b[m076     8     0 S  0.0  0.0  0:00.10 /sbin/docker-init -- /datalab/run.s\u001b[15;7H7\u001b[15;28H\u001b[36m874M 57\u001b[m\u001b[m336 \u001b[36m31\u001b[m\u001b[m124\u001b[15;55H4  0:04.98 /tools/node/bin/node\u001b[10Cweb/a\u001b[1;1H\u001b[15;23r\u001b[15;1H\u001bM\u001b[1;24r\u001b[2;9H\u001b[31m|||\u001b[30m\u001b[1m                    \u001b[2;42H 9.4\u001b[3;9H\u001b[m\u001b[31m|||\u001b[30m\u001b[1m               \u001b[3;42H 8.7\u001b[4;39H7\u001b[4;66H\u001b[36m8\u001b[8;5H\u001b[m\u001b[30m\u001b[46m  7\u001b[8;27H 874M 57600 31124 S  0.7  0.4  0:04.99 /tools/node/bin/node /datalab/web/\u001b[9;6H\u001b[m\u001b[m82\u001b[9;28H\u001b[36m348M  109M 27\u001b[m\u001b[m336\u001b[9;53H0.8  0:05.23 /usr/bin/python3 /usr/local/bin/jup\u001b[10;7H3\u001b[10;27H\u001b[32m1\u001b[36m199M  8\u001b[m\u001b[m620 \u001b[36m 3\u001b[m\u001b[m032\u001b[10;55H1  0:01.45\u001b[6Clocal/bin/dap_multiplexer --do\u001b[11;5H 86\u001b[11;28H\u001b[36m199M  8\u001b[m\u001b[m620 \u001b[36m 3\u001b[m\u001b[m03\u001b[11;55H1  0:00.44\u001b[6C\u001b[32mlocal/bin/dap_multiplexer --do\u001b[12;6H\u001b[m\u001b[m26\u001b[12;61H9.29 /usr/bin/python3 -m colab_kernel_la\u001b[13;5H332\u001b[13;28H\u001b[36m090M  109M 26\u001b[m\u001b[m57\u001b[13;55H8\u001b[7C40\u001b[6C\u001b[32mbin/python3 -m colab_kernel_la\u001b[14;5H\u001b[m\u001b[m36\u001b[14;28H\u001b[36m526M 13\u001b[m\u001b[m824 \u001b[36m 4\u001b[m\u001b[m844\u001b[6C7  0.1  0:03.22 /usr/bin/python3 /usr/local/lib/pyt\u001b[15;5H366 root\u001b[7C20   0 \u001b[36m 526M 13\u001b[m\u001b[m824 \u001b[36m 4\u001b[m\u001b[m844 S  0.7  0.1  0:01.14 \u001b[32m/usr/bin/python3 /usr/local/lib/pyt\u001b[16;7H\u001b[m\u001b[m1\u001b[16;28H\u001b[36m1\u001b[m\u001b[m076     8     0\u001b[16;55H0  0:00.10 /sbin/docker-init --\u001b[10Crun.s\u001b[1;1H\u001b[12;23r\u001b[12;1H\u001b[4M\u001b[1;24r\u001b[2;10H\u001b[30m\u001b[1m  \u001b[2;43H4.0\u001b[3;8H\u001b[m\u001b[31m|\u001b[30m\u001b[1m   \u001b[3;43H4.0\u001b[4;39H6\u001b[4;66H\u001b[36m9\u001b[8;6H\u001b[m\u001b[30m\u001b[46m60\u001b[8;28H166M  151M 18680 S  1.3  1.2  0:03.39 python3 /usr/local/bin/colab-filesh\u001b[9;5H\u001b[m\u001b[m326\u001b[9;27H\u001b[32m1\u001b[36m090\u001b[9;40H6\u001b[m\u001b[m572\u001b[9;61H9.30\u001b[9;83H-m colab_kernel_la\u001b[10;4H5977\u001b[10;27H\u001b[36m 8\u001b[m\u001b[m152 \u001b[36m 4\u001b[m\u001b[m460 \u001b[36m 3\u001b[m\u001b[m672 \u001b[32mR \u001b[10;55H\u001b[m\u001b[m0  0:00.09 htop\u001b[K\u001b[11;6H 1\u001b[11;27H\u001b[36m 1\u001b[m\u001b[m076     8     0\u001b[6C0  0.0\u001b[7C10 /sbin/docker-init -- /datalab/run.s\u001b[12;7H7\u001b[12;28H\u001b[36m874M 57\u001b[m\u001b[m600 \u001b[36m31\u001b[m\u001b[m124\u001b[12;55H4  0:04.99 /tools/node/bin/node\u001b[10Cweb/a\u001b[20;6H33 root\u001b[7C20   0 \u001b[32m1\u001b[36m206M 13\u001b[m\u001b[m972 \u001b[36m 7\u001b[m\u001b[m648 S  0.0  0.1  0:00.00 \u001b[32m/usr/colab/bin/kernel_manager_proxy\u001b[21;6H\u001b[m\u001b[m59 root\u001b[7C20   0     0     0     0 Z  0.0  0.0  0:08.61 python3\u001b[22;6H67 root\u001b[7C20   0 \u001b[36m 874M 57\u001b[m\u001b[m600 \u001b[36m31\u001b[m\u001b[m124 S  0.0  0.4  0:00.00 \u001b[32m/tools/node/bin/node /datalab/web/a\u001b[23;6H\u001b[m\u001b[m68 root\u001b[7C20   0 \u001b[36m 874M 57\u001b[m\u001b[m600 \u001b[36m31\u001b[m\u001b[m124 S  0.0  0.4  0:00.08 \u001b[32m/tools/node/bin/node /datalab/web/a\u001b[1;1H\u001b[m\u001b[m\u001b[9;13r\u001b[9;1H\u001b[2L\u001b[1;24r\u001b[2;8H\u001b[31m|\u001b[30m\u001b[1m \u001b[3;68H\u001b[m7\u001b[3;78H\u001b[m\u001b[36m6\u001b[4;65H\u001b[1m21\u001b[8;5H\u001b[m\u001b[30m\u001b[46m326\u001b[8;27H1090M  109M 26572\u001b[8;53H0.8  0:09.32 /usr/bin/python3 -m colab_kernel_la\u001b[9;7H\u001b[m\u001b[m7 root\u001b[7C20   0 \u001b[36m 874M 57\u001b[m\u001b[m600 \u001b[36m31\u001b[m\u001b[m124 S  0.7  0.4  0:05.00 /tools/node/bin/node /datalab/web/a\u001b[10;6H21 root\u001b[7C20   0 \u001b[32m1\u001b[36m206M 14\u001b[m\u001b[m220 \u001b[36m 7\u001b[m\u001b[m648 S  0.7  0.1  0:00.55 /usr/colab/bin/kernel_manager_proxy\u001b[11;6H68\u001b[11;61H1.85 \u001b[32m/usr/bin/python3 -m colab_kernel_la\u001b[12;63H\u001b[m\u001b[m10\u001b[14;6H18\u001b[14;34H\u001b[36m3\u001b[m\u001b[m392 \u001b[36m 3\u001b[m\u001b[m092\u001b[14;63H81\u001b[14;80Husr/local/colab/bin/o\u001b[15;7H0\u001b[15;27H\u001b[36m 7\u001b[m\u001b[m376 \u001b[36m 1\u001b[m\u001b[m992 \u001b[36m 1\u001b[m\u001b[m704\u001b[15;55H0\u001b[7C00 /bin/bash -e /datalab/run.sh\u001b[K\u001b[17;34H\u001b[36m4\u001b[m\u001b[m220\u001b[18;34H\u001b[36m4\u001b[m\u001b[m220\u001b[19;34H\u001b[36m4\u001b[m\u001b[m220\u001b[20;34H\u001b[36m4\u001b[m\u001b[m220\u001b[22;7H0\u001b[22;28H\u001b[36m166M  151M 18\u001b[m\u001b[m680\u001b[22;53H1.2  0:03.39 python3 /usr/local/bin/colab-filesh\u001b[23;7H7\u001b[23;64H0\u001b[H\u001b[2;43H\u001b[30m\u001b[1m2.7\u001b[3;43H2.7\u001b[4;66H\u001b[36m2\u001b[8;5H\u001b[m\u001b[30m\u001b[46m 18\u001b[8;27H 7376  3392  3092 S  0.7  0.0  0:00.82 /bin/bash -e /usr/local/colab/bin/o\u001b[9;6H\u001b[m\u001b[m60\u001b[9;28H\u001b[36m166M  151M 18\u001b[m\u001b[m680\u001b[9;53H1.2  0:03.40 python3 /usr/local/bin/colab-filesh\u001b[10;5H326\u001b[10;28H\u001b[36m090M  109M 26\u001b[m\u001b[m572\u001b[10;55H8  0:09.33\u001b[6Cbin/python3 -m colab_kernel_la\u001b[11;7H1\u001b[11;27H\u001b[36m 526M 13\u001b[m\u001b[m824 \u001b[36m 4\u001b[m\u001b[m844\u001b[11;55H1  0:03.23 /usr/bin/python3 /usr/local/lib/pyt\u001b[12;4H   1\u001b[12;28H\u001b[36m1\u001b[m\u001b[m076     8     0 S  0.0\u001b[12;66H/sbin/docker-init -- /datalab/run.s\u001b[13;7H7\u001b[13;28H\u001b[36m874M 57\u001b[m\u001b[m864 \u001b[36m31\u001b[m\u001b[m124\u001b[13;55H4  0:05.00 /tools/node/bin/node\u001b[10Cweb/a\u001b[14;6H20\u001b[14;34H\u001b[36m1\u001b[m\u001b[m992 \u001b[36m 1\u001b[m\u001b[m704\u001b[14;63H00\u001b[14;80Hdatalab/run.sh\u001b[K\u001b[15;7H1\u001b[15;27H\u001b[32m1\u001b[36m206M 14\u001b[m\u001b[m220 \u001b[36m 7\u001b[m\u001b[m648\u001b[15;55H1\u001b[7C55 /usr/colab/bin/kernel_manager_proxy\u001b[22;7H7\u001b[22;28H\u001b[36m874M 57\u001b[m\u001b[m864 \u001b[36m31\u001b[m\u001b[m124\u001b[22;53H0.4  0:00.00 \u001b[32m/tools/node/bin/node /datalab/web/a\u001b[23;7H\u001b[m\u001b[m8\u001b[23;35H864\u001b[23;64H8\u001b[H\u001b[14;23r\u001b[14;1H\u001bM\u001b[1;24r\u001b[2;43H\u001b[30m\u001b[1m4.0\u001b[3;8H\u001b[m\u001b[32m|\u001b[31m|\u001b[3;43H\u001b[30m\u001b[1m4.0\u001b[4;66H\u001b[36m4\u001b[8;6H\u001b[m\u001b[30m\u001b[46m 7\u001b[8;28H874M 57864 31124\u001b[8;55H4  0:05.01 /tools/node/bin/node /datalab/web/a\u001b[9;6H\u001b[m\u001b[m82\u001b[9;28H\u001b[36m348M  109M 27\u001b[m\u001b[m336\u001b[9;53H0.8  0:05.24 /usr/bin/python3 /usr/local/bin/jup\u001b[10;64H4\u001b[11;7H4\u001b[11;27H\u001b[32m1\u001b[36m090M  109M 26\u001b[m\u001b[m572\u001b[11;55H8  0:01.59 \u001b[32m/usr/bin/python3 -m colab_kernel_la\u001b[12;5H\u001b[m\u001b[m422\u001b[12;28H\u001b[36m526M 13\u001b[m\u001b[m824 \u001b[36m 4\u001b[m\u001b[m844\u001b[6C7  0.1  0:01.06 \u001b[32m/usr/bin/python3 /usr/local/lib/pyt\u001b[13;7H\u001b[m\u001b[m1\u001b[13;28H\u001b[36m1\u001b[m\u001b[m076     8     0\u001b[13;55H0  0:00.10 /sbin/docker-init --\u001b[10Crun.s\u001b[14;6H18 root\u001b[7C20   0 \u001b[36m 7\u001b[m\u001b[m376 \u001b[36m 3\u001b[m\u001b[m392 \u001b[36m 3\u001b[m\u001b[m092 S  0.0  0.0  0:00.82 /bin/bash -e /usr/local/colab/bin/o\u001b[23;7H0\u001b[23;28H\u001b[36m166M  151M 18\u001b[m\u001b[m680\u001b[23;53H1.2  0:03.40 python3 /usr/local/bin/colab-filesh\u001b[1;1H\u001b[12;23r\u001b[23;1H\n",
            "\u001b[1;24r\u001b[2;8H\u001b[32m|\u001b[31m|\u001b[1B\b\b|\u001b[30m\u001b[1m \u001b[3;43H3.4\u001b[3;68H\u001b[m5 \u001b[36m0.26\u001b[4;39H\u001b[30m5\u001b[4;66H\u001b[36m5\u001b[8;6H\u001b[m\u001b[30m\u001b[46m60\u001b[8;28H167M  152M 18680 S  1.3  1.2  0:03.42 python3 /usr/local/bin/colab-filesh\u001b[9;5H\u001b[m\u001b[m326\u001b[9;27H\u001b[32m1\u001b[36m090\u001b[9;40H6\u001b[m\u001b[m572 S  1.3\u001b[9;61H9.36\u001b[9;83H-m colab_kernel_la\u001b[10;5H  7\u001b[10;27H\u001b[36m 874M 58\u001b[m\u001b[m128 \u001b[36m31\u001b[m\u001b[m124\u001b[10;55H4  0:05.02 /tools/node/bin/node /datalab/web/\u001b[11;7H8\u001b[11;63H86\u001b[22;7H7\u001b[22;28H\u001b[36m874M 58\u001b[m\u001b[m128 \u001b[36m31\u001b[m\u001b[m124\u001b[22;53H0.4  0:00.00 \u001b[32m/tools/node/bin/node /datalab/web/a\u001b[23;6H\u001b[m\u001b[m68 root\u001b[7C20   0 \u001b[36m 874M 58\u001b[m\u001b[m128 \u001b[36m31\u001b[m\u001b[m124 S  0.0  0.4  0:00.08 \u001b[32m/tools/node/bin/node /datalab/web/a\u001b[1;1H\u001b[m\u001b[m\u001b[16;23r\u001b[16;1H\u001b[4L\u001b[1;24r\u001b[9;19r\u001b[9;1H\u001b[5L\u001b[1;24r\u001b[2;9H\u001b[32m|\u001b[31m|||\u001b[2;42H\u001b[30m\u001b[1m1\u001b[3;8H\u001b[m\u001b[32m|||||\u001b[31m|||\u001b[3;42H\u001b[30m\u001b[1m21.3\u001b[4;38H36\u001b[4;66H\u001b[36m7\u001b[8;6H\u001b[m\u001b[30m\u001b[46m 7\u001b[8;28H874M 57460 31124 S  0.7  0.4  0:05.03 /tools/node/bin/node /datalab/web/a\u001b[9;6H\u001b[m\u001b[m21 root\u001b[7C20   0 \u001b[32m1\u001b[36m206M 14\u001b[m\u001b[m220 \u001b[36m 7\u001b[m\u001b[m648 S  0.7  0.1  0:00.56 /usr/colab/bin/kernel_manager_proxy\u001b[10;6H83 root\u001b[7C20   0 \u001b[32m1\u001b[36m199M  8\u001b[m\u001b[m620 \u001b[36m 3\u001b[m\u001b[m032 S  0.7  0.1  0:01.46 /usr/local/bin/dap_multiplexer --do\u001b[11;6H85 root\u001b[7C20   0 \u001b[32m1\u001b[36m199M  8\u001b[m\u001b[m620 \u001b[36m 3\u001b[m\u001b[m032 S  0.7  0.1  0:00.37 \u001b[32m/usr/local/bin/dap_multiplexer --do\u001b[12;5H\u001b[m\u001b[m326 root\u001b[7C20   0 \u001b[32m1\u001b[36m090M  109M 26\u001b[m\u001b[m572 S  0.7  0.8  0:09.37 /usr/bin/python3 -m colab_kernel_la\u001b[13;5H332 root\u001b[7C20   0 \u001b[32m1\u001b[36m090M  109M 26\u001b[m\u001b[m572 S  0.7  0.8  0:00.41 \u001b[32m/usr/bin/python3 -m colab_kernel_la\u001b[14;6H\u001b[m\u001b[m61\u001b[14;27H\u001b[36m 526M 13\u001b[m\u001b[m824 \u001b[36m 4\u001b[m\u001b[m844 S  0.7  0.1  0:03.24\u001b[14;83H/usr/local/lib/pyt\u001b[15;5H366\u001b[15;28H\u001b[36m526M 13\u001b[m\u001b[m824 \u001b[36m 4\u001b[m\u001b[m84\u001b[15;55H1  0:01.15 \u001b[32m/usr/bin/python3 /usr/local/lib/pyt\u001b[16;64H\u001b[m\u001b[m7\u001b[H\u001b[13;23r\u001b[13;1H\u001b[4M\u001b[1;24r\u001b[2;10H\u001b[32m||||||||\u001b[31m||||||||\u001b[2;42H\u001b[30m\u001b[1m44.2\u001b[3;13H\u001b[m\u001b[32m|||||\u001b[31m||||||||\u001b[3;42H\u001b[30m\u001b[1m44\u001b[4;38H41\u001b[4;66H\u001b[36m8\u001b[8;5H\u001b[m\u001b[30m\u001b[46m326\u001b[8;27H1090M  109M 26572 S  1.3  0.8  0:09.39 /usr/bin/python3 -m colab_kernel_l\u001b[9;6H\u001b[m\u001b[m 7\u001b[9;27H\u001b[36m 874M 57\u001b[m\u001b[m460 \u001b[36m31\u001b[m\u001b[m124\u001b[9;55H4  0:05.04 /tools/node/bin/node /datalab/web/a\u001b[10;6H21\u001b[10;28H\u001b[36m206M 14\u001b[m\u001b[m220 \u001b[36m 7\u001b[m\u001b[m648\u001b[10;61H0.57\u001b[6Ccolab/bin/kernel_manager_proxy\u001b[11;6H60\u001b[11;27H\u001b[36m 167M  152M 18\u001b[m\u001b[m680\u001b[11;53H1.2  0:03.43 python3 /usr/local/bin/colab-filesh\u001b[12;5H 82\u001b[12;27H\u001b[36m 348\u001b[12;40H7\u001b[m\u001b[m336\u001b[12;61H5.25\u001b[12;83H/usr/local/bin/jup\u001b[20;6H33 root\u001b[7C20   0 \u001b[32m1\u001b[36m206M 14\u001b[m\u001b[m220 \u001b[36m 7\u001b[m\u001b[m648 S  0.0  0.1  0:00.00 \u001b[32m/usr/colab/bin/kernel_manager_proxy\u001b[21;6H\u001b[m\u001b[m59 root\u001b[7C20   0     0     0     0 Z  0.0  0.0  0:08.61 python3\u001b[22;6H67 root\u001b[7C20   0 \u001b[36m 874M 57\u001b[m\u001b[m460 \u001b[36m31\u001b[m\u001b[m124 S  0.0  0.4  0:00.00 \u001b[32m/tools/node/bin/node /datalab/web/a\u001b[23;6H\u001b[m\u001b[m68 root\u001b[7C20   0 \u001b[36m 874M 57\u001b[m\u001b[m460 \u001b[36m31\u001b[m\u001b[m124 S  0.0  0.4  0:00.08 \u001b[32m/tools/node/bin/node /datalab/web/a\u001b[1;1H\u001b[m\u001b[m\u001b[11;15r\u001b[15;1H\n",
            "\u001b[1;24r\u001b[2;8H\u001b[31m||\u001b[30m\u001b[1m                \u001b[2;42H 4.7\u001b[3;8H\u001b[m\u001b[31m|\u001b[30m\u001b[1m                 \u001b[3;42H 3.4\u001b[4;65H\u001b[36m30\u001b[8;5H\u001b[m\u001b[30m\u001b[46m  7\u001b[8;27H 874M 57460 31124 S  0.7  0.4  0:05.05 /tools/node/bin/node /datalab/web/\u001b[9;5H\u001b[m\u001b[m326\u001b[9;27H\u001b[32m1\u001b[36m090M  109M 26\u001b[m\u001b[m572\u001b[9;55H8  0:09.40 /usr/bin/python3 -m colab_kernel_l\u001b[10;5H36\u001b[10;27H\u001b[36m 526M 13\u001b[m\u001b[m824 \u001b[36m 4\u001b[m\u001b[m844\u001b[10;61H3.25\u001b[6Cbin/python3 /usr/local/lib/pyt\u001b[11;5H368\u001b[11;27H\u001b[32m1\u001b[36m090\u001b[11;40H6\u001b[m\u001b[m572\u001b[11;61H1.88 \u001b[32m/usr/bin/python3 -m colab_kernel_la\u001b[15;6H\u001b[m\u001b[m21 root\u001b[7C20   0 \u001b[32m1\u001b[36m206M 14\u001b[m\u001b[m220 \u001b[36m 7\u001b[m\u001b[m648 S  0.0  0.1  0:00.57 /usr/colab/bin/kernel_manager_proxy\u001b[22;7H0\u001b[22;28H\u001b[36m167M  152M 18\u001b[m\u001b[m680\u001b[22;53H1.2  0:03.43 python3 /usr/local/bin/colab-filesh\u001b[23;7H7\u001b[23;64H0\u001b[H\u001b[12;22r\u001b[12;1H\u001bM\u001b[1;24r\u001b[2;9H\u001b[30m\u001b[1m \u001b[2;43H3.4\u001b[3;8H\u001b[m\u001b[32m|\u001b[31m|\u001b[3;43H\u001b[30m\u001b[1m4.0\u001b[3;68H\u001b[m3\u001b[4;66H\u001b[36m1\u001b[8;6H\u001b[m\u001b[30m\u001b[46m60\u001b[8;28H169M  154M 18680 S  1.3  1.2  0:03.45 python3 /usr/local/bin/colab-filesh\u001b[9;5H\u001b[m\u001b[m  7\u001b[9;27H\u001b[36m 874M 57\u001b[m\u001b[m724 \u001b[36m31\u001b[m\u001b[m124\u001b[9;55H4  0:05.06 /tools/node/bin/node /datalab/web/\u001b[10;6H26\u001b[10;27H\u001b[32m1\u001b[36m090M  109M 26\u001b[m\u001b[m572\u001b[10;55H8  0:09.41\u001b[10;83H-m colab_kernel_la\u001b[11;5H421\u001b[11;27H\u001b[36m 526M 13\u001b[m\u001b[m824 \u001b[36m 4\u001b[m\u001b[m844\u001b[11;55H1  0:00.82\u001b[11;83H\u001b[32m/usr/local/lib/pyt\u001b[12;4H\u001b[m\u001b[m5977 root\u001b[7C20   0 \u001b[36m 8\u001b[m\u001b[m152 \u001b[36m 4\u001b[m\u001b[m460 \u001b[36m 3\u001b[m\u001b[m672 \u001b[32mR \u001b[m\u001b[m 0.7  0.0  0:00.11 htop\u001b[23;35H724\u001b[H\u001b[10;19r\u001b[10;1H\u001bM\u001b[1;24r\u001b[2;43H\u001b[30m\u001b[1m4.0\u001b[3;8H\u001b[m\u001b[31m|\u001b[30m\u001b[1m \u001b[4;66H\u001b[36m3\u001b[8;5H\u001b[m\u001b[30m\u001b[46m326\u001b[8;27H1090M  109M 26572\u001b[8;53H0.8  0:09.43 /usr/bin/python3 -m colab_kernel_la\u001b[9;64H\u001b[m\u001b[m7\u001b[10;6H31 root\u001b[7C20   0 \u001b[32m1\u001b[36m206M 14\u001b[m\u001b[m220 \u001b[36m 7\u001b[m\u001b[m648 S  0.7  0.1  0:00.11 \u001b[32m/usr/colab/bin/kernel_manager_proxy\u001b[11;6H\u001b[m\u001b[m64\u001b[11;61H1.60 \u001b[32m/usr/bin/python3 -m colab_kernel_la\u001b[12;5H\u001b[m\u001b[m365\u001b[12;27H\u001b[32m1\u001b[36m090M  109M 26\u001b[m\u001b[m572\u001b[12;55H8\u001b[7C78\u001b[12;83H\u001b[32m-m colab_kernel_la\u001b[13;4H\u001b[m\u001b[m 369\u001b[13;27H\u001b[32m1\u001b[36m090M  109M 26\u001b[m\u001b[m572 S \u001b[13;55H8\u001b[7C69 \u001b[32m/usr/bin/python3 -m colab_kernel_la\u001b[23;7H\u001b[m\u001b[m0\u001b[23;28H\u001b[36m169M  154M 18\u001b[m\u001b[m680\u001b[23;53H1.2  0:03.45 python3 /usr/local/bin/colab-filesh\u001b[1;1H\u001b[15;23r\u001b[15;1H\u001bM\u001b[1;24r\u001b[2;8H\u001b[32m|\u001b[31m|\u001b[2;43H\u001b[30m\u001b[1m3.4\u001b[3;8H\u001b[m\u001b[32m|\u001b[31m|\u001b[4;66H\u001b[36m\u001b[1m4\u001b[8;5H\u001b[m\u001b[30m\u001b[46m 32\u001b[8;28H206M 14220  7648 S  0.7  0.1  0:00.15\u001b[6Ccolab/bin/kernel_manager_proxy\u001b[9;6H\u001b[m\u001b[m82\u001b[9;28H\u001b[36m348M  109M 27\u001b[m\u001b[m336\u001b[9;55H8\u001b[7C26 /usr/bin/python3 /usr/local/bin/jup\u001b[10;5H326\u001b[10;28H\u001b[36m090M  109M 26\u001b[m\u001b[m572\u001b[10;55H8  0:09.44 /usr/bin/python3 -m colab_kernel_la\u001b[11;7H1\u001b[11;27H\u001b[36m 526M 13\u001b[m\u001b[m824 \u001b[36m 4\u001b[m\u001b[m844\u001b[11;55H1  0:03.26 /usr/bin/python3 /usr/local/lib/pyt\u001b[12;7H6\u001b[12;27H\u001b[36m 526M 13\u001b[m\u001b[m824 \u001b[36m 4\u001b[m\u001b[m844\u001b[12;55H1  0:01.16\u001b[12;83H\u001b[32m/usr/local/lib/pyt\u001b[13;5H\u001b[m\u001b[m422\u001b[13;27H\u001b[36m 526M 13\u001b[m\u001b[m824 \u001b[36m 4\u001b[m\u001b[m844\u001b[13;55H1  0:01.07\u001b[13;83H\u001b[32m/usr/local/lib/pyt\u001b[15;7H\u001b[m\u001b[m7 root\u001b[7C20   0 \u001b[36m 874M 57\u001b[m\u001b[m988 \u001b[36m31\u001b[m\u001b[m124 S  0.0  0.4  0:05.07 /tools/node/bin/node /datalab/web/a\u001b[21;7H1\u001b[21;64H1\u001b[H\u001b[19;23r\u001b[19;1H\u001bM\u001b[1;24r\u001b[9;19r\u001b[9;1H\u001b[3L\u001b[1;24r\u001b[2;8H\u001b[31m|\u001b[30m\u001b[1m \u001b[1B\b\b\u001b[m\u001b[31m|\u001b[30m\u001b[1m \u001b[3;43H3.4\u001b[3;68H\u001b[m1\u001b[4;66H\u001b[36m6\u001b[8;6H\u001b[m\u001b[30m\u001b[46m 7\u001b[8;27H 874M 57988 31124\u001b[8;55H4  0:05.08 /tools/node/bin/node /datalab/web/a\u001b[9;6H\u001b[m\u001b[m21 root\u001b[7C20   0 \u001b[32m1\u001b[36m206M 14\u001b[m\u001b[m220 \u001b[36m 7\u001b[m\u001b[m648 S  0.7  0.1  0:00.58 /usr/colab/bin/kernel_manager_proxy\u001b[10;6H60 root\u001b[7C20   0 \u001b[36m 169M  154M 18\u001b[m\u001b[m680 S  0.7  1.2  0:03.46 python3 /usr/local/bin/colab-filesh\u001b[11;6H83 root\u001b[7C20   0 \u001b[32m1\u001b[36m199M  8\u001b[m\u001b[m620 \u001b[36m 3\u001b[m\u001b[m032 S  0.7  0.1  0:01.47 /usr/local/bin/dap_multiplexer --do\u001b[12;5H326\u001b[12;27H\u001b[32m1\u001b[36m090\u001b[12;40H6\u001b[m\u001b[m572\u001b[12;61H9.45\u001b[12;83H-m colab_kernel_la\u001b[13;6H32\u001b[13;61H0.42 \u001b[32m/usr/bin/python3 -m colab_kernel_la\u001b[14;64H\u001b[m\u001b[m7\u001b[15;7H4\u001b[15;27H\u001b[32m1\u001b[36m090M  109M 26\u001b[m\u001b[m572\u001b[15;55H8\u001b[7C61\u001b[15;83H\u001b[32m-m colab_kernel_la\u001b[16;5H\u001b[m\u001b[m368\u001b[16;27H\u001b[32m1\u001b[36m090M  109M 26\u001b[m\u001b[m572\u001b[16;55H8\u001b[7C89\u001b[16;83H\u001b[32m-m colab_kernel_la\u001b[18;6H\u001b[m\u001b[m18\u001b[18;28H\u001b[36m7\u001b[m\u001b[m376 \u001b[36m 3\u001b[m\u001b[m392 \u001b[36m 3\u001b[m\u001b[m092\u001b[18;55H0  0:00.82 /bin/bash -e /usr/local/colab/bin/o\u001b[19;6H20\u001b[19;34H\u001b[36m1\u001b[m\u001b[m992 \u001b[36m 1\u001b[m\u001b[m704\u001b[19;63H00\u001b[19;80Hdatalab/run.sh\u001b[K\u001b[23;7H2\u001b[23;63H15\u001b[H\u001b[15;23r\u001b[23;1H\n",
            "\u001b[?1l\u001b>"
          ]
        }
      ]
    },
    {
      "cell_type": "markdown",
      "source": [
        "## Instalando o pydub"
      ],
      "metadata": {
        "id": "QqY3oBEKUeSP"
      }
    },
    {
      "cell_type": "code",
      "source": [
        "!pip install pydub"
      ],
      "metadata": {
        "colab": {
          "base_uri": "https://localhost:8080/"
        },
        "id": "PEyphPG7UIhi",
        "outputId": "449c76c7-1baa-4387-a77b-6f9ee4966cc9"
      },
      "execution_count": null,
      "outputs": [
        {
          "output_type": "stream",
          "name": "stdout",
          "text": [
            "Collecting pydub\n",
            "  Downloading pydub-0.25.1-py2.py3-none-any.whl (32 kB)\n",
            "Installing collected packages: pydub\n",
            "Successfully installed pydub-0.25.1\n"
          ]
        }
      ]
    },
    {
      "cell_type": "markdown",
      "source": [
        "## Instlando o AudioConverter"
      ],
      "metadata": {
        "id": "SkW8uGJ0Ugw2"
      }
    },
    {
      "cell_type": "code",
      "source": [
        "!pip install --upgrade AudioConverter"
      ],
      "metadata": {
        "colab": {
          "base_uri": "https://localhost:8080/"
        },
        "id": "iAmrwX2CUJCM",
        "outputId": "400193c6-99d8-4330-90e2-08bfb6928dba"
      },
      "execution_count": null,
      "outputs": [
        {
          "output_type": "stream",
          "name": "stdout",
          "text": [
            "Collecting AudioConverter\n",
            "  Downloading audioconverter-2.0.3-py3-none-any.whl (5.9 kB)\n",
            "Requirement already satisfied: click<9.0.0,>=8.1.3 in /usr/local/lib/python3.10/dist-packages (from AudioConverter) (8.1.7)\n",
            "Collecting colorama<0.5.0,>=0.4.3 (from AudioConverter)\n",
            "  Downloading colorama-0.4.6-py2.py3-none-any.whl (25 kB)\n",
            "Collecting pydub<0.25.0,>=0.24.1 (from AudioConverter)\n",
            "  Downloading pydub-0.24.1-py2.py3-none-any.whl (30 kB)\n",
            "Installing collected packages: pydub, colorama, AudioConverter\n",
            "  Attempting uninstall: pydub\n",
            "    Found existing installation: pydub 0.25.1\n",
            "    Uninstalling pydub-0.25.1:\n",
            "      Successfully uninstalled pydub-0.25.1\n",
            "Successfully installed AudioConverter-2.0.3 colorama-0.4.6 pydub-0.24.1\n"
          ]
        }
      ]
    },
    {
      "cell_type": "markdown",
      "source": [
        "## Convertendo o conteúdo de uma pasta para um formato específico"
      ],
      "metadata": {
        "id": "ieCfol42Uu5R"
      }
    },
    {
      "cell_type": "code",
      "source": [
        "!mkdir input && mkdir output"
      ],
      "metadata": {
        "id": "UXMwo_SHoCyH"
      },
      "execution_count": null,
      "outputs": []
    },
    {
      "cell_type": "code",
      "source": [
        "!ffmpeg -i /content/input/acriticadatese.m4a -c:a libmp3lame /content/output/acriticadatese.mp3"
      ],
      "metadata": {
        "colab": {
          "base_uri": "https://localhost:8080/"
        },
        "id": "fOwPsZWKbCbQ",
        "outputId": "8d3a1a9d-d98b-49cf-b58f-6e0f110d70e9"
      },
      "execution_count": null,
      "outputs": [
        {
          "output_type": "stream",
          "name": "stdout",
          "text": [
            "ffmpeg version 4.4.2-0ubuntu0.22.04.1 Copyright (c) 2000-2021 the FFmpeg developers\n",
            "  built with gcc 11 (Ubuntu 11.2.0-19ubuntu1)\n",
            "  configuration: --prefix=/usr --extra-version=0ubuntu0.22.04.1 --toolchain=hardened --libdir=/usr/lib/x86_64-linux-gnu --incdir=/usr/include/x86_64-linux-gnu --arch=amd64 --enable-gpl --disable-stripping --enable-gnutls --enable-ladspa --enable-libaom --enable-libass --enable-libbluray --enable-libbs2b --enable-libcaca --enable-libcdio --enable-libcodec2 --enable-libdav1d --enable-libflite --enable-libfontconfig --enable-libfreetype --enable-libfribidi --enable-libgme --enable-libgsm --enable-libjack --enable-libmp3lame --enable-libmysofa --enable-libopenjpeg --enable-libopenmpt --enable-libopus --enable-libpulse --enable-librabbitmq --enable-librubberband --enable-libshine --enable-libsnappy --enable-libsoxr --enable-libspeex --enable-libsrt --enable-libssh --enable-libtheora --enable-libtwolame --enable-libvidstab --enable-libvorbis --enable-libvpx --enable-libwebp --enable-libx265 --enable-libxml2 --enable-libxvid --enable-libzimg --enable-libzmq --enable-libzvbi --enable-lv2 --enable-omx --enable-openal --enable-opencl --enable-opengl --enable-sdl2 --enable-pocketsphinx --enable-librsvg --enable-libmfx --enable-libdc1394 --enable-libdrm --enable-libiec61883 --enable-chromaprint --enable-frei0r --enable-libx264 --enable-shared\n",
            "  WARNING: library configuration mismatch\n",
            "  avcodec     configuration: --prefix=/usr --extra-version=0ubuntu0.22.04.1 --toolchain=hardened --libdir=/usr/lib/x86_64-linux-gnu --incdir=/usr/include/x86_64-linux-gnu --arch=amd64 --enable-gpl --disable-stripping --enable-gnutls --enable-ladspa --enable-libaom --enable-libass --enable-libbluray --enable-libbs2b --enable-libcaca --enable-libcdio --enable-libcodec2 --enable-libdav1d --enable-libflite --enable-libfontconfig --enable-libfreetype --enable-libfribidi --enable-libgme --enable-libgsm --enable-libjack --enable-libmp3lame --enable-libmysofa --enable-libopenjpeg --enable-libopenmpt --enable-libopus --enable-libpulse --enable-librabbitmq --enable-librubberband --enable-libshine --enable-libsnappy --enable-libsoxr --enable-libspeex --enable-libsrt --enable-libssh --enable-libtheora --enable-libtwolame --enable-libvidstab --enable-libvorbis --enable-libvpx --enable-libwebp --enable-libx265 --enable-libxml2 --enable-libxvid --enable-libzimg --enable-libzmq --enable-libzvbi --enable-lv2 --enable-omx --enable-openal --enable-opencl --enable-opengl --enable-sdl2 --enable-pocketsphinx --enable-librsvg --enable-libmfx --enable-libdc1394 --enable-libdrm --enable-libiec61883 --enable-chromaprint --enable-frei0r --enable-libx264 --enable-shared --enable-version3 --disable-doc --disable-programs --enable-libaribb24 --enable-libopencore_amrnb --enable-libopencore_amrwb --enable-libtesseract --enable-libvo_amrwbenc --enable-libsmbclient\n",
            "  libavutil      56. 70.100 / 56. 70.100\n",
            "  libavcodec     58.134.100 / 58.134.100\n",
            "  libavformat    58. 76.100 / 58. 76.100\n",
            "  libavdevice    58. 13.100 / 58. 13.100\n",
            "  libavfilter     7.110.100 /  7.110.100\n",
            "  libswscale      5.  9.100 /  5.  9.100\n",
            "  libswresample   3.  9.100 /  3.  9.100\n",
            "  libpostproc    55.  9.100 / 55.  9.100\n",
            "\u001b[0;35m[mov,mp4,m4a,3gp,3g2,mj2 @ 0x55f575b8e000] \u001b[0m\u001b[1;31mmoov atom not found\n",
            "\u001b[0m\u001b[1;31m/content/input/acriticadatese.m4a: Invalid data found when processing input\n",
            "\u001b[0m"
          ]
        }
      ]
    },
    {
      "cell_type": "code",
      "source": [
        "!audioconvert convert /content/input /content/output --output-format .mp3"
      ],
      "metadata": {
        "id": "XhMgt9s4ULPR",
        "colab": {
          "base_uri": "https://localhost:8080/"
        },
        "outputId": "7bbb0b65-e3e7-44f6-f3e1-604b33457a64"
      },
      "execution_count": null,
      "outputs": [
        {
          "output_type": "stream",
          "name": "stdout",
          "text": [
            "\u001b[34m[ INFO    ] Starting conversion of /content/input.\u001b[0m\n",
            "multiprocessing.pool.RemoteTraceback: \n",
            "\"\"\"\n",
            "Traceback (most recent call last):\n",
            "  File \"/usr/lib/python3.10/multiprocessing/pool.py\", line 125, in worker\n",
            "    result = (True, func(*args, **kwds))\n",
            "  File \"/usr/lib/python3.10/multiprocessing/pool.py\", line 48, in mapstar\n",
            "    return list(map(*args))\n",
            "  File \"/usr/local/lib/python3.10/dist-packages/AudioConverter/converter.py\", line 226, in converter\n",
            "    audio = AudioSegment.from_file(audio_file.as_posix(), audio_file.suffix[1:])\n",
            "  File \"/usr/local/lib/python3.10/dist-packages/pydub/audio_segment.py\", line 723, in from_file\n",
            "    raise CouldntDecodeError(\n",
            "pydub.exceptions.CouldntDecodeError: Decoding failed. ffmpeg returned error code: 1\n",
            "\n",
            "Output from ffmpeg/avlib:\n",
            "\n",
            "ffmpeg version 4.4.2-0ubuntu0.22.04.1 Copyright (c) 2000-2021 the FFmpeg developers\n",
            "  built with gcc 11 (Ubuntu 11.2.0-19ubuntu1)\n",
            "  configuration: --prefix=/usr --extra-version=0ubuntu0.22.04.1 --toolchain=hardened --libdir=/usr/lib/x86_64-linux-gnu --incdir=/usr/include/x86_64-linux-gnu --arch=amd64 --enable-gpl --disable-stripping --enable-gnutls --enable-ladspa --enable-libaom --enable-libass --enable-libbluray --enable-libbs2b --enable-libcaca --enable-libcdio --enable-libcodec2 --enable-libdav1d --enable-libflite --enable-libfontconfig --enable-libfreetype --enable-libfribidi --enable-libgme --enable-libgsm --enable-libjack --enable-libmp3lame --enable-libmysofa --enable-libopenjpeg --enable-libopenmpt --enable-libopus --enable-libpulse --enable-librabbitmq --enable-librubberband --enable-libshine --enable-libsnappy --enable-libsoxr --enable-libspeex --enable-libsrt --enable-libssh --enable-libtheora --enable-libtwolame --enable-libvidstab --enable-libvorbis --enable-libvpx --enable-libwebp --enable-libx265 --enable-libxml2 --enable-libxvid --enable-libzimg --enable-libzmq --enable-libzvbi --enable-lv2 --enable-omx --enable-openal --enable-opencl --enable-opengl --enable-sdl2 --enable-pocketsphinx --enable-librsvg --enable-libmfx --enable-libdc1394 --enable-libdrm --enable-libiec61883 --enable-chromaprint --enable-frei0r --enable-libx264 --enable-shared\n",
            "  WARNING: library configuration mismatch\n",
            "  avcodec     configuration: --prefix=/usr --extra-version=0ubuntu0.22.04.1 --toolchain=hardened --libdir=/usr/lib/x86_64-linux-gnu --incdir=/usr/include/x86_64-linux-gnu --arch=amd64 --enable-gpl --disable-stripping --enable-gnutls --enable-ladspa --enable-libaom --enable-libass --enable-libbluray --enable-libbs2b --enable-libcaca --enable-libcdio --enable-libcodec2 --enable-libdav1d --enable-libflite --enable-libfontconfig --enable-libfreetype --enable-libfribidi --enable-libgme --enable-libgsm --enable-libjack --enable-libmp3lame --enable-libmysofa --enable-libopenjpeg --enable-libopenmpt --enable-libopus --enable-libpulse --enable-librabbitmq --enable-librubberband --enable-libshine --enable-libsnappy --enable-libsoxr --enable-libspeex --enable-libsrt --enable-libssh --enable-libtheora --enable-libtwolame --enable-libvidstab --enable-libvorbis --enable-libvpx --enable-libwebp --enable-libx265 --enable-libxml2 --enable-libxvid --enable-libzimg --enable-libzmq --enable-libzvbi --enable-lv2 --enable-omx --enable-openal --enable-opencl --enable-opengl --enable-sdl2 --enable-pocketsphinx --enable-librsvg --enable-libmfx --enable-libdc1394 --enable-libdrm --enable-libiec61883 --enable-chromaprint --enable-frei0r --enable-libx264 --enable-shared --enable-version3 --disable-doc --disable-programs --enable-libaribb24 --enable-libopencore_amrnb --enable-libopencore_amrwb --enable-libtesseract --enable-libvo_amrwbenc --enable-libsmbclient\n",
            "  libavutil      56. 70.100 / 56. 70.100\n",
            "  libavcodec     58.134.100 / 58.134.100\n",
            "  libavformat    58. 76.100 / 58. 76.100\n",
            "  libavdevice    58. 13.100 / 58. 13.100\n",
            "  libavfilter     7.110.100 /  7.110.100\n",
            "  libswscale      5.  9.100 /  5.  9.100\n",
            "  libswresample   3.  9.100 /  3.  9.100\n",
            "  libpostproc    55.  9.100 / 55.  9.100\n",
            "[mov,mp4,m4a,3gp,3g2,mj2 @ 0x5ca8ded73040] moov atom not found\n",
            "/content/input/1acriticadatese.m4a: Invalid data found when processing input\n",
            "\n",
            "\"\"\"\n",
            "\n",
            "The above exception was the direct cause of the following exception:\n",
            "\n",
            "Traceback (most recent call last):\n",
            "  File \"/usr/local/bin/audioconvert\", line 8, in <module>\n",
            "    sys.exit(cli())\n",
            "  File \"/usr/local/lib/python3.10/dist-packages/click/core.py\", line 1157, in __call__\n",
            "    return self.main(*args, **kwargs)\n",
            "  File \"/usr/local/lib/python3.10/dist-packages/click/core.py\", line 1078, in main\n",
            "    rv = self.invoke(ctx)\n",
            "  File \"/usr/local/lib/python3.10/dist-packages/click/core.py\", line 1688, in invoke\n",
            "    return _process_result(sub_ctx.command.invoke(sub_ctx))\n",
            "  File \"/usr/local/lib/python3.10/dist-packages/click/core.py\", line 1434, in invoke\n",
            "    return ctx.invoke(self.callback, **ctx.params)\n",
            "  File \"/usr/local/lib/python3.10/dist-packages/click/core.py\", line 783, in invoke\n",
            "    return __callback(*args, **kwargs)\n",
            "  File \"/usr/local/lib/python3.10/dist-packages/click/decorators.py\", line 45, in new_func\n",
            "    return f(get_current_context().obj, *args, **kwargs)\n",
            "  File \"/usr/local/lib/python3.10/dist-packages/AudioConverter/converter.py\", line 180, in convert\n",
            "    worker.map(converter, audio_files)\n",
            "  File \"/usr/lib/python3.10/multiprocessing/pool.py\", line 367, in map\n",
            "    return self._map_async(func, iterable, mapstar, chunksize).get()\n",
            "  File \"/usr/lib/python3.10/multiprocessing/pool.py\", line 774, in get\n",
            "    raise self._value\n",
            "pydub.exceptions.CouldntDecodeError: Decoding failed. ffmpeg returned error code: 1\n",
            "\n",
            "Output from ffmpeg/avlib:\n",
            "\n",
            "ffmpeg version 4.4.2-0ubuntu0.22.04.1 Copyright (c) 2000-2021 the FFmpeg developers\n",
            "  built with gcc 11 (Ubuntu 11.2.0-19ubuntu1)\n",
            "  configuration: --prefix=/usr --extra-version=0ubuntu0.22.04.1 --toolchain=hardened --libdir=/usr/lib/x86_64-linux-gnu --incdir=/usr/include/x86_64-linux-gnu --arch=amd64 --enable-gpl --disable-stripping --enable-gnutls --enable-ladspa --enable-libaom --enable-libass --enable-libbluray --enable-libbs2b --enable-libcaca --enable-libcdio --enable-libcodec2 --enable-libdav1d --enable-libflite --enable-libfontconfig --enable-libfreetype --enable-libfribidi --enable-libgme --enable-libgsm --enable-libjack --enable-libmp3lame --enable-libmysofa --enable-libopenjpeg --enable-libopenmpt --enable-libopus --enable-libpulse --enable-librabbitmq --enable-librubberband --enable-libshine --enable-libsnappy --enable-libsoxr --enable-libspeex --enable-libsrt --enable-libssh --enable-libtheora --enable-libtwolame --enable-libvidstab --enable-libvorbis --enable-libvpx --enable-libwebp --enable-libx265 --enable-libxml2 --enable-libxvid --enable-libzimg --enable-libzmq --enable-libzvbi --enable-lv2 --enable-omx --enable-openal --enable-opencl --enable-opengl --enable-sdl2 --enable-pocketsphinx --enable-librsvg --enable-libmfx --enable-libdc1394 --enable-libdrm --enable-libiec61883 --enable-chromaprint --enable-frei0r --enable-libx264 --enable-shared\n",
            "  WARNING: library configuration mismatch\n",
            "  avcodec     configuration: --prefix=/usr --extra-version=0ubuntu0.22.04.1 --toolchain=hardened --libdir=/usr/lib/x86_64-linux-gnu --incdir=/usr/include/x86_64-linux-gnu --arch=amd64 --enable-gpl --disable-stripping --enable-gnutls --enable-ladspa --enable-libaom --enable-libass --enable-libbluray --enable-libbs2b --enable-libcaca --enable-libcdio --enable-libcodec2 --enable-libdav1d --enable-libflite --enable-libfontconfig --enable-libfreetype --enable-libfribidi --enable-libgme --enable-libgsm --enable-libjack --enable-libmp3lame --enable-libmysofa --enable-libopenjpeg --enable-libopenmpt --enable-libopus --enable-libpulse --enable-librabbitmq --enable-librubberband --enable-libshine --enable-libsnappy --enable-libsoxr --enable-libspeex --enable-libsrt --enable-libssh --enable-libtheora --enable-libtwolame --enable-libvidstab --enable-libvorbis --enable-libvpx --enable-libwebp --enable-libx265 --enable-libxml2 --enable-libxvid --enable-libzimg --enable-libzmq --enable-libzvbi --enable-lv2 --enable-omx --enable-openal --enable-opencl --enable-opengl --enable-sdl2 --enable-pocketsphinx --enable-librsvg --enable-libmfx --enable-libdc1394 --enable-libdrm --enable-libiec61883 --enable-chromaprint --enable-frei0r --enable-libx264 --enable-shared --enable-version3 --disable-doc --disable-programs --enable-libaribb24 --enable-libopencore_amrnb --enable-libopencore_amrwb --enable-libtesseract --enable-libvo_amrwbenc --enable-libsmbclient\n",
            "  libavutil      56. 70.100 / 56. 70.100\n",
            "  libavcodec     58.134.100 / 58.134.100\n",
            "  libavformat    58. 76.100 / 58. 76.100\n",
            "  libavdevice    58. 13.100 / 58. 13.100\n",
            "  libavfilter     7.110.100 /  7.110.100\n",
            "  libswscale      5.  9.100 /  5.  9.100\n",
            "  libswresample   3.  9.100 /  3.  9.100\n",
            "  libpostproc    55.  9.100 / 55.  9.100\n",
            "[mov,mp4,m4a,3gp,3g2,mj2 @ 0x5ca8ded73040] moov atom not found\n",
            "/content/input/1acriticadatese.m4a: Invalid data found when processing input\n",
            "\n"
          ]
        }
      ]
    },
    {
      "cell_type": "markdown",
      "source": [
        "## Instalando o SpeechRecognition\n",
        "\n",
        "https://pypi.org/project/SpeechRecognition/\n",
        "\n"
      ],
      "metadata": {
        "id": "eZWVHVUyVHxm"
      }
    },
    {
      "cell_type": "code",
      "source": [
        "!pip install SpeechRecognition"
      ],
      "metadata": {
        "colab": {
          "base_uri": "https://localhost:8080/"
        },
        "id": "pDKSl4kjVawQ",
        "outputId": "e7a6e199-1194-4a06-8f6a-1a16a6eaea7f"
      },
      "execution_count": null,
      "outputs": [
        {
          "output_type": "stream",
          "name": "stdout",
          "text": [
            "Collecting SpeechRecognition\n",
            "  Downloading SpeechRecognition-3.10.1-py2.py3-none-any.whl (32.8 MB)\n",
            "\u001b[2K     \u001b[90m━━━━━━━━━━━━━━━━━━━━━━━━━━━━━━━━━━━━━━━━\u001b[0m \u001b[32m32.8/32.8 MB\u001b[0m \u001b[31m33.1 MB/s\u001b[0m eta \u001b[36m0:00:00\u001b[0m\n",
            "\u001b[?25hRequirement already satisfied: requests>=2.26.0 in /usr/local/lib/python3.10/dist-packages (from SpeechRecognition) (2.31.0)\n",
            "Requirement already satisfied: typing-extensions in /usr/local/lib/python3.10/dist-packages (from SpeechRecognition) (4.9.0)\n",
            "Requirement already satisfied: charset-normalizer<4,>=2 in /usr/local/lib/python3.10/dist-packages (from requests>=2.26.0->SpeechRecognition) (3.3.2)\n",
            "Requirement already satisfied: idna<4,>=2.5 in /usr/local/lib/python3.10/dist-packages (from requests>=2.26.0->SpeechRecognition) (3.6)\n",
            "Requirement already satisfied: urllib3<3,>=1.21.1 in /usr/local/lib/python3.10/dist-packages (from requests>=2.26.0->SpeechRecognition) (2.0.7)\n",
            "Requirement already satisfied: certifi>=2017.4.17 in /usr/local/lib/python3.10/dist-packages (from requests>=2.26.0->SpeechRecognition) (2024.2.2)\n",
            "Installing collected packages: SpeechRecognition\n",
            "Successfully installed SpeechRecognition-3.10.1\n"
          ]
        }
      ]
    },
    {
      "cell_type": "markdown",
      "source": [
        "## Preparando o ambiente para reconhecimento de voz"
      ],
      "metadata": {
        "id": "laLgXFbpVn9h"
      }
    },
    {
      "cell_type": "code",
      "source": [
        "import speech_recognition as sr\n",
        "from pydub import AudioSegment"
      ],
      "metadata": {
        "id": "u7RmgUp-VrrC"
      },
      "execution_count": null,
      "outputs": []
    },
    {
      "cell_type": "code",
      "source": [
        "!audioconvert convert /content/input /content/output --output-format .wav"
      ],
      "metadata": {
        "colab": {
          "base_uri": "https://localhost:8080/"
        },
        "id": "Y_J5-trPV1u6",
        "outputId": "55f298a9-9fbf-42ce-c7c4-48d3e6bd96c0"
      },
      "execution_count": null,
      "outputs": [
        {
          "output_type": "stream",
          "name": "stdout",
          "text": [
            "\u001b[34m[ INFO    ] Starting conversion of /content/input.\u001b[0m\n",
            "multiprocessing.pool.RemoteTraceback: \n",
            "\"\"\"\n",
            "Traceback (most recent call last):\n",
            "  File \"/usr/lib/python3.10/multiprocessing/pool.py\", line 125, in worker\n",
            "    result = (True, func(*args, **kwds))\n",
            "  File \"/usr/lib/python3.10/multiprocessing/pool.py\", line 48, in mapstar\n",
            "    return list(map(*args))\n",
            "  File \"/usr/local/lib/python3.10/dist-packages/AudioConverter/converter.py\", line 226, in converter\n",
            "    audio = AudioSegment.from_file(audio_file.as_posix(), audio_file.suffix[1:])\n",
            "  File \"/usr/local/lib/python3.10/dist-packages/pydub/audio_segment.py\", line 723, in from_file\n",
            "    raise CouldntDecodeError(\n",
            "pydub.exceptions.CouldntDecodeError: Decoding failed. ffmpeg returned error code: 1\n",
            "\n",
            "Output from ffmpeg/avlib:\n",
            "\n",
            "ffmpeg version 4.4.2-0ubuntu0.22.04.1 Copyright (c) 2000-2021 the FFmpeg developers\n",
            "  built with gcc 11 (Ubuntu 11.2.0-19ubuntu1)\n",
            "  configuration: --prefix=/usr --extra-version=0ubuntu0.22.04.1 --toolchain=hardened --libdir=/usr/lib/x86_64-linux-gnu --incdir=/usr/include/x86_64-linux-gnu --arch=amd64 --enable-gpl --disable-stripping --enable-gnutls --enable-ladspa --enable-libaom --enable-libass --enable-libbluray --enable-libbs2b --enable-libcaca --enable-libcdio --enable-libcodec2 --enable-libdav1d --enable-libflite --enable-libfontconfig --enable-libfreetype --enable-libfribidi --enable-libgme --enable-libgsm --enable-libjack --enable-libmp3lame --enable-libmysofa --enable-libopenjpeg --enable-libopenmpt --enable-libopus --enable-libpulse --enable-librabbitmq --enable-librubberband --enable-libshine --enable-libsnappy --enable-libsoxr --enable-libspeex --enable-libsrt --enable-libssh --enable-libtheora --enable-libtwolame --enable-libvidstab --enable-libvorbis --enable-libvpx --enable-libwebp --enable-libx265 --enable-libxml2 --enable-libxvid --enable-libzimg --enable-libzmq --enable-libzvbi --enable-lv2 --enable-omx --enable-openal --enable-opencl --enable-opengl --enable-sdl2 --enable-pocketsphinx --enable-librsvg --enable-libmfx --enable-libdc1394 --enable-libdrm --enable-libiec61883 --enable-chromaprint --enable-frei0r --enable-libx264 --enable-shared\n",
            "  WARNING: library configuration mismatch\n",
            "  avcodec     configuration: --prefix=/usr --extra-version=0ubuntu0.22.04.1 --toolchain=hardened --libdir=/usr/lib/x86_64-linux-gnu --incdir=/usr/include/x86_64-linux-gnu --arch=amd64 --enable-gpl --disable-stripping --enable-gnutls --enable-ladspa --enable-libaom --enable-libass --enable-libbluray --enable-libbs2b --enable-libcaca --enable-libcdio --enable-libcodec2 --enable-libdav1d --enable-libflite --enable-libfontconfig --enable-libfreetype --enable-libfribidi --enable-libgme --enable-libgsm --enable-libjack --enable-libmp3lame --enable-libmysofa --enable-libopenjpeg --enable-libopenmpt --enable-libopus --enable-libpulse --enable-librabbitmq --enable-librubberband --enable-libshine --enable-libsnappy --enable-libsoxr --enable-libspeex --enable-libsrt --enable-libssh --enable-libtheora --enable-libtwolame --enable-libvidstab --enable-libvorbis --enable-libvpx --enable-libwebp --enable-libx265 --enable-libxml2 --enable-libxvid --enable-libzimg --enable-libzmq --enable-libzvbi --enable-lv2 --enable-omx --enable-openal --enable-opencl --enable-opengl --enable-sdl2 --enable-pocketsphinx --enable-librsvg --enable-libmfx --enable-libdc1394 --enable-libdrm --enable-libiec61883 --enable-chromaprint --enable-frei0r --enable-libx264 --enable-shared --enable-version3 --disable-doc --disable-programs --enable-libaribb24 --enable-libopencore_amrnb --enable-libopencore_amrwb --enable-libtesseract --enable-libvo_amrwbenc --enable-libsmbclient\n",
            "  libavutil      56. 70.100 / 56. 70.100\n",
            "  libavcodec     58.134.100 / 58.134.100\n",
            "  libavformat    58. 76.100 / 58. 76.100\n",
            "  libavdevice    58. 13.100 / 58. 13.100\n",
            "  libavfilter     7.110.100 /  7.110.100\n",
            "  libswscale      5.  9.100 /  5.  9.100\n",
            "  libswresample   3.  9.100 /  3.  9.100\n",
            "  libpostproc    55.  9.100 / 55.  9.100\n",
            "[mov,mp4,m4a,3gp,3g2,mj2 @ 0x59cb838bf040] moov atom not found\n",
            "/content/input/acriticadatese.m4a: Invalid data found when processing input\n",
            "\n",
            "\"\"\"\n",
            "\n",
            "The above exception was the direct cause of the following exception:\n",
            "\n",
            "Traceback (most recent call last):\n",
            "  File \"/usr/local/bin/audioconvert\", line 8, in <module>\n",
            "    sys.exit(cli())\n",
            "  File \"/usr/local/lib/python3.10/dist-packages/click/core.py\", line 1157, in __call__\n",
            "    return self.main(*args, **kwargs)\n",
            "  File \"/usr/local/lib/python3.10/dist-packages/click/core.py\", line 1078, in main\n",
            "    rv = self.invoke(ctx)\n",
            "  File \"/usr/local/lib/python3.10/dist-packages/click/core.py\", line 1688, in invoke\n",
            "    return _process_result(sub_ctx.command.invoke(sub_ctx))\n",
            "  File \"/usr/local/lib/python3.10/dist-packages/click/core.py\", line 1434, in invoke\n",
            "    return ctx.invoke(self.callback, **ctx.params)\n",
            "  File \"/usr/local/lib/python3.10/dist-packages/click/core.py\", line 783, in invoke\n",
            "    return __callback(*args, **kwargs)\n",
            "  File \"/usr/local/lib/python3.10/dist-packages/click/decorators.py\", line 45, in new_func\n",
            "    return f(get_current_context().obj, *args, **kwargs)\n",
            "  File \"/usr/local/lib/python3.10/dist-packages/AudioConverter/converter.py\", line 180, in convert\n",
            "    worker.map(converter, audio_files)\n",
            "  File \"/usr/lib/python3.10/multiprocessing/pool.py\", line 367, in map\n",
            "    return self._map_async(func, iterable, mapstar, chunksize).get()\n",
            "  File \"/usr/lib/python3.10/multiprocessing/pool.py\", line 774, in get\n",
            "    raise self._value\n",
            "pydub.exceptions.CouldntDecodeError: Decoding failed. ffmpeg returned error code: 1\n",
            "\n",
            "Output from ffmpeg/avlib:\n",
            "\n",
            "ffmpeg version 4.4.2-0ubuntu0.22.04.1 Copyright (c) 2000-2021 the FFmpeg developers\n",
            "  built with gcc 11 (Ubuntu 11.2.0-19ubuntu1)\n",
            "  configuration: --prefix=/usr --extra-version=0ubuntu0.22.04.1 --toolchain=hardened --libdir=/usr/lib/x86_64-linux-gnu --incdir=/usr/include/x86_64-linux-gnu --arch=amd64 --enable-gpl --disable-stripping --enable-gnutls --enable-ladspa --enable-libaom --enable-libass --enable-libbluray --enable-libbs2b --enable-libcaca --enable-libcdio --enable-libcodec2 --enable-libdav1d --enable-libflite --enable-libfontconfig --enable-libfreetype --enable-libfribidi --enable-libgme --enable-libgsm --enable-libjack --enable-libmp3lame --enable-libmysofa --enable-libopenjpeg --enable-libopenmpt --enable-libopus --enable-libpulse --enable-librabbitmq --enable-librubberband --enable-libshine --enable-libsnappy --enable-libsoxr --enable-libspeex --enable-libsrt --enable-libssh --enable-libtheora --enable-libtwolame --enable-libvidstab --enable-libvorbis --enable-libvpx --enable-libwebp --enable-libx265 --enable-libxml2 --enable-libxvid --enable-libzimg --enable-libzmq --enable-libzvbi --enable-lv2 --enable-omx --enable-openal --enable-opencl --enable-opengl --enable-sdl2 --enable-pocketsphinx --enable-librsvg --enable-libmfx --enable-libdc1394 --enable-libdrm --enable-libiec61883 --enable-chromaprint --enable-frei0r --enable-libx264 --enable-shared\n",
            "  WARNING: library configuration mismatch\n",
            "  avcodec     configuration: --prefix=/usr --extra-version=0ubuntu0.22.04.1 --toolchain=hardened --libdir=/usr/lib/x86_64-linux-gnu --incdir=/usr/include/x86_64-linux-gnu --arch=amd64 --enable-gpl --disable-stripping --enable-gnutls --enable-ladspa --enable-libaom --enable-libass --enable-libbluray --enable-libbs2b --enable-libcaca --enable-libcdio --enable-libcodec2 --enable-libdav1d --enable-libflite --enable-libfontconfig --enable-libfreetype --enable-libfribidi --enable-libgme --enable-libgsm --enable-libjack --enable-libmp3lame --enable-libmysofa --enable-libopenjpeg --enable-libopenmpt --enable-libopus --enable-libpulse --enable-librabbitmq --enable-librubberband --enable-libshine --enable-libsnappy --enable-libsoxr --enable-libspeex --enable-libsrt --enable-libssh --enable-libtheora --enable-libtwolame --enable-libvidstab --enable-libvorbis --enable-libvpx --enable-libwebp --enable-libx265 --enable-libxml2 --enable-libxvid --enable-libzimg --enable-libzmq --enable-libzvbi --enable-lv2 --enable-omx --enable-openal --enable-opencl --enable-opengl --enable-sdl2 --enable-pocketsphinx --enable-librsvg --enable-libmfx --enable-libdc1394 --enable-libdrm --enable-libiec61883 --enable-chromaprint --enable-frei0r --enable-libx264 --enable-shared --enable-version3 --disable-doc --disable-programs --enable-libaribb24 --enable-libopencore_amrnb --enable-libopencore_amrwb --enable-libtesseract --enable-libvo_amrwbenc --enable-libsmbclient\n",
            "  libavutil      56. 70.100 / 56. 70.100\n",
            "  libavcodec     58.134.100 / 58.134.100\n",
            "  libavformat    58. 76.100 / 58. 76.100\n",
            "  libavdevice    58. 13.100 / 58. 13.100\n",
            "  libavfilter     7.110.100 /  7.110.100\n",
            "  libswscale      5.  9.100 /  5.  9.100\n",
            "  libswresample   3.  9.100 /  3.  9.100\n",
            "  libpostproc    55.  9.100 / 55.  9.100\n",
            "[mov,mp4,m4a,3gp,3g2,mj2 @ 0x59cb838bf040] moov atom not found\n",
            "/content/input/acriticadatese.m4a: Invalid data found when processing input\n",
            "\n"
          ]
        }
      ]
    },
    {
      "cell_type": "code",
      "source": [
        "r = sr.Recognizer()"
      ],
      "metadata": {
        "id": "s1MXFLciWHUd"
      },
      "execution_count": null,
      "outputs": []
    },
    {
      "cell_type": "code",
      "source": [
        "# Load the .wav file using pydub\n",
        "sound = AudioSegment.from_wav(\"/content/output/criticadatese.wav\")"
      ],
      "metadata": {
        "id": "r0Kp335LWQ88"
      },
      "execution_count": null,
      "outputs": []
    },
    {
      "cell_type": "code",
      "source": [
        "# Split the audio file into 30 second segments\n",
        "segment_length = 30 * 1000 # 30 seconds in milliseconds\n",
        "segments = sound[::segment_length]"
      ],
      "metadata": {
        "id": "zadAMQL6Wb2P"
      },
      "execution_count": null,
      "outputs": []
    },
    {
      "cell_type": "code",
      "source": [
        "!mkdir myaudios"
      ],
      "metadata": {
        "id": "3_JMi9Ke7rX_"
      },
      "execution_count": null,
      "outputs": []
    },
    {
      "cell_type": "code",
      "source": [
        "# Save each segment as a separate .wav file\n",
        "for i, segment in enumerate(segments):\n",
        "    segment.export(\"/content/myaudios/output_file_{}.wav\".format(i), format=\"wav\")"
      ],
      "metadata": {
        "id": "Izfbg19QWdU4"
      },
      "execution_count": null,
      "outputs": []
    },
    {
      "cell_type": "code",
      "source": [
        "# Split the audio file into 30 second segments\n",
        "segment_length2 = 60 * 1000 # 60 seconds in milliseconds\n",
        "segments2 = sound[::segment_length2]"
      ],
      "metadata": {
        "id": "59QPcxIb8FBZ"
      },
      "execution_count": null,
      "outputs": []
    },
    {
      "cell_type": "code",
      "source": [
        "!mkdir myaudios2"
      ],
      "metadata": {
        "id": "1gjzWnKT74D3"
      },
      "execution_count": null,
      "outputs": []
    },
    {
      "cell_type": "code",
      "source": [
        "# Save each segment as a separate .wav file\n",
        "for i, segment in enumerate(segments2):\n",
        "    segment.export(\"/content/myaudios2/output_file_{}.wav\".format(i), format=\"wav\")"
      ],
      "metadata": {
        "id": "Q6pC8RO778MQ"
      },
      "execution_count": null,
      "outputs": []
    },
    {
      "cell_type": "code",
      "source": [
        "lista_de_arquivos_segmentados = []\n",
        "for i in range(0, 81):\n",
        "  print(f\"output_file_{i}.wav\")\n",
        "  elemento = f\"output_file_{i}.wav\"\n",
        "  lista_de_arquivos_segmentados.append(elemento)"
      ],
      "metadata": {
        "colab": {
          "base_uri": "https://localhost:8080/"
        },
        "id": "ql4tIc7PWzod",
        "outputId": "7bacd7c8-60b8-49db-c256-db84b49582ac"
      },
      "execution_count": null,
      "outputs": [
        {
          "output_type": "stream",
          "name": "stdout",
          "text": [
            "output_file_0.wav\n",
            "output_file_1.wav\n",
            "output_file_2.wav\n",
            "output_file_3.wav\n",
            "output_file_4.wav\n",
            "output_file_5.wav\n",
            "output_file_6.wav\n",
            "output_file_7.wav\n",
            "output_file_8.wav\n",
            "output_file_9.wav\n",
            "output_file_10.wav\n",
            "output_file_11.wav\n",
            "output_file_12.wav\n",
            "output_file_13.wav\n",
            "output_file_14.wav\n",
            "output_file_15.wav\n",
            "output_file_16.wav\n",
            "output_file_17.wav\n",
            "output_file_18.wav\n",
            "output_file_19.wav\n",
            "output_file_20.wav\n",
            "output_file_21.wav\n",
            "output_file_22.wav\n",
            "output_file_23.wav\n",
            "output_file_24.wav\n",
            "output_file_25.wav\n",
            "output_file_26.wav\n",
            "output_file_27.wav\n",
            "output_file_28.wav\n",
            "output_file_29.wav\n",
            "output_file_30.wav\n",
            "output_file_31.wav\n",
            "output_file_32.wav\n",
            "output_file_33.wav\n",
            "output_file_34.wav\n",
            "output_file_35.wav\n",
            "output_file_36.wav\n",
            "output_file_37.wav\n",
            "output_file_38.wav\n",
            "output_file_39.wav\n",
            "output_file_40.wav\n",
            "output_file_41.wav\n",
            "output_file_42.wav\n",
            "output_file_43.wav\n",
            "output_file_44.wav\n",
            "output_file_45.wav\n",
            "output_file_46.wav\n",
            "output_file_47.wav\n",
            "output_file_48.wav\n",
            "output_file_49.wav\n",
            "output_file_50.wav\n",
            "output_file_51.wav\n",
            "output_file_52.wav\n",
            "output_file_53.wav\n",
            "output_file_54.wav\n",
            "output_file_55.wav\n",
            "output_file_56.wav\n",
            "output_file_57.wav\n",
            "output_file_58.wav\n",
            "output_file_59.wav\n",
            "output_file_60.wav\n",
            "output_file_61.wav\n",
            "output_file_62.wav\n",
            "output_file_63.wav\n",
            "output_file_64.wav\n",
            "output_file_65.wav\n",
            "output_file_66.wav\n",
            "output_file_67.wav\n",
            "output_file_68.wav\n",
            "output_file_69.wav\n",
            "output_file_70.wav\n",
            "output_file_71.wav\n",
            "output_file_72.wav\n",
            "output_file_73.wav\n",
            "output_file_74.wav\n",
            "output_file_75.wav\n",
            "output_file_76.wav\n",
            "output_file_77.wav\n",
            "output_file_78.wav\n",
            "output_file_79.wav\n",
            "output_file_80.wav\n"
          ]
        }
      ]
    },
    {
      "cell_type": "code",
      "source": [
        "import time"
      ],
      "metadata": {
        "id": "CYyB5YS2XMAO"
      },
      "execution_count": null,
      "outputs": []
    },
    {
      "cell_type": "code",
      "source": [
        "def interpreta_audio(nome_arquivo):\n",
        "  result2 = None\n",
        "  try:\n",
        "    # guarda o arquivo wav que sera interpretado\n",
        "    audio = sr.AudioFile(nome_arquivo)\n",
        "  except Exception as ex:\n",
        "    print(f'Erro ao recuperar o arquivo {nome_arquivo}')\n",
        "  print('Aguarde...')\n",
        "  try:\n",
        "    # faz a interpretacao do audio\n",
        "    with audio as source:\n",
        "      audio_file = r.record(source)\n",
        "    result2 = r.recognize_google(audio_file, language=\"pt-BR\")\n",
        "    print('A interpretação do aúdio foi concluída com sucesso!')\n",
        "  except Exception as ex:\n",
        "    print(f'Erro ao interpretar o conteudo do arquivo {nome_arquivo} - {str(ex)}')\n",
        "  return result2\n",
        "\n",
        "def varre_lista_de_audios(lista, tempo, lista_resultados):\n",
        "  tempo_de_espera = tempo\n",
        "  for i, each in enumerate(lista):\n",
        "    print(f'Aguarde {tempo}s...')\n",
        "    nome = each\n",
        "    print(f'Interpretando o arquivo {i}, {nome}')\n",
        "    path = \"/content/myaudios/\" + each\n",
        "    print(path)\n",
        "    try:\n",
        "      subtitle = interpreta_audio(path)\n",
        "      lista_resultados.append(subtitle)\n",
        "      print(f'Extraído subtitle do arquivo {i}, {nome}')\n",
        "      time.sleep(tempo_de_espera)\n",
        "    except Exception as ex:\n",
        "      print(f\"Erro ao interpretar o arquivo {i}, {nome} - {str(ex)}\")"
      ],
      "metadata": {
        "id": "AUMLjUg7XIF4"
      },
      "execution_count": null,
      "outputs": []
    },
    {
      "cell_type": "code",
      "source": [
        "lista_resultados = []"
      ],
      "metadata": {
        "id": "Wj2OfeiyXcry"
      },
      "execution_count": null,
      "outputs": []
    },
    {
      "cell_type": "code",
      "source": [
        "#lista_de_arquivos_segmentados[:10]\n",
        "varre_lista_de_audios(lista_de_arquivos_segmentados[:10], 20, lista_resultados)"
      ],
      "metadata": {
        "colab": {
          "base_uri": "https://localhost:8080/"
        },
        "id": "Y2nTWwSmXZd4",
        "outputId": "532307fd-7cbd-42f9-f42f-6793f1d8118d"
      },
      "execution_count": null,
      "outputs": [
        {
          "output_type": "stream",
          "name": "stdout",
          "text": [
            "Aguarde 20s...\n",
            "Interpretando o arquivo 0, output_file_0.wav\n",
            "/content/myaudios/output_file_0.wav\n",
            "Aguarde...\n",
            "A interpretação do aúdio foi concluída com sucesso!\n",
            "Extraído subtitle do arquivo 0, output_file_0.wav\n",
            "Aguarde 20s...\n",
            "Interpretando o arquivo 1, output_file_1.wav\n",
            "/content/myaudios/output_file_1.wav\n",
            "Aguarde...\n",
            "A interpretação do aúdio foi concluída com sucesso!\n",
            "Extraído subtitle do arquivo 1, output_file_1.wav\n",
            "Aguarde 20s...\n",
            "Interpretando o arquivo 2, output_file_2.wav\n",
            "/content/myaudios/output_file_2.wav\n",
            "Aguarde...\n",
            "A interpretação do aúdio foi concluída com sucesso!\n",
            "Extraído subtitle do arquivo 2, output_file_2.wav\n",
            "Aguarde 20s...\n",
            "Interpretando o arquivo 3, output_file_3.wav\n",
            "/content/myaudios/output_file_3.wav\n",
            "Aguarde...\n",
            "A interpretação do aúdio foi concluída com sucesso!\n",
            "Extraído subtitle do arquivo 3, output_file_3.wav\n",
            "Aguarde 20s...\n",
            "Interpretando o arquivo 4, output_file_4.wav\n",
            "/content/myaudios/output_file_4.wav\n",
            "Aguarde...\n",
            "Erro ao interpretar o conteudo do arquivo /content/myaudios/output_file_4.wav - \n",
            "Extraído subtitle do arquivo 4, output_file_4.wav\n",
            "Aguarde 20s...\n",
            "Interpretando o arquivo 5, output_file_5.wav\n",
            "/content/myaudios/output_file_5.wav\n",
            "Aguarde...\n",
            "A interpretação do aúdio foi concluída com sucesso!\n",
            "Extraído subtitle do arquivo 5, output_file_5.wav\n",
            "Aguarde 20s...\n",
            "Interpretando o arquivo 6, output_file_6.wav\n",
            "/content/myaudios/output_file_6.wav\n",
            "Aguarde...\n",
            "A interpretação do aúdio foi concluída com sucesso!\n",
            "Extraído subtitle do arquivo 6, output_file_6.wav\n",
            "Aguarde 20s...\n",
            "Interpretando o arquivo 7, output_file_7.wav\n",
            "/content/myaudios/output_file_7.wav\n",
            "Aguarde...\n",
            "A interpretação do aúdio foi concluída com sucesso!\n",
            "Extraído subtitle do arquivo 7, output_file_7.wav\n",
            "Aguarde 20s...\n",
            "Interpretando o arquivo 8, output_file_8.wav\n",
            "/content/myaudios/output_file_8.wav\n",
            "Aguarde...\n",
            "A interpretação do aúdio foi concluída com sucesso!\n",
            "Extraído subtitle do arquivo 8, output_file_8.wav\n",
            "Aguarde 20s...\n",
            "Interpretando o arquivo 9, output_file_9.wav\n",
            "/content/myaudios/output_file_9.wav\n",
            "Aguarde...\n",
            "A interpretação do aúdio foi concluída com sucesso!\n",
            "Extraído subtitle do arquivo 9, output_file_9.wav\n"
          ]
        }
      ]
    },
    {
      "cell_type": "code",
      "source": [
        "!cd myaudios && ls -liath"
      ],
      "metadata": {
        "id": "SaKQ2OYRYvay",
        "colab": {
          "base_uri": "https://localhost:8080/"
        },
        "outputId": "175c8f41-64f7-43b5-e205-bf706fe99beb"
      },
      "execution_count": null,
      "outputs": [
        {
          "output_type": "stream",
          "name": "stdout",
          "text": [
            "total 298M\n",
            "1835014 drwxr-xr-x 1 root root 4.0K Feb 28 16:09 ..\n",
            "4850221 -rw-r--r-- 1 root root 5.0M Feb 28 16:09 output_file_58.wav\n",
            "4849907 drwxr-xr-x 2 root root 4.0K Feb 28 16:09 .\n",
            "4850220 -rw-r--r-- 1 root root 5.1M Feb 28 16:09 output_file_57.wav\n",
            "4850219 -rw-r--r-- 1 root root 5.1M Feb 28 16:09 output_file_56.wav\n",
            "4850218 -rw-r--r-- 1 root root 5.1M Feb 28 16:09 output_file_55.wav\n",
            "4850217 -rw-r--r-- 1 root root 5.1M Feb 28 16:09 output_file_54.wav\n",
            "4850216 -rw-r--r-- 1 root root 5.1M Feb 28 16:09 output_file_53.wav\n",
            "4850215 -rw-r--r-- 1 root root 5.1M Feb 28 16:09 output_file_52.wav\n",
            "4850214 -rw-r--r-- 1 root root 5.1M Feb 28 16:09 output_file_51.wav\n",
            "4850213 -rw-r--r-- 1 root root 5.1M Feb 28 16:09 output_file_50.wav\n",
            "4850212 -rw-r--r-- 1 root root 5.1M Feb 28 16:09 output_file_49.wav\n",
            "4850211 -rw-r--r-- 1 root root 5.1M Feb 28 16:09 output_file_48.wav\n",
            "4850210 -rw-r--r-- 1 root root 5.1M Feb 28 16:09 output_file_47.wav\n",
            "4850209 -rw-r--r-- 1 root root 5.1M Feb 28 16:09 output_file_46.wav\n",
            "4850208 -rw-r--r-- 1 root root 5.1M Feb 28 16:09 output_file_45.wav\n",
            "4850207 -rw-r--r-- 1 root root 5.1M Feb 28 16:09 output_file_44.wav\n",
            "4850206 -rw-r--r-- 1 root root 5.1M Feb 28 16:09 output_file_43.wav\n",
            "4850205 -rw-r--r-- 1 root root 5.1M Feb 28 16:09 output_file_42.wav\n",
            "4850204 -rw-r--r-- 1 root root 5.1M Feb 28 16:09 output_file_41.wav\n",
            "4850203 -rw-r--r-- 1 root root 5.1M Feb 28 16:09 output_file_40.wav\n",
            "4850202 -rw-r--r-- 1 root root 5.1M Feb 28 16:09 output_file_39.wav\n",
            "4850201 -rw-r--r-- 1 root root 5.1M Feb 28 16:09 output_file_38.wav\n",
            "4850200 -rw-r--r-- 1 root root 5.1M Feb 28 16:09 output_file_37.wav\n",
            "4850199 -rw-r--r-- 1 root root 5.1M Feb 28 16:09 output_file_36.wav\n",
            "4850198 -rw-r--r-- 1 root root 5.1M Feb 28 16:09 output_file_35.wav\n",
            "4850197 -rw-r--r-- 1 root root 5.1M Feb 28 16:09 output_file_34.wav\n",
            "4850196 -rw-r--r-- 1 root root 5.1M Feb 28 16:09 output_file_33.wav\n",
            "4850195 -rw-r--r-- 1 root root 5.1M Feb 28 16:09 output_file_32.wav\n",
            "4850194 -rw-r--r-- 1 root root 5.1M Feb 28 16:09 output_file_31.wav\n",
            "4850193 -rw-r--r-- 1 root root 5.1M Feb 28 16:09 output_file_30.wav\n",
            "4850192 -rw-r--r-- 1 root root 5.1M Feb 28 16:09 output_file_29.wav\n",
            "4850191 -rw-r--r-- 1 root root 5.1M Feb 28 16:09 output_file_28.wav\n",
            "4850190 -rw-r--r-- 1 root root 5.1M Feb 28 16:09 output_file_27.wav\n",
            "4850189 -rw-r--r-- 1 root root 5.1M Feb 28 16:09 output_file_26.wav\n",
            "4850188 -rw-r--r-- 1 root root 5.1M Feb 28 16:09 output_file_25.wav\n",
            "4850187 -rw-r--r-- 1 root root 5.1M Feb 28 16:09 output_file_24.wav\n",
            "4850186 -rw-r--r-- 1 root root 5.1M Feb 28 16:09 output_file_23.wav\n",
            "4850185 -rw-r--r-- 1 root root 5.1M Feb 28 16:09 output_file_22.wav\n",
            "4850184 -rw-r--r-- 1 root root 5.1M Feb 28 16:09 output_file_21.wav\n",
            "4850183 -rw-r--r-- 1 root root 5.1M Feb 28 16:09 output_file_20.wav\n",
            "4850182 -rw-r--r-- 1 root root 5.1M Feb 28 16:09 output_file_19.wav\n",
            "4850181 -rw-r--r-- 1 root root 5.1M Feb 28 16:09 output_file_18.wav\n",
            "4850180 -rw-r--r-- 1 root root 5.1M Feb 28 16:09 output_file_17.wav\n",
            "4850179 -rw-r--r-- 1 root root 5.1M Feb 28 16:09 output_file_16.wav\n",
            "4850178 -rw-r--r-- 1 root root 5.1M Feb 28 16:09 output_file_15.wav\n",
            "4850177 -rw-r--r-- 1 root root 5.1M Feb 28 16:09 output_file_14.wav\n",
            "4850176 -rw-r--r-- 1 root root 5.1M Feb 28 16:09 output_file_13.wav\n",
            "4850175 -rw-r--r-- 1 root root 5.1M Feb 28 16:09 output_file_12.wav\n",
            "4850174 -rw-r--r-- 1 root root 5.1M Feb 28 16:09 output_file_11.wav\n",
            "4850173 -rw-r--r-- 1 root root 5.1M Feb 28 16:09 output_file_10.wav\n",
            "4850172 -rw-r--r-- 1 root root 5.1M Feb 28 16:09 output_file_9.wav\n",
            "4850171 -rw-r--r-- 1 root root 5.1M Feb 28 16:09 output_file_8.wav\n",
            "4850170 -rw-r--r-- 1 root root 5.1M Feb 28 16:09 output_file_7.wav\n",
            "4850169 -rw-r--r-- 1 root root 5.1M Feb 28 16:09 output_file_6.wav\n",
            "4850168 -rw-r--r-- 1 root root 5.1M Feb 28 16:09 output_file_5.wav\n",
            "4850167 -rw-r--r-- 1 root root 5.1M Feb 28 16:09 output_file_4.wav\n",
            "4850166 -rw-r--r-- 1 root root 5.1M Feb 28 16:09 output_file_3.wav\n",
            "4850165 -rw-r--r-- 1 root root 5.1M Feb 28 16:09 output_file_2.wav\n",
            "4850164 -rw-r--r-- 1 root root 5.1M Feb 28 16:09 output_file_1.wav\n",
            "4850163 -rw-r--r-- 1 root root 5.1M Feb 28 16:09 output_file_0.wav\n"
          ]
        }
      ]
    },
    {
      "cell_type": "code",
      "source": [
        "!apt install zip"
      ],
      "metadata": {
        "colab": {
          "base_uri": "https://localhost:8080/"
        },
        "id": "nFugqzlUY95y",
        "outputId": "c8fde289-7a84-41e7-d77d-0abc968f6b80"
      },
      "execution_count": null,
      "outputs": [
        {
          "output_type": "stream",
          "name": "stdout",
          "text": [
            "Reading package lists... Done\n",
            "Building dependency tree... Done\n",
            "Reading state information... Done\n",
            "zip is already the newest version (3.0-12build2).\n",
            "0 upgraded, 0 newly installed, 0 to remove and 48 not upgraded.\n"
          ]
        }
      ]
    },
    {
      "cell_type": "code",
      "source": [
        "!ls"
      ],
      "metadata": {
        "colab": {
          "base_uri": "https://localhost:8080/"
        },
        "id": "UgqReEjPYyr4",
        "outputId": "288881ae-b5b1-4339-9afc-0401ba632209"
      },
      "execution_count": null,
      "outputs": [
        {
          "output_type": "stream",
          "name": "stdout",
          "text": [
            "'1a crítica da tese cópia.m4a'\t input\t    myaudios2   sample_data\n",
            " criticadatese.mp3\t\t myaudios   output\n"
          ]
        }
      ]
    },
    {
      "cell_type": "code",
      "source": [
        "!zip -r -q criticas myaudios2/"
      ],
      "metadata": {
        "id": "bDYfK-2iZW8K"
      },
      "execution_count": null,
      "outputs": []
    },
    {
      "cell_type": "code",
      "source": [
        "!du -h\n"
      ],
      "metadata": {
        "colab": {
          "base_uri": "https://localhost:8080/"
        },
        "id": "rBf0Vc8jZclU",
        "outputId": "7f9aac40-b305-48b4-88aa-1b05e738012a"
      },
      "execution_count": null,
      "outputs": [
        {
          "output_type": "stream",
          "name": "stdout",
          "text": [
            "8.0K\t./.config/configurations\n",
            "72K\t./.config/logs/2024.02.26\n",
            "76K\t./.config/logs\n",
            "120K\t./.config\n",
            "4.0K\t./.ipynb_checkpoints\n",
            "298M\t./myaudios\n",
            "298M\t./myaudios2\n",
            "298M\t./output\n",
            "4.0K\t./input/.ipynb_checkpoints\n",
            "28M\t./input\n",
            "55M\t./sample_data\n",
            "1.2G\t.\n"
          ]
        }
      ]
    },
    {
      "cell_type": "code",
      "source": [
        "ls -liath"
      ],
      "metadata": {
        "id": "f3wVYlhFZzvf",
        "colab": {
          "base_uri": "https://localhost:8080/"
        },
        "outputId": "12dd3260-e762-472e-e32b-1a5ddb95e79c"
      },
      "execution_count": null,
      "outputs": [
        {
          "output_type": "stream",
          "name": "stdout",
          "text": [
            "total 234M\n",
            "1835014 drwxr-xr-x 1 root root 4.0K Feb 28 17:03  \u001b[0m\u001b[01;34m.\u001b[0m/\n",
            "4850253 -rw-r--r-- 1 root root 136M Feb 28 17:03  criticas.zip\n",
            "4850104 -rw-r--r-- 1 root root  42M Feb 28 16:12  criticadatese.mp3\n",
            "4850222 drwxr-xr-x 2 root root 4.0K Feb 28 16:09  \u001b[01;34mmyaudios2\u001b[0m/\n",
            "4849907 drwxr-xr-x 2 root root 4.0K Feb 28 16:09  \u001b[01;34mmyaudios\u001b[0m/\n",
            "4849887 drwxr-xr-x 3 root root 4.0K Feb 28 16:08  \u001b[01;34minput\u001b[0m/\n",
            "4849900 drwxr-xr-x 2 root root 4.0K Feb 28 16:08  \u001b[01;34moutput\u001b[0m/\n",
            "4849959 -rw-r--r-- 1 root root  56M Feb 28 15:54 '1a crítica da tese cópia.m4a'\n",
            "4849908 drwxr-xr-x 2 root root 4.0K Feb 28 15:48  \u001b[01;34m.ipynb_checkpoints\u001b[0m/\n",
            "4849676 drwxr-xr-x 1 root root 4.0K Feb 28 15:45  \u001b[01;34m..\u001b[0m/\n",
            "1835015 drwxr-xr-x 1 root root 4.0K Feb 26 14:27  \u001b[01;34msample_data\u001b[0m/\n",
            "7077895 drwxr-xr-x 4 root root 4.0K Feb 26 14:26  \u001b[01;34m.config\u001b[0m/\n"
          ]
        }
      ]
    },
    {
      "cell_type": "markdown",
      "source": [
        "# Testes de interpretação"
      ],
      "metadata": {
        "id": "uFEtz9LNuc1t"
      }
    },
    {
      "cell_type": "code",
      "source": [
        "teste1 = interpreta_audio(nome_arquivo=\"/content/myaudios2/output_file_22.wav\")"
      ],
      "metadata": {
        "id": "Ck2HoD_p8qBO",
        "colab": {
          "base_uri": "https://localhost:8080/"
        },
        "outputId": "8ddd44a4-214c-4518-c8d9-1dc740b23637"
      },
      "execution_count": null,
      "outputs": [
        {
          "output_type": "stream",
          "name": "stdout",
          "text": [
            "Aguarde...\n",
            "A interpretação do aúdio foi concluída com sucesso!\n"
          ]
        }
      ]
    },
    {
      "cell_type": "code",
      "source": [
        "print(teste1)"
      ],
      "metadata": {
        "colab": {
          "base_uri": "https://localhost:8080/"
        },
        "id": "NDKRDC6LurxA",
        "outputId": "80809a06-9665-49ac-f4ba-420a2b96d8af"
      },
      "execution_count": null,
      "outputs": [
        {
          "output_type": "stream",
          "name": "stdout",
          "text": [
            "Eu só comentei isso acho que lá na parte do professor de design que aqui tem que fazer a minha sugestão vai ter que explicar Eu sempre gosto de fazer isso cara é fazer uma reflexão sobre por trás dessa pergunta que você fez rq1 e por exemplo você quer você quer responder uma pergunta o que é que tá por trás dela aí você explica essa pergunta aqui por que que ela é importante ser respondida é essa é uma área muito interessante Então tem muita publicação a gente precisa construir um corpo de entendimento e tal e tal e aí pode ser que aí você pode dizer nessa explicação da rq1 você vai\n"
          ]
        }
      ]
    },
    {
      "cell_type": "code",
      "source": [
        "for each in lista_resultados:\n",
        "  print(each)"
      ],
      "metadata": {
        "colab": {
          "base_uri": "https://localhost:8080/"
        },
        "id": "YlQx8i4tuu2f",
        "outputId": "b095b681-bf4d-4ac3-d965-443a92418e55"
      },
      "execution_count": null,
      "outputs": [
        {
          "output_type": "stream",
          "name": "stdout",
          "text": [
            "uma introdução\n",
            "Alô Lincoln tá me ouvindo Ah beleza tava baixo aqui introdução desse texto que você colocou aí porque você colocava um texto Se você olhar no código fonte você vai ver lá do do látex\n",
            "você falava que o objetivo era um negócio muito etéreo né e eu fui direto o objetivo é vou voltar de novo o conceito né como eu entendo o que é E aí você me diz como você entende que é E aí a gente pode discutir E aí você tem que fazer esse entendimento que ele chegar à conclusão aqui ser refletido na tese por completo\n",
            "Qual é o objetivo da tese objetivo da tese é desenvolver um método automático que extraia código fonte impactado por atender essa frase Você tinha dito que não era esse objetivo era outra coisa se você abriu\n",
            "None\n",
            "eu mudei esse texto tá aqui né aliás\n",
            "na introdução tô no primeiro método for Dent 5S Cold Fiesta comentário\n",
            "códigos motivos de Monte que indicam a TD certo entrou entrou entrou ouvindo\n",
            "eu pensava que tava no automático Mas vamos lá o link está fazendo só umas correções aqui de conceito pode continuar ali pô não cara que é isso ave maria pode continuar o amigo Beleza beleza como é que vocês estão aí tudo bem tudo bem parte Ah tá certo mudou aqui under the Impact captei sua mensagem\n",
            "eu acho que é muito importante alinhar isso para não ficar dizendo uma coisa e outra coisa nesse momento referente ao objetivo da tese uma hora a gente diz uma coisa outra hora ele diz outra o que que eu tô dizendo para ele aqui na minha visão a tese dele procura um mé\n"
          ]
        }
      ]
    },
    {
      "cell_type": "code",
      "source": [
        "len(lista_resultados)"
      ],
      "metadata": {
        "colab": {
          "base_uri": "https://localhost:8080/"
        },
        "id": "SYvf16BjwYfU",
        "outputId": "d72acc26-6c7d-4db0-a97d-221ab200a700"
      },
      "execution_count": null,
      "outputs": [
        {
          "output_type": "execute_result",
          "data": {
            "text/plain": [
              "10"
            ]
          },
          "metadata": {},
          "execution_count": 41
        }
      ]
    },
    {
      "cell_type": "code",
      "source": [
        "for each in lista_de_arquivos_segmentados:\n",
        "  print(each)"
      ],
      "metadata": {
        "colab": {
          "base_uri": "https://localhost:8080/"
        },
        "id": "452LnE-ew7Rt",
        "outputId": "30f70e58-2813-4cc7-c4e2-71b2fce34593"
      },
      "execution_count": null,
      "outputs": [
        {
          "output_type": "stream",
          "name": "stdout",
          "text": [
            "output_file_0.wav\n",
            "output_file_1.wav\n",
            "output_file_2.wav\n",
            "output_file_3.wav\n",
            "output_file_4.wav\n",
            "output_file_5.wav\n",
            "output_file_6.wav\n",
            "output_file_7.wav\n",
            "output_file_8.wav\n",
            "output_file_9.wav\n",
            "output_file_10.wav\n",
            "output_file_11.wav\n",
            "output_file_12.wav\n",
            "output_file_13.wav\n",
            "output_file_14.wav\n",
            "output_file_15.wav\n",
            "output_file_16.wav\n",
            "output_file_17.wav\n",
            "output_file_18.wav\n",
            "output_file_19.wav\n",
            "output_file_20.wav\n",
            "output_file_21.wav\n",
            "output_file_22.wav\n",
            "output_file_23.wav\n",
            "output_file_24.wav\n",
            "output_file_25.wav\n",
            "output_file_26.wav\n",
            "output_file_27.wav\n",
            "output_file_28.wav\n",
            "output_file_29.wav\n",
            "output_file_30.wav\n",
            "output_file_31.wav\n",
            "output_file_32.wav\n",
            "output_file_33.wav\n",
            "output_file_34.wav\n",
            "output_file_35.wav\n",
            "output_file_36.wav\n",
            "output_file_37.wav\n",
            "output_file_38.wav\n",
            "output_file_39.wav\n",
            "output_file_40.wav\n",
            "output_file_41.wav\n",
            "output_file_42.wav\n",
            "output_file_43.wav\n",
            "output_file_44.wav\n",
            "output_file_45.wav\n",
            "output_file_46.wav\n",
            "output_file_47.wav\n",
            "output_file_48.wav\n",
            "output_file_49.wav\n",
            "output_file_50.wav\n",
            "output_file_51.wav\n",
            "output_file_52.wav\n",
            "output_file_53.wav\n",
            "output_file_54.wav\n",
            "output_file_55.wav\n",
            "output_file_56.wav\n",
            "output_file_57.wav\n",
            "output_file_58.wav\n",
            "output_file_59.wav\n",
            "output_file_60.wav\n",
            "output_file_61.wav\n",
            "output_file_62.wav\n",
            "output_file_63.wav\n",
            "output_file_64.wav\n",
            "output_file_65.wav\n",
            "output_file_66.wav\n",
            "output_file_67.wav\n",
            "output_file_68.wav\n",
            "output_file_69.wav\n",
            "output_file_70.wav\n",
            "output_file_71.wav\n",
            "output_file_72.wav\n",
            "output_file_73.wav\n",
            "output_file_74.wav\n",
            "output_file_75.wav\n",
            "output_file_76.wav\n",
            "output_file_77.wav\n",
            "output_file_78.wav\n",
            "output_file_79.wav\n",
            "output_file_80.wav\n"
          ]
        }
      ]
    },
    {
      "cell_type": "code",
      "source": [],
      "metadata": {
        "id": "a73JJCXTxuSf"
      },
      "execution_count": null,
      "outputs": []
    },
    {
      "cell_type": "markdown",
      "source": [
        "# Nova varredura em todos os segmentos de áudio"
      ],
      "metadata": {
        "id": "wMSIKWB_x8cx"
      }
    },
    {
      "cell_type": "code",
      "source": [
        "lista_resultados = []\n",
        "\n",
        "#lista_de_arquivos_segmentados[:10]\n",
        "varre_lista_de_audios(lista_de_arquivos_segmentados, 20, lista_resultados)"
      ],
      "metadata": {
        "colab": {
          "base_uri": "https://localhost:8080/"
        },
        "id": "C7rUkRfxx_bg",
        "outputId": "4487af47-8367-4e56-b138-a9dba75934e6"
      },
      "execution_count": null,
      "outputs": [
        {
          "output_type": "stream",
          "name": "stdout",
          "text": [
            "Aguarde 20s...\n",
            "Interpretando o arquivo 0, output_file_0.wav\n",
            "/content/myaudios/output_file_0.wav\n",
            "Aguarde...\n",
            "A interpretação do aúdio foi concluída com sucesso!\n",
            "Extraído subtitle do arquivo 0, output_file_0.wav\n",
            "Aguarde 20s...\n",
            "Interpretando o arquivo 1, output_file_1.wav\n",
            "/content/myaudios/output_file_1.wav\n",
            "Aguarde...\n",
            "A interpretação do aúdio foi concluída com sucesso!\n",
            "Extraído subtitle do arquivo 1, output_file_1.wav\n",
            "Aguarde 20s...\n",
            "Interpretando o arquivo 2, output_file_2.wav\n",
            "/content/myaudios/output_file_2.wav\n",
            "Aguarde...\n",
            "A interpretação do aúdio foi concluída com sucesso!\n",
            "Extraído subtitle do arquivo 2, output_file_2.wav\n",
            "Aguarde 20s...\n",
            "Interpretando o arquivo 3, output_file_3.wav\n",
            "/content/myaudios/output_file_3.wav\n",
            "Aguarde...\n",
            "A interpretação do aúdio foi concluída com sucesso!\n",
            "Extraído subtitle do arquivo 3, output_file_3.wav\n",
            "Aguarde 20s...\n",
            "Interpretando o arquivo 4, output_file_4.wav\n",
            "/content/myaudios/output_file_4.wav\n",
            "Aguarde...\n",
            "Erro ao interpretar o conteudo do arquivo /content/myaudios/output_file_4.wav - \n",
            "Extraído subtitle do arquivo 4, output_file_4.wav\n",
            "Aguarde 20s...\n",
            "Interpretando o arquivo 5, output_file_5.wav\n",
            "/content/myaudios/output_file_5.wav\n",
            "Aguarde...\n",
            "A interpretação do aúdio foi concluída com sucesso!\n",
            "Extraído subtitle do arquivo 5, output_file_5.wav\n",
            "Aguarde 20s...\n",
            "Interpretando o arquivo 6, output_file_6.wav\n",
            "/content/myaudios/output_file_6.wav\n",
            "Aguarde...\n",
            "A interpretação do aúdio foi concluída com sucesso!\n",
            "Extraído subtitle do arquivo 6, output_file_6.wav\n",
            "Aguarde 20s...\n",
            "Interpretando o arquivo 7, output_file_7.wav\n",
            "/content/myaudios/output_file_7.wav\n",
            "Aguarde...\n",
            "A interpretação do aúdio foi concluída com sucesso!\n",
            "Extraído subtitle do arquivo 7, output_file_7.wav\n",
            "Aguarde 20s...\n",
            "Interpretando o arquivo 8, output_file_8.wav\n",
            "/content/myaudios/output_file_8.wav\n",
            "Aguarde...\n",
            "A interpretação do aúdio foi concluída com sucesso!\n",
            "Extraído subtitle do arquivo 8, output_file_8.wav\n",
            "Aguarde 20s...\n",
            "Interpretando o arquivo 9, output_file_9.wav\n",
            "/content/myaudios/output_file_9.wav\n",
            "Aguarde...\n",
            "A interpretação do aúdio foi concluída com sucesso!\n",
            "Extraído subtitle do arquivo 9, output_file_9.wav\n",
            "Aguarde 20s...\n",
            "Interpretando o arquivo 10, output_file_10.wav\n",
            "/content/myaudios/output_file_10.wav\n",
            "Aguarde...\n",
            "A interpretação do aúdio foi concluída com sucesso!\n",
            "Extraído subtitle do arquivo 10, output_file_10.wav\n",
            "Aguarde 20s...\n",
            "Interpretando o arquivo 11, output_file_11.wav\n",
            "/content/myaudios/output_file_11.wav\n",
            "Aguarde...\n",
            "A interpretação do aúdio foi concluída com sucesso!\n",
            "Extraído subtitle do arquivo 11, output_file_11.wav\n",
            "Aguarde 20s...\n",
            "Interpretando o arquivo 12, output_file_12.wav\n",
            "/content/myaudios/output_file_12.wav\n",
            "Aguarde...\n",
            "A interpretação do aúdio foi concluída com sucesso!\n",
            "Extraído subtitle do arquivo 12, output_file_12.wav\n",
            "Aguarde 20s...\n",
            "Interpretando o arquivo 13, output_file_13.wav\n",
            "/content/myaudios/output_file_13.wav\n",
            "Aguarde...\n",
            "A interpretação do aúdio foi concluída com sucesso!\n",
            "Extraído subtitle do arquivo 13, output_file_13.wav\n",
            "Aguarde 20s...\n",
            "Interpretando o arquivo 14, output_file_14.wav\n",
            "/content/myaudios/output_file_14.wav\n",
            "Aguarde...\n",
            "A interpretação do aúdio foi concluída com sucesso!\n",
            "Extraído subtitle do arquivo 14, output_file_14.wav\n",
            "Aguarde 20s...\n",
            "Interpretando o arquivo 15, output_file_15.wav\n",
            "/content/myaudios/output_file_15.wav\n",
            "Aguarde...\n",
            "A interpretação do aúdio foi concluída com sucesso!\n",
            "Extraído subtitle do arquivo 15, output_file_15.wav\n",
            "Aguarde 20s...\n",
            "Interpretando o arquivo 16, output_file_16.wav\n",
            "/content/myaudios/output_file_16.wav\n",
            "Aguarde...\n",
            "Erro ao interpretar o conteudo do arquivo /content/myaudios/output_file_16.wav - \n",
            "Extraído subtitle do arquivo 16, output_file_16.wav\n",
            "Aguarde 20s...\n",
            "Interpretando o arquivo 17, output_file_17.wav\n",
            "/content/myaudios/output_file_17.wav\n",
            "Aguarde...\n",
            "A interpretação do aúdio foi concluída com sucesso!\n",
            "Extraído subtitle do arquivo 17, output_file_17.wav\n",
            "Aguarde 20s...\n",
            "Interpretando o arquivo 18, output_file_18.wav\n",
            "/content/myaudios/output_file_18.wav\n",
            "Aguarde...\n",
            "Erro ao interpretar o conteudo do arquivo /content/myaudios/output_file_18.wav - \n",
            "Extraído subtitle do arquivo 18, output_file_18.wav\n",
            "Aguarde 20s...\n",
            "Interpretando o arquivo 19, output_file_19.wav\n",
            "/content/myaudios/output_file_19.wav\n",
            "Aguarde...\n",
            "A interpretação do aúdio foi concluída com sucesso!\n",
            "Extraído subtitle do arquivo 19, output_file_19.wav\n",
            "Aguarde 20s...\n",
            "Interpretando o arquivo 20, output_file_20.wav\n",
            "/content/myaudios/output_file_20.wav\n",
            "Aguarde...\n",
            "A interpretação do aúdio foi concluída com sucesso!\n",
            "Extraído subtitle do arquivo 20, output_file_20.wav\n",
            "Aguarde 20s...\n",
            "Interpretando o arquivo 21, output_file_21.wav\n",
            "/content/myaudios/output_file_21.wav\n",
            "Aguarde...\n",
            "A interpretação do aúdio foi concluída com sucesso!\n",
            "Extraído subtitle do arquivo 21, output_file_21.wav\n",
            "Aguarde 20s...\n",
            "Interpretando o arquivo 22, output_file_22.wav\n",
            "/content/myaudios/output_file_22.wav\n",
            "Aguarde...\n",
            "A interpretação do aúdio foi concluída com sucesso!\n",
            "Extraído subtitle do arquivo 22, output_file_22.wav\n",
            "Aguarde 20s...\n",
            "Interpretando o arquivo 23, output_file_23.wav\n",
            "/content/myaudios/output_file_23.wav\n",
            "Aguarde...\n",
            "A interpretação do aúdio foi concluída com sucesso!\n",
            "Extraído subtitle do arquivo 23, output_file_23.wav\n",
            "Aguarde 20s...\n",
            "Interpretando o arquivo 24, output_file_24.wav\n",
            "/content/myaudios/output_file_24.wav\n",
            "Aguarde...\n",
            "A interpretação do aúdio foi concluída com sucesso!\n",
            "Extraído subtitle do arquivo 24, output_file_24.wav\n",
            "Aguarde 20s...\n",
            "Interpretando o arquivo 25, output_file_25.wav\n",
            "/content/myaudios/output_file_25.wav\n",
            "Aguarde...\n",
            "Erro ao interpretar o conteudo do arquivo /content/myaudios/output_file_25.wav - \n",
            "Extraído subtitle do arquivo 25, output_file_25.wav\n",
            "Aguarde 20s...\n",
            "Interpretando o arquivo 26, output_file_26.wav\n",
            "/content/myaudios/output_file_26.wav\n",
            "Aguarde...\n",
            "Erro ao interpretar o conteudo do arquivo /content/myaudios/output_file_26.wav - \n",
            "Extraído subtitle do arquivo 26, output_file_26.wav\n",
            "Aguarde 20s...\n",
            "Interpretando o arquivo 27, output_file_27.wav\n",
            "/content/myaudios/output_file_27.wav\n",
            "Aguarde...\n",
            "A interpretação do aúdio foi concluída com sucesso!\n",
            "Extraído subtitle do arquivo 27, output_file_27.wav\n",
            "Aguarde 20s...\n",
            "Interpretando o arquivo 28, output_file_28.wav\n",
            "/content/myaudios/output_file_28.wav\n",
            "Aguarde...\n",
            "A interpretação do aúdio foi concluída com sucesso!\n",
            "Extraído subtitle do arquivo 28, output_file_28.wav\n",
            "Aguarde 20s...\n",
            "Interpretando o arquivo 29, output_file_29.wav\n",
            "/content/myaudios/output_file_29.wav\n",
            "Aguarde...\n",
            "A interpretação do aúdio foi concluída com sucesso!\n",
            "Extraído subtitle do arquivo 29, output_file_29.wav\n",
            "Aguarde 20s...\n",
            "Interpretando o arquivo 30, output_file_30.wav\n",
            "/content/myaudios/output_file_30.wav\n",
            "Aguarde...\n",
            "A interpretação do aúdio foi concluída com sucesso!\n",
            "Extraído subtitle do arquivo 30, output_file_30.wav\n",
            "Aguarde 20s...\n",
            "Interpretando o arquivo 31, output_file_31.wav\n",
            "/content/myaudios/output_file_31.wav\n",
            "Aguarde...\n",
            "Erro ao interpretar o conteudo do arquivo /content/myaudios/output_file_31.wav - \n",
            "Extraído subtitle do arquivo 31, output_file_31.wav\n",
            "Aguarde 20s...\n",
            "Interpretando o arquivo 32, output_file_32.wav\n",
            "/content/myaudios/output_file_32.wav\n",
            "Aguarde...\n",
            "A interpretação do aúdio foi concluída com sucesso!\n",
            "Extraído subtitle do arquivo 32, output_file_32.wav\n",
            "Aguarde 20s...\n",
            "Interpretando o arquivo 33, output_file_33.wav\n",
            "/content/myaudios/output_file_33.wav\n",
            "Aguarde...\n",
            "A interpretação do aúdio foi concluída com sucesso!\n",
            "Extraído subtitle do arquivo 33, output_file_33.wav\n",
            "Aguarde 20s...\n",
            "Interpretando o arquivo 34, output_file_34.wav\n",
            "/content/myaudios/output_file_34.wav\n",
            "Aguarde...\n",
            "A interpretação do aúdio foi concluída com sucesso!\n",
            "Extraído subtitle do arquivo 34, output_file_34.wav\n",
            "Aguarde 20s...\n",
            "Interpretando o arquivo 35, output_file_35.wav\n",
            "/content/myaudios/output_file_35.wav\n",
            "Aguarde...\n",
            "A interpretação do aúdio foi concluída com sucesso!\n",
            "Extraído subtitle do arquivo 35, output_file_35.wav\n",
            "Aguarde 20s...\n",
            "Interpretando o arquivo 36, output_file_36.wav\n",
            "/content/myaudios/output_file_36.wav\n",
            "Aguarde...\n",
            "Erro ao interpretar o conteudo do arquivo /content/myaudios/output_file_36.wav - \n",
            "Extraído subtitle do arquivo 36, output_file_36.wav\n",
            "Aguarde 20s...\n",
            "Interpretando o arquivo 37, output_file_37.wav\n",
            "/content/myaudios/output_file_37.wav\n",
            "Aguarde...\n",
            "A interpretação do aúdio foi concluída com sucesso!\n",
            "Extraído subtitle do arquivo 37, output_file_37.wav\n",
            "Aguarde 20s...\n",
            "Interpretando o arquivo 38, output_file_38.wav\n",
            "/content/myaudios/output_file_38.wav\n",
            "Aguarde...\n",
            "Erro ao interpretar o conteudo do arquivo /content/myaudios/output_file_38.wav - \n",
            "Extraído subtitle do arquivo 38, output_file_38.wav\n",
            "Aguarde 20s...\n",
            "Interpretando o arquivo 39, output_file_39.wav\n",
            "/content/myaudios/output_file_39.wav\n",
            "Aguarde...\n",
            "A interpretação do aúdio foi concluída com sucesso!\n",
            "Extraído subtitle do arquivo 39, output_file_39.wav\n",
            "Aguarde 20s...\n",
            "Interpretando o arquivo 40, output_file_40.wav\n",
            "/content/myaudios/output_file_40.wav\n",
            "Aguarde...\n",
            "A interpretação do aúdio foi concluída com sucesso!\n",
            "Extraído subtitle do arquivo 40, output_file_40.wav\n",
            "Aguarde 20s...\n",
            "Interpretando o arquivo 41, output_file_41.wav\n",
            "/content/myaudios/output_file_41.wav\n",
            "Aguarde...\n",
            "A interpretação do aúdio foi concluída com sucesso!\n",
            "Extraído subtitle do arquivo 41, output_file_41.wav\n",
            "Aguarde 20s...\n",
            "Interpretando o arquivo 42, output_file_42.wav\n",
            "/content/myaudios/output_file_42.wav\n",
            "Aguarde...\n",
            "A interpretação do aúdio foi concluída com sucesso!\n",
            "Extraído subtitle do arquivo 42, output_file_42.wav\n",
            "Aguarde 20s...\n",
            "Interpretando o arquivo 43, output_file_43.wav\n",
            "/content/myaudios/output_file_43.wav\n",
            "Aguarde...\n",
            "A interpretação do aúdio foi concluída com sucesso!\n",
            "Extraído subtitle do arquivo 43, output_file_43.wav\n",
            "Aguarde 20s...\n",
            "Interpretando o arquivo 44, output_file_44.wav\n",
            "/content/myaudios/output_file_44.wav\n",
            "Aguarde...\n",
            "A interpretação do aúdio foi concluída com sucesso!\n",
            "Extraído subtitle do arquivo 44, output_file_44.wav\n",
            "Aguarde 20s...\n",
            "Interpretando o arquivo 45, output_file_45.wav\n",
            "/content/myaudios/output_file_45.wav\n",
            "Aguarde...\n",
            "A interpretação do aúdio foi concluída com sucesso!\n",
            "Extraído subtitle do arquivo 45, output_file_45.wav\n",
            "Aguarde 20s...\n",
            "Interpretando o arquivo 46, output_file_46.wav\n",
            "/content/myaudios/output_file_46.wav\n",
            "Aguarde...\n",
            "A interpretação do aúdio foi concluída com sucesso!\n",
            "Extraído subtitle do arquivo 46, output_file_46.wav\n",
            "Aguarde 20s...\n",
            "Interpretando o arquivo 47, output_file_47.wav\n",
            "/content/myaudios/output_file_47.wav\n",
            "Aguarde...\n",
            "A interpretação do aúdio foi concluída com sucesso!\n",
            "Extraído subtitle do arquivo 47, output_file_47.wav\n",
            "Aguarde 20s...\n",
            "Interpretando o arquivo 48, output_file_48.wav\n",
            "/content/myaudios/output_file_48.wav\n",
            "Aguarde...\n",
            "Erro ao interpretar o conteudo do arquivo /content/myaudios/output_file_48.wav - \n",
            "Extraído subtitle do arquivo 48, output_file_48.wav\n",
            "Aguarde 20s...\n",
            "Interpretando o arquivo 49, output_file_49.wav\n",
            "/content/myaudios/output_file_49.wav\n",
            "Aguarde...\n",
            "A interpretação do aúdio foi concluída com sucesso!\n",
            "Extraído subtitle do arquivo 49, output_file_49.wav\n",
            "Aguarde 20s...\n",
            "Interpretando o arquivo 50, output_file_50.wav\n",
            "/content/myaudios/output_file_50.wav\n",
            "Aguarde...\n",
            "A interpretação do aúdio foi concluída com sucesso!\n",
            "Extraído subtitle do arquivo 50, output_file_50.wav\n",
            "Aguarde 20s...\n",
            "Interpretando o arquivo 51, output_file_51.wav\n",
            "/content/myaudios/output_file_51.wav\n",
            "Aguarde...\n",
            "Erro ao interpretar o conteudo do arquivo /content/myaudios/output_file_51.wav - \n",
            "Extraído subtitle do arquivo 51, output_file_51.wav\n",
            "Aguarde 20s...\n",
            "Interpretando o arquivo 52, output_file_52.wav\n",
            "/content/myaudios/output_file_52.wav\n",
            "Aguarde...\n",
            "A interpretação do aúdio foi concluída com sucesso!\n",
            "Extraído subtitle do arquivo 52, output_file_52.wav\n",
            "Aguarde 20s...\n",
            "Interpretando o arquivo 53, output_file_53.wav\n",
            "/content/myaudios/output_file_53.wav\n",
            "Aguarde...\n",
            "A interpretação do aúdio foi concluída com sucesso!\n",
            "Extraído subtitle do arquivo 53, output_file_53.wav\n",
            "Aguarde 20s...\n",
            "Interpretando o arquivo 54, output_file_54.wav\n",
            "/content/myaudios/output_file_54.wav\n",
            "Aguarde...\n",
            "A interpretação do aúdio foi concluída com sucesso!\n",
            "Extraído subtitle do arquivo 54, output_file_54.wav\n",
            "Aguarde 20s...\n",
            "Interpretando o arquivo 55, output_file_55.wav\n",
            "/content/myaudios/output_file_55.wav\n",
            "Aguarde...\n",
            "A interpretação do aúdio foi concluída com sucesso!\n",
            "Extraído subtitle do arquivo 55, output_file_55.wav\n",
            "Aguarde 20s...\n",
            "Interpretando o arquivo 56, output_file_56.wav\n",
            "/content/myaudios/output_file_56.wav\n",
            "Aguarde...\n",
            "A interpretação do aúdio foi concluída com sucesso!\n",
            "Extraído subtitle do arquivo 56, output_file_56.wav\n",
            "Aguarde 20s...\n",
            "Interpretando o arquivo 57, output_file_57.wav\n",
            "/content/myaudios/output_file_57.wav\n",
            "Aguarde...\n",
            "A interpretação do aúdio foi concluída com sucesso!\n",
            "Extraído subtitle do arquivo 57, output_file_57.wav\n",
            "Aguarde 20s...\n",
            "Interpretando o arquivo 58, output_file_58.wav\n",
            "/content/myaudios/output_file_58.wav\n",
            "Aguarde...\n",
            "A interpretação do aúdio foi concluída com sucesso!\n",
            "Extraído subtitle do arquivo 58, output_file_58.wav\n",
            "Aguarde 20s...\n",
            "Interpretando o arquivo 59, output_file_59.wav\n",
            "/content/myaudios/output_file_59.wav\n",
            "Aguarde...\n",
            "Erro ao interpretar o conteudo do arquivo /content/myaudios/output_file_59.wav - [Errno 2] No such file or directory: '/content/myaudios/output_file_59.wav'\n",
            "Extraído subtitle do arquivo 59, output_file_59.wav\n",
            "Aguarde 20s...\n",
            "Interpretando o arquivo 60, output_file_60.wav\n",
            "/content/myaudios/output_file_60.wav\n",
            "Aguarde...\n",
            "Erro ao interpretar o conteudo do arquivo /content/myaudios/output_file_60.wav - [Errno 2] No such file or directory: '/content/myaudios/output_file_60.wav'\n",
            "Extraído subtitle do arquivo 60, output_file_60.wav\n",
            "Aguarde 20s...\n",
            "Interpretando o arquivo 61, output_file_61.wav\n",
            "/content/myaudios/output_file_61.wav\n",
            "Aguarde...\n",
            "Erro ao interpretar o conteudo do arquivo /content/myaudios/output_file_61.wav - [Errno 2] No such file or directory: '/content/myaudios/output_file_61.wav'\n",
            "Extraído subtitle do arquivo 61, output_file_61.wav\n",
            "Aguarde 20s...\n",
            "Interpretando o arquivo 62, output_file_62.wav\n",
            "/content/myaudios/output_file_62.wav\n",
            "Aguarde...\n",
            "Erro ao interpretar o conteudo do arquivo /content/myaudios/output_file_62.wav - [Errno 2] No such file or directory: '/content/myaudios/output_file_62.wav'\n",
            "Extraído subtitle do arquivo 62, output_file_62.wav\n",
            "Aguarde 20s...\n",
            "Interpretando o arquivo 63, output_file_63.wav\n",
            "/content/myaudios/output_file_63.wav\n",
            "Aguarde...\n",
            "Erro ao interpretar o conteudo do arquivo /content/myaudios/output_file_63.wav - [Errno 2] No such file or directory: '/content/myaudios/output_file_63.wav'\n",
            "Extraído subtitle do arquivo 63, output_file_63.wav\n",
            "Aguarde 20s...\n",
            "Interpretando o arquivo 64, output_file_64.wav\n",
            "/content/myaudios/output_file_64.wav\n",
            "Aguarde...\n",
            "Erro ao interpretar o conteudo do arquivo /content/myaudios/output_file_64.wav - [Errno 2] No such file or directory: '/content/myaudios/output_file_64.wav'\n",
            "Extraído subtitle do arquivo 64, output_file_64.wav\n",
            "Aguarde 20s...\n",
            "Interpretando o arquivo 65, output_file_65.wav\n",
            "/content/myaudios/output_file_65.wav\n",
            "Aguarde...\n",
            "Erro ao interpretar o conteudo do arquivo /content/myaudios/output_file_65.wav - [Errno 2] No such file or directory: '/content/myaudios/output_file_65.wav'\n",
            "Extraído subtitle do arquivo 65, output_file_65.wav\n",
            "Aguarde 20s...\n",
            "Interpretando o arquivo 66, output_file_66.wav\n",
            "/content/myaudios/output_file_66.wav\n",
            "Aguarde...\n",
            "Erro ao interpretar o conteudo do arquivo /content/myaudios/output_file_66.wav - [Errno 2] No such file or directory: '/content/myaudios/output_file_66.wav'\n",
            "Extraído subtitle do arquivo 66, output_file_66.wav\n",
            "Aguarde 20s...\n",
            "Interpretando o arquivo 67, output_file_67.wav\n",
            "/content/myaudios/output_file_67.wav\n",
            "Aguarde...\n",
            "Erro ao interpretar o conteudo do arquivo /content/myaudios/output_file_67.wav - [Errno 2] No such file or directory: '/content/myaudios/output_file_67.wav'\n",
            "Extraído subtitle do arquivo 67, output_file_67.wav\n",
            "Aguarde 20s...\n",
            "Interpretando o arquivo 68, output_file_68.wav\n",
            "/content/myaudios/output_file_68.wav\n",
            "Aguarde...\n",
            "Erro ao interpretar o conteudo do arquivo /content/myaudios/output_file_68.wav - [Errno 2] No such file or directory: '/content/myaudios/output_file_68.wav'\n",
            "Extraído subtitle do arquivo 68, output_file_68.wav\n",
            "Aguarde 20s...\n",
            "Interpretando o arquivo 69, output_file_69.wav\n",
            "/content/myaudios/output_file_69.wav\n",
            "Aguarde...\n",
            "Erro ao interpretar o conteudo do arquivo /content/myaudios/output_file_69.wav - [Errno 2] No such file or directory: '/content/myaudios/output_file_69.wav'\n",
            "Extraído subtitle do arquivo 69, output_file_69.wav\n",
            "Aguarde 20s...\n",
            "Interpretando o arquivo 70, output_file_70.wav\n",
            "/content/myaudios/output_file_70.wav\n",
            "Aguarde...\n",
            "Erro ao interpretar o conteudo do arquivo /content/myaudios/output_file_70.wav - [Errno 2] No such file or directory: '/content/myaudios/output_file_70.wav'\n",
            "Extraído subtitle do arquivo 70, output_file_70.wav\n",
            "Aguarde 20s...\n",
            "Interpretando o arquivo 71, output_file_71.wav\n",
            "/content/myaudios/output_file_71.wav\n",
            "Aguarde...\n",
            "Erro ao interpretar o conteudo do arquivo /content/myaudios/output_file_71.wav - [Errno 2] No such file or directory: '/content/myaudios/output_file_71.wav'\n",
            "Extraído subtitle do arquivo 71, output_file_71.wav\n",
            "Aguarde 20s...\n",
            "Interpretando o arquivo 72, output_file_72.wav\n",
            "/content/myaudios/output_file_72.wav\n",
            "Aguarde...\n",
            "Erro ao interpretar o conteudo do arquivo /content/myaudios/output_file_72.wav - [Errno 2] No such file or directory: '/content/myaudios/output_file_72.wav'\n",
            "Extraído subtitle do arquivo 72, output_file_72.wav\n",
            "Aguarde 20s...\n",
            "Interpretando o arquivo 73, output_file_73.wav\n",
            "/content/myaudios/output_file_73.wav\n",
            "Aguarde...\n",
            "Erro ao interpretar o conteudo do arquivo /content/myaudios/output_file_73.wav - [Errno 2] No such file or directory: '/content/myaudios/output_file_73.wav'\n",
            "Extraído subtitle do arquivo 73, output_file_73.wav\n",
            "Aguarde 20s...\n",
            "Interpretando o arquivo 74, output_file_74.wav\n",
            "/content/myaudios/output_file_74.wav\n",
            "Aguarde...\n",
            "Erro ao interpretar o conteudo do arquivo /content/myaudios/output_file_74.wav - [Errno 2] No such file or directory: '/content/myaudios/output_file_74.wav'\n",
            "Extraído subtitle do arquivo 74, output_file_74.wav\n",
            "Aguarde 20s...\n",
            "Interpretando o arquivo 75, output_file_75.wav\n",
            "/content/myaudios/output_file_75.wav\n",
            "Aguarde...\n",
            "Erro ao interpretar o conteudo do arquivo /content/myaudios/output_file_75.wav - [Errno 2] No such file or directory: '/content/myaudios/output_file_75.wav'\n",
            "Extraído subtitle do arquivo 75, output_file_75.wav\n",
            "Aguarde 20s...\n",
            "Interpretando o arquivo 76, output_file_76.wav\n",
            "/content/myaudios/output_file_76.wav\n",
            "Aguarde...\n",
            "Erro ao interpretar o conteudo do arquivo /content/myaudios/output_file_76.wav - [Errno 2] No such file or directory: '/content/myaudios/output_file_76.wav'\n",
            "Extraído subtitle do arquivo 76, output_file_76.wav\n",
            "Aguarde 20s...\n",
            "Interpretando o arquivo 77, output_file_77.wav\n",
            "/content/myaudios/output_file_77.wav\n",
            "Aguarde...\n",
            "Erro ao interpretar o conteudo do arquivo /content/myaudios/output_file_77.wav - [Errno 2] No such file or directory: '/content/myaudios/output_file_77.wav'\n",
            "Extraído subtitle do arquivo 77, output_file_77.wav\n",
            "Aguarde 20s...\n",
            "Interpretando o arquivo 78, output_file_78.wav\n",
            "/content/myaudios/output_file_78.wav\n",
            "Aguarde...\n",
            "Erro ao interpretar o conteudo do arquivo /content/myaudios/output_file_78.wav - [Errno 2] No such file or directory: '/content/myaudios/output_file_78.wav'\n",
            "Extraído subtitle do arquivo 78, output_file_78.wav\n",
            "Aguarde 20s...\n",
            "Interpretando o arquivo 79, output_file_79.wav\n",
            "/content/myaudios/output_file_79.wav\n",
            "Aguarde...\n",
            "Erro ao interpretar o conteudo do arquivo /content/myaudios/output_file_79.wav - [Errno 2] No such file or directory: '/content/myaudios/output_file_79.wav'\n",
            "Extraído subtitle do arquivo 79, output_file_79.wav\n",
            "Aguarde 20s...\n",
            "Interpretando o arquivo 80, output_file_80.wav\n",
            "/content/myaudios/output_file_80.wav\n",
            "Aguarde...\n",
            "Erro ao interpretar o conteudo do arquivo /content/myaudios/output_file_80.wav - [Errno 2] No such file or directory: '/content/myaudios/output_file_80.wav'\n",
            "Extraído subtitle do arquivo 80, output_file_80.wav\n"
          ]
        }
      ]
    },
    {
      "cell_type": "code",
      "source": [
        "len(lista_resultados)"
      ],
      "metadata": {
        "colab": {
          "base_uri": "https://localhost:8080/"
        },
        "id": "DTA1sWxj5qwb",
        "outputId": "af680c17-d3ff-4272-8381-acabf82a5562"
      },
      "execution_count": null,
      "outputs": [
        {
          "output_type": "execute_result",
          "data": {
            "text/plain": [
              "81"
            ]
          },
          "metadata": {},
          "execution_count": 46
        }
      ]
    },
    {
      "cell_type": "code",
      "source": [
        "for i, each in enumerate(lista_resultados):\n",
        "  print(i, each)"
      ],
      "metadata": {
        "colab": {
          "base_uri": "https://localhost:8080/"
        },
        "id": "FUicwmzn5rQw",
        "outputId": "8e663a74-b13c-4400-8cbe-1218d7ac2d3c"
      },
      "execution_count": null,
      "outputs": [
        {
          "output_type": "stream",
          "name": "stdout",
          "text": [
            "0 uma introdução\n",
            "1 Alô Lincoln tá me ouvindo Ah beleza tava baixo aqui introdução desse texto que você colocou aí porque você colocava um texto Se você olhar no código fonte você vai ver lá do do látex\n",
            "2 você falava que o objetivo era um negócio muito etéreo né e eu fui direto o objetivo é vou voltar de novo o conceito né como eu entendo o que é E aí você me diz como você entende que é E aí a gente pode discutir E aí você tem que fazer esse entendimento que ele chegar à conclusão aqui ser refletido na tese por completo\n",
            "3 Qual é o objetivo da tese objetivo da tese é desenvolver um método automático que extraia código fonte impactado por atender essa frase Você tinha dito que não era esse objetivo era outra coisa se você abriu\n",
            "4 None\n",
            "5 eu mudei esse texto tá aqui né aliás\n",
            "6 na introdução tô no primeiro método for Dent 5S Cold Fiesta comentário\n",
            "7 códigos motivos de Monte que indicam a TD certo entrou entrou entrou ouvindo\n",
            "8 eu pensava que tava no automático Mas vamos lá o link está fazendo só umas correções aqui de conceito pode continuar ali pô não cara que é isso ave maria pode continuar o amigo Beleza beleza como é que vocês estão aí tudo bem tudo bem parte Ah tá certo mudou aqui under the Impact captei sua mensagem\n",
            "9 eu acho que é muito importante alinhar isso para não ficar dizendo uma coisa e outra coisa nesse momento referente ao objetivo da tese uma hora a gente diz uma coisa outra hora ele diz outra o que que eu tô dizendo para ele aqui na minha visão a tese dele procura um mé\n",
            "10 onde o objetivo é identificar arquivos de código fonte afetados ou impactados cultivos da técnica naturalismo obviamente que se eu identifique o arquivo que está afetado por dívida técnica cultural eu posso dizer que o sistema está sob controle diversas técnicas natural mas eu tava pensando aqui ninguém já falou\n",
            "11 também né porque porque isso aí foi como ele realizou né é isso mas mas no final das contas o que é que ele tenta fazer mesmo eu traí até para um nível acima de abstração beleza vamos lá esse é o ponto é que o objetivo foi o que foi focar em identificação de dívida técnica cultural utilizando uma abordagem que é que seja efetiva né do ponto de vista de de custo\n",
            "12 aquele negócio você pode ter um método que seja eficiente mas que não é prático né quem vai implementar e ficar só lá no paper né Beleza então nesse caso mano nós temos que alinhar todo lugar onde aparece não deixa esse entendimento impactado por atender eu concordo mesmo então o cara tá falando o teu método é um método automático para identifica\n",
            "13 aí você tem que caminhar realmente no texto fica meio subentendido afetados por até não fica direto assim afetado para vender identificou o código impactado por a TV Ela tá errada redefinir o que você tem que colocar o seguinte\n",
            "14 uma abordagem automática para identificação de dívida técnica natural e ser um impacto nos arquivos de código fonte Ah então vai ter que mudar Vai ter que mudar o código identificado identificar o código do espaço identificar tinta técnica cultural que os impactos dela não\n",
            "15 vai ter que mudar isso aí tá bom em algum momento você parece um bom objetivo na produção você fala várias vezes qualquer objetivo da tese e em cada lugar tem uma perspectiva diferente entendeu\n",
            "16 None\n",
            "17 quer sair de novo isso é a solução e tal acho que um tiro tem que ser um pouco mais\n",
            "18 None\n",
            "19 a única coisa que eu consegui medir foi o percentual de mudança que os códigos impactados por atender tiveram relação ao repositório como um todo só isso mas aumente o midi fica muito é melhor tirar o medir porque senão você vai dizer quantos por cento de atender você encontro\n",
            "20 eu não consigo mensurar isso fora não dá para medir Quanto tem que ser pago isso aí pode ser feito pelo\n",
            "21 é um modelo um reportagem né sistemática ou automatizado eficiente para identificação de dívida técnica arquitetural isso toda vez que você fala um objetivo da tese você tem que dizer isso você não pode dizer outra coisa você vai dizer como foi feito isso nós utilizamos nós fizemos isso através da análise Histórica de repositório\n",
            "22 arrematada ali no final\n",
            "23 para deixar alinhado com o problema que você tá encontrando porque você tá vendo Aí ó nossa pesquisa tal você tá dizendo como foi feito não não tá ligado muito comum ok né assim tipo qual o problema por trás ele tá tacando não ficou muito Claro aí você tá falando aqui ó período que você tá gripando aí você fala que tem vários\n",
            "24 identificação de atender e aí você pode falar tudo esse outro resto aí mas identificação porque você colocar a identificação e monitoramento com problema de acumulação esse curso não sei o quê\n",
            "25 None\n",
            "26 None\n",
            "27 certo então esses achados aqui eu tenho que tirar depois eu não tô dizendo que você tem que tirar eu tô dizendo aqui não é o objetivo da tese só apresentar os achados Qual objetivo da tese resolver um problema aí né Ah tá bom\n",
            "28 cadê\n",
            "29 como é que eu vou apresentar um problema para que um carro resolve esse problema o problema é o seguinte Olha Nos Tempos da idade média você os homens estavam sujeitas intermédios do mundo então se proteger é o momento que se locomovia era um grande desafio Eno\n",
            "30 Qual o problema se locomover e se proteger da chuva e dos animais Ele é aquele negócio não precisa dizer como resolver né Aí você não disse como uma vez não deu problema no tempo localizar esse problema aqui também viu como é que esses dois resolver isso aqui aí lá você vai dar né no contexto aí eu acho que você deveria contextualizar de uma outra forma se dá um problema dele imagina\n",
            "31 None\n",
            "32 mas eu acho que aí você poderia colocar também que esse tipo de som que você tá olhando ele só precisa colocar mais contente né ele acontece dentro da indústria como no ambiente de pessoas né porque esse é o contexto dos seus dentes desse espetáculo e outro contexto especificamente eu acho que é mais que nós estamos atrás\n",
            "33 identificar dívida técnica cultural em projeto de larga escala de solda Qual foi o contexto quem é que eu não falei para atualizar mais que aí você bota como a nota de rodapé o que que é um projeto de larga escala é até você dizer que é distribuído tem várias pessoas geralmente Você não pode confiar na documentação e E aí você esse contexto\n",
            "34 não estão trabalhando sincronizado e esse é o contexto você quer resolver onde você não tem informação outra confiável né isso e a parte arquitetura também ela é muito ela é muito ela levando eles em vários sites né Por muitas pessoas é distribuído aí os pensamentos expressos e aí você contemporiza que o teu problema além daquele que é Geral de Justiça técnica virtual quando você olha no\n",
            "35 Como acender peças então contexto aqui nesse negócio aqui esse problema ainda é pior você quer no final quando você quer dizer que nesse contexto aqui é tudo mais complicado aí fica bom talvez nem preciso falar de uma pessoa\n",
            "36 None\n",
            "37 da Ericsson lá motivação eu inspirei no paper Multilaser\n",
            "38 None\n",
            "39 Tem que focar no que é o que tá ali de novo mas se você for olhar como como eu escrevi aí você vai ver que tá lá é tudo pode né continuação e motivação o problema é problema e ET\n",
            "40 melhorar o entendimento de atender se envolvendo motocicleta ajuda a entender o título né uma vez que a gente definiu o alinhamento do que\n",
            "41 aqui foi porque eu quis deixar super entendido de que foi necessário fazer um estudo mais aprofundado e o método surgiu a partir desse estudo Eu acho que eu me eu me expressei mal aqui entendeu\n",
            "42 Focus blá blá blá certo\n",
            "43 aí eu acabei não explicando isso nunca disse\n",
            "44 Eu só comentei isso acho que lá na parte do professor de design que aqui tem que fazer a minha sugestão vai ter que explicar Eu sempre gosto de fazer isso cara é fazer uma reflexão sobre por trás dessa pergunta que você fez r\n",
            "45 então tem muita publicação a gente precisa construir um corpo de entendimento e tal e tal e ele pode dizer que aí você pode dizer nessa explicação da rq1 você vai\n",
            "46 nós conduzimos uma revisão sistemática e não sabe bater pelo nosso estado explicado no capítulo 4 em algum momento você bota uma tabela de tempo ou diz no próprio capítulo que isso aqui é um peido foi publicado em algum lugar na hora que você ameaçar o revisor não perder não tá o cara aí cara esse cara tá cheio né\n",
            "47 identificar as oportunidades de pesquisa os tempos é que tá falando entendeu por trás dessa questão alguma dessas coisas aí é claro que já tem aí né agora a questão 2 percebe que ela\n",
            "48 None\n",
            "49 fazer uma um Advogado do Diabo né fosse assim como identificar de forma sistemática e confiável tinta técnica textual Como identificar Você tá entendendo nada se não pergunta ele já diz a resposta a gente vai usar código\n",
            "50 Nós consideramos apenas arquivos fonte porque tem um problema do contexto que eu citei ali na sessão passada que a documentação é vaca você Manteve problema de conformidade articular é um problema recorrente então sempre há um descolamento entre a documentação e o código então o artefato mais atual é sempre o código então nós se escrevemos\n",
            "51 None\n",
            "52 é porque aquilo uma vez que naquele 1 eu já sei quais são os principais desafios e você encontrar a dívida técnica cultural né que o pessoal usa do Especialista a documentação ela é defasada\n",
            "53 é um problema que está dissipado de forma transversal em todo o projeto de desenvolvimento não é um aspecto difícil né Aí eu quero responder uma coisa mais específica que é eu poderia fazer a documentação poderia fazer no processo mas eu quero atacar o repositório de código então por isso que eu coloquei o senhor esconde Netflix na própria pergunta né\n",
            "54 agora a gente tá saindo da escrita dos artigos que elas essa pergunta para o artigo tava Ok porque o título do artigo inclusive é assim né tipo da tese a gente tá querendo fazer uma coisa mais alto deixar mais abstrato né a gente tá falando agora quer dizer assim se você botou no título aquelas duas palavras sistemática confiável né Ela deveria ficar perguntando\n",
            "55 como se escreve tá a nosso caso você vai voltar ao contexto dos problemas que o sistema de placa escala tem se repete de problema e diz ó é sistemática Porque nós não vamos analisar apenas o repositório de código de forma automática e é confiável porque a informação\n",
            "56 Alô Ricardo Limpo tá na área eu tô aqui um pouquinho que a gente pesquisa e aí dentro do artigo Você pode ter\n",
            "57 as questões do artigo que Teoricamente são como se fossem assuntos questões essa questão da tese entendeu é exato quer dizer mas lá embaixo na figura ele diz como é que ela responde direito que é 2 artigo tal artigo tal tá entendendo Com certeza OK Google aqui ainda tá a questão 2 como sendo identificar de arquivo de código eu acho\n",
            "58 poderia ser mais genérica né mas é mais abstrata né mais alto nível sistematizar e automatizar o que foi que eu fiz isso\n",
            "59 None\n",
            "60 None\n",
            "61 None\n",
            "62 None\n",
            "63 None\n",
            "64 None\n",
            "65 None\n",
            "66 None\n",
            "67 None\n",
            "68 None\n",
            "69 None\n",
            "70 None\n",
            "71 None\n",
            "72 None\n",
            "73 None\n",
            "74 None\n",
            "75 None\n",
            "76 None\n",
            "77 None\n",
            "78 None\n",
            "79 None\n",
            "80 None\n"
          ]
        }
      ]
    },
    {
      "cell_type": "code",
      "source": [
        "for i, each in enumerate(lista_resultados):\n",
        "  if each:\n",
        "    print(each)"
      ],
      "metadata": {
        "colab": {
          "base_uri": "https://localhost:8080/"
        },
        "id": "IklC5BdD5upI",
        "outputId": "b19c1479-5bc5-444e-a671-754316f82ad3"
      },
      "execution_count": null,
      "outputs": [
        {
          "output_type": "stream",
          "name": "stdout",
          "text": [
            "uma introdução\n",
            "Alô Lincoln tá me ouvindo Ah beleza tava baixo aqui introdução desse texto que você colocou aí porque você colocava um texto Se você olhar no código fonte você vai ver lá do do látex\n",
            "você falava que o objetivo era um negócio muito etéreo né e eu fui direto o objetivo é vou voltar de novo o conceito né como eu entendo o que é E aí você me diz como você entende que é E aí a gente pode discutir E aí você tem que fazer esse entendimento que ele chegar à conclusão aqui ser refletido na tese por completo\n",
            "Qual é o objetivo da tese objetivo da tese é desenvolver um método automático que extraia código fonte impactado por atender essa frase Você tinha dito que não era esse objetivo era outra coisa se você abriu\n",
            "eu mudei esse texto tá aqui né aliás\n",
            "na introdução tô no primeiro método for Dent 5S Cold Fiesta comentário\n",
            "códigos motivos de Monte que indicam a TD certo entrou entrou entrou ouvindo\n",
            "eu pensava que tava no automático Mas vamos lá o link está fazendo só umas correções aqui de conceito pode continuar ali pô não cara que é isso ave maria pode continuar o amigo Beleza beleza como é que vocês estão aí tudo bem tudo bem parte Ah tá certo mudou aqui under the Impact captei sua mensagem\n",
            "eu acho que é muito importante alinhar isso para não ficar dizendo uma coisa e outra coisa nesse momento referente ao objetivo da tese uma hora a gente diz uma coisa outra hora ele diz outra o que que eu tô dizendo para ele aqui na minha visão a tese dele procura um mé\n",
            "onde o objetivo é identificar arquivos de código fonte afetados ou impactados cultivos da técnica naturalismo obviamente que se eu identifique o arquivo que está afetado por dívida técnica cultural eu posso dizer que o sistema está sob controle diversas técnicas natural mas eu tava pensando aqui ninguém já falou\n",
            "também né porque porque isso aí foi como ele realizou né é isso mas mas no final das contas o que é que ele tenta fazer mesmo eu traí até para um nível acima de abstração beleza vamos lá esse é o ponto é que o objetivo foi o que foi focar em identificação de dívida técnica cultural utilizando uma abordagem que é que seja efetiva né do ponto de vista de de custo\n",
            "aquele negócio você pode ter um método que seja eficiente mas que não é prático né quem vai implementar e ficar só lá no paper né Beleza então nesse caso mano nós temos que alinhar todo lugar onde aparece não deixa esse entendimento impactado por atender eu concordo mesmo então o cara tá falando o teu método é um método automático para identifica\n",
            "aí você tem que caminhar realmente no texto fica meio subentendido afetados por até não fica direto assim afetado para vender identificou o código impactado por a TV Ela tá errada redefinir o que você tem que colocar o seguinte\n",
            "uma abordagem automática para identificação de dívida técnica natural e ser um impacto nos arquivos de código fonte Ah então vai ter que mudar Vai ter que mudar o código identificado identificar o código do espaço identificar tinta técnica cultural que os impactos dela não\n",
            "vai ter que mudar isso aí tá bom em algum momento você parece um bom objetivo na produção você fala várias vezes qualquer objetivo da tese e em cada lugar tem uma perspectiva diferente entendeu\n",
            "quer sair de novo isso é a solução e tal acho que um tiro tem que ser um pouco mais\n",
            "a única coisa que eu consegui medir foi o percentual de mudança que os códigos impactados por atender tiveram relação ao repositório como um todo só isso mas aumente o midi fica muito é melhor tirar o medir porque senão você vai dizer quantos por cento de atender você encontro\n",
            "eu não consigo mensurar isso fora não dá para medir Quanto tem que ser pago isso aí pode ser feito pelo\n",
            "é um modelo um reportagem né sistemática ou automatizado eficiente para identificação de dívida técnica arquitetural isso toda vez que você fala um objetivo da tese você tem que dizer isso você não pode dizer outra coisa você vai dizer como foi feito isso nós utilizamos nós fizemos isso através da análise Histórica de repositório\n",
            "arrematada ali no final\n",
            "para deixar alinhado com o problema que você tá encontrando porque você tá vendo Aí ó nossa pesquisa tal você tá dizendo como foi feito não não tá ligado muito comum ok né assim tipo qual o problema por trás ele tá tacando não ficou muito Claro aí você tá falando aqui ó período que você tá gripando aí você fala que tem vários\n",
            "identificação de atender e aí você pode falar tudo esse outro resto aí mas identificação porque você colocar a identificação e monitoramento com problema de acumulação esse curso não sei o quê\n",
            "certo então esses achados aqui eu tenho que tirar depois eu não tô dizendo que você tem que tirar eu tô dizendo aqui não é o objetivo da tese só apresentar os achados Qual objetivo da tese resolver um problema aí né Ah tá bom\n",
            "cadê\n",
            "como é que eu vou apresentar um problema para que um carro resolve esse problema o problema é o seguinte Olha Nos Tempos da idade média você os homens estavam sujeitas intermédios do mundo então se proteger é o momento que se locomovia era um grande desafio Eno\n",
            "Qual o problema se locomover e se proteger da chuva e dos animais Ele é aquele negócio não precisa dizer como resolver né Aí você não disse como uma vez não deu problema no tempo localizar esse problema aqui também viu como é que esses dois resolver isso aqui aí lá você vai dar né no contexto aí eu acho que você deveria contextualizar de uma outra forma se dá um problema dele imagina\n",
            "mas eu acho que aí você poderia colocar também que esse tipo de som que você tá olhando ele só precisa colocar mais contente né ele acontece dentro da indústria como no ambiente de pessoas né porque esse é o contexto dos seus dentes desse espetáculo e outro contexto especificamente eu acho que é mais que nós estamos atrás\n",
            "identificar dívida técnica cultural em projeto de larga escala de solda Qual foi o contexto quem é que eu não falei para atualizar mais que aí você bota como a nota de rodapé o que que é um projeto de larga escala é até você dizer que é distribuído tem várias pessoas geralmente Você não pode confiar na documentação e E aí você esse contexto\n",
            "não estão trabalhando sincronizado e esse é o contexto você quer resolver onde você não tem informação outra confiável né isso e a parte arquitetura também ela é muito ela é muito ela levando eles em vários sites né Por muitas pessoas é distribuído aí os pensamentos expressos e aí você contemporiza que o teu problema além daquele que é Geral de Justiça técnica virtual quando você olha no\n",
            "Como acender peças então contexto aqui nesse negócio aqui esse problema ainda é pior você quer no final quando você quer dizer que nesse contexto aqui é tudo mais complicado aí fica bom talvez nem preciso falar de uma pessoa\n",
            "da Ericsson lá motivação eu inspirei no paper Multilaser\n",
            "Tem que focar no que é o que tá ali de novo mas se você for olhar como como eu escrevi aí você vai ver que tá lá é tudo pode né continuação e motivação o problema é problema e ET\n",
            "melhorar o entendimento de atender se envolvendo motocicleta ajuda a entender o título né uma vez que a gente definiu o alinhamento do que\n",
            "aqui foi porque eu quis deixar super entendido de que foi necessário fazer um estudo mais aprofundado e o método surgiu a partir desse estudo Eu acho que eu me eu me expressei mal aqui entendeu\n",
            "Focus blá blá blá certo\n",
            "aí eu acabei não explicando isso nunca disse\n",
            "Eu só comentei isso acho que lá na parte do professor de design que aqui tem que fazer a minha sugestão vai ter que explicar Eu sempre gosto de fazer isso cara é fazer uma reflexão sobre por trás dessa pergunta que você fez r\n",
            "então tem muita publicação a gente precisa construir um corpo de entendimento e tal e tal e ele pode dizer que aí você pode dizer nessa explicação da rq1 você vai\n",
            "nós conduzimos uma revisão sistemática e não sabe bater pelo nosso estado explicado no capítulo 4 em algum momento você bota uma tabela de tempo ou diz no próprio capítulo que isso aqui é um peido foi publicado em algum lugar na hora que você ameaçar o revisor não perder não tá o cara aí cara esse cara tá cheio né\n",
            "identificar as oportunidades de pesquisa os tempos é que tá falando entendeu por trás dessa questão alguma dessas coisas aí é claro que já tem aí né agora a questão 2 percebe que ela\n",
            "fazer uma um Advogado do Diabo né fosse assim como identificar de forma sistemática e confiável tinta técnica textual Como identificar Você tá entendendo nada se não pergunta ele já diz a resposta a gente vai usar código\n",
            "Nós consideramos apenas arquivos fonte porque tem um problema do contexto que eu citei ali na sessão passada que a documentação é vaca você Manteve problema de conformidade articular é um problema recorrente então sempre há um descolamento entre a documentação e o código então o artefato mais atual é sempre o código então nós se escrevemos\n",
            "é porque aquilo uma vez que naquele 1 eu já sei quais são os principais desafios e você encontrar a dívida técnica cultural né que o pessoal usa do Especialista a documentação ela é defasada\n",
            "é um problema que está dissipado de forma transversal em todo o projeto de desenvolvimento não é um aspecto difícil né Aí eu quero responder uma coisa mais específica que é eu poderia fazer a documentação poderia fazer no processo mas eu quero atacar o repositório de código então por isso que eu coloquei o senhor esconde Netflix na própria pergunta né\n",
            "agora a gente tá saindo da escrita dos artigos que elas essa pergunta para o artigo tava Ok porque o título do artigo inclusive é assim né tipo da tese a gente tá querendo fazer uma coisa mais alto deixar mais abstrato né a gente tá falando agora quer dizer assim se você botou no título aquelas duas palavras sistemática confiável né Ela deveria ficar perguntando\n",
            "como se escreve tá a nosso caso você vai voltar ao contexto dos problemas que o sistema de placa escala tem se repete de problema e diz ó é sistemática Porque nós não vamos analisar apenas o repositório de código de forma automática e é confiável porque a informação\n",
            "Alô Ricardo Limpo tá na área eu tô aqui um pouquinho que a gente pesquisa e aí dentro do artigo Você pode ter\n",
            "as questões do artigo que Teoricamente são como se fossem assuntos questões essa questão da tese entendeu é exato quer dizer mas lá embaixo na figura ele diz como é que ela responde direito que é 2 artigo tal artigo tal tá entendendo Com certeza OK Google aqui ainda tá a questão 2 como sendo identificar de arquivo de código eu acho\n",
            "poderia ser mais genérica né mas é mais abstrata né mais alto nível sistematizar e automatizar o que foi que eu fiz isso\n"
          ]
        }
      ]
    },
    {
      "cell_type": "code",
      "source": [],
      "metadata": {
        "id": "0dPBS8qv6FKK"
      },
      "execution_count": null,
      "outputs": []
    }
  ]
}
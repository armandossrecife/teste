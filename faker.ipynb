{
  "nbformat": 4,
  "nbformat_minor": 0,
  "metadata": {
    "colab": {
      "provenance": [],
      "authorship_tag": "ABX9TyOYT/WU5DtIOyg/nD0WJDip",
      "include_colab_link": true
    },
    "kernelspec": {
      "name": "python3",
      "display_name": "Python 3"
    },
    "language_info": {
      "name": "python"
    }
  },
  "cells": [
    {
      "cell_type": "markdown",
      "metadata": {
        "id": "view-in-github",
        "colab_type": "text"
      },
      "source": [
        "<a href=\"https://colab.research.google.com/github/armandossrecife/teste/blob/main/faker.ipynb\" target=\"_parent\"><img src=\"https://colab.research.google.com/assets/colab-badge.svg\" alt=\"Open In Colab\"/></a>"
      ]
    },
    {
      "cell_type": "code",
      "execution_count": 1,
      "metadata": {
        "colab": {
          "base_uri": "https://localhost:8080/"
        },
        "id": "ITaL0fvU133F",
        "outputId": "cfbb1451-e511-4bdb-c4ab-87c4859b530e"
      },
      "outputs": [
        {
          "output_type": "stream",
          "name": "stdout",
          "text": [
            "Collecting Faker\n",
            "  Downloading Faker-28.4.1-py3-none-any.whl.metadata (15 kB)\n",
            "Requirement already satisfied: python-dateutil>=2.4 in /usr/local/lib/python3.10/dist-packages (from Faker) (2.8.2)\n",
            "Requirement already satisfied: six>=1.5 in /usr/local/lib/python3.10/dist-packages (from python-dateutil>=2.4->Faker) (1.16.0)\n",
            "Downloading Faker-28.4.1-py3-none-any.whl (1.8 MB)\n",
            "\u001b[?25l   \u001b[90m━━━━━━━━━━━━━━━━━━━━━━━━━━━━━━━━━━━━━━━━\u001b[0m \u001b[32m0.0/1.8 MB\u001b[0m \u001b[31m?\u001b[0m eta \u001b[36m-:--:--\u001b[0m\r\u001b[2K   \u001b[91m━━━━━━━━━━━━━━━━━━━━━━━━━━━━\u001b[0m\u001b[90m╺\u001b[0m\u001b[90m━━━━━━━━━━━\u001b[0m \u001b[32m1.3/1.8 MB\u001b[0m \u001b[31m34.2 MB/s\u001b[0m eta \u001b[36m0:00:01\u001b[0m\r\u001b[2K   \u001b[91m━━━━━━━━━━━━━━━━━━━━━━━━━━━━━━━━━━━━━━━\u001b[0m\u001b[91m╸\u001b[0m \u001b[32m1.8/1.8 MB\u001b[0m \u001b[31m27.2 MB/s\u001b[0m eta \u001b[36m0:00:01\u001b[0m\r\u001b[2K   \u001b[90m━━━━━━━━━━━━━━━━━━━━━━━━━━━━━━━━━━━━━━━━\u001b[0m \u001b[32m1.8/1.8 MB\u001b[0m \u001b[31m18.5 MB/s\u001b[0m eta \u001b[36m0:00:00\u001b[0m\n",
            "\u001b[?25hInstalling collected packages: Faker\n",
            "Successfully installed Faker-28.4.1\n"
          ]
        }
      ],
      "source": [
        "!pip install Faker"
      ]
    },
    {
      "cell_type": "code",
      "source": [
        "from faker import Faker\n",
        "import datetime\n",
        "import random\n",
        "import csv"
      ],
      "metadata": {
        "id": "ALbHJwf017yD"
      },
      "execution_count": 11,
      "outputs": []
    },
    {
      "cell_type": "code",
      "source": [
        "# Crie uma instância do Faker\n",
        "fake = Faker()\n",
        "# Gere um nome fictício\n",
        "nome = fake.name()\n",
        "# Gere um endereço fictício\n",
        "endereco = fake.address()\n",
        "# Gere um número de telefone fictício\n",
        "telefone = fake.phone_number()\n",
        "# Gere uma data de nascimento fictícia\n",
        "data_de_nascimento = fake.date_of_birth(minimum_age=18, maximum_age=65)\n",
        "# Imprima os dados fictícios\n",
        "print(\"Nome: \", nome)\n",
        "print(\"Endereço: \", endereco)\n",
        "print(\"Telefone: \", telefone)\n",
        "print(\"Data de Nascimento: \", data_de_nascimento)"
      ],
      "metadata": {
        "colab": {
          "base_uri": "https://localhost:8080/"
        },
        "id": "YdOuWNj42HSE",
        "outputId": "1ca84fde-7898-4efd-cde0-cb6cbe2f2373"
      },
      "execution_count": 10,
      "outputs": [
        {
          "output_type": "stream",
          "name": "stdout",
          "text": [
            "Nome:  Brian Martinez\n",
            "Endereço:  83683 Simmons Trace Apt. 637\n",
            "Berryton, VI 34464\n",
            "Telefone:  478.403.2251x7304\n",
            "Data de Nascimento:  1989-07-21\n"
          ]
        }
      ]
    },
    {
      "cell_type": "code",
      "source": [
        "# Set the number of rows to generate\n",
        "num_rows = 1000000\n",
        "\n",
        "# Define the column headers\n",
        "headers = [\"date\", \"name\", \"age\", \"city\", \"state\",\n",
        "                          \"fare\", \"gender\", \"occupation\"]"
      ],
      "metadata": {
        "id": "UEi_hjG-2X0N"
      },
      "execution_count": 12,
      "outputs": []
    },
    {
      "cell_type": "code",
      "source": [
        "CITIES = [\n",
        "    \"New York\",\n",
        "    \"Los Angeles\",\n",
        "    \"Chicago\",\n",
        "    \"Houston\",\n",
        "    \"Phoenix\",\n",
        "    \"Philadelphia\",\n",
        "    \"San Antonio\",\n",
        "    \"San Diego\",\n",
        "    \"Dallas\",\n",
        "    \"San Jose\",\n",
        "    \"Austin\",\n",
        "    \"Jacksonville\",\n",
        "    \"Fort Worth\",\n",
        "    \"Columbus\",\n",
        "    \"San Francisco\",\n",
        "    \"Charlotte\",\n",
        "    \"Indianapolis\",\n",
        "    \"Seattle\",\n",
        "    \"Denver\",\n",
        "    \"Washington\",\n",
        "    \"Boston\",\n",
        "    \"Nashville\",\n",
        "    \"El Paso\",\n",
        "    \"Detroit\",\n",
        "    \"Memphis\",\n",
        "    \"Portland\",\n",
        "    \"Oklahoma City\",\n",
        "    \"Las Vegas\",\n",
        "    \"Louisville\",\n",
        "    \"Baltimore\",\n",
        "    \"Milwaukee\",\n",
        "    \"Albuquerque\",\n",
        "    \"Tucson\",\n",
        "    \"Fresno\",\n",
        "    \"Mesa\",\n",
        "    \"Sacramento\",\n",
        "    \"Atlanta\",\n",
        "    \"Kansas City\",\n",
        "    \"Colorado Springs\",\n",
        "    \"Miami\",\n",
        "    \"Raleigh\",\n",
        "    \"Omaha\",\n",
        "    \"Long Beach\",\n",
        "    \"Virginia Beach\",\n",
        "    \"Oakland\",\n",
        "    \"Minneapolis\",\n",
        "    \"Tulsa\",\n",
        "    \"Wichita\",\n",
        "    \"New Orleans\",\n",
        "    \"Arlington\",\n",
        "]\n",
        "\n",
        "STATES = [\n",
        "    \"Alabama\",\n",
        "    \"Alaska\",\n",
        "    \"Arizona\",\n",
        "    \"Arkansas\",\n",
        "    \"California\",\n",
        "    \"Colorado\",\n",
        "    \"Connecticut\",\n",
        "    \"Delaware\",\n",
        "    \"Florida\",\n",
        "    \"Georgia\",\n",
        "    \"Hawaii\",\n",
        "    \"Idaho\",\n",
        "    \"Illinois\",\n",
        "    \"Indiana\",\n",
        "    \"Iowa\",\n",
        "    \"Kansas\",\n",
        "    \"Kentucky\",\n",
        "    \"Louisiana\",\n",
        "    \"Maine\",\n",
        "    \"Maryland\",\n",
        "    \"Massachusetts\",\n",
        "    \"Michigan\",\n",
        "    \"Minnesota\",\n",
        "    \"Mississippi\",\n",
        "    \"Missouri\",\n",
        "    \"Montana\",\n",
        "    \"Nebraska\",\n",
        "    \"Nevada\",\n",
        "    \"New Hampshire\",\n",
        "    \"New Jersey\",\n",
        "    \"New Mexico\",\n",
        "    \"New York\",\n",
        "    \"North Carolina\",\n",
        "    \"North Dakota\",\n",
        "    \"Ohio\",\n",
        "    \"Oklahoma\",\n",
        "    \"Oregon\",\n",
        "    \"Pennsylvania\",\n",
        "    \"Rhode Island\",\n",
        "    \"South Carolina\",\n",
        "    \"South Dakota\",\n",
        "    \"Tennessee\",\n",
        "    \"Texas\",\n",
        "    \"Utah\",\n",
        "    \"Vermont\",\n",
        "    \"Virginia\",\n",
        "    \"Washington\",\n",
        "    \"West Virginia\",\n",
        "    \"Wisconsin\",\n",
        "    \"Wyoming\",\n",
        "]\n",
        "\n",
        "OCCUPATIONS = [\n",
        "    \"Software Engineer\",\n",
        "    \"Data Scientist\",\n",
        "    \"Teacher\",\n",
        "    \"Nurse\",\n",
        "    \"Doctor\",\n",
        "    \"Lawyer\",\n",
        "    \"Accountant\",\n",
        "    \"Sales Manager\",\n",
        "    \"Marketing Specialist\",\n",
        "    \"Writer\",\n",
        "    \"Chef\",\n",
        "    \"Electrician\",\n",
        "    \"Plumber\",\n",
        "    \"Mechanic\",\n",
        "    \"Architect\",\n",
        "    \"Artist\",\n",
        "    \"Musician\",\n",
        "    \"Pilot\",\n",
        "    \"Police Officer\",\n",
        "    \"Firefighter\",\n",
        "]"
      ],
      "metadata": {
        "id": "ZixFkJP62qyN"
      },
      "execution_count": 13,
      "outputs": []
    },
    {
      "cell_type": "code",
      "source": [
        "# Open a new CSV file for writing\n",
        "with open(\"input.csv\", \"w\", newline=\"\") as csvfile:\n",
        "    writer = csv.writer(csvfile)\n",
        "\n",
        "    # Write the header row\n",
        "    writer.writerow(headers)\n",
        "\n",
        "    # Generate fake data and write to the CSV file\n",
        "    for i in range(num_rows):\n",
        "        # Generate a fake date between 2020 and 2023\n",
        "        date = fake.date_between_dates(\n",
        "            date_start=datetime.date(2020, 1, 1),\n",
        "                                date_end=datetime.date(2023, 12, 31)\n",
        "        )\n",
        "\n",
        "        # Generate a fake name\n",
        "        name = fake.name()\n",
        "\n",
        "        # Generate a random age between 18 and 80\n",
        "        age = random.randint(18, 80)\n",
        "\n",
        "        # Generate a fake city and state\n",
        "        city = random.choice(CITIES)\n",
        "        state = random.choice(STATES)\n",
        "\n",
        "        # Generate a random fare between 10 and 100\n",
        "        fare = round(random.uniform(10, 100), 2)\n",
        "\n",
        "        # Generate a random gender\n",
        "        gender = random.choice([\"Male\", \"Female\"])\n",
        "\n",
        "        # Generate a random occupation\n",
        "        occupation = random.choice(OCCUPATIONS)\n",
        "\n",
        "        # Write the data to the CSV file\n",
        "        writer.writerow([date, name, age, city,\n",
        "                             state, fare, gender, occupation])"
      ],
      "metadata": {
        "id": "F_AZnwuA2rip"
      },
      "execution_count": 14,
      "outputs": []
    }
  ]
}
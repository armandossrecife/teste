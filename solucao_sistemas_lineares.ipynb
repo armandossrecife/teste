{
  "nbformat": 4,
  "nbformat_minor": 0,
  "metadata": {
    "colab": {
      "provenance": [],
      "authorship_tag": "ABX9TyOLPrwoKxEpYsaMqg3ovAro",
      "include_colab_link": true
    },
    "kernelspec": {
      "name": "python3",
      "display_name": "Python 3"
    },
    "language_info": {
      "name": "python"
    }
  },
  "cells": [
    {
      "cell_type": "markdown",
      "metadata": {
        "id": "view-in-github",
        "colab_type": "text"
      },
      "source": [
        "<a href=\"https://colab.research.google.com/github/armandossrecife/teste/blob/main/solucao_sistemas_lineares.ipynb\" target=\"_parent\"><img src=\"https://colab.research.google.com/assets/colab-badge.svg\" alt=\"Open In Colab\"/></a>"
      ]
    },
    {
      "cell_type": "markdown",
      "source": [
        "# Usando a regra de Cramer para resolver sistemas lineares\n",
        "\n",
        "https://pt.wikipedia.org/wiki/Regra_de_Cramer"
      ],
      "metadata": {
        "id": "QDizgr0Rrvtn"
      }
    },
    {
      "cell_type": "code",
      "execution_count": 39,
      "metadata": {
        "colab": {
          "base_uri": "https://localhost:8080/"
        },
        "id": "TV6xTwgvnxqL",
        "outputId": "ffe8ff28-c723-4e83-99ab-6068e2525b28"
      },
      "outputs": [
        {
          "output_type": "stream",
          "name": "stdout",
          "text": [
            "Matriz A:  [[2 1]\n",
            " [1 2]]\n",
            "Matriz b [5 4]\n",
            "O sistema tem uma solução única.\n",
            "x = 2.0\n",
            "y = 1.0\n"
          ]
        }
      ],
      "source": [
        "import numpy as np\n",
        "\n",
        "# Solução de sistemas lineares usando a regra de Cramer\n",
        "# Sistema de equações com duas incognitas:\n",
        "# 2x + y = 5\n",
        "# x + 2y = 4\n",
        "\n",
        "# 2 1 5\n",
        "# 1 2 4\n",
        "\n",
        "# matriz A\n",
        "A = np.array([[2, 1], [1, 2]])\n",
        "print(\"Matriz A: \", A)\n",
        "\n",
        "# matriz b\n",
        "b = np.array([5, 4])\n",
        "print(\"Matriz b\", b)\n",
        "\n",
        "# Calcula o determinante de A\n",
        "det_A = np.linalg.det(A)\n",
        "\n",
        "if det_A == 0:\n",
        "    print(\"O sistema não tem solução única.\")\n",
        "else:\n",
        "    print(\"O sistema tem uma solução única.\")\n",
        "\n",
        "# Criar novas matrizes substituindo as colunas da matriz de coeficientes\n",
        "# pelo vetor de termos independentes\n",
        "A1 = np.array([[5, 1], [4, 2]])\n",
        "A2 = np.array([[2, 5], [1, 4]])\n",
        "\n",
        "# Calcula os determinantes das novas matrizes A1 e A2\n",
        "det_A1 = np.linalg.det(A1)\n",
        "det_A2 = np.linalg.det(A2)\n",
        "\n",
        "# Calcula os valores das incognitas\n",
        "x = det_A1 / det_A\n",
        "y = det_A2 / det_A\n",
        "\n",
        "print(\"x =\", round(x, 2))\n",
        "print(\"y =\", round(y, 2))"
      ]
    },
    {
      "cell_type": "code",
      "source": [
        "# Sistema de equações:\n",
        "# 2x + y - z = 3\n",
        "# x - 3y + 2z = -7\n",
        "# 4x + y + z = 6\n",
        "\n",
        "# Criando a matriz de coeficientes e o vetor de termos independentes\n",
        "A = np.array([[2, 1, -1],\n",
        "              [1, -3, 2],\n",
        "              [4, 1, 1]])\n",
        "print(\"Matriz A: \", A)\n",
        "\n",
        "b = np.array([3, -7, 6])\n",
        "print(\"Matriz b: \", b)\n",
        "\n",
        "# Calculando o determinante da matriz de coeficientes\n",
        "det_A = np.linalg.det(A)\n",
        "\n",
        "if det_A == 0:\n",
        "    print(\"O sistema não tem solução única.\")\n",
        "else:\n",
        "    print(\"O sistema tem uma solução única.\")\n",
        "\n",
        "# Criando novas matrizes substituindo as colunas da matriz de coeficientes pelo vetor b\n",
        "A1 = np.array([[3, 1, -1],\n",
        "              [-7, -3, 2],\n",
        "              [6, 1, 1]])\n",
        "A2 = np.array([[2, 3, -1],\n",
        "              [1, -7, 2],\n",
        "              [4, 6, 1]])\n",
        "A3 = np.array([[2, 1, 3],\n",
        "              [1, -3, -7],\n",
        "              [4, 1, 6]])\n",
        "\n",
        "# Calculando os determinantes das novas matrizes\n",
        "det_A1 = np.linalg.det(A1)\n",
        "det_A2 = np.linalg.det(A2)\n",
        "det_A3 = np.linalg.det(A3)\n",
        "\n",
        "# Calculando as incógnitas\n",
        "x = det_A1 / det_A\n",
        "y = det_A2 / det_A\n",
        "z = det_A3 / det_A\n",
        "\n",
        "print(\"x =\", round(x, 3))\n",
        "print(\"y =\", round(y, 3))\n",
        "print(\"z =\", round(z, 3))"
      ],
      "metadata": {
        "colab": {
          "base_uri": "https://localhost:8080/"
        },
        "id": "CBXeFnfNqsNK",
        "outputId": "538fda60-2b8d-4891-83f2-8c2f0266325b"
      },
      "execution_count": 40,
      "outputs": [
        {
          "output_type": "stream",
          "name": "stdout",
          "text": [
            "Matriz A:  [[ 2  1 -1]\n",
            " [ 1 -3  2]\n",
            " [ 4  1  1]]\n",
            "Matriz b:  [ 3 -7  6]\n",
            "O sistema tem uma solução única.\n",
            "x = 0.437\n",
            "y = 3.188\n",
            "z = 1.063\n"
          ]
        }
      ]
    },
    {
      "cell_type": "markdown",
      "source": [
        "**Explicação:**\n",
        "\n",
        "1. **Definição do sistema:** Definimos um sistema linear com três equações e três incógnitas.\n",
        "2. **Criação das matrizes:** Criamos a matriz de coeficientes `A` e o vetor de termos independentes `b`.\n",
        "3. **Cálculo do determinante:** Calculamos o determinante da matriz `A` usando `np.linalg.det`.\n",
        "4. **Novas matrizes:** Criamos novas matrizes `A1`, `A2` e `A3` substituindo as colunas de `A` por `b`.\n",
        "5. **Determinantes das novas matrizes:** Calculamos os determinantes das novas matrizes.\n",
        "6. **Cálculo das incógnitas:** Aplicamos a regra de Cramer para encontrar os valores de `x`, `y` e `z`.\n",
        "\n",
        "**Importante:**\n",
        "\n",
        "* **Eficiência:** Embora a regra de Cramer seja útil para entender o conceito, ela não é eficiente para sistemas grandes. Para sistemas maiores, métodos como eliminação de Gauss ou decomposição LU são mais adequados.\n",
        "* **Singularidade:** Se o determinante da matriz de coeficientes for zero, o sistema não possui solução única ou possui infinitas soluções.\n",
        "* **NumPy:** A biblioteca NumPy oferece funções mais eficientes para resolver sistemas lineares, como `np.linalg.solve`.\n",
        "\n",
        "**Considerações Adicionais:**\n",
        "\n",
        "* **Função:** Você pode criar uma função para resolver sistemas lineares usando a regra de Cramer, tornando o código mais reutilizável.\n",
        "* **Verificação:** Sempre verifique se o determinante da matriz de coeficientes é diferente de zero antes de aplicar a regra de Cramer.\n",
        "* **Sistemas maiores:** Para sistemas maiores, considere utilizar bibliotecas especializadas em álgebra linear, como SciPy.\n",
        "\n",
        "**Conclusão:**\n",
        "\n",
        "Este exemplo demonstra como utilizar a regra de Cramer em Python para resolver sistemas lineares de 3x3. Embora a regra de Cramer tenha limitações em termos de eficiência, ela é uma ferramenta útil para entender os conceitos por trás da resolução de sistemas lineares."
      ],
      "metadata": {
        "id": "Wolu8vEBq5KH"
      }
    },
    {
      "cell_type": "markdown",
      "source": [
        "# Usando o solve da biblioteca numpy para resolver sistemas lineares\n",
        "\n",
        "https://numpy.org/doc/2.0/reference/generated/numpy.linalg.solve.html\n",
        "\n",
        "Resolva uma equação matricial linear ou um sistema de equações escalares lineares."
      ],
      "metadata": {
        "id": "itstf8JSr3kA"
      }
    },
    {
      "cell_type": "code",
      "source": [
        "# Sistema de equações com duas incognitas:\n",
        "# 2x + y = 5\n",
        "# x + 2y = 4\n",
        "\n",
        "# matriz A\n",
        "A = np.array([[2, 1], [1, 2]])\n",
        "print(\"Matriz A: \", A)\n",
        "\n",
        "# matriz b\n",
        "b = np.array([5, 4])\n",
        "print(\"Matriz b\", b)\n",
        "\n",
        "# Resolvendo o sistema\n",
        "x = np.linalg.solve(A, b)\n",
        "print(\"Solução: \")\n",
        "print(\"x: \",x)"
      ],
      "metadata": {
        "colab": {
          "base_uri": "https://localhost:8080/"
        },
        "id": "96Ay9aSPsWXW",
        "outputId": "6fe3f346-46b0-43fb-c29a-e467d5c8504a"
      },
      "execution_count": 41,
      "outputs": [
        {
          "output_type": "stream",
          "name": "stdout",
          "text": [
            "Matriz A:  [[2 1]\n",
            " [1 2]]\n",
            "Matriz b [5 4]\n",
            "Solução: \n",
            "x:  [2. 1.]\n"
          ]
        }
      ]
    },
    {
      "cell_type": "code",
      "source": [
        "print(\"2x + y = 5\")\n",
        "print(\"x + 2y = 4\")\n",
        "print(\"Solução: \")\n",
        "print(\"x:\", x[0])\n",
        "print(\"y:\", x[1])"
      ],
      "metadata": {
        "colab": {
          "base_uri": "https://localhost:8080/"
        },
        "id": "vRvfQ_1uto4I",
        "outputId": "a6e774d6-44b0-49c3-d919-f64749ae7d4f"
      },
      "execution_count": 42,
      "outputs": [
        {
          "output_type": "stream",
          "name": "stdout",
          "text": [
            "2x + y = 5\n",
            "x + 2y = 4\n",
            "Solução: \n",
            "x: 2.0\n",
            "y: 1.0\n"
          ]
        }
      ]
    },
    {
      "cell_type": "code",
      "source": [
        "# Sistema de equações com três incognitas:\n",
        "# 2x + y - z = 3\n",
        "# x - 3y + 2z = -7\n",
        "# 4x + y + z = 6\n",
        "\n",
        "# Criando a matriz de coeficientes\n",
        "A = np.array([[2, 1, -1],\n",
        "              [1, -3, 2],\n",
        "              [4, 1, 1]])\n",
        "print(\"Matriz de coefientes: \", A)\n",
        "\n",
        "# vetor de termos independentes\n",
        "b = np.array([3, -7, 6])\n",
        "print(\"Matriz de termos independentes: \", b)\n",
        "\n",
        "# Resolvendo o sistema\n",
        "x = np.linalg.solve(A, b)\n",
        "print(\"Solução: \")\n",
        "print(\"x =\", x)"
      ],
      "metadata": {
        "colab": {
          "base_uri": "https://localhost:8080/"
        },
        "id": "ztIMdDtqq5za",
        "outputId": "b3598763-cf80-4b74-e731-0647486f6d73"
      },
      "execution_count": 43,
      "outputs": [
        {
          "output_type": "stream",
          "name": "stdout",
          "text": [
            "Matriz de coefientes:  [[ 2  1 -1]\n",
            " [ 1 -3  2]\n",
            " [ 4  1  1]]\n",
            "Matriz de termos independentes:  [ 3 -7  6]\n",
            "Solução: \n",
            "x = [0.4375 3.1875 1.0625]\n"
          ]
        }
      ]
    },
    {
      "cell_type": "code",
      "source": [
        "print(\"2x + y - z = 3\")\n",
        "print(\"x - 3y + 2z = -7\")\n",
        "print(\"4x + y + z = 6\")\n",
        "print(\"Solução: \")\n",
        "print(\"x:\", x[0])\n",
        "print(\"y:\", x[1])\n",
        "print(\"z:\", x[2])"
      ],
      "metadata": {
        "colab": {
          "base_uri": "https://localhost:8080/"
        },
        "id": "rVjSzqe-uW_f",
        "outputId": "0ca1d462-9dd4-469e-a7d3-5200ca047cdc"
      },
      "execution_count": 44,
      "outputs": [
        {
          "output_type": "stream",
          "name": "stdout",
          "text": [
            "2x + y - z = 3\n",
            "x - 3y + 2z = -7\n",
            "4x + y + z = 6\n",
            "Solução: \n",
            "x: 0.4375\n",
            "y: 3.1875\n",
            "z: 1.0625\n"
          ]
        }
      ]
    },
    {
      "cell_type": "code",
      "source": [
        "# Sistema de equações com quatro incógnitas:\n",
        "# 2x + y - z + w = 3\n",
        "# x - 3y + 2z - w = -7\n",
        "# 4x + y + z + 2w = 6\n",
        "# 3x - 2y + z - w = 1\n",
        "\n",
        "# Criando a matriz de coeficientes e o vetor de termos independentes\n",
        "A = np.array([[2, 1, -1, 1],\n",
        "              [1, -3, 2, -1],\n",
        "              [4, 1, 1, 2],\n",
        "              [3, -2, 1, -1]])\n",
        "print(\"Matriz de coeficientes: \", A)\n",
        "\n",
        "b = np.array([3, -7, 6, 1])\n",
        "print(\"Matriz de termos independentes: \", b)\n",
        "\n",
        "# Resolvendo o sistema\n",
        "x = np.linalg.solve(A, b)\n",
        "print(\"Solução: \")\n",
        "print(\"x =\", x)"
      ],
      "metadata": {
        "colab": {
          "base_uri": "https://localhost:8080/"
        },
        "id": "cdrD4PGqswsO",
        "outputId": "b83086bd-cc2f-44fd-e4d8-414cf4508b0e"
      },
      "execution_count": 45,
      "outputs": [
        {
          "output_type": "stream",
          "name": "stdout",
          "text": [
            "Matriz de coeficientes:  [[ 2  1 -1  1]\n",
            " [ 1 -3  2 -1]\n",
            " [ 4  1  1  2]\n",
            " [ 3 -2  1 -1]]\n",
            "Matriz de termos independentes:  [ 3 -7  6  1]\n",
            "Solução: \n",
            "x = [ 2.  6.  2. -5.]\n"
          ]
        }
      ]
    },
    {
      "cell_type": "code",
      "source": [
        "print(\"2x + y - z + w = 3\")\n",
        "print(\"x - 3y + 2z - w = -7\")\n",
        "print(\"4x + y + z + 2w = 6\")\n",
        "print(\"3x - 2y + z - w = 1\")\n",
        "print(\"Solução:\")\n",
        "print(\"x:\", round(x[0], 3))\n",
        "print(\"y:\", round(x[1], 3))\n",
        "print(\"z:\", round(x[2], 3))\n",
        "print(\"w:\", round(x[3], 3))"
      ],
      "metadata": {
        "colab": {
          "base_uri": "https://localhost:8080/"
        },
        "id": "_IQ8S5PhuqIz",
        "outputId": "12e19219-0d5c-4113-c46b-f6741a27bcb8"
      },
      "execution_count": 46,
      "outputs": [
        {
          "output_type": "stream",
          "name": "stdout",
          "text": [
            "2x + y - z + w = 3\n",
            "x - 3y + 2z - w = -7\n",
            "4x + y + z + 2w = 6\n",
            "3x - 2y + z - w = 1\n",
            "Solução:\n",
            "x: 2.0\n",
            "y: 6.0\n",
            "z: 2.0\n",
            "w: -5.0\n"
          ]
        }
      ]
    },
    {
      "cell_type": "markdown",
      "source": [
        "**Explicação:**\n",
        "\n",
        "* **Criamos as matrizes:** Assim como no exemplo anterior, criamos a matriz de coeficientes `A` e o vetor de termos independentes `b`.\n",
        "* **Resolvendo o sistema:** A função `np.linalg.solve(A, b)` resolve o sistema linear `Ax = b` e retorna o vetor solução `x`.\n",
        "\n",
        "**Vantagens da função `np.linalg.solve`:**\n",
        "\n",
        "* **Eficiência:** Utiliza algoritmos otimizados para resolver sistemas lineares.\n",
        "* **Facilidade de uso:** A sintaxe é simples e intuitiva.\n",
        "* **Versatilidade:** Pode lidar com sistemas de diferentes tamanhos e complexidades.\n",
        "\n",
        "**Outras bibliotecas:**\n",
        "\n",
        "Além do NumPy, outras bibliotecas como **SciPy** oferecem funcionalidades mais avançadas para álgebra linear, incluindo a resolução de sistemas lineares com diferentes métodos numéricos.\n",
        "\n",
        "**Por que usar `np.linalg.solve`?**\n",
        "\n",
        "* **Simplicidade:** Evita os cálculos complexos da Regra de Cramer.\n",
        "* **Eficiência:** É mais rápido para sistemas maiores.\n",
        "* **Robustez:** Lidar com diferentes tipos de sistemas lineares.\n",
        "\n",
        "**Em resumo:**\n",
        "\n",
        "Ao utilizar a função `np.linalg.solve` do NumPy, você simplifica significativamente a resolução de sistemas lineares em Python, tornando o seu código mais conciso e eficiente."
      ],
      "metadata": {
        "id": "vUgKsi6Ws5VE"
      }
    }
  ]
}
{
  "nbformat": 4,
  "nbformat_minor": 0,
  "metadata": {
    "colab": {
      "provenance": [],
      "authorship_tag": "ABX9TyMYkH7Sw5ne8URTB7FTtbsv",
      "include_colab_link": true
    },
    "kernelspec": {
      "name": "python3",
      "display_name": "Python 3"
    },
    "language_info": {
      "name": "python"
    }
  },
  "cells": [
    {
      "cell_type": "markdown",
      "metadata": {
        "id": "view-in-github",
        "colab_type": "text"
      },
      "source": [
        "<a href=\"https://colab.research.google.com/github/armandossrecife/teste/blob/main/git_teste_cassandra.ipynb\" target=\"_parent\"><img src=\"https://colab.research.google.com/assets/colab-badge.svg\" alt=\"Open In Colab\"/></a>"
      ]
    },
    {
      "cell_type": "code",
      "source": [
        "import pandas as pd"
      ],
      "metadata": {
        "id": "iE-QNLFJM2e4"
      },
      "execution_count": 1,
      "outputs": []
    },
    {
      "cell_type": "code",
      "source": [
        "#!rm -rf cassandra"
      ],
      "metadata": {
        "id": "mRyuBHo_Oc3_"
      },
      "execution_count": 2,
      "outputs": []
    },
    {
      "cell_type": "code",
      "execution_count": 3,
      "metadata": {
        "colab": {
          "base_uri": "https://localhost:8080/"
        },
        "id": "wGFXdCFJmSUC",
        "outputId": "8f4b5f40-15fa-4533-aa05-41711bdc64b0"
      },
      "outputs": [
        {
          "output_type": "stream",
          "name": "stdout",
          "text": [
            "Cloning into 'cassandra'...\n",
            "remote: Enumerating objects: 381182, done.\u001b[K\n",
            "remote: Counting objects: 100% (314/314), done.\u001b[K\n",
            "remote: Compressing objects: 100% (207/207), done.\u001b[K\n",
            "remote: Total 381182 (delta 71), reused 200 (delta 35), pack-reused 380868\u001b[K\n",
            "Receiving objects: 100% (381182/381182), 382.22 MiB | 10.18 MiB/s, done.\n",
            "Resolving deltas: 100% (221822/221822), done.\n"
          ]
        }
      ],
      "source": [
        "# clona o repositorio\n",
        "!git clone https://github.com/apache/cassandra.git"
      ]
    },
    {
      "cell_type": "code",
      "source": [
        "def checa_indice_language(relacao_linguagens):\n",
        "  indice=-1\n",
        "  for i, each in enumerate(relacao_linguagens):\n",
        "    if \"Language\" in each:\n",
        "      indice = i\n",
        "      break\n",
        "  return indice"
      ],
      "metadata": {
        "id": "tjiUyu61-CHQ"
      },
      "execution_count": 4,
      "outputs": []
    },
    {
      "cell_type": "code",
      "source": [
        "# Quantidade de arquivos na pasta cassandra\n",
        "qtd_arquivos = !find cassandra -type f | wc -l\n",
        "\n",
        "# Quantidade de commits do repositorio cassandra\n",
        "qtd_commits = !cd cassandra && git log --oneline | grep -c .\n",
        "\n",
        "# Tamanho (MB) da pasta cassandra\n",
        "tamanho_pasta_mb = !du -hs --block-size=1M cassandra | cut -f1\n",
        "\n",
        "# Quantidade de colaboradores (devs que commitaram pelo menos uma vez no projeto cassandra)\n",
        "qtd_colaboradores_commits = !cd cassandra && git log --pretty=format:\"%ae\" | sort -u | grep -v \"noreply.github.com\" | wc -l\n",
        "\n",
        "# Data do primeiro commit do projeto cassandra\n",
        "data_primeiro_commit =!cd cassandra && git log --reverse --pretty=format:%ad --date=short | head -1\n",
        "\n",
        "# Data do ultimo commit do projeto cassandra\n",
        "data_ultimo_commit = !cd cassandra && git log -1 --pretty=format:%ad --date=short"
      ],
      "metadata": {
        "id": "w32CAAbJnFiP"
      },
      "execution_count": 5,
      "outputs": []
    },
    {
      "cell_type": "code",
      "source": [
        "dict_info_repo = {\n",
        "  'nome':'cassandra',\n",
        "\t'qtd_arquivos':qtd_arquivos,\n",
        "\t'qtd_commits':qtd_commits,\n",
        "\t'tamanho_pasta_mb':tamanho_pasta_mb,\n",
        "\t'qtd_colaboradores_commits':qtd_colaboradores_commits,\n",
        "\t'data_primeiro_commit':data_primeiro_commit,\n",
        "\t'data_ultimo_commit':data_ultimo_commit,\n",
        "}\n",
        "\n",
        "df_info_repo = pd.DataFrame(dict_info_repo)\n",
        "df_info_repo"
      ],
      "metadata": {
        "colab": {
          "base_uri": "https://localhost:8080/",
          "height": 81
        },
        "id": "vVtr33n4M5Fw",
        "outputId": "8c50d6db-c612-4cb1-bf95-abda2bc3e6a3"
      },
      "execution_count": 6,
      "outputs": [
        {
          "output_type": "execute_result",
          "data": {
            "text/plain": [
              "        nome qtd_arquivos qtd_commits tamanho_pasta_mb  \\\n",
              "0  cassandra         5188       28426              487   \n",
              "\n",
              "  qtd_colaboradores_commits data_primeiro_commit data_ultimo_commit  \n",
              "0                       578           2009-03-02         2023-03-09  "
            ],
            "text/html": [
              "\n",
              "  <div id=\"df-62e66013-7d1a-4f59-8047-0471217ad753\">\n",
              "    <div class=\"colab-df-container\">\n",
              "      <div>\n",
              "<style scoped>\n",
              "    .dataframe tbody tr th:only-of-type {\n",
              "        vertical-align: middle;\n",
              "    }\n",
              "\n",
              "    .dataframe tbody tr th {\n",
              "        vertical-align: top;\n",
              "    }\n",
              "\n",
              "    .dataframe thead th {\n",
              "        text-align: right;\n",
              "    }\n",
              "</style>\n",
              "<table border=\"1\" class=\"dataframe\">\n",
              "  <thead>\n",
              "    <tr style=\"text-align: right;\">\n",
              "      <th></th>\n",
              "      <th>nome</th>\n",
              "      <th>qtd_arquivos</th>\n",
              "      <th>qtd_commits</th>\n",
              "      <th>tamanho_pasta_mb</th>\n",
              "      <th>qtd_colaboradores_commits</th>\n",
              "      <th>data_primeiro_commit</th>\n",
              "      <th>data_ultimo_commit</th>\n",
              "    </tr>\n",
              "  </thead>\n",
              "  <tbody>\n",
              "    <tr>\n",
              "      <th>0</th>\n",
              "      <td>cassandra</td>\n",
              "      <td>5188</td>\n",
              "      <td>28426</td>\n",
              "      <td>487</td>\n",
              "      <td>578</td>\n",
              "      <td>2009-03-02</td>\n",
              "      <td>2023-03-09</td>\n",
              "    </tr>\n",
              "  </tbody>\n",
              "</table>\n",
              "</div>\n",
              "      <button class=\"colab-df-convert\" onclick=\"convertToInteractive('df-62e66013-7d1a-4f59-8047-0471217ad753')\"\n",
              "              title=\"Convert this dataframe to an interactive table.\"\n",
              "              style=\"display:none;\">\n",
              "        \n",
              "  <svg xmlns=\"http://www.w3.org/2000/svg\" height=\"24px\"viewBox=\"0 0 24 24\"\n",
              "       width=\"24px\">\n",
              "    <path d=\"M0 0h24v24H0V0z\" fill=\"none\"/>\n",
              "    <path d=\"M18.56 5.44l.94 2.06.94-2.06 2.06-.94-2.06-.94-.94-2.06-.94 2.06-2.06.94zm-11 1L8.5 8.5l.94-2.06 2.06-.94-2.06-.94L8.5 2.5l-.94 2.06-2.06.94zm10 10l.94 2.06.94-2.06 2.06-.94-2.06-.94-.94-2.06-.94 2.06-2.06.94z\"/><path d=\"M17.41 7.96l-1.37-1.37c-.4-.4-.92-.59-1.43-.59-.52 0-1.04.2-1.43.59L10.3 9.45l-7.72 7.72c-.78.78-.78 2.05 0 2.83L4 21.41c.39.39.9.59 1.41.59.51 0 1.02-.2 1.41-.59l7.78-7.78 2.81-2.81c.8-.78.8-2.07 0-2.86zM5.41 20L4 18.59l7.72-7.72 1.47 1.35L5.41 20z\"/>\n",
              "  </svg>\n",
              "      </button>\n",
              "      \n",
              "  <style>\n",
              "    .colab-df-container {\n",
              "      display:flex;\n",
              "      flex-wrap:wrap;\n",
              "      gap: 12px;\n",
              "    }\n",
              "\n",
              "    .colab-df-convert {\n",
              "      background-color: #E8F0FE;\n",
              "      border: none;\n",
              "      border-radius: 50%;\n",
              "      cursor: pointer;\n",
              "      display: none;\n",
              "      fill: #1967D2;\n",
              "      height: 32px;\n",
              "      padding: 0 0 0 0;\n",
              "      width: 32px;\n",
              "    }\n",
              "\n",
              "    .colab-df-convert:hover {\n",
              "      background-color: #E2EBFA;\n",
              "      box-shadow: 0px 1px 2px rgba(60, 64, 67, 0.3), 0px 1px 3px 1px rgba(60, 64, 67, 0.15);\n",
              "      fill: #174EA6;\n",
              "    }\n",
              "\n",
              "    [theme=dark] .colab-df-convert {\n",
              "      background-color: #3B4455;\n",
              "      fill: #D2E3FC;\n",
              "    }\n",
              "\n",
              "    [theme=dark] .colab-df-convert:hover {\n",
              "      background-color: #434B5C;\n",
              "      box-shadow: 0px 1px 3px 1px rgba(0, 0, 0, 0.15);\n",
              "      filter: drop-shadow(0px 1px 2px rgba(0, 0, 0, 0.3));\n",
              "      fill: #FFFFFF;\n",
              "    }\n",
              "  </style>\n",
              "\n",
              "      <script>\n",
              "        const buttonEl =\n",
              "          document.querySelector('#df-62e66013-7d1a-4f59-8047-0471217ad753 button.colab-df-convert');\n",
              "        buttonEl.style.display =\n",
              "          google.colab.kernel.accessAllowed ? 'block' : 'none';\n",
              "\n",
              "        async function convertToInteractive(key) {\n",
              "          const element = document.querySelector('#df-62e66013-7d1a-4f59-8047-0471217ad753');\n",
              "          const dataTable =\n",
              "            await google.colab.kernel.invokeFunction('convertToInteractive',\n",
              "                                                     [key], {});\n",
              "          if (!dataTable) return;\n",
              "\n",
              "          const docLinkHtml = 'Like what you see? Visit the ' +\n",
              "            '<a target=\"_blank\" href=https://colab.research.google.com/notebooks/data_table.ipynb>data table notebook</a>'\n",
              "            + ' to learn more about interactive tables.';\n",
              "          element.innerHTML = '';\n",
              "          dataTable['output_type'] = 'display_data';\n",
              "          await google.colab.output.renderOutput(dataTable, element);\n",
              "          const docLink = document.createElement('div');\n",
              "          docLink.innerHTML = docLinkHtml;\n",
              "          element.appendChild(docLink);\n",
              "        }\n",
              "      </script>\n",
              "    </div>\n",
              "  </div>\n",
              "  "
            ]
          },
          "metadata": {},
          "execution_count": 6
        }
      ]
    },
    {
      "cell_type": "code",
      "source": [
        "!sudo apt-get install cloc"
      ],
      "metadata": {
        "id": "RCeAdvxApFaz",
        "colab": {
          "base_uri": "https://localhost:8080/"
        },
        "outputId": "9fa356af-a1e4-46b5-8e43-c2130bad10ce"
      },
      "execution_count": 7,
      "outputs": [
        {
          "output_type": "stream",
          "name": "stdout",
          "text": [
            "Reading package lists... Done\n",
            "Building dependency tree       \n",
            "Reading state information... Done\n",
            "cloc is already the newest version (1.82-1).\n",
            "0 upgraded, 0 newly installed, 0 to remove and 22 not upgraded.\n"
          ]
        }
      ]
    },
    {
      "cell_type": "code",
      "source": [
        "# Detalha os tipos de arquivos que aparecem no repositório do cassandra\n",
        "relacao_linguagens = !cd cassandra && cloc .\n",
        "\n",
        "relacao_linguagens[checa_indice_language(relacao_linguagens):]"
      ],
      "metadata": {
        "id": "vdgBMXQv9T9s",
        "colab": {
          "base_uri": "https://localhost:8080/"
        },
        "outputId": "d329704b-ec3b-4751-f56a-e28d6d1d30fb"
      },
      "execution_count": 8,
      "outputs": [
        {
          "output_type": "execute_result",
          "data": {
            "text/plain": [
              "['Language                      files          blank        comment           code',\n",
              " '--------------------------------------------------------------------------------',\n",
              " 'Java                           3877         116507         146654         613993',\n",
              " 'YAML                             45            767           2563         330789',\n",
              " 'AsciiDoc                        109           5592             11          20115',\n",
              " 'Python                           31           2460           3163           8332',\n",
              " 'XML                              33            201            478           3740',\n",
              " 'Markdown                         13            771              0           3391',\n",
              " 'SVG                              17            197           1399           2937',\n",
              " 'Bourne Shell                     82            371            988           1984',\n",
              " 'ANTLR Grammar                     3            267            288           1897',\n",
              " 'Ant                               3            185            233           1787',\n",
              " 'Bourne Again Shell                2             23             71            164',\n",
              " 'Maven                             1             25             20            108',\n",
              " 'make                              2             20             20             70',\n",
              " 'CSS                               1             14             20             69',\n",
              " 'DOS Batch                         2              1              0             56',\n",
              " 'JSON                              6              0              0             52',\n",
              " 'HTML                              1            104            519             50',\n",
              " 'diff                              3             16             44             40',\n",
              " 'reStructuredText                  2             22             31             40',\n",
              " '--------------------------------------------------------------------------------',\n",
              " 'SUM:                           4233         127543         156502         989614',\n",
              " '--------------------------------------------------------------------------------']"
            ]
          },
          "metadata": {},
          "execution_count": 8
        }
      ]
    },
    {
      "cell_type": "code",
      "source": [
        "linguagens_encontradas = relacao_linguagens[(checa_indice_language(relacao_linguagens)+2):]\n",
        "linguagens_encontradas"
      ],
      "metadata": {
        "colab": {
          "base_uri": "https://localhost:8080/"
        },
        "id": "yEwKmTfv_efi",
        "outputId": "b095802b-4d4f-4020-fefd-95de5f543f43"
      },
      "execution_count": 9,
      "outputs": [
        {
          "output_type": "execute_result",
          "data": {
            "text/plain": [
              "['Java                           3877         116507         146654         613993',\n",
              " 'YAML                             45            767           2563         330789',\n",
              " 'AsciiDoc                        109           5592             11          20115',\n",
              " 'Python                           31           2460           3163           8332',\n",
              " 'XML                              33            201            478           3740',\n",
              " 'Markdown                         13            771              0           3391',\n",
              " 'SVG                              17            197           1399           2937',\n",
              " 'Bourne Shell                     82            371            988           1984',\n",
              " 'ANTLR Grammar                     3            267            288           1897',\n",
              " 'Ant                               3            185            233           1787',\n",
              " 'Bourne Again Shell                2             23             71            164',\n",
              " 'Maven                             1             25             20            108',\n",
              " 'make                              2             20             20             70',\n",
              " 'CSS                               1             14             20             69',\n",
              " 'DOS Batch                         2              1              0             56',\n",
              " 'JSON                              6              0              0             52',\n",
              " 'HTML                              1            104            519             50',\n",
              " 'diff                              3             16             44             40',\n",
              " 'reStructuredText                  2             22             31             40',\n",
              " '--------------------------------------------------------------------------------',\n",
              " 'SUM:                           4233         127543         156502         989614',\n",
              " '--------------------------------------------------------------------------------']"
            ]
          },
          "metadata": {},
          "execution_count": 9
        }
      ]
    },
    {
      "cell_type": "code",
      "source": [
        "lista_linguagens, lista_files, lista_blank, lista_comment, lista_code = list(), list(), list(), list(), list()\n",
        "\n",
        "l_temp = []\n",
        "vl_temp = []\n",
        "for linha in linguagens_encontradas:\n",
        "  elementos = linha.split(' ')\n",
        "  novos_elementos = []\n",
        "  linguagem_encontrada = []\n",
        "  valores_da_linguagem = []\n",
        "  for item in elementos:\n",
        "    if item != '':\n",
        "      novos_elementos.append(item)\n",
        "  linguagem_encontrada.append(novos_elementos[:-4])\n",
        "  valores_da_linguagem.append(novos_elementos[-4:])\n",
        "  print(linguagem_encontrada, valores_da_linguagem)\n",
        "  l_temp = l_temp + linguagem_encontrada\n",
        "  vl_temp = vl_temp + valores_da_linguagem"
      ],
      "metadata": {
        "colab": {
          "base_uri": "https://localhost:8080/"
        },
        "id": "yf_uXZaW_ohc",
        "outputId": "8fdef6c3-5ec5-4402-df5f-6538e207845a"
      },
      "execution_count": 10,
      "outputs": [
        {
          "output_type": "stream",
          "name": "stdout",
          "text": [
            "[['Java']] [['3877', '116507', '146654', '613993']]\n",
            "[['YAML']] [['45', '767', '2563', '330789']]\n",
            "[['AsciiDoc']] [['109', '5592', '11', '20115']]\n",
            "[['Python']] [['31', '2460', '3163', '8332']]\n",
            "[['XML']] [['33', '201', '478', '3740']]\n",
            "[['Markdown']] [['13', '771', '0', '3391']]\n",
            "[['SVG']] [['17', '197', '1399', '2937']]\n",
            "[['Bourne', 'Shell']] [['82', '371', '988', '1984']]\n",
            "[['ANTLR', 'Grammar']] [['3', '267', '288', '1897']]\n",
            "[['Ant']] [['3', '185', '233', '1787']]\n",
            "[['Bourne', 'Again', 'Shell']] [['2', '23', '71', '164']]\n",
            "[['Maven']] [['1', '25', '20', '108']]\n",
            "[['make']] [['2', '20', '20', '70']]\n",
            "[['CSS']] [['1', '14', '20', '69']]\n",
            "[['DOS', 'Batch']] [['2', '1', '0', '56']]\n",
            "[['JSON']] [['6', '0', '0', '52']]\n",
            "[['HTML']] [['1', '104', '519', '50']]\n",
            "[['diff']] [['3', '16', '44', '40']]\n",
            "[['reStructuredText']] [['2', '22', '31', '40']]\n",
            "[[]] [['--------------------------------------------------------------------------------']]\n",
            "[['SUM:']] [['4233', '127543', '156502', '989614']]\n",
            "[[]] [['--------------------------------------------------------------------------------']]\n"
          ]
        }
      ]
    },
    {
      "cell_type": "code",
      "source": [
        "l_temp = l_temp[:-3]\n",
        "for i, each in enumerate(l_temp):\n",
        "  print(i,each)\n",
        "\n",
        "vl_temp = vl_temp[:-3]\n",
        "for i,each in enumerate(vl_temp):\n",
        "  print(i,each)\n",
        "  lista_files.append(each[0])\n",
        "  lista_blank.append(each[1]) \n",
        "  lista_comment.append(each[2]) \n",
        "  lista_code.append(each[3])"
      ],
      "metadata": {
        "colab": {
          "base_uri": "https://localhost:8080/"
        },
        "id": "4vtdH-D7IVlu",
        "outputId": "e13f97dd-8a6c-4f11-8e4d-5970a3694cad"
      },
      "execution_count": 11,
      "outputs": [
        {
          "output_type": "stream",
          "name": "stdout",
          "text": [
            "0 ['Java']\n",
            "1 ['YAML']\n",
            "2 ['AsciiDoc']\n",
            "3 ['Python']\n",
            "4 ['XML']\n",
            "5 ['Markdown']\n",
            "6 ['SVG']\n",
            "7 ['Bourne', 'Shell']\n",
            "8 ['ANTLR', 'Grammar']\n",
            "9 ['Ant']\n",
            "10 ['Bourne', 'Again', 'Shell']\n",
            "11 ['Maven']\n",
            "12 ['make']\n",
            "13 ['CSS']\n",
            "14 ['DOS', 'Batch']\n",
            "15 ['JSON']\n",
            "16 ['HTML']\n",
            "17 ['diff']\n",
            "18 ['reStructuredText']\n",
            "0 ['3877', '116507', '146654', '613993']\n",
            "1 ['45', '767', '2563', '330789']\n",
            "2 ['109', '5592', '11', '20115']\n",
            "3 ['31', '2460', '3163', '8332']\n",
            "4 ['33', '201', '478', '3740']\n",
            "5 ['13', '771', '0', '3391']\n",
            "6 ['17', '197', '1399', '2937']\n",
            "7 ['82', '371', '988', '1984']\n",
            "8 ['3', '267', '288', '1897']\n",
            "9 ['3', '185', '233', '1787']\n",
            "10 ['2', '23', '71', '164']\n",
            "11 ['1', '25', '20', '108']\n",
            "12 ['2', '20', '20', '70']\n",
            "13 ['1', '14', '20', '69']\n",
            "14 ['2', '1', '0', '56']\n",
            "15 ['6', '0', '0', '52']\n",
            "16 ['1', '104', '519', '50']\n",
            "17 ['3', '16', '44', '40']\n",
            "18 ['2', '22', '31', '40']\n"
          ]
        }
      ]
    },
    {
      "cell_type": "code",
      "source": [
        "dict_dados_linguagens = {\n",
        "    'linguagens':l_temp, \n",
        "    'files':lista_files, \n",
        "    'blank':lista_blank,\n",
        "    'comment':lista_comment,\n",
        "    'code':lista_code\n",
        "}\n",
        "\n",
        "df_dados_linguagens = pd.DataFrame(dict_dados_linguagens)\n",
        "df_dados_linguagens"
      ],
      "metadata": {
        "colab": {
          "base_uri": "https://localhost:8080/",
          "height": 645
        },
        "id": "IszmyjRAIbFo",
        "outputId": "fdf7e10f-b6be-4986-9b17-d91a5d8cf7ea"
      },
      "execution_count": 12,
      "outputs": [
        {
          "output_type": "execute_result",
          "data": {
            "text/plain": [
              "                linguagens files   blank comment    code\n",
              "0                   [Java]  3877  116507  146654  613993\n",
              "1                   [YAML]    45     767    2563  330789\n",
              "2               [AsciiDoc]   109    5592      11   20115\n",
              "3                 [Python]    31    2460    3163    8332\n",
              "4                    [XML]    33     201     478    3740\n",
              "5               [Markdown]    13     771       0    3391\n",
              "6                    [SVG]    17     197    1399    2937\n",
              "7          [Bourne, Shell]    82     371     988    1984\n",
              "8         [ANTLR, Grammar]     3     267     288    1897\n",
              "9                    [Ant]     3     185     233    1787\n",
              "10  [Bourne, Again, Shell]     2      23      71     164\n",
              "11                 [Maven]     1      25      20     108\n",
              "12                  [make]     2      20      20      70\n",
              "13                   [CSS]     1      14      20      69\n",
              "14            [DOS, Batch]     2       1       0      56\n",
              "15                  [JSON]     6       0       0      52\n",
              "16                  [HTML]     1     104     519      50\n",
              "17                  [diff]     3      16      44      40\n",
              "18      [reStructuredText]     2      22      31      40"
            ],
            "text/html": [
              "\n",
              "  <div id=\"df-e3a13a7b-15db-42ad-9cb0-bcbf22a9c7b2\">\n",
              "    <div class=\"colab-df-container\">\n",
              "      <div>\n",
              "<style scoped>\n",
              "    .dataframe tbody tr th:only-of-type {\n",
              "        vertical-align: middle;\n",
              "    }\n",
              "\n",
              "    .dataframe tbody tr th {\n",
              "        vertical-align: top;\n",
              "    }\n",
              "\n",
              "    .dataframe thead th {\n",
              "        text-align: right;\n",
              "    }\n",
              "</style>\n",
              "<table border=\"1\" class=\"dataframe\">\n",
              "  <thead>\n",
              "    <tr style=\"text-align: right;\">\n",
              "      <th></th>\n",
              "      <th>linguagens</th>\n",
              "      <th>files</th>\n",
              "      <th>blank</th>\n",
              "      <th>comment</th>\n",
              "      <th>code</th>\n",
              "    </tr>\n",
              "  </thead>\n",
              "  <tbody>\n",
              "    <tr>\n",
              "      <th>0</th>\n",
              "      <td>[Java]</td>\n",
              "      <td>3877</td>\n",
              "      <td>116507</td>\n",
              "      <td>146654</td>\n",
              "      <td>613993</td>\n",
              "    </tr>\n",
              "    <tr>\n",
              "      <th>1</th>\n",
              "      <td>[YAML]</td>\n",
              "      <td>45</td>\n",
              "      <td>767</td>\n",
              "      <td>2563</td>\n",
              "      <td>330789</td>\n",
              "    </tr>\n",
              "    <tr>\n",
              "      <th>2</th>\n",
              "      <td>[AsciiDoc]</td>\n",
              "      <td>109</td>\n",
              "      <td>5592</td>\n",
              "      <td>11</td>\n",
              "      <td>20115</td>\n",
              "    </tr>\n",
              "    <tr>\n",
              "      <th>3</th>\n",
              "      <td>[Python]</td>\n",
              "      <td>31</td>\n",
              "      <td>2460</td>\n",
              "      <td>3163</td>\n",
              "      <td>8332</td>\n",
              "    </tr>\n",
              "    <tr>\n",
              "      <th>4</th>\n",
              "      <td>[XML]</td>\n",
              "      <td>33</td>\n",
              "      <td>201</td>\n",
              "      <td>478</td>\n",
              "      <td>3740</td>\n",
              "    </tr>\n",
              "    <tr>\n",
              "      <th>5</th>\n",
              "      <td>[Markdown]</td>\n",
              "      <td>13</td>\n",
              "      <td>771</td>\n",
              "      <td>0</td>\n",
              "      <td>3391</td>\n",
              "    </tr>\n",
              "    <tr>\n",
              "      <th>6</th>\n",
              "      <td>[SVG]</td>\n",
              "      <td>17</td>\n",
              "      <td>197</td>\n",
              "      <td>1399</td>\n",
              "      <td>2937</td>\n",
              "    </tr>\n",
              "    <tr>\n",
              "      <th>7</th>\n",
              "      <td>[Bourne, Shell]</td>\n",
              "      <td>82</td>\n",
              "      <td>371</td>\n",
              "      <td>988</td>\n",
              "      <td>1984</td>\n",
              "    </tr>\n",
              "    <tr>\n",
              "      <th>8</th>\n",
              "      <td>[ANTLR, Grammar]</td>\n",
              "      <td>3</td>\n",
              "      <td>267</td>\n",
              "      <td>288</td>\n",
              "      <td>1897</td>\n",
              "    </tr>\n",
              "    <tr>\n",
              "      <th>9</th>\n",
              "      <td>[Ant]</td>\n",
              "      <td>3</td>\n",
              "      <td>185</td>\n",
              "      <td>233</td>\n",
              "      <td>1787</td>\n",
              "    </tr>\n",
              "    <tr>\n",
              "      <th>10</th>\n",
              "      <td>[Bourne, Again, Shell]</td>\n",
              "      <td>2</td>\n",
              "      <td>23</td>\n",
              "      <td>71</td>\n",
              "      <td>164</td>\n",
              "    </tr>\n",
              "    <tr>\n",
              "      <th>11</th>\n",
              "      <td>[Maven]</td>\n",
              "      <td>1</td>\n",
              "      <td>25</td>\n",
              "      <td>20</td>\n",
              "      <td>108</td>\n",
              "    </tr>\n",
              "    <tr>\n",
              "      <th>12</th>\n",
              "      <td>[make]</td>\n",
              "      <td>2</td>\n",
              "      <td>20</td>\n",
              "      <td>20</td>\n",
              "      <td>70</td>\n",
              "    </tr>\n",
              "    <tr>\n",
              "      <th>13</th>\n",
              "      <td>[CSS]</td>\n",
              "      <td>1</td>\n",
              "      <td>14</td>\n",
              "      <td>20</td>\n",
              "      <td>69</td>\n",
              "    </tr>\n",
              "    <tr>\n",
              "      <th>14</th>\n",
              "      <td>[DOS, Batch]</td>\n",
              "      <td>2</td>\n",
              "      <td>1</td>\n",
              "      <td>0</td>\n",
              "      <td>56</td>\n",
              "    </tr>\n",
              "    <tr>\n",
              "      <th>15</th>\n",
              "      <td>[JSON]</td>\n",
              "      <td>6</td>\n",
              "      <td>0</td>\n",
              "      <td>0</td>\n",
              "      <td>52</td>\n",
              "    </tr>\n",
              "    <tr>\n",
              "      <th>16</th>\n",
              "      <td>[HTML]</td>\n",
              "      <td>1</td>\n",
              "      <td>104</td>\n",
              "      <td>519</td>\n",
              "      <td>50</td>\n",
              "    </tr>\n",
              "    <tr>\n",
              "      <th>17</th>\n",
              "      <td>[diff]</td>\n",
              "      <td>3</td>\n",
              "      <td>16</td>\n",
              "      <td>44</td>\n",
              "      <td>40</td>\n",
              "    </tr>\n",
              "    <tr>\n",
              "      <th>18</th>\n",
              "      <td>[reStructuredText]</td>\n",
              "      <td>2</td>\n",
              "      <td>22</td>\n",
              "      <td>31</td>\n",
              "      <td>40</td>\n",
              "    </tr>\n",
              "  </tbody>\n",
              "</table>\n",
              "</div>\n",
              "      <button class=\"colab-df-convert\" onclick=\"convertToInteractive('df-e3a13a7b-15db-42ad-9cb0-bcbf22a9c7b2')\"\n",
              "              title=\"Convert this dataframe to an interactive table.\"\n",
              "              style=\"display:none;\">\n",
              "        \n",
              "  <svg xmlns=\"http://www.w3.org/2000/svg\" height=\"24px\"viewBox=\"0 0 24 24\"\n",
              "       width=\"24px\">\n",
              "    <path d=\"M0 0h24v24H0V0z\" fill=\"none\"/>\n",
              "    <path d=\"M18.56 5.44l.94 2.06.94-2.06 2.06-.94-2.06-.94-.94-2.06-.94 2.06-2.06.94zm-11 1L8.5 8.5l.94-2.06 2.06-.94-2.06-.94L8.5 2.5l-.94 2.06-2.06.94zm10 10l.94 2.06.94-2.06 2.06-.94-2.06-.94-.94-2.06-.94 2.06-2.06.94z\"/><path d=\"M17.41 7.96l-1.37-1.37c-.4-.4-.92-.59-1.43-.59-.52 0-1.04.2-1.43.59L10.3 9.45l-7.72 7.72c-.78.78-.78 2.05 0 2.83L4 21.41c.39.39.9.59 1.41.59.51 0 1.02-.2 1.41-.59l7.78-7.78 2.81-2.81c.8-.78.8-2.07 0-2.86zM5.41 20L4 18.59l7.72-7.72 1.47 1.35L5.41 20z\"/>\n",
              "  </svg>\n",
              "      </button>\n",
              "      \n",
              "  <style>\n",
              "    .colab-df-container {\n",
              "      display:flex;\n",
              "      flex-wrap:wrap;\n",
              "      gap: 12px;\n",
              "    }\n",
              "\n",
              "    .colab-df-convert {\n",
              "      background-color: #E8F0FE;\n",
              "      border: none;\n",
              "      border-radius: 50%;\n",
              "      cursor: pointer;\n",
              "      display: none;\n",
              "      fill: #1967D2;\n",
              "      height: 32px;\n",
              "      padding: 0 0 0 0;\n",
              "      width: 32px;\n",
              "    }\n",
              "\n",
              "    .colab-df-convert:hover {\n",
              "      background-color: #E2EBFA;\n",
              "      box-shadow: 0px 1px 2px rgba(60, 64, 67, 0.3), 0px 1px 3px 1px rgba(60, 64, 67, 0.15);\n",
              "      fill: #174EA6;\n",
              "    }\n",
              "\n",
              "    [theme=dark] .colab-df-convert {\n",
              "      background-color: #3B4455;\n",
              "      fill: #D2E3FC;\n",
              "    }\n",
              "\n",
              "    [theme=dark] .colab-df-convert:hover {\n",
              "      background-color: #434B5C;\n",
              "      box-shadow: 0px 1px 3px 1px rgba(0, 0, 0, 0.15);\n",
              "      filter: drop-shadow(0px 1px 2px rgba(0, 0, 0, 0.3));\n",
              "      fill: #FFFFFF;\n",
              "    }\n",
              "  </style>\n",
              "\n",
              "      <script>\n",
              "        const buttonEl =\n",
              "          document.querySelector('#df-e3a13a7b-15db-42ad-9cb0-bcbf22a9c7b2 button.colab-df-convert');\n",
              "        buttonEl.style.display =\n",
              "          google.colab.kernel.accessAllowed ? 'block' : 'none';\n",
              "\n",
              "        async function convertToInteractive(key) {\n",
              "          const element = document.querySelector('#df-e3a13a7b-15db-42ad-9cb0-bcbf22a9c7b2');\n",
              "          const dataTable =\n",
              "            await google.colab.kernel.invokeFunction('convertToInteractive',\n",
              "                                                     [key], {});\n",
              "          if (!dataTable) return;\n",
              "\n",
              "          const docLinkHtml = 'Like what you see? Visit the ' +\n",
              "            '<a target=\"_blank\" href=https://colab.research.google.com/notebooks/data_table.ipynb>data table notebook</a>'\n",
              "            + ' to learn more about interactive tables.';\n",
              "          element.innerHTML = '';\n",
              "          dataTable['output_type'] = 'display_data';\n",
              "          await google.colab.output.renderOutput(dataTable, element);\n",
              "          const docLink = document.createElement('div');\n",
              "          docLink.innerHTML = docLinkHtml;\n",
              "          element.appendChild(docLink);\n",
              "        }\n",
              "      </script>\n",
              "    </div>\n",
              "  </div>\n",
              "  "
            ]
          },
          "metadata": {},
          "execution_count": 12
        }
      ]
    },
    {
      "cell_type": "code",
      "source": [
        "df_dados_linguagens['files'] = df_dados_linguagens['files'].apply(lambda x: int(x))\n",
        "df_dados_linguagens['blank'] = df_dados_linguagens['blank'].apply(lambda x: int(x))\t\n",
        "df_dados_linguagens['comment'] = df_dados_linguagens['comment'].apply(lambda x: int(x))\t\n",
        "df_dados_linguagens['code'] = df_dados_linguagens['code'].apply(lambda x: int(x))\n",
        "\n",
        "df_dados_linguagens.info()"
      ],
      "metadata": {
        "id": "iPTVksApKQBE",
        "colab": {
          "base_uri": "https://localhost:8080/"
        },
        "outputId": "8ff2f532-361e-426d-f105-c0002872caa1"
      },
      "execution_count": 13,
      "outputs": [
        {
          "output_type": "stream",
          "name": "stdout",
          "text": [
            "<class 'pandas.core.frame.DataFrame'>\n",
            "RangeIndex: 19 entries, 0 to 18\n",
            "Data columns (total 5 columns):\n",
            " #   Column      Non-Null Count  Dtype \n",
            "---  ------      --------------  ----- \n",
            " 0   linguagens  19 non-null     object\n",
            " 1   files       19 non-null     int64 \n",
            " 2   blank       19 non-null     int64 \n",
            " 3   comment     19 non-null     int64 \n",
            " 4   code        19 non-null     int64 \n",
            "dtypes: int64(4), object(1)\n",
            "memory usage: 888.0+ bytes\n"
          ]
        }
      ]
    }
  ]
}
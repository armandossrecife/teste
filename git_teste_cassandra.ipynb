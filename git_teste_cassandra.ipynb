{
  "nbformat": 4,
  "nbformat_minor": 0,
  "metadata": {
    "colab": {
      "provenance": [],
      "authorship_tag": "ABX9TyNbR3EZuTcd5wzPQ/du106N",
      "include_colab_link": true
    },
    "kernelspec": {
      "name": "python3",
      "display_name": "Python 3"
    },
    "language_info": {
      "name": "python"
    }
  },
  "cells": [
    {
      "cell_type": "markdown",
      "metadata": {
        "id": "view-in-github",
        "colab_type": "text"
      },
      "source": [
        "<a href=\"https://colab.research.google.com/github/armandossrecife/teste/blob/main/git_teste_cassandra.ipynb\" target=\"_parent\"><img src=\"https://colab.research.google.com/assets/colab-badge.svg\" alt=\"Open In Colab\"/></a>"
      ]
    },
    {
      "cell_type": "markdown",
      "source": [
        "# Importa pacotes que serão usados"
      ],
      "metadata": {
        "id": "Px1MWwpl_Yvw"
      }
    },
    {
      "cell_type": "code",
      "source": [
        "#!rm -rf cassandra*"
      ],
      "metadata": {
        "id": "41ey1vYoVYVh"
      },
      "execution_count": null,
      "outputs": []
    },
    {
      "cell_type": "code",
      "source": [
        "import pandas as pd\n",
        "import os\n",
        "\n",
        "def checa_indice_language(relacao_linguagens):\n",
        "  indice=-1\n",
        "  for i, each in enumerate(relacao_linguagens):\n",
        "    if \"Language\" in each:\n",
        "      indice = i\n",
        "      break\n",
        "  return indice\n",
        "\n",
        "def instala_cloc():\n",
        "  try: \n",
        "    comando = !sudo apt-get install cloc\n",
        "    print(comando)\n",
        "  except Exception as e:\n",
        "    print(f'Erro: {str(e)}')\n",
        "\n",
        "def clona_repositorio(url):\n",
        "  try:\n",
        "    comando = f'git clone {url}'\n",
        "    print(f'Clonando o repositório {url}')\n",
        "    print(comando)\n",
        "    os.system(comando)\n",
        "    print('concluido com sucesso!')\n",
        "  except Exception as e:\n",
        "    print(f'Erro: {str(e)}')\n",
        "  \n",
        "def get_primeiro_commit(repositorio):\n",
        "  try:\n",
        "    os.environ['REPOSITORIO_ORIGINAL'] = repositorio\n",
        "    # Primeiro commit \n",
        "    comando = !cd $REPOSITORIO_ORIGINAL && git rev-list --all | tail -n 1\n",
        "  except Exception as e:\n",
        "    print(f'Erro: {str(e)}')\n",
        "  return comando\n",
        "\n",
        "def get_ultimo_commit(repositorio):\n",
        "  try:\n",
        "    os.environ['REPOSITORIO_ORIGINAL'] = repositorio\n",
        "    # Primeiro commit \n",
        "    comando = !cd $REPOSITORIO_ORIGINAL && git rev-list --all | head -n 1\n",
        "  except Exception as e:\n",
        "    print(f'Erro: {str(e)}')\n",
        "  return comando\n",
        "\n",
        "def cria_pasta_n_commit(repositorio, pasta_n_commit):\n",
        "  try:\n",
        "    os.environ['REPOSITORIO_ORIGINAL'] = repositorio\n",
        "    os.environ['REPOSITORIO_INICIAL'] = pasta_n_commit\n",
        "    # Cria uma nova pasta para referenciar apenas os dados do 1o commit\n",
        "    comando = !cp -R $REPOSITORIO_ORIGINAL $REPOSITORIO_INICIAL\n",
        "  except Exception as e:\n",
        "    print(f'Erro: {str(e)}')\n",
        "  return comando\n",
        "\n",
        "def checkout_n_commit(pasta_n_commit, n_commit):\n",
        "  try:\n",
        "    os.environ['REPOSITORIO_INICIAL'] = pasta_n_commit\n",
        "    os.environ['PRIMEIRO_COMMIT'] = n_commit\n",
        "    # git checkout $( git rev-list --all | tail -n 1 )\n",
        "    comando1 = \"cd $REPOSITORIO_INICIAL && git checkout $PRIMEIRO_COMMIT\"\n",
        "    os.system(comando1)\n",
        "    print(f'Checkout do repositorio no commit {n_commit} realizado com sucesso!')\n",
        "  except Exception as e:\n",
        "    print(f'Erro: {str(e)}')\n",
        "\n",
        "def gera_df_info_repositorio(pasta_n_commit):\n",
        "  try: \n",
        "    os.environ['REPOSITORIO_INICIAL'] = pasta_n_commit\n",
        "    # Quantidade de arquivos na pasta cassandra\n",
        "    qtd_arquivos = !find $REPOSITORIO_INICIAL -type f | wc -l\n",
        "    # Quantidade de commits do repositorio cassandra\n",
        "    qtd_commits = !cd $REPOSITORIO_INICIAL && git log --oneline | grep -c .\n",
        "    # Tamanho (MB) da pasta cassandra\n",
        "    tamanho_pasta_mb = !du -hs --block-size=1M $REPOSITORIO_INICIAL | cut -f1\n",
        "    # Quantidade de colaboradores (devs que commitaram pelo menos uma vez no projeto cassandra)\n",
        "    qtd_colaboradores_commits = !cd $REPOSITORIO_INICIAL && git log --pretty=format:\"%ae\" | sort -u | grep -v \"noreply.github.com\" | wc -l\n",
        "    # Data do primeiro commit do projeto cassandra\n",
        "    data_primeiro_commit =!cd $REPOSITORIO_INICIAL && git log --reverse --pretty=format:%ad --date=short | head -1\n",
        "    # Data do ultimo commit do projeto cassandra\n",
        "    data_ultimo_commit = !cd $REPOSITORIO_INICIAL && git log -1 --pretty=format:%ad --date=short\n",
        "\n",
        "    dict_info_repo = {\n",
        "      'nome':pasta_n_commit,\n",
        "      'qtd_arquivos':qtd_arquivos,\n",
        "      'qtd_commits':qtd_commits,\n",
        "      'tamanho_pasta_mb':tamanho_pasta_mb,\n",
        "      'qtd_colaboradores_commits':qtd_colaboradores_commits,\n",
        "      'data_primeiro_commit':data_primeiro_commit,\n",
        "      'data_ultimo_commit':data_ultimo_commit,\n",
        "    }\n",
        "\n",
        "    df_info_repo = pd.DataFrame(dict_info_repo)\n",
        "  except Exception as e:\n",
        "    print(f'Erro: {str(e)}')\n",
        "  return df_info_repo\n",
        "\n",
        "def gera_df_dados(pasta_n_commit):\n",
        "  lista_linguagens, lista_files, lista_blank, lista_comment, lista_code = list(), list(), list(), list(), list()\n",
        "  l_temp = []\n",
        "  vl_temp = []\n",
        "  os.environ['REPOSITORIO_INICIAL'] = pasta_n_commit\n",
        "  try:\n",
        "    # Detalha os tipos de arquivos que aparecem no repositório do cassandra\n",
        "    relacao_linguagens = !cd $REPOSITORIO_INICIAL && cloc .\n",
        "    #relacao_linguagens[checa_indice_language(relacao_linguagens):]\n",
        "    linguagens_encontradas = relacao_linguagens[(checa_indice_language(relacao_linguagens)+2):]\n",
        "    for linha in linguagens_encontradas:\n",
        "      elementos = linha.split(' ')\n",
        "      novos_elementos = []\n",
        "      linguagem_encontrada = []\n",
        "      valores_da_linguagem = []\n",
        "      for item in elementos:\n",
        "        if item != '':\n",
        "          novos_elementos.append(item)\n",
        "      linguagem_encontrada.append(novos_elementos[:-4])\n",
        "      valores_da_linguagem.append(novos_elementos[-4:])\n",
        "      l_temp = l_temp + linguagem_encontrada\n",
        "      vl_temp = vl_temp + valores_da_linguagem\n",
        "\n",
        "    l_temp = l_temp[:-3]\n",
        "    vl_temp = vl_temp[:-3]\n",
        "    for i,each in enumerate(vl_temp):\n",
        "      lista_files.append(each[0])\n",
        "      lista_blank.append(each[1]) \n",
        "      lista_comment.append(each[2]) \n",
        "      lista_code.append(each[3])  \n",
        "  except Exception as e:\n",
        "    print(f'Erro: {str(e)}')\n",
        "  try:\n",
        "    dict_dados_linguagens = {\n",
        "    'linguagens':l_temp, \n",
        "    'files':lista_files, \n",
        "    'blank':lista_blank,\n",
        "    'comment':lista_comment,\n",
        "    'code':lista_code\n",
        "    }\n",
        "    df_dados_linguagens = pd.DataFrame(dict_dados_linguagens)\n",
        "    df_dados_linguagens['files'] = df_dados_linguagens['files'].apply(lambda x: int(x))\n",
        "    df_dados_linguagens['blank'] = df_dados_linguagens['blank'].apply(lambda x: int(x))\t\n",
        "    df_dados_linguagens['comment'] = df_dados_linguagens['comment'].apply(lambda x: int(x))\t\n",
        "    df_dados_linguagens['code'] = df_dados_linguagens['code'].apply(lambda x: int(x))\n",
        "  except Exception as e2:\n",
        "    print(f'Erro: {str(e2)}')\n",
        "\n",
        "  return df_dados_linguagens\n",
        "\n",
        "def gera_df_dados_repositorios(df_info_repo, df_info_repo_cf):\n",
        "  df_repo = None\n",
        "  try:\n",
        "    l_cf = df_info_repo_cf.columns.tolist()\n",
        "    c_c1 = df_info_repo.iloc[0].to_list()\n",
        "    c_cf = df_info_repo_cf.iloc[0].to_list()\n",
        "\n",
        "    dict_repo= {\n",
        "        'descricao':l_cf,\n",
        "        'dados_c1':c_c1,\n",
        "        'dados_cf':c_cf\n",
        "    }\n",
        "    df_repo = pd.DataFrame(dict_repo)\n",
        "  except Exception as e:\n",
        "    print(f'Erro: {str(3)}')\n",
        "  return df_repo"
      ],
      "metadata": {
        "id": "tjiUyu61-CHQ"
      },
      "execution_count": null,
      "outputs": []
    },
    {
      "cell_type": "code",
      "source": [
        "instala_cloc()"
      ],
      "metadata": {
        "id": "ahI-tuba38Km",
        "colab": {
          "base_uri": "https://localhost:8080/"
        },
        "outputId": "145777e2-55f1-412e-ffb2-2d3cd107e63b"
      },
      "execution_count": null,
      "outputs": [
        {
          "output_type": "stream",
          "name": "stdout",
          "text": [
            "['', 'Reading package lists... 0%', '', 'Reading package lists... 0%', '', 'Reading package lists... 0%', '', 'Reading package lists... 4%', '', 'Reading package lists... 4%', '', 'Reading package lists... 4%', '', 'Reading package lists... 4%', '', 'Reading package lists... 45%', '', 'Reading package lists... 45%', '', 'Reading package lists... 46%', '', 'Reading package lists... 46%', '', 'Reading package lists... 56%', '', 'Reading package lists... 56%', '', 'Reading package lists... 64%', '', 'Reading package lists... 64%', '', 'Reading package lists... 67%', '', 'Reading package lists... 69%', '', 'Reading package lists... 69%', '', 'Reading package lists... 69%', '', 'Reading package lists... 69%', '', 'Reading package lists... 70%', '', 'Reading package lists... 70%', '', 'Reading package lists... 70%', '', 'Reading package lists... 70%', '', 'Reading package lists... 79%', '', 'Reading package lists... 79%', '', 'Reading package lists... 86%', '', 'Reading package lists... 86%', '', 'Reading package lists... 90%', '', 'Reading package lists... 90%', '', 'Reading package lists... 90%', '', 'Reading package lists... 90%', '', 'Reading package lists... 91%', '', 'Reading package lists... 91%', '', 'Reading package lists... 91%', '', 'Reading package lists... 91%', '', 'Reading package lists... 94%', '', 'Reading package lists... 94%', '', 'Reading package lists... 94%', '', 'Reading package lists... 94%', '', 'Reading package lists... 98%', '', 'Reading package lists... 98%', '', 'Reading package lists... 98%', '', 'Reading package lists... 98%', '', 'Reading package lists... 98%', '', 'Reading package lists... 98%', '', 'Reading package lists... 98%', '', 'Reading package lists... 98%', '', 'Reading package lists... Done', '', 'Building dependency tree... 0%', '', 'Building dependency tree... 0%', '', 'Building dependency tree... 50%', '', 'Building dependency tree... 50%', '', 'Building dependency tree       ', '', 'Reading state information... 0%', '', 'Reading state information... 0%', '', 'Reading state information... Done', 'cloc is already the newest version (1.82-1).', '0 upgraded, 0 newly installed, 0 to remove and 22 not upgraded.']\n"
          ]
        }
      ]
    },
    {
      "cell_type": "markdown",
      "source": [
        "# Clona repositorio principal"
      ],
      "metadata": {
        "id": "VDuESqsx_fQD"
      }
    },
    {
      "cell_type": "code",
      "execution_count": null,
      "metadata": {
        "colab": {
          "base_uri": "https://localhost:8080/"
        },
        "id": "wGFXdCFJmSUC",
        "outputId": "e5621ea5-0170-4479-fcfd-b31249fe20a8"
      },
      "outputs": [
        {
          "output_type": "stream",
          "name": "stdout",
          "text": [
            "Clonando o repositório https://github.com/apache/cassandra.git\n",
            "git clone https://github.com/apache/cassandra.git\n",
            "concluido com sucesso!\n"
          ]
        },
        {
          "output_type": "execute_result",
          "data": {
            "text/plain": [
              "['4e3447ae1727a0d01c9d81792acbdeeef94d86d2']"
            ]
          },
          "metadata": {},
          "execution_count": 16
        }
      ],
      "source": [
        "clona_repositorio(url='https://github.com/apache/cassandra.git')\n",
        "print(f\"Primeiro commit do cassandra: {get_primeiro_commit('cassandra')}\")\n",
        "print(f\"Ultimo commit do cassandra: {get_ultimo_commit('cassandra')}\")"
      ]
    },
    {
      "cell_type": "markdown",
      "source": [
        "# Cria um repositorio apontando para o 1o. commit"
      ],
      "metadata": {
        "id": "TQ_FzdJ7_lsQ"
      }
    },
    {
      "cell_type": "code",
      "source": [
        "# Cria uma nova pasta para referenciar apenas os dados do 1o commit\n",
        "cria_pasta_n_commit(repositorio='cassandra', pasta_n_commit='cassandra_c1')\n",
        "# git checkout $( git rev-list --all | tail -n 1 )\n",
        "#!cd $REPOSITORIO_INICIAL && git checkout 1f91e99223b0d1b7ed8390400d4a06ac08e4aa85\n",
        "primeiro_commit = get_primeiro_commit(repositorio='cassandra')\n",
        "checkout_n_commit('cassandra_c1', primeiro_commit[0])\n",
        "df_info_repo = gera_df_info_repositorio(pasta_n_commit='cassandra_c1')\n",
        "df_dados_linguagens = gera_df_dados(pasta_n_commit='cassandra_c1')"
      ],
      "metadata": {
        "id": "M97GkZhs-HtY",
        "colab": {
          "base_uri": "https://localhost:8080/"
        },
        "outputId": "14b94eca-bc62-4053-8759-e78de00a651f"
      },
      "execution_count": null,
      "outputs": [
        {
          "output_type": "stream",
          "name": "stdout",
          "text": [
            "cd $REPOSITORIO_INICIAL && git checkout $PRIMEIRO_COMMIT\n",
            "Checkout do repositorio no commit 1f91e99223b0d1b7ed8390400d4a06ac08e4aa85 realizado com sucesso!\n"
          ]
        }
      ]
    },
    {
      "cell_type": "markdown",
      "source": [
        "# Cria um repositório apontando para o último commit"
      ],
      "metadata": {
        "id": "rxzlHPULBnOP"
      }
    },
    {
      "cell_type": "code",
      "source": [
        "# cria pasta o primeiro/ultimo commit\n",
        "cria_pasta_n_commit(repositorio='cassandra', pasta_n_commit='cassandra_cf')\n",
        "# pega o primero/ultimo commit\n",
        "ultimo_commit = get_ultimo_commit(repositorio='cassandra')\n",
        "# faz o checkout para primeiro/ultimo commit\n",
        "checkout_n_commit('cassandra_cf', ultimo_commit[0])\n",
        "# gera dataframe de info do repositorio\n",
        "df_info_repo_cf = gera_df_info_repositorio(pasta_n_commit='cassandra_cf')\n",
        "# gera dataframe de dados linguagem do repositorio\n",
        "df_dados_linguagens_cf = gera_df_dados(pasta_n_commit='cassandra_cf')"
      ],
      "metadata": {
        "id": "36gRJgB3HXCc",
        "colab": {
          "base_uri": "https://localhost:8080/"
        },
        "outputId": "8dd4672c-bb01-4bf6-e9a3-8e7a04a2277e"
      },
      "execution_count": null,
      "outputs": [
        {
          "output_type": "stream",
          "name": "stdout",
          "text": [
            "cd $REPOSITORIO_INICIAL && git checkout $PRIMEIRO_COMMIT\n",
            "Checkout do repositorio no commit 4e3447ae1727a0d01c9d81792acbdeeef94d86d2 realizado com sucesso!\n"
          ]
        }
      ]
    },
    {
      "cell_type": "markdown",
      "source": [
        "# Gera dataframe com os dados dos repositorios"
      ],
      "metadata": {
        "id": "5NJSnqydXIdL"
      }
    },
    {
      "cell_type": "code",
      "source": [
        "df_repo = gera_df_dados_repositorios(df_info_repo, df_info_repo_cf)\n",
        "df_repo"
      ],
      "metadata": {
        "colab": {
          "base_uri": "https://localhost:8080/",
          "height": 269
        },
        "id": "Zs_a3CfGW-8h",
        "outputId": "b644e04e-a097-4c12-b2b9-90b7cc106e7a"
      },
      "execution_count": null,
      "outputs": [
        {
          "output_type": "execute_result",
          "data": {
            "text/plain": [
              "                   descricao      dados_c1      dados_cf\n",
              "0                       nome  cassandra_c1  cassandra_cf\n",
              "1               qtd_arquivos           369          5186\n",
              "2                qtd_commits             1         28432\n",
              "3           tamanho_pasta_mb           407           486\n",
              "4  qtd_colaboradores_commits             1           578\n",
              "5       data_primeiro_commit    2009-03-02    2009-03-02\n",
              "6         data_ultimo_commit    2009-03-02    2023-03-10"
            ],
            "text/html": [
              "\n",
              "  <div id=\"df-48b6c919-5d32-4de1-a7a7-d4c53c6fe4f3\">\n",
              "    <div class=\"colab-df-container\">\n",
              "      <div>\n",
              "<style scoped>\n",
              "    .dataframe tbody tr th:only-of-type {\n",
              "        vertical-align: middle;\n",
              "    }\n",
              "\n",
              "    .dataframe tbody tr th {\n",
              "        vertical-align: top;\n",
              "    }\n",
              "\n",
              "    .dataframe thead th {\n",
              "        text-align: right;\n",
              "    }\n",
              "</style>\n",
              "<table border=\"1\" class=\"dataframe\">\n",
              "  <thead>\n",
              "    <tr style=\"text-align: right;\">\n",
              "      <th></th>\n",
              "      <th>descricao</th>\n",
              "      <th>dados_c1</th>\n",
              "      <th>dados_cf</th>\n",
              "    </tr>\n",
              "  </thead>\n",
              "  <tbody>\n",
              "    <tr>\n",
              "      <th>0</th>\n",
              "      <td>nome</td>\n",
              "      <td>cassandra_c1</td>\n",
              "      <td>cassandra_cf</td>\n",
              "    </tr>\n",
              "    <tr>\n",
              "      <th>1</th>\n",
              "      <td>qtd_arquivos</td>\n",
              "      <td>369</td>\n",
              "      <td>5186</td>\n",
              "    </tr>\n",
              "    <tr>\n",
              "      <th>2</th>\n",
              "      <td>qtd_commits</td>\n",
              "      <td>1</td>\n",
              "      <td>28432</td>\n",
              "    </tr>\n",
              "    <tr>\n",
              "      <th>3</th>\n",
              "      <td>tamanho_pasta_mb</td>\n",
              "      <td>407</td>\n",
              "      <td>486</td>\n",
              "    </tr>\n",
              "    <tr>\n",
              "      <th>4</th>\n",
              "      <td>qtd_colaboradores_commits</td>\n",
              "      <td>1</td>\n",
              "      <td>578</td>\n",
              "    </tr>\n",
              "    <tr>\n",
              "      <th>5</th>\n",
              "      <td>data_primeiro_commit</td>\n",
              "      <td>2009-03-02</td>\n",
              "      <td>2009-03-02</td>\n",
              "    </tr>\n",
              "    <tr>\n",
              "      <th>6</th>\n",
              "      <td>data_ultimo_commit</td>\n",
              "      <td>2009-03-02</td>\n",
              "      <td>2023-03-10</td>\n",
              "    </tr>\n",
              "  </tbody>\n",
              "</table>\n",
              "</div>\n",
              "      <button class=\"colab-df-convert\" onclick=\"convertToInteractive('df-48b6c919-5d32-4de1-a7a7-d4c53c6fe4f3')\"\n",
              "              title=\"Convert this dataframe to an interactive table.\"\n",
              "              style=\"display:none;\">\n",
              "        \n",
              "  <svg xmlns=\"http://www.w3.org/2000/svg\" height=\"24px\"viewBox=\"0 0 24 24\"\n",
              "       width=\"24px\">\n",
              "    <path d=\"M0 0h24v24H0V0z\" fill=\"none\"/>\n",
              "    <path d=\"M18.56 5.44l.94 2.06.94-2.06 2.06-.94-2.06-.94-.94-2.06-.94 2.06-2.06.94zm-11 1L8.5 8.5l.94-2.06 2.06-.94-2.06-.94L8.5 2.5l-.94 2.06-2.06.94zm10 10l.94 2.06.94-2.06 2.06-.94-2.06-.94-.94-2.06-.94 2.06-2.06.94z\"/><path d=\"M17.41 7.96l-1.37-1.37c-.4-.4-.92-.59-1.43-.59-.52 0-1.04.2-1.43.59L10.3 9.45l-7.72 7.72c-.78.78-.78 2.05 0 2.83L4 21.41c.39.39.9.59 1.41.59.51 0 1.02-.2 1.41-.59l7.78-7.78 2.81-2.81c.8-.78.8-2.07 0-2.86zM5.41 20L4 18.59l7.72-7.72 1.47 1.35L5.41 20z\"/>\n",
              "  </svg>\n",
              "      </button>\n",
              "      \n",
              "  <style>\n",
              "    .colab-df-container {\n",
              "      display:flex;\n",
              "      flex-wrap:wrap;\n",
              "      gap: 12px;\n",
              "    }\n",
              "\n",
              "    .colab-df-convert {\n",
              "      background-color: #E8F0FE;\n",
              "      border: none;\n",
              "      border-radius: 50%;\n",
              "      cursor: pointer;\n",
              "      display: none;\n",
              "      fill: #1967D2;\n",
              "      height: 32px;\n",
              "      padding: 0 0 0 0;\n",
              "      width: 32px;\n",
              "    }\n",
              "\n",
              "    .colab-df-convert:hover {\n",
              "      background-color: #E2EBFA;\n",
              "      box-shadow: 0px 1px 2px rgba(60, 64, 67, 0.3), 0px 1px 3px 1px rgba(60, 64, 67, 0.15);\n",
              "      fill: #174EA6;\n",
              "    }\n",
              "\n",
              "    [theme=dark] .colab-df-convert {\n",
              "      background-color: #3B4455;\n",
              "      fill: #D2E3FC;\n",
              "    }\n",
              "\n",
              "    [theme=dark] .colab-df-convert:hover {\n",
              "      background-color: #434B5C;\n",
              "      box-shadow: 0px 1px 3px 1px rgba(0, 0, 0, 0.15);\n",
              "      filter: drop-shadow(0px 1px 2px rgba(0, 0, 0, 0.3));\n",
              "      fill: #FFFFFF;\n",
              "    }\n",
              "  </style>\n",
              "\n",
              "      <script>\n",
              "        const buttonEl =\n",
              "          document.querySelector('#df-48b6c919-5d32-4de1-a7a7-d4c53c6fe4f3 button.colab-df-convert');\n",
              "        buttonEl.style.display =\n",
              "          google.colab.kernel.accessAllowed ? 'block' : 'none';\n",
              "\n",
              "        async function convertToInteractive(key) {\n",
              "          const element = document.querySelector('#df-48b6c919-5d32-4de1-a7a7-d4c53c6fe4f3');\n",
              "          const dataTable =\n",
              "            await google.colab.kernel.invokeFunction('convertToInteractive',\n",
              "                                                     [key], {});\n",
              "          if (!dataTable) return;\n",
              "\n",
              "          const docLinkHtml = 'Like what you see? Visit the ' +\n",
              "            '<a target=\"_blank\" href=https://colab.research.google.com/notebooks/data_table.ipynb>data table notebook</a>'\n",
              "            + ' to learn more about interactive tables.';\n",
              "          element.innerHTML = '';\n",
              "          dataTable['output_type'] = 'display_data';\n",
              "          await google.colab.output.renderOutput(dataTable, element);\n",
              "          const docLink = document.createElement('div');\n",
              "          docLink.innerHTML = docLinkHtml;\n",
              "          element.appendChild(docLink);\n",
              "        }\n",
              "      </script>\n",
              "    </div>\n",
              "  </div>\n",
              "  "
            ]
          },
          "metadata": {},
          "execution_count": 21
        }
      ]
    }
  ]
}
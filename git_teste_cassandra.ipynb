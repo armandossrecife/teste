{
  "nbformat": 4,
  "nbformat_minor": 0,
  "metadata": {
    "colab": {
      "provenance": [],
      "collapsed_sections": [
        "VDuESqsx_fQD",
        "rxzlHPULBnOP"
      ],
      "authorship_tag": "ABX9TyNABpRXNzVtQwYBI7b6bHIs",
      "include_colab_link": true
    },
    "kernelspec": {
      "name": "python3",
      "display_name": "Python 3"
    },
    "language_info": {
      "name": "python"
    }
  },
  "cells": [
    {
      "cell_type": "markdown",
      "metadata": {
        "id": "view-in-github",
        "colab_type": "text"
      },
      "source": [
        "<a href=\"https://colab.research.google.com/github/armandossrecife/teste/blob/main/git_teste_cassandra.ipynb\" target=\"_parent\"><img src=\"https://colab.research.google.com/assets/colab-badge.svg\" alt=\"Open In Colab\"/></a>"
      ]
    },
    {
      "cell_type": "markdown",
      "source": [
        "# Importa pacotes que serão usados"
      ],
      "metadata": {
        "id": "Px1MWwpl_Yvw"
      }
    },
    {
      "cell_type": "code",
      "source": [
        "import pandas as pd"
      ],
      "metadata": {
        "id": "iE-QNLFJM2e4"
      },
      "execution_count": 10,
      "outputs": []
    },
    {
      "cell_type": "code",
      "source": [
        "#!rm -rf cassandra"
      ],
      "metadata": {
        "id": "mRyuBHo_Oc3_"
      },
      "execution_count": 11,
      "outputs": []
    },
    {
      "cell_type": "code",
      "source": [
        "def checa_indice_language(relacao_linguagens):\n",
        "  indice=-1\n",
        "  for i, each in enumerate(relacao_linguagens):\n",
        "    if \"Language\" in each:\n",
        "      indice = i\n",
        "      break\n",
        "  return indice"
      ],
      "metadata": {
        "id": "tjiUyu61-CHQ"
      },
      "execution_count": 12,
      "outputs": []
    },
    {
      "cell_type": "code",
      "source": [
        "!sudo apt-get install cloc"
      ],
      "metadata": {
        "colab": {
          "base_uri": "https://localhost:8080/"
        },
        "id": "pVwktNCAF1IV",
        "outputId": "4829c88d-1b8d-4740-ea6e-700c765f11ac"
      },
      "execution_count": 13,
      "outputs": [
        {
          "output_type": "stream",
          "name": "stdout",
          "text": [
            "Reading package lists... Done\n",
            "Building dependency tree       \n",
            "Reading state information... Done\n",
            "cloc is already the newest version (1.82-1).\n",
            "0 upgraded, 0 newly installed, 0 to remove and 22 not upgraded.\n"
          ]
        }
      ]
    },
    {
      "cell_type": "markdown",
      "source": [
        "# Clona repositorio principal"
      ],
      "metadata": {
        "id": "VDuESqsx_fQD"
      }
    },
    {
      "cell_type": "code",
      "execution_count": 14,
      "metadata": {
        "colab": {
          "base_uri": "https://localhost:8080/"
        },
        "id": "wGFXdCFJmSUC",
        "outputId": "195c881e-1548-44b1-ad3d-c22c7a4f1915"
      },
      "outputs": [
        {
          "output_type": "stream",
          "name": "stdout",
          "text": [
            "Cloning into 'cassandra'...\n",
            "remote: Enumerating objects: 381213, done.\u001b[K\n",
            "remote: Counting objects: 100% (338/338), done.\u001b[K\n",
            "remote: Compressing objects: 100% (211/211), done.\u001b[K\n",
            "remote: Total 381213 (delta 87), reused 232 (delta 55), pack-reused 380875\u001b[K\n",
            "Receiving objects: 100% (381213/381213), 381.87 MiB | 26.30 MiB/s, done.\n",
            "Resolving deltas: 100% (221864/221864), done.\n"
          ]
        }
      ],
      "source": [
        "# clona o repositorio\n",
        "!git clone https://github.com/apache/cassandra.git"
      ]
    },
    {
      "cell_type": "code",
      "source": [
        "# Primeiro commit \n",
        "!cd cassandra && git rev-list --all | tail -n 1"
      ],
      "metadata": {
        "id": "0JROXAAlA_iB",
        "outputId": "9362f708-51d0-4dfc-979e-1042309b2e48",
        "colab": {
          "base_uri": "https://localhost:8080/"
        }
      },
      "execution_count": 15,
      "outputs": [
        {
          "output_type": "stream",
          "name": "stdout",
          "text": [
            "1f91e99223b0d1b7ed8390400d4a06ac08e4aa85\n"
          ]
        }
      ]
    },
    {
      "cell_type": "code",
      "source": [
        "# Ultimo commit \n",
        "!cd cassandra && git rev-list --all | head -n 1"
      ],
      "metadata": {
        "id": "DQyNoqQRBSy8",
        "outputId": "a2d5d292-9bff-4df5-ba21-6ef8980953de",
        "colab": {
          "base_uri": "https://localhost:8080/"
        }
      },
      "execution_count": 16,
      "outputs": [
        {
          "output_type": "stream",
          "name": "stdout",
          "text": [
            "6d62d2f4f2efb144824a433c0f8048c8a0eeed22\n"
          ]
        }
      ]
    },
    {
      "cell_type": "markdown",
      "source": [
        "# Cria um repositorio apontando padra o 1o. commit"
      ],
      "metadata": {
        "id": "TQ_FzdJ7_lsQ"
      }
    },
    {
      "cell_type": "code",
      "source": [
        "# Cria uma nova pasta para referenciar apenas os dados do 1o commit\n",
        "!cp -R cassandra cassandra_c1"
      ],
      "metadata": {
        "id": "M97GkZhs-HtY"
      },
      "execution_count": 22,
      "outputs": []
    },
    {
      "cell_type": "code",
      "source": [
        "# git checkout $( git rev-list --all | tail -n 1 )\n",
        "!cd cassandra_c1 && git checkout 1f91e99223b0d1b7ed8390400d4a06ac08e4aa85"
      ],
      "metadata": {
        "id": "LjX6ZvBd_JvH",
        "outputId": "1dc693c0-80e0-4789-ec03-76a7541a5a0a",
        "colab": {
          "base_uri": "https://localhost:8080/"
        }
      },
      "execution_count": 23,
      "outputs": [
        {
          "output_type": "stream",
          "name": "stdout",
          "text": [
            "Note: switching to '1f91e99223b0d1b7ed8390400d4a06ac08e4aa85'.\n",
            "\n",
            "You are in 'detached HEAD' state. You can look around, make experimental\n",
            "changes and commit them, and you can discard any commits you make in this\n",
            "state without impacting any branches by switching back to a branch.\n",
            "\n",
            "If you want to create a new branch to retain commits you create, you may\n",
            "do so (now or later) by using -c with the switch command. Example:\n",
            "\n",
            "  git switch -c <new-branch-name>\n",
            "\n",
            "Or undo this operation with:\n",
            "\n",
            "  git switch -\n",
            "\n",
            "Turn off this advice by setting config variable advice.detachedHead to false\n",
            "\n",
            "HEAD is now at 1f91e99223 git-svn-id: https://svn.apache.org/repos/asf/incubator/cassandra/trunk@749218 13f79535-47bb-0310-9956-ffa450edef68\n"
          ]
        }
      ]
    },
    {
      "cell_type": "code",
      "source": [
        "!cd cassandra_c1 && git status"
      ],
      "metadata": {
        "id": "Wgzi1iNM_56B",
        "outputId": "10da007e-33ed-47e6-81ce-9880084788f0",
        "colab": {
          "base_uri": "https://localhost:8080/"
        }
      },
      "execution_count": 24,
      "outputs": [
        {
          "output_type": "stream",
          "name": "stdout",
          "text": [
            "\u001b[31mHEAD detached at \u001b[m1f91e99223\n",
            "nothing to commit, working tree clean\n"
          ]
        }
      ]
    },
    {
      "cell_type": "code",
      "source": [
        "# Quantidade de arquivos na pasta cassandra\n",
        "qtd_arquivos = !find cassandra_c1 -type f | wc -l\n",
        "\n",
        "# Quantidade de commits do repositorio cassandra\n",
        "qtd_commits = !cd cassandra_c1 && git log --oneline | grep -c .\n",
        "\n",
        "# Tamanho (MB) da pasta cassandra\n",
        "tamanho_pasta_mb = !du -hs --block-size=1M cassandra_c1 | cut -f1\n",
        "\n",
        "# Quantidade de colaboradores (devs que commitaram pelo menos uma vez no projeto cassandra)\n",
        "qtd_colaboradores_commits = !cd cassandra_c1 && git log --pretty=format:\"%ae\" | sort -u | grep -v \"noreply.github.com\" | wc -l\n",
        "\n",
        "# Data do primeiro commit do projeto cassandra\n",
        "data_primeiro_commit =!cd cassandra_c1 && git log --reverse --pretty=format:%ad --date=short | head -1\n",
        "\n",
        "# Data do ultimo commit do projeto cassandra\n",
        "data_ultimo_commit = !cd cassandra_c1 && git log -1 --pretty=format:%ad --date=short\n",
        "\n",
        "dict_info_repo = {\n",
        "  'nome':'cassandra_c1',\n",
        "\t'qtd_arquivos':qtd_arquivos,\n",
        "\t'qtd_commits':qtd_commits,\n",
        "\t'tamanho_pasta_mb':tamanho_pasta_mb,\n",
        "\t'qtd_colaboradores_commits':qtd_colaboradores_commits,\n",
        "\t'data_primeiro_commit':data_primeiro_commit,\n",
        "\t'data_ultimo_commit':data_ultimo_commit,\n",
        "}\n",
        "\n",
        "df_info_repo = pd.DataFrame(dict_info_repo)\n",
        "df_info_repo"
      ],
      "metadata": {
        "id": "w32CAAbJnFiP"
      },
      "execution_count": 25,
      "outputs": []
    },
    {
      "cell_type": "code",
      "source": [
        "# Detalha os tipos de arquivos que aparecem no repositório do cassandra\n",
        "relacao_linguagens = !cd cassandra_c1 && cloc .\n",
        "#relacao_linguagens[checa_indice_language(relacao_linguagens):]\n",
        "linguagens_encontradas = relacao_linguagens[(checa_indice_language(relacao_linguagens)+2):]\n",
        "\n",
        "lista_linguagens, lista_files, lista_blank, lista_comment, lista_code = list(), list(), list(), list(), list()\n",
        "\n",
        "l_temp = []\n",
        "vl_temp = []\n",
        "for linha in linguagens_encontradas:\n",
        "  elementos = linha.split(' ')\n",
        "  novos_elementos = []\n",
        "  linguagem_encontrada = []\n",
        "  valores_da_linguagem = []\n",
        "  for item in elementos:\n",
        "    if item != '':\n",
        "      novos_elementos.append(item)\n",
        "  linguagem_encontrada.append(novos_elementos[:-4])\n",
        "  valores_da_linguagem.append(novos_elementos[-4:])\n",
        "  #print(linguagem_encontrada, valores_da_linguagem)\n",
        "  l_temp = l_temp + linguagem_encontrada\n",
        "  vl_temp = vl_temp + valores_da_linguagem\n",
        "\n",
        "l_temp = l_temp[:-3]\n",
        "for i, each in enumerate(l_temp):\n",
        "  print(i,each)\n",
        "\n",
        "vl_temp = vl_temp[:-3]\n",
        "for i,each in enumerate(vl_temp):\n",
        "  print(i,each)\n",
        "  lista_files.append(each[0])\n",
        "  lista_blank.append(each[1]) \n",
        "  lista_comment.append(each[2]) \n",
        "  lista_code.append(each[3])"
      ],
      "metadata": {
        "id": "vdgBMXQv9T9s"
      },
      "execution_count": null,
      "outputs": []
    },
    {
      "cell_type": "code",
      "source": [
        "dict_dados_linguagens = {\n",
        "    'linguagens':l_temp, \n",
        "    'files':lista_files, \n",
        "    'blank':lista_blank,\n",
        "    'comment':lista_comment,\n",
        "    'code':lista_code\n",
        "}\n",
        "\n",
        "df_dados_linguagens = pd.DataFrame(dict_dados_linguagens)\n",
        "\n",
        "df_dados_linguagens['files'] = df_dados_linguagens['files'].apply(lambda x: int(x))\n",
        "df_dados_linguagens['blank'] = df_dados_linguagens['blank'].apply(lambda x: int(x))\t\n",
        "df_dados_linguagens['comment'] = df_dados_linguagens['comment'].apply(lambda x: int(x))\t\n",
        "df_dados_linguagens['code'] = df_dados_linguagens['code'].apply(lambda x: int(x))\n",
        "\n",
        "df_dados_linguagens"
      ],
      "metadata": {
        "colab": {
          "base_uri": "https://localhost:8080/",
          "height": 112
        },
        "id": "IszmyjRAIbFo",
        "outputId": "c6d28876-a34b-4981-b7b7-6bbff12138ae"
      },
      "execution_count": 33,
      "outputs": [
        {
          "output_type": "execute_result",
          "data": {
            "text/plain": [
              "         linguagens  files  blank  comment   code\n",
              "0            [Java]    313   8271    16341  49049\n",
              "1  [ANTLR, Grammar]      4    121      201    425"
            ],
            "text/html": [
              "\n",
              "  <div id=\"df-d8854b69-7bd8-4423-bbb7-4e251ff9eb1c\">\n",
              "    <div class=\"colab-df-container\">\n",
              "      <div>\n",
              "<style scoped>\n",
              "    .dataframe tbody tr th:only-of-type {\n",
              "        vertical-align: middle;\n",
              "    }\n",
              "\n",
              "    .dataframe tbody tr th {\n",
              "        vertical-align: top;\n",
              "    }\n",
              "\n",
              "    .dataframe thead th {\n",
              "        text-align: right;\n",
              "    }\n",
              "</style>\n",
              "<table border=\"1\" class=\"dataframe\">\n",
              "  <thead>\n",
              "    <tr style=\"text-align: right;\">\n",
              "      <th></th>\n",
              "      <th>linguagens</th>\n",
              "      <th>files</th>\n",
              "      <th>blank</th>\n",
              "      <th>comment</th>\n",
              "      <th>code</th>\n",
              "    </tr>\n",
              "  </thead>\n",
              "  <tbody>\n",
              "    <tr>\n",
              "      <th>0</th>\n",
              "      <td>[Java]</td>\n",
              "      <td>313</td>\n",
              "      <td>8271</td>\n",
              "      <td>16341</td>\n",
              "      <td>49049</td>\n",
              "    </tr>\n",
              "    <tr>\n",
              "      <th>1</th>\n",
              "      <td>[ANTLR, Grammar]</td>\n",
              "      <td>4</td>\n",
              "      <td>121</td>\n",
              "      <td>201</td>\n",
              "      <td>425</td>\n",
              "    </tr>\n",
              "  </tbody>\n",
              "</table>\n",
              "</div>\n",
              "      <button class=\"colab-df-convert\" onclick=\"convertToInteractive('df-d8854b69-7bd8-4423-bbb7-4e251ff9eb1c')\"\n",
              "              title=\"Convert this dataframe to an interactive table.\"\n",
              "              style=\"display:none;\">\n",
              "        \n",
              "  <svg xmlns=\"http://www.w3.org/2000/svg\" height=\"24px\"viewBox=\"0 0 24 24\"\n",
              "       width=\"24px\">\n",
              "    <path d=\"M0 0h24v24H0V0z\" fill=\"none\"/>\n",
              "    <path d=\"M18.56 5.44l.94 2.06.94-2.06 2.06-.94-2.06-.94-.94-2.06-.94 2.06-2.06.94zm-11 1L8.5 8.5l.94-2.06 2.06-.94-2.06-.94L8.5 2.5l-.94 2.06-2.06.94zm10 10l.94 2.06.94-2.06 2.06-.94-2.06-.94-.94-2.06-.94 2.06-2.06.94z\"/><path d=\"M17.41 7.96l-1.37-1.37c-.4-.4-.92-.59-1.43-.59-.52 0-1.04.2-1.43.59L10.3 9.45l-7.72 7.72c-.78.78-.78 2.05 0 2.83L4 21.41c.39.39.9.59 1.41.59.51 0 1.02-.2 1.41-.59l7.78-7.78 2.81-2.81c.8-.78.8-2.07 0-2.86zM5.41 20L4 18.59l7.72-7.72 1.47 1.35L5.41 20z\"/>\n",
              "  </svg>\n",
              "      </button>\n",
              "      \n",
              "  <style>\n",
              "    .colab-df-container {\n",
              "      display:flex;\n",
              "      flex-wrap:wrap;\n",
              "      gap: 12px;\n",
              "    }\n",
              "\n",
              "    .colab-df-convert {\n",
              "      background-color: #E8F0FE;\n",
              "      border: none;\n",
              "      border-radius: 50%;\n",
              "      cursor: pointer;\n",
              "      display: none;\n",
              "      fill: #1967D2;\n",
              "      height: 32px;\n",
              "      padding: 0 0 0 0;\n",
              "      width: 32px;\n",
              "    }\n",
              "\n",
              "    .colab-df-convert:hover {\n",
              "      background-color: #E2EBFA;\n",
              "      box-shadow: 0px 1px 2px rgba(60, 64, 67, 0.3), 0px 1px 3px 1px rgba(60, 64, 67, 0.15);\n",
              "      fill: #174EA6;\n",
              "    }\n",
              "\n",
              "    [theme=dark] .colab-df-convert {\n",
              "      background-color: #3B4455;\n",
              "      fill: #D2E3FC;\n",
              "    }\n",
              "\n",
              "    [theme=dark] .colab-df-convert:hover {\n",
              "      background-color: #434B5C;\n",
              "      box-shadow: 0px 1px 3px 1px rgba(0, 0, 0, 0.15);\n",
              "      filter: drop-shadow(0px 1px 2px rgba(0, 0, 0, 0.3));\n",
              "      fill: #FFFFFF;\n",
              "    }\n",
              "  </style>\n",
              "\n",
              "      <script>\n",
              "        const buttonEl =\n",
              "          document.querySelector('#df-d8854b69-7bd8-4423-bbb7-4e251ff9eb1c button.colab-df-convert');\n",
              "        buttonEl.style.display =\n",
              "          google.colab.kernel.accessAllowed ? 'block' : 'none';\n",
              "\n",
              "        async function convertToInteractive(key) {\n",
              "          const element = document.querySelector('#df-d8854b69-7bd8-4423-bbb7-4e251ff9eb1c');\n",
              "          const dataTable =\n",
              "            await google.colab.kernel.invokeFunction('convertToInteractive',\n",
              "                                                     [key], {});\n",
              "          if (!dataTable) return;\n",
              "\n",
              "          const docLinkHtml = 'Like what you see? Visit the ' +\n",
              "            '<a target=\"_blank\" href=https://colab.research.google.com/notebooks/data_table.ipynb>data table notebook</a>'\n",
              "            + ' to learn more about interactive tables.';\n",
              "          element.innerHTML = '';\n",
              "          dataTable['output_type'] = 'display_data';\n",
              "          await google.colab.output.renderOutput(dataTable, element);\n",
              "          const docLink = document.createElement('div');\n",
              "          docLink.innerHTML = docLinkHtml;\n",
              "          element.appendChild(docLink);\n",
              "        }\n",
              "      </script>\n",
              "    </div>\n",
              "  </div>\n",
              "  "
            ]
          },
          "metadata": {},
          "execution_count": 33
        }
      ]
    },
    {
      "cell_type": "markdown",
      "source": [
        "# Cria um repositório apontando para o último commit"
      ],
      "metadata": {
        "id": "rxzlHPULBnOP"
      }
    },
    {
      "cell_type": "code",
      "source": [
        "# Cria uma nova pasta para referenciar apenas os dados do 1o commit\n",
        "!cp -R cassandra cassandra_cf"
      ],
      "metadata": {
        "id": "IJoVpRIWBrEi"
      },
      "execution_count": 37,
      "outputs": []
    },
    {
      "cell_type": "code",
      "source": [
        "# git checkout $( git rev-list --all | head -n 1 )\n",
        "!cd cassandra_cf && git checkout 6d62d2f4f2efb144824a433c0f8048c8a0eeed22"
      ],
      "metadata": {
        "id": "fu9xQ4hWB1cv"
      },
      "execution_count": null,
      "outputs": []
    },
    {
      "cell_type": "code",
      "source": [
        "!cd cassandra_cf && git status"
      ],
      "metadata": {
        "id": "nU6o3XBJCIFM",
        "outputId": "b4eff846-cfdc-4133-e6b7-ae61d9c099f0",
        "colab": {
          "base_uri": "https://localhost:8080/"
        }
      },
      "execution_count": 39,
      "outputs": [
        {
          "output_type": "stream",
          "name": "stdout",
          "text": [
            "\u001b[31mHEAD detached at \u001b[m6d62d2f4f2\n",
            "nothing to commit, working tree clean\n"
          ]
        }
      ]
    },
    {
      "cell_type": "code",
      "source": [
        "# Quantidade de arquivos na pasta cassandra\n",
        "qtd_arquivos = !find cassandra_cf -type f | wc -l\n",
        "\n",
        "# Quantidade de commits do repositorio cassandra\n",
        "qtd_commits = !cd cassandra_cf && git log --oneline | grep -c .\n",
        "\n",
        "# Tamanho (MB) da pasta cassandra\n",
        "tamanho_pasta_mb = !du -hs --block-size=1M cassandra_cf | cut -f1\n",
        "\n",
        "# Quantidade de colaboradores (devs que commitaram pelo menos uma vez no projeto cassandra)\n",
        "qtd_colaboradores_commits = !cd cassandra_cf && git log --pretty=format:\"%ae\" | sort -u | grep -v \"noreply.github.com\" | wc -l\n",
        "\n",
        "# Data do primeiro commit do projeto cassandra\n",
        "data_primeiro_commit =!cd cassandra_cf && git log --reverse --pretty=format:%ad --date=short | head -1\n",
        "\n",
        "# Data do ultimo commit do projeto cassandra\n",
        "data_ultimo_commit = !cd cassandra_cf && git log -1 --pretty=format:%ad --date=short\n",
        "\n",
        "dict_info_repo_cf = {\n",
        "  'nome':'cassandra_cf',\n",
        "\t'qtd_arquivos':qtd_arquivos,\n",
        "\t'qtd_commits':qtd_commits,\n",
        "\t'tamanho_pasta_mb':tamanho_pasta_mb,\n",
        "\t'qtd_colaboradores_commits':qtd_colaboradores_commits,\n",
        "\t'data_primeiro_commit':data_primeiro_commit,\n",
        "\t'data_ultimo_commit':data_ultimo_commit,\n",
        "}\n",
        "\n",
        "df_info_repo_cf = pd.DataFrame(dict_info_repo_cf)\n",
        "df_info_repo_cf"
      ],
      "metadata": {
        "id": "FE2kjhSTCJbG",
        "colab": {
          "base_uri": "https://localhost:8080/",
          "height": 81
        },
        "outputId": "9ebf4e06-2d76-404b-9500-4795605031ee"
      },
      "execution_count": 40,
      "outputs": [
        {
          "output_type": "execute_result",
          "data": {
            "text/plain": [
              "           nome qtd_arquivos qtd_commits tamanho_pasta_mb  \\\n",
              "0  cassandra_cf         5186       28431              486   \n",
              "\n",
              "  qtd_colaboradores_commits data_primeiro_commit data_ultimo_commit  \n",
              "0                       578           2009-03-02         2023-03-10  "
            ],
            "text/html": [
              "\n",
              "  <div id=\"df-321e940b-fe10-4f75-be83-ab1ea70128d8\">\n",
              "    <div class=\"colab-df-container\">\n",
              "      <div>\n",
              "<style scoped>\n",
              "    .dataframe tbody tr th:only-of-type {\n",
              "        vertical-align: middle;\n",
              "    }\n",
              "\n",
              "    .dataframe tbody tr th {\n",
              "        vertical-align: top;\n",
              "    }\n",
              "\n",
              "    .dataframe thead th {\n",
              "        text-align: right;\n",
              "    }\n",
              "</style>\n",
              "<table border=\"1\" class=\"dataframe\">\n",
              "  <thead>\n",
              "    <tr style=\"text-align: right;\">\n",
              "      <th></th>\n",
              "      <th>nome</th>\n",
              "      <th>qtd_arquivos</th>\n",
              "      <th>qtd_commits</th>\n",
              "      <th>tamanho_pasta_mb</th>\n",
              "      <th>qtd_colaboradores_commits</th>\n",
              "      <th>data_primeiro_commit</th>\n",
              "      <th>data_ultimo_commit</th>\n",
              "    </tr>\n",
              "  </thead>\n",
              "  <tbody>\n",
              "    <tr>\n",
              "      <th>0</th>\n",
              "      <td>cassandra_cf</td>\n",
              "      <td>5186</td>\n",
              "      <td>28431</td>\n",
              "      <td>486</td>\n",
              "      <td>578</td>\n",
              "      <td>2009-03-02</td>\n",
              "      <td>2023-03-10</td>\n",
              "    </tr>\n",
              "  </tbody>\n",
              "</table>\n",
              "</div>\n",
              "      <button class=\"colab-df-convert\" onclick=\"convertToInteractive('df-321e940b-fe10-4f75-be83-ab1ea70128d8')\"\n",
              "              title=\"Convert this dataframe to an interactive table.\"\n",
              "              style=\"display:none;\">\n",
              "        \n",
              "  <svg xmlns=\"http://www.w3.org/2000/svg\" height=\"24px\"viewBox=\"0 0 24 24\"\n",
              "       width=\"24px\">\n",
              "    <path d=\"M0 0h24v24H0V0z\" fill=\"none\"/>\n",
              "    <path d=\"M18.56 5.44l.94 2.06.94-2.06 2.06-.94-2.06-.94-.94-2.06-.94 2.06-2.06.94zm-11 1L8.5 8.5l.94-2.06 2.06-.94-2.06-.94L8.5 2.5l-.94 2.06-2.06.94zm10 10l.94 2.06.94-2.06 2.06-.94-2.06-.94-.94-2.06-.94 2.06-2.06.94z\"/><path d=\"M17.41 7.96l-1.37-1.37c-.4-.4-.92-.59-1.43-.59-.52 0-1.04.2-1.43.59L10.3 9.45l-7.72 7.72c-.78.78-.78 2.05 0 2.83L4 21.41c.39.39.9.59 1.41.59.51 0 1.02-.2 1.41-.59l7.78-7.78 2.81-2.81c.8-.78.8-2.07 0-2.86zM5.41 20L4 18.59l7.72-7.72 1.47 1.35L5.41 20z\"/>\n",
              "  </svg>\n",
              "      </button>\n",
              "      \n",
              "  <style>\n",
              "    .colab-df-container {\n",
              "      display:flex;\n",
              "      flex-wrap:wrap;\n",
              "      gap: 12px;\n",
              "    }\n",
              "\n",
              "    .colab-df-convert {\n",
              "      background-color: #E8F0FE;\n",
              "      border: none;\n",
              "      border-radius: 50%;\n",
              "      cursor: pointer;\n",
              "      display: none;\n",
              "      fill: #1967D2;\n",
              "      height: 32px;\n",
              "      padding: 0 0 0 0;\n",
              "      width: 32px;\n",
              "    }\n",
              "\n",
              "    .colab-df-convert:hover {\n",
              "      background-color: #E2EBFA;\n",
              "      box-shadow: 0px 1px 2px rgba(60, 64, 67, 0.3), 0px 1px 3px 1px rgba(60, 64, 67, 0.15);\n",
              "      fill: #174EA6;\n",
              "    }\n",
              "\n",
              "    [theme=dark] .colab-df-convert {\n",
              "      background-color: #3B4455;\n",
              "      fill: #D2E3FC;\n",
              "    }\n",
              "\n",
              "    [theme=dark] .colab-df-convert:hover {\n",
              "      background-color: #434B5C;\n",
              "      box-shadow: 0px 1px 3px 1px rgba(0, 0, 0, 0.15);\n",
              "      filter: drop-shadow(0px 1px 2px rgba(0, 0, 0, 0.3));\n",
              "      fill: #FFFFFF;\n",
              "    }\n",
              "  </style>\n",
              "\n",
              "      <script>\n",
              "        const buttonEl =\n",
              "          document.querySelector('#df-321e940b-fe10-4f75-be83-ab1ea70128d8 button.colab-df-convert');\n",
              "        buttonEl.style.display =\n",
              "          google.colab.kernel.accessAllowed ? 'block' : 'none';\n",
              "\n",
              "        async function convertToInteractive(key) {\n",
              "          const element = document.querySelector('#df-321e940b-fe10-4f75-be83-ab1ea70128d8');\n",
              "          const dataTable =\n",
              "            await google.colab.kernel.invokeFunction('convertToInteractive',\n",
              "                                                     [key], {});\n",
              "          if (!dataTable) return;\n",
              "\n",
              "          const docLinkHtml = 'Like what you see? Visit the ' +\n",
              "            '<a target=\"_blank\" href=https://colab.research.google.com/notebooks/data_table.ipynb>data table notebook</a>'\n",
              "            + ' to learn more about interactive tables.';\n",
              "          element.innerHTML = '';\n",
              "          dataTable['output_type'] = 'display_data';\n",
              "          await google.colab.output.renderOutput(dataTable, element);\n",
              "          const docLink = document.createElement('div');\n",
              "          docLink.innerHTML = docLinkHtml;\n",
              "          element.appendChild(docLink);\n",
              "        }\n",
              "      </script>\n",
              "    </div>\n",
              "  </div>\n",
              "  "
            ]
          },
          "metadata": {},
          "execution_count": 40
        }
      ]
    },
    {
      "cell_type": "code",
      "source": [
        "# Detalha os tipos de arquivos que aparecem no repositório do cassandra\n",
        "relacao_linguagens = !cd cassandra_cf && cloc .\n",
        "#relacao_linguagens[checa_indice_language(relacao_linguagens):]\n",
        "linguagens_encontradas = relacao_linguagens[(checa_indice_language(relacao_linguagens)+2):]\n",
        "\n",
        "lista_linguagens, lista_files, lista_blank, lista_comment, lista_code = list(), list(), list(), list(), list()\n",
        "\n",
        "l_temp = []\n",
        "vl_temp = []\n",
        "for linha in linguagens_encontradas:\n",
        "  elementos = linha.split(' ')\n",
        "  novos_elementos = []\n",
        "  linguagem_encontrada = []\n",
        "  valores_da_linguagem = []\n",
        "  for item in elementos:\n",
        "    if item != '':\n",
        "      novos_elementos.append(item)\n",
        "  linguagem_encontrada.append(novos_elementos[:-4])\n",
        "  valores_da_linguagem.append(novos_elementos[-4:])\n",
        "  #print(linguagem_encontrada, valores_da_linguagem)\n",
        "  l_temp = l_temp + linguagem_encontrada\n",
        "  vl_temp = vl_temp + valores_da_linguagem\n",
        "\n",
        "l_temp = l_temp[:-3]\n",
        "for i, each in enumerate(l_temp):\n",
        "  print(i,each)\n",
        "\n",
        "vl_temp = vl_temp[:-3]\n",
        "for i,each in enumerate(vl_temp):\n",
        "  print(i,each)\n",
        "  lista_files.append(each[0])\n",
        "  lista_blank.append(each[1]) \n",
        "  lista_comment.append(each[2]) \n",
        "  lista_code.append(each[3])"
      ],
      "metadata": {
        "colab": {
          "base_uri": "https://localhost:8080/"
        },
        "id": "iX_jsjCkIzaJ",
        "outputId": "cc70bbd1-83e1-4d53-e7d4-acf93d455a8e"
      },
      "execution_count": 41,
      "outputs": [
        {
          "output_type": "stream",
          "name": "stdout",
          "text": [
            "0 ['Java']\n",
            "1 ['YAML']\n",
            "2 ['AsciiDoc']\n",
            "3 ['Python']\n",
            "4 ['XML']\n",
            "5 ['Markdown']\n",
            "6 ['SVG']\n",
            "7 ['Bourne', 'Shell']\n",
            "8 ['ANTLR', 'Grammar']\n",
            "9 ['Ant']\n",
            "10 ['Bourne', 'Again', 'Shell']\n",
            "11 ['Maven']\n",
            "12 ['make']\n",
            "13 ['CSS']\n",
            "14 ['DOS', 'Batch']\n",
            "15 ['JSON']\n",
            "16 ['HTML']\n",
            "17 ['diff']\n",
            "18 ['reStructuredText']\n",
            "0 ['3877', '116507', '146654', '613993']\n",
            "1 ['45', '767', '2563', '330789']\n",
            "2 ['109', '5592', '11', '20115']\n",
            "3 ['31', '2460', '3163', '8332']\n",
            "4 ['33', '201', '478', '3740']\n",
            "5 ['13', '773', '0', '3387']\n",
            "6 ['17', '197', '1399', '2937']\n",
            "7 ['82', '369', '987', '1970']\n",
            "8 ['3', '267', '288', '1897']\n",
            "9 ['3', '185', '233', '1787']\n",
            "10 ['2', '23', '71', '164']\n",
            "11 ['1', '25', '20', '108']\n",
            "12 ['2', '20', '20', '70']\n",
            "13 ['1', '14', '20', '69']\n",
            "14 ['2', '1', '0', '56']\n",
            "15 ['6', '0', '0', '52']\n",
            "16 ['1', '104', '519', '50']\n",
            "17 ['3', '16', '44', '40']\n",
            "18 ['2', '22', '31', '40']\n"
          ]
        }
      ]
    },
    {
      "cell_type": "code",
      "source": [
        "dict_dados_linguagens_cf = {\n",
        "    'linguagens':l_temp, \n",
        "    'files':lista_files, \n",
        "    'blank':lista_blank,\n",
        "    'comment':lista_comment,\n",
        "    'code':lista_code\n",
        "}\n",
        "\n",
        "df_dados_linguagens_cf = pd.DataFrame(dict_dados_linguagens_cf)\n",
        "\n",
        "df_dados_linguagens_cf['files'] = df_dados_linguagens_cf['files'].apply(lambda x: int(x))\n",
        "df_dados_linguagens_cf['blank'] = df_dados_linguagens_cf['blank'].apply(lambda x: int(x))\t\n",
        "df_dados_linguagens_cf['comment'] = df_dados_linguagens_cf['comment'].apply(lambda x: int(x))\t\n",
        "df_dados_linguagens_cf['code'] = df_dados_linguagens_cf['code'].apply(lambda x: int(x))\n",
        "\n",
        "df_dados_linguagens_cf"
      ],
      "metadata": {
        "colab": {
          "base_uri": "https://localhost:8080/",
          "height": 645
        },
        "id": "dPPEWHFJI9LK",
        "outputId": "6fca4cf5-e9be-43c8-d7fb-a167bf4c7a48"
      },
      "execution_count": 42,
      "outputs": [
        {
          "output_type": "execute_result",
          "data": {
            "text/plain": [
              "                linguagens  files   blank  comment    code\n",
              "0                   [Java]   3877  116507   146654  613993\n",
              "1                   [YAML]     45     767     2563  330789\n",
              "2               [AsciiDoc]    109    5592       11   20115\n",
              "3                 [Python]     31    2460     3163    8332\n",
              "4                    [XML]     33     201      478    3740\n",
              "5               [Markdown]     13     773        0    3387\n",
              "6                    [SVG]     17     197     1399    2937\n",
              "7          [Bourne, Shell]     82     369      987    1970\n",
              "8         [ANTLR, Grammar]      3     267      288    1897\n",
              "9                    [Ant]      3     185      233    1787\n",
              "10  [Bourne, Again, Shell]      2      23       71     164\n",
              "11                 [Maven]      1      25       20     108\n",
              "12                  [make]      2      20       20      70\n",
              "13                   [CSS]      1      14       20      69\n",
              "14            [DOS, Batch]      2       1        0      56\n",
              "15                  [JSON]      6       0        0      52\n",
              "16                  [HTML]      1     104      519      50\n",
              "17                  [diff]      3      16       44      40\n",
              "18      [reStructuredText]      2      22       31      40"
            ],
            "text/html": [
              "\n",
              "  <div id=\"df-ecda83f8-e234-46ba-a141-bfd29085a555\">\n",
              "    <div class=\"colab-df-container\">\n",
              "      <div>\n",
              "<style scoped>\n",
              "    .dataframe tbody tr th:only-of-type {\n",
              "        vertical-align: middle;\n",
              "    }\n",
              "\n",
              "    .dataframe tbody tr th {\n",
              "        vertical-align: top;\n",
              "    }\n",
              "\n",
              "    .dataframe thead th {\n",
              "        text-align: right;\n",
              "    }\n",
              "</style>\n",
              "<table border=\"1\" class=\"dataframe\">\n",
              "  <thead>\n",
              "    <tr style=\"text-align: right;\">\n",
              "      <th></th>\n",
              "      <th>linguagens</th>\n",
              "      <th>files</th>\n",
              "      <th>blank</th>\n",
              "      <th>comment</th>\n",
              "      <th>code</th>\n",
              "    </tr>\n",
              "  </thead>\n",
              "  <tbody>\n",
              "    <tr>\n",
              "      <th>0</th>\n",
              "      <td>[Java]</td>\n",
              "      <td>3877</td>\n",
              "      <td>116507</td>\n",
              "      <td>146654</td>\n",
              "      <td>613993</td>\n",
              "    </tr>\n",
              "    <tr>\n",
              "      <th>1</th>\n",
              "      <td>[YAML]</td>\n",
              "      <td>45</td>\n",
              "      <td>767</td>\n",
              "      <td>2563</td>\n",
              "      <td>330789</td>\n",
              "    </tr>\n",
              "    <tr>\n",
              "      <th>2</th>\n",
              "      <td>[AsciiDoc]</td>\n",
              "      <td>109</td>\n",
              "      <td>5592</td>\n",
              "      <td>11</td>\n",
              "      <td>20115</td>\n",
              "    </tr>\n",
              "    <tr>\n",
              "      <th>3</th>\n",
              "      <td>[Python]</td>\n",
              "      <td>31</td>\n",
              "      <td>2460</td>\n",
              "      <td>3163</td>\n",
              "      <td>8332</td>\n",
              "    </tr>\n",
              "    <tr>\n",
              "      <th>4</th>\n",
              "      <td>[XML]</td>\n",
              "      <td>33</td>\n",
              "      <td>201</td>\n",
              "      <td>478</td>\n",
              "      <td>3740</td>\n",
              "    </tr>\n",
              "    <tr>\n",
              "      <th>5</th>\n",
              "      <td>[Markdown]</td>\n",
              "      <td>13</td>\n",
              "      <td>773</td>\n",
              "      <td>0</td>\n",
              "      <td>3387</td>\n",
              "    </tr>\n",
              "    <tr>\n",
              "      <th>6</th>\n",
              "      <td>[SVG]</td>\n",
              "      <td>17</td>\n",
              "      <td>197</td>\n",
              "      <td>1399</td>\n",
              "      <td>2937</td>\n",
              "    </tr>\n",
              "    <tr>\n",
              "      <th>7</th>\n",
              "      <td>[Bourne, Shell]</td>\n",
              "      <td>82</td>\n",
              "      <td>369</td>\n",
              "      <td>987</td>\n",
              "      <td>1970</td>\n",
              "    </tr>\n",
              "    <tr>\n",
              "      <th>8</th>\n",
              "      <td>[ANTLR, Grammar]</td>\n",
              "      <td>3</td>\n",
              "      <td>267</td>\n",
              "      <td>288</td>\n",
              "      <td>1897</td>\n",
              "    </tr>\n",
              "    <tr>\n",
              "      <th>9</th>\n",
              "      <td>[Ant]</td>\n",
              "      <td>3</td>\n",
              "      <td>185</td>\n",
              "      <td>233</td>\n",
              "      <td>1787</td>\n",
              "    </tr>\n",
              "    <tr>\n",
              "      <th>10</th>\n",
              "      <td>[Bourne, Again, Shell]</td>\n",
              "      <td>2</td>\n",
              "      <td>23</td>\n",
              "      <td>71</td>\n",
              "      <td>164</td>\n",
              "    </tr>\n",
              "    <tr>\n",
              "      <th>11</th>\n",
              "      <td>[Maven]</td>\n",
              "      <td>1</td>\n",
              "      <td>25</td>\n",
              "      <td>20</td>\n",
              "      <td>108</td>\n",
              "    </tr>\n",
              "    <tr>\n",
              "      <th>12</th>\n",
              "      <td>[make]</td>\n",
              "      <td>2</td>\n",
              "      <td>20</td>\n",
              "      <td>20</td>\n",
              "      <td>70</td>\n",
              "    </tr>\n",
              "    <tr>\n",
              "      <th>13</th>\n",
              "      <td>[CSS]</td>\n",
              "      <td>1</td>\n",
              "      <td>14</td>\n",
              "      <td>20</td>\n",
              "      <td>69</td>\n",
              "    </tr>\n",
              "    <tr>\n",
              "      <th>14</th>\n",
              "      <td>[DOS, Batch]</td>\n",
              "      <td>2</td>\n",
              "      <td>1</td>\n",
              "      <td>0</td>\n",
              "      <td>56</td>\n",
              "    </tr>\n",
              "    <tr>\n",
              "      <th>15</th>\n",
              "      <td>[JSON]</td>\n",
              "      <td>6</td>\n",
              "      <td>0</td>\n",
              "      <td>0</td>\n",
              "      <td>52</td>\n",
              "    </tr>\n",
              "    <tr>\n",
              "      <th>16</th>\n",
              "      <td>[HTML]</td>\n",
              "      <td>1</td>\n",
              "      <td>104</td>\n",
              "      <td>519</td>\n",
              "      <td>50</td>\n",
              "    </tr>\n",
              "    <tr>\n",
              "      <th>17</th>\n",
              "      <td>[diff]</td>\n",
              "      <td>3</td>\n",
              "      <td>16</td>\n",
              "      <td>44</td>\n",
              "      <td>40</td>\n",
              "    </tr>\n",
              "    <tr>\n",
              "      <th>18</th>\n",
              "      <td>[reStructuredText]</td>\n",
              "      <td>2</td>\n",
              "      <td>22</td>\n",
              "      <td>31</td>\n",
              "      <td>40</td>\n",
              "    </tr>\n",
              "  </tbody>\n",
              "</table>\n",
              "</div>\n",
              "      <button class=\"colab-df-convert\" onclick=\"convertToInteractive('df-ecda83f8-e234-46ba-a141-bfd29085a555')\"\n",
              "              title=\"Convert this dataframe to an interactive table.\"\n",
              "              style=\"display:none;\">\n",
              "        \n",
              "  <svg xmlns=\"http://www.w3.org/2000/svg\" height=\"24px\"viewBox=\"0 0 24 24\"\n",
              "       width=\"24px\">\n",
              "    <path d=\"M0 0h24v24H0V0z\" fill=\"none\"/>\n",
              "    <path d=\"M18.56 5.44l.94 2.06.94-2.06 2.06-.94-2.06-.94-.94-2.06-.94 2.06-2.06.94zm-11 1L8.5 8.5l.94-2.06 2.06-.94-2.06-.94L8.5 2.5l-.94 2.06-2.06.94zm10 10l.94 2.06.94-2.06 2.06-.94-2.06-.94-.94-2.06-.94 2.06-2.06.94z\"/><path d=\"M17.41 7.96l-1.37-1.37c-.4-.4-.92-.59-1.43-.59-.52 0-1.04.2-1.43.59L10.3 9.45l-7.72 7.72c-.78.78-.78 2.05 0 2.83L4 21.41c.39.39.9.59 1.41.59.51 0 1.02-.2 1.41-.59l7.78-7.78 2.81-2.81c.8-.78.8-2.07 0-2.86zM5.41 20L4 18.59l7.72-7.72 1.47 1.35L5.41 20z\"/>\n",
              "  </svg>\n",
              "      </button>\n",
              "      \n",
              "  <style>\n",
              "    .colab-df-container {\n",
              "      display:flex;\n",
              "      flex-wrap:wrap;\n",
              "      gap: 12px;\n",
              "    }\n",
              "\n",
              "    .colab-df-convert {\n",
              "      background-color: #E8F0FE;\n",
              "      border: none;\n",
              "      border-radius: 50%;\n",
              "      cursor: pointer;\n",
              "      display: none;\n",
              "      fill: #1967D2;\n",
              "      height: 32px;\n",
              "      padding: 0 0 0 0;\n",
              "      width: 32px;\n",
              "    }\n",
              "\n",
              "    .colab-df-convert:hover {\n",
              "      background-color: #E2EBFA;\n",
              "      box-shadow: 0px 1px 2px rgba(60, 64, 67, 0.3), 0px 1px 3px 1px rgba(60, 64, 67, 0.15);\n",
              "      fill: #174EA6;\n",
              "    }\n",
              "\n",
              "    [theme=dark] .colab-df-convert {\n",
              "      background-color: #3B4455;\n",
              "      fill: #D2E3FC;\n",
              "    }\n",
              "\n",
              "    [theme=dark] .colab-df-convert:hover {\n",
              "      background-color: #434B5C;\n",
              "      box-shadow: 0px 1px 3px 1px rgba(0, 0, 0, 0.15);\n",
              "      filter: drop-shadow(0px 1px 2px rgba(0, 0, 0, 0.3));\n",
              "      fill: #FFFFFF;\n",
              "    }\n",
              "  </style>\n",
              "\n",
              "      <script>\n",
              "        const buttonEl =\n",
              "          document.querySelector('#df-ecda83f8-e234-46ba-a141-bfd29085a555 button.colab-df-convert');\n",
              "        buttonEl.style.display =\n",
              "          google.colab.kernel.accessAllowed ? 'block' : 'none';\n",
              "\n",
              "        async function convertToInteractive(key) {\n",
              "          const element = document.querySelector('#df-ecda83f8-e234-46ba-a141-bfd29085a555');\n",
              "          const dataTable =\n",
              "            await google.colab.kernel.invokeFunction('convertToInteractive',\n",
              "                                                     [key], {});\n",
              "          if (!dataTable) return;\n",
              "\n",
              "          const docLinkHtml = 'Like what you see? Visit the ' +\n",
              "            '<a target=\"_blank\" href=https://colab.research.google.com/notebooks/data_table.ipynb>data table notebook</a>'\n",
              "            + ' to learn more about interactive tables.';\n",
              "          element.innerHTML = '';\n",
              "          dataTable['output_type'] = 'display_data';\n",
              "          await google.colab.output.renderOutput(dataTable, element);\n",
              "          const docLink = document.createElement('div');\n",
              "          docLink.innerHTML = docLinkHtml;\n",
              "          element.appendChild(docLink);\n",
              "        }\n",
              "      </script>\n",
              "    </div>\n",
              "  </div>\n",
              "  "
            ]
          },
          "metadata": {},
          "execution_count": 42
        }
      ]
    },
    {
      "cell_type": "code",
      "source": [
        "l_cf = df_info_repo_cf.columns.tolist()\n",
        "c_c1 = df_info_repo.iloc[0].to_list()\n",
        "c_cf = df_info_repo_cf.iloc[0].to_list()\n",
        "\n",
        "dict_repo= {\n",
        "    'descricao':l_cf,\n",
        "    'dados_c1':c_c1,\n",
        "    'dados_cf':c_cf\n",
        "}\n",
        "\n",
        "df_repo = pd.DataFrame(dict_repo)\n",
        "df_repo"
      ],
      "metadata": {
        "id": "16zDVyENC1WQ",
        "outputId": "a906be3f-b48c-4ba8-ffc5-5c7db3ab5aa4",
        "colab": {
          "base_uri": "https://localhost:8080/",
          "height": 269
        }
      },
      "execution_count": 43,
      "outputs": [
        {
          "output_type": "execute_result",
          "data": {
            "text/plain": [
              "                   descricao      dados_c1      dados_cf\n",
              "0                       nome  cassandra_c1  cassandra_cf\n",
              "1               qtd_arquivos           369          5186\n",
              "2                qtd_commits             1         28431\n",
              "3           tamanho_pasta_mb           407           486\n",
              "4  qtd_colaboradores_commits             1           578\n",
              "5       data_primeiro_commit    2009-03-02    2009-03-02\n",
              "6         data_ultimo_commit    2009-03-02    2023-03-10"
            ],
            "text/html": [
              "\n",
              "  <div id=\"df-35ab1b73-289a-49f5-b5a3-7feaffb15f1b\">\n",
              "    <div class=\"colab-df-container\">\n",
              "      <div>\n",
              "<style scoped>\n",
              "    .dataframe tbody tr th:only-of-type {\n",
              "        vertical-align: middle;\n",
              "    }\n",
              "\n",
              "    .dataframe tbody tr th {\n",
              "        vertical-align: top;\n",
              "    }\n",
              "\n",
              "    .dataframe thead th {\n",
              "        text-align: right;\n",
              "    }\n",
              "</style>\n",
              "<table border=\"1\" class=\"dataframe\">\n",
              "  <thead>\n",
              "    <tr style=\"text-align: right;\">\n",
              "      <th></th>\n",
              "      <th>descricao</th>\n",
              "      <th>dados_c1</th>\n",
              "      <th>dados_cf</th>\n",
              "    </tr>\n",
              "  </thead>\n",
              "  <tbody>\n",
              "    <tr>\n",
              "      <th>0</th>\n",
              "      <td>nome</td>\n",
              "      <td>cassandra_c1</td>\n",
              "      <td>cassandra_cf</td>\n",
              "    </tr>\n",
              "    <tr>\n",
              "      <th>1</th>\n",
              "      <td>qtd_arquivos</td>\n",
              "      <td>369</td>\n",
              "      <td>5186</td>\n",
              "    </tr>\n",
              "    <tr>\n",
              "      <th>2</th>\n",
              "      <td>qtd_commits</td>\n",
              "      <td>1</td>\n",
              "      <td>28431</td>\n",
              "    </tr>\n",
              "    <tr>\n",
              "      <th>3</th>\n",
              "      <td>tamanho_pasta_mb</td>\n",
              "      <td>407</td>\n",
              "      <td>486</td>\n",
              "    </tr>\n",
              "    <tr>\n",
              "      <th>4</th>\n",
              "      <td>qtd_colaboradores_commits</td>\n",
              "      <td>1</td>\n",
              "      <td>578</td>\n",
              "    </tr>\n",
              "    <tr>\n",
              "      <th>5</th>\n",
              "      <td>data_primeiro_commit</td>\n",
              "      <td>2009-03-02</td>\n",
              "      <td>2009-03-02</td>\n",
              "    </tr>\n",
              "    <tr>\n",
              "      <th>6</th>\n",
              "      <td>data_ultimo_commit</td>\n",
              "      <td>2009-03-02</td>\n",
              "      <td>2023-03-10</td>\n",
              "    </tr>\n",
              "  </tbody>\n",
              "</table>\n",
              "</div>\n",
              "      <button class=\"colab-df-convert\" onclick=\"convertToInteractive('df-35ab1b73-289a-49f5-b5a3-7feaffb15f1b')\"\n",
              "              title=\"Convert this dataframe to an interactive table.\"\n",
              "              style=\"display:none;\">\n",
              "        \n",
              "  <svg xmlns=\"http://www.w3.org/2000/svg\" height=\"24px\"viewBox=\"0 0 24 24\"\n",
              "       width=\"24px\">\n",
              "    <path d=\"M0 0h24v24H0V0z\" fill=\"none\"/>\n",
              "    <path d=\"M18.56 5.44l.94 2.06.94-2.06 2.06-.94-2.06-.94-.94-2.06-.94 2.06-2.06.94zm-11 1L8.5 8.5l.94-2.06 2.06-.94-2.06-.94L8.5 2.5l-.94 2.06-2.06.94zm10 10l.94 2.06.94-2.06 2.06-.94-2.06-.94-.94-2.06-.94 2.06-2.06.94z\"/><path d=\"M17.41 7.96l-1.37-1.37c-.4-.4-.92-.59-1.43-.59-.52 0-1.04.2-1.43.59L10.3 9.45l-7.72 7.72c-.78.78-.78 2.05 0 2.83L4 21.41c.39.39.9.59 1.41.59.51 0 1.02-.2 1.41-.59l7.78-7.78 2.81-2.81c.8-.78.8-2.07 0-2.86zM5.41 20L4 18.59l7.72-7.72 1.47 1.35L5.41 20z\"/>\n",
              "  </svg>\n",
              "      </button>\n",
              "      \n",
              "  <style>\n",
              "    .colab-df-container {\n",
              "      display:flex;\n",
              "      flex-wrap:wrap;\n",
              "      gap: 12px;\n",
              "    }\n",
              "\n",
              "    .colab-df-convert {\n",
              "      background-color: #E8F0FE;\n",
              "      border: none;\n",
              "      border-radius: 50%;\n",
              "      cursor: pointer;\n",
              "      display: none;\n",
              "      fill: #1967D2;\n",
              "      height: 32px;\n",
              "      padding: 0 0 0 0;\n",
              "      width: 32px;\n",
              "    }\n",
              "\n",
              "    .colab-df-convert:hover {\n",
              "      background-color: #E2EBFA;\n",
              "      box-shadow: 0px 1px 2px rgba(60, 64, 67, 0.3), 0px 1px 3px 1px rgba(60, 64, 67, 0.15);\n",
              "      fill: #174EA6;\n",
              "    }\n",
              "\n",
              "    [theme=dark] .colab-df-convert {\n",
              "      background-color: #3B4455;\n",
              "      fill: #D2E3FC;\n",
              "    }\n",
              "\n",
              "    [theme=dark] .colab-df-convert:hover {\n",
              "      background-color: #434B5C;\n",
              "      box-shadow: 0px 1px 3px 1px rgba(0, 0, 0, 0.15);\n",
              "      filter: drop-shadow(0px 1px 2px rgba(0, 0, 0, 0.3));\n",
              "      fill: #FFFFFF;\n",
              "    }\n",
              "  </style>\n",
              "\n",
              "      <script>\n",
              "        const buttonEl =\n",
              "          document.querySelector('#df-35ab1b73-289a-49f5-b5a3-7feaffb15f1b button.colab-df-convert');\n",
              "        buttonEl.style.display =\n",
              "          google.colab.kernel.accessAllowed ? 'block' : 'none';\n",
              "\n",
              "        async function convertToInteractive(key) {\n",
              "          const element = document.querySelector('#df-35ab1b73-289a-49f5-b5a3-7feaffb15f1b');\n",
              "          const dataTable =\n",
              "            await google.colab.kernel.invokeFunction('convertToInteractive',\n",
              "                                                     [key], {});\n",
              "          if (!dataTable) return;\n",
              "\n",
              "          const docLinkHtml = 'Like what you see? Visit the ' +\n",
              "            '<a target=\"_blank\" href=https://colab.research.google.com/notebooks/data_table.ipynb>data table notebook</a>'\n",
              "            + ' to learn more about interactive tables.';\n",
              "          element.innerHTML = '';\n",
              "          dataTable['output_type'] = 'display_data';\n",
              "          await google.colab.output.renderOutput(dataTable, element);\n",
              "          const docLink = document.createElement('div');\n",
              "          docLink.innerHTML = docLinkHtml;\n",
              "          element.appendChild(docLink);\n",
              "        }\n",
              "      </script>\n",
              "    </div>\n",
              "  </div>\n",
              "  "
            ]
          },
          "metadata": {},
          "execution_count": 43
        }
      ]
    }
  ]
}